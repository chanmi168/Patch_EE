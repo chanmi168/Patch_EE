{
 "cells": [
  {
   "cell_type": "markdown",
   "metadata": {},
   "source": [
    "# this notebook parse the **patch** data"
   ]
  },
  {
   "cell_type": "code",
   "execution_count": 1,
   "metadata": {},
   "outputs": [],
   "source": [
    "import numpy as np\n",
    "import argparse\n",
    "\n",
    "from scipy.interpolate import interp1d\n",
    "\n",
    "import json\n",
    "\n",
    "import os\n",
    "import math\n",
    "from math import sin\n",
    "\n",
    "import matplotlib\n",
    "import matplotlib.pyplot as plt\n",
    "plt.style.use('seaborn-white')\n",
    "matplotlib.rc( 'savefig', facecolor = 'white' )\n",
    "from matplotlib import pyplot\n",
    "%matplotlib inline\n",
    "\n",
    "import plotly.graph_objects as go\n",
    "from plotly.subplots import make_subplots\n",
    "\n",
    "import plotly.offline as pyo\n",
    "import plotly.graph_objs as go\n",
    "\n",
    "i_seed = 0\n",
    "\n",
    "import sys\n",
    "sys.path.append('../') # add this line so Data and data are visible in this file\n",
    "sys.path.append('../../') # add this line so Data and data are visible in this file\n",
    "sys.path.append('../PatchWand/') # add this line so Data and data are visible in this file\n",
    "\n",
    "# from PatchWand import *\n",
    "from filters import *\n",
    "from setting import *\n",
    "from plotting_tools import *\n",
    "from stage1_patch import *\n",
    "from PatchParser import *\n",
    "from TimeStampReader import *\n",
    "\n",
    "\n",
    "from importlib import reload\n",
    "%load_ext autoreload\n",
    "%autoreload 2"
   ]
  },
  {
   "cell_type": "code",
   "execution_count": 2,
   "metadata": {},
   "outputs": [
    {
     "name": "stdout",
     "output_type": "stream",
     "text": [
      "Namespace(input_folder='../../data/raw/', output_folder='../../data/stage1/', subject_id='sub107')\n"
     ]
    }
   ],
   "source": [
    "parser = argparse.ArgumentParser(description='SpO2_estimate')\n",
    "parser.add_argument('--input_folder', metavar='input_folder', help='input_folder',\n",
    "                    default='../')\n",
    "parser.add_argument('--output_folder', metavar='output_folder', help='output_folder',\n",
    "                    default='../')\n",
    "parser.add_argument('--subject_id', metavar='subject_id', help='subject_id',\n",
    "                    default='sub101')\n",
    "\n",
    "# checklist 3: comment first line, uncomment second line\n",
    "args = parser.parse_args(['--input_folder', '../../data/raw/', \n",
    "                          '--output_folder', '../../data/stage1/',\n",
    "                          '--subject_id', 'sub107',\n",
    "                         ])\n",
    "# args = parser.parse_args()\n",
    "print(args)"
   ]
  },
  {
   "cell_type": "code",
   "execution_count": null,
   "metadata": {},
   "outputs": [],
   "source": []
  },
  {
   "cell_type": "code",
   "execution_count": 3,
   "metadata": {},
   "outputs": [],
   "source": [
    "inputdir = args.input_folder\n",
    "outputdir = args.output_folder\n",
    "subject_id = args.subject_id\n",
    "# position = args.position\n",
    "\n",
    "if not os.path.exists(outputdir):\n",
    "    os.makedirs(outputdir)\n",
    "    \n",
    "outputdir_sub = outputdir+subject_id+'/patch/'\n",
    "\n",
    "if not os.path.exists(outputdir_sub):\n",
    "    os.makedirs(outputdir_sub)"
   ]
  },
  {
   "cell_type": "code",
   "execution_count": null,
   "metadata": {},
   "outputs": [],
   "source": []
  },
  {
   "cell_type": "markdown",
   "metadata": {},
   "source": [
    "# read data from sternum, clavicle, and ribcage"
   ]
  },
  {
   "cell_type": "code",
   "execution_count": 4,
   "metadata": {},
   "outputs": [
    {
     "name": "stdout",
     "output_type": "stream",
     "text": [
      "HP_W50.1-1-20220105_143234.mat\n",
      "HP_W50.1-0-20220105_143234.mat\n"
     ]
    }
   ],
   "source": [
    "raw_dict = {}\n",
    "\n",
    "for sub_file in os.listdir(inputdir):\n",
    "\n",
    "    if 'sub' not in sub_file:\n",
    "        continue\n",
    "\n",
    "    if sub_file.split('_')[0] != subject_id:\n",
    "        continue\n",
    "    for data_file in os.listdir(inputdir+sub_file):\n",
    "        if '.mat' not in data_file:\n",
    "            continue\n",
    "        print(data_file)\n",
    "        fileName = inputdir+sub_file+'/'+data_file\n",
    "        \n",
    "        if data_file!='HP_W50.1-1-20220105_143234.mat':\n",
    "            continue\n",
    "        raw_dict = scipy.io.loadmat(fileName)\n",
    "\n",
    "# #         if position in data_file:\n",
    "# #         if position in list_positions: \n",
    "#         for position in list_positions:\n",
    "#             if position in data_file:\n",
    "#                 print('\\n', position)\n",
    "#                 fileName = inputdir+sub_file+'/'+data_file\n",
    "#                 print(fileName)\n",
    "\n",
    "#                 file = open(fileName, mode='rb')\n",
    "#                 fileContent = file.read()\n",
    "#                 raw_dict[position] = parse(fileContent, header = True, print_updates = True, isConvUnits = True)\n",
    "#                 raw_dict[position]['subject_id'] = subject_id"
   ]
  },
  {
   "cell_type": "markdown",
   "metadata": {},
   "source": [
    "# which is raw dict???"
   ]
  },
  {
   "cell_type": "code",
   "execution_count": 5,
   "metadata": {},
   "outputs": [
    {
     "data": {
      "text/plain": [
       "{'__header__': b'MATLAB 5.0 MAT-file, Platform: PCWIN64, Created on: Wed Jan  5 15:46:18 2022',\n",
       " '__version__': '1.0',\n",
       " '__globals__': [],\n",
       " 'file_imped': array([[(array([[ 485399729],\n",
       "                [1923083987],\n",
       "                [ 317297845],\n",
       "                [2092953239]], dtype=int32), array([[87]], dtype=uint8), array([[50]], dtype=uint8), array([[1]], dtype=uint8), array([[1]], dtype=uint8), array([[0]], dtype=uint8), array([[61056]], dtype=uint16), MatlabOpaque([(b'', b'MCOS', b'datetime', array([[3707764736],\n",
       "                              [         2],\n",
       "                              [         1],\n",
       "                              [         1],\n",
       "                              [         1],\n",
       "                              [         1]], dtype=uint32))            ],\n",
       "                      dtype=[('s0', 'O'), ('s1', 'O'), ('s2', 'O'), ('arr', 'O')]), array([[2]], dtype=uint8), array([[4096]], dtype=uint16), array([[2664.7434082]]), array([[6576.84741211]]), array([[(array([[0]], dtype=uint8), array([[3912.10400391]]), array([[(array([[2664.7434082]]), array([[6576.84741211]]))]],\n",
       "                       dtype=[('startTimes', 'O'), ('stopTimes', 'O')]))                                                             ]],\n",
       "               dtype=[('startTimes', 'O'), ('stopTimes', 'O'), ('orig', 'O')]), array([[7.41455078e-01],\n",
       "                [7.49267578e-01],\n",
       "                [7.53173828e-01],\n",
       "                ...,\n",
       "                [3.91202417e+03],\n",
       "                [3.91202808e+03],\n",
       "                [3.91203198e+03]]), array([[7.49267578e-01],\n",
       "                [7.57080078e-01],\n",
       "                [7.68798828e-01],\n",
       "                ...,\n",
       "                [3.91201245e+03],\n",
       "                [3.91202026e+03],\n",
       "                [3.91203198e+03]]), array([[7.88330078e-01],\n",
       "                [7.96142578e-01],\n",
       "                [8.07617188e-01],\n",
       "                ...,\n",
       "                [3.91201245e+03],\n",
       "                [3.91202026e+03],\n",
       "                [3.91202808e+03]]), array([[7.41455078e-01],\n",
       "                [7.92236328e-01],\n",
       "                [8.03710938e-01],\n",
       "                ...,\n",
       "                [3.91200854e+03],\n",
       "                [3.91202026e+03],\n",
       "                [3.91202808e+03]]), array([[-0.96968, -0.18768,  0.20332],\n",
       "                [-0.9775 , -0.18768,  0.20723],\n",
       "                [-0.98141, -0.19159,  0.21114],\n",
       "                ...,\n",
       "                [-0.9775 , -0.24633,  0.38709],\n",
       "                [-0.98923, -0.2346 ,  0.38709],\n",
       "                [-0.98141, -0.23069,  0.38318]]), array([[ 0.   ,  0.   ,  0.   ],\n",
       "                [ 0.549, -0.793, -0.061],\n",
       "                [-1.525, -2.989,  1.22 ],\n",
       "                ...,\n",
       "                [-4.514, -2.257,  3.416],\n",
       "                [-5.917, -2.623,  4.819],\n",
       "                [-5.185, -5.063,  3.538]]), array([[-0.07429,  1.12608,  0.05474],\n",
       "                [-0.07429,  1.12999,  0.05474],\n",
       "                [-0.07429,  1.12608,  0.05474],\n",
       "                ...,\n",
       "                [ 0.44183,  1.39587, -0.30107],\n",
       "                [ 0.25415,  1.07134, -0.48093],\n",
       "                [ 0.51221,  1.30594, -0.01173]]), array([[ 0.00000e+00,  0.00000e+00,  0.00000e+00],\n",
       "                [ 0.00000e+00,  0.00000e+00,  0.00000e+00],\n",
       "                [ 1.22000e-01, -2.01300e+00,  6.10000e-01],\n",
       "                ...,\n",
       "                [-1.84464e+02,  7.60670e+01,  3.88570e+01],\n",
       "                [-2.73280e+02,  1.77388e+02, -5.67910e+01],\n",
       "                [-3.40990e+02,  3.02499e+02, -1.02785e+02]]), array([[1, 1, 1],\n",
       "                [1, 1, 1],\n",
       "                [1, 1, 1],\n",
       "                ...,\n",
       "                [1, 1, 1],\n",
       "                [1, 1, 1],\n",
       "                [1, 1, 1]], dtype=uint8), array([[1, 1, 1],\n",
       "                [1, 1, 1],\n",
       "                [1, 1, 1],\n",
       "                ...,\n",
       "                [1, 1, 1],\n",
       "                [1, 1, 1],\n",
       "                [1, 1, 1]], dtype=uint8), array([[2.25830078e+00],\n",
       "                [2.27392578e+00],\n",
       "                [2.28930664e+00],\n",
       "                ...,\n",
       "                [3.90901562e+03],\n",
       "                [3.90903101e+03],\n",
       "                [3.90904663e+03]]), array([[  5000, 100000,   5000, ..., 100000,   5000, 100000]], dtype=int32), array(['Continuous'], dtype='<U10'), array([[-9.85912866e+01],\n",
       "                [-6.97134433e+01],\n",
       "                [-9.86244591e+01],\n",
       "                ...,\n",
       "                [-5.04807692e+03],\n",
       "                [ 1.14450000e+06],\n",
       "                [-1.10036386e+04]]), array([[6.26841528e+00],\n",
       "                [5.01895123e+00],\n",
       "                [6.21441931e+00],\n",
       "                ...,\n",
       "                [2.44384615e+05],\n",
       "                [5.93250000e+06],\n",
       "                [2.44550637e+05]]), array([[-2.5272e+04+26418.j],\n",
       "                [-6.2229e+04-12513.j],\n",
       "                [-2.5269e+04+26413.j],\n",
       "                ...,\n",
       "                [ 8.0000e+00   -40.j],\n",
       "                [-2.0000e+00    +0.j],\n",
       "                [ 7.0000e+00   -40.j]], dtype=complex64), array([[ 2326. -2763.j],\n",
       "                [ 4401.  +560.j],\n",
       "                [ 2328. -2762.j],\n",
       "                ...,\n",
       "                [ 9735. +2157.j],\n",
       "                [-2289.-11865.j],\n",
       "                [ 9705. +2152.j]], dtype=complex64), array([[1.74731445e+00],\n",
       "                [2.74951172e+00],\n",
       "                [3.75146484e+00],\n",
       "                ...,\n",
       "                [3.90630273e+03],\n",
       "                [3.90730298e+03],\n",
       "                [3.90830322e+03]]), array([[25.7109375],\n",
       "                [25.7109375],\n",
       "                [25.7109375],\n",
       "                ...,\n",
       "                [29.9609375],\n",
       "                [29.9609375],\n",
       "                [29.953125 ]]), array([[1.74731445e+00],\n",
       "                [2.74951172e+00],\n",
       "                [3.75146484e+00],\n",
       "                ...,\n",
       "                [3.90730298e+03],\n",
       "                [3.90830322e+03],\n",
       "                [3.90930347e+03]]), array([[25.4375   ],\n",
       "                [25.4453125],\n",
       "                [25.4609375],\n",
       "                ...,\n",
       "                [28.265625 ],\n",
       "                [28.265625 ],\n",
       "                [28.265625 ]]))                                                                                                                                                                                                                                                                                              ]],\n",
       "       dtype=[('deviceSerial', 'O'), ('projectNum', 'O'), ('hwRevMajor', 'O'), ('hwRevMinor', 'O'), ('HP_Serial', 'O'), ('devFirmwareVersion', 'O'), ('numSDBlocks', 'O'), ('fileTime', 'O'), ('matlabVersion', 'O'), ('fs_ast', 'O'), ('startTime', 'O'), ('stopTime', 'O'), ('audio_times', 'O'), ('tt_acc0', 'O'), ('tt_gyr0', 'O'), ('tt_acc1', 'O'), ('tt_gyr1', 'O'), ('acc0', 'O'), ('gyr0', 'O'), ('acc1', 'O'), ('gyr1', 'O'), ('acc0_new_data', 'O'), ('acc1_new_data', 'O'), ('tt_imped', 'O'), ('freq_sweep', 'O'), ('bioz_mode', 'O'), ('real', 'O'), ('imag', 'O'), ('current', 'O'), ('voltage', 'O'), ('tt_temp0', 'O'), ('temp0', 'O'), ('tt_temp1', 'O'), ('temp1', 'O')]),\n",
       " '__function_workspace__': array([[ 0,  1, 73, ...,  0,  0,  0]], dtype=uint8)}"
      ]
     },
     "execution_count": 5,
     "metadata": {},
     "output_type": "execute_result"
    }
   ],
   "source": [
    "raw_dict"
   ]
  },
  {
   "cell_type": "code",
   "execution_count": 6,
   "metadata": {},
   "outputs": [],
   "source": [
    "fs_ast = raw_dict['file_imped'][0][0][9]\n",
    "startTime = raw_dict['file_imped'][0][0][10]\n",
    "stopTime = raw_dict['file_imped'][0][0][11]\n",
    "audio_times= raw_dict['file_imped'][0][0][12]\n",
    "tt_acc0 = raw_dict['file_imped'][0][0][13]\n",
    "# acc0 = raw_dict['file_imped'][0][0][14]\n",
    "# startTime = raw_dict['file_imped'][0][0][15]\n",
    "# startTime = raw_dict['file_imped'][0][0][16]\n",
    "acc0 = raw_dict['file_imped'][0][0][17]\n",
    "tt_imped = raw_dict['file_imped'][0][0][23]\n",
    "real = raw_dict['file_imped'][0][0][26]\n",
    "\n",
    "acc0_new_data =  raw_dict['file_imped'][0][0][21]"
   ]
  },
  {
   "cell_type": "code",
   "execution_count": 7,
   "metadata": {},
   "outputs": [
    {
     "data": {
      "text/plain": [
       "(1000, 1010)"
      ]
     },
     "execution_count": 7,
     "metadata": {},
     "output_type": "execute_result"
    },
    {
     "data": {
      "image/png": "[encoded data removed]",
      "text/plain": [
       "<Figure size 640x480 with 1 Axes>"
      ]
     },
     "metadata": {},
     "output_type": "display_data"
    }
   ],
   "source": [
    "plt.plot(tt_acc0, acc0[:,2], alpha=0.8)\n",
    "plt.xlim(1000,1010)\n",
    "# plt.plot(tt_acc0, acc0_new_data[:,2], alpha=0.3)"
   ]
  },
  {
   "cell_type": "code",
   "execution_count": 12,
   "metadata": {},
   "outputs": [
    {
     "data": {
      "text/plain": [
       "(280, 282)"
      ]
     },
     "execution_count": 12,
     "metadata": {},
     "output_type": "execute_result"
    },
    {
     "data": {
      "image/png": "[encoded data removed]",
      "text/plain": [
       "<Figure size 640x480 with 1 Axes>"
      ]
     },
     "metadata": {},
     "output_type": "display_data"
    }
   ],
   "source": [
    "plt.plot(tt_imped[:-1000], real[:-1000], alpha=0.3)\n",
    "# plt.plot(tt_acc0, acc0_new_data[:,2], alpha=0.3)\n",
    "plt.xlim(280,282)"
   ]
  },
  {
   "cell_type": "code",
   "execution_count": null,
   "metadata": {},
   "outputs": [],
   "source": []
  },
  {
   "cell_type": "code",
   "execution_count": null,
   "metadata": {},
   "outputs": [],
   "source": []
  },
  {
   "cell_type": "code",
   "execution_count": null,
   "metadata": {},
   "outputs": [],
   "source": []
  },
  {
   "cell_type": "markdown",
   "metadata": {},
   "source": [
    "# list of sensors in the dataset\n",
    "## `tri-axial gyro`\n",
    "## `tri-axial accel`\n",
    "## `5k Z`\n",
    "## `100k Z`"
   ]
  },
  {
   "cell_type": "code",
   "execution_count": null,
   "metadata": {},
   "outputs": [],
   "source": []
  },
  {
   "cell_type": "code",
   "execution_count": 9,
   "metadata": {},
   "outputs": [
    {
     "ename": "KeyError",
     "evalue": "'time_gyr0'",
     "output_type": "error",
     "traceback": [
      "\u001b[0;31m---------------------------------------------------------------------------\u001b[0m",
      "\u001b[0;31mKeyError\u001b[0m                                  Traceback (most recent call last)",
      "\u001b[0;32m/tmp/ipykernel_6089/852875208.py\u001b[0m in \u001b[0;36m<module>\u001b[0;34m\u001b[0m\n\u001b[1;32m      1\u001b[0m \u001b[0;31m# def data_interpolation(raw_dict, FS_RESAMPLE=500):\u001b[0m\u001b[0;34m\u001b[0m\u001b[0;34m\u001b[0m\u001b[0;34m\u001b[0m\u001b[0m\n\u001b[1;32m      2\u001b[0m \u001b[0;34m\u001b[0m\u001b[0m\n\u001b[0;32m----> 3\u001b[0;31m \u001b[0mtime_gyr0\u001b[0m \u001b[0;34m=\u001b[0m \u001b[0mraw_dict\u001b[0m\u001b[0;34m[\u001b[0m\u001b[0;34m'time_gyr0'\u001b[0m\u001b[0;34m]\u001b[0m\u001b[0;34m.\u001b[0m\u001b[0msqueeze\u001b[0m\u001b[0;34m(\u001b[0m\u001b[0;34m)\u001b[0m\u001b[0;34m\u001b[0m\u001b[0;34m\u001b[0m\u001b[0m\n\u001b[0m\u001b[1;32m      4\u001b[0m \u001b[0mtime_gyr1\u001b[0m \u001b[0;34m=\u001b[0m \u001b[0mraw_dict\u001b[0m\u001b[0;34m[\u001b[0m\u001b[0;34m'time_gyr1'\u001b[0m\u001b[0;34m]\u001b[0m\u001b[0;34m.\u001b[0m\u001b[0msqueeze\u001b[0m\u001b[0;34m(\u001b[0m\u001b[0;34m)\u001b[0m\u001b[0;34m\u001b[0m\u001b[0;34m\u001b[0m\u001b[0m\n\u001b[1;32m      5\u001b[0m \u001b[0mtime_acc0\u001b[0m \u001b[0;34m=\u001b[0m \u001b[0mraw_dict\u001b[0m\u001b[0;34m[\u001b[0m\u001b[0;34m'time_acc0'\u001b[0m\u001b[0;34m]\u001b[0m\u001b[0;34m.\u001b[0m\u001b[0msqueeze\u001b[0m\u001b[0;34m(\u001b[0m\u001b[0;34m)\u001b[0m\u001b[0;34m\u001b[0m\u001b[0;34m\u001b[0m\u001b[0m\n",
      "\u001b[0;31mKeyError\u001b[0m: 'time_gyr0'"
     ]
    }
   ],
   "source": [
    "# def data_interpolation(raw_dict, FS_RESAMPLE=500):\n",
    "\n",
    "time_gyr0 = raw_dict['time_gyr0'].squeeze()\n",
    "time_gyr1 = raw_dict['time_gyr1'].squeeze()\n",
    "time_acc0 = raw_dict['time_acc0'].squeeze()\n",
    "time_acc1 = raw_dict['time_acc1'].squeeze()\n",
    "time_5k = raw_dict['time_5k'].squeeze()\n",
    "time_100k = raw_dict['time_100k'].squeeze()\n",
    "\n",
    "\n",
    "gyr0 = raw_dict['gyr0'].squeeze()\n",
    "gyr1 = raw_dict['gyr1'].squeeze()\n",
    "acc0 = raw_dict['acc0'].squeeze()\n",
    "acc1 = raw_dict['acc1'].squeeze()\n",
    "Resistance5 = raw_dict['Resistance5'].squeeze()\n",
    "Resistance100 = raw_dict['Resistance100'].squeeze()\n",
    "\n",
    "# t_start = np.max([time_gyr0[0], time_gyr1[0], time_acc0[0], time_acc1[0], time_5k[0], time_100k[0]])\n",
    "t_start =  time_acc0[0]\n",
    "t_end = np.min([time_gyr0[-1], time_gyr1[-1], time_acc0[-1], time_acc1[-1], time_5k[-1], time_100k[-1]])\n",
    "\n",
    "time_interp = np.arange(my_ceil(t_start, decimal=-3)*FS_RESAMPLE, my_floor(t_end, decimal=-3)*FS_RESAMPLE+1)/FS_RESAMPLE\n",
    "\n",
    "knee_dict = {}\n",
    "\n",
    "# acc\n",
    "f = interp1d(time_acc0, acc0, axis=0, fill_value=\"extrapolate\")\n",
    "acc0_interp = f(time_interp)\n",
    "knee_dict['acc0_x'] = acc0_interp[:,0]\n",
    "knee_dict['acc0_y'] = acc0_interp[:,1]\n",
    "knee_dict['acc0_z'] = acc0_interp[:,2]\n",
    "\n",
    "f = interp1d(time_acc1, acc1, axis=0, fill_value=\"extrapolate\")\n",
    "acc1_interp = f(time_interp)\n",
    "knee_dict['acc1_x'] = acc1_interp[:,0]\n",
    "knee_dict['acc1_y'] = acc1_interp[:,1]\n",
    "knee_dict['acc1_z'] = acc1_interp[:,2]\n",
    "\n",
    "# knee_dict['acc1'] = np.interp(time_interp, time_acc1, acc1)\n",
    "\n",
    "# # gyr\n",
    "f = interp1d(time_gyr0, gyr0, axis=0, fill_value=\"extrapolate\")\n",
    "gyr0_interp = f(time_interp)\n",
    "knee_dict['gyr0_x'] = gyr0_interp[:,0]\n",
    "knee_dict['gyr0_y'] = gyr0_interp[:,1]\n",
    "knee_dict['gyr0_z'] = gyr0_interp[:,2]\n",
    "\n",
    "f = interp1d(time_gyr1, gyr1, axis=0, fill_value=\"extrapolate\")\n",
    "gyr1_interp = f(time_interp)\n",
    "knee_dict['gyr1_x'] = gyr1_interp[:,0]\n",
    "knee_dict['gyr1_y'] = gyr1_interp[:,1]\n",
    "knee_dict['gyr1_z'] = gyr1_interp[:,2]\n",
    "\n",
    "# # gyr\n",
    "f = interp1d(time_5k, Resistance5, axis=0, fill_value=\"extrapolate\")\n",
    "knee_dict['Resistance5'] = f(time_interp)\n",
    "\n",
    "f = interp1d(time_100k, Resistance100, axis=0, fill_value=\"extrapolate\")\n",
    "knee_dict['Resistance100'] = f(time_interp)\n",
    "\n",
    "knee_dict['time'] = time_interp - time_interp[0]\n",
    "# knee_dict['gyr0'] = np.interp(time_interp, time_gyr0, gyr0)\n",
    "# knee_dict['gyr1'] = np.interp(time_interp, time_gyr1, gyr1)\n",
    "\n",
    "# # ACC\n",
    "# patch_dict['accelX'] = np.interp(time_interp, raw_dict['accel_time'], raw_dict['accel_x'])\n",
    "# patch_dict['accelY'] = np.interp(time_interp, raw_dict['accel_time'], raw_dict['accel_y'])\n",
    "# patch_dict['accelZ'] = np.interp(time_interp, raw_dict['accel_time'], raw_dict['accel_z'])\n",
    "\n",
    "# # TODO: find out which PPG arr this belongs to (in terms of its physical location)\n",
    "# # PPG array 1 (which one is it? left or right?)\n",
    "# patch_dict['ppg_g_1'] = np.interp(time_interp, raw_dict['ppg_time'], raw_dict['ppg_g_1'])\n",
    "# patch_dict['ppg_r_1'] = np.interp(time_interp, raw_dict['ppg_time'], raw_dict['ppg_r_1'])\n",
    "# patch_dict['ppg_ir_1'] = np.interp(time_interp, raw_dict['ppg_time'], raw_dict['ppg_ir_1'])\n",
    "\n",
    "# # PPG array 2 (which one is it? left or right?)\n",
    "# patch_dict['ppg_g_2'] = np.interp(time_interp, raw_dict['ppg_time'], raw_dict['ppg_g_2'])\n",
    "# patch_dict['ppg_r_2'] = np.interp(time_interp, raw_dict['ppg_time'], raw_dict['ppg_r_2'])\n",
    "# patch_dict['ppg_ir_2'] = np.interp(time_interp, raw_dict['ppg_time'], raw_dict['ppg_ir_2'])\n",
    "\n",
    "# # skin temperature\n",
    "# patch_dict['temp_skin'] = np.interp(time_interp, raw_dict['env_time'], medfilt(raw_dict['temp_skin'], k=3))\n",
    "# # pressure\n",
    "# patch_dict['pres'] = np.interp(time_interp, raw_dict['env_time'], get_smooth(raw_dict['pres'], N=51))\n",
    "\n",
    "# time_interp = time_interp-time_interp[0]\n",
    "# patch_dict['time'] = time_interp\n",
    "# patch_dict['subject_id'] = raw_dict['subject_id']\n",
    "\n",
    "# return patch_dict\n"
   ]
  },
  {
   "cell_type": "code",
   "execution_count": null,
   "metadata": {},
   "outputs": [],
   "source": []
  },
  {
   "cell_type": "code",
   "execution_count": null,
   "metadata": {},
   "outputs": [],
   "source": [
    "df_knee = pd.DataFrame(knee_dict)"
   ]
  },
  {
   "cell_type": "code",
   "execution_count": null,
   "metadata": {},
   "outputs": [],
   "source": []
  },
  {
   "cell_type": "code",
   "execution_count": null,
   "metadata": {},
   "outputs": [],
   "source": []
  },
  {
   "cell_type": "code",
   "execution_count": null,
   "metadata": {},
   "outputs": [],
   "source": []
  },
  {
   "cell_type": "code",
   "execution_count": null,
   "metadata": {},
   "outputs": [],
   "source": []
  },
  {
   "cell_type": "code",
   "execution_count": null,
   "metadata": {},
   "outputs": [],
   "source": []
  },
  {
   "cell_type": "code",
   "execution_count": null,
   "metadata": {},
   "outputs": [],
   "source": []
  },
  {
   "cell_type": "code",
   "execution_count": null,
   "metadata": {},
   "outputs": [],
   "source": []
  },
  {
   "cell_type": "code",
   "execution_count": null,
   "metadata": {},
   "outputs": [],
   "source": []
  },
  {
   "cell_type": "code",
   "execution_count": null,
   "metadata": {},
   "outputs": [],
   "source": [
    "# Create traces\n",
    "fig = make_subplots(specs=[[{'secondary_y': True}]])\n",
    "df = df_knee.copy()\n",
    "\n",
    "t_start = 20\n",
    "#     t_start = df_patch['time'].max()-20*60\n",
    "t_end = 400\n",
    "df = df[(df['time']>t_start) & (df['time']<t_end)] # ignore the last 60minutes because the study is at least 60 minute long prior to stop recording\n",
    "downsample_factor = 1\n",
    "\n",
    "alpha = 0.5\n",
    "\n",
    "acc_x = df['acc0_x'].values\n",
    "acc_y = df['acc0_y'].values\n",
    "acc_z = df['acc0_z'].values\n",
    "\n",
    "ts = df['time'].values\n",
    "\n",
    "\n",
    "fig.add_trace(go.Scatter(x=ts[::downsample_factor], y=acc_x[::downsample_factor],\n",
    "                    mode='lines',\n",
    "                    name='accelX',\n",
    "                         opacity=alpha,\n",
    "                      line=dict(color=color_dict[sync_color_dict['accelX']])),\n",
    "              secondary_y=False,)\n",
    "\n",
    "fig.add_trace(go.Scatter(x=ts[::downsample_factor], y=acc_y[::downsample_factor],\n",
    "                    mode='lines',\n",
    "                    name='accelY',\n",
    "                         opacity=alpha,\n",
    "                      line=dict(color=color_dict[sync_color_dict['accelY']])),\n",
    "              secondary_y=False,)\n",
    "\n",
    "fig.add_trace(go.Scatter(x=ts[::downsample_factor], y=acc_z[::downsample_factor],\n",
    "                    mode='lines',\n",
    "                    name='accelZ',\n",
    "                         opacity=alpha,\n",
    "                      line=dict(color=color_dict[sync_color_dict['accelZ']])),\n",
    "              secondary_y=False,)\n",
    "\n",
    "\n",
    "# Add figure title\n",
    "fig.update_layout(\n",
    "    title_text=\"inspect taps\"\n",
    ")\n",
    "\n",
    "# Set y-axes titles\n",
    "fig.update_yaxes(title_text=\"<b>signal (a.u.)</b>\", secondary_y=False)\n",
    "\n",
    "fig.update_xaxes(title_text=\"<b>time (sec)</b>\")\n",
    "fig.update_layout(plot_bgcolor='rgb(255,255,255)')\n",
    "\n",
    "fig.update_xaxes(showline=True, linewidth=1, linecolor='black', mirror=True)\n",
    "fig.update_yaxes(showline=True, linewidth=1, linecolor='black', mirror=True)\n",
    "\n",
    "\n",
    "# fig.show()\n",
    "# sys.exit()\n",
    "# else:\n",
    "# tap_time = patch_tap_times[subject_id]\n",
    "# print(tap_time)\n"
   ]
  },
  {
   "cell_type": "code",
   "execution_count": null,
   "metadata": {},
   "outputs": [],
   "source": []
  },
  {
   "cell_type": "code",
   "execution_count": null,
   "metadata": {},
   "outputs": [],
   "source": [
    "df_knee.to_feather(outputdir_sub+'df_knee.feather')"
   ]
  },
  {
   "cell_type": "code",
   "execution_count": null,
   "metadata": {},
   "outputs": [],
   "source": []
  },
  {
   "cell_type": "code",
   "execution_count": null,
   "metadata": {},
   "outputs": [],
   "source": []
  },
  {
   "cell_type": "code",
   "execution_count": null,
   "metadata": {},
   "outputs": [],
   "source": []
  },
  {
   "cell_type": "code",
   "execution_count": null,
   "metadata": {},
   "outputs": [],
   "source": []
  },
  {
   "cell_type": "code",
   "execution_count": null,
   "metadata": {},
   "outputs": [],
   "source": []
  },
  {
   "cell_type": "code",
   "execution_count": null,
   "metadata": {},
   "outputs": [],
   "source": []
  },
  {
   "cell_type": "code",
   "execution_count": 8,
   "metadata": {},
   "outputs": [],
   "source": [
    "import mat73\n",
    "# data_dict = mat73.loadmat('data.mat')"
   ]
  },
  {
   "cell_type": "code",
   "execution_count": 9,
   "metadata": {},
   "outputs": [],
   "source": [
    "filedir = '../../data/raw/sub106/Subject106.mat'\n",
    "raw_dict = mat73.loadmat(filedir)\n"
   ]
  },
  {
   "cell_type": "code",
   "execution_count": 12,
   "metadata": {},
   "outputs": [
    {
     "data": {
      "text/plain": [
       "{'Left': {'Reactance100': array([-1.68506072, -1.68841812, -1.71151892, ...,  1.45245678,\n",
       "          1.40429394,  1.38035363]),\n",
       "  'Reactance5': array([-11.7127452 , -11.73236039, -11.7127452 , ..., -13.21051478,\n",
       "         -13.23234999, -13.24972628]),\n",
       "  'Resistance100': array([92.77711191, 92.8497037 , 92.79454673, ..., 90.28855542,\n",
       "         90.31902972, 90.37836361]),\n",
       "  'Resistance5': array([133.41722762, 133.39542084, 133.41722762, ..., 136.50739735,\n",
       "         136.49518898, 136.51129238]),\n",
       "  'acc0': array([[ 0.02737,  1.27857, -0.26979],\n",
       "         [ 0.02737,  1.27857, -0.26588],\n",
       "         [ 0.01955,  1.27857, -0.26979],\n",
       "         ...,\n",
       "         [ 0.14076,  1.23165, -0.15249],\n",
       "         [ 0.14076,  1.23556, -0.14858],\n",
       "         [ 0.14467,  1.23165, -0.14858]]),\n",
       "  'acc1': array([[-0.17595, -0.74681, -0.13294],\n",
       "         [-0.17595, -0.74681, -0.12903],\n",
       "         [-0.17595, -0.74681, -0.12903],\n",
       "         ...,\n",
       "         [ 0.68816, -0.30889,  0.24242],\n",
       "         [ 0.68816, -0.30889,  0.24633],\n",
       "         [ 0.68816, -0.30889,  0.24633]]),\n",
       "  'gyr0': array([[-0.122,  0.854,  0.488],\n",
       "         [-0.122,  0.976,  0.366],\n",
       "         [-0.122,  1.464,  0.427],\n",
       "         ...,\n",
       "         [ 0.   , -0.61 ,  0.305],\n",
       "         [ 0.061, -0.671,  0.244],\n",
       "         [ 0.244, -0.427,  0.244]]),\n",
       "  'gyr1': array([[ 0.305, -2.867, -0.976],\n",
       "         [ 0.122, -2.745, -1.037],\n",
       "         [ 0.244, -2.928, -1.098],\n",
       "         ...,\n",
       "         [ 0.061,  0.427,  0.   ],\n",
       "         [ 0.183,  0.366,  0.061],\n",
       "         [ 0.061,  0.61 ,  0.   ]]),\n",
       "  'time_100k': array([ 253.05200195,  253.08300781,  253.11425781, ..., 3097.30664062,\n",
       "         3097.33764648, 3097.36865234]),\n",
       "  'time_5k': array([ 253.06762695,  253.09863281,  253.12963867, ..., 3097.29101562,\n",
       "         3097.32226562, 3097.35327148]),\n",
       "  'time_acc0': array([ 253.07543945,  253.07910156,  253.08300781, ..., 3097.36108398,\n",
       "         3097.36499023, 3097.36865234]),\n",
       "  'time_acc1': array([ 253.07543945,  253.08300781,  253.08691406, ..., 3097.35327148,\n",
       "         3097.36108398, 3097.36865234]),\n",
       "  'time_gyr0': array([ 253.07543945,  253.08691406,  253.09472656, ..., 3097.34545898,\n",
       "         3097.35717773, 3097.36499023]),\n",
       "  'time_gyr1': array([ 253.07543945,  253.08691406,  253.09472656, ..., 3097.34545898,\n",
       "         3097.35327148, 3097.36499023])},\n",
       " 'Patch': array([[9.07820000e+01, 1.16820000e+01, 5.20754000e+02, ...,\n",
       "         3.53053553e+01, 9.84467535e+02, 6.50582702e-02],\n",
       "        [9.07813333e+01, 1.16813333e+01, 5.21056000e+02, ...,\n",
       "         3.53053151e+01, 9.84467530e+02, 6.50578954e-02],\n",
       "        [9.07806667e+01, 1.16806667e+01, 5.21358000e+02, ...,\n",
       "         3.53052749e+01, 9.84467525e+02, 6.50575040e-02],\n",
       "        ...,\n",
       "        [1.59006000e+02, 2.53492000e+01, 2.25623100e+03, ...,\n",
       "         3.19450000e+01, 9.83700591e+02, 2.47546428e-02],\n",
       "        [1.59004000e+02, 2.53328000e+01, 2.25665400e+03, ...,\n",
       "         3.19450000e+01, 9.83700584e+02, 2.47523189e-02],\n",
       "        [1.59002000e+02, 2.53164000e+01, 2.25707700e+03, ...,\n",
       "         3.19450000e+01, 9.83700577e+02, 2.47499731e-02]]),\n",
       " 'Right': {'Reactance100': array([-11.53390355, -11.5304578 , -11.51402113, ..., -10.31065686,\n",
       "         -10.30430781, -10.32264575]),\n",
       "  'Reactance5': array([-10.51033546, -10.52998751, -10.53708277, ..., -12.80946408,\n",
       "         -12.76738187, -12.79634862]),\n",
       "  'Resistance100': array([83.32943674, 83.39101789, 83.35729387, ..., 80.51851342,\n",
       "         80.52985268, 80.51086008]),\n",
       "  'Resistance5': array([122.37435383, 122.44171996, 122.44370961, ..., 125.23319324,\n",
       "         125.23201129, 125.21671104]),\n",
       "  'acc0': array([[ 0.22287, -1.09871, -0.13294],\n",
       "         [ 0.21896, -1.10262, -0.12903],\n",
       "         [ 0.21896, -1.10262, -0.13294],\n",
       "         ...,\n",
       "         [-0.77027, -0.77418,  0.13685],\n",
       "         [-0.77027, -0.77418,  0.13685],\n",
       "         [-0.77027, -0.782  ,  0.13685]]),\n",
       "  'acc1': array([[ 0.06256,  1.11435, -0.23069],\n",
       "         [ 0.07038,  1.11044, -0.2346 ],\n",
       "         [ 0.07429,  1.10653, -0.23851],\n",
       "         ...,\n",
       "         [-0.0782 ,  1.10262, -0.22287],\n",
       "         [-0.0782 ,  1.10262, -0.22287],\n",
       "         [-0.0782 ,  1.10653, -0.21896]]),\n",
       "  'gyr0': array([[ 1.159, -0.732, -1.586],\n",
       "         [ 1.403, -0.976, -1.83 ],\n",
       "         [ 1.525, -1.952, -2.135],\n",
       "         ...,\n",
       "         [ 0.305, -0.61 ,  0.305],\n",
       "         [ 0.   , -0.305,  0.244],\n",
       "         [-0.061, -0.366,  0.244]]),\n",
       "  'gyr1': array([[ 0.305, -1.647,  1.22 ],\n",
       "         [ 0.549, -2.196,  1.586],\n",
       "         [ 0.427, -2.074,  1.525],\n",
       "         ...,\n",
       "         [-0.183, -0.244, -0.244],\n",
       "         [-0.244, -0.244, -0.122],\n",
       "         [-0.183, -0.183, -0.122]]),\n",
       "  'time_100k': array([ 253.97973633,  254.01098633,  254.04223633, ..., 3107.54907227,\n",
       "         3107.58032227, 3107.61132812]),\n",
       "  'time_5k': array([ 253.96435547,  253.99536133,  254.02661133, ..., 3107.53344727,\n",
       "         3107.56469727, 3107.59594727]),\n",
       "  'time_acc0': array([ 253.97973633,  253.98364258,  253.98754883, ..., 3107.61132812,\n",
       "         3107.61523438, 3107.61914062]),\n",
       "  'time_acc1': array([ 253.97973633,  253.98754883,  253.99926758, ..., 3107.60766602,\n",
       "         3107.61132812, 3107.61914062]),\n",
       "  'time_gyr0': array([ 253.98364258,  253.99145508,  254.00317383, ..., 3107.59594727,\n",
       "         3107.60766602, 3107.61914062]),\n",
       "  'time_gyr1': array([ 253.97973633,  253.98754883,  253.99926758, ..., 3107.60375977,\n",
       "         3107.61132812, 3107.62304688])}}"
      ]
     },
     "execution_count": 12,
     "metadata": {},
     "output_type": "execute_result"
    }
   ],
   "source": [
    "raw_dict"
   ]
  },
  {
   "cell_type": "code",
   "execution_count": null,
   "metadata": {},
   "outputs": [
    {
     "data": {
      "text/plain": [
       "[<matplotlib.lines.Line2D at 0x7fb375a4df90>,\n",
       " <matplotlib.lines.Line2D at 0x7fb375a5a210>,\n",
       " <matplotlib.lines.Line2D at 0x7fb375a5a3d0>]"
      ]
     },
     "execution_count": 25,
     "metadata": {},
     "output_type": "execute_result"
    }
   ],
   "source": [
    "plt.plot(raw_dict['Right']['time_acc0'][:10000], raw_dict['Right']['acc0'][:10000])\n",
    "# plt.plot()"
   ]
  },
  {
   "cell_type": "code",
   "execution_count": 22,
   "metadata": {},
   "outputs": [
    {
     "data": {
      "text/plain": [
       "[<matplotlib.lines.Line2D at 0x7fb375b74c10>]"
      ]
     },
     "execution_count": 22,
     "metadata": {},
     "output_type": "execute_result"
    },
    {
     "data": {
      "image/png": "[encoded data removed]",
      "text/plain": [
       "<Figure size 640x480 with 1 Axes>"
      ]
     },
     "metadata": {},
     "output_type": "display_data"
    }
   ],
   "source": [
    "plt.plot(raw_dict['Patch'][5000:7000,20])"
   ]
  },
  {
   "cell_type": "code",
   "execution_count": null,
   "metadata": {},
   "outputs": [],
   "source": []
  },
  {
   "cell_type": "code",
   "execution_count": null,
   "metadata": {},
   "outputs": [],
   "source": []
  }
 ],
 "metadata": {
  "kernelspec": {
   "display_name": "mienv",
   "language": "python",
   "name": "mienv"
  },
  "language_info": {
   "codemirror_mode": {
    "name": "ipython",
    "version": 3
   },
   "file_extension": ".py",
   "mimetype": "text/x-python",
   "name": "python",
   "nbconvert_exporter": "python",
   "pygments_lexer": "ipython3",
   "version": "3.7.16"
  }
 },
 "nbformat": 4,
 "nbformat_minor": 4
}
