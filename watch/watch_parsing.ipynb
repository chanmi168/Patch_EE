{
 "cells": [
  {
   "cell_type": "code",
   "execution_count": null,
   "metadata": {},
   "outputs": [],
   "source": [
    "import numpy as np\n",
    "import argparse\n",
    "\n",
    "import os\n",
    "import math\n",
    "from math import sin\n",
    "\n",
    "import pandas as pd\n",
    "from sklearn.linear_model import LinearRegression\n",
    "\n",
    "import plotly.graph_objects as go\n",
    "from plotly.subplots import make_subplots\n",
    "\n",
    "import plotly.offline as pyo\n",
    "import plotly.graph_objs as go\n",
    "\n",
    "import matplotlib\n",
    "import matplotlib.pyplot as plt\n",
    "plt.style.use('seaborn-white')\n",
    "matplotlib.rc( 'savefig', facecolor = 'white' )\n",
    "from matplotlib import pyplot\n",
    "%matplotlib inline\n",
    "\n",
    "i_seed = 0\n",
    "\n",
    "import sys\n",
    "sys.path.append('../') # add this line so Data and data are visible in this file\n",
    "sys.path.append('../../') # add this line so Data and data are visible in this file\n",
    "sys.path.append('../PatchWand/') # add this line so Data and data are visible in this file\n",
    "\n",
    "# from PatchWand import *\n",
    "from filters import *\n",
    "from setting import *\n",
    "from plotting_tools import *\n",
    "# from stage1_patch import *\n",
    "# from TimeStampReader import *\n",
    "# from Subject import *\n",
    "# from PatchParser import *\n",
    "# from preprocessing import *\n",
    "# from ECG_module import *\n",
    "# from PPG_module import *\n",
    "# from segmentation import *\n",
    "# from stage3_inspection import *\n",
    "\n",
    "\n",
    "from importlib import reload\n",
    "%load_ext autoreload\n",
    "%autoreload 2"
   ]
  },
  {
   "cell_type": "code",
   "execution_count": null,
   "metadata": {},
   "outputs": [],
   "source": []
  },
  {
   "cell_type": "code",
   "execution_count": null,
   "metadata": {},
   "outputs": [],
   "source": []
  },
  {
   "cell_type": "code",
   "execution_count": null,
   "metadata": {},
   "outputs": [],
   "source": []
  },
  {
   "cell_type": "code",
   "execution_count": null,
   "metadata": {},
   "outputs": [],
   "source": [
    "import scipy.io\n",
    "mat = scipy.io.loadmat(inputdir)"
   ]
  },
  {
   "cell_type": "code",
   "execution_count": null,
   "metadata": {},
   "outputs": [],
   "source": [
    "# mat"
   ]
  },
  {
   "cell_type": "code",
   "execution_count": null,
   "metadata": {},
   "outputs": [],
   "source": [
    "inputdir = '../../data/raw/sub104/watch/patchdataSet.mat'"
   ]
  },
  {
   "cell_type": "code",
   "execution_count": null,
   "metadata": {},
   "outputs": [],
   "source": [
    "for dirname in inputdir.split('/'):\n",
    "    if 'sub' not in dirname:\n",
    "        continue\n",
    "    subject_id = dirname\n",
    "subject_id"
   ]
  },
  {
   "cell_type": "code",
   "execution_count": null,
   "metadata": {},
   "outputs": [],
   "source": [
    "FS_RESAMPLE"
   ]
  },
  {
   "cell_type": "code",
   "execution_count": null,
   "metadata": {},
   "outputs": [],
   "source": [
    "def data_interpolation2(raw_dict, subject_id, FS_RESAMPLE=500):\n",
    "\n",
    "    ecg_time = raw_dict['E_time'].squeeze()\n",
    "    ppg_time = raw_dict['ppgF_time'].squeeze()\n",
    "\n",
    "    t_start = np.max([ecg_time[0], ppg_time[0]])\n",
    "    t_end = np.min([ecg_time[-1], ppg_time[-1]])\n",
    "\n",
    "    time_interp = np.arange(my_ceil(t_start, decimal=-3)*FS_RESAMPLE, my_floor(t_end, decimal=-3)*FS_RESAMPLE+1)/FS_RESAMPLE\n",
    "    \n",
    "    patch_dict = {}\n",
    "\n",
    "    # ECG\n",
    "    patch_dict['ECG'] = np.interp(time_interp, raw_dict['E_time'].squeeze(), raw_dict['E_data'].squeeze())\n",
    "\n",
    "#     patch_dict['ECG'] = get_padded_filt(patch_dict['ECG'], filter_padded=5, lowcutoff=FILT_ECG[0], highcutoff=FILT_ECG[1], Fs=FS_RESAMPLE)\n",
    "\n",
    "    \n",
    "    # TODO: find out which PPG arr this belongs to (in terms of its physical location)\n",
    "    \n",
    "    # PPG array 1\n",
    "    patch_dict['ppg_g_1'] = np.interp(time_interp, raw_dict['ppgF_time'].squeeze(), raw_dict['ppgF_G1'].squeeze())\n",
    "    patch_dict['ppg_r_1'] = np.interp(time_interp, raw_dict['ppgF_time'].squeeze(), raw_dict['ppgF_R1'].squeeze())\n",
    "    patch_dict['ppg_ir_1'] = np.interp(time_interp, raw_dict['ppgF_time'].squeeze(), raw_dict['ppgF_I1'].squeeze())    \n",
    " \n",
    "    patch_dict['ppg_g_1'] = -get_padded_filt(patch_dict['ppg_g_1'], filter_padded=5, lowcutoff=FILT_PPG[0], highcutoff=FILT_PPG[1], Fs=FS_RESAMPLE)\n",
    "    patch_dict['ppg_ir_1'] = -get_padded_filt(patch_dict['ppg_ir_1'], filter_padded=5, lowcutoff=FILT_PPG[0], highcutoff=FILT_PPG[1], Fs=FS_RESAMPLE)\n",
    "    patch_dict['ppg_r_1'] = -get_padded_filt(patch_dict['ppg_r_1'], filter_padded=5, lowcutoff=FILT_PPG[0], highcutoff=FILT_PPG[1], Fs=FS_RESAMPLE)\n",
    "    \n",
    "\n",
    "    # PPG array 2\n",
    "    patch_dict['ppg_g_2'] = np.interp(time_interp, raw_dict['ppgF_time'].squeeze(), raw_dict['ppgF_G2'].squeeze())\n",
    "    patch_dict['ppg_r_2'] = np.interp(time_interp, raw_dict['ppgF_time'].squeeze(), raw_dict['ppgF_R2'].squeeze())\n",
    "    patch_dict['ppg_ir_2'] = np.interp(time_interp, raw_dict['ppgF_time'].squeeze(), raw_dict['ppgF_I2'].squeeze())    \n",
    " \n",
    "    patch_dict['ppg_g_2'] = -get_padded_filt(patch_dict['ppg_g_2'], filter_padded=5, lowcutoff=FILT_PPG[0], highcutoff=FILT_PPG[1], Fs=FS_RESAMPLE)\n",
    "    patch_dict['ppg_ir_2'] = -get_padded_filt(patch_dict['ppg_ir_2'], filter_padded=5, lowcutoff=FILT_PPG[0], highcutoff=FILT_PPG[1], Fs=FS_RESAMPLE)\n",
    "    patch_dict['ppg_r_2'] = -get_padded_filt(patch_dict['ppg_r_2'], filter_padded=5, lowcutoff=FILT_PPG[0], highcutoff=FILT_PPG[1], Fs=FS_RESAMPLE)\n",
    "    # PPG array 3\n",
    "    patch_dict['ppg_g_3'] = np.interp(time_interp, raw_dict['ppgF_time'].squeeze(), raw_dict['ppgF_G3'].squeeze())\n",
    "    patch_dict['ppg_r_3'] = np.interp(time_interp, raw_dict['ppgF_time'].squeeze(), raw_dict['ppgF_R3'].squeeze())\n",
    "    patch_dict['ppg_ir_3'] = np.interp(time_interp, raw_dict['ppgF_time'].squeeze(), raw_dict['ppgF_I3'].squeeze())\n",
    " \n",
    "    patch_dict['ppg_g_3'] = -get_padded_filt(patch_dict['ppg_g_3'], filter_padded=5, lowcutoff=FILT_PPG[0], highcutoff=FILT_PPG[1], Fs=FS_RESAMPLE)\n",
    "    patch_dict['ppg_ir_3'] = -get_padded_filt(patch_dict['ppg_ir_3'], filter_padded=5, lowcutoff=FILT_PPG[0], highcutoff=FILT_PPG[1], Fs=FS_RESAMPLE)\n",
    "    patch_dict['ppg_r_3'] = -get_padded_filt(patch_dict['ppg_r_3'], filter_padded=5, lowcutoff=FILT_PPG[0], highcutoff=FILT_PPG[1], Fs=FS_RESAMPLE)\n",
    "\n",
    "#     # skin temperature\n",
    "#     patch_dict['temp_skin'] = np.interp(time_interp, raw_dict['env_time'], medfilt(raw_dict['temp_skin'], k=3))\n",
    "#     # pressure\n",
    "#     patch_dict['pres'] = np.interp(time_interp, raw_dict['env_time'], get_smooth(raw_dict['pres'], N=51))\n",
    "\n",
    "    time_interp = time_interp-time_interp[0]\n",
    "    patch_dict['time'] = time_interp\n",
    "    patch_dict['subject_id'] = subject_id\n",
    "\n",
    "    return patch_dict\n",
    "\n",
    "def my_ceil(arr, decimal=0):\n",
    "    return np.ceil(arr*(10**-decimal))/(10**-decimal)\n",
    "\n",
    "def my_floor(arr, decimal=0):\n",
    "    return np.floor(arr*(10**-decimal))/(10**-decimal)\n",
    "\n"
   ]
  },
  {
   "cell_type": "code",
   "execution_count": null,
   "metadata": {},
   "outputs": [],
   "source": [
    "watch_dict = data_interpolation2(mat, subject_id, FS_RESAMPLE=FS_RESAMPLE)\n",
    "df_watch = pd.DataFrame(watch_dict)\n"
   ]
  },
  {
   "cell_type": "code",
   "execution_count": null,
   "metadata": {},
   "outputs": [],
   "source": [
    "df_watch"
   ]
  },
  {
   "cell_type": "code",
   "execution_count": null,
   "metadata": {},
   "outputs": [],
   "source": []
  },
  {
   "cell_type": "code",
   "execution_count": null,
   "metadata": {},
   "outputs": [],
   "source": [
    "mat"
   ]
  },
  {
   "cell_type": "code",
   "execution_count": null,
   "metadata": {},
   "outputs": [],
   "source": [
    "# with open('patch_tap_times.json', 'r') as f:\n",
    "#     patch_tap_times = json.load(f)[0]\n",
    "\n",
    "\n",
    "# if subject_id not in patch_tap_times:\n",
    "# if subject_id in patch_tap_times:\n",
    "# Create traces\n",
    "fig = make_subplots(specs=[[{'secondary_y': True}]])\n",
    "\n",
    "t_start = 0\n",
    "# t_start = df_watch['time'].max()-20*60\n",
    "t_end = df_watch['time'].max()-60*60\n",
    "df = df_watch[(df_watch['time']>t_start) & (df_watch['time']<t_end)] # ignore the last 60minutes because the study is at least 60 minute long prior to stop recording\n",
    "downsample_factor = 1\n",
    "\n",
    "\n",
    "alpha = 0.5\n",
    "\n",
    "v_ECG = df['ECG'].values\n",
    "# v_ppg_g_1 = df['ppg_g_1'].values\n",
    "# v_ppg_ir_1 = df['ppg_ir_1'].values\n",
    "# v_ppg_r_1 = df['ppg_r_1'].values\n",
    "v_ppg_g_1 = df['ppg_g_3'].values\n",
    "v_ppg_ir_1 = df['ppg_ir_3'].values\n",
    "v_ppg_r_1 = df['ppg_r_3'].values\n",
    "\n",
    "ts = df['time'].values\n",
    "\n",
    "\n",
    "fig.add_trace(go.Scatter(x=mat['E_time'].squeeze(), y=mat['E_data'].squeeze(),\n",
    "                    mode='lines',\n",
    "                    name='ECG',\n",
    "                         opacity=alpha,\n",
    "                      line=dict(color=color_dict[sync_color_dict['ECG']])),\n",
    "              secondary_y=False,)\n",
    "# fig.add_trace(go.Scatter(x=ts[::downsample_factor], y=v_ECG[::downsample_factor],\n",
    "#                     mode='lines',\n",
    "#                     name='ECG',\n",
    "#                          opacity=alpha,\n",
    "#                       line=dict(color=color_dict[sync_color_dict['ECG']])),\n",
    "#               secondary_y=False,)\n",
    "\n",
    "# fig.add_trace(go.Scatter(x=ts[::downsample_factor], y=v_ppg_g_1[::downsample_factor],\n",
    "#                     mode='lines',\n",
    "#                     name='ppg_g_1',\n",
    "#                          opacity=alpha,\n",
    "#                       line=dict(color=color_dict[sync_color_dict['ppg_g_1']])),\n",
    "#               secondary_y=False,)\n",
    "\n",
    "# fig.add_trace(go.Scatter(x=ts[::downsample_factor], y=v_ppg_ir_1[::downsample_factor],\n",
    "#                     mode='lines',\n",
    "#                     name='ppg_ir_1',\n",
    "#                          opacity=alpha,\n",
    "#                       line=dict(color=color_dict[sync_color_dict['ppg_ir_1']])),\n",
    "#               secondary_y=False,)\n",
    "\n",
    "# fig.add_trace(go.Scatter(x=ts[::downsample_factor], y=v_ppg_r_1[::downsample_factor],\n",
    "#                     mode='lines',\n",
    "#                     name='ppg_r_1',\n",
    "#                          opacity=alpha,\n",
    "#                       line=dict(color=color_dict[sync_color_dict['ppg_r_1']])),\n",
    "#               secondary_y=False,)\n",
    "\n",
    "\n",
    "# Add figure title\n",
    "fig.update_layout(\n",
    "    title_text=\"inspect taps\"\n",
    ")\n",
    "\n",
    "# Set y-axes titles\n",
    "fig.update_yaxes(title_text=\"<b>signal (a.u.)</b>\", secondary_y=False)\n",
    "\n",
    "fig.update_xaxes(title_text=\"<b>time (sec)</b>\")\n",
    "fig.update_layout(plot_bgcolor='rgb(255,255,255)')\n",
    "\n",
    "fig.update_xaxes(showline=True, linewidth=1, linecolor='black', mirror=True)\n",
    "fig.update_yaxes(showline=True, linewidth=1, linecolor='black', mirror=True)\n",
    "\n",
    "\n",
    "fig.show()\n",
    "# sys.exit()\n",
    "# else:\n",
    "# tap_time = patch_tap_times[subject_id]\n",
    "# print(tap_time)\n"
   ]
  },
  {
   "cell_type": "code",
   "execution_count": null,
   "metadata": {},
   "outputs": [],
   "source": []
  },
  {
   "cell_type": "code",
   "execution_count": null,
   "metadata": {},
   "outputs": [],
   "source": []
  },
  {
   "cell_type": "code",
   "execution_count": null,
   "metadata": {},
   "outputs": [],
   "source": [
    "ppgS_I1 = mat['ppgS_I1']"
   ]
  },
  {
   "cell_type": "code",
   "execution_count": null,
   "metadata": {},
   "outputs": [],
   "source": [
    "mat['ppgS_time']"
   ]
  },
  {
   "cell_type": "code",
   "execution_count": null,
   "metadata": {},
   "outputs": [],
   "source": []
  }
 ],
 "metadata": {
  "kernelspec": {
   "display_name": "mienv",
   "language": "python",
   "name": "mienv"
  },
  "language_info": {
   "codemirror_mode": {
    "name": "ipython",
    "version": 3
   },
   "file_extension": ".py",
   "mimetype": "text/x-python",
   "name": "python",
   "nbconvert_exporter": "python",
   "pygments_lexer": "ipython3",
   "version": "3.7.9"
  }
 },
 "nbformat": 4,
 "nbformat_minor": 4
}
