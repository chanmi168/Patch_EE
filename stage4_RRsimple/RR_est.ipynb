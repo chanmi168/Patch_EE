{
 "cells": [
  {
   "cell_type": "markdown",
   "metadata": {},
   "source": [
    "# this notebook coarsely estimate RR"
   ]
  },
  {
   "cell_type": "code",
   "execution_count": 1,
   "metadata": {},
   "outputs": [],
   "source": [
    "import numpy as np\n",
    "import argparse\n",
    "\n",
    "import os\n",
    "import math\n",
    "from math import sin\n",
    "\n",
    "import json\n",
    "\n",
    "import pandas as pd\n",
    "from sklearn.linear_model import LinearRegression\n",
    "from sklearn.metrics import mean_squared_error\n",
    "\n",
    "import seaborn as sns\n",
    "\n",
    "import matplotlib\n",
    "import matplotlib.pyplot as plt\n",
    "plt.style.use('seaborn-white')\n",
    "matplotlib.rc( 'savefig', facecolor = 'white' )\n",
    "from matplotlib import pyplot\n",
    "%matplotlib inline\n",
    "\n",
    "import torch\n",
    "from torch.utils.data import Dataset, DataLoader\n",
    "import torch.nn as nn\n",
    "import torch.nn.functional as F\n",
    "import torchvision\n",
    "from torchvision import transforms, datasets, models\n",
    "from torchsummary import summary\n",
    "torch.manual_seed(0)\n",
    "\n",
    "i_seed = 0\n",
    "\n",
    "import sys\n",
    "sys.path.append('../') # add this line so Data and data are visible in this file\n",
    "sys.path.append('../../') # add this line so Data and data are visible in this file\n",
    "sys.path.append('../PatchWand/') # add this line so Data and data are visible in this file\n",
    "\n",
    "# from PatchWand import *\n",
    "from plotting_tools import *\n",
    "from setting import *\n",
    "from models import *\n",
    "from models_CNN import *\n",
    "from evaluate import *\n",
    "from preprocessing import *\n",
    "\n",
    "from stage3_preprocess import *\n",
    "from training_util import *\n",
    "from dataset_util import *\n",
    "from dataIO import *\n",
    "\n",
    "from importlib import reload\n",
    "%load_ext autoreload\n",
    "%autoreload 2"
   ]
  },
  {
   "cell_type": "code",
   "execution_count": null,
   "metadata": {},
   "outputs": [],
   "source": []
  },
  {
   "cell_type": "code",
   "execution_count": null,
   "metadata": {},
   "outputs": [],
   "source": []
  },
  {
   "cell_type": "code",
   "execution_count": 2,
   "metadata": {},
   "outputs": [
    {
     "name": "stdout",
     "output_type": "stream",
     "text": [
      "11.3\n"
     ]
    }
   ],
   "source": [
    "print(torch.version.cuda)"
   ]
  },
  {
   "cell_type": "code",
   "execution_count": 3,
   "metadata": {},
   "outputs": [
    {
     "name": "stdout",
     "output_type": "stream",
     "text": [
      "Namespace(input_folder='../../data/stage3/', output_folder='../../data/stage4/RR_est/', training_params_file='training_params_baseline.json')\n"
     ]
    }
   ],
   "source": [
    "parser = argparse.ArgumentParser(description='SpO2_estimate')\n",
    "parser.add_argument('--input_folder', metavar='input_folder', help='input_folder',\n",
    "                    default='../')\n",
    "parser.add_argument('--output_folder', metavar='output_folder', help='output_folder',\n",
    "                    default='../')\n",
    "parser.add_argument('--training_params_file', metavar='training_params_file', help='training_params_file',\n",
    "                    default='training_params_list.json')\n",
    "\n",
    "\n",
    "# checklist 3: comment first line, uncomment second line\n",
    "args = parser.parse_args(['--input_folder', '../../data/stage3/', \n",
    "                          '--output_folder', '../../data/stage4/RR_est/',\n",
    "                          '--training_params_file', 'training_params_baseline.json',\n",
    "                         ])\n",
    "# args = parser.parse_args()\n",
    "print(args)"
   ]
  },
  {
   "cell_type": "code",
   "execution_count": null,
   "metadata": {},
   "outputs": [],
   "source": []
  },
  {
   "cell_type": "code",
   "execution_count": 4,
   "metadata": {},
   "outputs": [],
   "source": [
    "inputdir = args.input_folder\n",
    "outputdir = args.output_folder\n",
    "training_params_file = args.training_params_file\n",
    "\n",
    "if not os.path.exists(outputdir):\n",
    "    os.makedirs(outputdir)\n",
    "\n",
    "    "
   ]
  },
  {
   "cell_type": "markdown",
   "metadata": {},
   "source": [
    "# get training params and dataloaders"
   ]
  },
  {
   "cell_type": "code",
   "execution_count": null,
   "metadata": {},
   "outputs": [],
   "source": []
  },
  {
   "cell_type": "code",
   "execution_count": null,
   "metadata": {},
   "outputs": [],
   "source": []
  },
  {
   "cell_type": "code",
   "execution_count": null,
   "metadata": {},
   "outputs": [],
   "source": []
  },
  {
   "cell_type": "code",
   "execution_count": null,
   "metadata": {},
   "outputs": [],
   "source": []
  },
  {
   "cell_type": "code",
   "execution_count": 5,
   "metadata": {},
   "outputs": [
    {
     "data": {
      "text/plain": [
       "True"
      ]
     },
     "execution_count": 5,
     "metadata": {},
     "output_type": "execute_result"
    }
   ],
   "source": [
    "torch.cuda.is_available()"
   ]
  },
  {
   "cell_type": "code",
   "execution_count": null,
   "metadata": {},
   "outputs": [],
   "source": []
  },
  {
   "cell_type": "code",
   "execution_count": 6,
   "metadata": {},
   "outputs": [
    {
     "name": "stdout",
     "output_type": "stream",
     "text": [
      "data dimensions are: (4865, 3, 3000)\n"
     ]
    }
   ],
   "source": [
    "with open(training_params_file) as json_file:\n",
    "    training_params_list = json.load(json_file)\n",
    "\n",
    "for training_params in [training_params_list[0]]:\n",
    "    # include device in training_params\n",
    "#     device = torch.device('cuda:{}'.format(int(training_params['cuda_i'])) if torch.cuda.is_available() else 'cpu')\n",
    "#     training_params['device'] = device\n",
    "\n",
    "\n",
    "    training_params['CV_config'] = {\n",
    "        'subject_id': 113,\n",
    "        'task_id': 1,\n",
    "    }\n",
    "    stage3_dict = data_loader('stage3_dict', inputdir).item()\n",
    "    \n",
    "    training_params = merge_dict(training_params, stage3_dict)\n",
    "#     training_params['list_signal'] = stage3_dict['list_signal']\n",
    "#     training_params['list_feature'] = stage3_dict['list_feature']\n",
    "#     training_params['list_output'] = stage3_dict['list_output']\n",
    "#     training_params['list_meta'] = stage3_dict['list_meta']\n",
    "#     training_params['FS_RESAMPLE_DL'] = stage3_dict['FS_RESAMPLE_DL']\n",
    "#     training_params['subject_ids'] = stage3_dict['subject_ids']\n",
    "#     training_params['task_ids'] = stage3_dict['task_ids']\n",
    "    \n",
    "#     input_CV = '../../data/stage3/113/CV2/'\n",
    "#     dataloaders, dataset_sizes = get_loaders(input_CV, training_params)\n",
    "    dataloaders, dataset_sizes = get_loaders(inputdir, training_params)\n",
    "    print('data dimensions are:', dataloaders['train'].dataset.data.shape)\n",
    "\n",
    "    data_dimensions = dataloaders['train'].dataset.__getitem__(0)[0].size()\n",
    "    training_params['data_dimensions'] = list(data_dimensions)\n",
    "    \n",
    "    sweep_name = training_params['sweep_name'] \n",
    "    \n",
    "\n",
    "# training_params = training_params_list[0]"
   ]
  },
  {
   "cell_type": "code",
   "execution_count": null,
   "metadata": {},
   "outputs": [],
   "source": []
  },
  {
   "cell_type": "code",
   "execution_count": null,
   "metadata": {},
   "outputs": [],
   "source": []
  },
  {
   "cell_type": "code",
   "execution_count": null,
   "metadata": {},
   "outputs": [],
   "source": []
  },
  {
   "cell_type": "code",
   "execution_count": 7,
   "metadata": {},
   "outputs": [
    {
     "data": {
      "text/plain": [
       "{'model_name': 'cnn',\n",
       " 'sweep_name': 'baseline',\n",
       " 'kernel_size': [10],\n",
       " 'channel_n': 16,\n",
       " 'num_epochs': 3,\n",
       " 'batch_size': 64,\n",
       " 'learning_rate': 0.001,\n",
       " 'cuda_i': 0,\n",
       " 'use_sc': True,\n",
       " 'wandb': True,\n",
       " 'input_names': ['ECG', 'accelZ', 'ppg_r_1'],\n",
       " 'feature_names': ['HR_patch', 'weight'],\n",
       " 'output_names': ['RR_cosmed'],\n",
       " 'meta_names': ['subject_id', 'task'],\n",
       " 'CV_config': {'subject_id': 113, 'task_id': 1},\n",
       " 'list_feature': ['VE_cosmed', 'HR_patch', 'weight'],\n",
       " 'list_output': ['RR_cosmed',\n",
       "  'VT_cosmed',\n",
       "  'EE_cosmed',\n",
       "  'SPO2_cosmed',\n",
       "  'HR_cosmed',\n",
       "  'VO2_cosmed',\n",
       "  'resp_cosmed'],\n",
       " 'list_meta': ['subject_id', 'task'],\n",
       " 'list_signal': ['ECG', 'accelZ', 'ppg_r_1'],\n",
       " 'FS_RESAMPLE_DL': 100,\n",
       " 'subject_ids': array([101, 102, 103, 104, 105, 106, 107, 108, 109, 110, 111, 113, 114,\n",
       "        115, 116, 117, 118]),\n",
       " 'task_ids': array([0, 1, 2, 3, 4, 5]),\n",
       " 'window_size': 30,\n",
       " 'overlap': 0.9,\n",
       " 'data_dimensions': [3, 3000]}"
      ]
     },
     "execution_count": 7,
     "metadata": {},
     "output_type": "execute_result"
    }
   ],
   "source": [
    "training_params"
   ]
  },
  {
   "cell_type": "code",
   "execution_count": null,
   "metadata": {},
   "outputs": [],
   "source": []
  },
  {
   "cell_type": "code",
   "execution_count": null,
   "metadata": {},
   "outputs": [],
   "source": []
  },
  {
   "cell_type": "code",
   "execution_count": 8,
   "metadata": {},
   "outputs": [
    {
     "data": {
      "text/plain": [
       "(4865, 3, 3000)"
      ]
     },
     "execution_count": 8,
     "metadata": {},
     "output_type": "execute_result"
    }
   ],
   "source": [
    "dataloaders['train'].dataset.data.shape"
   ]
  },
  {
   "cell_type": "code",
   "execution_count": null,
   "metadata": {},
   "outputs": [],
   "source": []
  },
  {
   "cell_type": "code",
   "execution_count": null,
   "metadata": {},
   "outputs": [],
   "source": []
  },
  {
   "cell_type": "code",
   "execution_count": 9,
   "metadata": {},
   "outputs": [],
   "source": [
    "\n",
    "from scipy.io import loadmat\n",
    "import scipy\n",
    "from scipy import signal\n",
    "from scipy.fftpack import fft, ifft\n",
    "from scipy.signal import hilbert, chirp\n",
    "from scipy.signal import find_peaks\n",
    "from scipy.interpolate import interp1d"
   ]
  },
  {
   "cell_type": "code",
   "execution_count": 10,
   "metadata": {},
   "outputs": [],
   "source": [
    "def get_RR_range():\n",
    "    \n",
    "#     return np.asarray(label_range_dict['br'])/60\n",
    "\n",
    "#     return np.asarray([0.08, 0.7])\n",
    "    return np.asarray([0.1, 0.7])\n",
    "\n",
    "\n",
    "# TBD, this is not as good as signal.stft\n",
    "def get_psd(sig, NFFT):\n",
    "    yf = scipy.fftpack.fft(sig)\n",
    "    yf_scaled = 2.0/NFFT * (np.abs(yf[:NFFT//2])**2)\n",
    "    return yf_scaled\n",
    "\n",
    "def get_PSD_windows_scipy(t_sig, sig, Fs, NFFT, noverlap):\n",
    "    # already tested, this is equivalent to ax.specgram\n",
    "    # usage:\n",
    "    # ts_Pxx, Pxx, freq = get_PSD_windows_scipy(t_sig, sig, Fs, NFFT, noverlap)\n",
    "\n",
    "    freq, t, Zxx = signal.stft(sig, Fs, noverlap=noverlap, nperseg=NFFT, padded=False, boundary=None)\n",
    "    Pxx = np.abs(Zxx)**2\n",
    "    ts_Pxx = t + t_sig[0]\n",
    "\n",
    "    \n",
    "#     mask = (freq>0.08) & (freq<0.8)\n",
    "#     freq = freq[mask] # RR can be as low as 0.08 Hz = 4.8 bpm and as high as 0.8 Hz = 48 bpm \n",
    "#     RR_range = np.asarray(label_range_dict['br'])/60\n",
    "    RR_range = get_RR_range()\n",
    "    \n",
    "    \n",
    "    mask = (freq>RR_range[0]) & (freq<RR_range[-1])\n",
    "    freq = freq[mask]\n",
    "    \n",
    "    Pxx = Pxx[mask,:]\n",
    "    Pxx = Pxx.T\n",
    "    return ts_Pxx, Pxx, freq\n"
   ]
  },
  {
   "cell_type": "code",
   "execution_count": 11,
   "metadata": {},
   "outputs": [
    {
     "data": {
      "text/plain": [
       "{'model_name': 'cnn',\n",
       " 'sweep_name': 'baseline',\n",
       " 'kernel_size': [10],\n",
       " 'channel_n': 16,\n",
       " 'num_epochs': 3,\n",
       " 'batch_size': 64,\n",
       " 'learning_rate': 0.001,\n",
       " 'cuda_i': 0,\n",
       " 'use_sc': True,\n",
       " 'wandb': True,\n",
       " 'input_names': ['ECG', 'accelZ', 'ppg_r_1'],\n",
       " 'feature_names': ['HR_patch', 'weight'],\n",
       " 'output_names': ['RR_cosmed'],\n",
       " 'meta_names': ['subject_id', 'task'],\n",
       " 'CV_config': {'subject_id': 113, 'task_id': 1},\n",
       " 'list_feature': ['VE_cosmed', 'HR_patch', 'weight'],\n",
       " 'list_output': ['RR_cosmed',\n",
       "  'VT_cosmed',\n",
       "  'EE_cosmed',\n",
       "  'SPO2_cosmed',\n",
       "  'HR_cosmed',\n",
       "  'VO2_cosmed',\n",
       "  'resp_cosmed'],\n",
       " 'list_meta': ['subject_id', 'task'],\n",
       " 'list_signal': ['ECG', 'accelZ', 'ppg_r_1'],\n",
       " 'FS_RESAMPLE_DL': 100,\n",
       " 'subject_ids': array([101, 102, 103, 104, 105, 106, 107, 108, 109, 110, 111, 113, 114,\n",
       "        115, 116, 117, 118]),\n",
       " 'task_ids': array([0, 1, 2, 3, 4, 5]),\n",
       " 'window_size': 30,\n",
       " 'overlap': 0.9,\n",
       " 'data_dimensions': [3, 3000]}"
      ]
     },
     "execution_count": 11,
     "metadata": {},
     "output_type": "execute_result"
    }
   ],
   "source": [
    "training_params"
   ]
  },
  {
   "cell_type": "code",
   "execution_count": 12,
   "metadata": {},
   "outputs": [
    {
     "data": {
      "text/plain": [
       "(4865, 1)"
      ]
     },
     "execution_count": 12,
     "metadata": {},
     "output_type": "execute_result"
    }
   ],
   "source": [
    "dataloaders['train'].dataset.label.shape"
   ]
  },
  {
   "cell_type": "code",
   "execution_count": 14,
   "metadata": {},
   "outputs": [],
   "source": [
    "# plt.plot(t_sig, sig)"
   ]
  },
  {
   "cell_type": "code",
   "execution_count": 15,
   "metadata": {},
   "outputs": [],
   "source": [
    "# Fs\n",
    "# freq, t, Zxx  = signal.stft(sig, Fs)\n",
    "def get_PSD_scipy(sig, Fs):\n",
    "    \n",
    "    N = sig.shape[0]\n",
    "    T = 1/Fs\n",
    "\n",
    "    Zxx = scipy.fftpack.fft(sig)[:N//2]\n",
    "    Pxx = np.abs(Zxx)**2\n",
    "\n",
    "    freq = np.linspace(0.0, 1.0/(2.0*T), int(N/2))\n",
    "\n",
    "    \n",
    "    RR_range = get_RR_range()\n",
    "    \n",
    "    mask = (freq>RR_range[0]) & (freq<RR_range[-1])\n",
    "    freq = freq[mask]\n",
    " \n",
    "    Pxx = Pxx[mask]\n",
    "    \n",
    "    return freq, Pxx\n",
    "# data_FT.append({'freq':xf, 'magnitude': yf})\n",
    "\n",
    "\n",
    "# plt.plot()"
   ]
  },
  {
   "cell_type": "code",
   "execution_count": 18,
   "metadata": {},
   "outputs": [
    {
     "data": {
      "image/png": "[encoded data removed]",
      "text/plain": [
       "<Figure size 400x400 with 2 Axes>"
      ]
     },
     "metadata": {},
     "output_type": "display_data"
    }
   ],
   "source": [
    "j = 1\n",
    "sig = dataloaders['val'].dataset.data[j, -1, :]\n",
    "RR_label = dataloaders['val'].dataset.label[j].squeeze()\n",
    "\n",
    "Fs = training_params['FS_RESAMPLE_DL']\n",
    "\n",
    "freq, Pxx = get_PSD_scipy(sig, Fs)\n",
    "\n",
    "# plt.plot(freq[:10], Pxx[:10])\n",
    "\n",
    "i_max = np.argmax(Pxx.squeeze())\n",
    "\n",
    "\n",
    "fig, (ax1, ax2) = plt.subplots(2, 1, figsize=(5,5), dpi=80)\n",
    "\n",
    "t_sig = np.arange(sig.shape[0])/Fs\n",
    "ax1.plot(t_sig, sig)\n",
    "\n",
    "\n",
    "RR_est = freq[i_max]*60\n",
    "ax2.plot(freq, Pxx.squeeze())\n",
    "ax2.scatter(freq[i_max], Pxx.squeeze()[i_max])\n",
    "ax2.set_title('RR_est={:.2f}bpm\\nRR_label={:.2f}bpm'.format(RR_est, RR_label))\n",
    "\n",
    "fig.tight_layout()"
   ]
  },
  {
   "cell_type": "code",
   "execution_count": null,
   "metadata": {},
   "outputs": [],
   "source": []
  },
  {
   "cell_type": "code",
   "execution_count": null,
   "metadata": {},
   "outputs": [],
   "source": []
  },
  {
   "cell_type": "code",
   "execution_count": null,
   "metadata": {},
   "outputs": [],
   "source": []
  },
  {
   "cell_type": "code",
   "execution_count": 97,
   "metadata": {},
   "outputs": [
    {
     "name": "stdout",
     "output_type": "stream",
     "text": [
      "101\n",
      "102\n",
      "103\n",
      "104\n",
      "105\n",
      "106\n",
      "107\n",
      "108\n",
      "109\n",
      "110\n",
      "111\n",
      "113\n",
      "114\n",
      "115\n",
      "116\n",
      "117\n",
      "118\n"
     ]
    }
   ],
   "source": [
    "\n",
    "df_outputlabel_val = pd.DataFrame()\n",
    "\n",
    "for subject_id in training_params['subject_ids']:\n",
    "    print(subject_id)\n",
    "    training_params['CV_config']['subject_id'] = subject_id\n",
    "    dataloaders, dataset_sizes = get_loaders(inputdir, training_params)\n",
    "\n",
    "    data = dataloaders['val'].dataset.data\n",
    "    label = dataloaders['val'].dataset.label.squeeze()\n",
    "\n",
    "\n",
    "    # = label.squeeze()\n",
    "\n",
    "    for j in range(data.shape[0]):\n",
    "        sig = data[j, -1, :]\n",
    "\n",
    "        Fs = training_params['FS_RESAMPLE_DL']\n",
    "\n",
    "        freq, Pxx = get_PSD_scipy(sig, Fs)\n",
    "\n",
    "        i_max = np.argmax(Pxx.squeeze())\n",
    "#         RR_est.append( freq[i_max]*60 )\n",
    "\n",
    "\n",
    "\n",
    "        df_outputlabel_val = df_outputlabel_val.append(\n",
    "            pd.DataFrame( {\n",
    "            'label_est': freq[i_max]*60,\n",
    "            'label': label[j],\n",
    "            'CV': subject_id,\n",
    "            'task': ['RR']\n",
    "            }), ignore_index=True )\n",
    "\n",
    "\n",
    "    "
   ]
  },
  {
   "cell_type": "code",
   "execution_count": 100,
   "metadata": {},
   "outputs": [
    {
     "data": {
      "text/plain": [
       "'RR'"
      ]
     },
     "execution_count": 100,
     "metadata": {},
     "output_type": "execute_result"
    }
   ],
   "source": [
    "df_outputlabel_val['task'][0]"
   ]
  },
  {
   "cell_type": "code",
   "execution_count": null,
   "metadata": {},
   "outputs": [],
   "source": []
  },
  {
   "cell_type": "code",
   "execution_count": null,
   "metadata": {},
   "outputs": [],
   "source": [
    "# TODO: finish this block!"
   ]
  },
  {
   "cell_type": "code",
   "execution_count": null,
   "metadata": {},
   "outputs": [],
   "source": [
    "\n",
    "def get_df_performance2(df_outputlabel):\n",
    "    \n",
    "    df_performance = pd.DataFrame()\n",
    "\n",
    "    \n",
    "    for subject_id in df_outputlabel['subject_id'].unique()\n",
    "        df_sub = df_outputlabel[df_outputlabel['subject_id']==subject_id]\n",
    "        task = df_sub['task'][0]\n",
    "        \n",
    "        \n",
    "        label = df_sub['label']\n",
    "        label_est = df_sub['label_est']\n",
    "\n",
    "\n",
    "        rmse = np.sqrt(mean_squared_error(label, label_est))\n",
    "\n",
    "        mae, _ = get_MAE(label, label_est)\n",
    "        mape, _ = get_MAPE(label, label_est)\n",
    "\n",
    "        Rsquared = get_CoeffDeterm(label=label, predictions=label_est)\n",
    "\n",
    "        df_performance.append(pd.DataFrame({\n",
    "            'CV': [subject_id],\n",
    "            'task': [task],\n",
    "            'Rsquared': [Rsquared],\n",
    "            'rmse': [rmse],\n",
    "            'mae': [mae],\n",
    "            'mape': [mape],\n",
    "        }), ignore_index=True )\n",
    "\n",
    "    return df_performance"
   ]
  },
  {
   "cell_type": "code",
   "execution_count": null,
   "metadata": {},
   "outputs": [],
   "source": []
  },
  {
   "cell_type": "code",
   "execution_count": null,
   "metadata": {},
   "outputs": [],
   "source": []
  },
  {
   "cell_type": "code",
   "execution_count": 98,
   "metadata": {},
   "outputs": [
    {
     "data": {
      "text/plain": [
       "<matplotlib.collections.PathCollection at 0x7fdac4052f90>"
      ]
     },
     "execution_count": 98,
     "metadata": {},
     "output_type": "execute_result"
    },
    {
     "data": {
      "image/png": "[encoded data removed]",
      "text/plain": [
       "<Figure size 432x288 with 1 Axes>"
      ]
     },
     "metadata": {},
     "output_type": "display_data"
    }
   ],
   "source": [
    "plt.scatter(df_outputlabel_val['label_est'],df_outputlabel_val['label'])"
   ]
  },
  {
   "cell_type": "code",
   "execution_count": null,
   "metadata": {},
   "outputs": [],
   "source": [
    "plot_regression(df_outputlabel_val, df_performance_val, task, show_plot=True, outputdir=None)\n"
   ]
  },
  {
   "cell_type": "code",
   "execution_count": 76,
   "metadata": {},
   "outputs": [],
   "source": [
    "# RR_est = []\n",
    "# RR_label = []\n",
    "df_outputlabel_val = pd.DataFrame()\n",
    "\n",
    "# = label.squeeze()\n",
    "\n",
    "for j in range(data.shape[0]):\n",
    "    sig = data[j, -1, :]\n",
    "\n",
    "    Fs = training_params['FS_RESAMPLE_DL']\n",
    "\n",
    "    freq, Pxx = get_PSD_scipy(sig, Fs)\n",
    "\n",
    "    i_max = np.argmax(Pxx.squeeze())\n",
    "    RR_est.append( freq[i_max]*60 )\n",
    "    \n",
    "    \n",
    "    \n",
    "    df_outputlabel_val = df_outputlabel_val.append(\n",
    "        pd.DataFrame( {\n",
    "        'label_est': freq[i_max]*60,\n",
    "        'label': label[j].squeeze(),\n",
    "        'CV': subject_id,\n",
    "        'task': 'RR'\n",
    "        }), ignore_index=True )\n",
    "\n",
    "\n",
    "    \n",
    "RR_est = np.asarray(RR_est)"
   ]
  },
  {
   "cell_type": "code",
   "execution_count": 77,
   "metadata": {},
   "outputs": [
    {
     "data": {
      "text/plain": [
       "((304,), (304,))"
      ]
     },
     "execution_count": 77,
     "metadata": {},
     "output_type": "execute_result"
    }
   ],
   "source": [
    "RR_est.shape, RR_label.shape"
   ]
  },
  {
   "cell_type": "code",
   "execution_count": 78,
   "metadata": {},
   "outputs": [
    {
     "data": {
      "text/plain": [
       "<matplotlib.collections.PathCollection at 0x7fdac40cc410>"
      ]
     },
     "execution_count": 78,
     "metadata": {},
     "output_type": "execute_result"
    },
    {
     "data": {
      "image/png": "[encoded data removed]",
      "text/plain": [
       "<Figure size 432x288 with 1 Axes>"
      ]
     },
     "metadata": {},
     "output_type": "display_data"
    }
   ],
   "source": [
    "plt.scatter(RR_est, RR_label)"
   ]
  },
  {
   "cell_type": "code",
   "execution_count": null,
   "metadata": {},
   "outputs": [],
   "source": []
  },
  {
   "cell_type": "code",
   "execution_count": 27,
   "metadata": {},
   "outputs": [
    {
     "data": {
      "image/png": "[encoded data removed]",
      "text/plain": [
       "<Figure size 400x400 with 2 Axes>"
      ]
     },
     "metadata": {},
     "output_type": "display_data"
    }
   ],
   "source": [
    "j = 100\n",
    "sig = dataloaders['train'].dataset.data[j, -1, :]\n",
    "RR_label = dataloaders['train'].dataset.label[j].squeeze()\n",
    "\n",
    "Fs = training_params['FS_RESAMPLE_DL']\n",
    "\n",
    "t_sig = np.arange(sig.shape[0])/Fs\n",
    "NFFT = int(Fs*training_params['window_size'])  # 20 sec per window\n",
    "noverlap = int(NFFT*training_params['overlap']) # int(60*0.8*Fs) = 4.8 sec * Fs\n",
    "\n",
    "ts_Pxx, Pxx, freq = get_PSD_windows_scipy(t_sig, sig, Fs, NFFT, noverlap)\n",
    "\n",
    "i_max = np.argmax(Pxx.squeeze())\n",
    "\n",
    "\n",
    "fig, (ax1, ax2) = plt.subplots(2, 1, figsize=(5,5), dpi=80)\n",
    "\n",
    "ax1.plot(t_sig, sig)\n",
    "\n",
    "\n",
    "RR_est = freq[i_max]*60\n",
    "ax2.plot(freq, Pxx.squeeze())\n",
    "ax2.scatter(freq[i_max], Pxx.squeeze()[i_max])\n",
    "ax2.set_title('RR_est={:.2f}bpm\\nRR_label={:.2f}bpm'.format(RR_est, RR_label))\n",
    "\n",
    "fig.tight_layout()"
   ]
  },
  {
   "cell_type": "code",
   "execution_count": 17,
   "metadata": {},
   "outputs": [
    {
     "data": {
      "text/plain": [
       "8.0"
      ]
     },
     "execution_count": 17,
     "metadata": {},
     "output_type": "execute_result"
    }
   ],
   "source": []
  },
  {
   "cell_type": "code",
   "execution_count": null,
   "metadata": {},
   "outputs": [],
   "source": []
  },
  {
   "cell_type": "code",
   "execution_count": null,
   "metadata": {},
   "outputs": [],
   "source": []
  },
  {
   "cell_type": "code",
   "execution_count": null,
   "metadata": {},
   "outputs": [],
   "source": []
  },
  {
   "cell_type": "markdown",
   "metadata": {},
   "source": [
    "# compute MET using our own data\n",
    "\n",
    "## sedentary MET=1.5 kcal/kg/h = 1.5/60 kcal/kg/min = 0.025 kcal/kg/min\n",
    "### ref: https://www.ncbi.nlm.nih.gov/pmc/articles/PMC4448542/"
   ]
  },
  {
   "cell_type": "code",
   "execution_count": 41,
   "metadata": {},
   "outputs": [
    {
     "name": "stdout",
     "output_type": "stream",
     "text": [
      "MET_train is 0.039 kcal/kg/min\n"
     ]
    }
   ],
   "source": [
    "# # dataloaders['train'].dataset.data\n",
    "\n",
    "# i_feature = training_params['feature_names'].index('weight')\n",
    "# i_label = training_params['output_names'].index('EE_cosmed')\n",
    "\n",
    "\n",
    "# MET_train = dataloaders['train'].dataset.label[:,i_label] / dataloaders['train'].dataset.feature[:,i_feature]\n",
    "# MET_train = MET_train.mean()\n",
    "# print('MET_train is {:.3f} kcal/kg/min'.format(MET_train))"
   ]
  },
  {
   "cell_type": "code",
   "execution_count": null,
   "metadata": {},
   "outputs": [],
   "source": []
  },
  {
   "cell_type": "code",
   "execution_count": 45,
   "metadata": {},
   "outputs": [],
   "source": []
  },
  {
   "cell_type": "code",
   "execution_count": null,
   "metadata": {},
   "outputs": [],
   "source": []
  },
  {
   "cell_type": "code",
   "execution_count": null,
   "metadata": {},
   "outputs": [],
   "source": []
  },
  {
   "cell_type": "code",
   "execution_count": null,
   "metadata": {},
   "outputs": [],
   "source": []
  },
  {
   "cell_type": "code",
   "execution_count": null,
   "metadata": {},
   "outputs": [],
   "source": []
  },
  {
   "cell_type": "code",
   "execution_count": null,
   "metadata": {},
   "outputs": [],
   "source": []
  },
  {
   "cell_type": "code",
   "execution_count": null,
   "metadata": {},
   "outputs": [],
   "source": []
  },
  {
   "cell_type": "code",
   "execution_count": null,
   "metadata": {},
   "outputs": [],
   "source": []
  },
  {
   "cell_type": "code",
   "execution_count": null,
   "metadata": {},
   "outputs": [],
   "source": [
    "\n",
    "def get_df_performance(df_performance, label, label_est, task, subject_id):\n",
    "    rmse = np.sqrt(mean_squared_error(label, label_est))\n",
    "\n",
    "    mae, _ = get_MAE(label, label_est)\n",
    "    mape, _ = get_MAPE(label, label_est)\n",
    "\n",
    "    Rsquared = get_CoeffDeterm(label=label, predictions=label_est)\n",
    "\n",
    "    df_performance.append(pd.DataFrame({\n",
    "        'CV': [subject_id],\n",
    "        'task': [task],\n",
    "        'Rsquared': [Rsquared],\n",
    "        'rmse': [rmse],\n",
    "        'mae': [mae],\n",
    "        'mape': [mape],\n",
    "    }))\n",
    "    \n",
    "    return df_performance"
   ]
  },
  {
   "cell_type": "code",
   "execution_count": 70,
   "metadata": {},
   "outputs": [],
   "source": [
    "task = training_params['output_names'][0]"
   ]
  },
  {
   "cell_type": "code",
   "execution_count": 71,
   "metadata": {},
   "outputs": [],
   "source": [
    "\n",
    "def get_df_performance(df_performance, label, label_est, task, subject_id):\n",
    "    rmse = np.sqrt(mean_squared_error(label, label_est))\n",
    "\n",
    "    mae, _ = get_MAE(label, label_est)\n",
    "    mape, _ = get_MAPE(label, label_est)\n",
    "\n",
    "    Rsquared = get_CoeffDeterm(label=label, predictions=label_est)\n",
    "\n",
    "    df_performance.append(pd.DataFrame({\n",
    "        'CV': [subject_id],\n",
    "        'task': [task],\n",
    "        'Rsquared': [Rsquared],\n",
    "        'rmse': [rmse],\n",
    "        'mae': [mae],\n",
    "        'mape': [mape],\n",
    "    }))\n",
    "    \n",
    "    return df_performance"
   ]
  },
  {
   "cell_type": "code",
   "execution_count": 79,
   "metadata": {},
   "outputs": [
    {
     "name": "stdout",
     "output_type": "stream",
     "text": [
      "input_names are: ['ECG', 'accelZ', 'ppg_r_1']\n",
      "feature_names are: ['weight']\n",
      "output_names are: ['EE_cosmed']\n",
      "meta_names are: ['subject_id', 'task']\n",
      "(3314, 3, 3000) (3314, 1) (3314, 1) (3314, 2)\n",
      "input_names are: ['ECG', 'accelZ', 'ppg_r_1']\n",
      "feature_names are: ['weight']\n",
      "output_names are: ['EE_cosmed']\n",
      "meta_names are: ['subject_id', 'task']\n",
      "(301, 3, 3000) (301, 1) (301, 1) (301, 2)\n",
      "input_names are: ['ECG', 'accelZ', 'ppg_r_1']\n",
      "feature_names are: ['weight']\n",
      "output_names are: ['EE_cosmed']\n",
      "meta_names are: ['subject_id', 'task']\n",
      "(3307, 3, 3000) (3307, 1) (3307, 1) (3307, 2)\n",
      "input_names are: ['ECG', 'accelZ', 'ppg_r_1']\n",
      "feature_names are: ['weight']\n",
      "output_names are: ['EE_cosmed']\n",
      "meta_names are: ['subject_id', 'task']\n",
      "(308, 3, 3000) (308, 1) (308, 1) (308, 2)\n",
      "input_names are: ['ECG', 'accelZ', 'ppg_r_1']\n",
      "feature_names are: ['weight']\n",
      "output_names are: ['EE_cosmed']\n",
      "meta_names are: ['subject_id', 'task']\n",
      "(3306, 3, 3000) (3306, 1) (3306, 1) (3306, 2)\n",
      "input_names are: ['ECG', 'accelZ', 'ppg_r_1']\n",
      "feature_names are: ['weight']\n",
      "output_names are: ['EE_cosmed']\n",
      "meta_names are: ['subject_id', 'task']\n",
      "(309, 3, 3000) (309, 1) (309, 1) (309, 2)\n",
      "input_names are: ['ECG', 'accelZ', 'ppg_r_1']\n",
      "feature_names are: ['weight']\n",
      "output_names are: ['EE_cosmed']\n",
      "meta_names are: ['subject_id', 'task']\n",
      "(3311, 3, 3000) (3311, 1) (3311, 1) (3311, 2)\n",
      "input_names are: ['ECG', 'accelZ', 'ppg_r_1']\n",
      "feature_names are: ['weight']\n",
      "output_names are: ['EE_cosmed']\n",
      "meta_names are: ['subject_id', 'task']\n",
      "(304, 3, 3000) (304, 1) (304, 1) (304, 2)\n",
      "input_names are: ['ECG', 'accelZ', 'ppg_r_1']\n",
      "feature_names are: ['weight']\n",
      "output_names are: ['EE_cosmed']\n",
      "meta_names are: ['subject_id', 'task']\n",
      "(3301, 3, 3000) (3301, 1) (3301, 1) (3301, 2)\n",
      "input_names are: ['ECG', 'accelZ', 'ppg_r_1']\n",
      "feature_names are: ['weight']\n",
      "output_names are: ['EE_cosmed']\n",
      "meta_names are: ['subject_id', 'task']\n",
      "(314, 3, 3000) (314, 1) (314, 1) (314, 2)\n",
      "input_names are: ['ECG', 'accelZ', 'ppg_r_1']\n",
      "feature_names are: ['weight']\n",
      "output_names are: ['EE_cosmed']\n",
      "meta_names are: ['subject_id', 'task']\n",
      "(3310, 3, 3000) (3310, 1) (3310, 1) (3310, 2)\n",
      "input_names are: ['ECG', 'accelZ', 'ppg_r_1']\n",
      "feature_names are: ['weight']\n",
      "output_names are: ['EE_cosmed']\n",
      "meta_names are: ['subject_id', 'task']\n",
      "(305, 3, 3000) (305, 1) (305, 1) (305, 2)\n",
      "input_names are: ['ECG', 'accelZ', 'ppg_r_1']\n",
      "feature_names are: ['weight']\n",
      "output_names are: ['EE_cosmed']\n",
      "meta_names are: ['subject_id', 'task']\n",
      "(3363, 3, 3000) (3363, 1) (3363, 1) (3363, 2)\n",
      "input_names are: ['ECG', 'accelZ', 'ppg_r_1']\n",
      "feature_names are: ['weight']\n",
      "output_names are: ['EE_cosmed']\n",
      "meta_names are: ['subject_id', 'task']\n",
      "(252, 3, 3000) (252, 1) (252, 1) (252, 2)\n",
      "input_names are: ['ECG', 'accelZ', 'ppg_r_1']\n",
      "feature_names are: ['weight']\n",
      "output_names are: ['EE_cosmed']\n",
      "meta_names are: ['subject_id', 'task']\n",
      "(3311, 3, 3000) (3311, 1) (3311, 1) (3311, 2)\n",
      "input_names are: ['ECG', 'accelZ', 'ppg_r_1']\n",
      "feature_names are: ['weight']\n",
      "output_names are: ['EE_cosmed']\n",
      "meta_names are: ['subject_id', 'task']\n",
      "(304, 3, 3000) (304, 1) (304, 1) (304, 2)\n",
      "input_names are: ['ECG', 'accelZ', 'ppg_r_1']\n",
      "feature_names are: ['weight']\n",
      "output_names are: ['EE_cosmed']\n",
      "meta_names are: ['subject_id', 'task']\n",
      "(3311, 3, 3000) (3311, 1) (3311, 1) (3311, 2)\n",
      "input_names are: ['ECG', 'accelZ', 'ppg_r_1']\n",
      "feature_names are: ['weight']\n",
      "output_names are: ['EE_cosmed']\n",
      "meta_names are: ['subject_id', 'task']\n",
      "(304, 3, 3000) (304, 1) (304, 1) (304, 2)\n",
      "input_names are: ['ECG', 'accelZ', 'ppg_r_1']\n",
      "feature_names are: ['weight']\n",
      "output_names are: ['EE_cosmed']\n",
      "meta_names are: ['subject_id', 'task']\n",
      "(3312, 3, 3000) (3312, 1) (3312, 1) (3312, 2)\n",
      "input_names are: ['ECG', 'accelZ', 'ppg_r_1']\n",
      "feature_names are: ['weight']\n",
      "output_names are: ['EE_cosmed']\n",
      "meta_names are: ['subject_id', 'task']\n",
      "(303, 3, 3000) (303, 1) (303, 1) (303, 2)\n",
      "input_names are: ['ECG', 'accelZ', 'ppg_r_1']\n",
      "feature_names are: ['weight']\n",
      "output_names are: ['EE_cosmed']\n",
      "meta_names are: ['subject_id', 'task']\n",
      "(3309, 3, 3000) (3309, 1) (3309, 1) (3309, 2)\n",
      "input_names are: ['ECG', 'accelZ', 'ppg_r_1']\n",
      "feature_names are: ['weight']\n",
      "output_names are: ['EE_cosmed']\n",
      "meta_names are: ['subject_id', 'task']\n",
      "(306, 3, 3000) (306, 1) (306, 1) (306, 2)\n",
      "input_names are: ['ECG', 'accelZ', 'ppg_r_1']\n",
      "feature_names are: ['weight']\n",
      "output_names are: ['EE_cosmed']\n",
      "meta_names are: ['subject_id', 'task']\n",
      "(3310, 3, 3000) (3310, 1) (3310, 1) (3310, 2)\n",
      "input_names are: ['ECG', 'accelZ', 'ppg_r_1']\n",
      "feature_names are: ['weight']\n",
      "output_names are: ['EE_cosmed']\n",
      "meta_names are: ['subject_id', 'task']\n",
      "(305, 3, 3000) (305, 1) (305, 1) (305, 2)\n"
     ]
    }
   ],
   "source": [
    "df_performance_train = []\n",
    "df_performance_val = []\n",
    "\n",
    "df_outputlabel_train = []\n",
    "df_outputlabel_val = []\n",
    "\n",
    "\n",
    "training_params['feature_names'] = ['weight']\n",
    "training_params['output_names'] = ['EE_cosmed']\n",
    "\n",
    "for subject_id in training_params['subject_ids']:\n",
    "\n",
    "    training_params['CV_config']['subject_id'] = subject_id\n",
    "\n",
    "    dataloaders, dataset_sizes = get_loaders(inputdir, training_params)\n",
    "    \n",
    "    i_feature = training_params['feature_names'].index('weight')\n",
    "    i_label = training_params['output_names'].index('EE_cosmed')\n",
    "\n",
    "    MET_train = dataloaders['train'].dataset.label[:,i_label] / dataloaders['train'].dataset.feature[:,i_feature]\n",
    "    MET_train = MET_train.mean()\n",
    "\n",
    "    label_est_train = MET_train*dataloaders['train'].dataset.feature[:,i_feature]\n",
    "    label_train = dataloaders['train'].dataset.label[:,i_label]\n",
    "    \n",
    "    label_est_val = MET_train*dataloaders['val'].dataset.feature[:,i_feature]\n",
    "    label_val = dataloaders['val'].dataset.label[:,i_label]\n",
    "    \n",
    "    df_performance_train = get_df_performance(df_performance_train, label_train, label_est_train, task, subject_id)\n",
    "    df_performance_val = get_df_performance(df_performance_val, label_val, label_est_val, task, subject_id)\n",
    "\n",
    "        \n",
    "    df_outputlabel_val.append(\n",
    "        pd.DataFrame( {\n",
    "        'label_est': label_est_val,\n",
    "        'label': label_val,\n",
    "        'CV': subject_id,\n",
    "        'MET_train': MET_train\n",
    "#             'task': [task]*label_val.shape[0]\n",
    "        })\n",
    "    )\n",
    "    # df_outputlabel\n",
    "    df_outputlabel_train.append(\n",
    "        pd.DataFrame( {\n",
    "        'label_est': label_est_train,\n",
    "        'label': label_train,\n",
    "        'CV': subject_id,\n",
    "        'MET_train': MET_train\n",
    "\n",
    "#             'task': [task]*label_train.shape[0]\n",
    "        })\n",
    "    )\n",
    "\n",
    "df_performance_train = pd.concat(df_performance_train)\n",
    "df_performance_val = pd.concat(df_performance_val)\n",
    "\n",
    "df_outputlabel_train = pd.concat(df_outputlabel_train)\n",
    "df_outputlabel_val = pd.concat(df_outputlabel_val)"
   ]
  },
  {
   "cell_type": "code",
   "execution_count": null,
   "metadata": {},
   "outputs": [],
   "source": []
  },
  {
   "cell_type": "code",
   "execution_count": null,
   "metadata": {},
   "outputs": [],
   "source": []
  },
  {
   "cell_type": "code",
   "execution_count": 80,
   "metadata": {},
   "outputs": [
    {
     "data": {
      "text/html": [
       "<div>\n",
       "<style scoped>\n",
       "    .dataframe tbody tr th:only-of-type {\n",
       "        vertical-align: middle;\n",
       "    }\n",
       "\n",
       "    .dataframe tbody tr th {\n",
       "        vertical-align: top;\n",
       "    }\n",
       "\n",
       "    .dataframe thead th {\n",
       "        text-align: right;\n",
       "    }\n",
       "</style>\n",
       "<table border=\"1\" class=\"dataframe\">\n",
       "  <thead>\n",
       "    <tr style=\"text-align: right;\">\n",
       "      <th></th>\n",
       "      <th>CV</th>\n",
       "      <th>task</th>\n",
       "      <th>Rsquared</th>\n",
       "      <th>rmse</th>\n",
       "      <th>mae</th>\n",
       "      <th>mape</th>\n",
       "    </tr>\n",
       "  </thead>\n",
       "  <tbody>\n",
       "    <tr>\n",
       "      <th>0</th>\n",
       "      <td>101</td>\n",
       "      <td>EE_cosmed</td>\n",
       "      <td>-0.038412</td>\n",
       "      <td>2.172187</td>\n",
       "      <td>1.410192</td>\n",
       "      <td>0.340162</td>\n",
       "    </tr>\n",
       "    <tr>\n",
       "      <th>0</th>\n",
       "      <td>102</td>\n",
       "      <td>EE_cosmed</td>\n",
       "      <td>-0.212120</td>\n",
       "      <td>1.307028</td>\n",
       "      <td>1.087031</td>\n",
       "      <td>0.605227</td>\n",
       "    </tr>\n",
       "    <tr>\n",
       "      <th>0</th>\n",
       "      <td>103</td>\n",
       "      <td>EE_cosmed</td>\n",
       "      <td>-0.244241</td>\n",
       "      <td>1.430077</td>\n",
       "      <td>1.247168</td>\n",
       "      <td>0.833281</td>\n",
       "    </tr>\n",
       "    <tr>\n",
       "      <th>0</th>\n",
       "      <td>104</td>\n",
       "      <td>EE_cosmed</td>\n",
       "      <td>-0.115284</td>\n",
       "      <td>1.799695</td>\n",
       "      <td>1.071593</td>\n",
       "      <td>0.254498</td>\n",
       "    </tr>\n",
       "    <tr>\n",
       "      <th>0</th>\n",
       "      <td>106</td>\n",
       "      <td>EE_cosmed</td>\n",
       "      <td>-0.010855</td>\n",
       "      <td>2.085994</td>\n",
       "      <td>1.428131</td>\n",
       "      <td>0.558966</td>\n",
       "    </tr>\n",
       "    <tr>\n",
       "      <th>0</th>\n",
       "      <td>107</td>\n",
       "      <td>EE_cosmed</td>\n",
       "      <td>-0.105988</td>\n",
       "      <td>2.067480</td>\n",
       "      <td>1.561854</td>\n",
       "      <td>0.395865</td>\n",
       "    </tr>\n",
       "    <tr>\n",
       "      <th>0</th>\n",
       "      <td>110</td>\n",
       "      <td>EE_cosmed</td>\n",
       "      <td>-0.000982</td>\n",
       "      <td>2.776331</td>\n",
       "      <td>2.123248</td>\n",
       "      <td>0.749907</td>\n",
       "    </tr>\n",
       "    <tr>\n",
       "      <th>0</th>\n",
       "      <td>111</td>\n",
       "      <td>EE_cosmed</td>\n",
       "      <td>-0.003490</td>\n",
       "      <td>0.776843</td>\n",
       "      <td>0.539899</td>\n",
       "      <td>0.342945</td>\n",
       "    </tr>\n",
       "    <tr>\n",
       "      <th>0</th>\n",
       "      <td>113</td>\n",
       "      <td>EE_cosmed</td>\n",
       "      <td>-0.035227</td>\n",
       "      <td>2.594431</td>\n",
       "      <td>2.037503</td>\n",
       "      <td>0.714492</td>\n",
       "    </tr>\n",
       "    <tr>\n",
       "      <th>0</th>\n",
       "      <td>114</td>\n",
       "      <td>EE_cosmed</td>\n",
       "      <td>-0.147602</td>\n",
       "      <td>1.585880</td>\n",
       "      <td>1.348472</td>\n",
       "      <td>4.517025</td>\n",
       "    </tr>\n",
       "    <tr>\n",
       "      <th>0</th>\n",
       "      <td>115</td>\n",
       "      <td>EE_cosmed</td>\n",
       "      <td>-0.022475</td>\n",
       "      <td>1.589225</td>\n",
       "      <td>1.290847</td>\n",
       "      <td>1.088441</td>\n",
       "    </tr>\n",
       "    <tr>\n",
       "      <th>0</th>\n",
       "      <td>116</td>\n",
       "      <td>EE_cosmed</td>\n",
       "      <td>-0.137419</td>\n",
       "      <td>2.152097</td>\n",
       "      <td>1.360486</td>\n",
       "      <td>0.419437</td>\n",
       "    </tr>\n",
       "  </tbody>\n",
       "</table>\n",
       "</div>"
      ],
      "text/plain": [
       "    CV       task  Rsquared      rmse       mae      mape\n",
       "0  101  EE_cosmed -0.038412  2.172187  1.410192  0.340162\n",
       "0  102  EE_cosmed -0.212120  1.307028  1.087031  0.605227\n",
       "0  103  EE_cosmed -0.244241  1.430077  1.247168  0.833281\n",
       "0  104  EE_cosmed -0.115284  1.799695  1.071593  0.254498\n",
       "0  106  EE_cosmed -0.010855  2.085994  1.428131  0.558966\n",
       "0  107  EE_cosmed -0.105988  2.067480  1.561854  0.395865\n",
       "0  110  EE_cosmed -0.000982  2.776331  2.123248  0.749907\n",
       "0  111  EE_cosmed -0.003490  0.776843  0.539899  0.342945\n",
       "0  113  EE_cosmed -0.035227  2.594431  2.037503  0.714492\n",
       "0  114  EE_cosmed -0.147602  1.585880  1.348472  4.517025\n",
       "0  115  EE_cosmed -0.022475  1.589225  1.290847  1.088441\n",
       "0  116  EE_cosmed -0.137419  2.152097  1.360486  0.419437"
      ]
     },
     "execution_count": 80,
     "metadata": {},
     "output_type": "execute_result"
    }
   ],
   "source": [
    "df_performance_val"
   ]
  },
  {
   "cell_type": "code",
   "execution_count": null,
   "metadata": {},
   "outputs": [],
   "source": []
  },
  {
   "cell_type": "code",
   "execution_count": null,
   "metadata": {},
   "outputs": [],
   "source": []
  },
  {
   "cell_type": "code",
   "execution_count": null,
   "metadata": {},
   "outputs": [],
   "source": []
  },
  {
   "cell_type": "code",
   "execution_count": 52,
   "metadata": {},
   "outputs": [],
   "source": [
    "# df_performance_val['rmse'].mean(), df_performance_val['mae'].mean(), df_performance_val['mape'].mean()"
   ]
  },
  {
   "cell_type": "code",
   "execution_count": 51,
   "metadata": {},
   "outputs": [],
   "source": [
    "# df_performance_val"
   ]
  },
  {
   "cell_type": "code",
   "execution_count": 55,
   "metadata": {},
   "outputs": [],
   "source": []
  },
  {
   "cell_type": "code",
   "execution_count": null,
   "metadata": {},
   "outputs": [],
   "source": []
  },
  {
   "cell_type": "code",
   "execution_count": null,
   "metadata": {},
   "outputs": [],
   "source": []
  },
  {
   "cell_type": "code",
   "execution_count": 53,
   "metadata": {},
   "outputs": [],
   "source": [
    "    \n",
    "# def plot_regression_partial(ax, subjects_performance_dict, subject_id_plt, training_params,outputdir=None, show_plot=False, log_wandb=False):\n",
    "\n",
    "#     agg_performance_dict = aggregate_performance_dict(subjects_performance_dict)\n",
    "\n",
    "#     props = dict(boxstyle='round,pad=0.7', facecolor='white', edgecolor='black', alpha=0.7)\n",
    "#     fontsize = 16\n",
    "\n",
    "#     subject_ids = list(subjects_performance_dict.keys())\n",
    "#     N_beats_val = 0\n",
    "\n",
    "\n",
    "#     for subject_id in subject_ids:\n",
    "#         if int(subject_id)//100 == 0:\n",
    "#             marker = marker_dict['x']\n",
    "#         elif int(subject_id)//100 == 1:\n",
    "#             marker = marker_dict['circle']\n",
    "\n",
    "#         performance_dict = subjects_performance_dict[subject_id]\n",
    "\n",
    "#         SpO2_val = performance_dict['SpO2_val']\n",
    "#         SpO2_est_val = performance_dict['SpO2_est_val']\n",
    "\n",
    "\n",
    "#         color = color_dict[color_names[int(subject_id)%100]]\n",
    "\n",
    "#         if subject_id == subject_id_plt:\n",
    "#             alpha=0.6\n",
    "#             ax.set_title('{}'.format(subject_id), fontsize=fontsize+5)\n",
    "#             rmse_val = performance_dict['rmse_val']\n",
    "#         else:\n",
    "#             alpha=0.03\n",
    "\n",
    "#         ax.scatter(SpO2_val, SpO2_est_val, alpha=alpha, color=color, marker=marker)\n",
    "\n",
    "#         N_beats_val += SpO2_val.shape[0]\n",
    "        \n",
    "    \n",
    "#     performance_dict = subjects_performance_dict[subject_id_plt]\n",
    "# #     print(training_params['use_calibration'], subjects_performance_dict.keys())\n",
    "#     if training_params['use_calibration']:\n",
    "#         if 'SpO2_cal_range' in performance_dict:\n",
    "#             SpO2_cal_range = performance_dict['SpO2_cal_range']\n",
    "#             subject_id_plt = str(subject_id_plt) + '\\n[' + r'$SpO_{2}$' + ' range: {:.1f}-{:.1f}%]'.format(SpO2_cal_range[0], SpO2_cal_range[1])\n",
    "#     ax_conditioning2(ax, subject_id_plt, fontsize, props, 'RMSE={:.2f}%'.format(rmse_val))\n",
    "    \n",
    "    "
   ]
  },
  {
   "cell_type": "code",
   "execution_count": 54,
   "metadata": {},
   "outputs": [],
   "source": [
    "        \n",
    "# def ax_conditioning(ax, title_str, fontsize, props, textstr):\n",
    "#     ax.set_title(title_str, fontsize=fontsize+5)\n",
    "\n",
    "#     ax.set_ylabel(r'$SpO_{2}$'+' estimated (%)', fontsize=fontsize)\n",
    "#     ax.set_xlabel(r'$SpO_{2}$'+' label (%)', fontsize=fontsize)\n",
    "\n",
    "#     major_ticks = np.arange(label_range_dict['SpO2'][0],label_range_dict['SpO2'][1]+1,5)\n",
    "#     minor_ticks = np.arange(label_range_dict['SpO2'][0],label_range_dict['SpO2'][1]+1)\n",
    "\n",
    "#     ax.set_xticks(major_ticks)\n",
    "#     ax.set_xticks(minor_ticks, minor=True)\n",
    "#     ax.set_yticks(major_ticks)\n",
    "#     ax.set_yticks(minor_ticks, minor=True)\n",
    "#     # Or if you want different settings for the grids:\n",
    "#     ax.grid(which='minor', alpha=0.3)\n",
    "#     ax.grid(which='major', alpha=0.8)\n",
    "\n",
    "\n",
    "#     ax.plot( label_range_dict['SpO2'],label_range_dict['SpO2'] , color='gray', alpha=0.5)\n",
    "# #     ax.legend(loc='upper left', frameon=True, fontsize=fontsize-7)\n",
    "\n",
    "\n",
    "#     # place a text box in bottom right in axes coords\n",
    "# #     ax.text(0.5, 0.08, textstr, transform=ax.transAxes, fontsize=fontsize-5,\n",
    "# #     verticalalignment='bottom', horizontalalignment='left', bbox=props)\n",
    "#     ax.set_ylim(label_range_dict['SpO2'])\n",
    "#     ax.set_xlim(label_range_dict['SpO2'])\n",
    "    \n",
    "    "
   ]
  },
  {
   "cell_type": "code",
   "execution_count": 55,
   "metadata": {},
   "outputs": [],
   "source": [
    "# sns.scatterplot(data=aaa, x='label', y='label_est', hue='CV', palette=subject_palette)"
   ]
  },
  {
   "cell_type": "code",
   "execution_count": null,
   "metadata": {},
   "outputs": [],
   "source": []
  },
  {
   "cell_type": "code",
   "execution_count": null,
   "metadata": {},
   "outputs": [],
   "source": []
  },
  {
   "cell_type": "code",
   "execution_count": 56,
   "metadata": {},
   "outputs": [],
   "source": [
    "def ax_no_top_right(ax):\n",
    "    ax.spines['right'].set_visible(False)\n",
    "    ax.spines['top'].set_visible(False)\n",
    "\n"
   ]
  },
  {
   "cell_type": "code",
   "execution_count": null,
   "metadata": {},
   "outputs": [],
   "source": []
  },
  {
   "cell_type": "code",
   "execution_count": 82,
   "metadata": {},
   "outputs": [
    {
     "name": "stdout",
     "output_type": "stream",
     "text": [
      "RMSE=1.86 kcals/min\n",
      "MAE=1.38 kcals/min\n",
      "MAPE=90.17 %\n",
      "PCC=0.33\n",
      "R2=0.11\n",
      "N_sub=12\n",
      "N_samples=3615\n",
      "duration=180.75 min\n"
     ]
    }
   ],
   "source": [
    "N_sub = len(df_outputlabel_val['CV'].unique())\n",
    "N_samples = df_outputlabel_val.shape[0]\n",
    "t_dur = N_samples*3/60\n",
    "PCC = get_PCC(df_outputlabel_val['label'], df_outputlabel_val['label_est'])\n",
    "Rsquared = get_CoeffDeterm(df_outputlabel_val['label'], df_outputlabel_val['label_est'])\n",
    "\n",
    "\n",
    "\n",
    "title_str = '{} range: {:.1f}-{:.1f} {}'.format(task.split('_')[0], label_range[0], label_range[1], unit_dict[task_name])\n",
    "textstr = 'RMSE={:.2f} {}\\nMAE={:.2f} {}\\nMAPE={:.2f} {}\\nPCC={:.2f}\\nR2={:.2f}\\nN_sub={}\\nN_samples={}\\nduration={:.2f} min'.format(\n",
    "    df_performance_val['rmse'].mean(), unit_dict[task_name], df_performance_val['mae'].mean(), unit_dict[task_name], df_performance_val['mape'].mean()*100, '%',\n",
    "    PCC, Rsquared,\n",
    "    N_sub, N_samples, t_dur)\n",
    "\n",
    "print(textstr)"
   ]
  },
  {
   "cell_type": "code",
   "execution_count": null,
   "metadata": {},
   "outputs": [],
   "source": []
  },
  {
   "cell_type": "code",
   "execution_count": null,
   "metadata": {},
   "outputs": [],
   "source": []
  },
  {
   "cell_type": "code",
   "execution_count": null,
   "metadata": {},
   "outputs": [],
   "source": []
  }
 ],
 "metadata": {
  "kernelspec": {
   "display_name": "mienv",
   "language": "python",
   "name": "mienv"
  },
  "language_info": {
   "codemirror_mode": {
    "name": "ipython",
    "version": 3
   },
   "file_extension": ".py",
   "mimetype": "text/x-python",
   "name": "python",
   "nbconvert_exporter": "python",
   "pygments_lexer": "ipython3",
   "version": "3.7.16"
  }
 },
 "nbformat": 4,
 "nbformat_minor": 4
}
