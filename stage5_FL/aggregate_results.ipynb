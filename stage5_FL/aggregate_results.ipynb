{
 "cells": [
  {
   "cell_type": "code",
   "execution_count": 1,
   "metadata": {},
   "outputs": [],
   "source": [
    "import numpy as np\n",
    "import random\n",
    "\n",
    "from sklearn.datasets import fetch_openml\n",
    "from sklearn.utils import shuffle\n",
    "from sklearn.preprocessing import StandardScaler\n",
    "from sklearn.decomposition import PCA\n",
    "from sklearn.metrics import r2_score\n",
    "\n",
    "from tqdm import tqdm\n",
    "from tqdm import trange\n",
    "import time\n",
    "\n",
    "import os\n",
    "import math\n",
    "from math import sin\n",
    "from icecream import ic\n",
    "import json\n",
    "import argparse\n",
    "\n",
    "# checklist 1: uncomment matplotlib.use('Agg')\n",
    "import matplotlib\n",
    "# matplotlib.use('Agg')\n",
    "import matplotlib.pyplot as plt\n",
    "plt.style.use('seaborn-white')\n",
    "matplotlib.rc( 'savefig', facecolor = 'white' )\n",
    "from matplotlib import pyplot\n",
    "from matplotlib.colors import LinearSegmentedColormap\n",
    "from mpl_toolkits.axes_grid1.axes_divider import make_axes_locatable\n",
    "from matplotlib.ticker import (MultipleLocator, AutoMinorLocator)\n",
    "# plt.rcParams[\"font.family\"] = \"Times New Roman\"\n",
    "%matplotlib inline  \n",
    "\n",
    "# plt.style.use('dark_background')\n",
    "\n",
    "from scipy.io import loadmat\n",
    "import scipy\n",
    "from scipy import signal\n",
    "from scipy.fftpack import fft, ifft\n",
    "from scipy.signal import hilbert, chirp\n",
    "from scipy.signal import find_peaks\n",
    "from scipy.interpolate import interp1d\n",
    "\n",
    "i_seed = 0\n",
    "\n",
    "import torch\n",
    "from torch.utils.data import Dataset, DataLoader\n",
    "import torch.nn as nn\n",
    "import torch.nn.functional as F\n",
    "import torchvision\n",
    "from torchvision import transforms, datasets, models\n",
    "from torchsummary import summary\n",
    "\n",
    "import PIL\n",
    "\n",
    "import sys\n",
    "\n",
    "sys.path.append('../') # add this line so Data and data are visible in this file\n",
    "sys.path.append('../../') # add this line so Data and data are visible in this file\n",
    "sys.path.append('../PatchWand/') # add this line so Data and data are visible in this file\n",
    "\n",
    "# from plotting_tools import *\n",
    "# from preprocessing import *\n",
    "# from feature_extraction import *\n",
    "# from data_pulling import *\n",
    "# from setting import *\n",
    "# from surrogate_extraction import *\n",
    "# from evaluate import *\n",
    "# from training_util import *\n",
    "# from dataset_util import *\n",
    "# from evaluation_util import *\n",
    "\n",
    "from plotting_tools import *\n",
    "from preprocessing import *\n",
    "from setting import *\n",
    "from surrogate_extraction import *\n",
    "from dataIO import *\n",
    "from filters import *\n",
    "from spectral_module import *\n",
    "from stage4_regression import *\n",
    "# from unet_extension.dataset_util import *\n",
    "# from unet_extension.evaluation_util import *\n",
    "# from unet_extension.models import *\n",
    "# from unet_extension.training_util import *\n",
    "\n",
    "\n",
    "import datetime\n",
    "import time\n",
    "\n",
    "# checklist 2: comment out all magic command\n",
    "from importlib import reload\n",
    "%load_ext autoreload\n",
    "%autoreload 2\n"
   ]
  },
  {
   "cell_type": "code",
   "execution_count": null,
   "metadata": {},
   "outputs": [],
   "source": []
  },
  {
   "cell_type": "code",
   "execution_count": null,
   "metadata": {},
   "outputs": [],
   "source": []
  },
  {
   "cell_type": "code",
   "execution_count": null,
   "metadata": {},
   "outputs": [],
   "source": []
  },
  {
   "cell_type": "code",
   "execution_count": null,
   "metadata": {},
   "outputs": [],
   "source": []
  },
  {
   "cell_type": "code",
   "execution_count": 2,
   "metadata": {},
   "outputs": [],
   "source": [
    "# Fs = FS_RESAMPLE\n",
    "\n",
    "# label_names = ['br', 'heart_rate_cosmed', 'rer', 'vco2_ml_min', 've', 'vo2_ml_min', 'vt']\n",
    "# sig_names = ['ECG', 'accelX', 'accelY', 'accelZ']"
   ]
  },
  {
   "cell_type": "code",
   "execution_count": 3,
   "metadata": {},
   "outputs": [
    {
     "name": "stdout",
     "output_type": "stream",
     "text": [
      "Namespace(experiment_name='baseline67', input_folder='../../data/stage4_FL/', output_folder='../../data/stage5_FL/', training_params_file='training_params_list.json')\n"
     ]
    }
   ],
   "source": [
    "parser = argparse.ArgumentParser(description='RR_estimate')\n",
    "parser.add_argument('--input_folder', metavar='input_folder', help='input_folder',\n",
    "                    default='../')\n",
    "parser.add_argument('--output_folder', metavar='output_folder', help='output_folder',\n",
    "                    default='../')\n",
    "parser.add_argument('--training_params_file', metavar='training_params_file', help='training_params_file',\n",
    "                    default='training_params_list.json')\n",
    "\n",
    "parser.add_argument('--experiment_name', metavar='experiment_name', help='experiment_name',\n",
    "                    default='baseline')\n",
    "\n",
    "\n",
    "# checklist 3: comment first line, uncomment second line\n",
    "# args = parser.parse_args(['--input_folder', '../../../covid/results/stage3/win60_overlap95_seq20_ECG_AMpt_norm_script1/', \n",
    "args = parser.parse_args(['--input_folder', '../../data/stage4_FL/', \n",
    "                          '--output_folder', '../../data/stage5_FL/',\n",
    "#                           '--experiment_name', 'regressor'])\n",
    "#                           '--experiment_name', 'FFTRegression'])\n",
    "#                           '--experiment_name', 'RespiratoryRegression'])\n",
    "                          '--experiment_name', 'baseline67'])\n",
    "                          \n",
    "# args = parser.parse_args()\n",
    "print(args)"
   ]
  },
  {
   "cell_type": "code",
   "execution_count": 4,
   "metadata": {},
   "outputs": [],
   "source": [
    "inputdir = args.input_folder\n",
    "outputdir = args.output_folder\n",
    "experiment_name = args.experiment_name\n",
    "\n",
    "# outputdir = outputdir+inputdir.split('/')[-2]+'/'\n",
    "\n",
    "# training_params_file = args.training_params_file"
   ]
  },
  {
   "cell_type": "code",
   "execution_count": null,
   "metadata": {},
   "outputs": [],
   "source": []
  },
  {
   "cell_type": "code",
   "execution_count": null,
   "metadata": {},
   "outputs": [],
   "source": []
  },
  {
   "cell_type": "code",
   "execution_count": 5,
   "metadata": {},
   "outputs": [
    {
     "data": {
      "text/plain": [
       "'../../data/stage4_FL/'"
      ]
     },
     "execution_count": 5,
     "metadata": {},
     "output_type": "execute_result"
    }
   ],
   "source": [
    "inputdir"
   ]
  },
  {
   "cell_type": "code",
   "execution_count": null,
   "metadata": {},
   "outputs": [],
   "source": []
  },
  {
   "cell_type": "code",
   "execution_count": null,
   "metadata": {},
   "outputs": [],
   "source": []
  },
  {
   "cell_type": "code",
   "execution_count": null,
   "metadata": {},
   "outputs": [],
   "source": []
  },
  {
   "cell_type": "code",
   "execution_count": null,
   "metadata": {},
   "outputs": [],
   "source": []
  },
  {
   "cell_type": "code",
   "execution_count": 6,
   "metadata": {},
   "outputs": [
    {
     "data": {
      "text/plain": [
       "['FFTRegression',\n",
       " 'RespiratoryRegression',\n",
       " 'shortWin',\n",
       " 'computation',\n",
       " 'training_logs.txt',\n",
       " '.ipynb_checkpoints',\n",
       " 'baseline67',\n",
       " 'baseline']"
      ]
     },
     "execution_count": 6,
     "metadata": {},
     "output_type": "execute_result"
    }
   ],
   "source": [
    "os.listdir(inputdir)"
   ]
  },
  {
   "cell_type": "code",
   "execution_count": null,
   "metadata": {},
   "outputs": [],
   "source": []
  },
  {
   "cell_type": "code",
   "execution_count": 7,
   "metadata": {},
   "outputs": [],
   "source": [
    "# sweep_name = '2blocks-ECG+scgZ-weight1+0-8ch-act0-DominantFreqRegression'\n",
    "# int(sweep_name.split('-')[0].split('blocks')[0])\n",
    "\n",
    "\n",
    "# auxillary_weight = int(sweep_name.split('-')[2].split('weight')[1].split('+')[0])\n",
    "# adversarial_weight = int(sweep_name.split('-')[2].split('weight')[1].split('+')[1])\n",
    "# # int(sweep_name.split('-')[2].split('weight')[1])\n",
    "# int(sweep_name.split('-')[3].split('ch')[0])\n",
    "# inputdir_act.split('/')[-2]\n",
    "# int(sweep_name.split('-')[4].split('act')[1])\n",
    "# sweep_name.split('-')[5]"
   ]
  },
  {
   "cell_type": "code",
   "execution_count": null,
   "metadata": {},
   "outputs": [],
   "source": []
  },
  {
   "cell_type": "code",
   "execution_count": 8,
   "metadata": {},
   "outputs": [],
   "source": [
    "df_performance_agg = pd.DataFrame()\n",
    "\n",
    "\n",
    "for act_name in os.listdir(inputdir):\n",
    "#     if act_name!='baseline' and act_name!='stairrecovery':\n",
    "    if act_name!=experiment_name:\n",
    "        continue\n",
    "\n",
    "    inputdir_act = inputdir+act_name+'/'\n",
    "\n",
    "\n",
    "    for sweep_name in os.listdir(inputdir_act):\n",
    "        if 'blocks' not in sweep_name:\n",
    "            continue\n",
    "#         if '3blocks-scgZ+ECG' not in sweep_name:\n",
    "#             continue\n",
    "\n",
    "    #     df_performance = pd.read_csv(inputdir+'3blocks-scgZ+ECG-weight5-8ch/numeric_results/df_performance_val_HR_patch-scgZ.csv')\n",
    "        df_performance = pd.read_csv(inputdir_act + sweep_name + '/numeric_results/df_performance_val_HR_patch-scgZ.csv')\n",
    "\n",
    "        df_performance['n_block'] = int(sweep_name.split('-')[0].split('blocks')[0])\n",
    "        df_performance['signals'] = sweep_name.split('-')[1]\n",
    "#         df_performance['loss_weight'] = int(sweep_name.split('-')[2].split('weight')[1])\n",
    "        df_performance['auxillary_weight'] = int(sweep_name.split('-')[2].split('weight')[1].split('+')[0])\n",
    "        df_performance['adversarial_weight'] = int(sweep_name.split('-')[2].split('weight')[1].split('+')[1])        \n",
    "        df_performance['n_channel'] = int(sweep_name.split('-')[3].split('ch')[0])\n",
    "        df_performance['activity'] = inputdir_act.split('/')[-2]\n",
    "        df_performance['act_id'] = int(sweep_name.split('-')[4].split('act')[1])\n",
    "        df_performance['regressor_name'] = sweep_name.split('-')[5]\n",
    "        \n",
    "        \n",
    "        df_performance_agg = df_performance_agg.append(df_performance)\n",
    "\n",
    "    df_performance_agg = df_performance_agg.reset_index(drop=True)"
   ]
  },
  {
   "cell_type": "code",
   "execution_count": 9,
   "metadata": {},
   "outputs": [
    {
     "data": {
      "text/plain": [
       "(array([101, 102, 103, 104, 105, 106, 107, 108, 110, 111, 113, 114, 115,\n",
       "        116, 117, 118, 119, 120, 121]),\n",
       " (19,))"
      ]
     },
     "execution_count": 9,
     "metadata": {},
     "output_type": "execute_result"
    }
   ],
   "source": [
    "np.sort(df_performance_agg['CV'].unique()), np.sort(df_performance_agg['CV'].unique()).shape"
   ]
  },
  {
   "cell_type": "code",
   "execution_count": 10,
   "metadata": {},
   "outputs": [
    {
     "data": {
      "text/plain": [
       "(9.0, array([4, 3, 2]))"
      ]
     },
     "execution_count": 10,
     "metadata": {},
     "output_type": "execute_result"
    }
   ],
   "source": [
    "df_performance_agg.shape[0]/19, df_performance_agg['n_block'].unique()"
   ]
  },
  {
   "cell_type": "code",
   "execution_count": 11,
   "metadata": {},
   "outputs": [],
   "source": [
    "# act_mask = (df_performance_agg['n_block']==3) & (df_performance_agg['n_channel']==8) & (df_performance_agg['adversarial_weight']==1) & (df_performance_agg['adversarial_weight']==0)\n",
    "act_mask = (df_performance_agg['adversarial_weight']==0) & (df_performance_agg['adversarial_weight']==0)\n",
    "\n",
    "df_performance_agg_masked = df_performance_agg[act_mask]"
   ]
  },
  {
   "cell_type": "code",
   "execution_count": 12,
   "metadata": {},
   "outputs": [],
   "source": [
    "# df_performance_agg_masked"
   ]
  },
  {
   "cell_type": "code",
   "execution_count": 13,
   "metadata": {},
   "outputs": [
    {
     "data": {
      "text/plain": [
       "9.0"
      ]
     },
     "execution_count": 13,
     "metadata": {},
     "output_type": "execute_result"
    }
   ],
   "source": [
    "df_performance_agg_masked.shape[0]/19"
   ]
  },
  {
   "cell_type": "code",
   "execution_count": 14,
   "metadata": {},
   "outputs": [
    {
     "name": "stderr",
     "output_type": "stream",
     "text": [
      "/home/mchan/miniconda3/envs/mienv/lib/python3.7/site-packages/seaborn/categorical.py:3002: UserWarning: The `split` parameter has been renamed to `dodge`.\n",
      "  warnings.warn(msg, UserWarning)\n"
     ]
    },
    {
     "data": {
      "text/plain": [
       "Text(0.5, 0, 'loss weight')"
      ]
     },
     "execution_count": 14,
     "metadata": {},
     "output_type": "execute_result"
    },
    {
     "data": {
      "image/png": "[encoded data removed]",
      "text/plain": [
       "<Figure size 900x750 with 1 Axes>"
      ]
     },
     "metadata": {},
     "output_type": "display_data"
    }
   ],
   "source": [
    "fig, ax = plt.subplots(1,1, figsize=(6,5), dpi=150)\n",
    "\n",
    "hue_name = None\n",
    "x_name = 'n_block'\n",
    "y_name = 'mae'\n",
    "# act_mask = df_performance_agg['activity']=='baseline'\n",
    "\n",
    "sns.boxplot(data=df_performance_agg_masked, x=x_name, y=y_name, ax=ax, hue=hue_name)\n",
    "sns.swarmplot(data=df_performance_agg_masked, x=x_name, y=y_name, color=\".25\",split=True, ax=ax, hue=hue_name)\n",
    "\n",
    "ax_no_top_right(ax)\n",
    "ax.set_ylabel('MAE (bpm)')\n",
    "ax.set_xlabel('loss weight')"
   ]
  },
  {
   "cell_type": "code",
   "execution_count": null,
   "metadata": {},
   "outputs": [],
   "source": []
  },
  {
   "cell_type": "code",
   "execution_count": 15,
   "metadata": {},
   "outputs": [
    {
     "name": "stdout",
     "output_type": "stream",
     "text": [
      "n_block=2\tPCC=0.69 (0.39)\n",
      "n_block=3\tPCC=0.81 (0.34)\n",
      "n_block=4\tPCC=0.77 (0.37)\n"
     ]
    }
   ],
   "source": [
    "metric_name = 'mae'\n",
    "metric_name = 'PCC'\n",
    "\n",
    "var_name = 'n_block'\n",
    "\n",
    "# act_mask = df_performance_agg['n_block']!=2\n",
    "\n",
    "for var in np.sort(df_performance_agg_masked[var_name].unique()):\n",
    "    \n",
    "\n",
    "    \n",
    "#     mask = (df_performance_agg['activity']=='baseline') & (df_performance_agg['loss_weight']==loss_weight)\n",
    "    mask = df_performance_agg_masked[var_name]==var\n",
    "\n",
    "    metric_mean, metric_std =  df_performance_agg_masked[mask][metric_name].mean(), df_performance_agg_masked[mask][metric_name].std()\n",
    "    \n",
    "    print('{}={}\\t{}={:.2f} ({:.2f})'.format(var_name, var, metric_name, metric_mean, metric_std))\n",
    "#     print('{:.2f} ({:.2f})'.format( metric_mean, metric_std))"
   ]
  },
  {
   "cell_type": "code",
   "execution_count": null,
   "metadata": {},
   "outputs": [],
   "source": []
  },
  {
   "cell_type": "code",
   "execution_count": 39,
   "metadata": {},
   "outputs": [
    {
     "name": "stdout",
     "output_type": "stream",
     "text": [
      "n_block=2\tn_channel=4\tmae=2.74 (2.19)\n",
      "n_block=2\tn_channel=8\tmae=2.65 (2.99)\n",
      "n_block=2\tn_channel=16\tmae=1.91 (1.50)\n",
      "n_block=3\tn_channel=4\tmae=2.02 (2.28)\n",
      "n_block=3\tn_channel=8\tmae=1.77 (1.80)\n",
      "n_block=3\tn_channel=16\tmae=1.63 (1.26)\n",
      "n_block=4\tn_channel=4\tmae=2.12 (2.55)\n",
      "n_block=4\tn_channel=8\tmae=1.75 (1.70)\n",
      "n_block=4\tn_channel=16\tmae=1.43 (2.08)\n"
     ]
    }
   ],
   "source": [
    "metric_name = 'mae'\n",
    "# metric_name = 'PCC'\n",
    "# metric_name = 'rmse'\n",
    "\n",
    "var_name1 = 'n_block'\n",
    "var_name2 = 'n_channel'\n",
    "\n",
    "# act_mask = df_performance_agg['n_block']!=2\n",
    "\n",
    "for var1 in np.sort(df_performance_agg_masked[var_name1].unique()):\n",
    "    for var2 in np.sort(df_performance_agg_masked[var_name2].unique()):\n",
    "    \n",
    "\n",
    "    \n",
    "    #     mask = (df_performance_agg['activity']=='baseline') & (df_performance_agg['loss_weight']==loss_weight)\n",
    "        mask =( df_performance_agg_masked[var_name1]==var1 )  & ( df_performance_agg_masked[var_name2]==var2)\n",
    "\n",
    "        metric_mean, metric_std =  df_performance_agg_masked[mask][metric_name].mean(), df_performance_agg_masked[mask][metric_name].std()\n",
    "\n",
    "        print('{}={}\\t{}={}\\t{}={:.2f} ({:.2f})'.format(var_name1, var1, var_name2, var2, metric_name, metric_mean, metric_std))\n",
    "    #     print('{:.2f} ({:.2f})'.format( metric_mean, metric_std))"
   ]
  },
  {
   "cell_type": "code",
   "execution_count": 17,
   "metadata": {},
   "outputs": [
    {
     "data": {
      "text/html": [
       "<div>\n",
       "<style scoped>\n",
       "    .dataframe tbody tr th:only-of-type {\n",
       "        vertical-align: middle;\n",
       "    }\n",
       "\n",
       "    .dataframe tbody tr th {\n",
       "        vertical-align: top;\n",
       "    }\n",
       "\n",
       "    .dataframe thead th {\n",
       "        text-align: right;\n",
       "    }\n",
       "</style>\n",
       "<table border=\"1\" class=\"dataframe\">\n",
       "  <thead>\n",
       "    <tr style=\"text-align: right;\">\n",
       "      <th></th>\n",
       "      <th>CV</th>\n",
       "      <th>task</th>\n",
       "      <th>Rsquared</th>\n",
       "      <th>PCC</th>\n",
       "      <th>rmse</th>\n",
       "      <th>mae</th>\n",
       "      <th>mape</th>\n",
       "      <th>n_block</th>\n",
       "      <th>signals</th>\n",
       "      <th>auxillary_weight</th>\n",
       "      <th>adversarial_weight</th>\n",
       "      <th>n_channel</th>\n",
       "      <th>activity</th>\n",
       "      <th>act_id</th>\n",
       "      <th>regressor_name</th>\n",
       "    </tr>\n",
       "  </thead>\n",
       "  <tbody>\n",
       "    <tr>\n",
       "      <th>38</th>\n",
       "      <td>107</td>\n",
       "      <td>HR_patch-scgZ</td>\n",
       "      <td>-10.691242</td>\n",
       "      <td>0.850228</td>\n",
       "      <td>1.576249</td>\n",
       "      <td>1.557310</td>\n",
       "      <td>0.024093</td>\n",
       "      <td>4</td>\n",
       "      <td>scgZ</td>\n",
       "      <td>0</td>\n",
       "      <td>0</td>\n",
       "      <td>16</td>\n",
       "      <td>baseline67</td>\n",
       "      <td>0</td>\n",
       "      <td>DominantFreqRegression</td>\n",
       "    </tr>\n",
       "    <tr>\n",
       "      <th>39</th>\n",
       "      <td>121</td>\n",
       "      <td>HR_patch-scgZ</td>\n",
       "      <td>0.943109</td>\n",
       "      <td>0.972535</td>\n",
       "      <td>0.382093</td>\n",
       "      <td>0.297251</td>\n",
       "      <td>0.003992</td>\n",
       "      <td>4</td>\n",
       "      <td>scgZ</td>\n",
       "      <td>0</td>\n",
       "      <td>0</td>\n",
       "      <td>16</td>\n",
       "      <td>baseline67</td>\n",
       "      <td>0</td>\n",
       "      <td>DominantFreqRegression</td>\n",
       "    </tr>\n",
       "    <tr>\n",
       "      <th>40</th>\n",
       "      <td>117</td>\n",
       "      <td>HR_patch-scgZ</td>\n",
       "      <td>-3.440582</td>\n",
       "      <td>0.719077</td>\n",
       "      <td>2.419470</td>\n",
       "      <td>2.281054</td>\n",
       "      <td>0.024466</td>\n",
       "      <td>4</td>\n",
       "      <td>scgZ</td>\n",
       "      <td>0</td>\n",
       "      <td>0</td>\n",
       "      <td>16</td>\n",
       "      <td>baseline67</td>\n",
       "      <td>0</td>\n",
       "      <td>DominantFreqRegression</td>\n",
       "    </tr>\n",
       "    <tr>\n",
       "      <th>41</th>\n",
       "      <td>101</td>\n",
       "      <td>HR_patch-scgZ</td>\n",
       "      <td>-3.341103</td>\n",
       "      <td>0.890569</td>\n",
       "      <td>1.784232</td>\n",
       "      <td>1.739289</td>\n",
       "      <td>0.022135</td>\n",
       "      <td>4</td>\n",
       "      <td>scgZ</td>\n",
       "      <td>0</td>\n",
       "      <td>0</td>\n",
       "      <td>16</td>\n",
       "      <td>baseline67</td>\n",
       "      <td>0</td>\n",
       "      <td>DominantFreqRegression</td>\n",
       "    </tr>\n",
       "    <tr>\n",
       "      <th>42</th>\n",
       "      <td>102</td>\n",
       "      <td>HR_patch-scgZ</td>\n",
       "      <td>-2.516526</td>\n",
       "      <td>-0.286676</td>\n",
       "      <td>2.469318</td>\n",
       "      <td>1.885686</td>\n",
       "      <td>0.026028</td>\n",
       "      <td>4</td>\n",
       "      <td>scgZ</td>\n",
       "      <td>0</td>\n",
       "      <td>0</td>\n",
       "      <td>16</td>\n",
       "      <td>baseline67</td>\n",
       "      <td>0</td>\n",
       "      <td>DominantFreqRegression</td>\n",
       "    </tr>\n",
       "    <tr>\n",
       "      <th>43</th>\n",
       "      <td>103</td>\n",
       "      <td>HR_patch-scgZ</td>\n",
       "      <td>0.830965</td>\n",
       "      <td>0.977036</td>\n",
       "      <td>0.350215</td>\n",
       "      <td>0.312715</td>\n",
       "      <td>0.003324</td>\n",
       "      <td>4</td>\n",
       "      <td>scgZ</td>\n",
       "      <td>0</td>\n",
       "      <td>0</td>\n",
       "      <td>16</td>\n",
       "      <td>baseline67</td>\n",
       "      <td>0</td>\n",
       "      <td>DominantFreqRegression</td>\n",
       "    </tr>\n",
       "    <tr>\n",
       "      <th>44</th>\n",
       "      <td>104</td>\n",
       "      <td>HR_patch-scgZ</td>\n",
       "      <td>0.885456</td>\n",
       "      <td>0.992363</td>\n",
       "      <td>1.913306</td>\n",
       "      <td>1.648028</td>\n",
       "      <td>0.017965</td>\n",
       "      <td>4</td>\n",
       "      <td>scgZ</td>\n",
       "      <td>0</td>\n",
       "      <td>0</td>\n",
       "      <td>16</td>\n",
       "      <td>baseline67</td>\n",
       "      <td>0</td>\n",
       "      <td>DominantFreqRegression</td>\n",
       "    </tr>\n",
       "    <tr>\n",
       "      <th>45</th>\n",
       "      <td>105</td>\n",
       "      <td>HR_patch-scgZ</td>\n",
       "      <td>0.807403</td>\n",
       "      <td>0.954134</td>\n",
       "      <td>0.503079</td>\n",
       "      <td>0.426848</td>\n",
       "      <td>0.006029</td>\n",
       "      <td>4</td>\n",
       "      <td>scgZ</td>\n",
       "      <td>0</td>\n",
       "      <td>0</td>\n",
       "      <td>16</td>\n",
       "      <td>baseline67</td>\n",
       "      <td>0</td>\n",
       "      <td>DominantFreqRegression</td>\n",
       "    </tr>\n",
       "    <tr>\n",
       "      <th>46</th>\n",
       "      <td>106</td>\n",
       "      <td>HR_patch-scgZ</td>\n",
       "      <td>-7.205274</td>\n",
       "      <td>0.277216</td>\n",
       "      <td>1.057651</td>\n",
       "      <td>0.793339</td>\n",
       "      <td>0.008968</td>\n",
       "      <td>4</td>\n",
       "      <td>scgZ</td>\n",
       "      <td>0</td>\n",
       "      <td>0</td>\n",
       "      <td>16</td>\n",
       "      <td>baseline67</td>\n",
       "      <td>0</td>\n",
       "      <td>DominantFreqRegression</td>\n",
       "    </tr>\n",
       "    <tr>\n",
       "      <th>47</th>\n",
       "      <td>108</td>\n",
       "      <td>HR_patch-scgZ</td>\n",
       "      <td>-0.557430</td>\n",
       "      <td>0.975583</td>\n",
       "      <td>1.938650</td>\n",
       "      <td>1.905647</td>\n",
       "      <td>0.025864</td>\n",
       "      <td>4</td>\n",
       "      <td>scgZ</td>\n",
       "      <td>0</td>\n",
       "      <td>0</td>\n",
       "      <td>16</td>\n",
       "      <td>baseline67</td>\n",
       "      <td>0</td>\n",
       "      <td>DominantFreqRegression</td>\n",
       "    </tr>\n",
       "    <tr>\n",
       "      <th>48</th>\n",
       "      <td>110</td>\n",
       "      <td>HR_patch-scgZ</td>\n",
       "      <td>-187.025269</td>\n",
       "      <td>0.317395</td>\n",
       "      <td>9.571110</td>\n",
       "      <td>9.530300</td>\n",
       "      <td>0.098185</td>\n",
       "      <td>4</td>\n",
       "      <td>scgZ</td>\n",
       "      <td>0</td>\n",
       "      <td>0</td>\n",
       "      <td>16</td>\n",
       "      <td>baseline67</td>\n",
       "      <td>0</td>\n",
       "      <td>DominantFreqRegression</td>\n",
       "    </tr>\n",
       "    <tr>\n",
       "      <th>49</th>\n",
       "      <td>111</td>\n",
       "      <td>HR_patch-scgZ</td>\n",
       "      <td>0.753144</td>\n",
       "      <td>0.916037</td>\n",
       "      <td>0.525316</td>\n",
       "      <td>0.437750</td>\n",
       "      <td>0.005592</td>\n",
       "      <td>4</td>\n",
       "      <td>scgZ</td>\n",
       "      <td>0</td>\n",
       "      <td>0</td>\n",
       "      <td>16</td>\n",
       "      <td>baseline67</td>\n",
       "      <td>0</td>\n",
       "      <td>DominantFreqRegression</td>\n",
       "    </tr>\n",
       "    <tr>\n",
       "      <th>50</th>\n",
       "      <td>113</td>\n",
       "      <td>HR_patch-scgZ</td>\n",
       "      <td>0.399045</td>\n",
       "      <td>0.977971</td>\n",
       "      <td>0.912701</td>\n",
       "      <td>0.858903</td>\n",
       "      <td>0.009601</td>\n",
       "      <td>4</td>\n",
       "      <td>scgZ</td>\n",
       "      <td>0</td>\n",
       "      <td>0</td>\n",
       "      <td>16</td>\n",
       "      <td>baseline67</td>\n",
       "      <td>0</td>\n",
       "      <td>DominantFreqRegression</td>\n",
       "    </tr>\n",
       "    <tr>\n",
       "      <th>51</th>\n",
       "      <td>114</td>\n",
       "      <td>HR_patch-scgZ</td>\n",
       "      <td>0.675517</td>\n",
       "      <td>0.981951</td>\n",
       "      <td>0.661557</td>\n",
       "      <td>0.612985</td>\n",
       "      <td>0.007043</td>\n",
       "      <td>4</td>\n",
       "      <td>scgZ</td>\n",
       "      <td>0</td>\n",
       "      <td>0</td>\n",
       "      <td>16</td>\n",
       "      <td>baseline67</td>\n",
       "      <td>0</td>\n",
       "      <td>DominantFreqRegression</td>\n",
       "    </tr>\n",
       "    <tr>\n",
       "      <th>52</th>\n",
       "      <td>115</td>\n",
       "      <td>HR_patch-scgZ</td>\n",
       "      <td>-1.355846</td>\n",
       "      <td>0.806038</td>\n",
       "      <td>1.476023</td>\n",
       "      <td>1.361816</td>\n",
       "      <td>0.013414</td>\n",
       "      <td>4</td>\n",
       "      <td>scgZ</td>\n",
       "      <td>0</td>\n",
       "      <td>0</td>\n",
       "      <td>16</td>\n",
       "      <td>baseline67</td>\n",
       "      <td>0</td>\n",
       "      <td>DominantFreqRegression</td>\n",
       "    </tr>\n",
       "    <tr>\n",
       "      <th>53</th>\n",
       "      <td>116</td>\n",
       "      <td>HR_patch-scgZ</td>\n",
       "      <td>0.980383</td>\n",
       "      <td>0.998149</td>\n",
       "      <td>0.420790</td>\n",
       "      <td>0.302028</td>\n",
       "      <td>0.003678</td>\n",
       "      <td>4</td>\n",
       "      <td>scgZ</td>\n",
       "      <td>0</td>\n",
       "      <td>0</td>\n",
       "      <td>16</td>\n",
       "      <td>baseline67</td>\n",
       "      <td>0</td>\n",
       "      <td>DominantFreqRegression</td>\n",
       "    </tr>\n",
       "    <tr>\n",
       "      <th>54</th>\n",
       "      <td>118</td>\n",
       "      <td>HR_patch-scgZ</td>\n",
       "      <td>0.874128</td>\n",
       "      <td>0.956197</td>\n",
       "      <td>0.261528</td>\n",
       "      <td>0.213870</td>\n",
       "      <td>0.002575</td>\n",
       "      <td>4</td>\n",
       "      <td>scgZ</td>\n",
       "      <td>0</td>\n",
       "      <td>0</td>\n",
       "      <td>16</td>\n",
       "      <td>baseline67</td>\n",
       "      <td>0</td>\n",
       "      <td>DominantFreqRegression</td>\n",
       "    </tr>\n",
       "    <tr>\n",
       "      <th>55</th>\n",
       "      <td>119</td>\n",
       "      <td>HR_patch-scgZ</td>\n",
       "      <td>0.948376</td>\n",
       "      <td>0.974734</td>\n",
       "      <td>0.243097</td>\n",
       "      <td>0.198950</td>\n",
       "      <td>0.002222</td>\n",
       "      <td>4</td>\n",
       "      <td>scgZ</td>\n",
       "      <td>0</td>\n",
       "      <td>0</td>\n",
       "      <td>16</td>\n",
       "      <td>baseline67</td>\n",
       "      <td>0</td>\n",
       "      <td>DominantFreqRegression</td>\n",
       "    </tr>\n",
       "    <tr>\n",
       "      <th>56</th>\n",
       "      <td>120</td>\n",
       "      <td>HR_patch-scgZ</td>\n",
       "      <td>0.704285</td>\n",
       "      <td>0.988982</td>\n",
       "      <td>0.861290</td>\n",
       "      <td>0.815344</td>\n",
       "      <td>0.008945</td>\n",
       "      <td>4</td>\n",
       "      <td>scgZ</td>\n",
       "      <td>0</td>\n",
       "      <td>0</td>\n",
       "      <td>16</td>\n",
       "      <td>baseline67</td>\n",
       "      <td>0</td>\n",
       "      <td>DominantFreqRegression</td>\n",
       "    </tr>\n",
       "  </tbody>\n",
       "</table>\n",
       "</div>"
      ],
      "text/plain": [
       "     CV           task    Rsquared       PCC      rmse       mae      mape  \\\n",
       "38  107  HR_patch-scgZ  -10.691242  0.850228  1.576249  1.557310  0.024093   \n",
       "39  121  HR_patch-scgZ    0.943109  0.972535  0.382093  0.297251  0.003992   \n",
       "40  117  HR_patch-scgZ   -3.440582  0.719077  2.419470  2.281054  0.024466   \n",
       "41  101  HR_patch-scgZ   -3.341103  0.890569  1.784232  1.739289  0.022135   \n",
       "42  102  HR_patch-scgZ   -2.516526 -0.286676  2.469318  1.885686  0.026028   \n",
       "43  103  HR_patch-scgZ    0.830965  0.977036  0.350215  0.312715  0.003324   \n",
       "44  104  HR_patch-scgZ    0.885456  0.992363  1.913306  1.648028  0.017965   \n",
       "45  105  HR_patch-scgZ    0.807403  0.954134  0.503079  0.426848  0.006029   \n",
       "46  106  HR_patch-scgZ   -7.205274  0.277216  1.057651  0.793339  0.008968   \n",
       "47  108  HR_patch-scgZ   -0.557430  0.975583  1.938650  1.905647  0.025864   \n",
       "48  110  HR_patch-scgZ -187.025269  0.317395  9.571110  9.530300  0.098185   \n",
       "49  111  HR_patch-scgZ    0.753144  0.916037  0.525316  0.437750  0.005592   \n",
       "50  113  HR_patch-scgZ    0.399045  0.977971  0.912701  0.858903  0.009601   \n",
       "51  114  HR_patch-scgZ    0.675517  0.981951  0.661557  0.612985  0.007043   \n",
       "52  115  HR_patch-scgZ   -1.355846  0.806038  1.476023  1.361816  0.013414   \n",
       "53  116  HR_patch-scgZ    0.980383  0.998149  0.420790  0.302028  0.003678   \n",
       "54  118  HR_patch-scgZ    0.874128  0.956197  0.261528  0.213870  0.002575   \n",
       "55  119  HR_patch-scgZ    0.948376  0.974734  0.243097  0.198950  0.002222   \n",
       "56  120  HR_patch-scgZ    0.704285  0.988982  0.861290  0.815344  0.008945   \n",
       "\n",
       "    n_block signals  auxillary_weight  adversarial_weight  n_channel  \\\n",
       "38        4    scgZ                 0                   0         16   \n",
       "39        4    scgZ                 0                   0         16   \n",
       "40        4    scgZ                 0                   0         16   \n",
       "41        4    scgZ                 0                   0         16   \n",
       "42        4    scgZ                 0                   0         16   \n",
       "43        4    scgZ                 0                   0         16   \n",
       "44        4    scgZ                 0                   0         16   \n",
       "45        4    scgZ                 0                   0         16   \n",
       "46        4    scgZ                 0                   0         16   \n",
       "47        4    scgZ                 0                   0         16   \n",
       "48        4    scgZ                 0                   0         16   \n",
       "49        4    scgZ                 0                   0         16   \n",
       "50        4    scgZ                 0                   0         16   \n",
       "51        4    scgZ                 0                   0         16   \n",
       "52        4    scgZ                 0                   0         16   \n",
       "53        4    scgZ                 0                   0         16   \n",
       "54        4    scgZ                 0                   0         16   \n",
       "55        4    scgZ                 0                   0         16   \n",
       "56        4    scgZ                 0                   0         16   \n",
       "\n",
       "      activity  act_id          regressor_name  \n",
       "38  baseline67       0  DominantFreqRegression  \n",
       "39  baseline67       0  DominantFreqRegression  \n",
       "40  baseline67       0  DominantFreqRegression  \n",
       "41  baseline67       0  DominantFreqRegression  \n",
       "42  baseline67       0  DominantFreqRegression  \n",
       "43  baseline67       0  DominantFreqRegression  \n",
       "44  baseline67       0  DominantFreqRegression  \n",
       "45  baseline67       0  DominantFreqRegression  \n",
       "46  baseline67       0  DominantFreqRegression  \n",
       "47  baseline67       0  DominantFreqRegression  \n",
       "48  baseline67       0  DominantFreqRegression  \n",
       "49  baseline67       0  DominantFreqRegression  \n",
       "50  baseline67       0  DominantFreqRegression  \n",
       "51  baseline67       0  DominantFreqRegression  \n",
       "52  baseline67       0  DominantFreqRegression  \n",
       "53  baseline67       0  DominantFreqRegression  \n",
       "54  baseline67       0  DominantFreqRegression  \n",
       "55  baseline67       0  DominantFreqRegression  \n",
       "56  baseline67       0  DominantFreqRegression  "
      ]
     },
     "execution_count": 17,
     "metadata": {},
     "output_type": "execute_result"
    }
   ],
   "source": [
    "df_performance_agg_masked[mask]"
   ]
  },
  {
   "cell_type": "code",
   "execution_count": null,
   "metadata": {},
   "outputs": [],
   "source": []
  },
  {
   "cell_type": "code",
   "execution_count": 40,
   "metadata": {},
   "outputs": [],
   "source": [
    "# df_performance = pd.read_csv('../../../Estimation_EE/data/stage4_FL/RespiratoryRegression/6blocks-scgZ-weight0+0-8ch-act0-RespiratoryRegression/numeric_results/df_performance_val_HR_patch-scgZ.csv')\n",
    "# df_performance = pd.read_csv('../../../Estimation_EE/data/stage4_FL/baseline/3blocks-ECG+scgZ-weight1+0-8ch-act0-DominantFreqRegression/numeric_results/df_performance_val_HR_patch-scgZ.csv')"
   ]
  },
  {
   "cell_type": "code",
   "execution_count": 44,
   "metadata": {},
   "outputs": [],
   "source": [
    "# df_performance['rmse'].mean(), df_performance['rmse'].std()"
   ]
  },
  {
   "cell_type": "code",
   "execution_count": 18,
   "metadata": {},
   "outputs": [],
   "source": [
    "# df_performance_agg[mask][metric_name]"
   ]
  },
  {
   "cell_type": "code",
   "execution_count": null,
   "metadata": {},
   "outputs": [],
   "source": []
  },
  {
   "cell_type": "code",
   "execution_count": 19,
   "metadata": {},
   "outputs": [],
   "source": [
    "# import numpy as np\n",
    "# import matplotlib.pyplot as plt\n",
    "\n",
    "# a = 1\n",
    "# theta = np.linspace(0, 2*np.pi, 100)\n",
    "\n",
    "# # We could replace the next three lines with:\n",
    "# # y, x = np.mgrid[-3*a:3*a:1000j, -3*a:3*a:1000j]\n",
    "# x = np.linspace(-3*a, 3*a, 1000)\n",
    "# y = np.linspace(-3*a, 3*a, 1000)\n",
    "# x, y = np.meshgrid(x, y)\n",
    "\n",
    "# # Now let's make something similar to your V for this example..\n",
    "# r = np.hypot(x, y)\n",
    "# V = np.cos(3*np.arctan2(y, x)) + np.sin(r) + np.cos(x)*1j * np.cos(r)\n",
    "\n",
    "# def plot(ax, data):\n",
    "#     ax.plot(a*np.cos(theta), a*np.sin(theta), color='black')\n",
    "#     im = ax.imshow(data, extent=[x.min(), x.max(), y.max(), y.min()], cmap='viridis')\n",
    "#     fig.colorbar(im, ax=ax, shrink=0.5)\n",
    "\n",
    "# fig, (ax1, ax2) = plt.subplots(ncols=2)\n",
    "\n",
    "# ax1.set(title='Real Portion')\n",
    "# plot(ax1, V.real)\n",
    "\n",
    "# x_arr = np.arange(0,100)/30\n",
    "# y_arr = np.sin(x_arr)\n",
    "# ax1.plot(x_arr, y_arr)\n",
    "\n",
    "\n",
    "# ax2.set(title='Imaginary Portion')\n",
    "# plot(ax2, V.imag)\n",
    "\n",
    "# plt.show()"
   ]
  },
  {
   "cell_type": "code",
   "execution_count": 21,
   "metadata": {},
   "outputs": [],
   "source": [
    "# b.shape\n"
   ]
  },
  {
   "cell_type": "code",
   "execution_count": 22,
   "metadata": {},
   "outputs": [
    {
     "data": {
      "text/plain": [
       "[<matplotlib.lines.Line2D at 0x7fe71f192690>]"
      ]
     },
     "execution_count": 22,
     "metadata": {},
     "output_type": "execute_result"
    },
    {
     "data": {
      "image/png": "[encoded data removed]",
      "text/plain": [
       "<Figure size 640x480 with 1 Axes>"
      ]
     },
     "metadata": {},
     "output_type": "display_data"
    }
   ],
   "source": [
    "def clip_to_std(data, N_std=2):\n",
    "    \n",
    "    data = data-np.mean(data, axis=-1)[:,:,None]\n",
    "    clip_thre = np.std(data, axis=-1)[:,:,None]*N_std\n",
    "\n",
    "    data = np.clip(data, -clip_thre, clip_thre)\n",
    "    return data, clip_thre\n",
    "\n",
    "\n",
    "\n",
    "a = np.random.rand(3,2,100)\n",
    "\n",
    "a_clipped, clip_thre = clip_to_std(a, N_std=2)\n",
    "\n",
    "\n",
    "\n",
    "plt.plot(a[0,0,:])\n",
    "plt.axhline(clip_thre[0,0,:], color='red')\n",
    "plt.axhline(-clip_thre[0,0,:], color='red')\n",
    "plt.plot(a_clipped[0,0,:],)\n",
    "\n",
    "# a\n",
    "# array([0, 1, 2, 3, 4, 5, 6, 7, 8, 9])\n",
    "# np.clip(a, 1, 8)\n",
    "# array([1, 1, 2, 3, 4, 5, 6, 7, 8, 8])\n",
    "# np.clip(a, 8, 1)\n",
    "# array([1, 1, 1, 1, 1, 1, 1, 1, 1, 1])\n",
    "# np.clip(a, 3, 6, out=a)\n",
    "# array([3, 3, 3, 3, 4, 5, 6, 6, 6, 6])\n",
    "# a\n",
    "# array([3, 3, 3, 3, 4, 5, 6, 6, 6, 6])\n",
    "# a = np.arange(10)\n",
    "# a\n",
    "# array([0, 1, 2, 3, 4, 5, 6, 7, 8, 9])\n",
    "# np.clip(a, [3, 4, 1, 1, 1, 4, 4, 4, 4, 4], 8)\n",
    "# array([3, 4, 2, 3, 4, 5, 6, 7, 8, 8])"
   ]
  },
  {
   "cell_type": "code",
   "execution_count": 23,
   "metadata": {},
   "outputs": [],
   "source": [
    "# steps_thre = 100\n",
    "# list_modalitites = ['SCG', 'PPG', 'ECG', 'SCGPPG', 'ECGSCG', 'ECGPPG', 'All', 'combo']\n",
    "# # list_method = ['ST', 'U-Net', 'U-Net RQI_fft', 'U-Net RQI_kurtosis']\n",
    "# # list_TF_types = ['source', 'FT_top', 'FT_top2', 'FT_all', 'target']\n",
    "\n",
    "\n",
    "# # list_modalitites = ['PPG', 'ECG', 'SCG']\n",
    "\n",
    "# list_method = ['ST', 'U-Net']\n",
    "\n",
    "# list_TF_types = ['source', 'target']\n",
    "# domain_name = 'CDC_dataset'\n",
    "# # domain_name = 'GT_dataset'\n"
   ]
  },
  {
   "cell_type": "code",
   "execution_count": null,
   "metadata": {},
   "outputs": [],
   "source": [
    "sys.exit()"
   ]
  },
  {
   "cell_type": "code",
   "execution_count": null,
   "metadata": {},
   "outputs": [],
   "source": []
  },
  {
   "cell_type": "code",
   "execution_count": null,
   "metadata": {},
   "outputs": [],
   "source": []
  },
  {
   "cell_type": "code",
   "execution_count": null,
   "metadata": {},
   "outputs": [],
   "source": []
  },
  {
   "cell_type": "code",
   "execution_count": null,
   "metadata": {},
   "outputs": [],
   "source": []
  },
  {
   "cell_type": "code",
   "execution_count": 24,
   "metadata": {},
   "outputs": [],
   "source": [
    "activity_names = ['baseline', ]"
   ]
  },
  {
   "cell_type": "code",
   "execution_count": 25,
   "metadata": {},
   "outputs": [
    {
     "name": "stdout",
     "output_type": "stream",
     "text": [
      "FFTRegression\n",
      "RespiratoryRegression\n",
      "shortWin\n",
      "computation\n",
      "training_logs.txt\n",
      ".ipynb_checkpoints\n",
      ".ipynb_checkpoints\n",
      "baseline67\n",
      "baseline\n"
     ]
    }
   ],
   "source": [
    "for activity_names in os.listdir(inputdir):\n",
    "    print(activity_names)\n",
    "\n",
    "    if os.path.isdir(activity_names):\n",
    "        print(activity_names)\n",
    "        \n",
    "#     if 'dummy' in activity_names:\n",
    "#         continue\n",
    "#     if 'training_logs' in activity_names:\n",
    "#         continue\n",
    "#     if 'ipynb_checkpoints' in activity_names:\n",
    "#         continue\n",
    "#     print(activity_names)\n",
    "    \n",
    "#     for folder_name in os.listdir(inputdir+activity_names+'/'):\n",
    "#         print('\\t', folder_name)"
   ]
  },
  {
   "cell_type": "code",
   "execution_count": 26,
   "metadata": {},
   "outputs": [
    {
     "ename": "NameError",
     "evalue": "name 'list_modalitites' is not defined",
     "output_type": "error",
     "traceback": [
      "\u001b[0;31m---------------------------------------------------------------------------\u001b[0m",
      "\u001b[0;31mNameError\u001b[0m                                 Traceback (most recent call last)",
      "\u001b[0;32m/tmp/ipykernel_28360/313857533.py\u001b[0m in \u001b[0;36m<module>\u001b[0;34m\u001b[0m\n\u001b[1;32m      5\u001b[0m \u001b[0;31m#         continue\u001b[0m\u001b[0;34m\u001b[0m\u001b[0;34m\u001b[0m\u001b[0;34m\u001b[0m\u001b[0m\n\u001b[1;32m      6\u001b[0m \u001b[0;34m\u001b[0m\u001b[0m\n\u001b[0;32m----> 7\u001b[0;31m \u001b[0;32mfor\u001b[0m \u001b[0mmodalitity\u001b[0m \u001b[0;32min\u001b[0m \u001b[0mlist_modalitites\u001b[0m\u001b[0;34m:\u001b[0m\u001b[0;34m\u001b[0m\u001b[0;34m\u001b[0m\u001b[0m\n\u001b[0m\u001b[1;32m      8\u001b[0m \u001b[0;34m\u001b[0m\u001b[0m\n\u001b[1;32m      9\u001b[0m     \u001b[0;32mfor\u001b[0m \u001b[0mTF_type\u001b[0m \u001b[0;32min\u001b[0m \u001b[0mlist_TF_types\u001b[0m\u001b[0;34m:\u001b[0m\u001b[0;34m\u001b[0m\u001b[0;34m\u001b[0m\u001b[0m\n",
      "\u001b[0;31mNameError\u001b[0m: name 'list_modalitites' is not defined"
     ]
    }
   ],
   "source": [
    "\n",
    "df_outputlabel_ALL_train = pd.DataFrame()\n",
    "\n",
    "# for sub_file in os.listdir(inputdir):\n",
    "#     if '.ipynb_checkpoints'==sub_file:\n",
    "#         continue\n",
    "        \n",
    "for modalitity in list_modalitites:\n",
    "        \n",
    "    for TF_type in list_TF_types:\n",
    "        \n",
    "#         modalitity = sub_file\n",
    "\n",
    "        csv_dir = inputdir + domain_name + '/' + modalitity + '/win60_overlap95_seq20_norm/{}/numeric_results/df_outputlabel_train_RR_cosmed.csv'.format(TF_type)\n",
    "        try:\n",
    "            df_outputlabel_train_RR_cosmed = pd.read_csv(csv_dir)  \n",
    "        except:\n",
    "            print(modalitity, 'directory does not exist')\n",
    "            continue\n",
    "        df_outputlabel_train_RR_cosmed['RQI_ideal'] = -np.abs(df_outputlabel_train_RR_cosmed['label_est'] - df_outputlabel_train_RR_cosmed['label'])\n",
    "\n",
    "        df_outputlabel_train_RR_cosmed['modality'] = modalitity\n",
    "        df_outputlabel_train_RR_cosmed['est_method'] = 'U-Net'\n",
    "        df_outputlabel_train_RR_cosmed['TF_type'] = TF_type\n",
    "\n",
    "        df_outputlabel_ALL_train = df_outputlabel_ALL_train.append(df_outputlabel_train_RR_cosmed)"
   ]
  },
  {
   "cell_type": "code",
   "execution_count": null,
   "metadata": {},
   "outputs": [],
   "source": []
  },
  {
   "cell_type": "code",
   "execution_count": null,
   "metadata": {},
   "outputs": [],
   "source": []
  },
  {
   "cell_type": "code",
   "execution_count": null,
   "metadata": {},
   "outputs": [],
   "source": []
  },
  {
   "cell_type": "code",
   "execution_count": null,
   "metadata": {},
   "outputs": [],
   "source": []
  },
  {
   "cell_type": "code",
   "execution_count": 27,
   "metadata": {},
   "outputs": [],
   "source": [
    "def get_RQI_threshold(df_outputlabel, RQI_name, steps_thre=10):\n",
    "    # this function computes the threshold for RQI (defined as the value requires to get MAE<1BPM)\n",
    "    df_RQI_results = get_df_RQI_results(df_outputlabel, RQI_name, steps_thre=steps_thre)\n",
    "    MAE_diff = df_RQI_results['MAE'].values-1\n",
    "#     MAE_diff = df_RQI_results['MAE'].values-1\n",
    "    df_RQI_results['MAE_diff'] = MAE_diff\n",
    "#     print(MAE_diff)\n",
    "    \n",
    "    if (MAE_diff<0).sum()!=0:\n",
    "        i_RQI_threshold = np.where((MAE_diff<0) & (MAE_diff==MAE_diff[MAE_diff<0].max()))[0]\n",
    "        i_RQI_threshold = i_RQI_threshold[-1]\n",
    "        RQI_threshold = df_RQI_results.loc[i_RQI_threshold,:]['threshold']\n",
    "    else:\n",
    "        if RQI_name == 'RQI_fft':\n",
    "            RQI_threshold=0.55\n",
    "        elif RQI_name == 'RQI_kurtosis':\n",
    "            RQI_threshold=0\n",
    "\n",
    "#         i_RQI_threshold = MAE_diff.shape[0]//2\n",
    "        \n",
    "#     RQI_threshold = df_RQI_results.loc[i_RQI_threshold,:]['threshold'].values\n",
    "\n",
    "    # i_RQI_threshold/ \n",
    "#     return RQI_threshold\n",
    "    return RQI_threshold"
   ]
  },
  {
   "cell_type": "code",
   "execution_count": 28,
   "metadata": {},
   "outputs": [],
   "source": [
    "\n",
    "def get_mask_random(N_zeros, N_ones, i_seed=0):\n",
    "    # create a mask with N_zeros and N_ones\n",
    "    # default seed is 0\n",
    "    mask_random = [0] * N_zeros + [1] * N_ones\n",
    "    random.seed(i_seed)\n",
    "    random.shuffle(mask_random)\n",
    "    mask_random = np.asarray(mask_random).astype(bool)\n",
    "    return mask_random\n",
    "\n",
    "def get_df_RQI_results(df_outputlabel, RQI_name, steps_thre=10):\n",
    "    \n",
    "    df_RQI_results = pd.DataFrame()\n",
    "\n",
    "    label = df_outputlabel['label'].values\n",
    "    label_est = df_outputlabel['label_est'].values\n",
    "\n",
    "    if RQI_name!='random':\n",
    "        RQI_range = df_outputlabel[RQI_name].min(), df_outputlabel[RQI_name].max()\n",
    "    else:\n",
    "        RQI_range = [0,df_outputlabel.shape[0]]\n",
    "        \n",
    "        \n",
    "    for threshold in np.linspace(RQI_range[0],RQI_range[1],steps_thre, endpoint=False):\n",
    "\n",
    "        if RQI_name!='random':\n",
    "            mask_RQI = df_outputlabel[RQI_name] > threshold\n",
    "#             MAE, _ = get_MAE(label[mask_RQI], label_est[mask_RQI])\n",
    "        else:\n",
    "            # random rejection\n",
    "            N_zeros = int(threshold)\n",
    "            N_ones = df_outputlabel.shape[0] - N_zeros\n",
    "            mask_RQI = get_mask_random(N_zeros, N_ones)\n",
    "        \n",
    "        MAE, _ = get_MAE(label[mask_RQI], label_est[mask_RQI])\n",
    "\n",
    "        df_RQI_results = df_RQI_results.append(\n",
    "            pd.DataFrame(\n",
    "                {\n",
    "                    'threshold': threshold,\n",
    "                    'coverage': mask_RQI.mean()*100,\n",
    "                    'MAE': MAE,\n",
    "                }, index=[0]\n",
    "        ))\n",
    "\n",
    "    df_RQI_results = df_RQI_results.reset_index(drop=True)\n",
    "    return df_RQI_results"
   ]
  },
  {
   "cell_type": "markdown",
   "metadata": {},
   "source": [
    "# get train data, compute threshold for RQI"
   ]
  },
  {
   "cell_type": "code",
   "execution_count": null,
   "metadata": {},
   "outputs": [],
   "source": [
    "# # Estimation_EE/data/stage4_UNet/ECG/win60_overlap95_seq20_norm/target\n",
    "# csv_dir\n",
    "# sub_file"
   ]
  },
  {
   "cell_type": "code",
   "execution_count": null,
   "metadata": {},
   "outputs": [],
   "source": [
    "# os.listdir(inputdir)\n"
   ]
  },
  {
   "cell_type": "code",
   "execution_count": 29,
   "metadata": {},
   "outputs": [
    {
     "ename": "NameError",
     "evalue": "name 'list_modalitites' is not defined",
     "output_type": "error",
     "traceback": [
      "\u001b[0;31m---------------------------------------------------------------------------\u001b[0m",
      "\u001b[0;31mNameError\u001b[0m                                 Traceback (most recent call last)",
      "\u001b[0;32m/tmp/ipykernel_28360/313857533.py\u001b[0m in \u001b[0;36m<module>\u001b[0;34m\u001b[0m\n\u001b[1;32m      5\u001b[0m \u001b[0;31m#         continue\u001b[0m\u001b[0;34m\u001b[0m\u001b[0;34m\u001b[0m\u001b[0;34m\u001b[0m\u001b[0m\n\u001b[1;32m      6\u001b[0m \u001b[0;34m\u001b[0m\u001b[0m\n\u001b[0;32m----> 7\u001b[0;31m \u001b[0;32mfor\u001b[0m \u001b[0mmodalitity\u001b[0m \u001b[0;32min\u001b[0m \u001b[0mlist_modalitites\u001b[0m\u001b[0;34m:\u001b[0m\u001b[0;34m\u001b[0m\u001b[0;34m\u001b[0m\u001b[0m\n\u001b[0m\u001b[1;32m      8\u001b[0m \u001b[0;34m\u001b[0m\u001b[0m\n\u001b[1;32m      9\u001b[0m     \u001b[0;32mfor\u001b[0m \u001b[0mTF_type\u001b[0m \u001b[0;32min\u001b[0m \u001b[0mlist_TF_types\u001b[0m\u001b[0;34m:\u001b[0m\u001b[0;34m\u001b[0m\u001b[0;34m\u001b[0m\u001b[0m\n",
      "\u001b[0;31mNameError\u001b[0m: name 'list_modalitites' is not defined"
     ]
    }
   ],
   "source": [
    "\n",
    "df_outputlabel_ALL_train = pd.DataFrame()\n",
    "\n",
    "# for sub_file in os.listdir(inputdir):\n",
    "#     if '.ipynb_checkpoints'==sub_file:\n",
    "#         continue\n",
    "        \n",
    "for modalitity in list_modalitites:\n",
    "        \n",
    "    for TF_type in list_TF_types:\n",
    "        \n",
    "#         modalitity = sub_file\n",
    "\n",
    "        csv_dir = inputdir + domain_name + '/' + modalitity + '/win60_overlap95_seq20_norm/{}/numeric_results/df_outputlabel_train_RR_cosmed.csv'.format(TF_type)\n",
    "        try:\n",
    "            df_outputlabel_train_RR_cosmed = pd.read_csv(csv_dir)  \n",
    "        except:\n",
    "            print(modalitity, 'directory does not exist')\n",
    "            continue\n",
    "        df_outputlabel_train_RR_cosmed['RQI_ideal'] = -np.abs(df_outputlabel_train_RR_cosmed['label_est'] - df_outputlabel_train_RR_cosmed['label'])\n",
    "\n",
    "        df_outputlabel_train_RR_cosmed['modality'] = modalitity\n",
    "        df_outputlabel_train_RR_cosmed['est_method'] = 'U-Net'\n",
    "        df_outputlabel_train_RR_cosmed['TF_type'] = TF_type\n",
    "\n",
    "        df_outputlabel_ALL_train = df_outputlabel_ALL_train.append(df_outputlabel_train_RR_cosmed)"
   ]
  },
  {
   "cell_type": "code",
   "execution_count": null,
   "metadata": {},
   "outputs": [],
   "source": [
    "# df_outputlabel_ALL_train['']"
   ]
  },
  {
   "cell_type": "code",
   "execution_count": null,
   "metadata": {},
   "outputs": [],
   "source": []
  },
  {
   "cell_type": "code",
   "execution_count": null,
   "metadata": {},
   "outputs": [],
   "source": [
    "df_RQI_threshold = pd.DataFrame()\n",
    "\n",
    "for CV in df_outputlabel_ALL_train['CV'].unique(): \n",
    "    for modality in df_outputlabel_ALL_train['modality'].unique():\n",
    "        \n",
    "        for TF_type in df_outputlabel_ALL_train['TF_type'].unique():\n",
    "        \n",
    "            df_outputlabel = df_outputlabel_ALL_train[(df_outputlabel_ALL_train['CV']==CV) & (df_outputlabel_ALL_train['modality']==modality) & (df_outputlabel_ALL_train['TF_type']==TF_type)]\n",
    "\n",
    "#             print(df_outputlabel.shape)\n",
    "#             sys.exit()\n",
    "            RQI_fft_threshold = get_RQI_threshold(df_outputlabel, 'RQI_fft', steps_thre=steps_thre)\n",
    "            RQI_kurtosis_threshold = get_RQI_threshold(df_outputlabel, 'RQI_kurtosis', steps_thre=steps_thre)\n",
    "\n",
    "            df_RQI_threshold = df_RQI_threshold.append(\n",
    "                pd.DataFrame(\n",
    "                    {\n",
    "                        'CV': CV,\n",
    "                        'modality': modality,\n",
    "                        'TF_type': TF_type,\n",
    "                        'RQI_fft_threshold': RQI_fft_threshold,\n",
    "                        'RQI_kurtosis_threshold': RQI_kurtosis_threshold,\n",
    "                    }, index=[0]\n",
    "                )\n",
    "            )\n"
   ]
  },
  {
   "cell_type": "code",
   "execution_count": null,
   "metadata": {},
   "outputs": [],
   "source": [
    "# df_RQI_threshold"
   ]
  },
  {
   "cell_type": "code",
   "execution_count": null,
   "metadata": {},
   "outputs": [],
   "source": [
    "# training_params['freq_dict']"
   ]
  },
  {
   "cell_type": "code",
   "execution_count": null,
   "metadata": {},
   "outputs": [],
   "source": [
    "# RQI_fft_threshold = get_RQI_threshold(df_outputlabel, 'RQI_fft', steps_thre=steps_thre)\n",
    "# # RQI_kurtosis_threshold = get_RQI_threshold(df_outputlabel, 'RQI_kurtosis', steps_thre=steps_thre)\n"
   ]
  },
  {
   "cell_type": "code",
   "execution_count": null,
   "metadata": {},
   "outputs": [],
   "source": [
    "# df_outputlabel['label_est']"
   ]
  },
  {
   "cell_type": "code",
   "execution_count": null,
   "metadata": {},
   "outputs": [],
   "source": [
    "# plt.plot(df_RQI_threshold['RQI_kurtosis_threshold'].values)"
   ]
  },
  {
   "cell_type": "code",
   "execution_count": null,
   "metadata": {},
   "outputs": [],
   "source": []
  },
  {
   "cell_type": "markdown",
   "metadata": {},
   "source": [
    "# get val data"
   ]
  },
  {
   "cell_type": "code",
   "execution_count": null,
   "metadata": {},
   "outputs": [],
   "source": [
    "\n",
    "df_outputlabel_ALL = pd.DataFrame()\n",
    "\n",
    "# for sub_file in os.listdir(inputdir):\n",
    "#     if '.ipynb_checkpoints'==sub_file:\n",
    "#         continue\n",
    "#     modalitity = sub_file\n",
    "    \n",
    "for modalitity in list_modalitites:\n",
    "        \n",
    "    for TF_type in list_TF_types:\n",
    "        \n",
    "\n",
    "#         csv_dir = inputdir + sub_file + '/win60_overlap95_seq20_norm/numeric_results/df_outputlabel_val_RR_cosmed.csv'\n",
    "        csv_dir = inputdir + domain_name + '/' +  modalitity + '/win60_overlap95_seq20_norm/{}/numeric_results/df_outputlabel_val_RR_cosmed.csv'.format(TF_type)\n",
    "\n",
    "        try:\n",
    "            df_outputlabel_val_RR_cosmed = pd.read_csv(csv_dir)  \n",
    "        except:\n",
    "            print(modalitity, 'directory does not exist')\n",
    "            continue\n",
    "#         df_outputlabel_val_RR_cosmed = pd.read_csv(csv_dir)  \n",
    "        df_outputlabel_val_RR_cosmed['RQI_ideal'] = -np.abs(df_outputlabel_val_RR_cosmed['label_est'] - df_outputlabel_val_RR_cosmed['label'])\n",
    "\n",
    "#         csv_dir = inputdir + sub_file + '/win60_overlap95_seq20_norm/numeric_results/df_outputlabel_val_input_RR_cosmed.csv'\n",
    "        csv_dir = inputdir + domain_name + '/' + modalitity + '/win60_overlap95_seq20_norm/{}/numeric_results/df_outputlabel_val_input_RR_cosmed.csv'.format(TF_type)\n",
    "\n",
    "        try:\n",
    "            df_outputlabel_val_input_RR_cosmed = pd.read_csv(csv_dir)  \n",
    "        except:\n",
    "            print(modalitity, 'directory does not exist')\n",
    "            continue\n",
    "            \n",
    "        df_outputlabel_val_input_RR_cosmed['RQI_ideal'] = -np.abs(df_outputlabel_val_input_RR_cosmed['label_est'] - df_outputlabel_val_input_RR_cosmed['label'])\n",
    "\n",
    "        df_outputlabel_val_input_RR_cosmed['modality'] = modalitity\n",
    "        df_outputlabel_val_input_RR_cosmed['est_method'] = 'ST'\n",
    "        df_outputlabel_val_input_RR_cosmed['TF_type'] = TF_type\n",
    "\n",
    "\n",
    "        df_outputlabel_val_RR_cosmed['modality'] = modalitity\n",
    "        df_outputlabel_val_RR_cosmed['est_method'] = 'U-Net'\n",
    "        df_outputlabel_val_RR_cosmed['TF_type'] = TF_type\n",
    "\n",
    "        df_outputlabel_ALL = df_outputlabel_ALL.append(df_outputlabel_val_input_RR_cosmed)\n",
    "        df_outputlabel_ALL = df_outputlabel_ALL.append(df_outputlabel_val_RR_cosmed)"
   ]
  },
  {
   "cell_type": "code",
   "execution_count": null,
   "metadata": {},
   "outputs": [],
   "source": [
    "# df_outputlabel_val_RR_cosmed"
   ]
  },
  {
   "cell_type": "code",
   "execution_count": null,
   "metadata": {},
   "outputs": [],
   "source": []
  },
  {
   "cell_type": "code",
   "execution_count": null,
   "metadata": {},
   "outputs": [],
   "source": [
    "df_outputlabel_ALL"
   ]
  },
  {
   "cell_type": "code",
   "execution_count": null,
   "metadata": {},
   "outputs": [],
   "source": []
  },
  {
   "cell_type": "code",
   "execution_count": null,
   "metadata": {},
   "outputs": [],
   "source": [
    "df_performance_agg = pd.DataFrame()\n",
    "\n",
    "for modality in df_outputlabel_ALL['modality'].unique():\n",
    "    for TF_type in df_outputlabel_ALL['TF_type'].unique():\n",
    "\n",
    "\n",
    "        for est_method in list_method:\n",
    "\n",
    "            for task_id in df_outputlabel_ALL['activity'].unique():\n",
    "                for subject_id in df_outputlabel_ALL['CV'].unique():\n",
    "\n",
    "\n",
    "                    if 'RQI' not in est_method:\n",
    "                        mask_df = (df_outputlabel_ALL['modality']==modality) & (df_outputlabel_ALL['est_method']==est_method) & (df_outputlabel_ALL['TF_type']==TF_type) & (df_outputlabel_ALL['activity']==task_id) & (df_outputlabel_ALL['CV']==subject_id)\n",
    "                        if mask_df.sum()==0:\n",
    "                            continue\n",
    "                        df_outputlabel = df_outputlabel_ALL[mask_df]\n",
    "            #             MAE_mean, MAE_std = get_MAE(df_outputlabel['label'], df_outputlabel['label_est'])\n",
    "                        coverage = 100\n",
    "\n",
    "                    else:\n",
    "                        mask_df = (df_outputlabel_ALL['modality']==modality) & (df_outputlabel_ALL['est_method']==est_method.split(' ')[0]) & (df_outputlabel_ALL['TF_type']==TF_type) & (df_outputlabel_ALL['activity']==task_id) & (df_outputlabel_ALL['CV']==subject_id)\n",
    "                        if mask_df.sum()==0:\n",
    "                            continue\n",
    "                        df_outputlabel = df_outputlabel_ALL[mask_df]\n",
    "        #                 sys.exit()\n",
    "\n",
    "                        mask_RQI = (df_RQI_threshold['modality']==modality) & (df_RQI_threshold['TF_type']==TF_type)\n",
    "                        df_outputlabel= df_outputlabel.merge(df_RQI_threshold[mask_RQI], on=['CV'])\n",
    "        #                 df_outputlabel= df_outputlabel.merge(df_RQI_threshold, on=['CV'])\n",
    "\n",
    "\n",
    "                        RQI_name = est_method.split(' ')[1]\n",
    "                        RQI_mask = df_outputlabel[RQI_name] > df_outputlabel[RQI_name+'_threshold']\n",
    "        #                 sys.exit()\n",
    "                        df_outputlabel = df_outputlabel[RQI_mask]\n",
    "                        coverage = RQI_mask.mean()*100\n",
    "\n",
    "                    if coverage==0:\n",
    "                        print('coverage=0')\n",
    "                        continue\n",
    "\n",
    "\n",
    "\n",
    "                    MAE_mean, MAE_std = get_MAE(df_outputlabel['label'], df_outputlabel['label_est'])\n",
    "#                     PCC = get_PCC(df_outputlabel['label'], df_outputlabel['label_est'])\n",
    "#                     CoeffDeterm = get_CoeffDeterm(df_outputlabel['label'], df_outputlabel['label_est'])\n",
    "                    MAPE, _ = get_MAPE(df_outputlabel['label'], df_outputlabel['label_est'])\n",
    "                    RMSE = get_RMSE(df_outputlabel['label'], df_outputlabel['label_est'])\n",
    "\n",
    "                    one_dict = {\n",
    "                        'MAE_mean': MAE_mean,\n",
    "                        'MAE_std': MAE_std,\n",
    "#                         'PCC': PCC,\n",
    "#                         'CoeffDeterm': CoeffDeterm,\n",
    "                        'MAPE': MAPE*100,\n",
    "                        'RMSE': RMSE,\n",
    "                        'method': est_method,\n",
    "                        'modality': modality,\n",
    "                        'TF_type': TF_type,\n",
    "                        'coverage': coverage,\n",
    "                        'task': tasks_dict_reversed[task_id],\n",
    "                        'subject_id': subject_id\n",
    "                    }\n",
    "\n",
    "                    df_performance_agg = df_performance_agg.append(one_dict, ignore_index=True)\n"
   ]
  },
  {
   "cell_type": "code",
   "execution_count": null,
   "metadata": {},
   "outputs": [],
   "source": []
  },
  {
   "cell_type": "code",
   "execution_count": null,
   "metadata": {},
   "outputs": [],
   "source": [
    "# df_performance_agg['modality']"
   ]
  },
  {
   "cell_type": "code",
   "execution_count": null,
   "metadata": {},
   "outputs": [],
   "source": []
  },
  {
   "cell_type": "code",
   "execution_count": null,
   "metadata": {},
   "outputs": [],
   "source": [
    "# df"
   ]
  },
  {
   "cell_type": "code",
   "execution_count": null,
   "metadata": {},
   "outputs": [],
   "source": []
  },
  {
   "cell_type": "code",
   "execution_count": null,
   "metadata": {},
   "outputs": [],
   "source": [
    "\n",
    "def plot_df_performance_agg(df):\n",
    "\n",
    "    N_modality = len(df['modality'].unique())\n",
    "\n",
    "    fig, ax = plt.subplots(1,1, figsize=(N_modality*1.5,3),dpi=100)\n",
    "\n",
    "    # average over subjects\n",
    "    sns.boxplot(data=df, x='task', y='MAE_mean', hue='modality', ax=ax, boxprops=dict(linewidth=1, alpha=0.7), showfliers = False)\n",
    "    sns.stripplot(data=df, x='task', y='MAE_mean', hue='modality', ax=ax,dodge=True, size=2, color='black', alpha=0.9)\n",
    "\n",
    "    handles, labels = ax.get_legend_handles_labels()\n",
    "\n",
    "    # When creating the legend, only use the first two elements\n",
    "    # to effectively remove the last two.\n",
    "    l = plt.legend(handles[:N_modality], labels[:N_modality], bbox_to_anchor=(1.05, 1), loc=2, borderaxespad=0.)\n",
    "\n",
    "    modality = df['modality'].unique()[0]\n",
    "    TF_type = df['TF_type'].unique()[0]\n",
    "    \n",
    "    ax.set_title('method: {}\\nTF_type:{}'.format(method, TF_type))\n",
    "    ax_no_top_right(ax)\n",
    "    ax.set_ylim(0,10)"
   ]
  },
  {
   "cell_type": "code",
   "execution_count": null,
   "metadata": {},
   "outputs": [],
   "source": [
    "# # df_performance_agg['TF_type'].unique()\n",
    "# for TF_type in list(df_performance_agg['TF_type'].unique()):\n",
    "#     print(TF_type)\n",
    "    \n"
   ]
  },
  {
   "cell_type": "code",
   "execution_count": null,
   "metadata": {},
   "outputs": [],
   "source": [
    "\n",
    "\n",
    "for TF_type in df_performance_agg['TF_type'].unique():\n",
    "#     print(TF_type)\n",
    "\n",
    "    for method in df_performance_agg['method'].unique():\n",
    "        df = df_performance_agg[(df_performance_agg['TF_type']==TF_type) & (df_performance_agg['method']==method)]\n",
    "        plot_df_performance_agg(df)\n"
   ]
  },
  {
   "cell_type": "code",
   "execution_count": null,
   "metadata": {},
   "outputs": [],
   "source": []
  },
  {
   "cell_type": "code",
   "execution_count": null,
   "metadata": {},
   "outputs": [],
   "source": [
    "# df_outputlabel[RQI_name+'_threshold']"
   ]
  },
  {
   "cell_type": "code",
   "execution_count": null,
   "metadata": {},
   "outputs": [],
   "source": [
    "# df_performance_agg"
   ]
  },
  {
   "cell_type": "code",
   "execution_count": null,
   "metadata": {},
   "outputs": [],
   "source": [
    "method_color_dict = {\n",
    "#     'temporal': '#2471A3',\n",
    "    'ST': '#45B39D',\n",
    "    'U-Net':'#F4D03F' ,\n",
    "    'U-Net RQI_fft':'#b34b45' ,\n",
    "    'U-Net RQI_kurtosis':'#c4751b' ,\n",
    "}"
   ]
  },
  {
   "cell_type": "code",
   "execution_count": null,
   "metadata": {},
   "outputs": [],
   "source": []
  },
  {
   "cell_type": "code",
   "execution_count": null,
   "metadata": {},
   "outputs": [],
   "source": []
  },
  {
   "cell_type": "code",
   "execution_count": null,
   "metadata": {},
   "outputs": [],
   "source": [
    "for modality in df_outputlabel_ALL['modality'].unique():\n",
    "    df = df_outputlabel_ALL[(df_outputlabel_ALL['est_method']=='U-Net') & (df_outputlabel_ALL['TF_type']=='target') & (df_outputlabel_ALL['modality']==modality)]\n",
    "\n",
    "    \n",
    "    MAE_mean, MAE_std = get_MAE(df['label'], df['label_est'])\n",
    "    PCC = get_PCC(df['label'], df['label_est'])\n",
    "    Rsqr = get_CoeffDeterm(df['label'], df['label_est'])\n",
    "    print(modality)\n",
    "    print(MAE_mean, MAE_std, PCC, Rsqr)\n",
    "    # df_outputlabel_ALL['label_est']"
   ]
  },
  {
   "cell_type": "code",
   "execution_count": null,
   "metadata": {},
   "outputs": [],
   "source": [
    "def get_df_TF_agg(df, metric='MAE_mean'):\n",
    "#     df_TF_agg = df_performance_agg[df_performance_agg['method']==method].copy()\n",
    "    df_TF_agg = df.pivot_table(index=\"TF_type\", columns=\"modality\", values=metric, aggfunc='mean')\n",
    "#     df_TF_agg = df_TF_agg.loc[list_TF_types]\n",
    "    df_TF_agg = df_TF_agg[list(df['modality'].unique())]\n",
    "    return df_TF_agg"
   ]
  },
  {
   "cell_type": "code",
   "execution_count": null,
   "metadata": {},
   "outputs": [],
   "source": [
    "# list_TF_types"
   ]
  },
  {
   "cell_type": "code",
   "execution_count": null,
   "metadata": {},
   "outputs": [],
   "source": [
    "\n",
    "use_TEST=False\n",
    "\n",
    "remove_moving=True\n",
    "\n",
    "df_TF_agg = pd.DataFrame()\n",
    "\n",
    "for method in list_method:\n",
    "#     print(method)\n",
    "    \n",
    "    if use_TEST :\n",
    "        df = df_performance_agg[ (df_performance_agg['subject_id'].isin([1, 5, 7, 15, 16, 22])) & (df_performance_agg_GT_TEST['method']==method)].copy()\n",
    "    # df_performance_agg_GT_TEST = df_performance_agg\n",
    "    else:\n",
    "        df = df_performance_agg[df_performance_agg['method']==method].copy()\n",
    "\n",
    "    if remove_moving:\n",
    "        df = df[df['task']!='6MWT']\n",
    "        \n",
    "    df['TF_type'] = df['method'] + ' ' + df['TF_type']\n",
    "    df_TF_agg = df_TF_agg.append(get_df_TF_agg(df, metric='MAE_mean'))\n",
    "    \n",
    "df_TF_agg = df_TF_agg.drop('ST source')\n",
    "df_TF_agg = df_TF_agg.rename(index={'ST target':'ST'})\n",
    "display(df_TF_agg)\n"
   ]
  },
  {
   "cell_type": "code",
   "execution_count": null,
   "metadata": {},
   "outputs": [],
   "source": []
  },
  {
   "cell_type": "code",
   "execution_count": null,
   "metadata": {},
   "outputs": [],
   "source": [
    "# df_copy"
   ]
  },
  {
   "cell_type": "code",
   "execution_count": null,
   "metadata": {},
   "outputs": [],
   "source": [
    "# list_TF_types\n"
   ]
  },
  {
   "cell_type": "code",
   "execution_count": null,
   "metadata": {},
   "outputs": [],
   "source": [
    "# df_copy.index = df_copy.index.astype(\"category\")\n",
    "# df_copy.index.set_categories(list_TF_types, inplace=True)\n"
   ]
  },
  {
   "cell_type": "code",
   "execution_count": null,
   "metadata": {},
   "outputs": [],
   "source": []
  },
  {
   "cell_type": "code",
   "execution_count": null,
   "metadata": {},
   "outputs": [],
   "source": []
  },
  {
   "cell_type": "code",
   "execution_count": null,
   "metadata": {},
   "outputs": [],
   "source": [
    "df_performance_agg_copy = df_performance_agg.copy()\n",
    "df_copy = df_performance_agg_copy[df_performance_agg_copy['method']=='U-Net RQI_fft'].copy()\n",
    "df_copy.pivot_table(index=\"TF_type\", columns=\"modality\", values=\"MAE_mean\", aggfunc='first')\n",
    "# df_performance_agg_copy"
   ]
  },
  {
   "cell_type": "code",
   "execution_count": null,
   "metadata": {},
   "outputs": [],
   "source": [
    "# df_performance_agg_copy['method'].unique()"
   ]
  },
  {
   "cell_type": "code",
   "execution_count": null,
   "metadata": {},
   "outputs": [],
   "source": [
    "df_performance_agg_copy = df_performance_agg.copy()\n",
    "df_copy = df_performance_agg_copy[df_performance_agg_copy['method']=='U-Net RQI_kurtosis'].copy()\n",
    "df_copy.pivot_table(index=\"TF_type\", columns=\"modality\", values=\"MAE_mean\", aggfunc='first')\n",
    "# df_performance_agg_copy"
   ]
  },
  {
   "cell_type": "code",
   "execution_count": null,
   "metadata": {},
   "outputs": [],
   "source": [
    "# df['modality'] = pd.Categorical(df['modality'],list_modalitites.reverse(), ordered=True)\n",
    "# df"
   ]
  },
  {
   "cell_type": "code",
   "execution_count": null,
   "metadata": {},
   "outputs": [],
   "source": [
    "metric_name = 'MAE_mean'\n",
    "\n",
    "df = df_performance_agg.copy()\n",
    "\n",
    "\n",
    "df['method'] = pd.Categorical(\n",
    "            df['method'], \n",
    "            categories=list_method,\n",
    "            ordered=True\n",
    "        )\n",
    "df = df.sort_values('method')\n",
    "\n",
    "\n",
    "df['modality'] = pd.Categorical(\n",
    "            df['modality'], \n",
    "            categories=list_modalitites.reverse(), \n",
    "            ordered=True\n",
    "        )\n",
    "df = df.sort_values('modality')\n",
    "\n",
    "fig, ax = plt.subplots(1,1, figsize=(7,3),dpi=180)\n",
    "\n",
    "sns.barplot(x=\"modality\", y=metric_name, hue=\"method\", data=df, ax=ax, palette=method_color_dict)\n",
    "ax.yaxis.grid(True, which='major', color='gray',alpha=0.8)\n",
    "ax.yaxis.grid(True, which='minor', alpha=0.5)\n",
    "ax.legend(frameon=True, bbox_to_anchor=(1.05,1))\n",
    "\n",
    "ax_no_top_right(ax)\n",
    "plt.show()"
   ]
  },
  {
   "cell_type": "code",
   "execution_count": null,
   "metadata": {},
   "outputs": [],
   "source": []
  },
  {
   "cell_type": "code",
   "execution_count": null,
   "metadata": {},
   "outputs": [],
   "source": [
    "def plot_figure_ranking_all(df_performance_agg, outputdir=None, show_plot=False):\n",
    "\n",
    "    fig = plt.figure(figsize=(10,10),dpi=300)\n",
    "    ax = fig.add_subplot(1, 1, 1)\n",
    "    fontsize = 15\n",
    "\n",
    "    # Width of a bar \n",
    "    width = 0.2\n",
    "    model_shift = 0 + width*1.5\n",
    "\n",
    "    # ind = np.arange(len(df['input_name'].unique()))\n",
    "    #     ind = np.asarray([0, 1, 2, 3, 4, 6, 5, 7])\n",
    "    ind = np.arange(len(df_performance_agg['modality'].unique()))\n",
    "\n",
    "    list_modalitites = ['SCG', 'PPG', 'ECG', 'SCGPPG', 'ECGSCG', 'ECGPPG', 'All']\n",
    "\n",
    "    # for method in df_performance_agg['method'].unique():\n",
    "    for method in ['U-Net RQI_kurtosis', 'U-Net RQI_fft', 'U-Net', 'ST']:\n",
    "        df = df_performance_agg[df_performance_agg['method']==method].copy()\n",
    "\n",
    "        df['modality'] = pd.Categorical(\n",
    "            df['modality'], \n",
    "            categories=list_modalitites, \n",
    "            ordered=True\n",
    "        )\n",
    "        df = df.sort_values('modality')\n",
    "\n",
    "    #     legend_name = method\n",
    "    #     if method=='ST+U-Net':\n",
    "    #         legend_name = 'ST-U-Net'\n",
    "    #         print(df)\n",
    "\n",
    "        ax.barh(ind+model_shift, df['MAE_mean'].values , width, label=method, color=method_color_dict[method], zorder=3, alpha=0.9)\n",
    "    # ax.barh(ind, MAE_input_single,  width, label='Demodulation', color='firebrick', zorder=3, alpha=0.9)\n",
    "\n",
    "        ax.hlines(ind+model_shift, 0, df['MAE_std'].values, color='black')  # Stems\n",
    "        ax.plot(df['MAE_std'].values, ind+model_shift, 'o', color='black')  # Stem ends\n",
    "\n",
    "\n",
    "#         height = rect.get_height()\n",
    "#         print(df['MAE_std'].values, ind+model_shift)\n",
    "    \n",
    "        \n",
    "#         for (x_value, y_value, coverage) in zip(df['MAE_std'].values, ind+model_shift, df['coverage']):\n",
    "        for (x_value, y_value, coverage) in zip(df['MAE_mean'].values*0, ind+model_shift, df['coverage']):\n",
    "            if 'RQI' not in method:\n",
    "                continue\n",
    "            \n",
    "#             print(x_value, y_value, coverage)\n",
    "            ax.text(x_value+0.05, y_value, 'cov={:.1f}%'.format(coverage), ha='left', va='center', fontsize=fontsize*0.5, color='white',weight='bold')\n",
    "\n",
    "        \n",
    "        \n",
    "        model_shift = model_shift - width\n",
    "\n",
    "\n",
    "    ax.set_yticks(ind + (width-0.05) / 2)\n",
    "    ax.set_yticklabels(df['modality'].unique())\n",
    "\n",
    "\n",
    "    ax.tick_params(axis='both', which='major', labelsize=fontsize)\n",
    "    ax.set_xlabel('MAE (bpm)', fontsize=fontsize+5)\n",
    "\n",
    "    ax.legend(fontsize=fontsize, frameon=True, bbox_to_anchor=(1.04,1))\n",
    "    ax.xaxis.grid(True, which='major', color='gray',alpha=0.8)\n",
    "    ax.xaxis.grid(True, which='minor', alpha=0.5)\n",
    "    # plt.majorticks_on() \n",
    "    plt.minorticks_on() \n",
    "\n",
    "    ax.spines['right'].set_visible(False)\n",
    "    ax.spines['top'].set_visible(False)\n",
    "    fig.tight_layout()\n",
    "\n",
    "#         ax.set_xlim(0,4)\n",
    "\n",
    "    if outputdir is not None:\n",
    "        if not os.path.exists(outputdir):\n",
    "            os.makedirs(outputdir)\n",
    "        fig.savefig(outputdir + 'figure_rank_all.png', facecolor=fig.get_facecolor())\n",
    "        \n",
    "    if show_plot == False:\n",
    "        plt.close(fig)\n",
    "        pyplot.close(fig)\n",
    "        plt.close('all')\n",
    "    plt.show()\n",
    "\n",
    "    # plot_figure7_ranking_all(df_join_methods, outputdir=outputdir, show_plot=True)\n"
   ]
  },
  {
   "cell_type": "code",
   "execution_count": null,
   "metadata": {},
   "outputs": [],
   "source": [
    "# df_performance_agg"
   ]
  },
  {
   "cell_type": "code",
   "execution_count": null,
   "metadata": {},
   "outputs": [],
   "source": [
    "plot_figure_ranking_all(df_performance_agg, outputdir=outputdir, show_plot=True)\n"
   ]
  },
  {
   "cell_type": "code",
   "execution_count": null,
   "metadata": {},
   "outputs": [],
   "source": []
  },
  {
   "cell_type": "code",
   "execution_count": null,
   "metadata": {},
   "outputs": [],
   "source": []
  },
  {
   "cell_type": "code",
   "execution_count": null,
   "metadata": {},
   "outputs": [],
   "source": []
  },
  {
   "cell_type": "markdown",
   "metadata": {},
   "source": [
    "# RQI analysis (coverage vs. MAE)"
   ]
  },
  {
   "cell_type": "code",
   "execution_count": null,
   "metadata": {},
   "outputs": [],
   "source": []
  },
  {
   "cell_type": "code",
   "execution_count": null,
   "metadata": {},
   "outputs": [],
   "source": []
  },
  {
   "cell_type": "code",
   "execution_count": null,
   "metadata": {},
   "outputs": [],
   "source": []
  },
  {
   "cell_type": "code",
   "execution_count": null,
   "metadata": {},
   "outputs": [],
   "source": [
    "df_RQI_results_final = pd.DataFrame()\n",
    "\n",
    "for modality in df_outputlabel_ALL['modality'].unique():\n",
    "    for est_method in df_outputlabel_ALL['est_method'].unique():\n",
    "        mask_df = (df_outputlabel_ALL['modality']==modality) & (df_outputlabel_ALL['est_method']==est_method)\n",
    "        df_outputlabel = df_outputlabel_ALL[mask_df]\n",
    "        \n",
    "        for RQI_name in ['random', 'RQI_kurtosis', 'RQI_fft', 'RQI_ideal']:\n",
    "            df_RQI_results = get_df_RQI_results(df_outputlabel, RQI_name, steps_thre=steps_thre)\n",
    "            df_RQI_results['RQI_name'] = RQI_name\n",
    "            df_RQI_results['est_method'] = est_method\n",
    "            df_RQI_results['modality'] = modality\n",
    "\n",
    "            df_RQI_results_final = df_RQI_results_final.append(df_RQI_results)"
   ]
  },
  {
   "cell_type": "code",
   "execution_count": null,
   "metadata": {},
   "outputs": [],
   "source": [
    "df_RQI_results_final"
   ]
  },
  {
   "cell_type": "code",
   "execution_count": null,
   "metadata": {},
   "outputs": [],
   "source": [
    "# df_RQI_results['RQI_name'].unique()"
   ]
  },
  {
   "cell_type": "code",
   "execution_count": null,
   "metadata": {},
   "outputs": [],
   "source": []
  },
  {
   "cell_type": "code",
   "execution_count": null,
   "metadata": {},
   "outputs": [],
   "source": [
    "def plot_MAEoverCoverage(ax, df_RQI_results, modality, est_method):\n",
    "    fontsize = 10\n",
    "    sns.lineplot(data=df_RQI_results, x=\"coverage\", y=\"MAE\", hue=\"RQI_name\",ax=ax, palette=method_color_dict,alpha=0.8)\n",
    "    ax.invert_xaxis()\n",
    "    ax_no_top_right(ax)\n",
    "    ax.set_xlim(100,50)\n",
    "    ax.set_ylim(0,6)\n",
    "    ax.set_xlabel('Coverage (%)', fontsize=fontsize)\n",
    "    ax.set_ylabel('MAE (BPM)', fontsize=fontsize)\n",
    "    ax.set_title('{} ({})'.format(modality, est_method), fontsize=fontsize+3)\n",
    "    ax.legend().set_visible(False)\n"
   ]
  },
  {
   "cell_type": "code",
   "execution_count": null,
   "metadata": {},
   "outputs": [],
   "source": [
    "# axes.shape"
   ]
  },
  {
   "cell_type": "code",
   "execution_count": null,
   "metadata": {},
   "outputs": [],
   "source": [
    "# list_method\n",
    "# list_modalitites\n",
    "# # N_est_method, N_modality"
   ]
  },
  {
   "cell_type": "code",
   "execution_count": null,
   "metadata": {},
   "outputs": [],
   "source": [
    "method_color_dict = {\n",
    "    'random': '#999898',\n",
    "    'RQI_ideal':'#433F3F' ,\n",
    "    'RQI_fft':'#b34b45' ,\n",
    "    'RQI_kurtosis':'#c4751b' ,\n",
    "}"
   ]
  },
  {
   "cell_type": "code",
   "execution_count": null,
   "metadata": {},
   "outputs": [],
   "source": [
    "# df_RQI_results_final['RQI_name'].unique()"
   ]
  },
  {
   "cell_type": "code",
   "execution_count": null,
   "metadata": {},
   "outputs": [],
   "source": [
    "\n",
    "# N_modality\n",
    "N_est_method = len(df_RQI_results_final['est_method'].unique())\n",
    "N_modality = len(df_RQI_results_final['modality'].unique())\n",
    "\n",
    "# fig, axes = plt.subplots(N_modality,N_est_method, figsize=(4,10), dpi=150)\n",
    "fig, axes = plt.subplots(N_est_method, N_modality, figsize=(12,4), dpi=150)\n",
    "# fig, axes = plt.subplots(N_est_method, N_modality, figsize=(20,12), dpi=150)\n",
    "\n",
    "# for i_mod, modality in enumerate(df_RQI_results_final['modality'].unique()):\n",
    "for i_mod, modality in enumerate(list_modalitites):\n",
    "    for i_est, est_method in enumerate(df_RQI_results_final['est_method'].unique()):\n",
    "#         print(i_mod, i_est)\n",
    "        mask_df = (df_RQI_results_final['modality']==modality) & (df_RQI_results_final['est_method']==est_method)\n",
    "        df_RQI_results = df_RQI_results_final[mask_df]\n",
    "        ax = axes[i_est, i_mod]\n",
    "        plot_MAEoverCoverage(ax, df_RQI_results, modality, est_method)\n",
    "#         ax.legend( bbox_to_anchor=(1.04,1.04))\n",
    "#         sys.exit()\n",
    "fig.tight_layout()\n",
    "# axes[0,0].plot(np.arange(5))\n",
    "# axes[0,0].plot(np.arange(5))"
   ]
  },
  {
   "cell_type": "code",
   "execution_count": null,
   "metadata": {},
   "outputs": [],
   "source": [
    "sys.exit()"
   ]
  },
  {
   "cell_type": "code",
   "execution_count": null,
   "metadata": {},
   "outputs": [],
   "source": []
  },
  {
   "cell_type": "code",
   "execution_count": null,
   "metadata": {},
   "outputs": [],
   "source": []
  },
  {
   "cell_type": "code",
   "execution_count": null,
   "metadata": {},
   "outputs": [],
   "source": [
    "df_RQI_results"
   ]
  },
  {
   "cell_type": "code",
   "execution_count": null,
   "metadata": {},
   "outputs": [],
   "source": [
    "list_modalitites"
   ]
  },
  {
   "cell_type": "code",
   "execution_count": null,
   "metadata": {},
   "outputs": [],
   "source": [
    "\n",
    "# mask_df = (df_RQI_results_final['modality']=='All') & (df_RQI_results_final['est_method']=='U-Net') & (df_RQI_results_final['RQI_name']=='RQI_kurtosis')\n",
    "mask_df = (df_RQI_results_final['modality']=='All') & (df_RQI_results_final['est_method']=='U-Net') & (df_RQI_results_final['RQI_name']=='RQI_fft')\n",
    "df_RQI_results = df_RQI_results_final[mask_df]\n",
    "plt.plot(df_RQI_results['coverage'].values, df_RQI_results['MAE'].values)"
   ]
  },
  {
   "cell_type": "code",
   "execution_count": null,
   "metadata": {},
   "outputs": [],
   "source": [
    "df_RQI_results_final"
   ]
  },
  {
   "cell_type": "code",
   "execution_count": null,
   "metadata": {},
   "outputs": [],
   "source": []
  },
  {
   "cell_type": "code",
   "execution_count": null,
   "metadata": {},
   "outputs": [],
   "source": []
  },
  {
   "cell_type": "code",
   "execution_count": null,
   "metadata": {},
   "outputs": [],
   "source": [
    "label = df_outputlabel_val_RR_cosmed['label']\n",
    "label_est = df_outputlabel_val_RR_cosmed['label_est']\n",
    "\n",
    "MAE, _ = get_MAE(label, label_est)\n",
    "print(MAE)"
   ]
  },
  {
   "cell_type": "code",
   "execution_count": null,
   "metadata": {},
   "outputs": [],
   "source": [
    "plt.plot(df_outputlabel_val_RR_cosmed['RQI_fft'])\n",
    "\n",
    "mask_RQI_fft = df_outputlabel_val_RR_cosmed['RQI_fft'] > 0.1"
   ]
  },
  {
   "cell_type": "code",
   "execution_count": null,
   "metadata": {},
   "outputs": [],
   "source": [
    "# df_outputlabel_val_RR_cosmed\n"
   ]
  },
  {
   "cell_type": "code",
   "execution_count": null,
   "metadata": {},
   "outputs": [],
   "source": [
    "plt.plot(df_outputlabel_val_RR_cosmed['RQI_kurtosis'])\n",
    "\n",
    "mask_RQI_kurtosis = df_outputlabel_val_RR_cosmed['RQI_kurtosis'] > 10"
   ]
  },
  {
   "cell_type": "code",
   "execution_count": null,
   "metadata": {},
   "outputs": [],
   "source": [
    "label = df_outputlabel_val_RR_cosmed['label'][mask_RQI_fft & mask_RQI_kurtosis]\n",
    "label_est = df_outputlabel_val_RR_cosmed['label_est'][mask_RQI_fft & mask_RQI_kurtosis]\n",
    "\n",
    "MAE, _ = get_MAE(label, label_est)\n",
    "print(MAE)"
   ]
  },
  {
   "cell_type": "code",
   "execution_count": null,
   "metadata": {},
   "outputs": [],
   "source": [
    "plt.scatter(df_outputlabel_val_RR_cosmed['RQI_fft'], df_outputlabel_val_RR_cosmed['RQI_kurtosis'])"
   ]
  },
  {
   "cell_type": "code",
   "execution_count": null,
   "metadata": {},
   "outputs": [],
   "source": []
  },
  {
   "cell_type": "code",
   "execution_count": null,
   "metadata": {},
   "outputs": [],
   "source": []
  },
  {
   "cell_type": "code",
   "execution_count": null,
   "metadata": {},
   "outputs": [],
   "source": [
    "mask_RQI.shape"
   ]
  },
  {
   "cell_type": "code",
   "execution_count": null,
   "metadata": {},
   "outputs": [],
   "source": []
  },
  {
   "cell_type": "code",
   "execution_count": null,
   "metadata": {},
   "outputs": [],
   "source": []
  },
  {
   "cell_type": "code",
   "execution_count": null,
   "metadata": {},
   "outputs": [],
   "source": [
    "# for i in range(6):\n",
    "#     mask_random = get_mask_random(2, 1, i_seed=i)\n",
    "#     print(mask_random)"
   ]
  },
  {
   "cell_type": "code",
   "execution_count": null,
   "metadata": {},
   "outputs": [],
   "source": [
    "# get_mask_random(1, 2, i_seed=1)\n"
   ]
  },
  {
   "cell_type": "code",
   "execution_count": null,
   "metadata": {},
   "outputs": [],
   "source": [
    "# plt.plot(label_est)"
   ]
  },
  {
   "cell_type": "code",
   "execution_count": null,
   "metadata": {},
   "outputs": [],
   "source": [
    "mask_random.astype(bool)"
   ]
  },
  {
   "cell_type": "code",
   "execution_count": null,
   "metadata": {},
   "outputs": [],
   "source": [
    "# label[mask_random].shape, label.shape"
   ]
  },
  {
   "cell_type": "code",
   "execution_count": null,
   "metadata": {},
   "outputs": [],
   "source": []
  },
  {
   "cell_type": "code",
   "execution_count": null,
   "metadata": {},
   "outputs": [],
   "source": []
  },
  {
   "cell_type": "code",
   "execution_count": null,
   "metadata": {},
   "outputs": [],
   "source": []
  },
  {
   "cell_type": "code",
   "execution_count": null,
   "metadata": {},
   "outputs": [],
   "source": []
  },
  {
   "cell_type": "code",
   "execution_count": null,
   "metadata": {},
   "outputs": [],
   "source": []
  },
  {
   "cell_type": "code",
   "execution_count": null,
   "metadata": {},
   "outputs": [],
   "source": []
  },
  {
   "cell_type": "code",
   "execution_count": null,
   "metadata": {},
   "outputs": [],
   "source": []
  },
  {
   "cell_type": "code",
   "execution_count": null,
   "metadata": {},
   "outputs": [],
   "source": []
  },
  {
   "cell_type": "code",
   "execution_count": null,
   "metadata": {},
   "outputs": [],
   "source": []
  },
  {
   "cell_type": "code",
   "execution_count": null,
   "metadata": {},
   "outputs": [],
   "source": [
    "# RQI_fft_range\n",
    "df_RQI_fft_results = pd.DataFrame()\n",
    "\n",
    "RQI_fft_range = df_outputlabel_val_RR_cosmed['RQI_fft'].min(), df_outputlabel_val_RR_cosmed['RQI_fft'].max()\n",
    "\n",
    "for threshold in np.linspace(RQI_fft_range[0],RQI_fft_range[1],steps_thre, endpoint=False):\n",
    "    \n",
    "    label = df_outputlabel_val_RR_cosmed['label'].values\n",
    "    label_est = df_outputlabel_val_RR_cosmed['label_est'].values\n",
    "\n",
    "    \n",
    "    mask_RQI_fft = df_outputlabel_val_RR_cosmed['RQI_fft'] > threshold\n",
    "    mask_RQI = mask_RQI_fft\n",
    "    MAE, _ = get_MAE(label[mask_RQI], label_est[mask_RQI])\n",
    "    \n",
    "    N_ones = mask_RQI.sum()\n",
    "    N_zeros = mask_RQI.shape[0] - mask_RQI.sum()\n",
    "    \n",
    "    mask_random = get_mask_random(N_zeros, N_ones)\n",
    "    \n",
    "#     print(mask_random.mean(), mask_RQI.mean())\n",
    "\n",
    "#     label = df_outputlabel_val_RR_cosmed['label'][mask_random]\n",
    "#     label_est = df_outputlabel_val_RR_cosmed['label_est'][mask_random]\n",
    "\n",
    "    MAE_random, _ = get_MAE(label[mask_random], label_est[mask_random])\n",
    "    \n",
    "    \n",
    "#     print(threshold, mask_RQI.mean(), MAE)\n",
    "    \n",
    "    df_RQI_fft_results = df_RQI_fft_results.append(\n",
    "        pd.DataFrame(\n",
    "            {\n",
    "                'threshold': threshold,\n",
    "                'rejection_ratio': 1-mask_RQI.mean(),\n",
    "                'MAE': MAE,\n",
    "                'MAE_random': MAE_random,\n",
    "                \n",
    "            }, index=[0]\n",
    "    ))\n",
    "    \n",
    "df_RQI_fft_results = df_RQI_fft_results.reset_index(drop=True)"
   ]
  },
  {
   "cell_type": "code",
   "execution_count": null,
   "metadata": {},
   "outputs": [],
   "source": [
    "threshold"
   ]
  },
  {
   "cell_type": "code",
   "execution_count": null,
   "metadata": {},
   "outputs": [],
   "source": [
    "# RQI_fft_range\n",
    "df_RQI_kurtosis_results = pd.DataFrame()\n",
    "\n",
    "RQI_kurtosis_range = df_outputlabel_val_RR_cosmed['RQI_kurtosis'].min(), df_outputlabel_val_RR_cosmed['RQI_kurtosis'].max()\n",
    "\n",
    "for threshold in np.linspace(RQI_kurtosis_range[0],RQI_kurtosis_range[1],steps_thre, endpoint=False):\n",
    "    \n",
    "    label = df_outputlabel_val_RR_cosmed['label'].values\n",
    "    label_est = df_outputlabel_val_RR_cosmed['label_est'].values\n",
    "\n",
    "    \n",
    "    mask_RQI_kurtosis = df_outputlabel_val_RR_cosmed['RQI_kurtosis'] > threshold\n",
    "        \n",
    "    mask_RQI = mask_RQI_kurtosis\n",
    "    MAE, _ = get_MAE(label[mask_RQI], label_est[mask_RQI])\n",
    "    \n",
    "    N_ones = mask_RQI.sum()\n",
    "    N_zeros = mask_RQI.shape[0] - mask_RQI.sum()\n",
    "    \n",
    "    mask_random = get_mask_random(N_zeros, N_ones)\n",
    "    \n",
    "#     print(mask_random.mean(), mask_RQI.mean())\n",
    "\n",
    "#     label = df_outputlabel_val_RR_cosmed['label'][mask_random]\n",
    "#     label_est = df_outputlabel_val_RR_cosmed['label_est'][mask_random]\n",
    "\n",
    "    MAE_random, _ = get_MAE(label[mask_random], label_est[mask_random])\n",
    "    \n",
    "    \n",
    "#     print(threshold, mask_RQI.mean(), MAE)\n",
    "    \n",
    "    df_RQI_kurtosis_results = df_RQI_kurtosis_results.append(\n",
    "        pd.DataFrame(\n",
    "            {\n",
    "                'threshold': threshold,\n",
    "                'rejection_ratio': 1-mask_RQI.mean(),\n",
    "                'MAE': MAE,\n",
    "                'MAE_random': MAE_random,\n",
    "                \n",
    "            }, index=[0]\n",
    "    ))\n",
    "    \n",
    "df_RQI_kurtosis_results = df_RQI_kurtosis_results.reset_index(drop=True)"
   ]
  },
  {
   "cell_type": "code",
   "execution_count": null,
   "metadata": {},
   "outputs": [],
   "source": []
  },
  {
   "cell_type": "code",
   "execution_count": null,
   "metadata": {},
   "outputs": [],
   "source": [
    "# RQI_fft_range\n",
    "df_RQI_joint_results = pd.DataFrame()\n",
    "\n",
    "RQI_kurtosis_range = df_outputlabel_val_RR_cosmed['RQI_kurtosis'].min(), df_outputlabel_val_RR_cosmed['RQI_kurtosis'].max()\n",
    "RQI_fft_range = df_outputlabel_val_RR_cosmed['RQI_fft'].min(), df_outputlabel_val_RR_cosmed['RQI_fft'].max()\n",
    "\n",
    "\n",
    "for threshold_fft in np.linspace(RQI_fft_range[0],RQI_fft_range[1],steps_thre, endpoint=False):\n",
    "\n",
    "    for threshold_kurtosis in np.linspace(RQI_kurtosis_range[0],RQI_kurtosis_range[1],steps_thre, endpoint=False):\n",
    "\n",
    "        label = df_outputlabel_val_RR_cosmed['label'].values\n",
    "        label_est = df_outputlabel_val_RR_cosmed['label_est'].values\n",
    "\n",
    "        # reject using both RQI_kurtosis and RQI_fft\n",
    "        mask_RQI_kurtosis = df_outputlabel_val_RR_cosmed['RQI_kurtosis'] > threshold_kurtosis\n",
    "        \n",
    "        mask_RQI_fft = df_outputlabel_val_RR_cosmed['RQI_fft'] > threshold_fft\n",
    "        mask_RQI = mask_RQI_kurtosis & mask_RQI_fft\n",
    "        \n",
    "        \n",
    "        MAE, _ = get_MAE(label[mask_RQI], label_est[mask_RQI])\n",
    "\n",
    "        \n",
    "        # randomly reject samples\n",
    "        N_ones = mask_RQI.sum()\n",
    "        N_zeros = mask_RQI.shape[0] - mask_RQI.sum()\n",
    "\n",
    "        mask_random = get_mask_random(N_zeros, N_ones)\n",
    "\n",
    "        MAE_random, _ = get_MAE(label[mask_random], label_est[mask_random])\n",
    "\n",
    "\n",
    "    #     print(threshold, mask_RQI.mean(), MAE)\n",
    "\n",
    "        df_RQI_joint_results = df_RQI_joint_results.append(\n",
    "            pd.DataFrame(\n",
    "                {\n",
    "                    'threshold_fft': threshold_fft,\n",
    "                    'threshold_kurtosis': threshold_kurtosis,\n",
    "                    'rejection_ratio': 1-mask_RQI.mean(),\n",
    "                    'MAE': MAE,\n",
    "                    'MAE_random': MAE_random,\n",
    "\n",
    "                }, index=[0]\n",
    "        ))\n",
    "\n",
    "    df_RQI_joint_results = df_RQI_joint_results.reset_index(drop=True)"
   ]
  },
  {
   "cell_type": "code",
   "execution_count": null,
   "metadata": {},
   "outputs": [],
   "source": []
  },
  {
   "cell_type": "code",
   "execution_count": null,
   "metadata": {},
   "outputs": [],
   "source": [
    "plt.plot(df_RQI_joint_results['rejection_ratio']*100, df_RQI_joint_results['MAE'], 'r')\n",
    "plt.show()"
   ]
  },
  {
   "cell_type": "code",
   "execution_count": null,
   "metadata": {},
   "outputs": [],
   "source": [
    "plt.scatter(df_RQI_fft_results['rejection_ratio']*100, df_RQI_fft_results['MAE'], c='r', alpha=0.5)\n",
    "plt.scatter(df_RQI_kurtosis_results['rejection_ratio']*100, df_RQI_kurtosis_results['MAE'], c='green', alpha=0.5)\n",
    "plt.scatter(df_RQI_joint_results['rejection_ratio']*100, df_RQI_joint_results['MAE'], c='blue', alpha=0.01)\n",
    "\n",
    "plt.show()"
   ]
  },
  {
   "cell_type": "code",
   "execution_count": null,
   "metadata": {},
   "outputs": [],
   "source": []
  },
  {
   "cell_type": "code",
   "execution_count": null,
   "metadata": {},
   "outputs": [],
   "source": [
    "plt.plot(df_RQI_fft_results['MAE_random'], df_RQI_fft_results['MAE'])"
   ]
  },
  {
   "cell_type": "code",
   "execution_count": null,
   "metadata": {},
   "outputs": [],
   "source": [
    "plt.plot(df_RQI_fft_results[])"
   ]
  },
  {
   "cell_type": "code",
   "execution_count": null,
   "metadata": {},
   "outputs": [],
   "source": []
  },
  {
   "cell_type": "code",
   "execution_count": null,
   "metadata": {},
   "outputs": [],
   "source": []
  },
  {
   "cell_type": "code",
   "execution_count": null,
   "metadata": {},
   "outputs": [],
   "source": []
  },
  {
   "cell_type": "code",
   "execution_count": null,
   "metadata": {},
   "outputs": [],
   "source": [
    "sns.scatterplot(data=df_outputlabel_val_RR_cosmed, x='label', y='label_est', hue='CV', palette=subject_palette)"
   ]
  },
  {
   "cell_type": "code",
   "execution_count": null,
   "metadata": {},
   "outputs": [],
   "source": [
    "# names_dict = {\n",
    "#     'SCG_AMpt': r'SCG-PT$_{AM}$',\n",
    "# #     'SCG_BW': r'SCG$_{BW}$',\n",
    "# #     'PEP_FM': r'SCG$_{FM}$',\n",
    "    \n",
    "#     'ECG_AM': r'ECG$_{AM}$',\n",
    "#     'ECG_AMr': r'ECG-R$_{AM}$',\n",
    "#     'ECG_AMs': r'ECG-S$_{AM}$',\n",
    "#     'ECG_AMbi': r'ECG-PP$_{AM}$',\n",
    "#     'ECG_SR': r'ECG-SR$_{AM}$',\n",
    "#     'ECG_AMpt': r'ECG-PT$_{AM}$',\n",
    "#     'ECG_PCA': r'ECG-PCA$_{AM}$',\n",
    "# #     'ECG_FM': r'ECG$_{FM}$',\n",
    "# #     'ECG_BW': r'ECG$_{BW}$',\n",
    "    \n",
    "# #     'ECG_AMpt+ECG_AMr': r'ECG-PT$_{AM}$ + ECG-R$_{AM}$',\n",
    "# #     'SCG_BW+SCG_AMpt': r'SCG$_{BW}$ + SCG-PT$_{AM}$',\n",
    "# #     'ECG_AMpt+ECG_AMr+SCG_AMpt': r'ECG-PT$_{AM}$ + ECG-R$_{AM}$ + SCG-PT$_{AM}$',\n",
    "#     'ECG_AMr+SCG_AMpt': r'ECG-R$_{AM}$ + SCG-PT$_{AM}$',    \n",
    "# #     'ECG_AM+ECG_AMpt+ECG_AMr+ECG_AMs+ECG_AMbi+ECG_SR+SCG_AMpt': r'All ECG$_{AM}$ + SCG-PT$_{AM}$',\n",
    "# #     'ECG_AM+ECG_AMpt+ECG_AMr+ECG_AMs+ECG_AMbi+ECG_SR':  r'All ECG$_{AM}$',\n",
    "# #     'ECG_AMpt+ECG_AMr+ECG_AMbi+ECG_SR':  r'Good ECG$_{AM}$',\n",
    "# #     'ECG_AMpt+ECG_AMr+ECG_AMbi+ECG_SR+SCG_AMpt': r'good ECG$_{AM}$ + SCG-PT$_{AM}$',\n",
    "# }"
   ]
  },
  {
   "cell_type": "code",
   "execution_count": null,
   "metadata": {},
   "outputs": [],
   "source": []
  },
  {
   "cell_type": "code",
   "execution_count": null,
   "metadata": {},
   "outputs": [],
   "source": [
    "df_aggregated = pd.DataFrame()\n",
    "for sub_file in os.listdir(inputdir):\n",
    "    if 'script' in sub_file: \n",
    "        \n",
    "        csv_dir = inputdir + sub_file + '/TRAIN-TEST/df_performance_TEST.csv'\n",
    "#         print(csv_dir)\n",
    "        \n",
    "        try:\n",
    "            df = pd.read_csv(csv_dir)  \n",
    "            sig_name = '_'.join(sub_file.split('_')[3:-2])\n",
    "            df['sig_name'] = sig_name\n",
    "\n",
    "            df_aggregated = df_aggregated.append(df, ignore_index=True)\n",
    "        except EnvironmentError: # parent of IOError, OSError *and* WindowsError where available\n",
    "            print ('error when reading', sub_file)"
   ]
  },
  {
   "cell_type": "code",
   "execution_count": null,
   "metadata": {},
   "outputs": [],
   "source": [
    "inputdir"
   ]
  },
  {
   "cell_type": "code",
   "execution_count": null,
   "metadata": {},
   "outputs": [],
   "source": [
    "df_aggregated"
   ]
  },
  {
   "cell_type": "code",
   "execution_count": null,
   "metadata": {},
   "outputs": [],
   "source": []
  },
  {
   "cell_type": "code",
   "execution_count": null,
   "metadata": {},
   "outputs": [],
   "source": []
  },
  {
   "cell_type": "code",
   "execution_count": null,
   "metadata": {},
   "outputs": [],
   "source": []
  },
  {
   "cell_type": "code",
   "execution_count": null,
   "metadata": {},
   "outputs": [],
   "source": [
    "# filedir = '../../../covid/results/backup/stage3/win60_overlap95_seq20_ECG_AM_norm_script0/'\n",
    "filedir = '../../../covid/results/stage3/win60_overlap95_seq20_ECG_AM_norm_script0/'\n",
    "\n",
    "training_params = {}\n",
    "freq = data_loader('freq', filedir)\n",
    "freq_dict = dict(zip(np.arange(freq.shape[0]), freq))\n",
    "training_params['freq_dict'] = freq_dict"
   ]
  },
  {
   "cell_type": "code",
   "execution_count": null,
   "metadata": {},
   "outputs": [],
   "source": [
    "label_TRAIN = data_loader('label', filedir+'TRAIN_cosmed/')\n",
    "RR_label_TRAIN = get_RR2(label_TRAIN, training_params)[:,10]*60\n",
    "\n",
    "label_TEST = data_loader('label', filedir+'TEST/')\n",
    "RR_label_TEST = get_RR2(label_TEST, training_params)[:,10]*60"
   ]
  },
  {
   "cell_type": "code",
   "execution_count": null,
   "metadata": {},
   "outputs": [],
   "source": []
  },
  {
   "cell_type": "code",
   "execution_count": null,
   "metadata": {},
   "outputs": [],
   "source": [
    "label_name = 'RR'\n",
    "\n",
    "RR_range = label_range_dict['br']\n",
    "\n",
    "fig=plt.figure(figsize=(6, 6), dpi= 120, facecolor='w', edgecolor='k')\n",
    "ax = fig.add_subplot(1, 1, 1)\n",
    "\n",
    "N_bins = 20\n",
    "\n",
    "ax.hist(RR_label_TRAIN, N_bins, alpha=0.4, label='TRAIN\\n  N=11\\n  mean={:.2f}bpm'.format(RR_label_TRAIN.mean()), color = \"firebrick\")\n",
    "ax.set_ylabel('count', fontsize = 20)\n",
    "ax.set_xlabel(r'$RR$ (bpm)', fontsize = 20)\n",
    "ax.set_title('RR samples distribution \\n17 subjects, treadmill recovery ', fontsize = 20,y=1.05)\n",
    "ax.tick_params(axis='x', which='major', labelsize=15)\n",
    "\n",
    "\n",
    "\n",
    "# ax2 = fig.add_subplot(1, 2, 2)\n",
    "\n",
    "ax.hist(RR_label_TEST, N_bins, alpha=0.4,label='TEST\\n  N=6\\n  mean={:.2f}bpm'.format(RR_label_TEST.mean()), color = \"steelblue\")\n",
    "\n",
    "ax.tick_params(axis='both', which='major', labelsize=20)\n",
    "\n",
    "ax.set_xlim(RR_range)\n",
    "# ax2.set_xlim(RR_range)\n",
    "# ax.legend(loc='upper right', fontsize=12, frameon=True)\n",
    "# ax.axis('off')\n",
    "\n",
    "ax.spines['right'].set_visible(False)\n",
    "ax.spines['top'].set_visible(False)\n",
    "# ax.spines['bottom'].set_visible(False)\n",
    "# ax.spines['left'].set_visible(True)\n",
    "\n",
    "fig.tight_layout()\n",
    "fig.savefig(outputdir + 'RR_distribution.png')"
   ]
  },
  {
   "cell_type": "code",
   "execution_count": null,
   "metadata": {},
   "outputs": [],
   "source": []
  },
  {
   "cell_type": "code",
   "execution_count": null,
   "metadata": {},
   "outputs": [],
   "source": [
    "df_aggregated = df_aggregated.sort_values(by=['MAE_mean_model_val'], inplace=False, ascending=False)\n",
    "df_aggregated[['MAE_mean_model_val', 'sig_name']]\n",
    "df_aggregated"
   ]
  },
  {
   "cell_type": "code",
   "execution_count": null,
   "metadata": {},
   "outputs": [],
   "source": [
    "RR_aggregated_dict = {}\n",
    "for sub_file in os.listdir(inputdir):\n",
    "    if 'script' in sub_file: \n",
    "        \n",
    "        csv_dir = inputdir + sub_file + '/TRAIN-TEST/df_RR_TEST.csv'\n",
    "#         print(csv_dir)\n",
    "        \n",
    "        try:\n",
    "            df = pd.read_csv(csv_dir)  \n",
    "            sig_name = '_'.join(sub_file.split('_')[3:-2])\n",
    "            df['sig_name'] = sig_name\n",
    "\n",
    "#             df_RR_aggregated = df_RR_aggregated.append(df, ignore_index=True)\n",
    "            RR_aggregated_dict[sig_name] = df.copy()\n",
    "        except EnvironmentError: # parent of IOError, OSError *and* WindowsError where available\n",
    "            print ('error when reading', sub_file)"
   ]
  },
  {
   "cell_type": "code",
   "execution_count": null,
   "metadata": {},
   "outputs": [],
   "source": [
    "input_names = df_aggregated['sig_name'].values\n",
    "MAE_model = df_aggregated['MAE_mean_model_val'].values\n",
    "MAE_input = df_aggregated['MAE_mean_input_val'].values"
   ]
  },
  {
   "cell_type": "code",
   "execution_count": null,
   "metadata": {},
   "outputs": [],
   "source": [
    "MAE_std_model = df_aggregated['MAE_std_model_val'].values\n",
    "MAE_std_input = df_aggregated['MAE_std_input_val'].values"
   ]
  },
  {
   "cell_type": "code",
   "execution_count": null,
   "metadata": {},
   "outputs": [],
   "source": [
    "def inspect_Nyquist_color(RR_label, hr, absolute_err, sig_name, names_dict, outputdir=None, show_plot=False, show_label=True):\n",
    "\n",
    "    plt.rcParams[\"font.family\"] = \"Times New Roman\"\n",
    "\n",
    "    RR = np.linspace(label_range_dict['br'][0], label_range_dict['br'][1], 100)\n",
    "    HR = np.linspace(label_range_dict['heart_rate_cosmed'][0], label_range_dict['heart_rate_cosmed'][1], 100)\n",
    "\n",
    "    \n",
    "    RR_cosmed = RR_label\n",
    "    HR_cosmed = hr\n",
    "\n",
    "    mask = RR_cosmed * 2 < HR_cosmed\n",
    "\n",
    "    if (~mask).sum() > 0:\n",
    "        print('subject {} fall out of Nyquist region'.format(subject_id))\n",
    "\n",
    "    fig, (ax1) = plt.subplots(1, 1, figsize=(5,5), dpi=150)\n",
    "    fontsize=18\n",
    "\n",
    "#     ax1.fill_between(HR, 0, HR/2, color='skyblue', alpha=0.2, label='Nyquist criterion\\n'+r'($F_{signal}$ < $\\frac{1}{2}$$F_{sampling}$)')\n",
    "    ax1.fill_between(HR, 0, HR/2, color='skyblue', alpha=0.2, label='Nyquist criterion\\n'+r'$\\frac{HR}{RR}$ > 2')\n",
    "    ax1.fill_between(HR, RR[-1], HR/2, color='gray', alpha=0.2)\n",
    "\n",
    "    cmap = matplotlib.cm.get_cmap('jet')\n",
    "    bounds=np.arange(0, 8.1, 0.05)\n",
    "    norm = colors.BoundaryNorm(bounds, cmap.N)\n",
    "\n",
    "    \n",
    "    sc = ax1.scatter(HR_cosmed[np.where(mask)], RR_cosmed[np.where(mask)], s=50, c=absolute_err, alpha=1, cmap='jet', norm=norm)\n",
    "\n",
    "#     title_str = '{}'.format(sig_name)\n",
    "    title_str = names_dict[sig_name]\n",
    "\n",
    "    \n",
    "    if show_label:\n",
    "#         ax1.set_title(title_str, fontsize=fontsize, pad=15)\n",
    "\n",
    "        ax1.set_ylabel(r'$F_{signal}$ (RR, breaths/minute)', fontsize=fontsize)\n",
    "        ax1.set_xlabel(r'$F_{sampling}$ (HR, beats/minute)', fontsize=fontsize)\n",
    "        ax1.legend(frameon=True, loc='upper right', fontsize=fontsize-2)\n",
    "\n",
    "    ax1.set_xlim(HR[0], HR[-1])\n",
    "    ax1.set_ylim(RR[0], RR[-1])\n",
    "    ax1.tick_params(axis = 'both', which = 'major', labelsize = fontsize)\n",
    "\n",
    "    ax1.xaxis.set_major_locator(MultipleLocator(40))\n",
    "                        \n",
    "    divider = make_axes_locatable(ax1)\n",
    "    cax = divider.append_axes(\"right\", size=\"5%\", pad=0.08)\n",
    "\n",
    "    cbar = fig.colorbar(sc, cax=cax, boundaries=bounds, \n",
    "         ticks=[0,2,4,6,8],)  \n",
    "    cbar.ax.tick_params(labelsize=fontsize-2) \n",
    "\n",
    "    fig.tight_layout()\n",
    "\n",
    "\n",
    "    if outputdir is not None:\n",
    "        outputdir = outputdir+'inspect_Nyquist/'\n",
    "        if not os.path.exists(outputdir):\n",
    "            os.makedirs(outputdir)\n",
    "        fig.savefig(outputdir + '{}.png'.format(sig_name), facecolor=fig.get_facecolor())\n",
    "\n",
    "    if show_plot == False:\n",
    "        plt.close(fig)\n",
    "        pyplot.close(fig)\n",
    "        plt.close('all')\n"
   ]
  },
  {
   "cell_type": "code",
   "execution_count": null,
   "metadata": {},
   "outputs": [],
   "source": []
  },
  {
   "cell_type": "code",
   "execution_count": null,
   "metadata": {},
   "outputs": [],
   "source": [
    "for sig_name in names_dict:\n",
    "\n",
    "    RR_label = RR_aggregated_dict[sig_name]['RR_label'].values*60\n",
    "    RR_model = RR_aggregated_dict[sig_name]['RR_model'].values*60\n",
    "    hr =  RR_aggregated_dict[sig_name]['hr'].values\n",
    "\n",
    "    absolute_err = np.abs(RR_model-RR_label)\n",
    "    inspect_Nyquist_color(RR_label, hr, absolute_err, sig_name, names_dict, outputdir=outputdir, show_plot=False, show_label=True)\n"
   ]
  },
  {
   "cell_type": "code",
   "execution_count": null,
   "metadata": {},
   "outputs": [],
   "source": []
  },
  {
   "cell_type": "code",
   "execution_count": null,
   "metadata": {},
   "outputs": [],
   "source": []
  },
  {
   "cell_type": "code",
   "execution_count": null,
   "metadata": {},
   "outputs": [],
   "source": [
    "input_names"
   ]
  },
  {
   "cell_type": "code",
   "execution_count": null,
   "metadata": {},
   "outputs": [],
   "source": []
  },
  {
   "cell_type": "code",
   "execution_count": null,
   "metadata": {},
   "outputs": [],
   "source": []
  },
  {
   "cell_type": "code",
   "execution_count": null,
   "metadata": {},
   "outputs": [],
   "source": []
  },
  {
   "cell_type": "code",
   "execution_count": null,
   "metadata": {},
   "outputs": [],
   "source": []
  },
  {
   "cell_type": "markdown",
   "metadata": {},
   "source": [
    "# get temporal results from stage 2"
   ]
  },
  {
   "cell_type": "code",
   "execution_count": null,
   "metadata": {},
   "outputs": [],
   "source": [
    "df_temporal_performance = pd.read_csv('../../../covid/results/stage2/temporal_performance.csv')\n",
    "df_temporal_performance['MAE_coarse (bpm)']\n",
    "df_temporal_performance"
   ]
  },
  {
   "cell_type": "code",
   "execution_count": null,
   "metadata": {},
   "outputs": [],
   "source": []
  },
  {
   "cell_type": "code",
   "execution_count": null,
   "metadata": {},
   "outputs": [],
   "source": [
    "df_join_methods = pd.DataFrame()\n",
    "\n",
    "\n",
    "for input_name in names_dict.keys():\n",
    "    df = df_aggregated[df_aggregated['sig_name']==input_name]\n",
    "    \n",
    "\n",
    "    \n",
    "    \n",
    "    \n",
    "    one_dict = {\n",
    "        'MAE_mean': df['MAE_mean_model_val'].values[0],\n",
    "        'MAE_std': df['MAE_std_model_val'].values[0],\n",
    "        'method': 'ST+U-Net',\n",
    "        'input_name': input_name,\n",
    "    }\n",
    "\n",
    "    df_join_methods = df_join_methods.append(one_dict, ignore_index=True)\n",
    " \n",
    "    one_dict = {\n",
    "        'MAE_mean': df['MAE_mean_input_val'].values[0],\n",
    "        'MAE_std': df['MAE_std_input_val'].values[0],\n",
    "        'method': 'ST',\n",
    "        'input_name': input_name,\n",
    "    }\n",
    "\n",
    "    df_join_methods = df_join_methods.append(one_dict, ignore_index=True)\n",
    " \n",
    "    df = df_temporal_performance[df_temporal_performance['surrogate_name']==input_name]\n",
    "\n",
    "    one_dict = {\n",
    "        'MAE_mean': float(df['MAE_coarse (bpm)'].values[0].split('±')[0]),\n",
    "        'MAE_std': float(df['MAE_coarse (bpm)'].values[0].split('±')[1]),\n",
    "        'method': 'temporal',\n",
    "        'input_name': input_name,\n",
    "    }\n",
    "\n",
    "    df_join_methods = df_join_methods.append(one_dict, ignore_index=True)\n",
    "\n",
    "# {\n",
    "#     'MAE_mean': ,\n",
    "#     'MAE_std': ,\n",
    "#     'method': ,\n",
    "# }"
   ]
  },
  {
   "cell_type": "code",
   "execution_count": null,
   "metadata": {},
   "outputs": [],
   "source": [
    "input_names"
   ]
  },
  {
   "cell_type": "code",
   "execution_count": null,
   "metadata": {},
   "outputs": [],
   "source": [
    "\n",
    "# 'ECG_AMr+SCG_AMpt'\n",
    "# 'SCG_AMpt', 'ECG_AM', 'ECG_AMr', 'ECG_AMs', 'ECG_AMbi', 'ECG_SR',\n",
    "#        'ECG_AMpt', \n",
    "\n",
    "# df_join_methods['input_name'].unique()"
   ]
  },
  {
   "cell_type": "code",
   "execution_count": null,
   "metadata": {},
   "outputs": [],
   "source": [
    "\n",
    "df_join_methods[df_join_methods['method']=='temporal']\n",
    "df_join_methods[df_join_methods['method']=='ST']\n",
    "df_join_methods[df_join_methods['method']=='ST+U-Net']"
   ]
  },
  {
   "cell_type": "code",
   "execution_count": null,
   "metadata": {},
   "outputs": [],
   "source": [
    "df_join_methods['method'].unique()"
   ]
  },
  {
   "cell_type": "code",
   "execution_count": null,
   "metadata": {},
   "outputs": [],
   "source": [
    "method_color_dict = {\n",
    "    'temporal': '#2471A3',\n",
    "    'ST': '#45B39D',\n",
    "    'ST+U-Net':'#F4D03F' ,\n",
    "}"
   ]
  },
  {
   "cell_type": "code",
   "execution_count": null,
   "metadata": {},
   "outputs": [],
   "source": [
    "\n",
    "def get_perc_improve(new, initial):\n",
    "    return (new-initial)/initial\n"
   ]
  },
  {
   "cell_type": "code",
   "execution_count": null,
   "metadata": {},
   "outputs": [],
   "source": [
    "print('input name\\t\\t\\tST v. temp\\tST+U-Net v. temp\\tST+U-Net v. ST')\n",
    "for input_name in df_join_methods['input_name'].unique():\n",
    "    df = df_join_methods[df_join_methods['input_name']==input_name]\n",
    "\n",
    "    \n",
    "    ST_improve = get_perc_improve(df[df['method']=='ST']['MAE_mean'].values[0], df[df['method']=='temporal']['MAE_mean'].values[0])\n",
    "    U_improve = get_perc_improve(df[df['method']=='ST+U-Net']['MAE_mean'].values[0], df[df['method']=='temporal']['MAE_mean'].values[0])\n",
    "    UST_improve = get_perc_improve(df[df['method']=='ST+U-Net']['MAE_mean'].values[0], df[df['method']=='ST']['MAE_mean'].values[0])\n",
    "\n",
    "    print('{:20}\\t\\t{:.2f}%\\t\\t{:.2f}%\\t\\t\\t{:.2f}%'.format(input_name, ST_improve*100, U_improve*100, UST_improve*100))"
   ]
  },
  {
   "cell_type": "code",
   "execution_count": null,
   "metadata": {},
   "outputs": [],
   "source": [
    "print('input name\\t\\t\\tST v. temp\\tST+U-Net v. temp\\tST+U-Net v. ST')\n",
    "for input_name in df_join_methods['input_name'].unique():\n",
    "    df = df_join_methods[df_join_methods['input_name']==input_name]\n",
    "\n",
    "    \n",
    "    ST_improve = df[df['method']=='ST']['MAE_mean'].values[0] - df[df['method']=='temporal']['MAE_mean'].values[0]\n",
    "    U_improve = df[df['method']=='ST+U-Net']['MAE_mean'].values[0] - df[df['method']=='temporal']['MAE_mean'].values[0]\n",
    "    UST_improve = df[df['method']=='ST+U-Net']['MAE_mean'].values[0] - df[df['method']=='ST']['MAE_mean'].values[0]\n",
    "\n",
    "    print('{:20}\\t\\t{:.2f}bpm\\t\\t{:.2f}bpm\\t\\t\\t{:.2f}bpm'.format(input_name, ST_improve, U_improve, UST_improve))"
   ]
  },
  {
   "cell_type": "code",
   "execution_count": null,
   "metadata": {},
   "outputs": [],
   "source": [
    "print(input_name)\n",
    "\n",
    "df[df['method']=='ST+U-Net']['MAE_mean'].values[0], df[df['method']=='ST']['MAE_mean'].values[0]\n"
   ]
  },
  {
   "cell_type": "code",
   "execution_count": null,
   "metadata": {},
   "outputs": [],
   "source": []
  },
  {
   "cell_type": "code",
   "execution_count": null,
   "metadata": {},
   "outputs": [],
   "source": [
    "def plot_figure7_ranking_all(df_join_methods, outputdir=None, show_plot=False):\n",
    "\n",
    "    fig = plt.figure(figsize=(16,15),dpi=100)\n",
    "    ax = fig.add_subplot(1, 1, 1)\n",
    "    fontsize = 30\n",
    "\n",
    "    # Width of a bar \n",
    "    width = 0.25\n",
    "    model_shift = 0 + width*1.5\n",
    "\n",
    "    # ind = np.arange(len(df['input_name'].unique()))\n",
    "#     ind = np.asarray([0, 1, 2, 3, 4, 6, 5, 7])\n",
    "    ind = np.arange(len(df_join_methods['input_name'].unique()))\n",
    "\n",
    "    for method in df_join_methods['method'].unique():\n",
    "        df = df_join_methods[df_join_methods['method']==method]\n",
    "        \n",
    "        legend_name = method\n",
    "        if method=='ST+U-Net':\n",
    "            legend_name = 'ST-U-Net'\n",
    "            print(df)\n",
    "                        \n",
    "        ax.barh(ind+model_shift, df['MAE_mean'].values , width, label=legend_name, color=method_color_dict[method], zorder=3, alpha=0.9)\n",
    "    # ax.barh(ind, MAE_input_single,  width, label='Demodulation', color='firebrick', zorder=3, alpha=0.9)\n",
    "\n",
    "        ax.hlines(ind+model_shift, 0, df['MAE_std'].values, color='black')  # Stems\n",
    "        ax.plot(df['MAE_std'].values, ind+model_shift, 'o', color='black')  # Stem ends\n",
    "\n",
    "\n",
    "        model_shift = model_shift - width\n",
    "\n",
    "\n",
    "    ax.set_yticks(ind + (width+0.05) / 2)\n",
    "    ax.set_yticklabels(df['input_name'].unique())\n",
    "\n",
    "\n",
    "    ax.tick_params(axis='both', which='major', labelsize=fontsize)\n",
    "    ax.set_xlabel('MAE (bpm)', fontsize=fontsize+5)\n",
    "\n",
    "    ax.legend(loc='upper right', fontsize=fontsize, frameon=True)\n",
    "    ax.xaxis.grid(True, which='major', color='gray',alpha=0.8)\n",
    "    ax.xaxis.grid(True, which='minor', alpha=0.5)\n",
    "    # plt.majorticks_on() \n",
    "    plt.minorticks_on() \n",
    "\n",
    "    ax.spines['right'].set_visible(False)\n",
    "    ax.spines['top'].set_visible(False)\n",
    "    fig.tight_layout()\n",
    "\n",
    "#     ax.set_xlim(0,4)\n",
    "\n",
    "    if outputdir is not None:\n",
    "        if not os.path.exists(outputdir):\n",
    "            os.makedirs(outputdir)\n",
    "        fig.savefig(outputdir + 'figure8_rank_all.png', facecolor=fig.get_facecolor())\n",
    "    if show_plot == False:\n",
    "        plt.close(fig)\n",
    "        pyplot.close(fig)\n",
    "        plt.close('all')\n",
    "    plt.show()\n",
    "\n",
    "# plot_figure7_ranking_all(df_join_methods, outputdir=outputdir, show_plot=True)\n",
    "plot_figure7_ranking_all(df_join_methods[(df_join_methods['input_name']!='SCG_AMpt') & (df_join_methods['input_name']!='ECG_AMr+SCG_AMpt')], outputdir=outputdir, show_plot=True)\n"
   ]
  },
  {
   "cell_type": "code",
   "execution_count": null,
   "metadata": {},
   "outputs": [],
   "source": []
  },
  {
   "cell_type": "code",
   "execution_count": null,
   "metadata": {},
   "outputs": [],
   "source": [
    "# filedir = 'covid/results/stage4/unet_TEST/win60_overlap95_seq20_ECG_AM_norm_script0/TRAIN-TEST/df_RR_TEST.csv'\n",
    "# 'covid/results/stage4/unet_TEST/win60_overlap95_seq20_ECG_AMr+SCG_AMpt_norm_script13/TRAIN-TEST/df_RR_TEST.csv'\n",
    "\n",
    "filedir = '../../../covid/results/stage4/unet_TEST/win60_overlap95_seq20_ECG_AMr+SCG_AMpt_norm_script13/TRAIN-TEST/df_RR_TEST.csv'\n",
    "\n",
    "df_RR_TEST = pd.read_csv(filedir)  \n"
   ]
  },
  {
   "cell_type": "markdown",
   "metadata": {},
   "source": [
    "(< 8 bpm, 9-16 bpm, 17-25 bpm, 26-38 bpm 38-60 bpm) "
   ]
  },
  {
   "cell_type": "code",
   "execution_count": null,
   "metadata": {},
   "outputs": [],
   "source": [
    "list_ranges = [\n",
    "    [0,8], # include 0 to 8 (excluding 8)\n",
    "    [8,16],\n",
    "    [16,25],\n",
    "    [25,38],\n",
    "#     [38,60],\n",
    "]"
   ]
  },
  {
   "cell_type": "code",
   "execution_count": null,
   "metadata": {},
   "outputs": [],
   "source": [
    "# list_ranges = [\n",
    "#     [0,8],\n",
    "#     [8,16],\n",
    "#     [16,25],\n",
    "#     [25,40],\n",
    "# ]\n",
    "\n",
    "(df_RR_TEST['meta']==15).sum()"
   ]
  },
  {
   "cell_type": "code",
   "execution_count": null,
   "metadata": {},
   "outputs": [],
   "source": [
    "# (AE==0).mean()*100 + (AE==1).mean()*100 +((AE>=2) & (AE<=3)).mean()*100 + ((AE>=4) & (AE<=6)).mean()*100 + ((AE>=7) & (AE<=9)).mean()*100 + ((AE>=10) & (AE<=15)).mean()*100 + (AE>15).mean()*100 "
   ]
  },
  {
   "cell_type": "code",
   "execution_count": null,
   "metadata": {},
   "outputs": [],
   "source": [
    "# AE"
   ]
  },
  {
   "cell_type": "code",
   "execution_count": null,
   "metadata": {},
   "outputs": [],
   "source": [
    "# df_aggregated = pd.DataFrame()\n",
    "for sub_file in os.listdir(inputdir):\n",
    "    if 'script' in sub_file: \n",
    "        \n",
    "        csv_dir = inputdir + sub_file + '/TRAIN-TEST/df_RR_TEST.csv'\n",
    "        \n",
    "        \n",
    "        if sub_file.split('seq20_')[1].split('_norm')[0] not in names_dict.keys():\n",
    "            continue\n",
    "        \n",
    "        print('\\n')\n",
    "        print(csv_dir)\n",
    "\n",
    "        try:\n",
    "#             df = pd.read_csv(csv_dir)\n",
    "            df_RR_TEST = pd.read_csv(csv_dir)\n",
    "\n",
    "            # 1. compute MAE within different ranges\n",
    "            for bpm_range in list_ranges:\n",
    "\n",
    "                df_range = df_RR_TEST[(df_RR_TEST['RR_label']>=bpm_range[0]/60) & (df_RR_TEST['RR_label']<bpm_range[1]/60)]\n",
    "\n",
    "                MAE_range = (np.abs(df_range['RR_model'] - df_range['RR_label'])).mean()*60\n",
    "                print(bpm_range, MAE_range)\n",
    "\n",
    "            # 2. compute % of segments of each bpm\n",
    "            AE = np.abs(df_RR_TEST['RR_label']-df_RR_TEST['RR_model']).values*60\n",
    "            AE = np.round(AE)\n",
    "            print('0bpm\\t1bpm\\t2-3bpm\\t4-6bpm\\t7-9bpm\\t10-15bpm\\t>15bpm\\t')\n",
    "            print('{:.2f}\\n{:.2f}\\n{:.2f}\\n{:.2f}\\n{:.2f}\\n{:.2f}\\n{:.2f}'.format((AE==0).mean()*100, (AE==1).mean()*100, ((AE>=2) & (AE<=3)).mean()*100, \n",
    "                                                          ((AE>=4) & (AE<=6)).mean()*100, ((AE>=7) & (AE<=9)).mean()*100, \n",
    "                                                          ((AE>=10) & (AE<=15)).mean()*100, (AE>15).mean()*100 ))\n",
    "#                                                           ((AE>2) & (AE<=6)).mean()*100))\n",
    "\n",
    "        except EnvironmentError: # parent of IOError, OSError *and* WindowsError where available\n",
    "            print ('error when reading', sub_file)"
   ]
  },
  {
   "cell_type": "code",
   "execution_count": null,
   "metadata": {},
   "outputs": [],
   "source": [
    "\n"
   ]
  },
  {
   "cell_type": "code",
   "execution_count": null,
   "metadata": {},
   "outputs": [],
   "source": []
  },
  {
   "cell_type": "code",
   "execution_count": null,
   "metadata": {},
   "outputs": [],
   "source": []
  },
  {
   "cell_type": "code",
   "execution_count": null,
   "metadata": {},
   "outputs": [],
   "source": []
  },
  {
   "cell_type": "code",
   "execution_count": null,
   "metadata": {},
   "outputs": [],
   "source": []
  },
  {
   "cell_type": "code",
   "execution_count": null,
   "metadata": {},
   "outputs": [],
   "source": [
    "input_names = df_aggregated['sig_name'].values\n",
    "input_names"
   ]
  },
  {
   "cell_type": "code",
   "execution_count": null,
   "metadata": {},
   "outputs": [],
   "source": [
    "MAE_coarse, MAE_std_coarse"
   ]
  },
  {
   "cell_type": "code",
   "execution_count": null,
   "metadata": {},
   "outputs": [],
   "source": [
    "MAE_model.shape, MAE_std_model.shape"
   ]
  },
  {
   "cell_type": "code",
   "execution_count": null,
   "metadata": {},
   "outputs": [],
   "source": []
  },
  {
   "cell_type": "code",
   "execution_count": null,
   "metadata": {},
   "outputs": [],
   "source": []
  },
  {
   "cell_type": "code",
   "execution_count": null,
   "metadata": {},
   "outputs": [],
   "source": []
  },
  {
   "cell_type": "code",
   "execution_count": null,
   "metadata": {},
   "outputs": [],
   "source": [
    "def plot_figure7_ranking(sig_names, MAE, bar_name, names_dict, color='firebrick', outputdir=None, show_plot=False):\n",
    "    sig_single = []\n",
    "    i_single = []\n",
    "\n",
    "    for i, sig_name in enumerate(sig_names):\n",
    "        if sig_name not in list(names_dict.keys()):\n",
    "            continue\n",
    "#         if '+' in sig_name:\n",
    "#             continue\n",
    "#             sig_single.append(sig_name)\n",
    "        sig_single.append(names_dict[sig_name])\n",
    "\n",
    "        i_single.append(i)\n",
    "\n",
    "    sig_names_single = np.asarray(sig_single)\n",
    "    MAE_single = np.asarray(MAE[i_single])\n",
    "\n",
    "\n",
    "    fig = plt.figure(figsize=(12,10),dpi=100)\n",
    "#     ax = fig.add_axes([0,0,1,1])\n",
    "    ax = fig.add_subplot(1, 1, 1)\n",
    "\n",
    "    fontsize = 25\n",
    "\n",
    "\n",
    "    # Position of bars on x-axis\n",
    "    ind = np.arange(sig_names_single.shape[0])\n",
    "\n",
    "    # Width of a bar \n",
    "    width = 0.7   \n",
    "\n",
    "    ax.barh(ind, MAE_single , width, label=bar_name, color=color)\n",
    "\n",
    "#     ax.axvline(x=6.5, color='gray', ls='--')\n",
    "\n",
    "    \n",
    "    ax.set_yticks(ind )\n",
    "    ax.set_yticklabels(sig_names_single)\n",
    "\n",
    "\n",
    "    ax.tick_params(axis='both', which='major', labelsize=fontsize)\n",
    "    ax.set_xlabel('MAE (bpm)', fontsize=fontsize)\n",
    "\n",
    "    ax.legend(loc='best', fontsize=fontsize, frameon=True)\n",
    "\n",
    "    ax.xaxis.grid(True, which='major')\n",
    "\n",
    "    fig.tight_layout()\n",
    "\n",
    "    if outputdir is not None:\n",
    "        if not os.path.exists(outputdir):\n",
    "            os.makedirs(outputdir)\n",
    "        fig.savefig(outputdir + 'figure7_rank_sig_{}.png'.format(bar_name), facecolor=fig.get_facecolor())\n",
    "    if show_plot == False:\n",
    "        plt.close(fig)\n",
    "        pyplot.close(fig)\n",
    "        plt.close('all')\n",
    "    plt.show()"
   ]
  },
  {
   "cell_type": "code",
   "execution_count": null,
   "metadata": {},
   "outputs": [],
   "source": [
    "df_aggregated = df_aggregated.sort_values(by=['MAE_mean_input_val'], inplace=False, ascending=False)\n",
    "# df_aggregated[['MAE_mean_model_val', 'sig_name']]\n",
    "\n",
    "input_names = df_aggregated['sig_name'].values\n",
    "MAE_model = df_aggregated['MAE_mean_model_val'].values\n",
    "MAE_input = df_aggregated['MAE_mean_input_val'].values\n",
    "\n",
    "MAE = MAE_input\n",
    "bar_name = 'DSP'\n",
    "color='firebrick'\n",
    "plot_figure7_ranking(input_names, MAE, bar_name, names_dict, color=color, outputdir=outputdir, show_plot=True)\n"
   ]
  },
  {
   "cell_type": "code",
   "execution_count": null,
   "metadata": {},
   "outputs": [],
   "source": [
    "df_aggregated = df_aggregated.sort_values(by=['MAE_mean_model_val'], inplace=False, ascending=False)\n",
    "\n",
    "input_names = df_aggregated['sig_name'].values\n",
    "MAE_model = df_aggregated['MAE_mean_model_val'].values\n",
    "MAE_input = df_aggregated['MAE_mean_input_val'].values\n",
    "\n",
    "MAE = MAE_model\n",
    "bar_name = 'DSP + DL'\n",
    "color='steelblue'\n",
    "plot_figure7_ranking(input_names, MAE, bar_name, names_dict, color=color, outputdir=outputdir, show_plot=True)\n"
   ]
  },
  {
   "cell_type": "code",
   "execution_count": null,
   "metadata": {},
   "outputs": [],
   "source": []
  },
  {
   "cell_type": "code",
   "execution_count": null,
   "metadata": {},
   "outputs": [],
   "source": []
  },
  {
   "cell_type": "code",
   "execution_count": null,
   "metadata": {},
   "outputs": [],
   "source": []
  },
  {
   "cell_type": "code",
   "execution_count": null,
   "metadata": {},
   "outputs": [],
   "source": []
  }
 ],
 "metadata": {
  "kernelspec": {
   "display_name": "mienv",
   "language": "python",
   "name": "mienv"
  },
  "language_info": {
   "codemirror_mode": {
    "name": "ipython",
    "version": 3
   },
   "file_extension": ".py",
   "mimetype": "text/x-python",
   "name": "python",
   "nbconvert_exporter": "python",
   "pygments_lexer": "ipython3",
   "version": "3.7.16"
  }
 },
 "nbformat": 4,
 "nbformat_minor": 4
}
