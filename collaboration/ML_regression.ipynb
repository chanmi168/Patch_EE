{
 "cells": [
  {
   "cell_type": "markdown",
   "metadata": {},
   "source": [
    "# regression ultimate code"
   ]
  },
  {
   "cell_type": "code",
   "execution_count": 1,
   "metadata": {},
   "outputs": [],
   "source": [
    "import numpy as np\n",
    "import argparse\n",
    "\n",
    "import os\n",
    "import math\n",
    "from math import sin\n",
    "\n",
    "import json\n",
    "\n",
    "import pandas as pd\n",
    "\n",
    "import matplotlib\n",
    "import matplotlib.pyplot as plt\n",
    "plt.style.use('seaborn-white')\n",
    "matplotlib.rc( 'savefig', facecolor = 'white' )\n",
    "from matplotlib import pyplot\n",
    "# %matplotlib inline\n",
    "\n",
    "import sys\n",
    "sys.path.append('../') # add this line so Data and data are visible in this file\n",
    "sys.path.append('../../') # add this line so Data and data are visible in this file"
   ]
  },
  {
   "cell_type": "code",
   "execution_count": null,
   "metadata": {},
   "outputs": [],
   "source": []
  },
  {
   "cell_type": "code",
   "execution_count": null,
   "metadata": {},
   "outputs": [],
   "source": []
  },
  {
   "cell_type": "code",
   "execution_count": 2,
   "metadata": {},
   "outputs": [
    {
     "name": "stdout",
     "output_type": "stream",
     "text": [
      "Namespace(input_folder='../../data/stage3/win60_overlap90/', output_folder='../../data/collaboration/ML_regression/')\n"
     ]
    }
   ],
   "source": [
    "parser = argparse.ArgumentParser(description='EE_estimate')\n",
    "parser.add_argument('--input_folder', metavar='input_folder', help='input_folder',\n",
    "                    default='../')\n",
    "parser.add_argument('--output_folder', metavar='output_folder', help='output_folder',\n",
    "                    default='../')\n",
    "\n",
    "\n",
    "args = parser.parse_args(['--input_folder', '../../data/stage3/win60_overlap90/', \n",
    "                          '--output_folder', '../../data/collaboration/ML_regression/',\n",
    "                         ])\n",
    "# args = parser.parse_args()\n",
    "print(args)"
   ]
  },
  {
   "cell_type": "code",
   "execution_count": null,
   "metadata": {},
   "outputs": [],
   "source": []
  },
  {
   "cell_type": "code",
   "execution_count": 3,
   "metadata": {},
   "outputs": [],
   "source": [
    "inputdir = args.input_folder\n",
    "outputdir = args.output_folder\n",
    "\n",
    "if not os.path.exists(outputdir):\n",
    "    os.makedirs(outputdir)"
   ]
  },
  {
   "cell_type": "code",
   "execution_count": null,
   "metadata": {},
   "outputs": [],
   "source": []
  },
  {
   "cell_type": "markdown",
   "metadata": {},
   "source": [
    "# load stage3_dict, which is a disctionary that stores key information about the dataset"
   ]
  },
  {
   "cell_type": "code",
   "execution_count": 4,
   "metadata": {},
   "outputs": [],
   "source": [
    "def data_loader(name, inputdir):\n",
    "    \"\"\" usage: data = data_loader('data', outputdir)\"\"\"\n",
    "    inputdir_data = os.path.join(inputdir, name+'.npz')\n",
    "    data = np.load(inputdir_data, allow_pickle=True)['data']\n",
    "    return data"
   ]
  },
  {
   "cell_type": "code",
   "execution_count": 5,
   "metadata": {},
   "outputs": [],
   "source": [
    "stage3_dict = data_loader('stage3_dict', inputdir).item()\n",
    "\n",
    "list_feature = stage3_dict['list_feature']\n",
    "list_meta = stage3_dict['list_meta']\n",
    "list_output = stage3_dict['list_output']\n",
    "unit_dict = stage3_dict['unit_dict']\n",
    "tasks_dict = stage3_dict['tasks_dict']\n",
    "tasks_dict_reversed = stage3_dict['tasks_dict_reversed']"
   ]
  },
  {
   "cell_type": "code",
   "execution_count": null,
   "metadata": {},
   "outputs": [],
   "source": []
  },
  {
   "cell_type": "markdown",
   "metadata": {},
   "source": [
    "# load the extracted features, label, and meta data (they should have the same number of rows)"
   ]
  },
  {
   "cell_type": "code",
   "execution_count": 7,
   "metadata": {},
   "outputs": [],
   "source": [
    "feature_all = data_loader('feature', inputdir)\n",
    "label_all = data_loader('label', inputdir)\n",
    "meta_all = data_loader('meta', inputdir)"
   ]
  },
  {
   "cell_type": "code",
   "execution_count": 8,
   "metadata": {},
   "outputs": [
    {
     "name": "stdout",
     "output_type": "stream",
     "text": [
      "(2524, 21) 21\n",
      "(2524, 5) 5\n",
      "(2524, 14) 14\n"
     ]
    }
   ],
   "source": [
    "print(feature_all.shape, len(list_feature))\n",
    "print(meta_all.shape,  len(list_meta))\n",
    "print(label_all.shape, len(list_output))"
   ]
  },
  {
   "cell_type": "markdown",
   "metadata": {},
   "source": [
    "# use only a subset of the subjects and tasks"
   ]
  },
  {
   "cell_type": "code",
   "execution_count": 9,
   "metadata": {},
   "outputs": [
    {
     "name": "stdout",
     "output_type": "stream",
     "text": [
      "(2042, 21) 21\n",
      "(2042, 5) 5\n",
      "(2042, 14) 14\n"
     ]
    }
   ],
   "source": [
    "np.unique(meta_all[:,0])\n",
    "\n",
    "KEEP_subject_ids = np.asarray([104, 105, 106, 107, 108, 110, 111, 113, 114, 115, 116, 117, 118, 119, 120, 121, 212])\n",
    "mask_subjects = np.in1d(meta_all[:,0], KEEP_subject_ids)\n",
    "\n",
    "KEEP_task_ids = np.asarray([0, 1, 2, 3, 4, 5]) # all recovery tasks. Reference: `tasks_dict` \n",
    "mask_tasks = np.in1d(meta_all[:,1], KEEP_task_ids)\n",
    "\n",
    "\n",
    "feature_all = feature_all[mask_subjects & mask_tasks, :]\n",
    "label_all = label_all[mask_subjects & mask_tasks, :]\n",
    "meta_all = meta_all[mask_subjects & mask_tasks, :]\n",
    "\n",
    "print(feature_all.shape, len(list_feature))\n",
    "print(meta_all.shape,  len(list_meta))\n",
    "print(label_all.shape, len(list_output))"
   ]
  },
  {
   "cell_type": "code",
   "execution_count": null,
   "metadata": {},
   "outputs": [],
   "source": []
  },
  {
   "cell_type": "markdown",
   "metadata": {},
   "source": [
    "# please start with a subset of the features you are familiar with below\n",
    "## do not hesistate to reach out to me if you have any questions!"
   ]
  },
  {
   "cell_type": "code",
   "execution_count": null,
   "metadata": {},
   "outputs": [],
   "source": []
  }
 ],
 "metadata": {
  "kernelspec": {
   "display_name": "mienv",
   "language": "python",
   "name": "mienv"
  },
  "language_info": {
   "codemirror_mode": {
    "name": "ipython",
    "version": 3
   },
   "file_extension": ".py",
   "mimetype": "text/x-python",
   "name": "python",
   "nbconvert_exporter": "python",
   "pygments_lexer": "ipython3",
   "version": "3.7.9"
  }
 },
 "nbformat": 4,
 "nbformat_minor": 4
}
