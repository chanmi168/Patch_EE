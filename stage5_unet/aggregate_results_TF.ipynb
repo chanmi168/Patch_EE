{
 "cells": [
  {
   "cell_type": "code",
   "execution_count": 1,
   "metadata": {},
   "outputs": [
    {
     "name": "stderr",
     "output_type": "stream",
     "text": [
      "/home/mchan/miniconda3/envs/mienv/lib/python3.7/site-packages/requests/__init__.py:91: RequestsDependencyWarning: urllib3 (1.25.11) or chardet (2.1.1) doesn't match a supported version!\n",
      "  RequestsDependencyWarning)\n"
     ]
    }
   ],
   "source": [
    "import numpy as np\n",
    "import random\n",
    "\n",
    "from sklearn.datasets import fetch_openml\n",
    "from sklearn.utils import shuffle\n",
    "from sklearn.preprocessing import StandardScaler\n",
    "from sklearn.decomposition import PCA\n",
    "from sklearn.metrics import r2_score\n",
    "\n",
    "from tqdm import tqdm\n",
    "from tqdm import trange\n",
    "import time\n",
    "\n",
    "import os\n",
    "import math\n",
    "from math import sin\n",
    "from icecream import ic\n",
    "import json\n",
    "import argparse\n",
    "\n",
    "# checklist 1: uncomment matplotlib.use('Agg')\n",
    "import matplotlib\n",
    "# matplotlib.use('Agg')\n",
    "import matplotlib.pyplot as plt\n",
    "plt.style.use('seaborn-white')\n",
    "matplotlib.rc( 'savefig', facecolor = 'white' )\n",
    "from matplotlib import pyplot\n",
    "from matplotlib.colors import LinearSegmentedColormap\n",
    "from mpl_toolkits.axes_grid1.axes_divider import make_axes_locatable\n",
    "from matplotlib.ticker import (MultipleLocator, AutoMinorLocator)\n",
    "import matplotlib.gridspec as gridspec\n",
    "# plt.rcParams[\"font.family\"] = \"Times New Roman\"\n",
    "%matplotlib inline  \n",
    "\n",
    "# plt.style.use('dark_background')\n",
    "\n",
    "from scipy.io import loadmat\n",
    "import scipy\n",
    "from scipy import signal\n",
    "from scipy.fftpack import fft, ifft\n",
    "from scipy.signal import hilbert, chirp\n",
    "from scipy.signal import find_peaks\n",
    "from scipy.interpolate import interp1d\n",
    "\n",
    "i_seed = 0\n",
    "\n",
    "import torch\n",
    "from torch.utils.data import Dataset, DataLoader\n",
    "import torch.nn as nn\n",
    "import torch.nn.functional as F\n",
    "import torchvision\n",
    "from torchvision import transforms, datasets, models\n",
    "from torchsummary import summary\n",
    "\n",
    "import PIL\n",
    "\n",
    "import sys\n",
    "\n",
    "sys.path.append('../') # add this line so Data and data are visible in this file\n",
    "sys.path.append('../../') # add this line so Data and data are visible in this file\n",
    "sys.path.append('../PatchWand/') # add this line so Data and data are visible in this file\n",
    "\n",
    "# from plotting_tools import *\n",
    "# from preprocessing import *\n",
    "# from feature_extraction import *\n",
    "# from data_pulling import *\n",
    "# from setting import *\n",
    "# from surrogate_extraction import *\n",
    "# from evaluate import *\n",
    "# from training_util import *\n",
    "# from dataset_util import *\n",
    "# from evaluation_util import *\n",
    "\n",
    "from plotting_tools import *\n",
    "from preprocessing import *\n",
    "from setting import *\n",
    "from surrogate_extraction import *\n",
    "from dataIO import *\n",
    "from filters import *\n",
    "from spectral_module import *\n",
    "from stage4_regression import *\n",
    "# from unet_extension.dataset_util import *\n",
    "# from unet_extension.evaluation_util import *\n",
    "# from unet_extension.models import *\n",
    "# from unet_extension.training_util import *\n",
    "\n",
    "\n",
    "import datetime\n",
    "import time\n",
    "\n",
    "# checklist 2: comment out all magic command\n",
    "from importlib import reload\n",
    "%load_ext autoreload\n",
    "%autoreload 2\n"
   ]
  },
  {
   "cell_type": "code",
   "execution_count": null,
   "metadata": {},
   "outputs": [],
   "source": []
  },
  {
   "cell_type": "code",
   "execution_count": null,
   "metadata": {},
   "outputs": [],
   "source": []
  },
  {
   "cell_type": "code",
   "execution_count": null,
   "metadata": {},
   "outputs": [],
   "source": []
  },
  {
   "cell_type": "code",
   "execution_count": null,
   "metadata": {},
   "outputs": [],
   "source": []
  },
  {
   "cell_type": "code",
   "execution_count": 2,
   "metadata": {},
   "outputs": [],
   "source": [
    "# Fs = FS_RESAMPLE\n",
    "\n",
    "# label_names = ['br', 'heart_rate_cosmed', 'rer', 'vco2_ml_min', 've', 'vo2_ml_min', 'vt']\n",
    "# sig_names = ['ECG', 'accelX', 'accelY', 'accelZ']"
   ]
  },
  {
   "cell_type": "code",
   "execution_count": 3,
   "metadata": {},
   "outputs": [
    {
     "name": "stdout",
     "output_type": "stream",
     "text": [
      "Namespace(input_folder='../../data/stage4_UNet/', output_folder='../../data/stage5_UNet/', training_params_file='training_params_list.json')\n"
     ]
    }
   ],
   "source": [
    "parser = argparse.ArgumentParser(description='RR_estimate')\n",
    "parser.add_argument('--input_folder', metavar='input_folder', help='input_folder',\n",
    "                    default='../')\n",
    "parser.add_argument('--output_folder', metavar='output_folder', help='output_folder',\n",
    "                    default='../')\n",
    "parser.add_argument('--training_params_file', metavar='training_params_file', help='training_params_file',\n",
    "                    default='training_params_list.json')\n",
    "\n",
    "\n",
    "# checklist 3: comment first line, uncomment second line\n",
    "# args = parser.parse_args(['--input_folder', '../../../covid/results/stage3/win60_overlap95_seq20_ECG_AMpt_norm_script1/', \n",
    "args = parser.parse_args(['--input_folder', '../../data/stage4_UNet/', \n",
    "# args = parser.parse_args(['--input_folder', '../../data/stage4_UNet_backup/', \n",
    "                          '--output_folder', '../../data/stage5_UNet/'])\n",
    "                          \n",
    "# args = parser.parse_args()\n",
    "print(args)"
   ]
  },
  {
   "cell_type": "code",
   "execution_count": 4,
   "metadata": {},
   "outputs": [],
   "source": [
    "inputdir = args.input_folder\n",
    "outputdir = args.output_folder\n",
    "# outputdir = outputdir+inputdir.split('/')[-2]+'/'\n",
    "\n",
    "# training_params_file = args.training_params_file"
   ]
  },
  {
   "cell_type": "code",
   "execution_count": 5,
   "metadata": {},
   "outputs": [],
   "source": [
    "steps_thre = 50\n",
    "# list_modalitites = ['SCG', 'PPG', 'ECG', 'SCGPPG', 'ECGSCG', 'ECGPPG', 'All']\n",
    "\n",
    "# list_modalitites = ['SCG-select',\n",
    "#                     'ECG-SR+SCG-select',\n",
    "#                     'ECG-SR',\n",
    "#                     'PPG-select',\n",
    "#                     'SCG-select+PPG-select',\n",
    "#                     'ECG-SR+PPG-select',\n",
    "#                     'ECG-SR+SCG-select+PPG-select',\n",
    "#                     'ECG-SR+PPG']\n",
    "list_modalitites = ['ECG-SR+PPG-select']\n",
    "\n",
    "\n",
    "# list_TF_types = ['source', 'FT_top', 'FT_top2', 'FT_all', 'target']\n",
    "\n",
    "\n",
    "# list_modalitites = ['PPG', 'ECG', 'SCG']\n",
    "\n",
    "# list_method = ['ST', 'U-Net']\n",
    "# list_method = ['ST', 'U-Net', 'U-Net RQI_fft', 'U-Net RQI_kurtosis']\n",
    "# list_method = ['ST', 'U-Net', 'U-Net-SE_block', 'ST RQI_kurtosis', 'U-Net RQI_kurtosis', 'U-Net-SE_block RQI_kurtosis', 'U-Net-SE_block RQI_fft']\n",
    "# list_method = ['ST', 'U-Net', 'U-Net-SE_block', 'ST RQI_kurtosis', 'U-Net RQI_kurtosis', 'U-Net RQI_fft']\n",
    "# list_method = ['ST', 'U-Net', 'ST RQI_fft', 'U-Net RQI_fft']\n",
    "# list_method = ['ST', 'ST RQI_fft','U-Net-AT_block', 'U-Net-AT_block RQI_fft']\n",
    "list_method = ['ST', 'ST RQI_fft', 'U-Net', 'U-Net RQI_fft', 'U-Net-AT_block', 'U-Net-AT_block RQI_fft']\n",
    "\n",
    "list_TF_types = ['source', 'target']\n",
    "# list_TF_types = ['pretrain', 'source', 'target']\n",
    "domain_name = 'CDC_dataset'\n",
    "# domain_name = 'GT_dataset'\n",
    "act_type = 'walk'\n",
    "\n",
    "# all act\n",
    "# array([ 0.,  2.,  1.,  3.,  4.,  5.,  6., 10.])\n",
    "\n",
    "if act_type=='rest':\n",
    "#     reject_act = [1, 2, 3, 4, 5, 6, 10] # keep 0\n",
    "    task_ids = [0]\n",
    "\n",
    "elif act_type=='6MWT':\n",
    "#     reject_act = [0 ,1, 2, 3, 4, 5, 10] # keep 6\n",
    "    task_ids = [6]\n",
    "\n",
    "elif act_type=='Run':\n",
    "#     reject_act = [0 ,1, 2, 3, 4, 5, 6] # keep 10\n",
    "    task_ids = [10]\n",
    "\n",
    "elif act_type=='ER':\n",
    "#     reject_act = [0, 6, 10] # keep 1, 2, 3, 4\n",
    "    task_ids = [1,2,3,4,5]\n",
    "\n",
    "elif act_type=='stationary':\n",
    "#     reject_act = [6, 10] # keep 1, 2, 3, 4\n",
    "    task_ids = [0,1,2,3,4,5]\n",
    "    \n",
    "elif act_type=='walk':\n",
    "    task_ids = [6,7,9]\n",
    "# act_type = 'ER'\n",
    "# # act_type = 'rest'\n",
    "# act_type = '6MWT'\n",
    "\n",
    "# if act_type=='rest':\n",
    "#     reject_act = [1, 2, 3, 4, 5, 6, 10] # keep 0\n",
    "# elif act_type=='6MWT':\n",
    "#     reject_act = [0 ,1, 2, 3, 4, 5, 10] # keep 6\n",
    "# elif act_type=='Run':\n",
    "#     reject_act = [0 ,1, 2, 3, 4, 5, 6] # keep 6\n",
    "# elif act_type=='ER':\n",
    "#     reject_act = [0, 6, 10] # keep 1, 2, 3, 4\n",
    "# # reject_act = [0, 1, 2, 3, 4, 5]\n",
    "# # reject_act = [1, 2, 3, 4, 5, 6]\n",
    "# # reject_act = [1]"
   ]
  },
  {
   "cell_type": "code",
   "execution_count": 6,
   "metadata": {},
   "outputs": [
    {
     "data": {
      "text/plain": [
       "'walk'"
      ]
     },
     "execution_count": 6,
     "metadata": {},
     "output_type": "execute_result"
    }
   ],
   "source": [
    "act_type"
   ]
  },
  {
   "cell_type": "code",
   "execution_count": 7,
   "metadata": {},
   "outputs": [],
   "source": [
    "variant = 'baseline'\n",
    "# list_variants = ['baseline', 'SE_block']\n",
    "# list_variants = ['baseline']\n",
    "# list_variants = ['baseline', 'AT_block']\n",
    "list_variants = ['AT_block']\n",
    "\n",
    "# variant = 'SE_block'"
   ]
  },
  {
   "cell_type": "code",
   "execution_count": 8,
   "metadata": {},
   "outputs": [],
   "source": [
    "# inputdir"
   ]
  },
  {
   "cell_type": "code",
   "execution_count": null,
   "metadata": {},
   "outputs": [],
   "source": []
  },
  {
   "cell_type": "code",
   "execution_count": 9,
   "metadata": {},
   "outputs": [],
   "source": [
    "if domain_name=='GT_dataset':\n",
    "\n",
    "    home = expanduser(\"~\")\n",
    "\n",
    "    filename_subinfo = home+'/'+ 'Estimation_RR/covid/Mobashir_CosmedWearable/Cosmed Wearable Subject Information.xlsx'\n",
    "    df_subinfo = pd.read_excel(filename_subinfo) \n",
    "    df_subinfo\n",
    "\n",
    "    df_subinfo = df_subinfo.rename(columns={'Height in cm': 'Height', 'Weight in Kg': 'Weight', 'Subject ID':'Subject_ID'})\n",
    "\n",
    "    df_subinfo['Subject_ID'] = df_subinfo['Subject_ID'].apply(lambda x: int(x.split('M')[0].split('F')[0].split('CW')[1]))\n",
    "    df_subinfo = df_subinfo[['Subject_ID', 'Age', 'Height', 'Weight', 'Gender']].drop_duplicates().reset_index(drop=True)\n",
    "    df_subinfo['BMI'] = df_subinfo['Weight'].values / (df_subinfo['Height'].values/100)**2\n",
    "    df_subinfo['Fitzpatrick'] = -1\n",
    "    \n",
    "elif domain_name=='CDC_dataset':\n",
    "\n",
    "    filename_subinfo = '../../data/raw/FS Subject Information.xlsx'\n",
    "    df_subinfo = pd.read_excel(filename_subinfo, sheet_name='Subject info') \n",
    "\n",
    "    i_sub_last = np.where(df_subinfo['Subject_ID'].isnull()==True)[0][0]\n",
    "    df_subinfo = df_subinfo[:i_sub_last]\n",
    "\n",
    "    df_subinfo = df_subinfo[['Subject_ID', 'Age', 'Height(cm)', 'Weight(Kg)', 'Gender(0=Male,1=Female)', 'Fitzpatrick', '6MWT distance (m)', '6MWT-R distance (m)', 'Fitzpatrick']]\n",
    "    df_subinfo = df_subinfo.rename(columns={'Height(cm)': 'Height', 'Weight(Kg)': 'Weight', 'Gender(0=Male,1=Female)': 'Gender'})\n",
    "    df_subinfo['BMI'] = df_subinfo['Weight'].values / (df_subinfo['Height'].values/100)**2\n",
    "    df_subinfo['Subject_ID'] = df_subinfo['Subject_ID'].astype(int)\n",
    "    "
   ]
  },
  {
   "cell_type": "code",
   "execution_count": 10,
   "metadata": {},
   "outputs": [
    {
     "data": {
      "text/html": [
       "<div>\n",
       "<style scoped>\n",
       "    .dataframe tbody tr th:only-of-type {\n",
       "        vertical-align: middle;\n",
       "    }\n",
       "\n",
       "    .dataframe tbody tr th {\n",
       "        vertical-align: top;\n",
       "    }\n",
       "\n",
       "    .dataframe thead th {\n",
       "        text-align: right;\n",
       "    }\n",
       "</style>\n",
       "<table border=\"1\" class=\"dataframe\">\n",
       "  <thead>\n",
       "    <tr style=\"text-align: right;\">\n",
       "      <th></th>\n",
       "      <th>Subject_ID</th>\n",
       "      <th>Age</th>\n",
       "      <th>Height</th>\n",
       "      <th>Weight</th>\n",
       "      <th>Gender</th>\n",
       "      <th>Fitzpatrick</th>\n",
       "      <th>6MWT distance (m)</th>\n",
       "      <th>6MWT-R distance (m)</th>\n",
       "      <th>Fitzpatrick</th>\n",
       "      <th>BMI</th>\n",
       "    </tr>\n",
       "  </thead>\n",
       "  <tbody>\n",
       "    <tr>\n",
       "      <th>0</th>\n",
       "      <td>101</td>\n",
       "      <td>26.0</td>\n",
       "      <td>172.00</td>\n",
       "      <td>90.00</td>\n",
       "      <td>1</td>\n",
       "      <td>2.0</td>\n",
       "      <td>286.500</td>\n",
       "      <td>264.550</td>\n",
       "      <td>2.0</td>\n",
       "      <td>30.421850</td>\n",
       "    </tr>\n",
       "    <tr>\n",
       "      <th>1</th>\n",
       "      <td>102</td>\n",
       "      <td>30.0</td>\n",
       "      <td>177.80</td>\n",
       "      <td>75.00</td>\n",
       "      <td>1</td>\n",
       "      <td>2.0</td>\n",
       "      <td>280.720</td>\n",
       "      <td>272.090</td>\n",
       "      <td>2.0</td>\n",
       "      <td>23.724537</td>\n",
       "    </tr>\n",
       "    <tr>\n",
       "      <th>2</th>\n",
       "      <td>103</td>\n",
       "      <td>29.0</td>\n",
       "      <td>174.00</td>\n",
       "      <td>70.00</td>\n",
       "      <td>1</td>\n",
       "      <td>2.0</td>\n",
       "      <td>302.100</td>\n",
       "      <td>289.380</td>\n",
       "      <td>2.0</td>\n",
       "      <td>23.120624</td>\n",
       "    </tr>\n",
       "    <tr>\n",
       "      <th>3</th>\n",
       "      <td>104</td>\n",
       "      <td>21.0</td>\n",
       "      <td>185.40</td>\n",
       "      <td>79.30</td>\n",
       "      <td>1</td>\n",
       "      <td>1.0</td>\n",
       "      <td>302.460</td>\n",
       "      <td>290.840</td>\n",
       "      <td>1.0</td>\n",
       "      <td>23.070326</td>\n",
       "    </tr>\n",
       "    <tr>\n",
       "      <th>4</th>\n",
       "      <td>105</td>\n",
       "      <td>21.0</td>\n",
       "      <td>177.80</td>\n",
       "      <td>68.00</td>\n",
       "      <td>1</td>\n",
       "      <td>1.0</td>\n",
       "      <td>311.200</td>\n",
       "      <td>303.960</td>\n",
       "      <td>1.0</td>\n",
       "      <td>21.510247</td>\n",
       "    </tr>\n",
       "    <tr>\n",
       "      <th>5</th>\n",
       "      <td>106</td>\n",
       "      <td>28.0</td>\n",
       "      <td>178.00</td>\n",
       "      <td>76.00</td>\n",
       "      <td>1</td>\n",
       "      <td>1.0</td>\n",
       "      <td>408.000</td>\n",
       "      <td>379.080</td>\n",
       "      <td>1.0</td>\n",
       "      <td>23.986870</td>\n",
       "    </tr>\n",
       "    <tr>\n",
       "      <th>6</th>\n",
       "      <td>107</td>\n",
       "      <td>27.0</td>\n",
       "      <td>194.00</td>\n",
       "      <td>90.72</td>\n",
       "      <td>1</td>\n",
       "      <td>1.0</td>\n",
       "      <td>296.150</td>\n",
       "      <td>288.680</td>\n",
       "      <td>1.0</td>\n",
       "      <td>24.104581</td>\n",
       "    </tr>\n",
       "    <tr>\n",
       "      <th>7</th>\n",
       "      <td>108</td>\n",
       "      <td>24.0</td>\n",
       "      <td>180.34</td>\n",
       "      <td>70.76</td>\n",
       "      <td>1</td>\n",
       "      <td>2.0</td>\n",
       "      <td>240.240</td>\n",
       "      <td>209.770</td>\n",
       "      <td>2.0</td>\n",
       "      <td>21.757235</td>\n",
       "    </tr>\n",
       "    <tr>\n",
       "      <th>8</th>\n",
       "      <td>109</td>\n",
       "      <td>21.0</td>\n",
       "      <td>160.02</td>\n",
       "      <td>52.16</td>\n",
       "      <td>2</td>\n",
       "      <td>2.0</td>\n",
       "      <td>578.900</td>\n",
       "      <td>537.029</td>\n",
       "      <td>2.0</td>\n",
       "      <td>20.369907</td>\n",
       "    </tr>\n",
       "    <tr>\n",
       "      <th>9</th>\n",
       "      <td>110</td>\n",
       "      <td>22.0</td>\n",
       "      <td>182.88</td>\n",
       "      <td>93.00</td>\n",
       "      <td>1</td>\n",
       "      <td>3.0</td>\n",
       "      <td>578.760</td>\n",
       "      <td>574.140</td>\n",
       "      <td>3.0</td>\n",
       "      <td>27.806769</td>\n",
       "    </tr>\n",
       "    <tr>\n",
       "      <th>10</th>\n",
       "      <td>111</td>\n",
       "      <td>28.0</td>\n",
       "      <td>153.00</td>\n",
       "      <td>45.00</td>\n",
       "      <td>2</td>\n",
       "      <td>1.0</td>\n",
       "      <td>611.520</td>\n",
       "      <td>573.940</td>\n",
       "      <td>1.0</td>\n",
       "      <td>19.223376</td>\n",
       "    </tr>\n",
       "    <tr>\n",
       "      <th>11</th>\n",
       "      <td>112</td>\n",
       "      <td>24.0</td>\n",
       "      <td>180.34</td>\n",
       "      <td>61.24</td>\n",
       "      <td>1</td>\n",
       "      <td>2.0</td>\n",
       "      <td>574.840</td>\n",
       "      <td>569.120</td>\n",
       "      <td>2.0</td>\n",
       "      <td>18.830032</td>\n",
       "    </tr>\n",
       "    <tr>\n",
       "      <th>12</th>\n",
       "      <td>113</td>\n",
       "      <td>24.0</td>\n",
       "      <td>198.12</td>\n",
       "      <td>104.33</td>\n",
       "      <td>1</td>\n",
       "      <td>1.0</td>\n",
       "      <td>565.820</td>\n",
       "      <td>459.240</td>\n",
       "      <td>1.0</td>\n",
       "      <td>26.579853</td>\n",
       "    </tr>\n",
       "    <tr>\n",
       "      <th>13</th>\n",
       "      <td>114</td>\n",
       "      <td>27.0</td>\n",
       "      <td>175.00</td>\n",
       "      <td>60.00</td>\n",
       "      <td>1</td>\n",
       "      <td>1.0</td>\n",
       "      <td>605.200</td>\n",
       "      <td>589.650</td>\n",
       "      <td>1.0</td>\n",
       "      <td>19.591837</td>\n",
       "    </tr>\n",
       "    <tr>\n",
       "      <th>14</th>\n",
       "      <td>115</td>\n",
       "      <td>22.0</td>\n",
       "      <td>175.26</td>\n",
       "      <td>54.43</td>\n",
       "      <td>1</td>\n",
       "      <td>4.0</td>\n",
       "      <td>666.885</td>\n",
       "      <td>546.770</td>\n",
       "      <td>4.0</td>\n",
       "      <td>17.720367</td>\n",
       "    </tr>\n",
       "    <tr>\n",
       "      <th>15</th>\n",
       "      <td>116</td>\n",
       "      <td>26.0</td>\n",
       "      <td>160.00</td>\n",
       "      <td>56.70</td>\n",
       "      <td>2</td>\n",
       "      <td>1.0</td>\n",
       "      <td>524.160</td>\n",
       "      <td>458.640</td>\n",
       "      <td>1.0</td>\n",
       "      <td>22.148437</td>\n",
       "    </tr>\n",
       "    <tr>\n",
       "      <th>16</th>\n",
       "      <td>117</td>\n",
       "      <td>24.0</td>\n",
       "      <td>155.00</td>\n",
       "      <td>38.50</td>\n",
       "      <td>2</td>\n",
       "      <td>3.0</td>\n",
       "      <td>578.760</td>\n",
       "      <td>464.220</td>\n",
       "      <td>3.0</td>\n",
       "      <td>16.024974</td>\n",
       "    </tr>\n",
       "    <tr>\n",
       "      <th>17</th>\n",
       "      <td>118</td>\n",
       "      <td>23.0</td>\n",
       "      <td>172.72</td>\n",
       "      <td>69.40</td>\n",
       "      <td>2</td>\n",
       "      <td>2.0</td>\n",
       "      <td>589.680</td>\n",
       "      <td>505.820</td>\n",
       "      <td>2.0</td>\n",
       "      <td>23.263455</td>\n",
       "    </tr>\n",
       "    <tr>\n",
       "      <th>18</th>\n",
       "      <td>119</td>\n",
       "      <td>20.0</td>\n",
       "      <td>170.18</td>\n",
       "      <td>68.04</td>\n",
       "      <td>2</td>\n",
       "      <td>2.0</td>\n",
       "      <td>580.350</td>\n",
       "      <td>494.300</td>\n",
       "      <td>2.0</td>\n",
       "      <td>23.493475</td>\n",
       "    </tr>\n",
       "    <tr>\n",
       "      <th>19</th>\n",
       "      <td>120</td>\n",
       "      <td>25.0</td>\n",
       "      <td>161.00</td>\n",
       "      <td>52.00</td>\n",
       "      <td>2</td>\n",
       "      <td>2.0</td>\n",
       "      <td>543.280</td>\n",
       "      <td>546.000</td>\n",
       "      <td>2.0</td>\n",
       "      <td>20.060954</td>\n",
       "    </tr>\n",
       "    <tr>\n",
       "      <th>20</th>\n",
       "      <td>121</td>\n",
       "      <td>24.0</td>\n",
       "      <td>157.48</td>\n",
       "      <td>55.34</td>\n",
       "      <td>2</td>\n",
       "      <td>1.0</td>\n",
       "      <td>614.470</td>\n",
       "      <td>546.000</td>\n",
       "      <td>1.0</td>\n",
       "      <td>22.314561</td>\n",
       "    </tr>\n",
       "    <tr>\n",
       "      <th>21</th>\n",
       "      <td>212</td>\n",
       "      <td>24.0</td>\n",
       "      <td>180.34</td>\n",
       "      <td>57.60</td>\n",
       "      <td>1</td>\n",
       "      <td>2.0</td>\n",
       "      <td>596.180</td>\n",
       "      <td>530.060</td>\n",
       "      <td>2.0</td>\n",
       "      <td>17.710807</td>\n",
       "    </tr>\n",
       "  </tbody>\n",
       "</table>\n",
       "</div>"
      ],
      "text/plain": [
       "    Subject_ID   Age  Height  Weight Gender  Fitzpatrick  6MWT distance (m)  \\\n",
       "0          101  26.0  172.00   90.00      1          2.0            286.500   \n",
       "1          102  30.0  177.80   75.00      1          2.0            280.720   \n",
       "2          103  29.0  174.00   70.00      1          2.0            302.100   \n",
       "3          104  21.0  185.40   79.30      1          1.0            302.460   \n",
       "4          105  21.0  177.80   68.00      1          1.0            311.200   \n",
       "5          106  28.0  178.00   76.00      1          1.0            408.000   \n",
       "6          107  27.0  194.00   90.72      1          1.0            296.150   \n",
       "7          108  24.0  180.34   70.76      1          2.0            240.240   \n",
       "8          109  21.0  160.02   52.16      2          2.0            578.900   \n",
       "9          110  22.0  182.88   93.00      1          3.0            578.760   \n",
       "10         111  28.0  153.00   45.00      2          1.0            611.520   \n",
       "11         112  24.0  180.34   61.24      1          2.0            574.840   \n",
       "12         113  24.0  198.12  104.33      1          1.0            565.820   \n",
       "13         114  27.0  175.00   60.00      1          1.0            605.200   \n",
       "14         115  22.0  175.26   54.43      1          4.0            666.885   \n",
       "15         116  26.0  160.00   56.70      2          1.0            524.160   \n",
       "16         117  24.0  155.00   38.50      2          3.0            578.760   \n",
       "17         118  23.0  172.72   69.40      2          2.0            589.680   \n",
       "18         119  20.0  170.18   68.04      2          2.0            580.350   \n",
       "19         120  25.0  161.00   52.00      2          2.0            543.280   \n",
       "20         121  24.0  157.48   55.34      2          1.0            614.470   \n",
       "21         212  24.0  180.34   57.60      1          2.0            596.180   \n",
       "\n",
       "    6MWT-R distance (m)  Fitzpatrick        BMI  \n",
       "0               264.550          2.0  30.421850  \n",
       "1               272.090          2.0  23.724537  \n",
       "2               289.380          2.0  23.120624  \n",
       "3               290.840          1.0  23.070326  \n",
       "4               303.960          1.0  21.510247  \n",
       "5               379.080          1.0  23.986870  \n",
       "6               288.680          1.0  24.104581  \n",
       "7               209.770          2.0  21.757235  \n",
       "8               537.029          2.0  20.369907  \n",
       "9               574.140          3.0  27.806769  \n",
       "10              573.940          1.0  19.223376  \n",
       "11              569.120          2.0  18.830032  \n",
       "12              459.240          1.0  26.579853  \n",
       "13              589.650          1.0  19.591837  \n",
       "14              546.770          4.0  17.720367  \n",
       "15              458.640          1.0  22.148437  \n",
       "16              464.220          3.0  16.024974  \n",
       "17              505.820          2.0  23.263455  \n",
       "18              494.300          2.0  23.493475  \n",
       "19              546.000          2.0  20.060954  \n",
       "20              546.000          1.0  22.314561  \n",
       "21              530.060          2.0  17.710807  "
      ]
     },
     "execution_count": 10,
     "metadata": {},
     "output_type": "execute_result"
    }
   ],
   "source": [
    "df_subinfo"
   ]
  },
  {
   "cell_type": "code",
   "execution_count": null,
   "metadata": {},
   "outputs": [],
   "source": []
  },
  {
   "cell_type": "code",
   "execution_count": 11,
   "metadata": {},
   "outputs": [],
   "source": [
    "# # this function computes the threshold for RQI (defined as the value requires to get MAE<1BPM)\n",
    "#     RQI_name = 'RQI_kurtosis'\n",
    "\n",
    "#     df_RQI_results = get_df_RQI_results(df_outputlabel, RQI_name, steps_thre=steps_thre)\n",
    "#     i_RQI_threshold = np.argmin(np.abs(df_RQI_results['coverage'].values-95))\n",
    "#     RQI_threshold = df_RQI_results.loc[i_RQI_threshold,:]['threshold']\n",
    "\n",
    "# return RQI_threshold\n",
    "\n",
    "# # MAE_diff = df_RQI_results['MAE'].values-1\n",
    "# # #     MAE_diff = df_RQI_results['MAE'].values-1\n",
    "# # df_RQI_results['MAE_diff'] = MAE_diff\n",
    "\n",
    "# # #     print(df_RQI_results['coverage'].min(), df_RQI_results['coverage'].max())\n",
    "# # #     sys.exit()\n",
    "\n",
    "# # #     print(MAE_diff)\n",
    "\n",
    "# # # if MAE for not all thresholds is less than 1\n",
    "# # if (MAE_diff<0).sum()!=0:\n",
    "# #     # find all indices where MAE_diff < 0 and MAE_diff = maximum MAE\n",
    "# #     # this implies finding the largest threshold to reject data (large is better because we can maximize coverage)\n",
    "# #     i_RQI_threshold = np.where((MAE_diff<0) & (MAE_diff==MAE_diff[MAE_diff<0].max()))[0]\n",
    "# #     # pick any one (the last one then)\n",
    "# #     i_RQI_threshold = i_RQI_threshold[-1]\n",
    "# #     # set the threshold to this value\n",
    "# #     RQI_threshold = df_RQI_results.loc[i_RQI_threshold,:]['threshold']\n",
    "# # # if MAE for all thresholds is less than 1\n",
    "# # else:        \n",
    "# #     if RQI_name == 'RQI_fft':\n",
    "# #         RQI_threshold=0.55\n",
    "# #     elif RQI_name == 'RQI_kurtosis':\n",
    "# #         RQI_threshold=0"
   ]
  },
  {
   "cell_type": "code",
   "execution_count": 12,
   "metadata": {},
   "outputs": [],
   "source": [
    "# df_outputlabel"
   ]
  },
  {
   "cell_type": "code",
   "execution_count": null,
   "metadata": {},
   "outputs": [],
   "source": []
  },
  {
   "cell_type": "code",
   "execution_count": 13,
   "metadata": {},
   "outputs": [],
   "source": [
    "def get_RQI_threshold(df_outputlabel, RQI_name, steps_thre=10):\n",
    "    # this function computes the threshold for RQI (defined as the value requires to get MAE<1BPM)\n",
    "    df_RQI_results = get_df_RQI_results(df_outputlabel, RQI_name, steps_thre=steps_thre)\n",
    "#     MAE_diff = df_RQI_results['MAE'].values-1\n",
    "#     MAE_diff = df_RQI_results['MAE'].values-1\n",
    "#     df_RQI_results['MAE_diff'] = MAE_diff\n",
    "    \n",
    "    coverage_thre = 97\n",
    "\n",
    "    df_RQI_results = get_df_RQI_results(df_outputlabel, RQI_name, steps_thre=steps_thre)\n",
    "    i_RQI_threshold = np.argmin(np.abs(df_RQI_results['coverage'].values-coverage_thre))\n",
    "    RQI_threshold = df_RQI_results.loc[i_RQI_threshold,:]['threshold']\n",
    "\n",
    "    return RQI_threshold\n",
    "\n",
    "\n",
    "def get_RQI_threshold2(df_outputlabel, RQI_name, steps_thre=10):\n",
    "    # this function computes the threshold for RQI (defined as the value requires to get MAE<1BPM)\n",
    "#     coverage_thre = 97\n",
    "\n",
    "#     df_RQI_results = get_df_RQI_results(df_outputlabel, RQI_name, steps_thre=steps_thre)\n",
    "#     i_RQI_threshold = np.argmin(np.abs(df_RQI_results['coverage'].values-coverage_thre))\n",
    "#     RQI_threshold = df_RQI_results.loc[i_RQI_threshold,:]['threshold']\n",
    "    \n",
    "    # the lowest 10%\n",
    "    RQI_threshold = np.percentile(df_outputlabel[RQI_name].values, 20)\n",
    "\n",
    "    return RQI_threshold\n",
    "\n",
    "\n",
    "\n",
    "def get_RQI_threshold1(df_outputlabel, RQI_name, steps_thre=10):\n",
    "    # this function computes the threshold for RQI (defined as the value requires to get MAE<1BPM)\n",
    "    df_RQI_results = get_df_RQI_results(df_outputlabel, RQI_name, steps_thre=steps_thre)\n",
    "#     MAE_diff = df_RQI_results['MAE'].values-1\n",
    "    MAE_diff = df_RQI_results['MAE'].values-1.5\n",
    "#     MAE_diff = df_RQI_results['MAE'].values-1\n",
    "    df_RQI_results['MAE_diff'] = MAE_diff\n",
    "    \n",
    "#     print(df_RQI_results['coverage'].min(), df_RQI_results['coverage'].max())\n",
    "#     sys.exit()\n",
    "    \n",
    "    # if MAE for not all thresholds is less than 1\n",
    "    if (MAE_diff<0).sum()!=0:\n",
    "        # find all indices where MAE_diff < 0 and MAE_diff = maximum MAE\n",
    "        # this implies finding the largest threshold to reject data (large is better because we can maximize coverage)\n",
    "        i_RQI_threshold = np.where((MAE_diff<0) & (MAE_diff==MAE_diff[MAE_diff<0].max()))[0]\n",
    "        # pick any one (the last one then)\n",
    "        i_RQI_threshold = i_RQI_threshold[-1]\n",
    "        # set the threshold to this value\n",
    "        RQI_threshold = df_RQI_results.loc[i_RQI_threshold,:]['threshold']\n",
    "    # if MAE for all thresholds is less than 1\n",
    "    else:        \n",
    "        if RQI_name == 'RQI_fft':\n",
    "            RQI_threshold=0.55\n",
    "        elif RQI_name == 'RQI_kurtosis':\n",
    "            RQI_threshold=0\n",
    "\n",
    "#         i_RQI_threshold = MAE_diff.shape[0]//2\n",
    "        \n",
    "#     RQI_threshold = df_RQI_results.loc[i_RQI_threshold,:]['threshold'].values\n",
    "\n",
    "    # i_RQI_threshold/ \n",
    "#     return RQI_threshold\n",
    "    return RQI_threshold"
   ]
  },
  {
   "cell_type": "code",
   "execution_count": 14,
   "metadata": {},
   "outputs": [],
   "source": [
    "# data = df_outputlabel['RQI_kurtosis'].values\n",
    "# # k = 10\n",
    "# # idx = np.argpartition(aaa, k)\n",
    "# # the lowest 10%\n",
    "# value_low = np.percentile(data, 10)\n",
    "# # indices_CI = np.where((data<=value_up) & (data>=value_lw))[0]"
   ]
  },
  {
   "cell_type": "code",
   "execution_count": null,
   "metadata": {},
   "outputs": [],
   "source": []
  },
  {
   "cell_type": "code",
   "execution_count": null,
   "metadata": {},
   "outputs": [],
   "source": []
  },
  {
   "cell_type": "code",
   "execution_count": 15,
   "metadata": {},
   "outputs": [],
   "source": [
    "\n",
    "def get_mask_random(N_zeros, N_ones, i_seed=0):\n",
    "    # create a mask with N_zeros and N_ones\n",
    "    # default seed is 0\n",
    "    mask_random = [0] * N_zeros + [1] * N_ones\n",
    "    random.seed(i_seed)\n",
    "    random.shuffle(mask_random)\n",
    "    mask_random = np.asarray(mask_random).astype(bool)\n",
    "    return mask_random\n",
    "\n",
    "def get_df_RQI_results(df_outputlabel, RQI_name, steps_thre=10):\n",
    "    \n",
    "    df_RQI_results = pd.DataFrame()\n",
    "\n",
    "    label = df_outputlabel['label'].values\n",
    "    label_est = df_outputlabel['label_est'].values\n",
    "\n",
    "    if RQI_name!='random':\n",
    "        RQI_range = df_outputlabel[RQI_name].min(), df_outputlabel[RQI_name].max()\n",
    "    else:\n",
    "        RQI_range = [0,df_outputlabel.shape[0]]\n",
    "        \n",
    "        \n",
    "    for threshold in np.linspace(RQI_range[0],RQI_range[1],steps_thre, endpoint=False):\n",
    "#     for threshold in np.linspace(0,1,steps_thre, endpoint=True):\n",
    "# np.linspace(0,1,steps_thre, endpoint=True)\n",
    "        if RQI_name!='random':\n",
    "            mask_RQI = df_outputlabel[RQI_name] > threshold\n",
    "#             MAE, _ = get_MAE(label[mask_RQI], label_est[mask_RQI])\n",
    "        else:\n",
    "            # random rejection\n",
    "            N_zeros = int(threshold)\n",
    "            N_ones = df_outputlabel.shape[0] - N_zeros\n",
    "            mask_RQI = get_mask_random(N_zeros, N_ones)\n",
    "        \n",
    "        MAE, _ = get_MAE(label[mask_RQI], label_est[mask_RQI])\n",
    "\n",
    "        df_RQI_results = df_RQI_results.append(\n",
    "            pd.DataFrame(\n",
    "                {\n",
    "                    'threshold': threshold,\n",
    "                    'coverage': mask_RQI.mean()*100,\n",
    "                    'MAE': MAE,\n",
    "                    'N_subs': df_outputlabel['CV'][mask_RQI].unique().shape[0],\n",
    "                }, index=[0]\n",
    "        ))\n",
    "\n",
    "    df_RQI_results = df_RQI_results.reset_index(drop=True)\n",
    "    return df_RQI_results"
   ]
  },
  {
   "cell_type": "code",
   "execution_count": 16,
   "metadata": {},
   "outputs": [],
   "source": [
    "# np.linspace(0,1,steps_thre, endpoint=True)"
   ]
  },
  {
   "cell_type": "markdown",
   "metadata": {},
   "source": [
    "# get train data, compute threshold for RQI"
   ]
  },
  {
   "cell_type": "code",
   "execution_count": 17,
   "metadata": {},
   "outputs": [],
   "source": [
    "# # Estimation_EE/data/stage4_UNet/ECG/win60_overlap95_seq20_norm/target\n",
    "# csv_dir\n",
    "# sub_file"
   ]
  },
  {
   "cell_type": "code",
   "execution_count": 18,
   "metadata": {},
   "outputs": [],
   "source": [
    "# os.listdir(inputdir+domain_name)\n"
   ]
  },
  {
   "cell_type": "code",
   "execution_count": 19,
   "metadata": {},
   "outputs": [],
   "source": [
    "\n",
    "df_outputlabel_ALL_train = pd.DataFrame()\n",
    "\n",
    "# for sub_file in os.listdir(inputdir):\n",
    "#     if '.ipynb_checkpoints'==sub_file:\n",
    "#         continue\n",
    "        \n",
    "for modalitity in list_modalitites:\n",
    "        \n",
    "    for TF_type in list_TF_types:\n",
    "        \n",
    "        for variant in list_variants:\n",
    "        \n",
    "    #         modalitity = sub_file\n",
    "\n",
    "            csv_dir = inputdir + domain_name + '/' + modalitity + '/{}/{}/numeric_results/df_outputlabel_train_RR_cosmed.csv'.format(variant, TF_type)\n",
    "            try:\n",
    "                df_outputlabel_train_RR_cosmed = pd.read_csv(csv_dir)  \n",
    "            except:\n",
    "                print(modalitity, 'directory does not exist:', csv_dir)\n",
    "                continue\n",
    "            df_outputlabel_train_RR_cosmed['RQI_ideal'] = -np.abs(df_outputlabel_train_RR_cosmed['label_est'] - df_outputlabel_train_RR_cosmed['label'])\n",
    "\n",
    "            df_outputlabel_train_RR_cosmed['modality'] = modalitity\n",
    "            \n",
    "#             if variant=='SE_block':\n",
    "            if 'block' in variant:\n",
    "                df_outputlabel_train_RR_cosmed['est_method'] = 'U-Net-' + variant\n",
    "            else:\n",
    "                df_outputlabel_train_RR_cosmed['est_method'] = 'U-Net'\n",
    "            df_outputlabel_train_RR_cosmed['TF_type'] = TF_type\n",
    "\n",
    "            df_outputlabel_ALL_train = df_outputlabel_ALL_train.append(df_outputlabel_train_RR_cosmed)"
   ]
  },
  {
   "cell_type": "code",
   "execution_count": null,
   "metadata": {},
   "outputs": [],
   "source": []
  },
  {
   "cell_type": "code",
   "execution_count": 20,
   "metadata": {},
   "outputs": [
    {
     "data": {
      "text/plain": [
       "array([0., 1., 2., 3., 4., 5.])"
      ]
     },
     "execution_count": 20,
     "metadata": {},
     "output_type": "execute_result"
    }
   ],
   "source": [
    "df_outputlabel_ALL_train['activity'].unique()"
   ]
  },
  {
   "cell_type": "code",
   "execution_count": null,
   "metadata": {},
   "outputs": [],
   "source": []
  },
  {
   "cell_type": "code",
   "execution_count": null,
   "metadata": {},
   "outputs": [],
   "source": []
  },
  {
   "cell_type": "code",
   "execution_count": 21,
   "metadata": {},
   "outputs": [],
   "source": [
    "# df_RQI_threshold"
   ]
  },
  {
   "cell_type": "code",
   "execution_count": 22,
   "metadata": {},
   "outputs": [],
   "source": [
    "df_RQI_threshold = pd.DataFrame()\n",
    "\n",
    "\n",
    "for CV in df_outputlabel_ALL_train['CV'].unique(): \n",
    "    for modality in df_outputlabel_ALL_train['modality'].unique():\n",
    "        for TF_type in df_outputlabel_ALL_train['TF_type'].unique():\n",
    "            for est_method in df_outputlabel_ALL_train['est_method'].unique():\n",
    "                df_outputlabel = df_outputlabel_ALL_train[(df_outputlabel_ALL_train['CV']==CV) & (df_outputlabel_ALL_train['modality']==modality) & (df_outputlabel_ALL_train['TF_type']==TF_type) & (df_outputlabel_ALL_train['est_method']==est_method)]\n",
    "\n",
    "                \n",
    "                if df_outputlabel.shape[0]==0:\n",
    "                    continue\n",
    "                RQI_fft_threshold = get_RQI_threshold(df_outputlabel, 'RQI_fft', steps_thre=steps_thre)\n",
    "                RQI_kurtosis_threshold = get_RQI_threshold(df_outputlabel, 'RQI_kurtosis', steps_thre=steps_thre)\n",
    "\n",
    "                df_RQI_threshold = df_RQI_threshold.append(\n",
    "                    pd.DataFrame(\n",
    "                        {\n",
    "                            'CV': CV,\n",
    "                            'modality': modality,\n",
    "                            'TF_type': TF_type,\n",
    "                            'est_method': est_method,\n",
    "                            'RQI_fft_threshold': RQI_fft_threshold,\n",
    "                            'RQI_kurtosis_threshold': RQI_kurtosis_threshold,\n",
    "                        }, index=[0]\n",
    "                    )\n",
    "                )\n"
   ]
  },
  {
   "cell_type": "code",
   "execution_count": 23,
   "metadata": {},
   "outputs": [
    {
     "data": {
      "text/plain": [
       "'target'"
      ]
     },
     "execution_count": 23,
     "metadata": {},
     "output_type": "execute_result"
    }
   ],
   "source": [
    "TF_type"
   ]
  },
  {
   "cell_type": "code",
   "execution_count": 24,
   "metadata": {},
   "outputs": [],
   "source": [
    "# RQI_fft_threshold, RQI_kurtosis_threshold"
   ]
  },
  {
   "cell_type": "code",
   "execution_count": null,
   "metadata": {},
   "outputs": [],
   "source": []
  },
  {
   "cell_type": "markdown",
   "metadata": {},
   "source": [
    "# get val data"
   ]
  },
  {
   "cell_type": "code",
   "execution_count": 25,
   "metadata": {},
   "outputs": [],
   "source": [
    "df_outputlabel_ALL = pd.DataFrame()\n",
    "   \n",
    "for modalitity in list_modalitites:\n",
    "        \n",
    "    for TF_type in list_TF_types:\n",
    "        \n",
    "        for variant in list_variants:\n",
    "\n",
    "    #         csv_dir = inputdir + sub_file + '/win60_overlap95_seq20_norm/numeric_results/df_outputlabel_val_RR_cosmed.csv'\n",
    "            csv_dir = inputdir + domain_name + '/' +  modalitity + '/{}/{}/numeric_results/df_outputlabel_val_RR_cosmed.csv'.format(variant, TF_type)\n",
    "\n",
    "            try:\n",
    "                df_outputlabel_val_RR_cosmed = pd.read_csv(csv_dir)  \n",
    "            except:\n",
    "                print(modalitity, 'directory does not exist')\n",
    "                continue\n",
    "    #         df_outputlabel_val_RR_cosmed = pd.read_csv(csv_dir)  \n",
    "            df_outputlabel_val_RR_cosmed['RQI_ideal'] = -np.abs(df_outputlabel_val_RR_cosmed['label_est'] - df_outputlabel_val_RR_cosmed['label'])\n",
    "\n",
    "    #         csv_dir = inputdir + sub_file + '/win60_overlap95_seq20_norm/numeric_results/df_outputlabel_val_input_RR_cosmed.csv'\n",
    "            csv_dir = inputdir + domain_name + '/' + modalitity + '/{}/{}/numeric_results/df_outputlabel_val_input_RR_cosmed.csv'.format(variant, TF_type)\n",
    "\n",
    "            try:\n",
    "                df_outputlabel_val_input_RR_cosmed = pd.read_csv(csv_dir)  \n",
    "            except:\n",
    "                print(modalitity, 'directory does not exist')\n",
    "                continue\n",
    "\n",
    "            df_outputlabel_val_input_RR_cosmed['RQI_ideal'] = -np.abs(df_outputlabel_val_input_RR_cosmed['label_est'] - df_outputlabel_val_input_RR_cosmed['label'])\n",
    "\n",
    "            df_outputlabel_val_input_RR_cosmed['modality'] = modalitity\n",
    "            df_outputlabel_val_input_RR_cosmed['est_method'] = 'ST'\n",
    "            df_outputlabel_val_input_RR_cosmed['TF_type'] = TF_type\n",
    "\n",
    "\n",
    "            df_outputlabel_val_RR_cosmed['modality'] = modalitity\n",
    "            \n",
    "\n",
    "#             if variant=='SE_block':\n",
    "            if 'block' in variant:\n",
    "                df_outputlabel_val_RR_cosmed['est_method'] = 'U-Net-' + variant\n",
    "            else:\n",
    "                df_outputlabel_val_RR_cosmed['est_method'] = 'U-Net'\n",
    "#             df_outputlabel_val_RR_cosmed['est_method'] = 'U-Net'\n",
    "            df_outputlabel_val_RR_cosmed['TF_type'] = TF_type\n",
    "\n",
    "            df_outputlabel_ALL = df_outputlabel_ALL.append(df_outputlabel_val_input_RR_cosmed)\n",
    "            df_outputlabel_ALL = df_outputlabel_ALL.append(df_outputlabel_val_RR_cosmed)"
   ]
  },
  {
   "cell_type": "code",
   "execution_count": 26,
   "metadata": {},
   "outputs": [
    {
     "data": {
      "text/plain": [
       "array([ 0.,  2.,  1.,  3.,  4.,  5.,  6.,  7.,  9., 10.])"
      ]
     },
     "execution_count": 26,
     "metadata": {},
     "output_type": "execute_result"
    }
   ],
   "source": [
    "df_outputlabel_ALL['activity'].unique()"
   ]
  },
  {
   "cell_type": "code",
   "execution_count": null,
   "metadata": {},
   "outputs": [],
   "source": []
  },
  {
   "cell_type": "code",
   "execution_count": null,
   "metadata": {},
   "outputs": [],
   "source": []
  },
  {
   "cell_type": "code",
   "execution_count": 27,
   "metadata": {},
   "outputs": [],
   "source": [
    "# mask_set = ~np.isin(df_outputlabel_ALL['activity'].values, reject_act)\n",
    "# df_outputlabel_ALL = df_outputlabel_ALL[mask_set]\n",
    "# df_outputlabel_ALL['activity'].unique()"
   ]
  },
  {
   "cell_type": "code",
   "execution_count": 28,
   "metadata": {},
   "outputs": [
    {
     "data": {
      "text/plain": [
       "array([6., 7., 9.])"
      ]
     },
     "execution_count": 28,
     "metadata": {},
     "output_type": "execute_result"
    }
   ],
   "source": [
    "mask_task = np.in1d(df_outputlabel_ALL['activity'].values, np.asarray(task_ids))\n",
    "df_outputlabel_ALL = df_outputlabel_ALL[mask_task]\n",
    "df_outputlabel_ALL['activity'].unique()\n"
   ]
  },
  {
   "cell_type": "code",
   "execution_count": null,
   "metadata": {},
   "outputs": [],
   "source": []
  },
  {
   "cell_type": "code",
   "execution_count": null,
   "metadata": {},
   "outputs": [],
   "source": []
  },
  {
   "cell_type": "code",
   "execution_count": null,
   "metadata": {},
   "outputs": [],
   "source": []
  },
  {
   "cell_type": "code",
   "execution_count": null,
   "metadata": {},
   "outputs": [],
   "source": []
  },
  {
   "cell_type": "code",
   "execution_count": 29,
   "metadata": {},
   "outputs": [],
   "source": [
    "def get_best_estimates(matrix_modality):\n",
    "\n",
    "    df_matrix = []\n",
    "    for i, key in enumerate(matrix_modality):\n",
    "        df_matrix.append(matrix_modality[key].values)\n",
    "\n",
    "    df_matrix = np.stack(df_matrix).transpose(1,0,2) # number of samples x number of modalities x number of columns\n",
    "#     print(df_matrix.shape)\n",
    "\n",
    "    i_RQI = list(df_outputlabel.columns).index('RQI_kurtosis')\n",
    "#     i_RQI = list(df_outputlabel.columns).index('RQI_fft')\n",
    "    i_best_modalities = np.argmax(df_matrix[:,:,i_RQI], axis=1)\n",
    "#     print(i_best_modalities)\n",
    "    df_matrix = df_matrix[np.arange(i_best_modalities.shape[0]), i_best_modalities, :]\n",
    "\n",
    "    df_matrix = pd.DataFrame(df_matrix, columns=list(df_outputlabel.columns))\n",
    "#     print(df_matrix)\n",
    "#     df_matrix['RQI_fft'] = -1\n",
    "#     df_matrix['RQI_ideal'] = -np.abs(df_matrix['label_est'] - df_matrix['label'])\n",
    "#     df_matrix['modality'] = 'select_' + df_matrix['modality'].astype(str)\n",
    "    df_matrix['modality'] = 'selected'\n",
    "#     print(df_matrix)\n",
    "\n",
    "    return df_matrix"
   ]
  },
  {
   "cell_type": "code",
   "execution_count": null,
   "metadata": {},
   "outputs": [],
   "source": []
  },
  {
   "cell_type": "markdown",
   "metadata": {},
   "source": [
    "# add an additional moadility: ``selected``\n",
    "# this may be better than using all (not true)"
   ]
  },
  {
   "cell_type": "code",
   "execution_count": null,
   "metadata": {},
   "outputs": [],
   "source": []
  },
  {
   "cell_type": "code",
   "execution_count": 30,
   "metadata": {},
   "outputs": [],
   "source": [
    "\n",
    "if 'U-Net-AT_block' not in df_outputlabel_ALL['est_method'].unique():\n",
    "    \n",
    "    if 'U-Net-SE_block' not in df_outputlabel_ALL['est_method'].unique():\n",
    "\n",
    "        df_outputlabel_selected = []\n",
    "\n",
    "        matrix_modality = {}\n",
    "        for modality in df_outputlabel_ALL['modality'].unique():\n",
    "        #     for modality in ['ECG', 'PPG', 'SCG']:\n",
    "        #         for TF_type in df_outputlabel_ALL_train['TF_type'].unique():\n",
    "        #     df_outputlabel = df_outputlabel_ALL[(df_outputlabel_ALL['modality']==modality) & (df_outputlabel_ALL['est_method']==est_method) & (df_outputlabel_ALL['TF_type']==TF_type) & (df_outputlabel_ALL['CV']==subject_id)]\n",
    "            df_outputlabel = df_outputlabel_ALL[(df_outputlabel_ALL['modality']==modality)]\n",
    "        #     print(df_outputlabel.shape)\n",
    "            matrix_modality[modality] = df_outputlabel\n",
    "        df_matrix = get_best_estimates(matrix_modality)\n",
    "        # sys.exit()\n",
    "        df_outputlabel_selected.append(df_matrix)\n",
    "        df_outputlabel_selected = pd.concat(df_outputlabel_selected)\n"
   ]
  },
  {
   "cell_type": "code",
   "execution_count": 31,
   "metadata": {},
   "outputs": [
    {
     "name": "stdout",
     "output_type": "stream",
     "text": [
      "(16004, 14) (16004, 14)\n"
     ]
    }
   ],
   "source": [
    "include_selected = False\n",
    "if include_selected:\n",
    "    df_outputlabel_ALL_selected = pd.concat([df_outputlabel_ALL, df_outputlabel_selected])\n",
    "    print(df_outputlabel_selected.shape, df_outputlabel_ALL.shape, df_outputlabel_ALL_selected.shape)\n",
    "else:\n",
    "    df_outputlabel_ALL_selected = df_outputlabel_ALL\n",
    "    print(df_outputlabel_ALL.shape, df_outputlabel_ALL_selected.shape)\n",
    "\n"
   ]
  },
  {
   "cell_type": "code",
   "execution_count": 32,
   "metadata": {},
   "outputs": [
    {
     "data": {
      "text/plain": [
       "(17,)"
      ]
     },
     "execution_count": 32,
     "metadata": {},
     "output_type": "execute_result"
    }
   ],
   "source": [
    "df_outputlabel_ALL_selected['CV'].unique().shape"
   ]
  },
  {
   "cell_type": "code",
   "execution_count": 33,
   "metadata": {},
   "outputs": [
    {
     "data": {
      "text/plain": [
       "array(['ST', 'U-Net-AT_block'], dtype=object)"
      ]
     },
     "execution_count": 33,
     "metadata": {},
     "output_type": "execute_result"
    }
   ],
   "source": [
    "df_outputlabel_ALL_selected['est_method'].unique()"
   ]
  },
  {
   "cell_type": "code",
   "execution_count": null,
   "metadata": {},
   "outputs": [],
   "source": []
  },
  {
   "cell_type": "code",
   "execution_count": null,
   "metadata": {},
   "outputs": [],
   "source": []
  },
  {
   "cell_type": "code",
   "execution_count": 34,
   "metadata": {},
   "outputs": [],
   "source": [
    "# aggregate estimated to get performance for each modality, TF_type, est_method, subject_id"
   ]
  },
  {
   "cell_type": "code",
   "execution_count": 35,
   "metadata": {},
   "outputs": [],
   "source": [
    "def get_df_performance_agg(df_outputlabel_ALL):\n",
    "    # agg information across modality (ECG, SCG, ...), TF_type (pretrain, source, target), subject_id\n",
    "    \n",
    "    df_performance_agg = pd.DataFrame()\n",
    "\n",
    "    for modality in df_outputlabel_ALL['modality'].unique():\n",
    "        for TF_type in df_outputlabel_ALL['TF_type'].unique():\n",
    "\n",
    "            for est_method in list_method:\n",
    "                \n",
    "#                 for task_id in df_outputlabel_ALL['activity'].unique():\n",
    "        \n",
    "                task_id = 0\n",
    "        \n",
    "                for subject_id in df_outputlabel_ALL['CV'].unique():\n",
    "\n",
    "                    # this condition is for est_method=ST or est_method=U-Net\n",
    "                    if 'RQI' not in est_method:\n",
    "#                         mask_df = (df_outputlabel_ALL['modality']==modality) & (df_outputlabel_ALL['est_method']==est_method) & (df_outputlabel_ALL['TF_type']==TF_type) & (df_outputlabel_ALL['activity']==task_id) & (df_outputlabel_ALL['CV']==subject_id)\n",
    "                        mask_df = (df_outputlabel_ALL['modality']==modality) & (df_outputlabel_ALL['est_method']==est_method) & (df_outputlabel_ALL['TF_type']==TF_type) & (df_outputlabel_ALL['CV']==subject_id)\n",
    "                        if mask_df.sum()==0:\n",
    "#                                 print('mask_df is empty')\n",
    "#                                 print(modality, TF_type, est_method, task_id, subject_id, coverage)\n",
    "                            continue\n",
    "                        df_outputlabel = df_outputlabel_ALL[mask_df]\n",
    "            #             MAE_mean, MAE_std = get_MAE(df_outputlabel['label'], df_outputlabel['label_est'])\n",
    "                        coverage = 100\n",
    "\n",
    "\n",
    "                    # consider RQI, reject samples accordingly\n",
    "                    else:\n",
    "#                         mask_df = (df_outputlabel_ALL['modality']==modality) & (df_outputlabel_ALL['est_method']==est_method.split(' ')[0]) & (df_outputlabel_ALL['TF_type']==TF_type) & (df_outputlabel_ALL['activity']==task_id) & (df_outputlabel_ALL['CV']==subject_id)\n",
    "                        mask_df = (df_outputlabel_ALL['modality']==modality) & (df_outputlabel_ALL['est_method']==est_method.split(' ')[0]) & (df_outputlabel_ALL['TF_type']==TF_type) & (df_outputlabel_ALL['CV']==subject_id)\n",
    "                        if mask_df.sum()==0:\n",
    "#                                 print('mask_df is empty')\n",
    "#                                 print(modality, TF_type, est_method, task_id, subject_id, coverage)\n",
    "                            continue\n",
    "                        df_outputlabel = df_outputlabel_ALL[mask_df]\n",
    "        #                 sys.exit()\n",
    "\n",
    "                        mask_RQI = (df_RQI_threshold['modality']==modality) & (df_RQI_threshold['TF_type']==TF_type)\n",
    "\n",
    "                        # df_RQI_threshold may not contain modality ``selected``, skip it\n",
    "                        if mask_RQI.sum()==0:\n",
    "                            continue\n",
    "                        df_outputlabel= df_outputlabel.merge(df_RQI_threshold[mask_RQI], on=['CV'])\n",
    "        #                 df_outputlabel= df_outputlabel.merge(df_RQI_threshold, on=['CV'])\n",
    "\n",
    "\n",
    "                        RQI_name = est_method.split(' ')[1]\n",
    "                        RQI_mask = df_outputlabel[RQI_name] > df_outputlabel[RQI_name+'_threshold']\n",
    "        #                 sys.exit()\n",
    "                        df_outputlabel = df_outputlabel[RQI_mask]\n",
    "                        coverage = RQI_mask.mean()*100\n",
    "\n",
    "#                             if coverage==0:\n",
    "#                                 print(modality, TF_type, est_method, task_id, subject_id, coverage)\n",
    "\n",
    "                    if coverage==0:\n",
    "                        \n",
    "                        print('{}: coverage=0'.format(subject_id))\n",
    "                        continue\n",
    "\n",
    "\n",
    "#                         if df_outputlabel.shape[0]==0:\n",
    "#                             print( mask_df.sum() )\n",
    "#                             print(modality, TF_type, est_method, task_id, subject_id, coverage)\n",
    "#                             print(RQI_mask.sum())\n",
    "#                             print(df_outputlabel)\n",
    "#                             print( get_RMSE(df_outputlabel['label'], df_outputlabel['label_est']))\n",
    "\n",
    "\n",
    "                    MAE_mean, MAE_std = get_MAE(df_outputlabel['label'], df_outputlabel['label_est'])\n",
    "#                     PCC = get_PCC(df_outputlabel['label'], df_outputlabel['label_est'])\n",
    "#                     CoeffDeterm = get_CoeffDeterm(df_outputlabel['label'], df_outputlabel['label_est'])\n",
    "                    MAPE, _ = get_MAPE(df_outputlabel['label'], df_outputlabel['label_est'])\n",
    "                    RMSE = get_RMSE(df_outputlabel['label'], df_outputlabel['label_est'])\n",
    "\n",
    "                    one_dict = {\n",
    "                        'MAE_mean': MAE_mean,\n",
    "                        'MAE_std': MAE_std,\n",
    "#                         'PCC': PCC,\n",
    "#                         'CoeffDeterm': CoeffDeterm,\n",
    "                        'MAPE': MAPE*100,\n",
    "                        'RMSE': RMSE,\n",
    "                        'method': est_method,\n",
    "                        'modality': modality,\n",
    "                        'TF_type': TF_type,\n",
    "                        'coverage': coverage,\n",
    "                        'task': tasks_dict_reversed[task_id],\n",
    "                        'subject_id': subject_id\n",
    "                    }\n",
    "\n",
    "                    df_performance_agg = df_performance_agg.append(one_dict, ignore_index=True)\n",
    "\n",
    "    return df_performance_agg"
   ]
  },
  {
   "cell_type": "code",
   "execution_count": 36,
   "metadata": {},
   "outputs": [],
   "source": [
    "df_performance_agg_joint = get_df_performance_agg(df_outputlabel_ALL_selected)"
   ]
  },
  {
   "cell_type": "code",
   "execution_count": null,
   "metadata": {},
   "outputs": [],
   "source": []
  },
  {
   "cell_type": "code",
   "execution_count": 37,
   "metadata": {},
   "outputs": [],
   "source": [
    "# modality = 'ECG'\n",
    "# est_method = 'U-Net'\n",
    "# TF_type = 'target'\n",
    "# # task_id = 0\n",
    "# subject_id = 106\n",
    "\n",
    "# mask_df = (df_outputlabel_ALL['modality']==modality) & (df_outputlabel_ALL['est_method']==est_method) & (df_outputlabel_ALL['TF_type']==TF_type) & (df_outputlabel_ALL['CV']==subject_id)\n",
    "# plt.scatter(df_outputlabel_ALL[mask_df]['label'].values, df_outputlabel_ALL[mask_df]['label_est'].values)"
   ]
  },
  {
   "cell_type": "code",
   "execution_count": 38,
   "metadata": {},
   "outputs": [],
   "source": [
    "# df_outputlabel_ALL['CV'].unique()\n"
   ]
  },
  {
   "cell_type": "code",
   "execution_count": 39,
   "metadata": {},
   "outputs": [],
   "source": [
    "# df_performance_agg_joint['method'].unique()"
   ]
  },
  {
   "cell_type": "code",
   "execution_count": null,
   "metadata": {},
   "outputs": [],
   "source": []
  },
  {
   "cell_type": "code",
   "execution_count": null,
   "metadata": {},
   "outputs": [],
   "source": []
  },
  {
   "cell_type": "code",
   "execution_count": null,
   "metadata": {},
   "outputs": [],
   "source": []
  },
  {
   "cell_type": "code",
   "execution_count": 40,
   "metadata": {},
   "outputs": [],
   "source": [
    "hue_color_dict = {\n",
    "    'ST': '#F5F4E0',\n",
    "    'ST RQI_fft': '#928462',\n",
    "\n",
    "    'source': '#D8D7C5',\n",
    "    'target': '#B8B7A9',\n",
    "\n",
    "    \n",
    "    \n",
    "    'U-Net': '#B8B7A9',\n",
    "    'U-Net RQI_fft': '#6A7E7B',\n",
    "    \n",
    "    'U-Net source': '#D8D7C5',\n",
    "    'U-Net target': '#B8B7A9',\n",
    "    \n",
    "\n",
    "\n",
    "    'U-Net-AT_block':'#F696A6' ,\n",
    "    'U-Net-AT_block RQI_fft':'#C4580C' ,\n",
    "    \n",
    "    'U-Net-AT_block source': '#E2C3BC',\n",
    "    'U-Net-AT_block target': '#F696A6',\n",
    "\n",
    "#     'source': '#F5F4E0',\n",
    "#     'target': '#D8D7C5',\n",
    "#     'pretrain': '#B8B7A9',\n",
    "}\n"
   ]
  },
  {
   "cell_type": "code",
   "execution_count": null,
   "metadata": {},
   "outputs": [],
   "source": []
  },
  {
   "cell_type": "code",
   "execution_count": 41,
   "metadata": {},
   "outputs": [],
   "source": [
    "def plot_hue_compare(df, plt_scale=1.5,  x_name='modality', y_name='MAE_mean', hue_name='hue_name', metric_name='MAE_mean', ylims=None, order_list=None, hue_order=None, fig_name=None, show_plot=False, outputdir=None, log_wandb=False, verbose=False):\n",
    "#     metric_name = 'MAE_mean'\n",
    "    \n",
    "    if hue_order is None:\n",
    "         hue_order=list(hue_color_dict.keys())\n",
    "\n",
    "    fig, ax = plt.subplots(1,1, figsize=(5*plt_scale,5),dpi=250)\n",
    "    fontsize=7\n",
    "    \n",
    "#     sns.violinplot(x=\"modality\", y=metric_name, hue=\"TF_type\", data=df, ax=ax, palette=TF_color_dict)\n",
    "    sns.boxplot(x=x_name, y=y_name, hue=hue_name, data=df, ax=ax, palette=hue_color_dict, hue_order=hue_order,\n",
    "                showmeans=True,\n",
    "                meanprops={\"marker\":\"o\",\n",
    "                           \"markerfacecolor\":\"white\", \n",
    "                           \"markeredgecolor\":\"black\",\n",
    "                          \"markersize\":\"5\"},\n",
    "             order = order_list\n",
    "               )\n",
    "    ax.tick_params(labelsize=fontsize)\n",
    "\n",
    "\n",
    "#     sns.swarmplot(x=\"modality\", y=metric_name, hue=\"TF_type\", data=df, ax=ax, color='black', hue_order=list(TF_color_dict.keys()), dodge=True, size=3, alpha=0.8)\n",
    "\n",
    "    # get the lowest MAE\n",
    "#     MAE_lowest = []\n",
    "    df_MAEs = []\n",
    "    for hue_name in df['hue_name'].unique():\n",
    "        for modality in df['modality'].unique():\n",
    "            mean_MAE = df[(df['modality']==modality) & (df['hue_name']==hue_name)][metric_name].mean() \n",
    "            if math.isnan(mean_MAE):\n",
    "                continue\n",
    "            mae_dict ={\n",
    "                'hue_name': hue_name,\n",
    "                'modality': modality,\n",
    "                'mean_MAE': mean_MAE,\n",
    "            }\n",
    "            \n",
    "            df_MAEs.append( mae_dict )\n",
    "            \n",
    "    df_MAEs = pd.DataFrame(df_MAEs)\n",
    "#     print(df_MAEs)\n",
    "#     print(df[['mean_MAE']].idxmin())\n",
    "#     sys.exit()\n",
    "    i_min = df_MAEs[['mean_MAE']].idxmin().values[0]\n",
    "\n",
    "    hue_name, modality, MAE_lowest =  df_MAEs.iloc[i_min,:].values\n",
    "#     hue_name, modality, MAE_lowest\n",
    "    \n",
    "#     MAE_lowest = min(MAE_lowest)\n",
    "    \n",
    "    \n",
    "    \n",
    "    # xmin and xmax \n",
    "    xmin = -.8\n",
    "    xmax = df['modality'].unique().shape[0]-1+0.8\n",
    "    ax.hlines(y=MAE_lowest, xmin=xmin, xmax=xmax, linewidth=3, color='#627565', alpha=0.5)\n",
    "\n",
    "    ax.annotate('{:.2f}\\n{}\\n{}'.format(MAE_lowest, hue_name, modality), xy=(1,MAE_lowest), xytext=(6,0), color='black', \n",
    "                xycoords = ax.get_yaxis_transform(), textcoords=\"offset points\",\n",
    "                size=8, va=\"center\")\n",
    "    \n",
    "    ax.set_xlim(xmin,xmax)\n",
    "\n",
    "    ax.yaxis.grid(True, which='major', color='gray',alpha=0.8)\n",
    "    ax.yaxis.grid(True, which='minor', color='gray', alpha=0.2)\n",
    "    ax.minorticks_on()\n",
    "    \n",
    "#     ax.legend(frameon=True, bbox_to_anchor=(1.05,1))\n",
    "#     ax.legend(frameon=True, loc='upper right',  bbox_to_anchor=(2,1), fontsize=fontsize)\n",
    "    ax.get_legend().remove()\n",
    "\n",
    "    \n",
    "    if ylims is not None:\n",
    "        ax.set_ylim(ylims)\n",
    "\n",
    "#     ax.set_ylim(0,MAE_lowest*5)\n",
    "    ax_no_top_right(ax)\n",
    "   \n",
    "    \n",
    "    fig.tight_layout()\n",
    "    print('fig_name is', fig_name)\n",
    "    \n",
    "    if fig_name is None:\n",
    "        fig_name = 'hueXmod'\n",
    "\n",
    "    if log_wandb:\n",
    "        wandb.log({fig_name: wandb.Image(fig)})\n",
    "\n",
    "    if outputdir is not None:\n",
    "        if not os.path.exists(outputdir):\n",
    "            os.makedirs(outputdir)\n",
    "\n",
    "        fig.savefig(outputdir + fig_name + '.png', facecolor=fig.get_facecolor())\n",
    "\n",
    "    if show_plot == False:\n",
    "        plt.close(fig)\n",
    "        pyplot.close(fig)\n",
    "        plt.close('all')\n",
    "\n",
    "    plt.show()\n",
    "    \n",
    "    "
   ]
  },
  {
   "cell_type": "markdown",
   "metadata": {},
   "source": [
    "# Show source vs. target for one modality (ECGPPG), one model (MA-UNet)"
   ]
  },
  {
   "cell_type": "code",
   "execution_count": 42,
   "metadata": {},
   "outputs": [
    {
     "data": {
      "image/png": "[encoded data removed]",
      "text/plain": [
       "<Figure size 500x500 with 1 Axes>"
      ]
     },
     "metadata": {},
     "output_type": "display_data"
    }
   ],
   "source": [
    "modaliy_mask = df_performance_agg_joint['modality']=='ECG-SR+PPG-select'\n",
    "\n",
    "\n",
    "method_mask = df_performance_agg_joint['method']=='ST'\n",
    "df1 = df_performance_agg_joint[(df_performance_agg_joint['TF_type']=='source')&method_mask&modaliy_mask].copy()\n",
    "df1['method_name'] = 'ST'\n",
    "\n",
    "\n",
    "\n",
    "method_name = 'U-Net-AT_block'\n",
    "method_mask = df_performance_agg_joint['method']==method_name\n",
    "df2 = df_performance_agg_joint[(df_performance_agg_joint['TF_type']=='source')&method_mask&modaliy_mask].copy()\n",
    "df2['method_name'] = method_name + ' source'\n",
    "\n",
    "# method_name1 = 'U-Net-AT_block'\n",
    "method_mask = df_performance_agg_joint['method']==method_name\n",
    "df3 = df_performance_agg_joint[(df_performance_agg_joint['TF_type']=='target')&method_mask&modaliy_mask].copy()\n",
    "df3['method_name'] = method_name + ' target'\n",
    "\n",
    "df = pd.concat([df1, df2, df3])\n",
    "\n",
    "# list_methods = list(df['method_name'].unique())\n",
    "fig_name='Fig6Xmod_{}_TFs'.format(act_type)\n",
    "\n",
    "fig, ax = plt.subplots(1,1, figsize=(5*1,5),dpi=100)\n",
    "fontsize=7\n",
    "\n",
    "#     sns.violinplot(x=\"modality\", y=metric_name, hue=\"TF_type\", data=df, ax=ax, palette=TF_color_dict)\n",
    "sns.boxplot(x='method_name', y='MAE_mean', data=df, ax=ax, palette=hue_color_dict,\n",
    "            showmeans=True,\n",
    "            meanprops={\"marker\":\"o\",\n",
    "                       \"markerfacecolor\":\"white\", \n",
    "                       \"markeredgecolor\":\"black\",\n",
    "                      \"markersize\":\"5\"},\n",
    "           )\n",
    "ax.tick_params(labelsize=fontsize)\n",
    "ax_no_top_right(ax)\n",
    "\n"
   ]
  },
  {
   "cell_type": "code",
   "execution_count": 43,
   "metadata": {},
   "outputs": [
    {
     "data": {
      "text/html": [
       "<div>\n",
       "<style scoped>\n",
       "    .dataframe tbody tr th:only-of-type {\n",
       "        vertical-align: middle;\n",
       "    }\n",
       "\n",
       "    .dataframe tbody tr th {\n",
       "        vertical-align: top;\n",
       "    }\n",
       "\n",
       "    .dataframe thead th {\n",
       "        text-align: right;\n",
       "    }\n",
       "</style>\n",
       "<table border=\"1\" class=\"dataframe\">\n",
       "  <thead>\n",
       "    <tr style=\"text-align: right;\">\n",
       "      <th>method_name</th>\n",
       "      <th>ST</th>\n",
       "      <th>U-Net-AT_block source</th>\n",
       "      <th>U-Net-AT_block target</th>\n",
       "    </tr>\n",
       "  </thead>\n",
       "  <tbody>\n",
       "    <tr>\n",
       "      <th>mean</th>\n",
       "      <td>3.751925</td>\n",
       "      <td>2.411950</td>\n",
       "      <td>2.212351</td>\n",
       "    </tr>\n",
       "    <tr>\n",
       "      <th>std</th>\n",
       "      <td>2.404362</td>\n",
       "      <td>1.986454</td>\n",
       "      <td>1.664101</td>\n",
       "    </tr>\n",
       "  </tbody>\n",
       "</table>\n",
       "</div>"
      ],
      "text/plain": [
       "method_name        ST  U-Net-AT_block source  U-Net-AT_block target\n",
       "mean         3.751925               2.411950               2.212351\n",
       "std          2.404362               1.986454               1.664101"
      ]
     },
     "execution_count": 43,
     "metadata": {},
     "output_type": "execute_result"
    }
   ],
   "source": [
    "variable_name = 'method_name'\n",
    "df_table_agg = df[['MAE_mean', variable_name, 'subject_id']].copy()\n",
    "df_table_agg = df_table_agg.groupby(variable_name)[\"MAE_mean\"].agg([np.mean, np.std]).T\n",
    "df_table_agg"
   ]
  },
  {
   "cell_type": "code",
   "execution_count": 53,
   "metadata": {},
   "outputs": [],
   "source": [
    "# activity_type"
   ]
  },
  {
   "cell_type": "code",
   "execution_count": null,
   "metadata": {},
   "outputs": [],
   "source": []
  },
  {
   "cell_type": "code",
   "execution_count": 44,
   "metadata": {},
   "outputs": [],
   "source": [
    "from scipy import stats"
   ]
  },
  {
   "cell_type": "code",
   "execution_count": 45,
   "metadata": {},
   "outputs": [],
   "source": [
    "# rvs1.shape, rvs2.shape"
   ]
  },
  {
   "cell_type": "code",
   "execution_count": null,
   "metadata": {},
   "outputs": [],
   "source": []
  },
  {
   "cell_type": "code",
   "execution_count": null,
   "metadata": {},
   "outputs": [],
   "source": []
  },
  {
   "cell_type": "code",
   "execution_count": 46,
   "metadata": {},
   "outputs": [],
   "source": [
    "def is_normal(x, debug=False):\n",
    "    k2, p = stats.normaltest(x)\n",
    "    alpha = 1e-3\n",
    "    if debug:\n",
    "        print(\"p = {:g}\".format(p))\n",
    "    # p = 8.4713e-19\n",
    "    if p < alpha:  # null hypothesis: x comes from a normal distribution\n",
    "        if debug:\n",
    "            print(\"The null hypothesis can be rejected\")\n",
    "        return False\n",
    "    else:\n",
    "        if debug:\n",
    "            print(\"The null hypothesis cannot be rejected\")\n",
    "        return True"
   ]
  },
  {
   "cell_type": "code",
   "execution_count": 47,
   "metadata": {},
   "outputs": [
    {
     "name": "stdout",
     "output_type": "stream",
     "text": [
      "p = 0.366604\n",
      "The null hypothesis cannot be rejected\n",
      "df1 is normal: True\n",
      "\n",
      "p = 0.00781454\n",
      "The null hypothesis cannot be rejected\n",
      "df2 is normal: True\n",
      "\n",
      "p = 0.0403411\n",
      "The null hypothesis cannot be rejected\n",
      "df3 is normal: True\n",
      "\n"
     ]
    },
    {
     "name": "stderr",
     "output_type": "stream",
     "text": [
      "/home/mchan/miniconda3/envs/mienv/lib/python3.7/site-packages/scipy/stats/stats.py:1542: UserWarning: kurtosistest only valid for n>=20 ... continuing anyway, n=17\n",
      "  \"anyway, n=%i\" % int(n))\n"
     ]
    }
   ],
   "source": [
    "print('df1 is normal: {}\\n'.format(is_normal(df1['MAE_mean'], debug=True) ) )\n",
    "print('df2 is normal: {}\\n'.format(is_normal(df2['MAE_mean'], debug=True) ) )\n",
    "print('df3 is normal: {}\\n'.format(is_normal(df3['MAE_mean'], debug=True) ) )\n"
   ]
  },
  {
   "cell_type": "code",
   "execution_count": 54,
   "metadata": {},
   "outputs": [
    {
     "name": "stdout",
     "output_type": "stream",
     "text": [
      "p-value: 0.0026\n"
     ]
    }
   ],
   "source": [
    "test_A = stats.ttest_rel(df1['MAE_mean'], df2['MAE_mean'])\n",
    "print('p-value: {:.4f}'.format(test_A[1]))"
   ]
  },
  {
   "cell_type": "code",
   "execution_count": 48,
   "metadata": {},
   "outputs": [
    {
     "name": "stdout",
     "output_type": "stream",
     "text": [
      "p-value: 0.0043\n"
     ]
    }
   ],
   "source": [
    "test_A = stats.ttest_rel(df1['MAE_mean'], df3['MAE_mean'])\n",
    "print('p-value: {:.4f}'.format(test_A[1]))"
   ]
  },
  {
   "cell_type": "code",
   "execution_count": 52,
   "metadata": {},
   "outputs": [
    {
     "name": "stdout",
     "output_type": "stream",
     "text": [
      "p-value: 0.00001526\n"
     ]
    }
   ],
   "source": [
    "from scipy.stats import wilcoxon\n",
    "\n",
    "# ttest_A = stats.ttest_rel(df1['MAE_mean'], df2['MAE_mean'])\n",
    "\n",
    "test_B = wilcoxon(df1['MAE_mean'].values-df2['MAE_mean'].values)\n",
    "# res.statistic, res.pvalue\n",
    "print('p-value: {:.8f}'.format(test_B.pvalue))"
   ]
  },
  {
   "cell_type": "code",
   "execution_count": null,
   "metadata": {},
   "outputs": [],
   "source": []
  },
  {
   "cell_type": "code",
   "execution_count": null,
   "metadata": {},
   "outputs": [],
   "source": [
    "# df3"
   ]
  },
  {
   "cell_type": "code",
   "execution_count": null,
   "metadata": {},
   "outputs": [],
   "source": [
    "# df2"
   ]
  },
  {
   "cell_type": "code",
   "execution_count": null,
   "metadata": {},
   "outputs": [],
   "source": [
    "from scipy import stats\n",
    "rng = np.random.default_rng()\n",
    "pts = 1000\n",
    "a = rng.normal(0, 1, size=pts)\n",
    "b = rng.normal(2, 1, size=pts)\n",
    "x = np.concatenate((a, b))\n",
    "k2, p = stats.normaltest(x)\n",
    "alpha = 1e-3\n",
    "print(\"p = {:g}\".format(p))\n",
    "# p = 8.4713e-19\n",
    "if p < alpha:  # null hypothesis: x comes from a normal distribution\n",
    "    print(\"The null hypothesis can be rejected\")\n",
    "else:\n",
    "    print(\"The null hypothesis cannot be rejected\")\n",
    "# The null hypothesis can be rejected"
   ]
  },
  {
   "cell_type": "code",
   "execution_count": null,
   "metadata": {},
   "outputs": [],
   "source": [
    "# is_normal(b)"
   ]
  },
  {
   "cell_type": "code",
   "execution_count": null,
   "metadata": {},
   "outputs": [],
   "source": [
    "plt.hist(x)"
   ]
  },
  {
   "cell_type": "code",
   "execution_count": null,
   "metadata": {},
   "outputs": [],
   "source": []
  }
 ],
 "metadata": {
  "kernelspec": {
   "display_name": "mienv",
   "language": "python",
   "name": "mienv"
  },
  "language_info": {
   "codemirror_mode": {
    "name": "ipython",
    "version": 3
   },
   "file_extension": ".py",
   "mimetype": "text/x-python",
   "name": "python",
   "nbconvert_exporter": "python",
   "pygments_lexer": "ipython3",
   "version": "3.7.9"
  }
 },
 "nbformat": 4,
 "nbformat_minor": 4
}
