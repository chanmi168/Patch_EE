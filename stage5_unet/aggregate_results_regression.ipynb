{
 "cells": [
  {
   "cell_type": "code",
   "execution_count": 1,
   "metadata": {},
   "outputs": [],
   "source": [
    "import numpy as np\n",
    "import random\n",
    "\n",
    "from sklearn.datasets import fetch_openml\n",
    "from sklearn.utils import shuffle\n",
    "from sklearn.preprocessing import StandardScaler\n",
    "from sklearn.decomposition import PCA\n",
    "from sklearn.metrics import r2_score\n",
    "\n",
    "from tqdm import tqdm\n",
    "from tqdm import trange\n",
    "import time\n",
    "\n",
    "import os\n",
    "import math\n",
    "from math import sin\n",
    "from icecream import ic\n",
    "import json\n",
    "import argparse\n",
    "\n",
    "# checklist 1: uncomment matplotlib.use('Agg')\n",
    "import matplotlib\n",
    "# matplotlib.use('Agg')\n",
    "import matplotlib.pyplot as plt\n",
    "plt.style.use('seaborn-white')\n",
    "matplotlib.rc( 'savefig', facecolor = 'white' )\n",
    "from matplotlib import pyplot\n",
    "from matplotlib.colors import LinearSegmentedColormap\n",
    "from mpl_toolkits.axes_grid1.axes_divider import make_axes_locatable\n",
    "from matplotlib.ticker import (MultipleLocator, AutoMinorLocator)\n",
    "import matplotlib.gridspec as gridspec\n",
    "# plt.rcParams[\"font.family\"] = \"Times New Roman\"\n",
    "%matplotlib inline  \n",
    "\n",
    "# plt.style.use('dark_background')\n",
    "\n",
    "from scipy.io import loadmat\n",
    "import scipy\n",
    "from scipy import signal\n",
    "from scipy.fftpack import fft, ifft\n",
    "from scipy.signal import hilbert, chirp\n",
    "from scipy.signal import find_peaks\n",
    "from scipy.interpolate import interp1d\n",
    "\n",
    "i_seed = 0\n",
    "\n",
    "import torch\n",
    "from torch.utils.data import Dataset, DataLoader\n",
    "import torch.nn as nn\n",
    "import torch.nn.functional as F\n",
    "import torchvision\n",
    "from torchvision import transforms, datasets, models\n",
    "from torchsummary import summary\n",
    "\n",
    "import PIL\n",
    "\n",
    "import sys\n",
    "\n",
    "sys.path.append('../') # add this line so Data and data are visible in this file\n",
    "sys.path.append('../../') # add this line so Data and data are visible in this file\n",
    "sys.path.append('../PatchWand/') # add this line so Data and data are visible in this file\n",
    "\n",
    "# from plotting_tools import *\n",
    "# from preprocessing import *\n",
    "# from feature_extraction import *\n",
    "# from data_pulling import *\n",
    "# from setting import *\n",
    "# from surrogate_extraction import *\n",
    "# from evaluate import *\n",
    "# from training_util import *\n",
    "# from dataset_util import *\n",
    "# from evaluation_util import *\n",
    "\n",
    "from plotting_tools import *\n",
    "from preprocessing import *\n",
    "from setting import *\n",
    "from surrogate_extraction import *\n",
    "from dataIO import *\n",
    "from filters import *\n",
    "from spectral_module import *\n",
    "from stage4_regression import *\n",
    "# from unet_extension.dataset_util import *\n",
    "# from unet_extension.evaluation_util import *\n",
    "# from unet_extension.models import *\n",
    "# from unet_extension.training_util import *\n",
    "\n",
    "\n",
    "import datetime\n",
    "import time\n",
    "\n",
    "# checklist 2: comment out all magic command\n",
    "from importlib import reload\n",
    "%load_ext autoreload\n",
    "%autoreload 2\n"
   ]
  },
  {
   "cell_type": "code",
   "execution_count": null,
   "metadata": {},
   "outputs": [],
   "source": []
  },
  {
   "cell_type": "code",
   "execution_count": null,
   "metadata": {},
   "outputs": [],
   "source": []
  },
  {
   "cell_type": "code",
   "execution_count": null,
   "metadata": {},
   "outputs": [],
   "source": []
  },
  {
   "cell_type": "code",
   "execution_count": null,
   "metadata": {},
   "outputs": [],
   "source": []
  },
  {
   "cell_type": "code",
   "execution_count": 2,
   "metadata": {},
   "outputs": [],
   "source": [
    "# Fs = FS_RESAMPLE\n",
    "\n",
    "# label_names = ['br', 'heart_rate_cosmed', 'rer', 'vco2_ml_min', 've', 'vo2_ml_min', 'vt']\n",
    "# sig_names = ['ECG', 'accelX', 'accelY', 'accelZ']"
   ]
  },
  {
   "cell_type": "code",
   "execution_count": 3,
   "metadata": {},
   "outputs": [
    {
     "name": "stdout",
     "output_type": "stream",
     "text": [
      "Namespace(input_folder='../../data/stage4_UNet/', output_folder='../../data/stage5_UNet/', training_params_file='training_params_list.json')\n"
     ]
    }
   ],
   "source": [
    "parser = argparse.ArgumentParser(description='RR_estimate')\n",
    "parser.add_argument('--input_folder', metavar='input_folder', help='input_folder',\n",
    "                    default='../')\n",
    "parser.add_argument('--output_folder', metavar='output_folder', help='output_folder',\n",
    "                    default='../')\n",
    "parser.add_argument('--training_params_file', metavar='training_params_file', help='training_params_file',\n",
    "                    default='training_params_list.json')\n",
    "\n",
    "\n",
    "# checklist 3: comment first line, uncomment second line\n",
    "# args = parser.parse_args(['--input_folder', '../../../covid/results/stage3/win60_overlap95_seq20_ECG_AMpt_norm_script1/', \n",
    "args = parser.parse_args(['--input_folder', '../../data/stage4_UNet/', \n",
    "# args = parser.parse_args(['--input_folder', '../../data/stage4_UNet_backup/', \n",
    "                          '--output_folder', '../../data/stage5_UNet/'])\n",
    "                          \n",
    "# args = parser.parse_args()\n",
    "print(args)"
   ]
  },
  {
   "cell_type": "code",
   "execution_count": 4,
   "metadata": {},
   "outputs": [],
   "source": [
    "inputdir = args.input_folder\n",
    "outputdir = args.output_folder\n",
    "# outputdir = outputdir+inputdir.split('/')[-2]+'/'\n",
    "\n",
    "# training_params_file = args.training_params_file"
   ]
  },
  {
   "cell_type": "code",
   "execution_count": 5,
   "metadata": {},
   "outputs": [],
   "source": [
    "steps_thre = 25\n",
    "# list_modalitites = ['SCG', 'PPG', 'ECG', 'SCGPPG', 'ECGSCG', 'ECGPPG', 'All']\n",
    "\n",
    "# list_modalitites = ['SCG-select',\n",
    "#                     'ECG-SR+SCG-select',\n",
    "#                     'ECG-SR',\n",
    "#                     'PPG-select',\n",
    "#                     'SCG-select+PPG-select',\n",
    "#                     'ECG-SR+PPG-select',\n",
    "#                     'ECG-SR+SCG-select+PPG-select',\n",
    "#                     'ECG-SR+PPG']\n",
    "\n",
    "list_modalitites = ['ECG-SR+PPG-select']\n",
    "\n",
    "\n",
    "\n",
    "# list_TF_types = ['source', 'FT_top', 'FT_top2', 'FT_all', 'target']\n",
    "\n",
    "\n",
    "# list_modalitites = ['PPG', 'ECG', 'SCG']\n",
    "\n",
    "# list_method = ['ST', 'U-Net']\n",
    "# list_method = ['ST', 'U-Net', 'U-Net RQI_fft', 'U-Net RQI_kurtosis']\n",
    "# list_method = ['ST', 'U-Net', 'U-Net-SE_block', 'ST RQI_kurtosis', 'U-Net RQI_kurtosis', 'U-Net-SE_block RQI_kurtosis', 'U-Net-SE_block RQI_fft']\n",
    "# list_method = ['ST', 'U-Net', 'U-Net-SE_block', 'ST RQI_kurtosis', 'U-Net RQI_kurtosis', 'U-Net RQI_fft']\n",
    "# list_method = ['ST', 'U-Net', 'ST RQI_fft', 'U-Net RQI_fft']\n",
    "# list_method = ['ST', 'ST RQI_fft','U-Net-AT_block', 'U-Net-AT_block RQI_fft']\n",
    "list_method = ['ST', 'ST RQI_fft', 'U-Net', 'U-Net RQI_fft', 'U-Net-AT_block', 'U-Net-AT_block RQI_fft']\n",
    "\n",
    "list_TF_types = ['source', 'target']\n",
    "# list_TF_types = ['pretrain', 'source', 'target']\n",
    "domain_name = 'CDC_dataset'\n",
    "# domain_name = 'GT_dataset'\n",
    "\n",
    "act_type = 'walk'\n",
    "\n",
    "# all act\n",
    "# array([ 0.,  2.,  1.,  3.,  4.,  5.,  6., 10.])\n",
    "\n",
    "if act_type=='rest':\n",
    "#     reject_act = [1, 2, 3, 4, 5, 6, 10] # keep 0\n",
    "    task_ids = [0]\n",
    "\n",
    "elif act_type=='6MWT':\n",
    "#     reject_act = [0 ,1, 2, 3, 4, 5, 10] # keep 6\n",
    "    task_ids = [6]\n",
    "\n",
    "elif act_type=='Run':\n",
    "#     reject_act = [0 ,1, 2, 3, 4, 5, 6] # keep 10\n",
    "    task_ids = [10]\n",
    "\n",
    "elif act_type=='ER':\n",
    "#     reject_act = [0, 6, 10] # keep 1, 2, 3, 4\n",
    "    task_ids = [1,2,3,4,5]\n",
    "\n",
    "elif act_type=='stationary':\n",
    "#     reject_act = [6, 10] # keep 1, 2, 3, 4\n",
    "    task_ids = [0,1,2,3,4,5]\n",
    "    \n",
    "elif act_type=='walk':\n",
    "    task_ids = [6,7,9]"
   ]
  },
  {
   "cell_type": "code",
   "execution_count": 6,
   "metadata": {},
   "outputs": [
    {
     "data": {
      "text/plain": [
       "'walk'"
      ]
     },
     "execution_count": 6,
     "metadata": {},
     "output_type": "execute_result"
    }
   ],
   "source": [
    "act_type"
   ]
  },
  {
   "cell_type": "code",
   "execution_count": 7,
   "metadata": {},
   "outputs": [],
   "source": [
    "variant = 'baseline'\n",
    "# list_variants = ['baseline', 'SE_block']\n",
    "# list_variants = ['baseline']\n",
    "list_variants = ['baseline', 'AT_block']\n",
    "# list_variants = ['AT_block']\n",
    "\n",
    "# variant = 'SE_block'"
   ]
  },
  {
   "cell_type": "code",
   "execution_count": 8,
   "metadata": {},
   "outputs": [],
   "source": [
    "# inputdir"
   ]
  },
  {
   "cell_type": "code",
   "execution_count": null,
   "metadata": {},
   "outputs": [],
   "source": []
  },
  {
   "cell_type": "code",
   "execution_count": 9,
   "metadata": {},
   "outputs": [],
   "source": [
    "if domain_name=='GT_dataset':\n",
    "\n",
    "    home = expanduser(\"~\")\n",
    "\n",
    "    filename_subinfo = home+'/'+ 'Estimation_RR/covid/Mobashir_CosmedWearable/Cosmed Wearable Subject Information.xlsx'\n",
    "    df_subinfo = pd.read_excel(filename_subinfo) \n",
    "    df_subinfo\n",
    "\n",
    "    df_subinfo = df_subinfo.rename(columns={'Height in cm': 'Height', 'Weight in Kg': 'Weight', 'Subject ID':'Subject_ID'})\n",
    "\n",
    "    df_subinfo['Subject_ID'] = df_subinfo['Subject_ID'].apply(lambda x: int(x.split('M')[0].split('F')[0].split('CW')[1]))\n",
    "    df_subinfo = df_subinfo[['Subject_ID', 'Age', 'Height', 'Weight', 'Gender']].drop_duplicates().reset_index(drop=True)\n",
    "    df_subinfo['BMI'] = df_subinfo['Weight'].values / (df_subinfo['Height'].values/100)**2\n",
    "    df_subinfo['Fitzpatrick'] = -1\n",
    "    \n",
    "elif domain_name=='CDC_dataset':\n",
    "\n",
    "    filename_subinfo = '../../data/raw/FS Subject Information.xlsx'\n",
    "    df_subinfo = pd.read_excel(filename_subinfo, sheet_name='Subject info') \n",
    "\n",
    "    i_sub_last = np.where(df_subinfo['Subject_ID'].isnull()==True)[0][0]\n",
    "    df_subinfo = df_subinfo[:i_sub_last]\n",
    "\n",
    "    df_subinfo = df_subinfo[['Subject_ID', 'Age', 'Height(cm)', 'Weight(Kg)', 'Gender(0=Male,1=Female)', 'Fitzpatrick', '6MWT distance (m)', '6MWT-R distance (m)', 'Fitzpatrick']]\n",
    "    df_subinfo = df_subinfo.rename(columns={'Height(cm)': 'Height', 'Weight(Kg)': 'Weight', 'Gender(0=Male,1=Female)': 'Gender'})\n",
    "    df_subinfo['BMI'] = df_subinfo['Weight'].values / (df_subinfo['Height'].values/100)**2\n",
    "    df_subinfo['Subject_ID'] = df_subinfo['Subject_ID'].astype(int)\n",
    "    "
   ]
  },
  {
   "cell_type": "code",
   "execution_count": 10,
   "metadata": {},
   "outputs": [
    {
     "data": {
      "text/html": [
       "<div>\n",
       "<style scoped>\n",
       "    .dataframe tbody tr th:only-of-type {\n",
       "        vertical-align: middle;\n",
       "    }\n",
       "\n",
       "    .dataframe tbody tr th {\n",
       "        vertical-align: top;\n",
       "    }\n",
       "\n",
       "    .dataframe thead th {\n",
       "        text-align: right;\n",
       "    }\n",
       "</style>\n",
       "<table border=\"1\" class=\"dataframe\">\n",
       "  <thead>\n",
       "    <tr style=\"text-align: right;\">\n",
       "      <th></th>\n",
       "      <th>Subject_ID</th>\n",
       "      <th>Age</th>\n",
       "      <th>Height</th>\n",
       "      <th>Weight</th>\n",
       "      <th>Gender</th>\n",
       "      <th>Fitzpatrick</th>\n",
       "      <th>6MWT distance (m)</th>\n",
       "      <th>6MWT-R distance (m)</th>\n",
       "      <th>Fitzpatrick</th>\n",
       "      <th>BMI</th>\n",
       "    </tr>\n",
       "  </thead>\n",
       "  <tbody>\n",
       "    <tr>\n",
       "      <th>0</th>\n",
       "      <td>101</td>\n",
       "      <td>26.0</td>\n",
       "      <td>172.00</td>\n",
       "      <td>90.00</td>\n",
       "      <td>1</td>\n",
       "      <td>2.0</td>\n",
       "      <td>286.500</td>\n",
       "      <td>264.550</td>\n",
       "      <td>2.0</td>\n",
       "      <td>30.421850</td>\n",
       "    </tr>\n",
       "    <tr>\n",
       "      <th>1</th>\n",
       "      <td>102</td>\n",
       "      <td>30.0</td>\n",
       "      <td>177.80</td>\n",
       "      <td>75.00</td>\n",
       "      <td>1</td>\n",
       "      <td>2.0</td>\n",
       "      <td>280.720</td>\n",
       "      <td>272.090</td>\n",
       "      <td>2.0</td>\n",
       "      <td>23.724537</td>\n",
       "    </tr>\n",
       "    <tr>\n",
       "      <th>2</th>\n",
       "      <td>103</td>\n",
       "      <td>29.0</td>\n",
       "      <td>174.00</td>\n",
       "      <td>70.00</td>\n",
       "      <td>1</td>\n",
       "      <td>2.0</td>\n",
       "      <td>302.100</td>\n",
       "      <td>289.380</td>\n",
       "      <td>2.0</td>\n",
       "      <td>23.120624</td>\n",
       "    </tr>\n",
       "    <tr>\n",
       "      <th>3</th>\n",
       "      <td>104</td>\n",
       "      <td>21.0</td>\n",
       "      <td>185.40</td>\n",
       "      <td>79.30</td>\n",
       "      <td>1</td>\n",
       "      <td>1.0</td>\n",
       "      <td>302.460</td>\n",
       "      <td>290.840</td>\n",
       "      <td>1.0</td>\n",
       "      <td>23.070326</td>\n",
       "    </tr>\n",
       "    <tr>\n",
       "      <th>4</th>\n",
       "      <td>105</td>\n",
       "      <td>21.0</td>\n",
       "      <td>177.80</td>\n",
       "      <td>68.00</td>\n",
       "      <td>1</td>\n",
       "      <td>1.0</td>\n",
       "      <td>311.200</td>\n",
       "      <td>303.960</td>\n",
       "      <td>1.0</td>\n",
       "      <td>21.510247</td>\n",
       "    </tr>\n",
       "    <tr>\n",
       "      <th>5</th>\n",
       "      <td>106</td>\n",
       "      <td>28.0</td>\n",
       "      <td>178.00</td>\n",
       "      <td>76.00</td>\n",
       "      <td>1</td>\n",
       "      <td>1.0</td>\n",
       "      <td>408.000</td>\n",
       "      <td>379.080</td>\n",
       "      <td>1.0</td>\n",
       "      <td>23.986870</td>\n",
       "    </tr>\n",
       "    <tr>\n",
       "      <th>6</th>\n",
       "      <td>107</td>\n",
       "      <td>27.0</td>\n",
       "      <td>194.00</td>\n",
       "      <td>90.72</td>\n",
       "      <td>1</td>\n",
       "      <td>1.0</td>\n",
       "      <td>296.150</td>\n",
       "      <td>288.680</td>\n",
       "      <td>1.0</td>\n",
       "      <td>24.104581</td>\n",
       "    </tr>\n",
       "    <tr>\n",
       "      <th>7</th>\n",
       "      <td>108</td>\n",
       "      <td>24.0</td>\n",
       "      <td>180.34</td>\n",
       "      <td>70.76</td>\n",
       "      <td>1</td>\n",
       "      <td>2.0</td>\n",
       "      <td>240.240</td>\n",
       "      <td>209.770</td>\n",
       "      <td>2.0</td>\n",
       "      <td>21.757235</td>\n",
       "    </tr>\n",
       "    <tr>\n",
       "      <th>8</th>\n",
       "      <td>109</td>\n",
       "      <td>21.0</td>\n",
       "      <td>160.02</td>\n",
       "      <td>52.16</td>\n",
       "      <td>2</td>\n",
       "      <td>2.0</td>\n",
       "      <td>578.900</td>\n",
       "      <td>537.029</td>\n",
       "      <td>2.0</td>\n",
       "      <td>20.369907</td>\n",
       "    </tr>\n",
       "    <tr>\n",
       "      <th>9</th>\n",
       "      <td>110</td>\n",
       "      <td>22.0</td>\n",
       "      <td>182.88</td>\n",
       "      <td>93.00</td>\n",
       "      <td>1</td>\n",
       "      <td>3.0</td>\n",
       "      <td>578.760</td>\n",
       "      <td>574.140</td>\n",
       "      <td>3.0</td>\n",
       "      <td>27.806769</td>\n",
       "    </tr>\n",
       "    <tr>\n",
       "      <th>10</th>\n",
       "      <td>111</td>\n",
       "      <td>28.0</td>\n",
       "      <td>153.00</td>\n",
       "      <td>45.00</td>\n",
       "      <td>2</td>\n",
       "      <td>1.0</td>\n",
       "      <td>611.520</td>\n",
       "      <td>573.940</td>\n",
       "      <td>1.0</td>\n",
       "      <td>19.223376</td>\n",
       "    </tr>\n",
       "    <tr>\n",
       "      <th>11</th>\n",
       "      <td>112</td>\n",
       "      <td>24.0</td>\n",
       "      <td>180.34</td>\n",
       "      <td>61.24</td>\n",
       "      <td>1</td>\n",
       "      <td>2.0</td>\n",
       "      <td>574.840</td>\n",
       "      <td>569.120</td>\n",
       "      <td>2.0</td>\n",
       "      <td>18.830032</td>\n",
       "    </tr>\n",
       "    <tr>\n",
       "      <th>12</th>\n",
       "      <td>113</td>\n",
       "      <td>24.0</td>\n",
       "      <td>198.12</td>\n",
       "      <td>104.33</td>\n",
       "      <td>1</td>\n",
       "      <td>1.0</td>\n",
       "      <td>565.820</td>\n",
       "      <td>459.240</td>\n",
       "      <td>1.0</td>\n",
       "      <td>26.579853</td>\n",
       "    </tr>\n",
       "    <tr>\n",
       "      <th>13</th>\n",
       "      <td>114</td>\n",
       "      <td>27.0</td>\n",
       "      <td>175.00</td>\n",
       "      <td>60.00</td>\n",
       "      <td>1</td>\n",
       "      <td>1.0</td>\n",
       "      <td>605.200</td>\n",
       "      <td>589.650</td>\n",
       "      <td>1.0</td>\n",
       "      <td>19.591837</td>\n",
       "    </tr>\n",
       "    <tr>\n",
       "      <th>14</th>\n",
       "      <td>115</td>\n",
       "      <td>22.0</td>\n",
       "      <td>175.26</td>\n",
       "      <td>54.43</td>\n",
       "      <td>1</td>\n",
       "      <td>4.0</td>\n",
       "      <td>666.885</td>\n",
       "      <td>546.770</td>\n",
       "      <td>4.0</td>\n",
       "      <td>17.720367</td>\n",
       "    </tr>\n",
       "    <tr>\n",
       "      <th>15</th>\n",
       "      <td>116</td>\n",
       "      <td>26.0</td>\n",
       "      <td>160.00</td>\n",
       "      <td>56.70</td>\n",
       "      <td>2</td>\n",
       "      <td>1.0</td>\n",
       "      <td>524.160</td>\n",
       "      <td>458.640</td>\n",
       "      <td>1.0</td>\n",
       "      <td>22.148437</td>\n",
       "    </tr>\n",
       "    <tr>\n",
       "      <th>16</th>\n",
       "      <td>117</td>\n",
       "      <td>24.0</td>\n",
       "      <td>155.00</td>\n",
       "      <td>38.50</td>\n",
       "      <td>2</td>\n",
       "      <td>3.0</td>\n",
       "      <td>578.760</td>\n",
       "      <td>464.220</td>\n",
       "      <td>3.0</td>\n",
       "      <td>16.024974</td>\n",
       "    </tr>\n",
       "    <tr>\n",
       "      <th>17</th>\n",
       "      <td>118</td>\n",
       "      <td>23.0</td>\n",
       "      <td>172.72</td>\n",
       "      <td>69.40</td>\n",
       "      <td>2</td>\n",
       "      <td>2.0</td>\n",
       "      <td>589.680</td>\n",
       "      <td>505.820</td>\n",
       "      <td>2.0</td>\n",
       "      <td>23.263455</td>\n",
       "    </tr>\n",
       "    <tr>\n",
       "      <th>18</th>\n",
       "      <td>119</td>\n",
       "      <td>20.0</td>\n",
       "      <td>170.18</td>\n",
       "      <td>68.04</td>\n",
       "      <td>2</td>\n",
       "      <td>2.0</td>\n",
       "      <td>580.350</td>\n",
       "      <td>494.300</td>\n",
       "      <td>2.0</td>\n",
       "      <td>23.493475</td>\n",
       "    </tr>\n",
       "    <tr>\n",
       "      <th>19</th>\n",
       "      <td>120</td>\n",
       "      <td>25.0</td>\n",
       "      <td>161.00</td>\n",
       "      <td>52.00</td>\n",
       "      <td>2</td>\n",
       "      <td>2.0</td>\n",
       "      <td>543.280</td>\n",
       "      <td>546.000</td>\n",
       "      <td>2.0</td>\n",
       "      <td>20.060954</td>\n",
       "    </tr>\n",
       "    <tr>\n",
       "      <th>20</th>\n",
       "      <td>121</td>\n",
       "      <td>24.0</td>\n",
       "      <td>157.48</td>\n",
       "      <td>55.34</td>\n",
       "      <td>2</td>\n",
       "      <td>1.0</td>\n",
       "      <td>614.470</td>\n",
       "      <td>546.000</td>\n",
       "      <td>1.0</td>\n",
       "      <td>22.314561</td>\n",
       "    </tr>\n",
       "    <tr>\n",
       "      <th>21</th>\n",
       "      <td>212</td>\n",
       "      <td>24.0</td>\n",
       "      <td>180.34</td>\n",
       "      <td>57.60</td>\n",
       "      <td>1</td>\n",
       "      <td>2.0</td>\n",
       "      <td>596.180</td>\n",
       "      <td>530.060</td>\n",
       "      <td>2.0</td>\n",
       "      <td>17.710807</td>\n",
       "    </tr>\n",
       "  </tbody>\n",
       "</table>\n",
       "</div>"
      ],
      "text/plain": [
       "    Subject_ID   Age  Height  Weight Gender  Fitzpatrick  6MWT distance (m)  \\\n",
       "0          101  26.0  172.00   90.00      1          2.0            286.500   \n",
       "1          102  30.0  177.80   75.00      1          2.0            280.720   \n",
       "2          103  29.0  174.00   70.00      1          2.0            302.100   \n",
       "3          104  21.0  185.40   79.30      1          1.0            302.460   \n",
       "4          105  21.0  177.80   68.00      1          1.0            311.200   \n",
       "5          106  28.0  178.00   76.00      1          1.0            408.000   \n",
       "6          107  27.0  194.00   90.72      1          1.0            296.150   \n",
       "7          108  24.0  180.34   70.76      1          2.0            240.240   \n",
       "8          109  21.0  160.02   52.16      2          2.0            578.900   \n",
       "9          110  22.0  182.88   93.00      1          3.0            578.760   \n",
       "10         111  28.0  153.00   45.00      2          1.0            611.520   \n",
       "11         112  24.0  180.34   61.24      1          2.0            574.840   \n",
       "12         113  24.0  198.12  104.33      1          1.0            565.820   \n",
       "13         114  27.0  175.00   60.00      1          1.0            605.200   \n",
       "14         115  22.0  175.26   54.43      1          4.0            666.885   \n",
       "15         116  26.0  160.00   56.70      2          1.0            524.160   \n",
       "16         117  24.0  155.00   38.50      2          3.0            578.760   \n",
       "17         118  23.0  172.72   69.40      2          2.0            589.680   \n",
       "18         119  20.0  170.18   68.04      2          2.0            580.350   \n",
       "19         120  25.0  161.00   52.00      2          2.0            543.280   \n",
       "20         121  24.0  157.48   55.34      2          1.0            614.470   \n",
       "21         212  24.0  180.34   57.60      1          2.0            596.180   \n",
       "\n",
       "    6MWT-R distance (m)  Fitzpatrick        BMI  \n",
       "0               264.550          2.0  30.421850  \n",
       "1               272.090          2.0  23.724537  \n",
       "2               289.380          2.0  23.120624  \n",
       "3               290.840          1.0  23.070326  \n",
       "4               303.960          1.0  21.510247  \n",
       "5               379.080          1.0  23.986870  \n",
       "6               288.680          1.0  24.104581  \n",
       "7               209.770          2.0  21.757235  \n",
       "8               537.029          2.0  20.369907  \n",
       "9               574.140          3.0  27.806769  \n",
       "10              573.940          1.0  19.223376  \n",
       "11              569.120          2.0  18.830032  \n",
       "12              459.240          1.0  26.579853  \n",
       "13              589.650          1.0  19.591837  \n",
       "14              546.770          4.0  17.720367  \n",
       "15              458.640          1.0  22.148437  \n",
       "16              464.220          3.0  16.024974  \n",
       "17              505.820          2.0  23.263455  \n",
       "18              494.300          2.0  23.493475  \n",
       "19              546.000          2.0  20.060954  \n",
       "20              546.000          1.0  22.314561  \n",
       "21              530.060          2.0  17.710807  "
      ]
     },
     "execution_count": 10,
     "metadata": {},
     "output_type": "execute_result"
    }
   ],
   "source": [
    "df_subinfo"
   ]
  },
  {
   "cell_type": "code",
   "execution_count": null,
   "metadata": {},
   "outputs": [],
   "source": []
  },
  {
   "cell_type": "code",
   "execution_count": 11,
   "metadata": {},
   "outputs": [],
   "source": [
    "# # this function computes the threshold for RQI (defined as the value requires to get MAE<1BPM)\n",
    "#     RQI_name = 'RQI_kurtosis'\n",
    "\n",
    "#     df_RQI_results = get_df_RQI_results(df_outputlabel, RQI_name, steps_thre=steps_thre)\n",
    "#     i_RQI_threshold = np.argmin(np.abs(df_RQI_results['coverage'].values-95))\n",
    "#     RQI_threshold = df_RQI_results.loc[i_RQI_threshold,:]['threshold']\n",
    "\n",
    "# return RQI_threshold\n",
    "\n",
    "# # MAE_diff = df_RQI_results['MAE'].values-1\n",
    "# # #     MAE_diff = df_RQI_results['MAE'].values-1\n",
    "# # df_RQI_results['MAE_diff'] = MAE_diff\n",
    "\n",
    "# # #     print(df_RQI_results['coverage'].min(), df_RQI_results['coverage'].max())\n",
    "# # #     sys.exit()\n",
    "\n",
    "# # #     print(MAE_diff)\n",
    "\n",
    "# # # if MAE for not all thresholds is less than 1\n",
    "# # if (MAE_diff<0).sum()!=0:\n",
    "# #     # find all indices where MAE_diff < 0 and MAE_diff = maximum MAE\n",
    "# #     # this implies finding the largest threshold to reject data (large is better because we can maximize coverage)\n",
    "# #     i_RQI_threshold = np.where((MAE_diff<0) & (MAE_diff==MAE_diff[MAE_diff<0].max()))[0]\n",
    "# #     # pick any one (the last one then)\n",
    "# #     i_RQI_threshold = i_RQI_threshold[-1]\n",
    "# #     # set the threshold to this value\n",
    "# #     RQI_threshold = df_RQI_results.loc[i_RQI_threshold,:]['threshold']\n",
    "# # # if MAE for all thresholds is less than 1\n",
    "# # else:        \n",
    "# #     if RQI_name == 'RQI_fft':\n",
    "# #         RQI_threshold=0.55\n",
    "# #     elif RQI_name == 'RQI_kurtosis':\n",
    "# #         RQI_threshold=0"
   ]
  },
  {
   "cell_type": "code",
   "execution_count": 12,
   "metadata": {},
   "outputs": [],
   "source": [
    "# df_outputlabel"
   ]
  },
  {
   "cell_type": "code",
   "execution_count": null,
   "metadata": {},
   "outputs": [],
   "source": []
  },
  {
   "cell_type": "code",
   "execution_count": 13,
   "metadata": {},
   "outputs": [],
   "source": [
    "def get_RQI_threshold(df_outputlabel, RQI_name, steps_thre=10):\n",
    "    # this function computes the threshold for RQI (defined as the value requires to get MAE<1BPM)\n",
    "    df_RQI_results = get_df_RQI_results(df_outputlabel, RQI_name, steps_thre=steps_thre)\n",
    "#     MAE_diff = df_RQI_results['MAE'].values-1\n",
    "#     MAE_diff = df_RQI_results['MAE'].values-1\n",
    "#     df_RQI_results['MAE_diff'] = MAE_diff\n",
    "    \n",
    "    coverage_thre = 97\n",
    "\n",
    "    df_RQI_results = get_df_RQI_results(df_outputlabel, RQI_name, steps_thre=steps_thre)\n",
    "    i_RQI_threshold = np.argmin(np.abs(df_RQI_results['coverage'].values-coverage_thre))\n",
    "    RQI_threshold = df_RQI_results.loc[i_RQI_threshold,:]['threshold']\n",
    "\n",
    "    return RQI_threshold\n",
    "\n",
    "\n",
    "def get_RQI_threshold2(df_outputlabel, RQI_name, steps_thre=10):\n",
    "    # this function computes the threshold for RQI (defined as the value requires to get MAE<1BPM)\n",
    "#     coverage_thre = 97\n",
    "\n",
    "#     df_RQI_results = get_df_RQI_results(df_outputlabel, RQI_name, steps_thre=steps_thre)\n",
    "#     i_RQI_threshold = np.argmin(np.abs(df_RQI_results['coverage'].values-coverage_thre))\n",
    "#     RQI_threshold = df_RQI_results.loc[i_RQI_threshold,:]['threshold']\n",
    "    \n",
    "    # the lowest 10%\n",
    "    RQI_threshold = np.percentile(df_outputlabel[RQI_name].values, 20)\n",
    "\n",
    "    return RQI_threshold\n",
    "\n",
    "\n",
    "\n",
    "def get_RQI_threshold1(df_outputlabel, RQI_name, steps_thre=10):\n",
    "    # this function computes the threshold for RQI (defined as the value requires to get MAE<1BPM)\n",
    "    df_RQI_results = get_df_RQI_results(df_outputlabel, RQI_name, steps_thre=steps_thre)\n",
    "#     MAE_diff = df_RQI_results['MAE'].values-1\n",
    "    MAE_diff = df_RQI_results['MAE'].values-1.5\n",
    "#     MAE_diff = df_RQI_results['MAE'].values-1\n",
    "    df_RQI_results['MAE_diff'] = MAE_diff\n",
    "    \n",
    "#     print(df_RQI_results['coverage'].min(), df_RQI_results['coverage'].max())\n",
    "#     sys.exit()\n",
    "    \n",
    "    # if MAE for not all thresholds is less than 1\n",
    "    if (MAE_diff<0).sum()!=0:\n",
    "        # find all indices where MAE_diff < 0 and MAE_diff = maximum MAE\n",
    "        # this implies finding the largest threshold to reject data (large is better because we can maximize coverage)\n",
    "        i_RQI_threshold = np.where((MAE_diff<0) & (MAE_diff==MAE_diff[MAE_diff<0].max()))[0]\n",
    "        # pick any one (the last one then)\n",
    "        i_RQI_threshold = i_RQI_threshold[-1]\n",
    "        # set the threshold to this value\n",
    "        RQI_threshold = df_RQI_results.loc[i_RQI_threshold,:]['threshold']\n",
    "    # if MAE for all thresholds is less than 1\n",
    "    else:        \n",
    "        if RQI_name == 'RQI_fft':\n",
    "            RQI_threshold=0.55\n",
    "        elif RQI_name == 'RQI_kurtosis':\n",
    "            RQI_threshold=0\n",
    "\n",
    "#         i_RQI_threshold = MAE_diff.shape[0]//2\n",
    "        \n",
    "#     RQI_threshold = df_RQI_results.loc[i_RQI_threshold,:]['threshold'].values\n",
    "\n",
    "    # i_RQI_threshold/ \n",
    "#     return RQI_threshold\n",
    "    return RQI_threshold"
   ]
  },
  {
   "cell_type": "code",
   "execution_count": 14,
   "metadata": {},
   "outputs": [],
   "source": [
    "# data = df_outputlabel['RQI_kurtosis'].values\n",
    "# # k = 10\n",
    "# # idx = np.argpartition(aaa, k)\n",
    "# # the lowest 10%\n",
    "# value_low = np.percentile(data, 10)\n",
    "# # indices_CI = np.where((data<=value_up) & (data>=value_lw))[0]"
   ]
  },
  {
   "cell_type": "code",
   "execution_count": null,
   "metadata": {},
   "outputs": [],
   "source": []
  },
  {
   "cell_type": "code",
   "execution_count": null,
   "metadata": {},
   "outputs": [],
   "source": []
  },
  {
   "cell_type": "code",
   "execution_count": 15,
   "metadata": {},
   "outputs": [],
   "source": [
    "\n",
    "def get_mask_random(N_zeros, N_ones, i_seed=0):\n",
    "    # create a mask with N_zeros and N_ones\n",
    "    # default seed is 0\n",
    "    mask_random = [0] * N_zeros + [1] * N_ones\n",
    "    random.seed(i_seed)\n",
    "    random.shuffle(mask_random)\n",
    "    mask_random = np.asarray(mask_random).astype(bool)\n",
    "    return mask_random\n",
    "\n",
    "def get_df_RQI_results(df_outputlabel, RQI_name, steps_thre=10):\n",
    "    \n",
    "    df_RQI_results = pd.DataFrame()\n",
    "\n",
    "    label = df_outputlabel['label'].values\n",
    "    label_est = df_outputlabel['label_est'].values\n",
    "\n",
    "    if RQI_name!='random':\n",
    "        RQI_range = df_outputlabel[RQI_name].min(), df_outputlabel[RQI_name].max()\n",
    "    else:\n",
    "        RQI_range = [0,df_outputlabel.shape[0]]\n",
    "        \n",
    "        \n",
    "    for threshold in np.linspace(RQI_range[0],RQI_range[1],steps_thre, endpoint=False):\n",
    "#     for threshold in np.linspace(0,1,steps_thre, endpoint=True):\n",
    "# np.linspace(0,1,steps_thre, endpoint=True)\n",
    "        if RQI_name!='random':\n",
    "            mask_RQI = df_outputlabel[RQI_name] > threshold\n",
    "#             MAE, _ = get_MAE(label[mask_RQI], label_est[mask_RQI])\n",
    "        else:\n",
    "            # random rejection\n",
    "            N_zeros = int(threshold)\n",
    "            N_ones = df_outputlabel.shape[0] - N_zeros\n",
    "            mask_RQI = get_mask_random(N_zeros, N_ones)\n",
    "        \n",
    "        MAE, _ = get_MAE(label[mask_RQI], label_est[mask_RQI])\n",
    "\n",
    "        df_RQI_results = df_RQI_results.append(\n",
    "            pd.DataFrame(\n",
    "                {\n",
    "                    'threshold': threshold,\n",
    "                    'coverage': mask_RQI.mean()*100,\n",
    "                    'MAE': MAE,\n",
    "                    'N_subs': df_outputlabel['CV'][mask_RQI].unique().shape[0],\n",
    "                }, index=[0]\n",
    "        ))\n",
    "\n",
    "    df_RQI_results = df_RQI_results.reset_index(drop=True)\n",
    "    return df_RQI_results"
   ]
  },
  {
   "cell_type": "code",
   "execution_count": 16,
   "metadata": {},
   "outputs": [],
   "source": [
    "# np.linspace(0,1,steps_thre, endpoint=True)"
   ]
  },
  {
   "cell_type": "markdown",
   "metadata": {},
   "source": [
    "# get train data, compute threshold for RQI"
   ]
  },
  {
   "cell_type": "code",
   "execution_count": 17,
   "metadata": {},
   "outputs": [],
   "source": [
    "# # Estimation_EE/data/stage4_UNet/ECG/win60_overlap95_seq20_norm/target\n",
    "# csv_dir\n",
    "# sub_file"
   ]
  },
  {
   "cell_type": "code",
   "execution_count": 18,
   "metadata": {},
   "outputs": [],
   "source": [
    "# os.listdir(inputdir+domain_name)\n"
   ]
  },
  {
   "cell_type": "code",
   "execution_count": 19,
   "metadata": {},
   "outputs": [
    {
     "name": "stdout",
     "output_type": "stream",
     "text": [
      "ECG-SR+PPG-select directory does not exist: ../../data/stage4_UNet/CDC_dataset/ECG-SR+PPG-select/baseline/source/numeric_results/df_outputlabel_train_RR_cosmed.csv\n"
     ]
    }
   ],
   "source": [
    "\n",
    "df_outputlabel_ALL_train = pd.DataFrame()\n",
    "\n",
    "# for sub_file in os.listdir(inputdir):\n",
    "#     if '.ipynb_checkpoints'==sub_file:\n",
    "#         continue\n",
    "        \n",
    "for modalitity in list_modalitites:\n",
    "        \n",
    "    for TF_type in list_TF_types:\n",
    "        \n",
    "        for variant in list_variants:\n",
    "        \n",
    "    #         modalitity = sub_file\n",
    "\n",
    "            csv_dir = inputdir + domain_name + '/' + modalitity + '/{}/{}/numeric_results/df_outputlabel_train_RR_cosmed.csv'.format(variant, TF_type)\n",
    "            try:\n",
    "                df_outputlabel_train_RR_cosmed = pd.read_csv(csv_dir)  \n",
    "            except:\n",
    "                print(modalitity, 'directory does not exist:', csv_dir)\n",
    "                continue\n",
    "            df_outputlabel_train_RR_cosmed['RQI_ideal'] = -np.abs(df_outputlabel_train_RR_cosmed['label_est'] - df_outputlabel_train_RR_cosmed['label'])\n",
    "\n",
    "            df_outputlabel_train_RR_cosmed['modality'] = modalitity\n",
    "            \n",
    "#             if variant=='SE_block':\n",
    "            if 'block' in variant:\n",
    "                df_outputlabel_train_RR_cosmed['est_method'] = 'U-Net-' + variant\n",
    "            else:\n",
    "                df_outputlabel_train_RR_cosmed['est_method'] = 'U-Net'\n",
    "            df_outputlabel_train_RR_cosmed['TF_type'] = TF_type\n",
    "\n",
    "            df_outputlabel_ALL_train = df_outputlabel_ALL_train.append(df_outputlabel_train_RR_cosmed)"
   ]
  },
  {
   "cell_type": "code",
   "execution_count": null,
   "metadata": {},
   "outputs": [],
   "source": []
  },
  {
   "cell_type": "code",
   "execution_count": 20,
   "metadata": {},
   "outputs": [
    {
     "data": {
      "text/plain": [
       "array([0., 1., 2., 3., 4., 5.])"
      ]
     },
     "execution_count": 20,
     "metadata": {},
     "output_type": "execute_result"
    }
   ],
   "source": [
    "df_outputlabel_ALL_train['activity'].unique()"
   ]
  },
  {
   "cell_type": "code",
   "execution_count": null,
   "metadata": {},
   "outputs": [],
   "source": []
  },
  {
   "cell_type": "code",
   "execution_count": null,
   "metadata": {},
   "outputs": [],
   "source": []
  },
  {
   "cell_type": "code",
   "execution_count": 21,
   "metadata": {},
   "outputs": [],
   "source": [
    "# df_RQI_threshold"
   ]
  },
  {
   "cell_type": "code",
   "execution_count": 22,
   "metadata": {},
   "outputs": [],
   "source": [
    "df_RQI_threshold = pd.DataFrame()\n",
    "\n",
    "\n",
    "for CV in df_outputlabel_ALL_train['CV'].unique(): \n",
    "    for modality in df_outputlabel_ALL_train['modality'].unique():\n",
    "        for TF_type in df_outputlabel_ALL_train['TF_type'].unique():\n",
    "            for est_method in df_outputlabel_ALL_train['est_method'].unique():\n",
    "                df_outputlabel = df_outputlabel_ALL_train[(df_outputlabel_ALL_train['CV']==CV) & (df_outputlabel_ALL_train['modality']==modality) & (df_outputlabel_ALL_train['TF_type']==TF_type) & (df_outputlabel_ALL_train['est_method']==est_method)]\n",
    "\n",
    "                \n",
    "                if df_outputlabel.shape[0]==0:\n",
    "                    continue\n",
    "                RQI_fft_threshold = get_RQI_threshold(df_outputlabel, 'RQI_fft', steps_thre=steps_thre)\n",
    "                RQI_kurtosis_threshold = get_RQI_threshold(df_outputlabel, 'RQI_kurtosis', steps_thre=steps_thre)\n",
    "\n",
    "                df_RQI_threshold = df_RQI_threshold.append(\n",
    "                    pd.DataFrame(\n",
    "                        {\n",
    "                            'CV': CV,\n",
    "                            'modality': modality,\n",
    "                            'TF_type': TF_type,\n",
    "                            'est_method': est_method,\n",
    "                            'RQI_fft_threshold': RQI_fft_threshold,\n",
    "                            'RQI_kurtosis_threshold': RQI_kurtosis_threshold,\n",
    "                        }, index=[0]\n",
    "                    )\n",
    "                )\n"
   ]
  },
  {
   "cell_type": "code",
   "execution_count": 23,
   "metadata": {},
   "outputs": [
    {
     "data": {
      "text/plain": [
       "'target'"
      ]
     },
     "execution_count": 23,
     "metadata": {},
     "output_type": "execute_result"
    }
   ],
   "source": [
    "TF_type"
   ]
  },
  {
   "cell_type": "code",
   "execution_count": 24,
   "metadata": {},
   "outputs": [],
   "source": [
    "# RQI_fft_threshold, RQI_kurtosis_threshold"
   ]
  },
  {
   "cell_type": "code",
   "execution_count": null,
   "metadata": {},
   "outputs": [],
   "source": []
  },
  {
   "cell_type": "markdown",
   "metadata": {},
   "source": [
    "# get val data"
   ]
  },
  {
   "cell_type": "code",
   "execution_count": 25,
   "metadata": {},
   "outputs": [
    {
     "name": "stdout",
     "output_type": "stream",
     "text": [
      "ECG-SR+PPG-select directory does not exist\n"
     ]
    }
   ],
   "source": [
    "df_outputlabel_ALL = pd.DataFrame()\n",
    "   \n",
    "for modalitity in list_modalitites:\n",
    "        \n",
    "    for TF_type in list_TF_types:\n",
    "        \n",
    "        for variant in list_variants:\n",
    "\n",
    "    #         csv_dir = inputdir + sub_file + '/win60_overlap95_seq20_norm/numeric_results/df_outputlabel_val_RR_cosmed.csv'\n",
    "            csv_dir = inputdir + domain_name + '/' +  modalitity + '/{}/{}/numeric_results/df_outputlabel_val_RR_cosmed.csv'.format(variant, TF_type)\n",
    "\n",
    "            try:\n",
    "                df_outputlabel_val_RR_cosmed = pd.read_csv(csv_dir)  \n",
    "            except:\n",
    "                print(modalitity, 'directory does not exist')\n",
    "                continue\n",
    "    #         df_outputlabel_val_RR_cosmed = pd.read_csv(csv_dir)  \n",
    "            df_outputlabel_val_RR_cosmed['RQI_ideal'] = -np.abs(df_outputlabel_val_RR_cosmed['label_est'] - df_outputlabel_val_RR_cosmed['label'])\n",
    "\n",
    "    #         csv_dir = inputdir + sub_file + '/win60_overlap95_seq20_norm/numeric_results/df_outputlabel_val_input_RR_cosmed.csv'\n",
    "            csv_dir = inputdir + domain_name + '/' + modalitity + '/{}/{}/numeric_results/df_outputlabel_val_input_RR_cosmed.csv'.format(variant, TF_type)\n",
    "\n",
    "            try:\n",
    "                df_outputlabel_val_input_RR_cosmed = pd.read_csv(csv_dir)  \n",
    "            except:\n",
    "                print(modalitity, 'directory does not exist')\n",
    "                continue\n",
    "\n",
    "            df_outputlabel_val_input_RR_cosmed['RQI_ideal'] = -np.abs(df_outputlabel_val_input_RR_cosmed['label_est'] - df_outputlabel_val_input_RR_cosmed['label'])\n",
    "\n",
    "            df_outputlabel_val_input_RR_cosmed['modality'] = modalitity\n",
    "            df_outputlabel_val_input_RR_cosmed['est_method'] = 'ST'\n",
    "            df_outputlabel_val_input_RR_cosmed['TF_type'] = TF_type\n",
    "\n",
    "\n",
    "            df_outputlabel_val_RR_cosmed['modality'] = modalitity\n",
    "            \n",
    "\n",
    "#             if variant=='SE_block':\n",
    "            if 'block' in variant:\n",
    "                df_outputlabel_val_RR_cosmed['est_method'] = 'U-Net-' + variant\n",
    "            else:\n",
    "                df_outputlabel_val_RR_cosmed['est_method'] = 'U-Net'\n",
    "#             df_outputlabel_val_RR_cosmed['est_method'] = 'U-Net'\n",
    "            df_outputlabel_val_RR_cosmed['TF_type'] = TF_type\n",
    "\n",
    "            df_outputlabel_ALL = df_outputlabel_ALL.append(df_outputlabel_val_input_RR_cosmed)\n",
    "            df_outputlabel_ALL = df_outputlabel_ALL.append(df_outputlabel_val_RR_cosmed)"
   ]
  },
  {
   "cell_type": "code",
   "execution_count": 26,
   "metadata": {},
   "outputs": [
    {
     "data": {
      "text/plain": [
       "array([ 0.,  2.,  1.,  3.,  4.,  5.,  6.,  7.,  9., 10.])"
      ]
     },
     "execution_count": 26,
     "metadata": {},
     "output_type": "execute_result"
    }
   ],
   "source": [
    "df_outputlabel_ALL['activity'].unique()"
   ]
  },
  {
   "cell_type": "code",
   "execution_count": null,
   "metadata": {},
   "outputs": [],
   "source": []
  },
  {
   "cell_type": "code",
   "execution_count": null,
   "metadata": {},
   "outputs": [],
   "source": []
  },
  {
   "cell_type": "code",
   "execution_count": 27,
   "metadata": {},
   "outputs": [],
   "source": [
    "# mask_set = ~np.isin(df_outputlabel_ALL['activity'].values, reject_act)\n",
    "# df_outputlabel_ALL = df_outputlabel_ALL[mask_set]\n",
    "# df_outputlabel_ALL['activity'].unique()"
   ]
  },
  {
   "cell_type": "code",
   "execution_count": 28,
   "metadata": {},
   "outputs": [
    {
     "data": {
      "text/plain": [
       "array([6., 7., 9.])"
      ]
     },
     "execution_count": 28,
     "metadata": {},
     "output_type": "execute_result"
    }
   ],
   "source": [
    "mask_task = np.in1d(df_outputlabel_ALL['activity'].values, np.asarray(task_ids))\n",
    "df_outputlabel_ALL = df_outputlabel_ALL[mask_task]\n",
    "df_outputlabel_ALL['activity'].unique()\n"
   ]
  },
  {
   "cell_type": "code",
   "execution_count": null,
   "metadata": {},
   "outputs": [],
   "source": []
  },
  {
   "cell_type": "code",
   "execution_count": null,
   "metadata": {},
   "outputs": [],
   "source": []
  },
  {
   "cell_type": "code",
   "execution_count": null,
   "metadata": {},
   "outputs": [],
   "source": []
  },
  {
   "cell_type": "code",
   "execution_count": null,
   "metadata": {},
   "outputs": [],
   "source": []
  },
  {
   "cell_type": "code",
   "execution_count": 29,
   "metadata": {},
   "outputs": [],
   "source": [
    "def get_best_estimates(matrix_modality):\n",
    "\n",
    "    df_matrix = []\n",
    "    for i, key in enumerate(matrix_modality):\n",
    "        df_matrix.append(matrix_modality[key].values)\n",
    "\n",
    "    df_matrix = np.stack(df_matrix).transpose(1,0,2) # number of samples x number of modalities x number of columns\n",
    "#     print(df_matrix.shape)\n",
    "\n",
    "    i_RQI = list(df_outputlabel.columns).index('RQI_kurtosis')\n",
    "#     i_RQI = list(df_outputlabel.columns).index('RQI_fft')\n",
    "    i_best_modalities = np.argmax(df_matrix[:,:,i_RQI], axis=1)\n",
    "#     print(i_best_modalities)\n",
    "    df_matrix = df_matrix[np.arange(i_best_modalities.shape[0]), i_best_modalities, :]\n",
    "\n",
    "    df_matrix = pd.DataFrame(df_matrix, columns=list(df_outputlabel.columns))\n",
    "#     print(df_matrix)\n",
    "#     df_matrix['RQI_fft'] = -1\n",
    "#     df_matrix['RQI_ideal'] = -np.abs(df_matrix['label_est'] - df_matrix['label'])\n",
    "#     df_matrix['modality'] = 'select_' + df_matrix['modality'].astype(str)\n",
    "    df_matrix['modality'] = 'selected'\n",
    "#     print(df_matrix)\n",
    "\n",
    "    return df_matrix"
   ]
  },
  {
   "cell_type": "code",
   "execution_count": null,
   "metadata": {},
   "outputs": [],
   "source": []
  },
  {
   "cell_type": "markdown",
   "metadata": {},
   "source": [
    "# add an additional moadility: ``selected``\n",
    "# this may be better than using all (not true)"
   ]
  },
  {
   "cell_type": "code",
   "execution_count": null,
   "metadata": {},
   "outputs": [],
   "source": []
  },
  {
   "cell_type": "code",
   "execution_count": 30,
   "metadata": {},
   "outputs": [],
   "source": [
    "\n",
    "if 'U-Net-AT_block' not in df_outputlabel_ALL['est_method'].unique():\n",
    "    \n",
    "    if 'U-Net-SE_block' not in df_outputlabel_ALL['est_method'].unique():\n",
    "\n",
    "        df_outputlabel_selected = []\n",
    "\n",
    "        matrix_modality = {}\n",
    "        for modality in df_outputlabel_ALL['modality'].unique():\n",
    "        #     for modality in ['ECG', 'PPG', 'SCG']:\n",
    "        #         for TF_type in df_outputlabel_ALL_train['TF_type'].unique():\n",
    "        #     df_outputlabel = df_outputlabel_ALL[(df_outputlabel_ALL['modality']==modality) & (df_outputlabel_ALL['est_method']==est_method) & (df_outputlabel_ALL['TF_type']==TF_type) & (df_outputlabel_ALL['CV']==subject_id)]\n",
    "            df_outputlabel = df_outputlabel_ALL[(df_outputlabel_ALL['modality']==modality)]\n",
    "        #     print(df_outputlabel.shape)\n",
    "            matrix_modality[modality] = df_outputlabel\n",
    "        df_matrix = get_best_estimates(matrix_modality)\n",
    "        # sys.exit()\n",
    "        df_outputlabel_selected.append(df_matrix)\n",
    "        df_outputlabel_selected = pd.concat(df_outputlabel_selected)\n"
   ]
  },
  {
   "cell_type": "code",
   "execution_count": 31,
   "metadata": {},
   "outputs": [
    {
     "name": "stdout",
     "output_type": "stream",
     "text": [
      "(24006, 14) (24006, 14)\n"
     ]
    }
   ],
   "source": [
    "include_selected = False\n",
    "if include_selected:\n",
    "    df_outputlabel_ALL_selected = pd.concat([df_outputlabel_ALL, df_outputlabel_selected])\n",
    "    print(df_outputlabel_selected.shape, df_outputlabel_ALL.shape, df_outputlabel_ALL_selected.shape)\n",
    "else:\n",
    "    df_outputlabel_ALL_selected = df_outputlabel_ALL\n",
    "    print(df_outputlabel_ALL.shape, df_outputlabel_ALL_selected.shape)\n",
    "\n"
   ]
  },
  {
   "cell_type": "code",
   "execution_count": 32,
   "metadata": {},
   "outputs": [
    {
     "data": {
      "text/plain": [
       "(17,)"
      ]
     },
     "execution_count": 32,
     "metadata": {},
     "output_type": "execute_result"
    }
   ],
   "source": [
    "df_outputlabel_ALL_selected['CV'].unique().shape"
   ]
  },
  {
   "cell_type": "code",
   "execution_count": 33,
   "metadata": {},
   "outputs": [
    {
     "data": {
      "text/plain": [
       "array(['ST', 'U-Net-AT_block', 'U-Net'], dtype=object)"
      ]
     },
     "execution_count": 33,
     "metadata": {},
     "output_type": "execute_result"
    }
   ],
   "source": [
    "df_outputlabel_ALL_selected['est_method'].unique()"
   ]
  },
  {
   "cell_type": "code",
   "execution_count": 34,
   "metadata": {},
   "outputs": [
    {
     "data": {
      "text/plain": [
       "array(['ST', 'U-Net-AT_block', 'U-Net'], dtype=object)"
      ]
     },
     "execution_count": 34,
     "metadata": {},
     "output_type": "execute_result"
    }
   ],
   "source": [
    "df_outputlabel_ALL['est_method'].unique()"
   ]
  },
  {
   "cell_type": "code",
   "execution_count": 35,
   "metadata": {},
   "outputs": [],
   "source": [
    "# df_outputlabel['modality'].unique()\n",
    "# list_method"
   ]
  },
  {
   "cell_type": "code",
   "execution_count": 36,
   "metadata": {},
   "outputs": [],
   "source": [
    "# aggregate estimated to get performance for each modality, TF_type, est_method, subject_id"
   ]
  },
  {
   "cell_type": "code",
   "execution_count": 37,
   "metadata": {},
   "outputs": [],
   "source": [
    "def get_df_performance_agg(df_outputlabel_ALL):\n",
    "    # agg information across modality (ECG, SCG, ...), TF_type (pretrain, source, target), subject_id\n",
    "    \n",
    "    df_performance_agg = pd.DataFrame()\n",
    "\n",
    "    for modality in df_outputlabel_ALL['modality'].unique():\n",
    "        for TF_type in df_outputlabel_ALL['TF_type'].unique():\n",
    "\n",
    "            for est_method in list_method:\n",
    "                \n",
    "#                 for task_id in df_outputlabel_ALL['activity'].unique():\n",
    "        \n",
    "                task_id = 0\n",
    "        \n",
    "                for subject_id in df_outputlabel_ALL['CV'].unique():\n",
    "\n",
    "                    # this condition is for est_method=ST or est_method=U-Net\n",
    "                    if 'RQI' not in est_method:\n",
    "#                         mask_df = (df_outputlabel_ALL['modality']==modality) & (df_outputlabel_ALL['est_method']==est_method) & (df_outputlabel_ALL['TF_type']==TF_type) & (df_outputlabel_ALL['activity']==task_id) & (df_outputlabel_ALL['CV']==subject_id)\n",
    "                        mask_df = (df_outputlabel_ALL['modality']==modality) & (df_outputlabel_ALL['est_method']==est_method) & (df_outputlabel_ALL['TF_type']==TF_type) & (df_outputlabel_ALL['CV']==subject_id)\n",
    "                        if mask_df.sum()==0:\n",
    "#                                 print('mask_df is empty')\n",
    "#                                 print(modality, TF_type, est_method, task_id, subject_id, coverage)\n",
    "                            continue\n",
    "                        df_outputlabel = df_outputlabel_ALL[mask_df]\n",
    "            #             MAE_mean, MAE_std = get_MAE(df_outputlabel['label'], df_outputlabel['label_est'])\n",
    "                        coverage = 100\n",
    "\n",
    "\n",
    "                    # consider RQI, reject samples accordingly\n",
    "                    else:\n",
    "#                         mask_df = (df_outputlabel_ALL['modality']==modality) & (df_outputlabel_ALL['est_method']==est_method.split(' ')[0]) & (df_outputlabel_ALL['TF_type']==TF_type) & (df_outputlabel_ALL['activity']==task_id) & (df_outputlabel_ALL['CV']==subject_id)\n",
    "                        mask_df = (df_outputlabel_ALL['modality']==modality) & (df_outputlabel_ALL['est_method']==est_method.split(' ')[0]) & (df_outputlabel_ALL['TF_type']==TF_type) & (df_outputlabel_ALL['CV']==subject_id)\n",
    "                        if mask_df.sum()==0:\n",
    "#                                 print('mask_df is empty')\n",
    "#                                 print(modality, TF_type, est_method, task_id, subject_id, coverage)\n",
    "                            continue\n",
    "                        df_outputlabel = df_outputlabel_ALL[mask_df]\n",
    "        #                 sys.exit()\n",
    "\n",
    "                        mask_RQI = (df_RQI_threshold['modality']==modality) & (df_RQI_threshold['TF_type']==TF_type)\n",
    "\n",
    "                        # df_RQI_threshold may not contain modality ``selected``, skip it\n",
    "                        if mask_RQI.sum()==0:\n",
    "                            continue\n",
    "                        df_outputlabel= df_outputlabel.merge(df_RQI_threshold[mask_RQI], on=['CV'])\n",
    "        #                 df_outputlabel= df_outputlabel.merge(df_RQI_threshold, on=['CV'])\n",
    "\n",
    "\n",
    "                        RQI_name = est_method.split(' ')[1]\n",
    "                        RQI_mask = df_outputlabel[RQI_name] > df_outputlabel[RQI_name+'_threshold']\n",
    "        #                 sys.exit()\n",
    "                        df_outputlabel = df_outputlabel[RQI_mask]\n",
    "                        coverage = RQI_mask.mean()*100\n",
    "\n",
    "#                             if coverage==0:\n",
    "#                                 print(modality, TF_type, est_method, task_id, subject_id, coverage)\n",
    "\n",
    "                    if coverage==0:\n",
    "                        \n",
    "                        print('{}: coverage=0'.format(subject_id))\n",
    "                        continue\n",
    "\n",
    "\n",
    "#                         if df_outputlabel.shape[0]==0:\n",
    "#                             print( mask_df.sum() )\n",
    "#                             print(modality, TF_type, est_method, task_id, subject_id, coverage)\n",
    "#                             print(RQI_mask.sum())\n",
    "#                             print(df_outputlabel)\n",
    "#                             print( get_RMSE(df_outputlabel['label'], df_outputlabel['label_est']))\n",
    "\n",
    "\n",
    "                    MAE_mean, MAE_std = get_MAE(df_outputlabel['label'], df_outputlabel['label_est'])\n",
    "                    PCC = get_PCC(df_outputlabel['label'], df_outputlabel['label_est'])\n",
    "                    CoeffDeterm = get_CoeffDeterm(df_outputlabel['label'], df_outputlabel['label_est'])\n",
    "                    MAPE, _ = get_MAPE(df_outputlabel['label'], df_outputlabel['label_est'])\n",
    "                    RMSE = get_RMSE(df_outputlabel['label'], df_outputlabel['label_est'])\n",
    "\n",
    "                    one_dict = {\n",
    "                        'MAE_mean': MAE_mean,\n",
    "                        'MAE_std': MAE_std,\n",
    "                        'PCC': PCC,\n",
    "                        'CoeffDeterm': CoeffDeterm,\n",
    "                        'MAPE': MAPE*100,\n",
    "                        'RMSE': RMSE,\n",
    "                        'method': est_method,\n",
    "                        'modality': modality,\n",
    "                        'TF_type': TF_type,\n",
    "                        'coverage': coverage,\n",
    "                        'task': tasks_dict_reversed[task_id],\n",
    "                        'subject_id': subject_id\n",
    "                    }\n",
    "\n",
    "                    df_performance_agg = df_performance_agg.append(one_dict, ignore_index=True)\n",
    "\n",
    "    return df_performance_agg"
   ]
  },
  {
   "cell_type": "code",
   "execution_count": 38,
   "metadata": {},
   "outputs": [],
   "source": [
    "df_performance_agg_joint = get_df_performance_agg(df_outputlabel_ALL_selected)"
   ]
  },
  {
   "cell_type": "code",
   "execution_count": 39,
   "metadata": {},
   "outputs": [],
   "source": [
    "# df_performance_agg_joint"
   ]
  },
  {
   "cell_type": "code",
   "execution_count": 40,
   "metadata": {},
   "outputs": [],
   "source": [
    "# modality = 'ECG'\n",
    "# est_method = 'U-Net'\n",
    "# TF_type = 'target'\n",
    "# # task_id = 0\n",
    "# subject_id = 106\n",
    "\n",
    "# mask_df = (df_outputlabel_ALL['modality']==modality) & (df_outputlabel_ALL['est_method']==est_method) & (df_outputlabel_ALL['TF_type']==TF_type) & (df_outputlabel_ALL['CV']==subject_id)\n",
    "# plt.scatter(df_outputlabel_ALL[mask_df]['label'].values, df_outputlabel_ALL[mask_df]['label_est'].values)"
   ]
  },
  {
   "cell_type": "code",
   "execution_count": 41,
   "metadata": {},
   "outputs": [],
   "source": [
    "# df_outputlabel_ALL['CV'].unique()\n"
   ]
  },
  {
   "cell_type": "code",
   "execution_count": 42,
   "metadata": {},
   "outputs": [],
   "source": [
    "# df_performance_agg_joint['method'].unique()"
   ]
  },
  {
   "cell_type": "code",
   "execution_count": null,
   "metadata": {},
   "outputs": [],
   "source": []
  },
  {
   "cell_type": "code",
   "execution_count": null,
   "metadata": {},
   "outputs": [],
   "source": []
  },
  {
   "cell_type": "code",
   "execution_count": null,
   "metadata": {},
   "outputs": [],
   "source": []
  },
  {
   "cell_type": "code",
   "execution_count": 43,
   "metadata": {},
   "outputs": [],
   "source": [
    "hue_color_dict = {\n",
    "    'ST': '#F5F4E0',\n",
    "    'ST RQI_fft': '#928462',\n",
    "\n",
    "    'source': '#D8D7C5',\n",
    "    'target': '#B8B7A9',\n",
    "\n",
    "    \n",
    "    \n",
    "    'U-Net': '#B8B7A9',\n",
    "    'U-Net RQI_fft': '#6A7E7B',\n",
    "    \n",
    "    'U-Net source': '#D8D7C5',\n",
    "    'U-Net target': '#B8B7A9',\n",
    "    \n",
    "\n",
    "\n",
    "    'U-Net-AT_block':'#F696A6' ,\n",
    "    'U-Net-AT_block RQI_fft':'#C4580C' ,\n",
    "    \n",
    "    'U-Net-AT_block source': '#E2C3BC',\n",
    "    'U-Net-AT_block target': '#F696A6',\n",
    "\n",
    "#     'source': '#F5F4E0',\n",
    "#     'target': '#D8D7C5',\n",
    "#     'pretrain': '#B8B7A9',\n",
    "}\n"
   ]
  },
  {
   "cell_type": "code",
   "execution_count": null,
   "metadata": {},
   "outputs": [],
   "source": []
  },
  {
   "cell_type": "code",
   "execution_count": 44,
   "metadata": {},
   "outputs": [],
   "source": [
    "def plot_hue_compare(df, plt_scale=1.5,  x_name='modality', y_name='MAE_mean', hue_name='hue_name', metric_name='MAE_mean', ylims=None, order_list=None, hue_order=None, fig_name=None, show_plot=False, outputdir=None, log_wandb=False, verbose=False):\n",
    "#     metric_name = 'MAE_mean'\n",
    "    \n",
    "    if hue_order is None:\n",
    "         hue_order=list(hue_color_dict.keys())\n",
    "\n",
    "    fig, ax = plt.subplots(1,1, figsize=(5*plt_scale,5),dpi=250)\n",
    "    fontsize=7\n",
    "    \n",
    "#     sns.violinplot(x=\"modality\", y=metric_name, hue=\"TF_type\", data=df, ax=ax, palette=TF_color_dict)\n",
    "    sns.boxplot(x=x_name, y=y_name, hue=hue_name, data=df, ax=ax, palette=hue_color_dict, hue_order=hue_order,\n",
    "                showmeans=True,\n",
    "                meanprops={\"marker\":\"o\",\n",
    "                           \"markerfacecolor\":\"white\", \n",
    "                           \"markeredgecolor\":\"black\",\n",
    "                          \"markersize\":\"5\"},\n",
    "             order = order_list\n",
    "               )\n",
    "    ax.tick_params(labelsize=fontsize)\n",
    "\n",
    "\n",
    "#     sns.swarmplot(x=\"modality\", y=metric_name, hue=\"TF_type\", data=df, ax=ax, color='black', hue_order=list(TF_color_dict.keys()), dodge=True, size=3, alpha=0.8)\n",
    "\n",
    "    # get the lowest MAE\n",
    "#     MAE_lowest = []\n",
    "    df_MAEs = []\n",
    "    for hue_name in df['hue_name'].unique():\n",
    "        for modality in df['modality'].unique():\n",
    "            mean_MAE = df[(df['modality']==modality) & (df['hue_name']==hue_name)][metric_name].mean() \n",
    "            if math.isnan(mean_MAE):\n",
    "                continue\n",
    "            mae_dict ={\n",
    "                'hue_name': hue_name,\n",
    "                'modality': modality,\n",
    "                'mean_MAE': mean_MAE,\n",
    "            }\n",
    "            \n",
    "            df_MAEs.append( mae_dict )\n",
    "            \n",
    "    df_MAEs = pd.DataFrame(df_MAEs)\n",
    "#     print(df_MAEs)\n",
    "#     print(df[['mean_MAE']].idxmin())\n",
    "#     sys.exit()\n",
    "    i_min = df_MAEs[['mean_MAE']].idxmin().values[0]\n",
    "\n",
    "    hue_name, modality, MAE_lowest =  df_MAEs.iloc[i_min,:].values\n",
    "#     hue_name, modality, MAE_lowest\n",
    "    \n",
    "#     MAE_lowest = min(MAE_lowest)\n",
    "    \n",
    "    \n",
    "    \n",
    "    # xmin and xmax \n",
    "    xmin = -.8\n",
    "    xmax = df['modality'].unique().shape[0]-1+0.8\n",
    "    ax.hlines(y=MAE_lowest, xmin=xmin, xmax=xmax, linewidth=3, color='#627565', alpha=0.5)\n",
    "\n",
    "    ax.annotate('{:.2f}\\n{}\\n{}'.format(MAE_lowest, hue_name, modality), xy=(1,MAE_lowest), xytext=(6,0), color='black', \n",
    "                xycoords = ax.get_yaxis_transform(), textcoords=\"offset points\",\n",
    "                size=8, va=\"center\")\n",
    "    \n",
    "    ax.set_xlim(xmin,xmax)\n",
    "\n",
    "    ax.yaxis.grid(True, which='major', color='gray',alpha=0.8)\n",
    "    ax.yaxis.grid(True, which='minor', color='gray', alpha=0.2)\n",
    "    ax.minorticks_on()\n",
    "    \n",
    "#     ax.legend(frameon=True, bbox_to_anchor=(1.05,1))\n",
    "#     ax.legend(frameon=True, loc='upper right',  bbox_to_anchor=(2,1), fontsize=fontsize)\n",
    "    ax.get_legend().remove()\n",
    "\n",
    "    \n",
    "    if ylims is not None:\n",
    "        ax.set_ylim(ylims)\n",
    "\n",
    "#     ax.set_ylim(0,MAE_lowest*5)\n",
    "    ax_no_top_right(ax)\n",
    "   \n",
    "    \n",
    "    fig.tight_layout()\n",
    "    print('fig_name is', fig_name)\n",
    "    \n",
    "    if fig_name is None:\n",
    "        fig_name = 'hueXmod'\n",
    "\n",
    "    if log_wandb:\n",
    "        wandb.log({fig_name: wandb.Image(fig)})\n",
    "\n",
    "    if outputdir is not None:\n",
    "        if not os.path.exists(outputdir):\n",
    "            os.makedirs(outputdir)\n",
    "\n",
    "        fig.savefig(outputdir + fig_name + '.png', facecolor=fig.get_facecolor())\n",
    "\n",
    "    if show_plot == False:\n",
    "        plt.close(fig)\n",
    "        pyplot.close(fig)\n",
    "        plt.close('all')\n",
    "\n",
    "    plt.show()\n",
    "    \n",
    "    "
   ]
  },
  {
   "cell_type": "code",
   "execution_count": null,
   "metadata": {},
   "outputs": [],
   "source": []
  },
  {
   "cell_type": "code",
   "execution_count": null,
   "metadata": {},
   "outputs": [],
   "source": []
  },
  {
   "cell_type": "code",
   "execution_count": null,
   "metadata": {},
   "outputs": [],
   "source": []
  },
  {
   "cell_type": "code",
   "execution_count": null,
   "metadata": {},
   "outputs": [],
   "source": []
  },
  {
   "cell_type": "markdown",
   "metadata": {},
   "source": [
    "# RQI analysis (coverage vs. MAE)\n",
    "## target only"
   ]
  },
  {
   "cell_type": "code",
   "execution_count": null,
   "metadata": {},
   "outputs": [],
   "source": []
  },
  {
   "cell_type": "code",
   "execution_count": null,
   "metadata": {},
   "outputs": [],
   "source": []
  },
  {
   "cell_type": "code",
   "execution_count": 45,
   "metadata": {},
   "outputs": [],
   "source": [
    "def get_df_RQI_results(df_outputlabel, RQI_name, steps_thre=10):\n",
    "    \n",
    "    df_RQI_results = pd.DataFrame()\n",
    "\n",
    "    label = df_outputlabel['label'].values\n",
    "    label_est = df_outputlabel['label_est'].values\n",
    "\n",
    "    if RQI_name!='random':\n",
    "        RQI_range = df_outputlabel[RQI_name].min(), df_outputlabel[RQI_name].max()\n",
    "    else:\n",
    "        RQI_range = [0,df_outputlabel.shape[0]]\n",
    "        \n",
    "        \n",
    "#     for threshold in np.linspace(RQI_range[0],RQI_range[1],steps_thre, endpoint=False):\n",
    "    for threshold in np.linspace(0,1,steps_thre, endpoint=True):\n",
    "\n",
    "        if RQI_name!='random':\n",
    "            mask_RQI = df_outputlabel[RQI_name] > threshold\n",
    "#             MAE, _ = get_MAE(label[mask_RQI], label_est[mask_RQI])\n",
    "        else:\n",
    "            # random rejection\n",
    "            N_zeros = int(threshold)\n",
    "            N_ones = df_outputlabel.shape[0] - N_zeros\n",
    "            mask_RQI = get_mask_random(N_zeros, N_ones)\n",
    "            \n",
    "        if mask_RQI.sum()==0:\n",
    "            continue\n",
    "        \n",
    "        MAE, _ = get_MAE(label[mask_RQI], label_est[mask_RQI])\n",
    "\n",
    "        df_RQI_results = df_RQI_results.append(\n",
    "            pd.DataFrame(\n",
    "                {\n",
    "                    'threshold': threshold,\n",
    "                    'coverage': mask_RQI.mean()*100,\n",
    "                    'MAE': MAE,\n",
    "                    'N_subs': df_outputlabel['CV'][mask_RQI].unique().shape[0],\n",
    "                }, index=[0]\n",
    "        ))\n",
    "\n",
    "    df_RQI_results = df_RQI_results.reset_index(drop=True)\n",
    "    return df_RQI_results"
   ]
  },
  {
   "cell_type": "code",
   "execution_count": 46,
   "metadata": {},
   "outputs": [],
   "source": [
    "def resample_df_RQI_results(df_RQI_results):\n",
    "\n",
    "    df_temp = pd.DataFrame(\n",
    "        {\n",
    "            'coverage': np.arange(50,101,1)[::-1],\n",
    "            'resample': True\n",
    "        }\n",
    "    )\n",
    "\n",
    "    df_concat = pd.concat([df_RQI_results, df_temp]).sort_values(by=['coverage'], ascending=False)\n",
    "    # df_concat = pd.concat([df_RQI_results, df_temp])\n",
    "\n",
    "    df_resampled = df_concat.interpolate(method='linear', limit_direction='forward', axis=0)\n",
    "\n",
    "    #     columns=['PRODUCT','CAT_ID','MARKET_ID'])\n",
    "    df_resampled['RQI_name'] = df_RQI_results['RQI_name'].unique()[0]\n",
    "    df_resampled['method_name'] = df_RQI_results['method_name'].unique()[0]\n",
    "    df_resampled = df_resampled[df_resampled['resample']==True]\n",
    "    \n",
    "    return df_resampled"
   ]
  },
  {
   "cell_type": "code",
   "execution_count": 47,
   "metadata": {},
   "outputs": [
    {
     "data": {
      "text/plain": [
       "array(['ST', 'U-Net-AT_block', 'U-Net'], dtype=object)"
      ]
     },
     "execution_count": 47,
     "metadata": {},
     "output_type": "execute_result"
    }
   ],
   "source": [
    "df_outputlabel_ALL['est_method'].unique()"
   ]
  },
  {
   "cell_type": "code",
   "execution_count": 48,
   "metadata": {},
   "outputs": [],
   "source": [
    "mask1 = (df_outputlabel_ALL['TF_type']=='target') & (df_outputlabel_ALL['est_method']=='ST') & (df_outputlabel_ALL['modality']=='ECG-SR+PPG-select')\n",
    "\n",
    "mask2 = (df_outputlabel_ALL['TF_type']=='target') & (df_outputlabel_ALL['est_method']=='U-Net') & (df_outputlabel_ALL['modality']=='ECG-SR+PPG-select')\n",
    "\n",
    "mask_TF_type = df_outputlabel_ALL['TF_type']=='target'\n",
    "mask_est_method = df_outputlabel_ALL['est_method']=='U-Net-AT_block'\n",
    "mask_modality = df_outputlabel_ALL['modality']=='ECG-SR+PPG-select'\n",
    "mask3 = mask_TF_type & mask_est_method & mask_modality\n",
    "\n",
    "\n"
   ]
  },
  {
   "cell_type": "code",
   "execution_count": 49,
   "metadata": {},
   "outputs": [],
   "source": [
    "df1 = df_outputlabel_ALL[mask1].copy()\n",
    "df1['method_name'] = 'ST'\n",
    "\n",
    "df2 = df_outputlabel_ALL[mask2].copy()\n",
    "df2['method_name'] = 'UNet'\n",
    "\n",
    "df3 = df_outputlabel_ALL[mask3].copy()\n",
    "df3['method_name'] = 'MA-UNet'\n",
    "\n",
    "df_outputlabel_Fig6 = pd.concat([df1, df2, df3]).reset_index(drop=True).copy()"
   ]
  },
  {
   "cell_type": "code",
   "execution_count": 50,
   "metadata": {},
   "outputs": [
    {
     "data": {
      "text/plain": [
       "array(['ST', 'UNet', 'MA-UNet'], dtype=object)"
      ]
     },
     "execution_count": 50,
     "metadata": {},
     "output_type": "execute_result"
    }
   ],
   "source": [
    "df_outputlabel_Fig6['method_name'].unique()"
   ]
  },
  {
   "cell_type": "code",
   "execution_count": 51,
   "metadata": {},
   "outputs": [],
   "source": [
    "# mask1.sum()"
   ]
  },
  {
   "cell_type": "code",
   "execution_count": 52,
   "metadata": {},
   "outputs": [],
   "source": [
    "# df_RQI_results_final = pd.DataFrame()\n",
    "# RQI_name = 'RQI_fft'\n",
    "\n",
    "# for method_name in df_outputlabel_Fig6['method_name'].unique():\n",
    "# #     for est_method in ['ST', 'U-Net']:\n",
    "#     mask_df = (df_outputlabel_Fig6['method_name']==method_name)\n",
    "#     df_outputlabel = df_outputlabel_Fig6[mask_df]\n",
    "\n",
    "# #         for RQI_name in ['random', 'RQI_kurtosis', 'RQI_fft', 'RQI_ideal']:\n",
    "#     df_RQI_results = get_df_RQI_results(df_outputlabel, RQI_name, steps_thre=steps_thre)\n",
    "#     df_RQI_results['RQI_name'] = RQI_name\n",
    "#     df_RQI_results['method_name'] = method_name\n",
    "\n",
    "#     df_RQI_results_final = df_RQI_results_final.append(df_RQI_results)"
   ]
  },
  {
   "cell_type": "code",
   "execution_count": null,
   "metadata": {},
   "outputs": [],
   "source": []
  },
  {
   "cell_type": "code",
   "execution_count": 53,
   "metadata": {},
   "outputs": [],
   "source": [
    "# df_RQI_results_final = pd.DataFrame()\n",
    "# RQI_name = 'RQI_fft'\n",
    "\n",
    "# for CV in df_outputlabel_Fig6['CV'].unique():\n",
    "#     for method_name in df_outputlabel_Fig6['method_name'].unique():\n",
    "#     #     for est_method in ['ST', 'U-Net']:\n",
    "#         mask_df = (df_outputlabel_Fig6['method_name']==method_name) & (df_outputlabel_Fig6['CV']==CV)\n",
    "#         df_outputlabel = df_outputlabel_Fig6[mask_df]\n",
    "\n",
    "# #         for RQI_name in ['random', 'RQI_kurtosis', 'RQI_fft', 'RQI_ideal']:\n",
    "#         df_RQI_results = get_df_RQI_results(df_outputlabel, RQI_name, steps_thre=steps_thre)\n",
    "# #         print(df_RQI_results.shape)\n",
    "#         df_RQI_results['RQI_name'] = RQI_name\n",
    "#         df_RQI_results['method_name'] = method_name\n",
    "#         df_RQI_results['CV'] = CV\n",
    "        \n",
    "#         df_RQI_results = resample_df_RQI_results(df_RQI_results)\n",
    "# #         print(df_RQI_results.shape)\n",
    "#         df_RQI_results_final = df_RQI_results_final.append(df_RQI_results)"
   ]
  },
  {
   "cell_type": "code",
   "execution_count": 54,
   "metadata": {},
   "outputs": [],
   "source": [
    "df_RQI_results_final = pd.DataFrame()\n",
    "RQI_name = 'RQI_fft'\n",
    "\n",
    "\n",
    "for method_name in df_outputlabel_Fig6['method_name'].unique():\n",
    "#     for est_method in ['ST', 'U-Net']:\n",
    "#     mask_df = (df_outputlabel_Fig6['method_name']==method_name) & (df_outputlabel_Fig6['CV']==CV)\n",
    "    mask_df = (df_outputlabel_Fig6['method_name']==method_name)\n",
    "    df_outputlabel = df_outputlabel_Fig6[mask_df]\n",
    "\n",
    "#         for RQI_name in ['random', 'RQI_kurtosis', 'RQI_fft', 'RQI_ideal']:\n",
    "    df_RQI_results = get_df_RQI_results(df_outputlabel, RQI_name, steps_thre=steps_thre)\n",
    "#         print(df_RQI_results.shape)\n",
    "    df_RQI_results['RQI_name'] = RQI_name\n",
    "    df_RQI_results['method_name'] = method_name\n",
    "#     df_RQI_results['CV'] = CV\n",
    "\n",
    "#     df_RQI_results = resample_df_RQI_results(df_RQI_results)\n",
    "#         print(df_RQI_results.shape)\n",
    "    df_RQI_results_final = df_RQI_results_final.append(df_RQI_results)"
   ]
  },
  {
   "cell_type": "code",
   "execution_count": 55,
   "metadata": {},
   "outputs": [
    {
     "data": {
      "text/plain": [
       "'MA-UNet'"
      ]
     },
     "execution_count": 55,
     "metadata": {},
     "output_type": "execute_result"
    }
   ],
   "source": [
    "method_name"
   ]
  },
  {
   "cell_type": "code",
   "execution_count": null,
   "metadata": {},
   "outputs": [],
   "source": []
  },
  {
   "cell_type": "code",
   "execution_count": 56,
   "metadata": {},
   "outputs": [],
   "source": [
    "# df_outputlabel_Fig6['RQI_fft'].max(), df_outputlabel_Fig6['RQI_fft'].min()\n",
    "\n",
    "# steps_thre"
   ]
  },
  {
   "cell_type": "code",
   "execution_count": 57,
   "metadata": {},
   "outputs": [],
   "source": [
    "RQI_color_dict = {\n",
    "    \n",
    "    \n",
    "#     'ST': '#F5F4E0',\n",
    "    'ST': '#d2d1ba',\n",
    "    \n",
    "    'UNet': '#B8B7A9',\n",
    "\n",
    "    'MA-UNet': '#F696A6',\n",
    "\n",
    "\n",
    "#     'ECG_filt': 'Blue',\n",
    "#     'scgZ': 'Teal',\n",
    "    \n",
    "#     'ppg_r_1_cardiac': 'Maroon',\n",
    "#     'ppg_g_1_cardiac': 'ForestGreen',\n",
    "#     'ppg_ir_1_cardiac': 'darkgoldenrod',\n",
    "    \n",
    "#     'ppg_r_2_cardiac': 'Red',\n",
    "#     'ppg_g_2_cardiac': 'Green',\n",
    "#     'ppg_ir_2_cardiac': 'gold',\n",
    "\n",
    "}\n",
    "\n",
    "def plot_MAEoverCoverage(ax, df_RQI_results, col, est_method):\n",
    "    fontsize = 10\n",
    "    sns.lineplot(data=df_RQI_results, x=\"coverage\", y=\"MAE\", hue=\"RQI_name\",ax=ax, palette=RQI_color_dict,alpha=0.8)\n",
    "    ax.invert_xaxis()\n",
    "    ax_no_top_right(ax)\n",
    "    ax.set_xlim(100,50)\n",
    "#     ax.set_ylim(0,6)\n",
    "    ax.set_xlabel('Coverage (%)', fontsize=fontsize)\n",
    "    ax.set_ylabel('MAE (BPM)', fontsize=fontsize)\n",
    "    ax.set_title('{}\\n({})'.format(col, est_method), fontsize=fontsize+3)\n",
    "    ax.legend().set_visible(False)\n",
    "\n",
    "\n",
    "def plot_converage_analysis_Fig6(df_RQI_results_final, hue_name='modality', y_name='MAE', fig_name=None, show_plot=False, outputdir=None, log_wandb=False, verbose=False):\n",
    "\n",
    "    N_cols = len(df_RQI_results_final[hue_name].unique())\n",
    "    fontsize = 12\n",
    "    \n",
    "    fig, ax = plt.subplots(figsize=(7, 3), dpi=200)\n",
    "    \n",
    "    sns.lineplot(data=df_RQI_results_final, x=\"coverage\", y=y_name, hue=hue_name, ax=ax, palette=RQI_color_dict,alpha=1, linewidth=2,)\n",
    "\n",
    "\n",
    "    ax.invert_xaxis()\n",
    "    ax_no_top_right(ax)\n",
    "    \n",
    "    \n",
    "    ax.set_xlim(df_RQI_results_final['coverage'].max(),df_RQI_results_final['coverage'].min())\n",
    "#     ax.set_ylim(0,6)\n",
    "    ax.set_xlabel('Coverage (%)', fontsize=fontsize)\n",
    "\n",
    "    if y_name=='MAE':\n",
    "        ax.set_ylabel('MAE (BPM)', fontsize=fontsize)\n",
    "    elif y_name=='N_subs':\n",
    "        ax.set_ylabel('N_subs', fontsize=fontsize)\n",
    "\n",
    "#     ax.set_title('{}\\n({})'.format(col, est_method), fontsize=fontsize+3)\n",
    "    ax.legend().set_visible(True)\n",
    "    ax.legend(frameon=True, bbox_to_anchor=(1.45, 1.03), fontsize=15)\n",
    "    \n",
    "   \n",
    "    fig.tight_layout()\n",
    "    \n",
    "    \n",
    "    \n",
    " \n",
    "    \n",
    "    \n",
    "    if fig_name is None:\n",
    "        fig_name = 'coverage_analysis'\n",
    "#     print('fig_name is', fig_name)\n",
    "\n",
    "    if log_wandb:\n",
    "        wandb.log({fig_name: wandb.Image(fig)})\n",
    "\n",
    "    if outputdir is not None:\n",
    "        if not os.path.exists(outputdir):\n",
    "            os.makedirs(outputdir)\n",
    "\n",
    "        fig.savefig(outputdir + fig_name + '.png', facecolor=fig.get_facecolor())\n",
    "\n",
    "    if show_plot == False:\n",
    "        plt.close(fig)\n",
    "        pyplot.close(fig)\n",
    "        plt.close('all')\n",
    "\n",
    "    plt.show()"
   ]
  },
  {
   "cell_type": "code",
   "execution_count": 58,
   "metadata": {},
   "outputs": [
    {
     "ename": "ValueError",
     "evalue": "cannot reindex from a duplicate axis",
     "output_type": "error",
     "traceback": [
      "\u001b[0;31m---------------------------------------------------------------------------\u001b[0m",
      "\u001b[0;31mValueError\u001b[0m                                Traceback (most recent call last)",
      "\u001b[0;32m/tmp/ipykernel_26292/1926533738.py\u001b[0m in \u001b[0;36m<module>\u001b[0;34m\u001b[0m\n\u001b[0;32m----> 1\u001b[0;31m \u001b[0mplot_converage_analysis_Fig6\u001b[0m\u001b[0;34m(\u001b[0m\u001b[0mdf_RQI_results_final\u001b[0m\u001b[0;34m,\u001b[0m \u001b[0mhue_name\u001b[0m\u001b[0;34m=\u001b[0m\u001b[0;34m'method_name'\u001b[0m\u001b[0;34m,\u001b[0m \u001b[0mshow_plot\u001b[0m\u001b[0;34m=\u001b[0m\u001b[0;32mTrue\u001b[0m\u001b[0;34m,\u001b[0m \u001b[0moutputdir\u001b[0m\u001b[0;34m=\u001b[0m\u001b[0moutputdir\u001b[0m\u001b[0;34m)\u001b[0m\u001b[0;34m\u001b[0m\u001b[0;34m\u001b[0m\u001b[0m\n\u001b[0m",
      "\u001b[0;32m/tmp/ipykernel_26292/667269219.py\u001b[0m in \u001b[0;36mplot_converage_analysis_Fig6\u001b[0;34m(df_RQI_results_final, hue_name, y_name, fig_name, show_plot, outputdir, log_wandb, verbose)\u001b[0m\n\u001b[1;32m     43\u001b[0m     \u001b[0mfig\u001b[0m\u001b[0;34m,\u001b[0m \u001b[0max\u001b[0m \u001b[0;34m=\u001b[0m \u001b[0mplt\u001b[0m\u001b[0;34m.\u001b[0m\u001b[0msubplots\u001b[0m\u001b[0;34m(\u001b[0m\u001b[0mfigsize\u001b[0m\u001b[0;34m=\u001b[0m\u001b[0;34m(\u001b[0m\u001b[0;36m7\u001b[0m\u001b[0;34m,\u001b[0m \u001b[0;36m3\u001b[0m\u001b[0;34m)\u001b[0m\u001b[0;34m,\u001b[0m \u001b[0mdpi\u001b[0m\u001b[0;34m=\u001b[0m\u001b[0;36m200\u001b[0m\u001b[0;34m)\u001b[0m\u001b[0;34m\u001b[0m\u001b[0;34m\u001b[0m\u001b[0m\n\u001b[1;32m     44\u001b[0m \u001b[0;34m\u001b[0m\u001b[0m\n\u001b[0;32m---> 45\u001b[0;31m     \u001b[0msns\u001b[0m\u001b[0;34m.\u001b[0m\u001b[0mlineplot\u001b[0m\u001b[0;34m(\u001b[0m\u001b[0mdata\u001b[0m\u001b[0;34m=\u001b[0m\u001b[0mdf_RQI_results_final\u001b[0m\u001b[0;34m,\u001b[0m \u001b[0mx\u001b[0m\u001b[0;34m=\u001b[0m\u001b[0;34m\"coverage\"\u001b[0m\u001b[0;34m,\u001b[0m \u001b[0my\u001b[0m\u001b[0;34m=\u001b[0m\u001b[0my_name\u001b[0m\u001b[0;34m,\u001b[0m \u001b[0mhue\u001b[0m\u001b[0;34m=\u001b[0m\u001b[0mhue_name\u001b[0m\u001b[0;34m,\u001b[0m \u001b[0max\u001b[0m\u001b[0;34m=\u001b[0m\u001b[0max\u001b[0m\u001b[0;34m,\u001b[0m \u001b[0mpalette\u001b[0m\u001b[0;34m=\u001b[0m\u001b[0mRQI_color_dict\u001b[0m\u001b[0;34m,\u001b[0m\u001b[0malpha\u001b[0m\u001b[0;34m=\u001b[0m\u001b[0;36m1\u001b[0m\u001b[0;34m,\u001b[0m \u001b[0mlinewidth\u001b[0m\u001b[0;34m=\u001b[0m\u001b[0;36m2\u001b[0m\u001b[0;34m,\u001b[0m\u001b[0;34m)\u001b[0m\u001b[0;34m\u001b[0m\u001b[0;34m\u001b[0m\u001b[0m\n\u001b[0m\u001b[1;32m     46\u001b[0m \u001b[0;34m\u001b[0m\u001b[0m\n\u001b[1;32m     47\u001b[0m \u001b[0;34m\u001b[0m\u001b[0m\n",
      "\u001b[0;32m~/miniconda3/envs/mienv/lib/python3.7/site-packages/seaborn/_decorators.py\u001b[0m in \u001b[0;36minner_f\u001b[0;34m(*args, **kwargs)\u001b[0m\n\u001b[1;32m     44\u001b[0m             )\n\u001b[1;32m     45\u001b[0m         \u001b[0mkwargs\u001b[0m\u001b[0;34m.\u001b[0m\u001b[0mupdate\u001b[0m\u001b[0;34m(\u001b[0m\u001b[0;34m{\u001b[0m\u001b[0mk\u001b[0m\u001b[0;34m:\u001b[0m \u001b[0marg\u001b[0m \u001b[0;32mfor\u001b[0m \u001b[0mk\u001b[0m\u001b[0;34m,\u001b[0m \u001b[0marg\u001b[0m \u001b[0;32min\u001b[0m \u001b[0mzip\u001b[0m\u001b[0;34m(\u001b[0m\u001b[0msig\u001b[0m\u001b[0;34m.\u001b[0m\u001b[0mparameters\u001b[0m\u001b[0;34m,\u001b[0m \u001b[0margs\u001b[0m\u001b[0;34m)\u001b[0m\u001b[0;34m}\u001b[0m\u001b[0;34m)\u001b[0m\u001b[0;34m\u001b[0m\u001b[0;34m\u001b[0m\u001b[0m\n\u001b[0;32m---> 46\u001b[0;31m         \u001b[0;32mreturn\u001b[0m \u001b[0mf\u001b[0m\u001b[0;34m(\u001b[0m\u001b[0;34m**\u001b[0m\u001b[0mkwargs\u001b[0m\u001b[0;34m)\u001b[0m\u001b[0;34m\u001b[0m\u001b[0;34m\u001b[0m\u001b[0m\n\u001b[0m\u001b[1;32m     47\u001b[0m     \u001b[0;32mreturn\u001b[0m \u001b[0minner_f\u001b[0m\u001b[0;34m\u001b[0m\u001b[0;34m\u001b[0m\u001b[0m\n\u001b[1;32m     48\u001b[0m \u001b[0;34m\u001b[0m\u001b[0m\n",
      "\u001b[0;32m~/miniconda3/envs/mienv/lib/python3.7/site-packages/seaborn/relational.py\u001b[0m in \u001b[0;36mlineplot\u001b[0;34m(x, y, hue, size, style, data, palette, hue_order, hue_norm, sizes, size_order, size_norm, dashes, markers, style_order, units, estimator, ci, n_boot, seed, sort, err_style, err_kws, legend, ax, **kwargs)\u001b[0m\n\u001b[1;32m    708\u001b[0m     \u001b[0mp\u001b[0m\u001b[0;34m.\u001b[0m\u001b[0m_attach\u001b[0m\u001b[0;34m(\u001b[0m\u001b[0max\u001b[0m\u001b[0;34m)\u001b[0m\u001b[0;34m\u001b[0m\u001b[0;34m\u001b[0m\u001b[0m\n\u001b[1;32m    709\u001b[0m \u001b[0;34m\u001b[0m\u001b[0m\n\u001b[0;32m--> 710\u001b[0;31m     \u001b[0mp\u001b[0m\u001b[0;34m.\u001b[0m\u001b[0mplot\u001b[0m\u001b[0;34m(\u001b[0m\u001b[0max\u001b[0m\u001b[0;34m,\u001b[0m \u001b[0mkwargs\u001b[0m\u001b[0;34m)\u001b[0m\u001b[0;34m\u001b[0m\u001b[0;34m\u001b[0m\u001b[0m\n\u001b[0m\u001b[1;32m    711\u001b[0m     \u001b[0;32mreturn\u001b[0m \u001b[0max\u001b[0m\u001b[0;34m\u001b[0m\u001b[0;34m\u001b[0m\u001b[0m\n\u001b[1;32m    712\u001b[0m \u001b[0;34m\u001b[0m\u001b[0m\n",
      "\u001b[0;32m~/miniconda3/envs/mienv/lib/python3.7/site-packages/seaborn/relational.py\u001b[0m in \u001b[0;36mplot\u001b[0;34m(self, ax, kws)\u001b[0m\n\u001b[1;32m    469\u001b[0m         \u001b[0;31m# Loop over the semantic subsets and add to the plot\u001b[0m\u001b[0;34m\u001b[0m\u001b[0;34m\u001b[0m\u001b[0;34m\u001b[0m\u001b[0m\n\u001b[1;32m    470\u001b[0m         \u001b[0mgrouping_vars\u001b[0m \u001b[0;34m=\u001b[0m \u001b[0;34m\"hue\"\u001b[0m\u001b[0;34m,\u001b[0m \u001b[0;34m\"size\"\u001b[0m\u001b[0;34m,\u001b[0m \u001b[0;34m\"style\"\u001b[0m\u001b[0;34m\u001b[0m\u001b[0;34m\u001b[0m\u001b[0m\n\u001b[0;32m--> 471\u001b[0;31m         \u001b[0;32mfor\u001b[0m \u001b[0msub_vars\u001b[0m\u001b[0;34m,\u001b[0m \u001b[0msub_data\u001b[0m \u001b[0;32min\u001b[0m \u001b[0mself\u001b[0m\u001b[0;34m.\u001b[0m\u001b[0miter_data\u001b[0m\u001b[0;34m(\u001b[0m\u001b[0mgrouping_vars\u001b[0m\u001b[0;34m,\u001b[0m \u001b[0mfrom_comp_data\u001b[0m\u001b[0;34m=\u001b[0m\u001b[0;32mTrue\u001b[0m\u001b[0;34m)\u001b[0m\u001b[0;34m:\u001b[0m\u001b[0;34m\u001b[0m\u001b[0;34m\u001b[0m\u001b[0m\n\u001b[0m\u001b[1;32m    472\u001b[0m \u001b[0;34m\u001b[0m\u001b[0m\n\u001b[1;32m    473\u001b[0m             \u001b[0;32mif\u001b[0m \u001b[0mself\u001b[0m\u001b[0;34m.\u001b[0m\u001b[0msort\u001b[0m\u001b[0;34m:\u001b[0m\u001b[0;34m\u001b[0m\u001b[0;34m\u001b[0m\u001b[0m\n",
      "\u001b[0;32m~/miniconda3/envs/mienv/lib/python3.7/site-packages/seaborn/_core.py\u001b[0m in \u001b[0;36miter_data\u001b[0;34m(self, grouping_vars, reverse, from_comp_data)\u001b[0m\n\u001b[1;32m    981\u001b[0m \u001b[0;34m\u001b[0m\u001b[0m\n\u001b[1;32m    982\u001b[0m         \u001b[0;32mif\u001b[0m \u001b[0mfrom_comp_data\u001b[0m\u001b[0;34m:\u001b[0m\u001b[0;34m\u001b[0m\u001b[0;34m\u001b[0m\u001b[0m\n\u001b[0;32m--> 983\u001b[0;31m             \u001b[0mdata\u001b[0m \u001b[0;34m=\u001b[0m \u001b[0mself\u001b[0m\u001b[0;34m.\u001b[0m\u001b[0mcomp_data\u001b[0m\u001b[0;34m\u001b[0m\u001b[0;34m\u001b[0m\u001b[0m\n\u001b[0m\u001b[1;32m    984\u001b[0m         \u001b[0;32melse\u001b[0m\u001b[0;34m:\u001b[0m\u001b[0;34m\u001b[0m\u001b[0;34m\u001b[0m\u001b[0m\n\u001b[1;32m    985\u001b[0m             \u001b[0mdata\u001b[0m \u001b[0;34m=\u001b[0m \u001b[0mself\u001b[0m\u001b[0;34m.\u001b[0m\u001b[0mplot_data\u001b[0m\u001b[0;34m\u001b[0m\u001b[0;34m\u001b[0m\u001b[0m\n",
      "\u001b[0;32m~/miniconda3/envs/mienv/lib/python3.7/site-packages/seaborn/_core.py\u001b[0m in \u001b[0;36mcomp_data\u001b[0;34m(self)\u001b[0m\n\u001b[1;32m   1055\u001b[0m                     \u001b[0morig\u001b[0m \u001b[0;34m=\u001b[0m \u001b[0mself\u001b[0m\u001b[0;34m.\u001b[0m\u001b[0mplot_data\u001b[0m\u001b[0;34m[\u001b[0m\u001b[0mvar\u001b[0m\u001b[0;34m]\u001b[0m\u001b[0;34m.\u001b[0m\u001b[0mdropna\u001b[0m\u001b[0;34m(\u001b[0m\u001b[0;34m)\u001b[0m\u001b[0;34m\u001b[0m\u001b[0;34m\u001b[0m\u001b[0m\n\u001b[1;32m   1056\u001b[0m                 \u001b[0mcomp_col\u001b[0m \u001b[0;34m=\u001b[0m \u001b[0mpd\u001b[0m\u001b[0;34m.\u001b[0m\u001b[0mSeries\u001b[0m\u001b[0;34m(\u001b[0m\u001b[0mindex\u001b[0m\u001b[0;34m=\u001b[0m\u001b[0morig\u001b[0m\u001b[0;34m.\u001b[0m\u001b[0mindex\u001b[0m\u001b[0;34m,\u001b[0m \u001b[0mdtype\u001b[0m\u001b[0;34m=\u001b[0m\u001b[0mfloat\u001b[0m\u001b[0;34m,\u001b[0m \u001b[0mname\u001b[0m\u001b[0;34m=\u001b[0m\u001b[0mvar\u001b[0m\u001b[0;34m)\u001b[0m\u001b[0;34m\u001b[0m\u001b[0;34m\u001b[0m\u001b[0m\n\u001b[0;32m-> 1057\u001b[0;31m                 \u001b[0mcomp_col\u001b[0m\u001b[0;34m.\u001b[0m\u001b[0mloc\u001b[0m\u001b[0;34m[\u001b[0m\u001b[0morig\u001b[0m\u001b[0;34m.\u001b[0m\u001b[0mindex\u001b[0m\u001b[0;34m]\u001b[0m \u001b[0;34m=\u001b[0m \u001b[0mpd\u001b[0m\u001b[0;34m.\u001b[0m\u001b[0mto_numeric\u001b[0m\u001b[0;34m(\u001b[0m\u001b[0maxis\u001b[0m\u001b[0;34m.\u001b[0m\u001b[0mconvert_units\u001b[0m\u001b[0;34m(\u001b[0m\u001b[0morig\u001b[0m\u001b[0;34m)\u001b[0m\u001b[0;34m)\u001b[0m\u001b[0;34m\u001b[0m\u001b[0;34m\u001b[0m\u001b[0m\n\u001b[0m\u001b[1;32m   1058\u001b[0m \u001b[0;34m\u001b[0m\u001b[0m\n\u001b[1;32m   1059\u001b[0m                 \u001b[0;32mif\u001b[0m \u001b[0maxis\u001b[0m\u001b[0;34m.\u001b[0m\u001b[0mget_scale\u001b[0m\u001b[0;34m(\u001b[0m\u001b[0;34m)\u001b[0m \u001b[0;34m==\u001b[0m \u001b[0;34m\"log\"\u001b[0m\u001b[0;34m:\u001b[0m\u001b[0;34m\u001b[0m\u001b[0;34m\u001b[0m\u001b[0m\n",
      "\u001b[0;32m~/miniconda3/envs/mienv/lib/python3.7/site-packages/pandas/core/indexing.py\u001b[0m in \u001b[0;36m__setitem__\u001b[0;34m(self, key, value)\u001b[0m\n\u001b[1;32m    721\u001b[0m \u001b[0;34m\u001b[0m\u001b[0m\n\u001b[1;32m    722\u001b[0m         \u001b[0miloc\u001b[0m \u001b[0;34m=\u001b[0m \u001b[0mself\u001b[0m \u001b[0;32mif\u001b[0m \u001b[0mself\u001b[0m\u001b[0;34m.\u001b[0m\u001b[0mname\u001b[0m \u001b[0;34m==\u001b[0m \u001b[0;34m\"iloc\"\u001b[0m \u001b[0;32melse\u001b[0m \u001b[0mself\u001b[0m\u001b[0;34m.\u001b[0m\u001b[0mobj\u001b[0m\u001b[0;34m.\u001b[0m\u001b[0miloc\u001b[0m\u001b[0;34m\u001b[0m\u001b[0;34m\u001b[0m\u001b[0m\n\u001b[0;32m--> 723\u001b[0;31m         \u001b[0miloc\u001b[0m\u001b[0;34m.\u001b[0m\u001b[0m_setitem_with_indexer\u001b[0m\u001b[0;34m(\u001b[0m\u001b[0mindexer\u001b[0m\u001b[0;34m,\u001b[0m \u001b[0mvalue\u001b[0m\u001b[0;34m,\u001b[0m \u001b[0mself\u001b[0m\u001b[0;34m.\u001b[0m\u001b[0mname\u001b[0m\u001b[0;34m)\u001b[0m\u001b[0;34m\u001b[0m\u001b[0;34m\u001b[0m\u001b[0m\n\u001b[0m\u001b[1;32m    724\u001b[0m \u001b[0;34m\u001b[0m\u001b[0m\n\u001b[1;32m    725\u001b[0m     \u001b[0;32mdef\u001b[0m \u001b[0m_validate_key\u001b[0m\u001b[0;34m(\u001b[0m\u001b[0mself\u001b[0m\u001b[0;34m,\u001b[0m \u001b[0mkey\u001b[0m\u001b[0;34m,\u001b[0m \u001b[0maxis\u001b[0m\u001b[0;34m:\u001b[0m \u001b[0mint\u001b[0m\u001b[0;34m)\u001b[0m\u001b[0;34m:\u001b[0m\u001b[0;34m\u001b[0m\u001b[0;34m\u001b[0m\u001b[0m\n",
      "\u001b[0;32m~/miniconda3/envs/mienv/lib/python3.7/site-packages/pandas/core/indexing.py\u001b[0m in \u001b[0;36m_setitem_with_indexer\u001b[0;34m(self, indexer, value, name)\u001b[0m\n\u001b[1;32m   1730\u001b[0m             \u001b[0mself\u001b[0m\u001b[0;34m.\u001b[0m\u001b[0m_setitem_with_indexer_split_path\u001b[0m\u001b[0;34m(\u001b[0m\u001b[0mindexer\u001b[0m\u001b[0;34m,\u001b[0m \u001b[0mvalue\u001b[0m\u001b[0;34m,\u001b[0m \u001b[0mname\u001b[0m\u001b[0;34m)\u001b[0m\u001b[0;34m\u001b[0m\u001b[0;34m\u001b[0m\u001b[0m\n\u001b[1;32m   1731\u001b[0m         \u001b[0;32melse\u001b[0m\u001b[0;34m:\u001b[0m\u001b[0;34m\u001b[0m\u001b[0;34m\u001b[0m\u001b[0m\n\u001b[0;32m-> 1732\u001b[0;31m             \u001b[0mself\u001b[0m\u001b[0;34m.\u001b[0m\u001b[0m_setitem_single_block\u001b[0m\u001b[0;34m(\u001b[0m\u001b[0mindexer\u001b[0m\u001b[0;34m,\u001b[0m \u001b[0mvalue\u001b[0m\u001b[0;34m,\u001b[0m \u001b[0mname\u001b[0m\u001b[0;34m)\u001b[0m\u001b[0;34m\u001b[0m\u001b[0;34m\u001b[0m\u001b[0m\n\u001b[0m\u001b[1;32m   1733\u001b[0m \u001b[0;34m\u001b[0m\u001b[0m\n\u001b[1;32m   1734\u001b[0m     \u001b[0;32mdef\u001b[0m \u001b[0m_setitem_with_indexer_split_path\u001b[0m\u001b[0;34m(\u001b[0m\u001b[0mself\u001b[0m\u001b[0;34m,\u001b[0m \u001b[0mindexer\u001b[0m\u001b[0;34m,\u001b[0m \u001b[0mvalue\u001b[0m\u001b[0;34m,\u001b[0m \u001b[0mname\u001b[0m\u001b[0;34m:\u001b[0m \u001b[0mstr\u001b[0m\u001b[0;34m)\u001b[0m\u001b[0;34m:\u001b[0m\u001b[0;34m\u001b[0m\u001b[0;34m\u001b[0m\u001b[0m\n",
      "\u001b[0;32m~/miniconda3/envs/mienv/lib/python3.7/site-packages/pandas/core/indexing.py\u001b[0m in \u001b[0;36m_setitem_single_block\u001b[0;34m(self, indexer, value, name)\u001b[0m\n\u001b[1;32m   1957\u001b[0m             \u001b[0;31m# setting for extensionarrays that store dicts. Need to decide\u001b[0m\u001b[0;34m\u001b[0m\u001b[0;34m\u001b[0m\u001b[0;34m\u001b[0m\u001b[0m\n\u001b[1;32m   1958\u001b[0m             \u001b[0;31m# if it's worth supporting that.\u001b[0m\u001b[0;34m\u001b[0m\u001b[0;34m\u001b[0m\u001b[0;34m\u001b[0m\u001b[0m\n\u001b[0;32m-> 1959\u001b[0;31m             \u001b[0mvalue\u001b[0m \u001b[0;34m=\u001b[0m \u001b[0mself\u001b[0m\u001b[0;34m.\u001b[0m\u001b[0m_align_series\u001b[0m\u001b[0;34m(\u001b[0m\u001b[0mindexer\u001b[0m\u001b[0;34m,\u001b[0m \u001b[0mSeries\u001b[0m\u001b[0;34m(\u001b[0m\u001b[0mvalue\u001b[0m\u001b[0;34m)\u001b[0m\u001b[0;34m)\u001b[0m\u001b[0;34m\u001b[0m\u001b[0;34m\u001b[0m\u001b[0m\n\u001b[0m\u001b[1;32m   1960\u001b[0m \u001b[0;34m\u001b[0m\u001b[0m\n\u001b[1;32m   1961\u001b[0m         \u001b[0;32melif\u001b[0m \u001b[0misinstance\u001b[0m\u001b[0;34m(\u001b[0m\u001b[0mvalue\u001b[0m\u001b[0;34m,\u001b[0m \u001b[0mABCDataFrame\u001b[0m\u001b[0;34m)\u001b[0m \u001b[0;32mand\u001b[0m \u001b[0mname\u001b[0m \u001b[0;34m!=\u001b[0m \u001b[0;34m\"iloc\"\u001b[0m\u001b[0;34m:\u001b[0m\u001b[0;34m\u001b[0m\u001b[0;34m\u001b[0m\u001b[0m\n",
      "\u001b[0;32m~/miniconda3/envs/mienv/lib/python3.7/site-packages/pandas/core/indexing.py\u001b[0m in \u001b[0;36m_align_series\u001b[0;34m(self, indexer, ser, multiindex_indexer)\u001b[0m\n\u001b[1;32m   2094\u001b[0m             \u001b[0;31m# series, so need to broadcast (see GH5206)\u001b[0m\u001b[0;34m\u001b[0m\u001b[0;34m\u001b[0m\u001b[0;34m\u001b[0m\u001b[0m\n\u001b[1;32m   2095\u001b[0m             \u001b[0;32mif\u001b[0m \u001b[0msum_aligners\u001b[0m \u001b[0;34m==\u001b[0m \u001b[0mself\u001b[0m\u001b[0;34m.\u001b[0m\u001b[0mndim\u001b[0m \u001b[0;32mand\u001b[0m \u001b[0mall\u001b[0m\u001b[0;34m(\u001b[0m\u001b[0mis_sequence\u001b[0m\u001b[0;34m(\u001b[0m\u001b[0m_\u001b[0m\u001b[0;34m)\u001b[0m \u001b[0;32mfor\u001b[0m \u001b[0m_\u001b[0m \u001b[0;32min\u001b[0m \u001b[0mindexer\u001b[0m\u001b[0;34m)\u001b[0m\u001b[0;34m:\u001b[0m\u001b[0;34m\u001b[0m\u001b[0;34m\u001b[0m\u001b[0m\n\u001b[0;32m-> 2096\u001b[0;31m                 \u001b[0mser\u001b[0m \u001b[0;34m=\u001b[0m \u001b[0mser\u001b[0m\u001b[0;34m.\u001b[0m\u001b[0mreindex\u001b[0m\u001b[0;34m(\u001b[0m\u001b[0mobj\u001b[0m\u001b[0;34m.\u001b[0m\u001b[0maxes\u001b[0m\u001b[0;34m[\u001b[0m\u001b[0;36m0\u001b[0m\u001b[0;34m]\u001b[0m\u001b[0;34m[\u001b[0m\u001b[0mindexer\u001b[0m\u001b[0;34m[\u001b[0m\u001b[0;36m0\u001b[0m\u001b[0;34m]\u001b[0m\u001b[0;34m]\u001b[0m\u001b[0;34m,\u001b[0m \u001b[0mcopy\u001b[0m\u001b[0;34m=\u001b[0m\u001b[0;32mTrue\u001b[0m\u001b[0;34m)\u001b[0m\u001b[0;34m.\u001b[0m\u001b[0m_values\u001b[0m\u001b[0;34m\u001b[0m\u001b[0;34m\u001b[0m\u001b[0m\n\u001b[0m\u001b[1;32m   2097\u001b[0m \u001b[0;34m\u001b[0m\u001b[0m\n\u001b[1;32m   2098\u001b[0m                 \u001b[0;31m# single indexer\u001b[0m\u001b[0;34m\u001b[0m\u001b[0;34m\u001b[0m\u001b[0;34m\u001b[0m\u001b[0m\n",
      "\u001b[0;32m~/miniconda3/envs/mienv/lib/python3.7/site-packages/pandas/core/series.py\u001b[0m in \u001b[0;36mreindex\u001b[0;34m(self, index, **kwargs)\u001b[0m\n\u001b[1;32m   4578\u001b[0m     )\n\u001b[1;32m   4579\u001b[0m     \u001b[0;32mdef\u001b[0m \u001b[0mreindex\u001b[0m\u001b[0;34m(\u001b[0m\u001b[0mself\u001b[0m\u001b[0;34m,\u001b[0m \u001b[0mindex\u001b[0m\u001b[0;34m=\u001b[0m\u001b[0;32mNone\u001b[0m\u001b[0;34m,\u001b[0m \u001b[0;34m**\u001b[0m\u001b[0mkwargs\u001b[0m\u001b[0;34m)\u001b[0m\u001b[0;34m:\u001b[0m\u001b[0;34m\u001b[0m\u001b[0;34m\u001b[0m\u001b[0m\n\u001b[0;32m-> 4580\u001b[0;31m         \u001b[0;32mreturn\u001b[0m \u001b[0msuper\u001b[0m\u001b[0;34m(\u001b[0m\u001b[0;34m)\u001b[0m\u001b[0;34m.\u001b[0m\u001b[0mreindex\u001b[0m\u001b[0;34m(\u001b[0m\u001b[0mindex\u001b[0m\u001b[0;34m=\u001b[0m\u001b[0mindex\u001b[0m\u001b[0;34m,\u001b[0m \u001b[0;34m**\u001b[0m\u001b[0mkwargs\u001b[0m\u001b[0;34m)\u001b[0m\u001b[0;34m\u001b[0m\u001b[0;34m\u001b[0m\u001b[0m\n\u001b[0m\u001b[1;32m   4581\u001b[0m \u001b[0;34m\u001b[0m\u001b[0m\n\u001b[1;32m   4582\u001b[0m     \u001b[0;34m@\u001b[0m\u001b[0mdeprecate_nonkeyword_arguments\u001b[0m\u001b[0;34m(\u001b[0m\u001b[0mversion\u001b[0m\u001b[0;34m=\u001b[0m\u001b[0;32mNone\u001b[0m\u001b[0;34m,\u001b[0m \u001b[0mallowed_args\u001b[0m\u001b[0;34m=\u001b[0m\u001b[0;34m[\u001b[0m\u001b[0;34m\"self\"\u001b[0m\u001b[0;34m,\u001b[0m \u001b[0;34m\"labels\"\u001b[0m\u001b[0;34m]\u001b[0m\u001b[0;34m)\u001b[0m\u001b[0;34m\u001b[0m\u001b[0;34m\u001b[0m\u001b[0m\n",
      "\u001b[0;32m~/miniconda3/envs/mienv/lib/python3.7/site-packages/pandas/core/generic.py\u001b[0m in \u001b[0;36mreindex\u001b[0;34m(self, *args, **kwargs)\u001b[0m\n\u001b[1;32m   4817\u001b[0m         \u001b[0;31m# perform the reindex on the axes\u001b[0m\u001b[0;34m\u001b[0m\u001b[0;34m\u001b[0m\u001b[0;34m\u001b[0m\u001b[0m\n\u001b[1;32m   4818\u001b[0m         return self._reindex_axes(\n\u001b[0;32m-> 4819\u001b[0;31m             \u001b[0maxes\u001b[0m\u001b[0;34m,\u001b[0m \u001b[0mlevel\u001b[0m\u001b[0;34m,\u001b[0m \u001b[0mlimit\u001b[0m\u001b[0;34m,\u001b[0m \u001b[0mtolerance\u001b[0m\u001b[0;34m,\u001b[0m \u001b[0mmethod\u001b[0m\u001b[0;34m,\u001b[0m \u001b[0mfill_value\u001b[0m\u001b[0;34m,\u001b[0m \u001b[0mcopy\u001b[0m\u001b[0;34m\u001b[0m\u001b[0;34m\u001b[0m\u001b[0m\n\u001b[0m\u001b[1;32m   4820\u001b[0m         ).__finalize__(self, method=\"reindex\")\n\u001b[1;32m   4821\u001b[0m \u001b[0;34m\u001b[0m\u001b[0m\n",
      "\u001b[0;32m~/miniconda3/envs/mienv/lib/python3.7/site-packages/pandas/core/generic.py\u001b[0m in \u001b[0;36m_reindex_axes\u001b[0;34m(self, axes, level, limit, tolerance, method, fill_value, copy)\u001b[0m\n\u001b[1;32m   4841\u001b[0m                 \u001b[0mfill_value\u001b[0m\u001b[0;34m=\u001b[0m\u001b[0mfill_value\u001b[0m\u001b[0;34m,\u001b[0m\u001b[0;34m\u001b[0m\u001b[0;34m\u001b[0m\u001b[0m\n\u001b[1;32m   4842\u001b[0m                 \u001b[0mcopy\u001b[0m\u001b[0;34m=\u001b[0m\u001b[0mcopy\u001b[0m\u001b[0;34m,\u001b[0m\u001b[0;34m\u001b[0m\u001b[0;34m\u001b[0m\u001b[0m\n\u001b[0;32m-> 4843\u001b[0;31m                 \u001b[0mallow_dups\u001b[0m\u001b[0;34m=\u001b[0m\u001b[0;32mFalse\u001b[0m\u001b[0;34m,\u001b[0m\u001b[0;34m\u001b[0m\u001b[0;34m\u001b[0m\u001b[0m\n\u001b[0m\u001b[1;32m   4844\u001b[0m             )\n\u001b[1;32m   4845\u001b[0m \u001b[0;34m\u001b[0m\u001b[0m\n",
      "\u001b[0;32m~/miniconda3/envs/mienv/lib/python3.7/site-packages/pandas/core/generic.py\u001b[0m in \u001b[0;36m_reindex_with_indexers\u001b[0;34m(self, reindexers, fill_value, copy, allow_dups)\u001b[0m\n\u001b[1;32m   4887\u001b[0m                 \u001b[0mfill_value\u001b[0m\u001b[0;34m=\u001b[0m\u001b[0mfill_value\u001b[0m\u001b[0;34m,\u001b[0m\u001b[0;34m\u001b[0m\u001b[0;34m\u001b[0m\u001b[0m\n\u001b[1;32m   4888\u001b[0m                 \u001b[0mallow_dups\u001b[0m\u001b[0;34m=\u001b[0m\u001b[0mallow_dups\u001b[0m\u001b[0;34m,\u001b[0m\u001b[0;34m\u001b[0m\u001b[0;34m\u001b[0m\u001b[0m\n\u001b[0;32m-> 4889\u001b[0;31m                 \u001b[0mcopy\u001b[0m\u001b[0;34m=\u001b[0m\u001b[0mcopy\u001b[0m\u001b[0;34m,\u001b[0m\u001b[0;34m\u001b[0m\u001b[0;34m\u001b[0m\u001b[0m\n\u001b[0m\u001b[1;32m   4890\u001b[0m             )\n\u001b[1;32m   4891\u001b[0m             \u001b[0;31m# If we've made a copy once, no need to make another one\u001b[0m\u001b[0;34m\u001b[0m\u001b[0;34m\u001b[0m\u001b[0;34m\u001b[0m\u001b[0m\n",
      "\u001b[0;32m~/miniconda3/envs/mienv/lib/python3.7/site-packages/pandas/core/internals/managers.py\u001b[0m in \u001b[0;36mreindex_indexer\u001b[0;34m(self, new_axis, indexer, axis, fill_value, allow_dups, copy, consolidate, only_slice)\u001b[0m\n\u001b[1;32m    668\u001b[0m         \u001b[0;31m# some axes don't allow reindexing with dups\u001b[0m\u001b[0;34m\u001b[0m\u001b[0;34m\u001b[0m\u001b[0;34m\u001b[0m\u001b[0m\n\u001b[1;32m    669\u001b[0m         \u001b[0;32mif\u001b[0m \u001b[0;32mnot\u001b[0m \u001b[0mallow_dups\u001b[0m\u001b[0;34m:\u001b[0m\u001b[0;34m\u001b[0m\u001b[0;34m\u001b[0m\u001b[0m\n\u001b[0;32m--> 670\u001b[0;31m             \u001b[0mself\u001b[0m\u001b[0;34m.\u001b[0m\u001b[0maxes\u001b[0m\u001b[0;34m[\u001b[0m\u001b[0maxis\u001b[0m\u001b[0;34m]\u001b[0m\u001b[0;34m.\u001b[0m\u001b[0m_validate_can_reindex\u001b[0m\u001b[0;34m(\u001b[0m\u001b[0mindexer\u001b[0m\u001b[0;34m)\u001b[0m\u001b[0;34m\u001b[0m\u001b[0;34m\u001b[0m\u001b[0m\n\u001b[0m\u001b[1;32m    671\u001b[0m \u001b[0;34m\u001b[0m\u001b[0m\n\u001b[1;32m    672\u001b[0m         \u001b[0;32mif\u001b[0m \u001b[0maxis\u001b[0m \u001b[0;34m>=\u001b[0m \u001b[0mself\u001b[0m\u001b[0;34m.\u001b[0m\u001b[0mndim\u001b[0m\u001b[0;34m:\u001b[0m\u001b[0;34m\u001b[0m\u001b[0;34m\u001b[0m\u001b[0m\n",
      "\u001b[0;32m~/miniconda3/envs/mienv/lib/python3.7/site-packages/pandas/core/indexes/base.py\u001b[0m in \u001b[0;36m_validate_can_reindex\u001b[0;34m(self, indexer)\u001b[0m\n\u001b[1;32m   3783\u001b[0m         \u001b[0;31m# trying to reindex on an axis with duplicates\u001b[0m\u001b[0;34m\u001b[0m\u001b[0;34m\u001b[0m\u001b[0;34m\u001b[0m\u001b[0m\n\u001b[1;32m   3784\u001b[0m         \u001b[0;32mif\u001b[0m \u001b[0;32mnot\u001b[0m \u001b[0mself\u001b[0m\u001b[0;34m.\u001b[0m\u001b[0m_index_as_unique\u001b[0m \u001b[0;32mand\u001b[0m \u001b[0mlen\u001b[0m\u001b[0;34m(\u001b[0m\u001b[0mindexer\u001b[0m\u001b[0;34m)\u001b[0m\u001b[0;34m:\u001b[0m\u001b[0;34m\u001b[0m\u001b[0;34m\u001b[0m\u001b[0m\n\u001b[0;32m-> 3785\u001b[0;31m             \u001b[0;32mraise\u001b[0m \u001b[0mValueError\u001b[0m\u001b[0;34m(\u001b[0m\u001b[0;34m\"cannot reindex from a duplicate axis\"\u001b[0m\u001b[0;34m)\u001b[0m\u001b[0;34m\u001b[0m\u001b[0;34m\u001b[0m\u001b[0m\n\u001b[0m\u001b[1;32m   3786\u001b[0m \u001b[0;34m\u001b[0m\u001b[0m\n\u001b[1;32m   3787\u001b[0m     def reindex(\n",
      "\u001b[0;31mValueError\u001b[0m: cannot reindex from a duplicate axis"
     ]
    },
    {
     "data": {
      "image/png": "[encoded data removed]",
      "text/plain": [
       "<Figure size 1400x600 with 1 Axes>"
      ]
     },
     "metadata": {},
     "output_type": "display_data"
    }
   ],
   "source": [
    "plot_converage_analysis_Fig6(df_RQI_results_final, hue_name='method_name', show_plot=True, outputdir=outputdir)"
   ]
  },
  {
   "cell_type": "code",
   "execution_count": null,
   "metadata": {},
   "outputs": [],
   "source": [
    "# df_RQI_results_final.sort_values(by=['threshold'])\n",
    "df_RQI_results_final['method_name'].unique()"
   ]
  },
  {
   "cell_type": "code",
   "execution_count": null,
   "metadata": {},
   "outputs": [],
   "source": [
    "def plot_errorVcoverage(df_RQI_results, ax, ax2, alpha=1):\n",
    "\n",
    "    fontsize = 10\n",
    "\n",
    "    ax.plot(df_RQI_results['threshold'].values, df_RQI_results['MAE'].values, color='steelblue', zorder=2, alpha=alpha)\n",
    "    ax.scatter(df_RQI_results['threshold'].values, df_RQI_results['MAE'].values, s=15, facecolors='white', edgecolors='steelblue', zorder=3, alpha=alpha)\n",
    "\n",
    "    ax.set_ylabel(\"MAE (BPM)\",fontsize=fontsize, color='steelblue')\n",
    "    ax.set_xlabel('threshold',fontsize=fontsize)\n",
    "\n",
    "#     ax2=ax.twinx()\n",
    "\n",
    "    ax2.plot(df_RQI_results['threshold'].values, df_RQI_results['coverage'].values, color='firebrick', zorder=1, alpha=alpha)\n",
    "    ax2.scatter(df_RQI_results['threshold'].values, df_RQI_results['coverage'].values, s=20, marker='x', color='firebrick', zorder=2, alpha=alpha)\n",
    "    ax2.set_ylabel(\"coverage (%)\",fontsize=fontsize,color='firebrick')\n",
    "\n",
    "#     plt.show()\n"
   ]
  },
  {
   "cell_type": "code",
   "execution_count": null,
   "metadata": {},
   "outputs": [],
   "source": [
    "df_RQI_results_final['method_name'].unique()\n",
    "\n"
   ]
  },
  {
   "cell_type": "code",
   "execution_count": null,
   "metadata": {},
   "outputs": [],
   "source": [
    "\n",
    "\n",
    "fig, ax = plt.subplots(1,1, figsize=(4,2), dpi=300)\n",
    "ax2=ax.twinx()\n",
    "for method_name in df_RQI_results_final['method_name'].unique():\n",
    "#     print(method_name, df_RQI_results['MAE'].max()-df_RQI_results['MAE'].min())\n",
    "    if method_name=='ST':\n",
    "        continue\n",
    "    if method_name=='UNet':\n",
    "        alpha=0.5\n",
    "        continue\n",
    "    if method_name=='MA-UNet':\n",
    "        alpha=1\n",
    "#         continue\n",
    "    df_RQI_results = df_RQI_results_final[df_RQI_results_final['method_name']==method_name]\n",
    "#     print(df_RQI_results.shape)\n",
    "\n",
    "    plot_errorVcoverage(df_RQI_results, ax, ax2, alpha=alpha)\n",
    "    \n",
    "    thre = 0.83\n",
    "    method_name = 'MA-UNet'\n",
    "    mask_df = (df_RQI_results_final['method_name']==method_name)\n",
    "    df_RQI_results = df_RQI_results_final[mask_df]\n",
    "    \n",
    "    i_line = np.argmin(np.abs(df_RQI_results['threshold']-thre))\n",
    "    x_value = df_RQI_results.iloc[i_line]['threshold']\n",
    "    mae = df_RQI_results.iloc[i_line]['MAE']\n",
    "    coverage = df_RQI_results.iloc[i_line]['coverage']\n",
    "    ax.axvline(x=x_value, color='gray', linestyle='--', zorder=0, alpha=0.7, linewidth=2)\n",
    "    \n",
    "    print(x_value, mae, coverage)\n",
    "\n",
    "    thre = 0\n",
    "    method_name = 'MA-UNet'\n",
    "    mask_df = (df_RQI_results_final['method_name']==method_name)\n",
    "    df_RQI_results = df_RQI_results_final[mask_df]\n",
    "    \n",
    "    i_line = np.argmin(np.abs(df_RQI_results['threshold']-thre))\n",
    "    x_value = df_RQI_results.iloc[i_line]['threshold']\n",
    "    mae = df_RQI_results.iloc[i_line]['MAE']\n",
    "    coverage = df_RQI_results.iloc[i_line]['coverage']\n",
    "    ax.axvline(x=x_value, color='gray', linestyle='--', zorder=0, alpha=0.7, linewidth=2)\n",
    "\n",
    "    print(x_value, mae, coverage)\n",
    "    # (df_outputlabel_Fig6['RQI_fft']>thre).mean()    \n",
    "    \n",
    "\n",
    "#     ax.set_ylim(0.8,2.2)\n",
    "#     ax2.set_ylim(75,105)\n",
    "\n",
    "#     ax.set_xlim(0,1.2)"
   ]
  },
  {
   "cell_type": "code",
   "execution_count": null,
   "metadata": {},
   "outputs": [],
   "source": []
  },
  {
   "cell_type": "code",
   "execution_count": null,
   "metadata": {},
   "outputs": [],
   "source": [
    "# i"
   ]
  },
  {
   "cell_type": "code",
   "execution_count": null,
   "metadata": {},
   "outputs": [],
   "source": [
    "# mask = df_RQI_results_final['method_name']=='MA-UNet'\n",
    "# mask = df_RQI_results_final['method_name']=='UNet'\n",
    "# df_RQI_results_final[mask]"
   ]
  },
  {
   "cell_type": "code",
   "execution_count": null,
   "metadata": {},
   "outputs": [],
   "source": []
  },
  {
   "cell_type": "code",
   "execution_count": null,
   "metadata": {},
   "outputs": [],
   "source": []
  },
  {
   "cell_type": "code",
   "execution_count": null,
   "metadata": {},
   "outputs": [],
   "source": []
  },
  {
   "cell_type": "code",
   "execution_count": null,
   "metadata": {},
   "outputs": [],
   "source": []
  },
  {
   "cell_type": "code",
   "execution_count": null,
   "metadata": {},
   "outputs": [],
   "source": []
  },
  {
   "cell_type": "code",
   "execution_count": null,
   "metadata": {},
   "outputs": [],
   "source": []
  },
  {
   "cell_type": "code",
   "execution_count": null,
   "metadata": {},
   "outputs": [],
   "source": []
  },
  {
   "cell_type": "code",
   "execution_count": null,
   "metadata": {},
   "outputs": [],
   "source": []
  },
  {
   "cell_type": "code",
   "execution_count": null,
   "metadata": {},
   "outputs": [],
   "source": []
  },
  {
   "cell_type": "code",
   "execution_count": null,
   "metadata": {},
   "outputs": [],
   "source": []
  },
  {
   "cell_type": "code",
   "execution_count": null,
   "metadata": {},
   "outputs": [],
   "source": []
  },
  {
   "cell_type": "code",
   "execution_count": null,
   "metadata": {},
   "outputs": [],
   "source": [
    "thre = 0.833\n",
    "# method_name = 'ST'\n",
    "# method_name = 'UNet'\n",
    "method_name = 'MA-UNet'\n",
    "\n",
    "mask_df = (df_outputlabel_Fig6['method_name']==method_name) & (df_outputlabel_Fig6['RQI_fft']>thre)\n",
    "df_outputlabel = df_outputlabel_Fig6[mask_df]\n",
    "\n",
    "(df_outputlabel_Fig6['RQI_fft']>thre).mean()"
   ]
  },
  {
   "cell_type": "code",
   "execution_count": null,
   "metadata": {},
   "outputs": [],
   "source": []
  },
  {
   "cell_type": "code",
   "execution_count": null,
   "metadata": {},
   "outputs": [],
   "source": [
    "df_performance_agg = get_df_performance_agg(df_outputlabel)\n",
    "# df_performance_agg"
   ]
  },
  {
   "cell_type": "code",
   "execution_count": null,
   "metadata": {},
   "outputs": [],
   "source": [
    "# df_performance_agg = df_performance_agg[df_performance_agg['method']=='U-Net-AT_block']\n",
    "df_performance_agg = df_performance_agg[df_performance_agg['method']=='ST']\n",
    "# df_performance_agg"
   ]
  },
  {
   "cell_type": "code",
   "execution_count": null,
   "metadata": {},
   "outputs": [],
   "source": [
    "# df_outputlabel_Fig6['method_name'].unique()"
   ]
  },
  {
   "cell_type": "code",
   "execution_count": null,
   "metadata": {},
   "outputs": [],
   "source": [
    "# for metric_name in ['MAE_mean', 'MAPE', 'RMSE', 'PCC', 'CoeffDeterm']:\n",
    "\n",
    "#     print('{}: {:.2f}+/-{:.2f}'.format(metric_name, df_performance_agg[metric_name].mean(), df_performance_agg[metric_name].std()) )\n",
    "\n",
    "# # df_performance_agg['MAE_mean'].mean(), df_performance_agg['MAE_mean'].std()"
   ]
  },
  {
   "cell_type": "code",
   "execution_count": null,
   "metadata": {},
   "outputs": [],
   "source": [
    "# df_outputlabel['CV'].unique().shape"
   ]
  },
  {
   "cell_type": "code",
   "execution_count": null,
   "metadata": {},
   "outputs": [],
   "source": [
    "# traning_dir = '../../data/stage4_UNet_backup/CDC_dataset/ECGPPG/AT_block/target'\n",
    "# Estimation_EE/data/stage4_UNet/CDC_dataset/ECG-SR+PPG-select/AT_block/target/training_params.npz\n",
    "\n",
    "\n",
    "traning_dir = inputdir + 'CDC_dataset/ECG-SR+PPG-select/AT_block/target/'\n",
    "training_params = data_loader('training_params', traning_dir).item()\n",
    "training_params['label_range'] = '4,61'"
   ]
  },
  {
   "cell_type": "code",
   "execution_count": null,
   "metadata": {},
   "outputs": [],
   "source": []
  },
  {
   "cell_type": "code",
   "execution_count": null,
   "metadata": {},
   "outputs": [],
   "source": [
    "training_params['show_metrics'] = True"
   ]
  },
  {
   "cell_type": "code",
   "execution_count": null,
   "metadata": {},
   "outputs": [],
   "source": [
    "task = 'RR_cosmed'\n",
    "plot_regression(df_outputlabel, task, training_params, single_color=True, fig_name='regression_{}'.format(method_name), show_plot=True, outputdir=outputdir)\n",
    "# plot_regression(df_outputlabel, task, training_params, single_color=False, fig_name='regression_{}'.format(method_name), show_plot=True, outputdir=outputdir)"
   ]
  },
  {
   "cell_type": "code",
   "execution_count": null,
   "metadata": {},
   "outputs": [],
   "source": [
    "plot_BA(df_outputlabel, task, training_params=training_params, single_color=True, fig_name='BA_{}'.format(method_name), show_plot=True, outputdir=outputdir)\n"
   ]
  },
  {
   "cell_type": "code",
   "execution_count": null,
   "metadata": {},
   "outputs": [],
   "source": [
    "# df_RQI_results[df_RQI_results['RQI_name']=='RQI_kurtosis']"
   ]
  },
  {
   "cell_type": "code",
   "execution_count": null,
   "metadata": {},
   "outputs": [],
   "source": [
    "# fig, ax = plt.subplots(figsize=(5, 5), dpi=200)\n",
    "# ax"
   ]
  },
  {
   "cell_type": "code",
   "execution_count": null,
   "metadata": {},
   "outputs": [],
   "source": []
  },
  {
   "cell_type": "code",
   "execution_count": null,
   "metadata": {},
   "outputs": [],
   "source": []
  },
  {
   "cell_type": "code",
   "execution_count": null,
   "metadata": {},
   "outputs": [],
   "source": []
  },
  {
   "cell_type": "code",
   "execution_count": null,
   "metadata": {},
   "outputs": [],
   "source": []
  },
  {
   "cell_type": "code",
   "execution_count": null,
   "metadata": {},
   "outputs": [],
   "source": []
  },
  {
   "cell_type": "code",
   "execution_count": null,
   "metadata": {},
   "outputs": [],
   "source": []
  },
  {
   "cell_type": "code",
   "execution_count": null,
   "metadata": {},
   "outputs": [],
   "source": [
    "sys.exit()"
   ]
  },
  {
   "cell_type": "code",
   "execution_count": null,
   "metadata": {},
   "outputs": [],
   "source": []
  },
  {
   "cell_type": "code",
   "execution_count": null,
   "metadata": {},
   "outputs": [],
   "source": []
  },
  {
   "cell_type": "code",
   "execution_count": null,
   "metadata": {},
   "outputs": [],
   "source": []
  },
  {
   "cell_type": "code",
   "execution_count": null,
   "metadata": {},
   "outputs": [],
   "source": []
  },
  {
   "cell_type": "code",
   "execution_count": null,
   "metadata": {},
   "outputs": [],
   "source": []
  },
  {
   "cell_type": "code",
   "execution_count": null,
   "metadata": {},
   "outputs": [],
   "source": []
  },
  {
   "cell_type": "code",
   "execution_count": null,
   "metadata": {},
   "outputs": [],
   "source": []
  },
  {
   "cell_type": "code",
   "execution_count": null,
   "metadata": {},
   "outputs": [],
   "source": []
  },
  {
   "cell_type": "code",
   "execution_count": null,
   "metadata": {},
   "outputs": [],
   "source": [
    "hue_color_dict"
   ]
  },
  {
   "cell_type": "code",
   "execution_count": null,
   "metadata": {},
   "outputs": [],
   "source": [
    "\n",
    "df1 = df_performance_agg_joint[(df_performance_agg_joint['method']=='ST')&(df_performance_agg_joint['TF_type']=='target')].copy()\n",
    "df1['hue_name'] = 'ST'\n",
    "\n",
    "df2 = df_performance_agg_joint[(df_performance_agg_joint['method']=='ST RQI_fft')&(df_performance_agg_joint['TF_type']=='target')].copy()\n",
    "df2['hue_name'] = 'ST RQI_fft'\n",
    "\n",
    "method_name1 = 'U-Net'\n",
    "\n",
    "df3 = df_performance_agg_joint[(df_performance_agg_joint['method']=='{}'.format(method_name1))&(df_performance_agg_joint['TF_type']=='target')].copy()\n",
    "df3['hue_name'] = '{}'.format(method_name1)\n",
    "\n",
    "df4 = df_performance_agg_joint[(df_performance_agg_joint['method']=='{} RQI_fft'.format(method_name1))&(df_performance_agg_joint['TF_type']=='target')].copy()\n",
    "df4['hue_name'] = '{} RQI_fft'.format(method_name1)\n",
    "\n",
    "\n",
    "method_name2 = 'U-Net-AT_block'\n",
    "\n",
    "df5 = df_performance_agg_joint[(df_performance_agg_joint['method']=='{}'.format(method_name2))&(df_performance_agg_joint['TF_type']=='target')].copy()\n",
    "df5['hue_name'] = '{}'.format(method_name2)\n",
    "\n",
    "df6 = df_performance_agg_joint[(df_performance_agg_joint['method']=='{} RQI_fft'.format(method_name2))&(df_performance_agg_joint['TF_type']=='target')].copy()\n",
    "df6['hue_name'] = '{} RQI_fft'.format(method_name2)\n",
    "\n",
    "\n",
    "\n",
    "\n",
    "# df = pd.concat([df1, df2, df3, df4])\n",
    "df = pd.concat([df1, df2, df3, df4, df5, df6])\n",
    "hue_order = ['ST', 'ST RQI_fft', '{}'.format(method_name1), '{} RQI_fft'.format(method_name1), '{}'.format(method_name2), '{} RQI_fft'.format(method_name2)]\n",
    "fig_name = 'Fig7Xmod_{}'.format(act_type)\n",
    "plot_hue_compare(df, hue_order=hue_order, fig_name=fig_name, show_plot=True, outputdir=outputdir)\n"
   ]
  },
  {
   "cell_type": "code",
   "execution_count": null,
   "metadata": {},
   "outputs": [],
   "source": []
  },
  {
   "cell_type": "code",
   "execution_count": null,
   "metadata": {},
   "outputs": [],
   "source": [
    "N_sub = df['subject_id'].unique().shape[0]"
   ]
  },
  {
   "cell_type": "code",
   "execution_count": null,
   "metadata": {},
   "outputs": [],
   "source": [
    "print('check coverage for {}\\n'.format(act_type))\n",
    "\n",
    "for method in ['ST RQI_fft', 'U-Net RQI_fft', 'U-Net-AT_block RQI_fft']:\n",
    "    for modality in df['modality'].unique():\n",
    "        mask = (df['method']==method) & (df['modality']==modality)\n",
    "        if mask.sum()==0:\n",
    "            continue\n",
    "        coverage_arr = df[mask]['coverage'].values.copy()\n",
    "        coverage_arr.resize(N_sub)\n",
    "        print('{} | {}:\\t\\t{:.2f}+/-{:.2f}%'.format(method, modality, coverage_arr.mean(), coverage_arr.std()))\n",
    "    print()"
   ]
  },
  {
   "cell_type": "code",
   "execution_count": null,
   "metadata": {},
   "outputs": [],
   "source": [
    "sys.exit()"
   ]
  },
  {
   "cell_type": "code",
   "execution_count": null,
   "metadata": {},
   "outputs": [],
   "source": []
  },
  {
   "cell_type": "code",
   "execution_count": null,
   "metadata": {},
   "outputs": [],
   "source": []
  },
  {
   "cell_type": "code",
   "execution_count": null,
   "metadata": {},
   "outputs": [],
   "source": []
  },
  {
   "cell_type": "code",
   "execution_count": null,
   "metadata": {},
   "outputs": [],
   "source": []
  },
  {
   "cell_type": "code",
   "execution_count": null,
   "metadata": {},
   "outputs": [],
   "source": []
  },
  {
   "cell_type": "code",
   "execution_count": null,
   "metadata": {},
   "outputs": [],
   "source": []
  },
  {
   "cell_type": "code",
   "execution_count": null,
   "metadata": {},
   "outputs": [],
   "source": [
    "from scipy.special import softmax\n",
    "\n",
    "\n",
    "weights = np.random.rand(4, 2)\n",
    "\n",
    "weights = softmax(weights,axis=-1)"
   ]
  },
  {
   "cell_type": "code",
   "execution_count": null,
   "metadata": {},
   "outputs": [],
   "source": []
  },
  {
   "cell_type": "code",
   "execution_count": null,
   "metadata": {},
   "outputs": [],
   "source": [
    "# weights = np.random.rand(20)\n",
    "\n",
    "meta = np.ones(weights.shape[0])\n",
    "meta[-weights.shape[0]//2:] = 2\n",
    "t_arr = np.arange(1, weights.shape[0]+1, 1)"
   ]
  },
  {
   "cell_type": "code",
   "execution_count": null,
   "metadata": {},
   "outputs": [],
   "source": [
    "plt.plot(t_arr, meta)\n",
    "plt.scatter(t_arr, meta)\n",
    "plt.grid()\n",
    "\n",
    "plt.xticks(np.arange(1, weights.shape[0]+1, 1))\n",
    "#     ax_task.set_xticklabels(np.arange(1, weights.shape[0]+1, 1))\n",
    "#     ax_task.set_xticks(np.arange(-.5, weights.shape[0], 1), minor=True)\n",
    "plt.xlim(0.5,t_arr.max()+0.5)"
   ]
  },
  {
   "cell_type": "code",
   "execution_count": null,
   "metadata": {},
   "outputs": [],
   "source": [
    "    ax_task.plot(np.arange(1, weights.shape[0]+1, 1), meta[:,1])\n"
   ]
  },
  {
   "cell_type": "code",
   "execution_count": null,
   "metadata": {},
   "outputs": [],
   "source": []
  },
  {
   "cell_type": "code",
   "execution_count": null,
   "metadata": {},
   "outputs": [],
   "source": []
  },
  {
   "cell_type": "code",
   "execution_count": null,
   "metadata": {},
   "outputs": [],
   "source": [
    "def plot_attention(weights):\n",
    "    # weights dim: (N_sample, N_sig)\n",
    "\n",
    "    gs0 = gridspec.GridSpec(1,2, width_ratios=[0.1, 10])\n",
    "    fig = plt.figure(figsize=(weights.shape[0]/3,3), dpi=100)\n",
    "\n",
    "    ax = fig.add_subplot(gs0[0,1])\n",
    "    cax = fig.add_subplot(gs0[0,0])\n",
    "\n",
    "    vmin = weights.min()\n",
    "    vmax = weights.max()\n",
    "\n",
    "    im = ax.imshow(weights.T , cmap='viridis', aspect=\"auto\", origin='lower', vmin=vmin, vmax=vmax, interpolation='none',)\n",
    "\n",
    "    ax.set_xticks(np.arange(0, weights.shape[0], 1))\n",
    "    ax.set_yticks(np.arange(0, weights.shape[1], 1))\n",
    "\n",
    "    # Labels for major ticks\n",
    "    ax.set_xticklabels(np.arange(1, weights.shape[0]+1, 1))\n",
    "    ax.set_yticklabels(np.arange(1, weights.shape[1]+1, 1))\n",
    "\n",
    "    # Minor ticks\n",
    "    ax.set_xticks(np.arange(-.5, weights.shape[0], 1), minor=True)\n",
    "    ax.set_yticks(np.arange(-.5, weights.shape[1], 1), minor=True)\n",
    "\n",
    "    ax.grid(which='minor', color='w', linestyle='-', linewidth=0.5)\n",
    "\n",
    "    fig.colorbar(im, cax=cax)\n",
    "\n",
    "    fig.tight_layout()\n",
    "\n",
    "    plt.show()"
   ]
  },
  {
   "cell_type": "code",
   "execution_count": null,
   "metadata": {},
   "outputs": [],
   "source": []
  },
  {
   "cell_type": "code",
   "execution_count": null,
   "metadata": {},
   "outputs": [],
   "source": [
    "# plot_attention(weights)"
   ]
  },
  {
   "cell_type": "code",
   "execution_count": null,
   "metadata": {},
   "outputs": [],
   "source": []
  },
  {
   "cell_type": "code",
   "execution_count": null,
   "metadata": {},
   "outputs": [],
   "source": []
  },
  {
   "cell_type": "code",
   "execution_count": null,
   "metadata": {},
   "outputs": [],
   "source": []
  },
  {
   "cell_type": "code",
   "execution_count": null,
   "metadata": {},
   "outputs": [],
   "source": []
  },
  {
   "cell_type": "markdown",
   "metadata": {},
   "source": [
    "# get_df_performance_agg playground"
   ]
  },
  {
   "cell_type": "code",
   "execution_count": null,
   "metadata": {},
   "outputs": [],
   "source": []
  },
  {
   "cell_type": "code",
   "execution_count": null,
   "metadata": {},
   "outputs": [],
   "source": []
  },
  {
   "cell_type": "code",
   "execution_count": null,
   "metadata": {},
   "outputs": [],
   "source": []
  },
  {
   "cell_type": "code",
   "execution_count": null,
   "metadata": {},
   "outputs": [],
   "source": []
  },
  {
   "cell_type": "code",
   "execution_count": null,
   "metadata": {},
   "outputs": [],
   "source": [
    "method_color_dict = {\n",
    "#     'temporal': '#2471A3',\n",
    "    'ST': '#B1F2BE',\n",
    "    'ST RQI_kurtosis':'#689B72' ,\n",
    "    'U-Net':'#F3EBA1' ,\n",
    "#     'U-Net RQI_fft':'#b34b45' ,\n",
    "    'U-Net RQI_kurtosis':'#D2BB6E' ,\n",
    "    'U-Net RQI_fft':'#B2C110' ,\n",
    "    \n",
    "    'U-Net-SE_block':'#F696A6' ,\n",
    "    'U-Net-SE_block RQI_kurtosis':'#C05365' ,\n",
    "    'U-Net-SE_block RQI_fft':'#C4580C' ,\n",
    "}"
   ]
  },
  {
   "cell_type": "code",
   "execution_count": null,
   "metadata": {},
   "outputs": [],
   "source": [
    "# # task = 'Baseline'\n",
    "# # method = 'U-Net'\n",
    "# TF_type = 'target'\n",
    "# # df = df_performance_agg_joint[(df_performance_agg_joint['TF_type']==TF_type) & ((df_performance_agg_joint['method']==method) | (df_performance_agg_joint['method']==method+' RQI_kurtosis')) ]\n",
    "# df = df_performance_agg_joint[(df_performance_agg_joint['TF_type']==TF_type)]\n"
   ]
  },
  {
   "cell_type": "code",
   "execution_count": null,
   "metadata": {},
   "outputs": [],
   "source": []
  },
  {
   "cell_type": "code",
   "execution_count": null,
   "metadata": {},
   "outputs": [],
   "source": [
    "# def plot_TF_compare(df):\n",
    "#     metric_name = 'MAE_mean'\n",
    "\n",
    "#     fig, ax = plt.subplots(1,1, figsize=(7,5),dpi=250)\n",
    "\n",
    "#     # sns.violinplot(x=\"modality\", y=metric_name, hue=\"TF_type\", data=df, ax=ax, palette=TF_color_dict)\n",
    "#     sns.boxplot(x=\"modality\", y=metric_name, hue=\"TF_type\", data=df, ax=ax, palette=TF_color_dict, hue_order=list(TF_color_dict.keys()),  \n",
    "#                 showmeans=True,\n",
    "#                 meanprops={\"marker\":\"o\",\n",
    "#                            \"markerfacecolor\":\"white\", \n",
    "#                            \"markeredgecolor\":\"black\",\n",
    "#                           \"markersize\":\"5\"},\n",
    "#                )    \n",
    "# #     sns.swarmplot(x=\"modality\", y=metric_name, hue=\"TF_type\", data=df, ax=ax, color='black', hue_order=list(TF_color_dict.keys()), dodge=True, size=3, alpha=0.8)\n",
    "\n",
    "#     # get the lowest MAE\n",
    "#     MAE_lowest = []\n",
    "#     for TF_type in df['TF_type'].unique():\n",
    "#         for modality in df['modality'].unique():\n",
    "#             MAE_lowest.append( df[(df['modality']==modality) & (df['TF_type']==TF_type)][metric_name].mean() )\n",
    "#     MAE_lowest = min(MAE_lowest)\n",
    "    \n",
    "#     # xmin and xmax \n",
    "#     xmin = -.8\n",
    "#     xmax = df['modality'].unique().shape[0]-1+0.8\n",
    "#     ax.hlines(y=MAE_lowest, xmin=xmin, xmax=xmax, linewidth=3, color='#627565', alpha=0.5)\n",
    "#     ax.set_xlim(xmin,xmax)\n",
    "\n",
    "#     ax.yaxis.grid(True, which='major', color='gray',alpha=0.8)\n",
    "#     ax.yaxis.grid(True, which='minor', alpha=0.5)\n",
    "#     ax.legend(frameon=True, bbox_to_anchor=(1.05,1))\n",
    "#     ax.set_ylim(0,4)\n",
    "#     ax_no_top_right(ax)\n",
    "#     plt.show()"
   ]
  },
  {
   "cell_type": "code",
   "execution_count": null,
   "metadata": {},
   "outputs": [],
   "source": [
    "def plot_figure4(df, outputdir=None, show_plot=False):\n",
    "\n",
    "    x_name = 'modality'\n",
    "    y_name = 'MAE_mean'\n",
    "    hue_name = 'method'\n",
    "    col_name = 'task'\n",
    "    metric_name = 'MAE_mean'\n",
    "    \n",
    "    hue_order = ['ST', 'U-Net', 'U-Net-SE_block']\n",
    "\n",
    "    N_hue = len(df[hue_name].unique())\n",
    "    N_modality = len(df[x_name].unique())\n",
    "\n",
    "    # fig, ax = plt.subplots(1,1, figsize=(N_hue*15,5),dpi=150)\n",
    "\n",
    "    fig, ax = plt.subplots(1,1, figsize=(N_modality,6),dpi=180)\n",
    "\n",
    "    sns.boxplot(data=df, x=x_name, y=y_name, hue=hue_name, ax=ax, boxprops=dict(linewidth=1, alpha=0.7), showfliers = True, palette=method_color_dict, hue_order=hue_order,\n",
    "                showmeans=True,\n",
    "                meanprops={\"marker\":\"o\",\n",
    "                           \"markerfacecolor\":\"white\", \n",
    "                           \"markeredgecolor\":\"black\",\n",
    "                          \"markersize\":\"5\"},\n",
    "               )    \n",
    "    \n",
    "#     sns.stripplot(data=df, x=y_name, y=x_name, hue=hue_name, ax=ax, dodge=True, size=2, color='black', alpha=0.9, hue_order=hue_order)\n",
    "\n",
    "    # get the lowest MAE\n",
    "    MAE_lowest = []\n",
    "    for method in df['method'].unique():\n",
    "        for modality in df['modality'].unique():\n",
    "            MAE_lowest.append( df[(df['modality']==modality) & (df['method']==method)][metric_name].mean() )\n",
    "    MAE_lowest = min(MAE_lowest)\n",
    "    MAE_lowest\n",
    "    # xmin and xmax \n",
    "    xmin = -.8\n",
    "    xmax = df['modality'].unique().shape[0]-1+0.8\n",
    "    ax.hlines(y=MAE_lowest, xmin=xmin, xmax=xmax, linewidth=3, color='#627565', alpha=0.5)\n",
    "    ax.set_xlim(xmin,xmax)\n",
    "    \n",
    "#     ax.set_xlim(0,8)\n",
    "    # ax.set_xscale(\"log\")\n",
    "\n",
    "\n",
    "    # ax.legend().set_visible(False)\n",
    "    ax_no_top_right(ax)\n",
    "\n",
    "    xmin, xmax = ax.get_xlim()\n",
    "    ymin, ymax = ax.get_ylim()\n",
    "\n",
    "    # ax.hlines(y=1, xmin=xmin-0.5, xmax=xmax, linewidth=1, color='gray', alpha=0.5)\n",
    "    # ax.set_xlim(0, xmax)\n",
    "\n",
    "    ax.legend().set_visible(False)\n",
    "\n",
    "\n",
    "    handles, labels = ax.get_legend_handles_labels()\n",
    "\n",
    "    # When creating the legend, only use the first two elements\n",
    "    # to effectively remove the last two.\n",
    "    # l = plt.legend(handles[:N_hue], labels[:N_hue], bbox_to_anchor=(1.05, 1), loc=2, borderaxespad=0.)\n",
    "    l = plt.legend(handles[:N_hue], labels[:N_hue], loc='upper right', borderaxespad=0.)\n",
    "\n",
    "\n",
    "#     minor_ticks = np.arange(0, 10, 0.25)\n",
    "#     ax.set_yticks(minor_ticks, minor=True)\n",
    "   \n",
    "    ax.yaxis.grid(True, which='major', color='gray',alpha=0.8)\n",
    "    \n",
    "#     ax.yaxis.set_minor_locator(AutoMinorLocator(4))\n",
    "#     ax.yaxis.set_minor_locator(AutoMinorLocator(5))\n",
    "    ax.yaxis.grid(True, which='minor', color='gray', alpha=0.2)\n",
    "\n",
    "    ax.minorticks_on()\n",
    "\n",
    "#     ax.xaxis.set_minor_locator(AutoMinorLocator(2))\n",
    "    \n",
    "    ax.legend(frameon=True, bbox_to_anchor=(1.05,1))\n",
    "    ax.set_ylim(0,ymax)\n",
    "    ax_no_top_right(ax)\n",
    "    fig.tight_layout()\n",
    "\n",
    "\n",
    "    \n",
    "    if outputdir is not None:\n",
    "        if not os.path.exists(outputdir):\n",
    "            os.makedirs(outputdir)\n",
    "        fig.savefig(outputdir + 'figure4.png', facecolor=fig.get_facecolor())\n",
    "        \n",
    "    if show_plot == False:\n",
    "        plt.close(fig)\n",
    "        pyplot.close(fig)\n",
    "        plt.close('all')\n",
    "    plt.show()\n"
   ]
  },
  {
   "cell_type": "code",
   "execution_count": null,
   "metadata": {},
   "outputs": [],
   "source": []
  },
  {
   "cell_type": "code",
   "execution_count": null,
   "metadata": {},
   "outputs": [],
   "source": [
    "TF_type = 'target'\n",
    "df = df_performance_agg_joint[(df_performance_agg_joint['TF_type']==TF_type)]\n",
    "# df = df[(df['method']!='ST RQI_kurtosis') & (df['method']!='U-Net RQI_kurtosis') & (df['method']!='U-Net-SE_block RQI_kurtosis')]\n",
    "# df = df[(df['method']=='ST') | (df['method']=='U-Net') | (df['method']=='U-Net-SE_block')]\n",
    "df = df[(df['method']=='ST') | (df['method']=='U-Net')]\n",
    "plot_figure4(df, outputdir=outputdir, show_plot=True)\n",
    "\n"
   ]
  },
  {
   "cell_type": "code",
   "execution_count": null,
   "metadata": {},
   "outputs": [],
   "source": [
    "# TF_type = 'source'\n",
    "# df = df_performance_agg_joint[(df_performance_agg_joint['TF_type']==TF_type)]\n",
    "# # df = df[(df['method']!='ST RQI_kurtosis') & (df['method']!='U-Net RQI_kurtosis') & (df['method']!='U-Net-SE_block RQI_kurtosis')]\n",
    "# df = df[(df['method']=='ST') | (df['method']=='U-Net-SE_block')]\n",
    "# plot_figure4(df, outputdir=outputdir, show_plot=True)\n",
    "\n"
   ]
  },
  {
   "cell_type": "code",
   "execution_count": null,
   "metadata": {},
   "outputs": [],
   "source": [
    "# minor_ticks"
   ]
  },
  {
   "cell_type": "code",
   "execution_count": null,
   "metadata": {},
   "outputs": [],
   "source": []
  },
  {
   "cell_type": "code",
   "execution_count": null,
   "metadata": {},
   "outputs": [],
   "source": []
  },
  {
   "cell_type": "code",
   "execution_count": null,
   "metadata": {},
   "outputs": [],
   "source": []
  },
  {
   "cell_type": "code",
   "execution_count": null,
   "metadata": {},
   "outputs": [],
   "source": []
  },
  {
   "cell_type": "code",
   "execution_count": null,
   "metadata": {},
   "outputs": [],
   "source": [
    "def plot_MAE_4task(df):\n",
    "\n",
    "    x_name = 'modality'\n",
    "    y_name = 'MAE_mean'\n",
    "    hue_name = 'method'\n",
    "    col_name = 'task'\n",
    "\n",
    "    N_hue = len(df[hue_name].unique())\n",
    "\n",
    "    # fig, ax = plt.subplots(1,1, figsize=(N_hue*15,5),dpi=150)\n",
    "\n",
    "    fig = plt.figure(figsize=(N_hue*3,5), constrained_layout=True, dpi=120)\n",
    "\n",
    "\n",
    "    hue_order = ['ST', 'ST RQI_kurtosis', 'U-Net', 'U-Net RQI_kurtosis']\n",
    "\n",
    "    N_tasks = df['task'].unique().shape[0]\n",
    "    gs = gridspec.GridSpec(N_tasks, 1)\n",
    "\n",
    "    for i_task, task in enumerate(df['task'].unique()):\n",
    "        df_task = df[df['task']==task]\n",
    "        ax = fig.add_subplot(gs[i_task, 0])\n",
    "\n",
    "        sns.boxplot(data=df_task, x=x_name, y=y_name, hue=hue_name, ax=ax, boxprops=dict(linewidth=1, alpha=0.7), showfliers = False, palette=method_color_dict, hue_order=hue_order)\n",
    "        sns.stripplot(data=df_task, x=x_name, y=y_name, hue=hue_name, ax=ax, dodge=True, size=2, color='black', alpha=0.9, hue_order=hue_order)\n",
    "\n",
    "        ax.set_ylim(0,5)\n",
    "\n",
    "        ax.set_title(task)\n",
    "        ax.legend().set_visible(False)\n",
    "        ax_no_top_right(ax)\n",
    "\n",
    "        xmin, xmax = ax.get_xlim()\n",
    "\n",
    "        ax.hlines(y=1, xmin=xmin-0.5, xmax=xmax-0.5, linewidth=1, color='gray', alpha=0.5)\n",
    "        ax.set_xlim(xmin, xmax)\n",
    "\n",
    "    ax.legend().set_visible(True)\n",
    "\n",
    "    handles, labels = ax.get_legend_handles_labels()\n",
    "\n",
    "    # When creating the legend, only use the first two elements\n",
    "    # to effectively remove the last two.\n",
    "    l = plt.legend(handles[:N_hue], labels[:N_hue], bbox_to_anchor=(1.05, 1), loc=2, borderaxespad=0.)\n",
    "    fig.tight_layout()\n",
    "\n"
   ]
  },
  {
   "cell_type": "code",
   "execution_count": null,
   "metadata": {},
   "outputs": [],
   "source": [
    "TF_type = 'target'\n",
    "df = df_performance_agg_joint[(df_performance_agg_joint['TF_type']==TF_type)]\n",
    "plot_MAE_4task(df)\n"
   ]
  },
  {
   "cell_type": "code",
   "execution_count": null,
   "metadata": {},
   "outputs": [],
   "source": []
  },
  {
   "cell_type": "code",
   "execution_count": null,
   "metadata": {},
   "outputs": [],
   "source": [
    "def plot_MAE_4methodTF(df):\n",
    "\n",
    "    N_modality = len(df['modality'].unique())\n",
    "\n",
    "    fig, ax = plt.subplots(1,1, figsize=(N_modality*1.5,3),dpi=100)\n",
    "\n",
    "    # average over subjects\n",
    "    sns.boxplot(data=df, x='task', y='MAE_mean', hue='modality', ax=ax, boxprops=dict(linewidth=1, alpha=0.7), showfliers = False)\n",
    "    sns.stripplot(data=df, x='task', y='MAE_mean', hue='modality', ax=ax,dodge=True, size=2, color='black', alpha=0.9)\n",
    "\n",
    "\n",
    "    handles, labels = ax.get_legend_handles_labels()\n",
    "\n",
    "    # When creating the legend, only use the first two elements\n",
    "    # to effectively remove the last two.\n",
    "    l = plt.legend(handles[:N_modality], labels[:N_modality], bbox_to_anchor=(1.05, 1), loc=2, borderaxespad=0.)\n",
    "\n",
    "    modality = df['modality'].unique()[0]\n",
    "    TF_type = df['TF_type'].unique()[0]\n",
    "    \n",
    "    ax.set_title('method: {}\\nTF_type:{}'.format(method, TF_type))\n",
    "    ax_no_top_right(ax)\n",
    "    \n",
    "    xmin, xmax = ax.get_xlim()\n",
    "#     print( xmin, xmax)\n",
    "\n",
    "    ax.hlines(y=1, xmin=-1, xmax=4, linewidth=1, color='gray', alpha=0.5)\n",
    "    ax.set_xlim(xmin, xmax)\n",
    "    ax.set_ylim(0,4)"
   ]
  },
  {
   "cell_type": "code",
   "execution_count": null,
   "metadata": {},
   "outputs": [],
   "source": [
    "show_each_modality = False\n",
    "\n",
    "if show_each_modality:\n",
    "    for TF_type in df_performance_agg_joint['TF_type'].unique():\n",
    "        for method in df_performance_agg_joint['method'].unique():\n",
    "            df = df_performance_agg_joint[(df_performance_agg_joint['TF_type']==TF_type) & (df_performance_agg_joint['method']==method)]\n",
    "    #         df = df[df['modality']!='SCG']\n",
    "            plot_MAE_4methodTF(df)"
   ]
  },
  {
   "cell_type": "code",
   "execution_count": null,
   "metadata": {},
   "outputs": [],
   "source": []
  },
  {
   "cell_type": "code",
   "execution_count": null,
   "metadata": {},
   "outputs": [],
   "source": []
  },
  {
   "cell_type": "markdown",
   "metadata": {},
   "source": [
    "# print metrics for all tasks together"
   ]
  },
  {
   "cell_type": "code",
   "execution_count": null,
   "metadata": {},
   "outputs": [],
   "source": []
  },
  {
   "cell_type": "code",
   "execution_count": null,
   "metadata": {},
   "outputs": [],
   "source": [
    "print('modality\\tMAE_mean\\tMAE_std\\t\\tPCC\\t\\tRsqr')\n",
    "\n",
    "# TF_type = 'target'\n",
    "TF_type = 'target'\n",
    "est_method = 'U-Net'\n",
    "# est_method = 'U-Net-SE_block'\n",
    "# est_method = 'ST'\n",
    "\n",
    "for modality in df_outputlabel_ALL_selected['modality'].unique():\n",
    "    df = df_outputlabel_ALL_selected[(df_outputlabel_ALL_selected['est_method']==est_method) & (df_outputlabel_ALL_selected['TF_type']==TF_type) & (df_outputlabel_ALL_selected['modality']==modality)]\n",
    "\n",
    "    \n",
    "    MAE_mean, MAE_std = get_MAE(df['label'], df['label_est'])\n",
    "    PCC = get_PCC(df['label'], df['label_est'])\n",
    "    Rsqr = get_CoeffDeterm(df['label'], df['label_est'])\n",
    "    print('{}\\t\\t{:.2f}\\t\\t{:.2f}\\t\\t{:.2f}\\t\\t{:.2f}'.format(modality, MAE_mean, MAE_std, PCC, Rsqr))\n",
    "#     print(MAE_mean, MAE_std, PCC, Rsqr)\n",
    "    # df_outputlabel_ALL['label_est']"
   ]
  },
  {
   "cell_type": "code",
   "execution_count": null,
   "metadata": {},
   "outputs": [],
   "source": []
  },
  {
   "cell_type": "code",
   "execution_count": null,
   "metadata": {},
   "outputs": [],
   "source": [
    "def get_df_TF_agg(df, metric='MAE_mean'):\n",
    "#     df_TF_agg = df_performance_agg[df_performance_agg['method']==method].copy()\n",
    "    df_TF_agg = df.pivot_table(index=\"TF_type\", columns=\"modality\", values=metric, aggfunc='mean')\n",
    "#     print(df_TF_agg)\n",
    "#     sys.exit()\n",
    "#     df_TF_agg = df_TF_agg.loc[list_TF_types]\n",
    "    df_TF_agg = df_TF_agg[list(df['modality'].unique())]\n",
    "    return df_TF_agg"
   ]
  },
  {
   "cell_type": "markdown",
   "metadata": {},
   "source": [
    "# check MAE of all modalities vs. method"
   ]
  },
  {
   "cell_type": "code",
   "execution_count": null,
   "metadata": {},
   "outputs": [],
   "source": [
    "def print_df_performance_agg(df_performance_agg):\n",
    "    use_TEST=False\n",
    "\n",
    "    remove_moving=True\n",
    "\n",
    "    df_TF_agg = pd.DataFrame()\n",
    "\n",
    "    for method in list_method:\n",
    "    #     print(method)\n",
    "\n",
    "        if use_TEST :\n",
    "            df = df_performance_agg[ (df_performance_agg['subject_id'].isin([1, 5, 7, 15, 16, 22])) & (df_performance_agg_GT_TEST['method']==method)].copy()\n",
    "        # df_performance_agg_GT_TEST = df_performance_agg\n",
    "        else:\n",
    "            df = df_performance_agg[df_performance_agg['method']==method].copy()\n",
    "\n",
    "        if remove_moving:\n",
    "            df = df[df['task']!='6MWT']\n",
    "            \n",
    "#         print(df)\n",
    "#         sys.exit()\n",
    "        \n",
    "#         def allbut(*names):\n",
    "#             names = set(names)\n",
    "#             return [item for item in levels if item not in names]\n",
    "#         df.groupby(level=allbut('subject_id')).mean()\n",
    "#         print(df)\n",
    "#         sys.exit()\n",
    "\n",
    "\n",
    "        df['TF_type'] = df['method'] + ' ' + df['TF_type']\n",
    "        df_TF_agg = df_TF_agg.append(get_df_TF_agg(df, metric='MAE_mean'))\n",
    "\n",
    "    df_TF_agg = df_TF_agg.drop('ST source')\n",
    "    df_TF_agg = df_TF_agg.rename(index={'ST target':'ST'})\n",
    "    display(df_TF_agg)\n"
   ]
  },
  {
   "cell_type": "code",
   "execution_count": null,
   "metadata": {},
   "outputs": [],
   "source": [
    "print_df_performance_agg(df_performance_agg_joint)\n"
   ]
  },
  {
   "cell_type": "code",
   "execution_count": null,
   "metadata": {},
   "outputs": [],
   "source": []
  },
  {
   "cell_type": "code",
   "execution_count": null,
   "metadata": {},
   "outputs": [],
   "source": []
  },
  {
   "cell_type": "code",
   "execution_count": null,
   "metadata": {},
   "outputs": [],
   "source": []
  },
  {
   "cell_type": "code",
   "execution_count": null,
   "metadata": {},
   "outputs": [],
   "source": [
    "# df_performance_agg_copy = df_performance_agg_joint.copy()\n",
    "# df_copy = df_performance_agg_copy[df_performance_agg_copy['method']=='U-Net RQI_fft'].copy()\n",
    "# df_copy.pivot_table(index=\"TF_type\", columns=\"modality\", values=\"MAE_mean\", aggfunc='first')\n",
    "# # df_performance_agg_copy"
   ]
  },
  {
   "cell_type": "code",
   "execution_count": null,
   "metadata": {},
   "outputs": [],
   "source": []
  },
  {
   "cell_type": "code",
   "execution_count": null,
   "metadata": {},
   "outputs": [],
   "source": [
    "df_performance_agg_copy = df_performance_agg_joint.copy()\n",
    "# df_copy = df_performance_agg_copy[df_performance_agg_copy['method']=='U-Net RQI_kurtosis'].copy()\n",
    "df_copy = df_performance_agg_copy[df_performance_agg_copy['method']=='U-Net RQI_fft'].copy()\n",
    "df_copy.pivot_table(index=\"TF_type\", columns=\"modality\", values=\"MAE_mean\", aggfunc=np.mean)\n",
    "# df_performance_agg_copy"
   ]
  },
  {
   "cell_type": "code",
   "execution_count": null,
   "metadata": {},
   "outputs": [],
   "source": [
    "# df"
   ]
  },
  {
   "cell_type": "code",
   "execution_count": null,
   "metadata": {},
   "outputs": [],
   "source": [
    "# method_color_dict"
   ]
  },
  {
   "cell_type": "code",
   "execution_count": null,
   "metadata": {},
   "outputs": [],
   "source": [
    "# method_color_dict"
   ]
  },
  {
   "cell_type": "code",
   "execution_count": null,
   "metadata": {},
   "outputs": [],
   "source": [
    "metric_name = 'MAE_mean'\n",
    "\n",
    "df = df_performance_agg_joint.copy()\n",
    "df = df[(df['method']=='U-Net') | (df['method']=='U-Net RQI_kurtosis')]\n",
    "# df = df[(df['method']=='U-Net') | (df['method']=='U-Net RQI_fft')]\n",
    "\n",
    "df['method'] = pd.Categorical(\n",
    "            df['method'], \n",
    "            categories=list_method,\n",
    "            ordered=True\n",
    "        )\n",
    "df = df.sort_values('method')\n",
    "\n",
    "\n",
    "df['modality'] = pd.Categorical(\n",
    "            df['modality'], \n",
    "            categories=list_modalitites.reverse(), \n",
    "            ordered=True\n",
    "        )\n",
    "df = df.sort_values('modality')\n",
    "\n",
    "fig, ax = plt.subplots(1,1, figsize=(7,3),dpi=180)\n",
    "\n",
    "sns.barplot(x=\"modality\", y=metric_name, hue=\"method\", data=df, ax=ax, palette=method_color_dict)\n",
    "ax.yaxis.grid(True, which='major', color='gray',alpha=0.8)\n",
    "ax.yaxis.grid(True, which='minor', alpha=0.5)\n",
    "ax.legend(frameon=True, bbox_to_anchor=(1.05,1))\n",
    "\n",
    "ax_no_top_right(ax)\n",
    "plt.show()"
   ]
  },
  {
   "cell_type": "code",
   "execution_count": null,
   "metadata": {},
   "outputs": [],
   "source": [
    "def plot_figure_ranking_all(df_performance_agg, outputdir=None, show_plot=False):\n",
    "\n",
    "#     df_performance_agg = df_performance_agg_joint.copy()\n",
    "\n",
    "\n",
    "    fig = plt.figure(figsize=(7,7),dpi=100)\n",
    "    ax = fig.add_subplot(1, 1, 1)\n",
    "    fontsize = 15\n",
    "\n",
    "    # Width of a bar \n",
    "    width = 0.2\n",
    "    model_shift = 0 + width*1.5\n",
    "\n",
    "    # ind = np.arange(len(df['input_name'].unique()))\n",
    "    #     ind = np.asarray([0, 1, 2, 3, 4, 6, 5, 7])\n",
    "    # ind = np.arange(len(df_performance_agg['modality'].unique()))\n",
    "\n",
    "    #     list_modalitites = ['SCG', 'PPG', 'ECG', 'SCGPPG', 'ECGSCG', 'ECGPPG', 'All']\n",
    "    list_modalitites = ['SCG', 'PPG', 'ECG', 'SCGPPG', 'ECGSCG', 'ECGPPG', 'All']\n",
    "\n",
    "    ind = np.arange(len(list_modalitites))\n",
    "\n",
    "    # df = df_performance_agg.copy()\n",
    "\n",
    "\n",
    "    # for method in df_performance_agg['method'].unique():\n",
    "    #     for method in ['U-Net RQI_kurtosis', 'U-Net RQI_fft', 'U-Net', 'ST']:\n",
    "    for method in ['U-Net RQI_kurtosis','U-Net RQI_fft', 'U-Net']:\n",
    "        df = df_performance_agg.copy()\n",
    "\n",
    "    #     df = df_performance_agg[df_performance_agg['method']==method].copy()\n",
    "\n",
    "        df = df[(df['method']==method) & (df['TF_type']=='target') & (df['modality']!='selected')]\n",
    "\n",
    "\n",
    "        df['modality'] = pd.Categorical(\n",
    "            df['modality'], \n",
    "            categories=list_modalitites, \n",
    "            ordered=True\n",
    "        )\n",
    "\n",
    "        df = df.groupby(['modality']).mean()\n",
    "\n",
    "    #     print(df)\n",
    "    #     sys.exit()\n",
    "\n",
    "\n",
    "    #     sys.exit()\n",
    "    #     df = df.sort_values('modality')\n",
    "    #     sys.exit()\n",
    "\n",
    "    #     legend_name = method\n",
    "    #     if method=='ST+U-Net':\n",
    "    #         legend_name = 'ST-U-Net'\n",
    "    #         print(df)\n",
    "\n",
    "    #     print(df)\n",
    "        ax.barh(ind+model_shift, df['MAE_mean'].values , width, label=method, color=method_color_dict[method], zorder=3, alpha=1)\n",
    "    # ax.barh(ind, MAE_input_single,  width, label='Demodulation', color='firebrick', zorder=3, alpha=0.9)\n",
    "\n",
    "    #     ax.hlines(ind+model_shift, 0, df['MAE_std'].values, color='black')  # Stems\n",
    "    #     ax.plot(df['MAE_std'].values, ind+model_shift, 'o', color='black')  # Stem ends\n",
    "\n",
    "\n",
    "    #         height = rect.get_height()\n",
    "    #         print(df['MAE_std'].values, ind+model_shift)\n",
    "\n",
    "\n",
    "    #         for (x_value, y_value, coverage) in zip(df['MAE_std'].values, ind+model_shift, df['coverage']):\n",
    "        for (x_value, y_value, coverage) in zip(df['MAE_mean'].values*0, ind+model_shift, df['coverage']):\n",
    "            if 'RQI' not in method:\n",
    "                continue\n",
    "\n",
    "    #             print(x_value, y_value, coverage)\n",
    "            ax.text(x_value+0.05, y_value, 'cov={:.1f}%'.format(coverage), ha='left', va='center', fontsize=fontsize*0.5, color='black',weight='bold')\n",
    "\n",
    "\n",
    "\n",
    "        model_shift = model_shift - width\n",
    "\n",
    "\n",
    "    ax.set_yticks(ind + (width-0.05) / 2)\n",
    "    ax.set_yticklabels(list_modalitites)\n",
    "\n",
    "\n",
    "    ax.tick_params(axis='both', which='major', labelsize=fontsize)\n",
    "    ax.set_xlabel('MAE (bpm)', fontsize=fontsize+5)\n",
    "\n",
    "    ax.legend(fontsize=fontsize, frameon=True, bbox_to_anchor=(1.04,1))\n",
    "    ax.xaxis.grid(True, which='major', color='gray',alpha=0.8)\n",
    "    ax.xaxis.grid(True, which='minor', alpha=0.5)\n",
    "    # plt.majorticks_on() \n",
    "    plt.minorticks_on() \n",
    "\n",
    "    ax.spines['right'].set_visible(False)\n",
    "    ax.spines['top'].set_visible(False)\n",
    "    fig.tight_layout()\n",
    "\n",
    "    #         ax.set_xlim(0,4)\n",
    "\n",
    "    if outputdir is not None:\n",
    "        if not os.path.exists(outputdir):\n",
    "            os.makedirs(outputdir)\n",
    "        fig.savefig(outputdir + 'figure_rank_all.png', facecolor=fig.get_facecolor())\n",
    "\n",
    "    if show_plot == False:\n",
    "        plt.close(fig)\n",
    "        pyplot.close(fig)\n",
    "        plt.close('all')\n",
    "    plt.show()\n",
    "\n",
    "    # plot_figure7_ranking_all(df_join_methods, outputdir=outputdir, show_plot=True)\n"
   ]
  },
  {
   "cell_type": "code",
   "execution_count": null,
   "metadata": {},
   "outputs": [],
   "source": [
    "df_performance_agg_joint"
   ]
  },
  {
   "cell_type": "code",
   "execution_count": null,
   "metadata": {},
   "outputs": [],
   "source": [
    "plot_figure_ranking_all(df_performance_agg_joint, outputdir=outputdir, show_plot=True)\n"
   ]
  },
  {
   "cell_type": "code",
   "execution_count": null,
   "metadata": {},
   "outputs": [],
   "source": []
  },
  {
   "cell_type": "code",
   "execution_count": null,
   "metadata": {},
   "outputs": [],
   "source": []
  },
  {
   "cell_type": "code",
   "execution_count": null,
   "metadata": {},
   "outputs": [],
   "source": []
  },
  {
   "cell_type": "markdown",
   "metadata": {},
   "source": [
    "# RQI analysis (coverage vs. MAE)\n",
    "## target only"
   ]
  },
  {
   "cell_type": "code",
   "execution_count": null,
   "metadata": {},
   "outputs": [],
   "source": []
  },
  {
   "cell_type": "code",
   "execution_count": null,
   "metadata": {},
   "outputs": [],
   "source": [
    "df_RQI_results_final = pd.DataFrame()\n",
    "\n",
    "for modality in df_outputlabel_ALL['modality'].unique():\n",
    "    for est_method in df_outputlabel_ALL['est_method'].unique():\n",
    "#     for est_method in ['ST', 'U-Net']:\n",
    "        mask_df = (df_outputlabel_ALL['modality']==modality) & (df_outputlabel_ALL['est_method']==est_method) & (df_outputlabel_ALL['TF_type']=='target')\n",
    "        df_outputlabel = df_outputlabel_ALL[mask_df]\n",
    "        \n",
    "        for RQI_name in ['random', 'RQI_kurtosis', 'RQI_fft', 'RQI_ideal']:\n",
    "            df_RQI_results = get_df_RQI_results(df_outputlabel, RQI_name, steps_thre=steps_thre)\n",
    "            df_RQI_results['RQI_name'] = RQI_name\n",
    "            df_RQI_results['est_method'] = est_method\n",
    "            df_RQI_results['modality'] = modality\n",
    "\n",
    "            df_RQI_results_final = df_RQI_results_final.append(df_RQI_results)"
   ]
  },
  {
   "cell_type": "code",
   "execution_count": null,
   "metadata": {},
   "outputs": [],
   "source": [
    "df_RQI_results_final['RQI_name'].unique()"
   ]
  },
  {
   "cell_type": "code",
   "execution_count": null,
   "metadata": {},
   "outputs": [],
   "source": [
    "# df_RQI_results[df_RQI_results['RQI_name']=='RQI_kurtosis']"
   ]
  },
  {
   "cell_type": "code",
   "execution_count": null,
   "metadata": {},
   "outputs": [],
   "source": [
    "# df_RQI_results_final['est_method'].unique()"
   ]
  },
  {
   "cell_type": "code",
   "execution_count": null,
   "metadata": {},
   "outputs": [],
   "source": [
    "RQI_color_dict = {\n",
    "    'random': '#999898', # gray\n",
    "    'RQI_ideal':'#433F3F' , # black\n",
    "    'RQI_fft':'#b34b45' , # red\n",
    "    'RQI_kurtosis':'#c4751b' , # orange\n",
    "}\n",
    "\n",
    "def plot_MAEoverCoverage(ax, df_RQI_results, modality, est_method):\n",
    "    fontsize = 10\n",
    "    sns.lineplot(data=df_RQI_results, x=\"coverage\", y=\"MAE\", hue=\"RQI_name\",ax=ax, palette=RQI_color_dict,alpha=0.8)\n",
    "    ax.invert_xaxis()\n",
    "    ax_no_top_right(ax)\n",
    "    ax.set_xlim(100,50)\n",
    "    ax.set_ylim(0,6)\n",
    "    ax.set_xlabel('Coverage (%)', fontsize=fontsize)\n",
    "    ax.set_ylabel('MAE (BPM)', fontsize=fontsize)\n",
    "    ax.set_title('{}\\n({})'.format(modality, est_method), fontsize=fontsize+3)\n",
    "    ax.legend().set_visible(False)\n",
    "\n",
    "\n",
    "def plot_converage_analysis(df_RQI_results_final):\n",
    "\n",
    "#     N_est_method = len(df_RQI_results_final['est_method'].unique())\n",
    "    list_est = ['U-Net-SE_block']\n",
    "    N_modality = len(df_RQI_results_final['modality'].unique())\n",
    "\n",
    "    fig, axes = plt.subplots(len(list_est), N_modality, figsize=(N_modality*1.5, 2), dpi=200, squeeze=False)\n",
    "    #     fig, axes = plt.subplots(nrows=len(list_met), ncols=N_modality, figsize=(12,4), dpi=150)\n",
    "\n",
    "\n",
    "    list_modalitites = list(df_RQI_results_final['modality'].unique())\n",
    "    for i_mod, modality in enumerate(list_modalitites):\n",
    "    #         for i_est, est_method in enumerate(df_RQI_results_final['est_method'].unique()):\n",
    "        for i_est, est_method in enumerate(list_est):\n",
    "    #         print(i_mod, i_est)\n",
    "            mask_df = (df_RQI_results_final['modality']==modality) & (df_RQI_results_final['est_method']==est_method)\n",
    "            df_RQI_results = df_RQI_results_final[mask_df]\n",
    "            ax = axes[i_est, i_mod]\n",
    "            plot_MAEoverCoverage(ax, df_RQI_results, modality, est_method)\n",
    "    #         ax.legend( bbox_to_anchor=(1.04,1.04))\n",
    "    fig.tight_layout()"
   ]
  },
  {
   "cell_type": "code",
   "execution_count": null,
   "metadata": {},
   "outputs": [],
   "source": [
    "plot_converage_analysis(df_RQI_results_final)"
   ]
  },
  {
   "cell_type": "code",
   "execution_count": null,
   "metadata": {},
   "outputs": [],
   "source": []
  },
  {
   "cell_type": "code",
   "execution_count": null,
   "metadata": {},
   "outputs": [],
   "source": []
  },
  {
   "cell_type": "code",
   "execution_count": null,
   "metadata": {},
   "outputs": [],
   "source": []
  },
  {
   "cell_type": "markdown",
   "metadata": {},
   "source": [
    "# pretain vs. source vs. target"
   ]
  },
  {
   "cell_type": "code",
   "execution_count": null,
   "metadata": {},
   "outputs": [],
   "source": []
  },
  {
   "cell_type": "code",
   "execution_count": null,
   "metadata": {},
   "outputs": [],
   "source": [
    "TF_color_dict = {\n",
    "    'ST': '#F5F4E0',\n",
    "    'source': '#D8D7C5',\n",
    "    'target': '#B8B7A9',\n",
    "    'U-Net RQI_fft': '#6A7E7B',\n",
    "#     'source': '#F5F4E0',\n",
    "#     'target': '#D8D7C5',\n",
    "#     'pretrain': '#B8B7A9',\n",
    "}\n"
   ]
  },
  {
   "cell_type": "code",
   "execution_count": null,
   "metadata": {},
   "outputs": [],
   "source": []
  },
  {
   "cell_type": "code",
   "execution_count": null,
   "metadata": {},
   "outputs": [],
   "source": [
    "def plot_TF_compare(df):\n",
    "    metric_name = 'MAE_mean'\n",
    "\n",
    "    fig, ax = plt.subplots(1,1, figsize=(7,5),dpi=250)\n",
    "\n",
    "    # sns.violinplot(x=\"modality\", y=metric_name, hue=\"TF_type\", data=df, ax=ax, palette=TF_color_dict)\n",
    "    sns.boxplot(x=\"modality\", y=metric_name, hue=\"TF_type\", data=df, ax=ax, palette=TF_color_dict, hue_order=list(TF_color_dict.keys()),  \n",
    "                showmeans=True,\n",
    "                meanprops={\"marker\":\"o\",\n",
    "                           \"markerfacecolor\":\"white\", \n",
    "                           \"markeredgecolor\":\"black\",\n",
    "                          \"markersize\":\"5\"},\n",
    "               )    \n",
    "#     sns.swarmplot(x=\"modality\", y=metric_name, hue=\"TF_type\", data=df, ax=ax, color='black', hue_order=list(TF_color_dict.keys()), dodge=True, size=3, alpha=0.8)\n",
    "\n",
    "    # get the lowest MAE\n",
    "    MAE_lowest = []\n",
    "    for TF_type in df['TF_type'].unique():\n",
    "        for modality in df['modality'].unique():\n",
    "            MAE_lowest.append( df[(df['modality']==modality) & (df['TF_type']==TF_type)][metric_name].mean() )\n",
    "    MAE_lowest = min(MAE_lowest)\n",
    "    \n",
    "    # xmin and xmax \n",
    "    xmin = -.8\n",
    "    xmax = df['modality'].unique().shape[0]-1+0.8\n",
    "    ax.hlines(y=MAE_lowest, xmin=xmin, xmax=xmax, linewidth=3, color='#627565', alpha=0.5)\n",
    "    ax.set_xlim(xmin,xmax)\n",
    "\n",
    "    ax.yaxis.grid(True, which='major', color='gray',alpha=0.8)\n",
    "    ax.yaxis.grid(True, which='minor', color='gray', alpha=0.2)\n",
    "    ax.minorticks_on()\n",
    "    \n",
    "    ax.legend(frameon=True, bbox_to_anchor=(1.05,1))\n",
    "    ax.set_ylim(0,25)\n",
    "    ax_no_top_right(ax)\n",
    "    plt.show()"
   ]
  },
  {
   "cell_type": "code",
   "execution_count": null,
   "metadata": {},
   "outputs": [],
   "source": []
  },
  {
   "cell_type": "code",
   "execution_count": null,
   "metadata": {},
   "outputs": [],
   "source": []
  },
  {
   "cell_type": "code",
   "execution_count": null,
   "metadata": {},
   "outputs": [],
   "source": [
    "df1 = df_performance_agg_joint[(df_performance_agg_joint['method']=='U-Net')].copy()\n",
    "\n",
    "df2 = df_performance_agg_joint[(df_performance_agg_joint['method']=='ST')&(df_performance_agg_joint['TF_type']=='target')].copy()\n",
    "df2['TF_type'] = 'ST'\n",
    "\n",
    "df3 = df_performance_agg_joint[(df_performance_agg_joint['method']=='U-Net RQI_fft') & (df_performance_agg_joint['TF_type']=='target')].copy()\n",
    "df3['TF_type'] = 'U-Net RQI_fft'\n",
    "\n",
    "df = pd.concat([df1, df2, df3])\n",
    "plot_TF_compare(df)"
   ]
  },
  {
   "cell_type": "code",
   "execution_count": null,
   "metadata": {},
   "outputs": [],
   "source": [
    "# df = df_performance_agg_joint[(df_performance_agg_joint['method']=='U-Net')].copy()\n"
   ]
  },
  {
   "cell_type": "code",
   "execution_count": null,
   "metadata": {},
   "outputs": [],
   "source": []
  },
  {
   "cell_type": "code",
   "execution_count": null,
   "metadata": {},
   "outputs": [],
   "source": []
  },
  {
   "cell_type": "code",
   "execution_count": null,
   "metadata": {},
   "outputs": [],
   "source": []
  },
  {
   "cell_type": "code",
   "execution_count": null,
   "metadata": {},
   "outputs": [],
   "source": []
  },
  {
   "cell_type": "markdown",
   "metadata": {},
   "source": [
    "# plot RR vs. HR MAE color coded\n",
    "# plot VT vs. HR MAE color coded"
   ]
  },
  {
   "cell_type": "code",
   "execution_count": null,
   "metadata": {},
   "outputs": [],
   "source": []
  },
  {
   "cell_type": "code",
   "execution_count": null,
   "metadata": {},
   "outputs": [],
   "source": []
  },
  {
   "cell_type": "code",
   "execution_count": null,
   "metadata": {},
   "outputs": [],
   "source": [
    "# label_range_dict"
   ]
  },
  {
   "cell_type": "code",
   "execution_count": null,
   "metadata": {},
   "outputs": [],
   "source": []
  },
  {
   "cell_type": "code",
   "execution_count": null,
   "metadata": {},
   "outputs": [],
   "source": [
    "\n"
   ]
  },
  {
   "cell_type": "code",
   "execution_count": null,
   "metadata": {},
   "outputs": [],
   "source": [
    "def plot_MAE_variable(df, var_name='HR_val'):\n",
    "    f, ax = plt.subplots(dpi=100)\n",
    "    sns.boxplot(x='MAE', y=var_name, data=df, ax=ax)\n",
    "#     sns.violinplot(x='MAE', y=var_name, data=df, ax=ax)\n",
    "    ax.set_xlabel('MAE')\n",
    "    ax.set_ylabel(var_name)\n",
    "    ax_no_top_right(ax)"
   ]
  },
  {
   "cell_type": "code",
   "execution_count": null,
   "metadata": {},
   "outputs": [],
   "source": [
    "\n",
    "modality = 'All'\n",
    "TF_type = 'target'\n",
    "est_method = 'U-Net-SE_block'\n",
    "df = df_outputlabel_ALL_selected[ (df_outputlabel_ALL_selected['modality']==modality) & (df_outputlabel_ALL_selected['est_method']==est_method) & (df_outputlabel_ALL_selected['TF_type']==TF_type) ].copy()\n",
    "df['MAE'] = np.abs(df['RQI_ideal'])\n",
    "df"
   ]
  },
  {
   "cell_type": "code",
   "execution_count": null,
   "metadata": {},
   "outputs": [],
   "source": []
  },
  {
   "cell_type": "markdown",
   "metadata": {},
   "source": [
    "## RR = 0.5 HR (Nyquist theorem)\n",
    "\n",
    "ax + by + c = 0\n",
    "given (x1, y1), what is the shortest distance from this point to the line\n",
    "\n",
    "(| a*x1 + b*y1 + c |) / (sqrt( $a^{2}$ + $b^{2}$))\n",
    "\n",
    "#### 0.5 HR - RR + 0 = 0 (a=0.5, b=-1, c=0)\n",
    "#### given $HR_{sample}$ and $RR_{sample}$\n",
    "distance = (| 0.5 * $HR_{sample}$ - 1 * $RR_{sample}$ + 0 |) / (sqrt( $0.5^{2}$ + $1^{2}$))"
   ]
  },
  {
   "cell_type": "code",
   "execution_count": null,
   "metadata": {},
   "outputs": [],
   "source": []
  },
  {
   "cell_type": "code",
   "execution_count": null,
   "metadata": {},
   "outputs": [],
   "source": [
    "\n",
    "def shortest_distance(df, RR_name, HR_name):\n",
    "    y_arr = df[RR_name].values\n",
    "    x_arr = df[HR_name].values\n",
    "\n",
    "    distance2Nyquist = np.abs(x_arr * 0.5 - y_arr) / np.abs(0.5**2 + 1**2)\n",
    "    return distance2Nyquist"
   ]
  },
  {
   "cell_type": "code",
   "execution_count": null,
   "metadata": {},
   "outputs": [],
   "source": [
    "df['distance2Nyquist'] = shortest_distance(df, RR_name='label', HR_name='HR_val')\n"
   ]
  },
  {
   "cell_type": "code",
   "execution_count": null,
   "metadata": {},
   "outputs": [],
   "source": []
  },
  {
   "cell_type": "code",
   "execution_count": null,
   "metadata": {},
   "outputs": [],
   "source": [
    "# df"
   ]
  },
  {
   "cell_type": "code",
   "execution_count": null,
   "metadata": {},
   "outputs": [],
   "source": [
    "# plt.scatter(df['VT_val'].values, df['MAE'].values, alpha=0.1)"
   ]
  },
  {
   "cell_type": "code",
   "execution_count": null,
   "metadata": {},
   "outputs": [],
   "source": [
    "plot_MAE_variable(df, var_name='HR_val')\n",
    "plot_MAE_variable(df, var_name='label')\n",
    "plot_MAE_variable(df, var_name='VT_val')\n",
    "plot_MAE_variable(df, var_name='distance2Nyquist')\n"
   ]
  },
  {
   "cell_type": "code",
   "execution_count": null,
   "metadata": {},
   "outputs": [],
   "source": []
  },
  {
   "cell_type": "code",
   "execution_count": null,
   "metadata": {},
   "outputs": [],
   "source": [
    "def plot_MAE_colored(df, x_name='HR_val', y_name='VT_val', c_name='RQI_ideal'):\n",
    "\n",
    "    cmap = plt.get_cmap('viridis')\n",
    "\n",
    "    f, ax = plt.subplots(dpi=100)\n",
    "#     points = ax.scatter(df[x_name].values, df[y_name].values, c=np.abs(df[c_name].values), s=10, cmap=cmap, alpha=0.8,  vmin=0, vmax=3, zorder=3)\n",
    "    points = ax.scatter(df[x_name].values, df[y_name].values, c=np.abs(df[c_name].values), s=10, cmap=cmap, alpha=0.7, zorder=3)\n",
    "\n",
    "    if (x_name=='HR_val') & (y_name=='label'):\n",
    "        RR = np.linspace(label_range_dict['RR'][0], label_range_dict['RR'][1], 100)\n",
    "        HR = np.linspace(label_range_dict['HR'][0], label_range_dict['HR'][1], 100)\n",
    "\n",
    "        ax.fill_between(HR, 0, HR/2, color='skyblue', alpha=0.2, label='Nyquist criterion\\n'+r'$\\frac{HR}{RR}$ > 2', zorder=1)\n",
    "        ax.fill_between(HR, RR[-1], HR/2, color='gray', alpha=0.2, zorder=1)\n",
    "        ax.set_ylim(label_range_dict['RR'])\n",
    "        ax.set_xlim(label_range_dict['HR'])\n",
    "    \n",
    "    ax.set_xlabel(x_name)\n",
    "    ax.set_ylabel(y_name)\n",
    "    f.colorbar(points)\n",
    "    ax_no_top_right(ax)"
   ]
  },
  {
   "cell_type": "code",
   "execution_count": null,
   "metadata": {},
   "outputs": [],
   "source": []
  },
  {
   "cell_type": "code",
   "execution_count": null,
   "metadata": {},
   "outputs": [],
   "source": [
    "plot_MAE_colored(df, x_name='HR_val', y_name='VT_val', c_name='RQI_ideal')\n",
    "plot_MAE_colored(df, x_name='HR_val', y_name='VT_val', c_name='RQI_ideal')\n",
    "plot_MAE_colored(df, x_name='HR_val', y_name='label', c_name='RQI_ideal')\n",
    "plot_MAE_colored(df, x_name='label', y_name='VT_val', c_name='RQI_ideal')\n",
    "plot_MAE_colored(df, x_name='MAE', y_name='VT_val', c_name='RQI_ideal')\n"
   ]
  },
  {
   "cell_type": "code",
   "execution_count": null,
   "metadata": {},
   "outputs": [],
   "source": []
  },
  {
   "cell_type": "code",
   "execution_count": null,
   "metadata": {},
   "outputs": [],
   "source": []
  },
  {
   "cell_type": "markdown",
   "metadata": {},
   "source": [
    "# WIP"
   ]
  },
  {
   "cell_type": "code",
   "execution_count": null,
   "metadata": {},
   "outputs": [],
   "source": [
    "def inspect_Nyquist_color(RR_label, hr, absolute_err, sig_name, names_dict, outputdir=None, show_plot=False, show_label=True):\n",
    "\n",
    "    plt.rcParams[\"font.family\"] = \"Times New Roman\"\n",
    "\n",
    "    RR = np.linspace(label_range_dict['br'][0], label_range_dict['br'][1], 100)\n",
    "    HR = np.linspace(label_range_dict['heart_rate_cosmed'][0], label_range_dict['heart_rate_cosmed'][1], 100)\n",
    "\n",
    "    \n",
    "    RR_cosmed = RR_label\n",
    "    HR_cosmed = hr\n",
    "\n",
    "    mask = RR_cosmed * 2 < HR_cosmed\n",
    "\n",
    "    if (~mask).sum() > 0:\n",
    "        print('subject {} fall out of Nyquist region'.format(subject_id))\n",
    "\n",
    "    fig, (ax1) = plt.subplots(1, 1, figsize=(5,5), dpi=150)\n",
    "    fontsize=18\n",
    "\n",
    "#     ax1.fill_between(HR, 0, HR/2, color='skyblue', alpha=0.2, label='Nyquist criterion\\n'+r'($F_{signal}$ < $\\frac{1}{2}$$F_{sampling}$)')\n",
    "    ax1.fill_between(HR, 0, HR/2, color='skyblue', alpha=0.2, label='Nyquist criterion\\n'+r'$\\frac{HR}{RR}$ > 2')\n",
    "    ax1.fill_between(HR, RR[-1], HR/2, color='gray', alpha=0.2)\n",
    "\n",
    "    cmap = matplotlib.cm.get_cmap('jet')\n",
    "    bounds=np.arange(0, 8.1, 0.05)\n",
    "    norm = colors.BoundaryNorm(bounds, cmap.N)\n",
    "\n",
    "    \n",
    "    sc = ax1.scatter(HR_cosmed[np.where(mask)], RR_cosmed[np.where(mask)], s=50, c=absolute_err, alpha=1, cmap='jet', norm=norm)\n",
    "\n",
    "#     title_str = '{}'.format(sig_name)\n",
    "    title_str = names_dict[sig_name]\n",
    "\n",
    "    \n",
    "    if show_label:\n",
    "#         ax1.set_title(title_str, fontsize=fontsize, pad=15)\n",
    "\n",
    "        ax1.set_ylabel(r'$F_{signal}$ (RR, breaths/minute)', fontsize=fontsize)\n",
    "        ax1.set_xlabel(r'$F_{sampling}$ (HR, beats/minute)', fontsize=fontsize)\n",
    "        ax1.legend(frameon=True, loc='upper right', fontsize=fontsize-2)\n",
    "\n",
    "    ax1.set_xlim(HR[0], HR[-1])\n",
    "    ax1.set_ylim(RR[0], RR[-1])\n",
    "    ax1.tick_params(axis = 'both', which = 'major', labelsize = fontsize)\n",
    "\n",
    "    ax1.xaxis.set_major_locator(MultipleLocator(40))\n",
    "                        \n",
    "    divider = make_axes_locatable(ax1)\n",
    "    cax = divider.append_axes(\"right\", size=\"5%\", pad=0.08)\n",
    "\n",
    "    cbar = fig.colorbar(sc, cax=cax, boundaries=bounds, \n",
    "         ticks=[0,2,4,6,8],)  \n",
    "    cbar.ax.tick_params(labelsize=fontsize-2) \n",
    "\n",
    "    fig.tight_layout()\n",
    "\n",
    "\n",
    "    if outputdir is not None:\n",
    "        outputdir = outputdir+'inspect_Nyquist/'\n",
    "        if not os.path.exists(outputdir):\n",
    "            os.makedirs(outputdir)\n",
    "        fig.savefig(outputdir + '{}.png'.format(sig_name), facecolor=fig.get_facecolor())\n",
    "\n",
    "    if show_plot == False:\n",
    "        plt.close(fig)\n",
    "        pyplot.close(fig)\n",
    "        plt.close('all')\n"
   ]
  },
  {
   "cell_type": "code",
   "execution_count": null,
   "metadata": {},
   "outputs": [],
   "source": []
  },
  {
   "cell_type": "code",
   "execution_count": null,
   "metadata": {},
   "outputs": [],
   "source": [
    "for sig_name in names_dict:\n",
    "\n",
    "    RR_label = RR_aggregated_dict[sig_name]['RR_label'].values*60\n",
    "    RR_model = RR_aggregated_dict[sig_name]['RR_model'].values*60\n",
    "    hr =  RR_aggregated_dict[sig_name]['hr'].values\n",
    "\n",
    "    absolute_err = np.abs(RR_model-RR_label)\n",
    "    inspect_Nyquist_color(RR_label, hr, absolute_err, sig_name, names_dict, outputdir=outputdir, show_plot=False, show_label=True)\n"
   ]
  },
  {
   "cell_type": "code",
   "execution_count": null,
   "metadata": {},
   "outputs": [],
   "source": []
  },
  {
   "cell_type": "code",
   "execution_count": null,
   "metadata": {},
   "outputs": [],
   "source": []
  },
  {
   "cell_type": "code",
   "execution_count": null,
   "metadata": {},
   "outputs": [],
   "source": []
  },
  {
   "cell_type": "code",
   "execution_count": null,
   "metadata": {},
   "outputs": [],
   "source": []
  },
  {
   "cell_type": "code",
   "execution_count": null,
   "metadata": {},
   "outputs": [],
   "source": []
  },
  {
   "cell_type": "code",
   "execution_count": null,
   "metadata": {},
   "outputs": [],
   "source": []
  },
  {
   "cell_type": "code",
   "execution_count": null,
   "metadata": {},
   "outputs": [],
   "source": []
  },
  {
   "cell_type": "code",
   "execution_count": null,
   "metadata": {},
   "outputs": [],
   "source": []
  },
  {
   "cell_type": "code",
   "execution_count": null,
   "metadata": {},
   "outputs": [],
   "source": []
  },
  {
   "cell_type": "code",
   "execution_count": null,
   "metadata": {},
   "outputs": [],
   "source": []
  },
  {
   "cell_type": "code",
   "execution_count": null,
   "metadata": {},
   "outputs": [],
   "source": []
  },
  {
   "cell_type": "code",
   "execution_count": null,
   "metadata": {},
   "outputs": [],
   "source": []
  },
  {
   "cell_type": "code",
   "execution_count": null,
   "metadata": {},
   "outputs": [],
   "source": []
  },
  {
   "cell_type": "code",
   "execution_count": null,
   "metadata": {},
   "outputs": [],
   "source": []
  },
  {
   "cell_type": "code",
   "execution_count": null,
   "metadata": {},
   "outputs": [],
   "source": []
  },
  {
   "cell_type": "code",
   "execution_count": null,
   "metadata": {},
   "outputs": [],
   "source": []
  },
  {
   "cell_type": "code",
   "execution_count": null,
   "metadata": {},
   "outputs": [],
   "source": []
  },
  {
   "cell_type": "code",
   "execution_count": null,
   "metadata": {},
   "outputs": [],
   "source": []
  },
  {
   "cell_type": "code",
   "execution_count": null,
   "metadata": {},
   "outputs": [],
   "source": []
  },
  {
   "cell_type": "code",
   "execution_count": null,
   "metadata": {},
   "outputs": [],
   "source": []
  },
  {
   "cell_type": "code",
   "execution_count": null,
   "metadata": {},
   "outputs": [],
   "source": []
  },
  {
   "cell_type": "code",
   "execution_count": null,
   "metadata": {},
   "outputs": [],
   "source": []
  },
  {
   "cell_type": "code",
   "execution_count": null,
   "metadata": {},
   "outputs": [],
   "source": []
  },
  {
   "cell_type": "code",
   "execution_count": null,
   "metadata": {},
   "outputs": [],
   "source": []
  },
  {
   "cell_type": "code",
   "execution_count": null,
   "metadata": {},
   "outputs": [],
   "source": []
  },
  {
   "cell_type": "code",
   "execution_count": null,
   "metadata": {},
   "outputs": [],
   "source": []
  },
  {
   "cell_type": "code",
   "execution_count": null,
   "metadata": {},
   "outputs": [],
   "source": []
  },
  {
   "cell_type": "code",
   "execution_count": null,
   "metadata": {},
   "outputs": [],
   "source": []
  },
  {
   "cell_type": "code",
   "execution_count": null,
   "metadata": {},
   "outputs": [],
   "source": [
    "sys.exit()"
   ]
  },
  {
   "cell_type": "code",
   "execution_count": null,
   "metadata": {},
   "outputs": [],
   "source": []
  },
  {
   "cell_type": "code",
   "execution_count": null,
   "metadata": {},
   "outputs": [],
   "source": []
  },
  {
   "cell_type": "code",
   "execution_count": null,
   "metadata": {},
   "outputs": [],
   "source": [
    "df_RQI_results"
   ]
  },
  {
   "cell_type": "code",
   "execution_count": null,
   "metadata": {},
   "outputs": [],
   "source": [
    "list_modalitites"
   ]
  },
  {
   "cell_type": "code",
   "execution_count": null,
   "metadata": {},
   "outputs": [],
   "source": [
    "\n",
    "# mask_df = (df_RQI_results_final['modality']=='All') & (df_RQI_results_final['est_method']=='U-Net') & (df_RQI_results_final['RQI_name']=='RQI_kurtosis')\n",
    "mask_df = (df_RQI_results_final['modality']=='All') & (df_RQI_results_final['est_method']=='U-Net') & (df_RQI_results_final['RQI_name']=='RQI_fft')\n",
    "df_RQI_results = df_RQI_results_final[mask_df]\n",
    "plt.plot(df_RQI_results['coverage'].values, df_RQI_results['MAE'].values)"
   ]
  },
  {
   "cell_type": "code",
   "execution_count": null,
   "metadata": {},
   "outputs": [],
   "source": [
    "df_RQI_results_final"
   ]
  },
  {
   "cell_type": "code",
   "execution_count": null,
   "metadata": {},
   "outputs": [],
   "source": []
  },
  {
   "cell_type": "code",
   "execution_count": null,
   "metadata": {},
   "outputs": [],
   "source": []
  },
  {
   "cell_type": "code",
   "execution_count": null,
   "metadata": {},
   "outputs": [],
   "source": [
    "label = df_outputlabel_val_RR_cosmed['label']\n",
    "label_est = df_outputlabel_val_RR_cosmed['label_est']\n",
    "\n",
    "MAE, _ = get_MAE(label, label_est)\n",
    "print(MAE)"
   ]
  },
  {
   "cell_type": "code",
   "execution_count": null,
   "metadata": {},
   "outputs": [],
   "source": [
    "plt.plot(df_outputlabel_val_RR_cosmed['RQI_fft'])\n",
    "\n",
    "mask_RQI_fft = df_outputlabel_val_RR_cosmed['RQI_fft'] > 0.1"
   ]
  },
  {
   "cell_type": "code",
   "execution_count": null,
   "metadata": {},
   "outputs": [],
   "source": [
    "# df_outputlabel_val_RR_cosmed\n"
   ]
  },
  {
   "cell_type": "code",
   "execution_count": null,
   "metadata": {},
   "outputs": [],
   "source": [
    "plt.plot(df_outputlabel_val_RR_cosmed['RQI_kurtosis'])\n",
    "\n",
    "mask_RQI_kurtosis = df_outputlabel_val_RR_cosmed['RQI_kurtosis'] > 10"
   ]
  },
  {
   "cell_type": "code",
   "execution_count": null,
   "metadata": {},
   "outputs": [],
   "source": [
    "label = df_outputlabel_val_RR_cosmed['label'][mask_RQI_fft & mask_RQI_kurtosis]\n",
    "label_est = df_outputlabel_val_RR_cosmed['label_est'][mask_RQI_fft & mask_RQI_kurtosis]\n",
    "\n",
    "MAE, _ = get_MAE(label, label_est)\n",
    "print(MAE)"
   ]
  },
  {
   "cell_type": "code",
   "execution_count": null,
   "metadata": {},
   "outputs": [],
   "source": [
    "plt.scatter(df_outputlabel_val_RR_cosmed['RQI_fft'], df_outputlabel_val_RR_cosmed['RQI_kurtosis'])"
   ]
  },
  {
   "cell_type": "code",
   "execution_count": null,
   "metadata": {},
   "outputs": [],
   "source": []
  },
  {
   "cell_type": "code",
   "execution_count": null,
   "metadata": {},
   "outputs": [],
   "source": []
  },
  {
   "cell_type": "code",
   "execution_count": null,
   "metadata": {},
   "outputs": [],
   "source": [
    "mask_RQI.shape"
   ]
  },
  {
   "cell_type": "code",
   "execution_count": null,
   "metadata": {},
   "outputs": [],
   "source": []
  },
  {
   "cell_type": "code",
   "execution_count": null,
   "metadata": {},
   "outputs": [],
   "source": []
  },
  {
   "cell_type": "code",
   "execution_count": null,
   "metadata": {},
   "outputs": [],
   "source": [
    "# for i in range(6):\n",
    "#     mask_random = get_mask_random(2, 1, i_seed=i)\n",
    "#     print(mask_random)"
   ]
  },
  {
   "cell_type": "code",
   "execution_count": null,
   "metadata": {},
   "outputs": [],
   "source": [
    "# get_mask_random(1, 2, i_seed=1)\n"
   ]
  },
  {
   "cell_type": "code",
   "execution_count": null,
   "metadata": {},
   "outputs": [],
   "source": [
    "# plt.plot(label_est)"
   ]
  },
  {
   "cell_type": "code",
   "execution_count": null,
   "metadata": {},
   "outputs": [],
   "source": [
    "mask_random.astype(bool)"
   ]
  },
  {
   "cell_type": "code",
   "execution_count": null,
   "metadata": {},
   "outputs": [],
   "source": [
    "# label[mask_random].shape, label.shape"
   ]
  },
  {
   "cell_type": "code",
   "execution_count": null,
   "metadata": {},
   "outputs": [],
   "source": []
  },
  {
   "cell_type": "code",
   "execution_count": null,
   "metadata": {},
   "outputs": [],
   "source": []
  },
  {
   "cell_type": "code",
   "execution_count": null,
   "metadata": {},
   "outputs": [],
   "source": []
  },
  {
   "cell_type": "code",
   "execution_count": null,
   "metadata": {},
   "outputs": [],
   "source": []
  },
  {
   "cell_type": "code",
   "execution_count": null,
   "metadata": {},
   "outputs": [],
   "source": []
  },
  {
   "cell_type": "code",
   "execution_count": null,
   "metadata": {},
   "outputs": [],
   "source": []
  },
  {
   "cell_type": "code",
   "execution_count": null,
   "metadata": {},
   "outputs": [],
   "source": []
  },
  {
   "cell_type": "code",
   "execution_count": null,
   "metadata": {},
   "outputs": [],
   "source": []
  },
  {
   "cell_type": "code",
   "execution_count": null,
   "metadata": {},
   "outputs": [],
   "source": []
  },
  {
   "cell_type": "code",
   "execution_count": null,
   "metadata": {},
   "outputs": [],
   "source": [
    "# RQI_fft_range\n",
    "df_RQI_fft_results = pd.DataFrame()\n",
    "\n",
    "RQI_fft_range = df_outputlabel_val_RR_cosmed['RQI_fft'].min(), df_outputlabel_val_RR_cosmed['RQI_fft'].max()\n",
    "\n",
    "for threshold in np.linspace(RQI_fft_range[0],RQI_fft_range[1],steps_thre, endpoint=False):\n",
    "    \n",
    "    label = df_outputlabel_val_RR_cosmed['label'].values\n",
    "    label_est = df_outputlabel_val_RR_cosmed['label_est'].values\n",
    "\n",
    "    \n",
    "    mask_RQI_fft = df_outputlabel_val_RR_cosmed['RQI_fft'] > threshold\n",
    "    mask_RQI = mask_RQI_fft\n",
    "    MAE, _ = get_MAE(label[mask_RQI], label_est[mask_RQI])\n",
    "    \n",
    "    N_ones = mask_RQI.sum()\n",
    "    N_zeros = mask_RQI.shape[0] - mask_RQI.sum()\n",
    "    \n",
    "    mask_random = get_mask_random(N_zeros, N_ones)\n",
    "    \n",
    "#     print(mask_random.mean(), mask_RQI.mean())\n",
    "\n",
    "#     label = df_outputlabel_val_RR_cosmed['label'][mask_random]\n",
    "#     label_est = df_outputlabel_val_RR_cosmed['label_est'][mask_random]\n",
    "\n",
    "    MAE_random, _ = get_MAE(label[mask_random], label_est[mask_random])\n",
    "    \n",
    "    \n",
    "#     print(threshold, mask_RQI.mean(), MAE)\n",
    "    \n",
    "    df_RQI_fft_results = df_RQI_fft_results.append(\n",
    "        pd.DataFrame(\n",
    "            {\n",
    "                'threshold': threshold,\n",
    "                'rejection_ratio': 1-mask_RQI.mean(),\n",
    "                'MAE': MAE,\n",
    "                'MAE_random': MAE_random,\n",
    "                \n",
    "            }, index=[0]\n",
    "    ))\n",
    "    \n",
    "df_RQI_fft_results = df_RQI_fft_results.reset_index(drop=True)"
   ]
  },
  {
   "cell_type": "code",
   "execution_count": null,
   "metadata": {},
   "outputs": [],
   "source": [
    "threshold"
   ]
  },
  {
   "cell_type": "code",
   "execution_count": null,
   "metadata": {},
   "outputs": [],
   "source": [
    "# RQI_fft_range\n",
    "df_RQI_kurtosis_results = pd.DataFrame()\n",
    "\n",
    "RQI_kurtosis_range = df_outputlabel_val_RR_cosmed['RQI_kurtosis'].min(), df_outputlabel_val_RR_cosmed['RQI_kurtosis'].max()\n",
    "\n",
    "for threshold in np.linspace(RQI_kurtosis_range[0],RQI_kurtosis_range[1],steps_thre, endpoint=False):\n",
    "    \n",
    "    label = df_outputlabel_val_RR_cosmed['label'].values\n",
    "    label_est = df_outputlabel_val_RR_cosmed['label_est'].values\n",
    "\n",
    "    \n",
    "    mask_RQI_kurtosis = df_outputlabel_val_RR_cosmed['RQI_kurtosis'] > threshold\n",
    "        \n",
    "    mask_RQI = mask_RQI_kurtosis\n",
    "    MAE, _ = get_MAE(label[mask_RQI], label_est[mask_RQI])\n",
    "    \n",
    "    N_ones = mask_RQI.sum()\n",
    "    N_zeros = mask_RQI.shape[0] - mask_RQI.sum()\n",
    "    \n",
    "    mask_random = get_mask_random(N_zeros, N_ones)\n",
    "    \n",
    "#     print(mask_random.mean(), mask_RQI.mean())\n",
    "\n",
    "#     label = df_outputlabel_val_RR_cosmed['label'][mask_random]\n",
    "#     label_est = df_outputlabel_val_RR_cosmed['label_est'][mask_random]\n",
    "\n",
    "    MAE_random, _ = get_MAE(label[mask_random], label_est[mask_random])\n",
    "    \n",
    "    \n",
    "#     print(threshold, mask_RQI.mean(), MAE)\n",
    "    \n",
    "    df_RQI_kurtosis_results = df_RQI_kurtosis_results.append(\n",
    "        pd.DataFrame(\n",
    "            {\n",
    "                'threshold': threshold,\n",
    "                'rejection_ratio': 1-mask_RQI.mean(),\n",
    "                'MAE': MAE,\n",
    "                'MAE_random': MAE_random,\n",
    "                \n",
    "            }, index=[0]\n",
    "    ))\n",
    "    \n",
    "df_RQI_kurtosis_results = df_RQI_kurtosis_results.reset_index(drop=True)"
   ]
  },
  {
   "cell_type": "code",
   "execution_count": null,
   "metadata": {},
   "outputs": [],
   "source": []
  },
  {
   "cell_type": "code",
   "execution_count": null,
   "metadata": {},
   "outputs": [],
   "source": [
    "# RQI_fft_range\n",
    "df_RQI_joint_results = pd.DataFrame()\n",
    "\n",
    "RQI_kurtosis_range = df_outputlabel_val_RR_cosmed['RQI_kurtosis'].min(), df_outputlabel_val_RR_cosmed['RQI_kurtosis'].max()\n",
    "RQI_fft_range = df_outputlabel_val_RR_cosmed['RQI_fft'].min(), df_outputlabel_val_RR_cosmed['RQI_fft'].max()\n",
    "\n",
    "\n",
    "for threshold_fft in np.linspace(RQI_fft_range[0],RQI_fft_range[1],steps_thre, endpoint=False):\n",
    "\n",
    "    for threshold_kurtosis in np.linspace(RQI_kurtosis_range[0],RQI_kurtosis_range[1],steps_thre, endpoint=False):\n",
    "\n",
    "        label = df_outputlabel_val_RR_cosmed['label'].values\n",
    "        label_est = df_outputlabel_val_RR_cosmed['label_est'].values\n",
    "\n",
    "        # reject using both RQI_kurtosis and RQI_fft\n",
    "        mask_RQI_kurtosis = df_outputlabel_val_RR_cosmed['RQI_kurtosis'] > threshold_kurtosis\n",
    "        \n",
    "        mask_RQI_fft = df_outputlabel_val_RR_cosmed['RQI_fft'] > threshold_fft\n",
    "        mask_RQI = mask_RQI_kurtosis & mask_RQI_fft\n",
    "        \n",
    "        \n",
    "        MAE, _ = get_MAE(label[mask_RQI], label_est[mask_RQI])\n",
    "\n",
    "        \n",
    "        # randomly reject samples\n",
    "        N_ones = mask_RQI.sum()\n",
    "        N_zeros = mask_RQI.shape[0] - mask_RQI.sum()\n",
    "\n",
    "        mask_random = get_mask_random(N_zeros, N_ones)\n",
    "\n",
    "        MAE_random, _ = get_MAE(label[mask_random], label_est[mask_random])\n",
    "\n",
    "\n",
    "    #     print(threshold, mask_RQI.mean(), MAE)\n",
    "\n",
    "        df_RQI_joint_results = df_RQI_joint_results.append(\n",
    "            pd.DataFrame(\n",
    "                {\n",
    "                    'threshold_fft': threshold_fft,\n",
    "                    'threshold_kurtosis': threshold_kurtosis,\n",
    "                    'rejection_ratio': 1-mask_RQI.mean(),\n",
    "                    'MAE': MAE,\n",
    "                    'MAE_random': MAE_random,\n",
    "\n",
    "                }, index=[0]\n",
    "        ))\n",
    "\n",
    "    df_RQI_joint_results = df_RQI_joint_results.reset_index(drop=True)"
   ]
  },
  {
   "cell_type": "code",
   "execution_count": null,
   "metadata": {},
   "outputs": [],
   "source": []
  },
  {
   "cell_type": "code",
   "execution_count": null,
   "metadata": {},
   "outputs": [],
   "source": [
    "plt.plot(df_RQI_joint_results['rejection_ratio']*100, df_RQI_joint_results['MAE'], 'r')\n",
    "plt.show()"
   ]
  },
  {
   "cell_type": "code",
   "execution_count": null,
   "metadata": {},
   "outputs": [],
   "source": [
    "plt.scatter(df_RQI_fft_results['rejection_ratio']*100, df_RQI_fft_results['MAE'], c='r', alpha=0.5)\n",
    "plt.scatter(df_RQI_kurtosis_results['rejection_ratio']*100, df_RQI_kurtosis_results['MAE'], c='green', alpha=0.5)\n",
    "plt.scatter(df_RQI_joint_results['rejection_ratio']*100, df_RQI_joint_results['MAE'], c='blue', alpha=0.01)\n",
    "\n",
    "plt.show()"
   ]
  },
  {
   "cell_type": "code",
   "execution_count": null,
   "metadata": {},
   "outputs": [],
   "source": []
  },
  {
   "cell_type": "code",
   "execution_count": null,
   "metadata": {},
   "outputs": [],
   "source": [
    "plt.plot(df_RQI_fft_results['MAE_random'], df_RQI_fft_results['MAE'])"
   ]
  },
  {
   "cell_type": "code",
   "execution_count": null,
   "metadata": {},
   "outputs": [],
   "source": [
    "plt.plot(df_RQI_fft_results[])"
   ]
  },
  {
   "cell_type": "code",
   "execution_count": null,
   "metadata": {},
   "outputs": [],
   "source": []
  },
  {
   "cell_type": "code",
   "execution_count": null,
   "metadata": {},
   "outputs": [],
   "source": []
  },
  {
   "cell_type": "code",
   "execution_count": null,
   "metadata": {},
   "outputs": [],
   "source": []
  },
  {
   "cell_type": "code",
   "execution_count": null,
   "metadata": {},
   "outputs": [],
   "source": [
    "sns.scatterplot(data=df_outputlabel_val_RR_cosmed, x='label', y='label_est', hue='CV', palette=subject_palette)"
   ]
  },
  {
   "cell_type": "code",
   "execution_count": null,
   "metadata": {},
   "outputs": [],
   "source": [
    "# names_dict = {\n",
    "#     'SCG_AMpt': r'SCG-PT$_{AM}$',\n",
    "# #     'SCG_BW': r'SCG$_{BW}$',\n",
    "# #     'PEP_FM': r'SCG$_{FM}$',\n",
    "    \n",
    "#     'ECG_AM': r'ECG$_{AM}$',\n",
    "#     'ECG_AMr': r'ECG-R$_{AM}$',\n",
    "#     'ECG_AMs': r'ECG-S$_{AM}$',\n",
    "#     'ECG_AMbi': r'ECG-PP$_{AM}$',\n",
    "#     'ECG_SR': r'ECG-SR$_{AM}$',\n",
    "#     'ECG_AMpt': r'ECG-PT$_{AM}$',\n",
    "#     'ECG_PCA': r'ECG-PCA$_{AM}$',\n",
    "# #     'ECG_FM': r'ECG$_{FM}$',\n",
    "# #     'ECG_BW': r'ECG$_{BW}$',\n",
    "    \n",
    "# #     'ECG_AMpt+ECG_AMr': r'ECG-PT$_{AM}$ + ECG-R$_{AM}$',\n",
    "# #     'SCG_BW+SCG_AMpt': r'SCG$_{BW}$ + SCG-PT$_{AM}$',\n",
    "# #     'ECG_AMpt+ECG_AMr+SCG_AMpt': r'ECG-PT$_{AM}$ + ECG-R$_{AM}$ + SCG-PT$_{AM}$',\n",
    "#     'ECG_AMr+SCG_AMpt': r'ECG-R$_{AM}$ + SCG-PT$_{AM}$',    \n",
    "# #     'ECG_AM+ECG_AMpt+ECG_AMr+ECG_AMs+ECG_AMbi+ECG_SR+SCG_AMpt': r'All ECG$_{AM}$ + SCG-PT$_{AM}$',\n",
    "# #     'ECG_AM+ECG_AMpt+ECG_AMr+ECG_AMs+ECG_AMbi+ECG_SR':  r'All ECG$_{AM}$',\n",
    "# #     'ECG_AMpt+ECG_AMr+ECG_AMbi+ECG_SR':  r'Good ECG$_{AM}$',\n",
    "# #     'ECG_AMpt+ECG_AMr+ECG_AMbi+ECG_SR+SCG_AMpt': r'good ECG$_{AM}$ + SCG-PT$_{AM}$',\n",
    "# }"
   ]
  },
  {
   "cell_type": "code",
   "execution_count": null,
   "metadata": {},
   "outputs": [],
   "source": []
  },
  {
   "cell_type": "code",
   "execution_count": null,
   "metadata": {},
   "outputs": [],
   "source": [
    "df_aggregated = pd.DataFrame()\n",
    "for sub_file in os.listdir(inputdir):\n",
    "    if 'script' in sub_file: \n",
    "        \n",
    "        csv_dir = inputdir + sub_file + '/TRAIN-TEST/df_performance_TEST.csv'\n",
    "#         print(csv_dir)\n",
    "        \n",
    "        try:\n",
    "            df = pd.read_csv(csv_dir)  \n",
    "            sig_name = '_'.join(sub_file.split('_')[3:-2])\n",
    "            df['sig_name'] = sig_name\n",
    "\n",
    "            df_aggregated = df_aggregated.append(df, ignore_index=True)\n",
    "        except EnvironmentError: # parent of IOError, OSError *and* WindowsError where available\n",
    "            print ('error when reading', sub_file)"
   ]
  },
  {
   "cell_type": "code",
   "execution_count": null,
   "metadata": {},
   "outputs": [],
   "source": [
    "inputdir"
   ]
  },
  {
   "cell_type": "code",
   "execution_count": null,
   "metadata": {},
   "outputs": [],
   "source": [
    "df_aggregated"
   ]
  },
  {
   "cell_type": "code",
   "execution_count": null,
   "metadata": {},
   "outputs": [],
   "source": []
  },
  {
   "cell_type": "code",
   "execution_count": null,
   "metadata": {},
   "outputs": [],
   "source": []
  },
  {
   "cell_type": "code",
   "execution_count": null,
   "metadata": {},
   "outputs": [],
   "source": []
  },
  {
   "cell_type": "code",
   "execution_count": null,
   "metadata": {},
   "outputs": [],
   "source": [
    "# filedir = '../../../covid/results/backup/stage3/win60_overlap95_seq20_ECG_AM_norm_script0/'\n",
    "filedir = '../../../covid/results/stage3/win60_overlap95_seq20_ECG_AM_norm_script0/'\n",
    "\n",
    "training_params = {}\n",
    "freq = data_loader('freq', filedir)\n",
    "freq_dict = dict(zip(np.arange(freq.shape[0]), freq))\n",
    "training_params['freq_dict'] = freq_dict"
   ]
  },
  {
   "cell_type": "code",
   "execution_count": null,
   "metadata": {},
   "outputs": [],
   "source": [
    "label_TRAIN = data_loader('label', filedir+'TRAIN_cosmed/')\n",
    "RR_label_TRAIN = get_RR2(label_TRAIN, training_params)[:,10]*60\n",
    "\n",
    "label_TEST = data_loader('label', filedir+'TEST/')\n",
    "RR_label_TEST = get_RR2(label_TEST, training_params)[:,10]*60"
   ]
  },
  {
   "cell_type": "code",
   "execution_count": null,
   "metadata": {},
   "outputs": [],
   "source": []
  },
  {
   "cell_type": "code",
   "execution_count": null,
   "metadata": {},
   "outputs": [],
   "source": [
    "label_name = 'RR'\n",
    "\n",
    "RR_range = label_range_dict['br']\n",
    "\n",
    "fig=plt.figure(figsize=(6, 6), dpi= 120, facecolor='w', edgecolor='k')\n",
    "ax = fig.add_subplot(1, 1, 1)\n",
    "\n",
    "N_bins = 20\n",
    "\n",
    "ax.hist(RR_label_TRAIN, N_bins, alpha=0.4, label='TRAIN\\n  N=11\\n  mean={:.2f}bpm'.format(RR_label_TRAIN.mean()), color = \"firebrick\")\n",
    "ax.set_ylabel('count', fontsize = 20)\n",
    "ax.set_xlabel(r'$RR$ (bpm)', fontsize = 20)\n",
    "ax.set_title('RR samples distribution \\n17 subjects, treadmill recovery ', fontsize = 20,y=1.05)\n",
    "ax.tick_params(axis='x', which='major', labelsize=15)\n",
    "\n",
    "\n",
    "\n",
    "# ax2 = fig.add_subplot(1, 2, 2)\n",
    "\n",
    "ax.hist(RR_label_TEST, N_bins, alpha=0.4,label='TEST\\n  N=6\\n  mean={:.2f}bpm'.format(RR_label_TEST.mean()), color = \"steelblue\")\n",
    "\n",
    "ax.tick_params(axis='both', which='major', labelsize=20)\n",
    "\n",
    "ax.set_xlim(RR_range)\n",
    "# ax2.set_xlim(RR_range)\n",
    "# ax.legend(loc='upper right', fontsize=12, frameon=True)\n",
    "# ax.axis('off')\n",
    "\n",
    "ax.spines['right'].set_visible(False)\n",
    "ax.spines['top'].set_visible(False)\n",
    "# ax.spines['bottom'].set_visible(False)\n",
    "# ax.spines['left'].set_visible(True)\n",
    "\n",
    "fig.tight_layout()\n",
    "fig.savefig(outputdir + 'RR_distribution.png')"
   ]
  },
  {
   "cell_type": "code",
   "execution_count": null,
   "metadata": {},
   "outputs": [],
   "source": []
  },
  {
   "cell_type": "code",
   "execution_count": null,
   "metadata": {},
   "outputs": [],
   "source": [
    "df_aggregated = df_aggregated.sort_values(by=['MAE_mean_model_val'], inplace=False, ascending=False)\n",
    "df_aggregated[['MAE_mean_model_val', 'sig_name']]\n",
    "df_aggregated"
   ]
  },
  {
   "cell_type": "code",
   "execution_count": null,
   "metadata": {},
   "outputs": [],
   "source": [
    "RR_aggregated_dict = {}\n",
    "for sub_file in os.listdir(inputdir):\n",
    "    if 'script' in sub_file: \n",
    "        \n",
    "        csv_dir = inputdir + sub_file + '/TRAIN-TEST/df_RR_TEST.csv'\n",
    "#         print(csv_dir)\n",
    "        \n",
    "        try:\n",
    "            df = pd.read_csv(csv_dir)  \n",
    "            sig_name = '_'.join(sub_file.split('_')[3:-2])\n",
    "            df['sig_name'] = sig_name\n",
    "\n",
    "#             df_RR_aggregated = df_RR_aggregated.append(df, ignore_index=True)\n",
    "            RR_aggregated_dict[sig_name] = df.copy()\n",
    "        except EnvironmentError: # parent of IOError, OSError *and* WindowsError where available\n",
    "            print ('error when reading', sub_file)"
   ]
  },
  {
   "cell_type": "code",
   "execution_count": null,
   "metadata": {},
   "outputs": [],
   "source": [
    "input_names = df_aggregated['sig_name'].values\n",
    "MAE_model = df_aggregated['MAE_mean_model_val'].values\n",
    "MAE_input = df_aggregated['MAE_mean_input_val'].values"
   ]
  },
  {
   "cell_type": "code",
   "execution_count": null,
   "metadata": {},
   "outputs": [],
   "source": [
    "MAE_std_model = df_aggregated['MAE_std_model_val'].values\n",
    "MAE_std_input = df_aggregated['MAE_std_input_val'].values"
   ]
  },
  {
   "cell_type": "code",
   "execution_count": null,
   "metadata": {},
   "outputs": [],
   "source": [
    "def inspect_Nyquist_color(RR_label, hr, absolute_err, sig_name, names_dict, outputdir=None, show_plot=False, show_label=True):\n",
    "\n",
    "    plt.rcParams[\"font.family\"] = \"Times New Roman\"\n",
    "\n",
    "    RR = np.linspace(label_range_dict['br'][0], label_range_dict['br'][1], 100)\n",
    "    HR = np.linspace(label_range_dict['heart_rate_cosmed'][0], label_range_dict['heart_rate_cosmed'][1], 100)\n",
    "\n",
    "    \n",
    "    RR_cosmed = RR_label\n",
    "    HR_cosmed = hr\n",
    "\n",
    "    mask = RR_cosmed * 2 < HR_cosmed\n",
    "\n",
    "    if (~mask).sum() > 0:\n",
    "        print('subject {} fall out of Nyquist region'.format(subject_id))\n",
    "\n",
    "    fig, (ax1) = plt.subplots(1, 1, figsize=(5,5), dpi=150)\n",
    "    fontsize=18\n",
    "\n",
    "#     ax1.fill_between(HR, 0, HR/2, color='skyblue', alpha=0.2, label='Nyquist criterion\\n'+r'($F_{signal}$ < $\\frac{1}{2}$$F_{sampling}$)')\n",
    "    ax1.fill_between(HR, 0, HR/2, color='skyblue', alpha=0.2, label='Nyquist criterion\\n'+r'$\\frac{HR}{RR}$ > 2')\n",
    "    ax1.fill_between(HR, RR[-1], HR/2, color='gray', alpha=0.2)\n",
    "\n",
    "    cmap = matplotlib.cm.get_cmap('jet')\n",
    "    bounds=np.arange(0, 8.1, 0.05)\n",
    "    norm = colors.BoundaryNorm(bounds, cmap.N)\n",
    "\n",
    "    \n",
    "    sc = ax1.scatter(HR_cosmed[np.where(mask)], RR_cosmed[np.where(mask)], s=50, c=absolute_err, alpha=1, cmap='jet', norm=norm)\n",
    "\n",
    "#     title_str = '{}'.format(sig_name)\n",
    "    title_str = names_dict[sig_name]\n",
    "\n",
    "    \n",
    "    if show_label:\n",
    "#         ax1.set_title(title_str, fontsize=fontsize, pad=15)\n",
    "\n",
    "        ax1.set_ylabel(r'$F_{signal}$ (RR, breaths/minute)', fontsize=fontsize)\n",
    "        ax1.set_xlabel(r'$F_{sampling}$ (HR, beats/minute)', fontsize=fontsize)\n",
    "        ax1.legend(frameon=True, loc='upper right', fontsize=fontsize-2)\n",
    "\n",
    "    ax1.set_xlim(HR[0], HR[-1])\n",
    "    ax1.set_ylim(RR[0], RR[-1])\n",
    "    ax1.tick_params(axis = 'both', which = 'major', labelsize = fontsize)\n",
    "\n",
    "    ax1.xaxis.set_major_locator(MultipleLocator(40))\n",
    "                        \n",
    "    divider = make_axes_locatable(ax1)\n",
    "    cax = divider.append_axes(\"right\", size=\"5%\", pad=0.08)\n",
    "\n",
    "    cbar = fig.colorbar(sc, cax=cax, boundaries=bounds, \n",
    "         ticks=[0,2,4,6,8],)  \n",
    "    cbar.ax.tick_params(labelsize=fontsize-2) \n",
    "\n",
    "    fig.tight_layout()\n",
    "\n",
    "\n",
    "    if outputdir is not None:\n",
    "        outputdir = outputdir+'inspect_Nyquist/'\n",
    "        if not os.path.exists(outputdir):\n",
    "            os.makedirs(outputdir)\n",
    "        fig.savefig(outputdir + '{}.png'.format(sig_name), facecolor=fig.get_facecolor())\n",
    "\n",
    "    if show_plot == False:\n",
    "        plt.close(fig)\n",
    "        pyplot.close(fig)\n",
    "        plt.close('all')\n"
   ]
  },
  {
   "cell_type": "code",
   "execution_count": null,
   "metadata": {},
   "outputs": [],
   "source": []
  },
  {
   "cell_type": "code",
   "execution_count": null,
   "metadata": {},
   "outputs": [],
   "source": [
    "for sig_name in names_dict:\n",
    "\n",
    "    RR_label = RR_aggregated_dict[sig_name]['RR_label'].values*60\n",
    "    RR_model = RR_aggregated_dict[sig_name]['RR_model'].values*60\n",
    "    hr =  RR_aggregated_dict[sig_name]['hr'].values\n",
    "\n",
    "    absolute_err = np.abs(RR_model-RR_label)\n",
    "    inspect_Nyquist_color(RR_label, hr, absolute_err, sig_name, names_dict, outputdir=outputdir, show_plot=False, show_label=True)\n"
   ]
  },
  {
   "cell_type": "code",
   "execution_count": null,
   "metadata": {},
   "outputs": [],
   "source": []
  },
  {
   "cell_type": "code",
   "execution_count": null,
   "metadata": {},
   "outputs": [],
   "source": []
  },
  {
   "cell_type": "code",
   "execution_count": null,
   "metadata": {},
   "outputs": [],
   "source": [
    "input_names"
   ]
  },
  {
   "cell_type": "code",
   "execution_count": null,
   "metadata": {},
   "outputs": [],
   "source": []
  },
  {
   "cell_type": "code",
   "execution_count": null,
   "metadata": {},
   "outputs": [],
   "source": []
  },
  {
   "cell_type": "code",
   "execution_count": null,
   "metadata": {},
   "outputs": [],
   "source": []
  },
  {
   "cell_type": "code",
   "execution_count": null,
   "metadata": {},
   "outputs": [],
   "source": []
  },
  {
   "cell_type": "markdown",
   "metadata": {},
   "source": [
    "# get temporal results from stage 2"
   ]
  },
  {
   "cell_type": "code",
   "execution_count": null,
   "metadata": {},
   "outputs": [],
   "source": [
    "df_temporal_performance = pd.read_csv('../../../covid/results/stage2/temporal_performance.csv')\n",
    "df_temporal_performance['MAE_coarse (bpm)']\n",
    "df_temporal_performance"
   ]
  },
  {
   "cell_type": "code",
   "execution_count": null,
   "metadata": {},
   "outputs": [],
   "source": []
  },
  {
   "cell_type": "code",
   "execution_count": null,
   "metadata": {},
   "outputs": [],
   "source": [
    "df_join_methods = pd.DataFrame()\n",
    "\n",
    "\n",
    "for input_name in names_dict.keys():\n",
    "    df = df_aggregated[df_aggregated['sig_name']==input_name]\n",
    "        \n",
    "    \n",
    "    one_dict = {\n",
    "        'MAE_mean': df['MAE_mean_model_val'].values[0],\n",
    "        'MAE_std': df['MAE_std_model_val'].values[0],\n",
    "        'method': 'ST+U-Net',\n",
    "        'input_name': input_name,\n",
    "    }\n",
    "\n",
    "    df_join_methods = df_join_methods.append(one_dict, ignore_index=True)\n",
    " \n",
    "    one_dict = {\n",
    "        'MAE_mean': df['MAE_mean_input_val'].values[0],\n",
    "        'MAE_std': df['MAE_std_input_val'].values[0],\n",
    "        'method': 'ST',\n",
    "        'input_name': input_name,\n",
    "    }\n",
    "\n",
    "    df_join_methods = df_join_methods.append(one_dict, ignore_index=True)\n",
    " \n",
    "    df = df_temporal_performance[df_temporal_performance['surrogate_name']==input_name]\n",
    "\n",
    "    one_dict = {\n",
    "        'MAE_mean': float(df['MAE_coarse (bpm)'].values[0].split('±')[0]),\n",
    "        'MAE_std': float(df['MAE_coarse (bpm)'].values[0].split('±')[1]),\n",
    "        'method': 'temporal',\n",
    "        'input_name': input_name,\n",
    "    }\n",
    "\n",
    "    df_join_methods = df_join_methods.append(one_dict, ignore_index=True)\n",
    "\n",
    "# {\n",
    "#     'MAE_mean': ,\n",
    "#     'MAE_std': ,\n",
    "#     'method': ,\n",
    "# }"
   ]
  },
  {
   "cell_type": "code",
   "execution_count": null,
   "metadata": {},
   "outputs": [],
   "source": [
    "input_names"
   ]
  },
  {
   "cell_type": "code",
   "execution_count": null,
   "metadata": {},
   "outputs": [],
   "source": [
    "\n",
    "# 'ECG_AMr+SCG_AMpt'\n",
    "# 'SCG_AMpt', 'ECG_AM', 'ECG_AMr', 'ECG_AMs', 'ECG_AMbi', 'ECG_SR',\n",
    "#        'ECG_AMpt', \n",
    "\n",
    "# df_join_methods['input_name'].unique()"
   ]
  },
  {
   "cell_type": "code",
   "execution_count": null,
   "metadata": {},
   "outputs": [],
   "source": [
    "\n",
    "df_join_methods[df_join_methods['method']=='temporal']\n",
    "df_join_methods[df_join_methods['method']=='ST']\n",
    "df_join_methods[df_join_methods['method']=='ST+U-Net']"
   ]
  },
  {
   "cell_type": "code",
   "execution_count": null,
   "metadata": {},
   "outputs": [],
   "source": [
    "df_join_methods['method'].unique()"
   ]
  },
  {
   "cell_type": "code",
   "execution_count": null,
   "metadata": {},
   "outputs": [],
   "source": [
    "method_color_dict = {\n",
    "    'temporal': '#2471A3',\n",
    "    'ST': '#45B39D',\n",
    "    'ST+U-Net':'#F4D03F' ,\n",
    "}"
   ]
  },
  {
   "cell_type": "code",
   "execution_count": null,
   "metadata": {},
   "outputs": [],
   "source": [
    "\n",
    "def get_perc_improve(new, initial):\n",
    "    return (new-initial)/initial\n"
   ]
  },
  {
   "cell_type": "code",
   "execution_count": null,
   "metadata": {},
   "outputs": [],
   "source": [
    "print('input name\\t\\t\\tST v. temp\\tST+U-Net v. temp\\tST+U-Net v. ST')\n",
    "for input_name in df_join_methods['input_name'].unique():\n",
    "    df = df_join_methods[df_join_methods['input_name']==input_name]\n",
    "\n",
    "    \n",
    "    ST_improve = get_perc_improve(df[df['method']=='ST']['MAE_mean'].values[0], df[df['method']=='temporal']['MAE_mean'].values[0])\n",
    "    U_improve = get_perc_improve(df[df['method']=='ST+U-Net']['MAE_mean'].values[0], df[df['method']=='temporal']['MAE_mean'].values[0])\n",
    "    UST_improve = get_perc_improve(df[df['method']=='ST+U-Net']['MAE_mean'].values[0], df[df['method']=='ST']['MAE_mean'].values[0])\n",
    "\n",
    "    print('{:20}\\t\\t{:.2f}%\\t\\t{:.2f}%\\t\\t\\t{:.2f}%'.format(input_name, ST_improve*100, U_improve*100, UST_improve*100))"
   ]
  },
  {
   "cell_type": "code",
   "execution_count": null,
   "metadata": {},
   "outputs": [],
   "source": [
    "print('input name\\t\\t\\tST v. temp\\tST+U-Net v. temp\\tST+U-Net v. ST')\n",
    "for input_name in df_join_methods['input_name'].unique():\n",
    "    df = df_join_methods[df_join_methods['input_name']==input_name]\n",
    "\n",
    "    \n",
    "    ST_improve = df[df['method']=='ST']['MAE_mean'].values[0] - df[df['method']=='temporal']['MAE_mean'].values[0]\n",
    "    U_improve = df[df['method']=='ST+U-Net']['MAE_mean'].values[0] - df[df['method']=='temporal']['MAE_mean'].values[0]\n",
    "    UST_improve = df[df['method']=='ST+U-Net']['MAE_mean'].values[0] - df[df['method']=='ST']['MAE_mean'].values[0]\n",
    "\n",
    "    print('{:20}\\t\\t{:.2f}bpm\\t\\t{:.2f}bpm\\t\\t\\t{:.2f}bpm'.format(input_name, ST_improve, U_improve, UST_improve))"
   ]
  },
  {
   "cell_type": "code",
   "execution_count": null,
   "metadata": {},
   "outputs": [],
   "source": [
    "print(input_name)\n",
    "\n",
    "df[df['method']=='ST+U-Net']['MAE_mean'].values[0], df[df['method']=='ST']['MAE_mean'].values[0]\n"
   ]
  },
  {
   "cell_type": "code",
   "execution_count": null,
   "metadata": {},
   "outputs": [],
   "source": []
  },
  {
   "cell_type": "code",
   "execution_count": null,
   "metadata": {},
   "outputs": [],
   "source": [
    "def plot_figure7_ranking_all(df_join_methods, outputdir=None, show_plot=False):\n",
    "\n",
    "    fig = plt.figure(figsize=(16,15),dpi=100)\n",
    "    ax = fig.add_subplot(1, 1, 1)\n",
    "    fontsize = 30\n",
    "\n",
    "    # Width of a bar \n",
    "    width = 0.25\n",
    "    model_shift = 0 + width*1.5\n",
    "\n",
    "    # ind = np.arange(len(df['input_name'].unique()))\n",
    "#     ind = np.asarray([0, 1, 2, 3, 4, 6, 5, 7])\n",
    "    ind = np.arange(len(df_join_methods['input_name'].unique()))\n",
    "\n",
    "    for method in df_join_methods['method'].unique():\n",
    "        df = df_join_methods[df_join_methods['method']==method]\n",
    "        \n",
    "        legend_name = method\n",
    "        if method=='ST+U-Net':\n",
    "            legend_name = 'ST-U-Net'\n",
    "            print(df)\n",
    "                        \n",
    "        ax.barh(ind+model_shift, df['MAE_mean'].values , width, label=legend_name, color=method_color_dict[method], zorder=3, alpha=0.9)\n",
    "    # ax.barh(ind, MAE_input_single,  width, label='Demodulation', color='firebrick', zorder=3, alpha=0.9)\n",
    "\n",
    "        ax.hlines(ind+model_shift, 0, df['MAE_std'].values, color='black')  # Stems\n",
    "        ax.plot(df['MAE_std'].values, ind+model_shift, 'o', color='black')  # Stem ends\n",
    "\n",
    "\n",
    "        model_shift = model_shift - width\n",
    "\n",
    "\n",
    "    ax.set_yticks(ind + (width+0.05) / 2)\n",
    "    ax.set_yticklabels(df['input_name'].unique())\n",
    "\n",
    "\n",
    "    ax.tick_params(axis='both', which='major', labelsize=fontsize)\n",
    "    ax.set_xlabel('MAE (bpm)', fontsize=fontsize+5)\n",
    "\n",
    "    ax.legend(loc='upper right', fontsize=fontsize, frameon=True)\n",
    "    ax.xaxis.grid(True, which='major', color='gray',alpha=0.8)\n",
    "    ax.xaxis.grid(True, which='minor', alpha=0.5)\n",
    "    # plt.majorticks_on() \n",
    "    plt.minorticks_on() \n",
    "\n",
    "    ax.spines['right'].set_visible(False)\n",
    "    ax.spines['top'].set_visible(False)\n",
    "    fig.tight_layout()\n",
    "\n",
    "#     ax.set_xlim(0,4)\n",
    "\n",
    "    if outputdir is not None:\n",
    "        if not os.path.exists(outputdir):\n",
    "            os.makedirs(outputdir)\n",
    "        fig.savefig(outputdir + 'figure8_rank_all.png', facecolor=fig.get_facecolor())\n",
    "    if show_plot == False:\n",
    "        plt.close(fig)\n",
    "        pyplot.close(fig)\n",
    "        plt.close('all')\n",
    "    plt.show()\n",
    "\n",
    "# plot_figure7_ranking_all(df_join_methods, outputdir=outputdir, show_plot=True)\n",
    "plot_figure7_ranking_all(df_join_methods[(df_join_methods['input_name']!='SCG_AMpt') & (df_join_methods['input_name']!='ECG_AMr+SCG_AMpt')], outputdir=outputdir, show_plot=True)\n"
   ]
  },
  {
   "cell_type": "code",
   "execution_count": null,
   "metadata": {},
   "outputs": [],
   "source": []
  },
  {
   "cell_type": "code",
   "execution_count": null,
   "metadata": {},
   "outputs": [],
   "source": [
    "# filedir = 'covid/results/stage4/unet_TEST/win60_overlap95_seq20_ECG_AM_norm_script0/TRAIN-TEST/df_RR_TEST.csv'\n",
    "# 'covid/results/stage4/unet_TEST/win60_overlap95_seq20_ECG_AMr+SCG_AMpt_norm_script13/TRAIN-TEST/df_RR_TEST.csv'\n",
    "\n",
    "filedir = '../../../covid/results/stage4/unet_TEST/win60_overlap95_seq20_ECG_AMr+SCG_AMpt_norm_script13/TRAIN-TEST/df_RR_TEST.csv'\n",
    "\n",
    "df_RR_TEST = pd.read_csv(filedir)  \n"
   ]
  },
  {
   "cell_type": "markdown",
   "metadata": {},
   "source": [
    "(< 8 bpm, 9-16 bpm, 17-25 bpm, 26-38 bpm 38-60 bpm) "
   ]
  },
  {
   "cell_type": "code",
   "execution_count": null,
   "metadata": {},
   "outputs": [],
   "source": [
    "list_ranges = [\n",
    "    [0,8], # include 0 to 8 (excluding 8)\n",
    "    [8,16],\n",
    "    [16,25],\n",
    "    [25,38],\n",
    "#     [38,60],\n",
    "]"
   ]
  },
  {
   "cell_type": "code",
   "execution_count": null,
   "metadata": {},
   "outputs": [],
   "source": [
    "# list_ranges = [\n",
    "#     [0,8],\n",
    "#     [8,16],\n",
    "#     [16,25],\n",
    "#     [25,40],\n",
    "# ]\n",
    "\n",
    "(df_RR_TEST['meta']==15).sum()"
   ]
  },
  {
   "cell_type": "code",
   "execution_count": null,
   "metadata": {},
   "outputs": [],
   "source": [
    "# (AE==0).mean()*100 + (AE==1).mean()*100 +((AE>=2) & (AE<=3)).mean()*100 + ((AE>=4) & (AE<=6)).mean()*100 + ((AE>=7) & (AE<=9)).mean()*100 + ((AE>=10) & (AE<=15)).mean()*100 + (AE>15).mean()*100 "
   ]
  },
  {
   "cell_type": "code",
   "execution_count": null,
   "metadata": {},
   "outputs": [],
   "source": [
    "# AE"
   ]
  },
  {
   "cell_type": "code",
   "execution_count": null,
   "metadata": {},
   "outputs": [],
   "source": [
    "# df_aggregated = pd.DataFrame()\n",
    "for sub_file in os.listdir(inputdir):\n",
    "    if 'script' in sub_file: \n",
    "        \n",
    "        csv_dir = inputdir + sub_file + '/TRAIN-TEST/df_RR_TEST.csv'\n",
    "        \n",
    "        \n",
    "        if sub_file.split('seq20_')[1].split('_norm')[0] not in names_dict.keys():\n",
    "            continue\n",
    "        \n",
    "        print('\\n')\n",
    "        print(csv_dir)\n",
    "\n",
    "        try:\n",
    "#             df = pd.read_csv(csv_dir)\n",
    "            df_RR_TEST = pd.read_csv(csv_dir)\n",
    "\n",
    "            # 1. compute MAE within different ranges\n",
    "            for bpm_range in list_ranges:\n",
    "\n",
    "                df_range = df_RR_TEST[(df_RR_TEST['RR_label']>=bpm_range[0]/60) & (df_RR_TEST['RR_label']<bpm_range[1]/60)]\n",
    "\n",
    "                MAE_range = (np.abs(df_range['RR_model'] - df_range['RR_label'])).mean()*60\n",
    "                print(bpm_range, MAE_range)\n",
    "\n",
    "            # 2. compute % of segments of each bpm\n",
    "            AE = np.abs(df_RR_TEST['RR_label']-df_RR_TEST['RR_model']).values*60\n",
    "            AE = np.round(AE)\n",
    "            print('0bpm\\t1bpm\\t2-3bpm\\t4-6bpm\\t7-9bpm\\t10-15bpm\\t>15bpm\\t')\n",
    "            print('{:.2f}\\n{:.2f}\\n{:.2f}\\n{:.2f}\\n{:.2f}\\n{:.2f}\\n{:.2f}'.format((AE==0).mean()*100, (AE==1).mean()*100, ((AE>=2) & (AE<=3)).mean()*100, \n",
    "                                                          ((AE>=4) & (AE<=6)).mean()*100, ((AE>=7) & (AE<=9)).mean()*100, \n",
    "                                                          ((AE>=10) & (AE<=15)).mean()*100, (AE>15).mean()*100 ))\n",
    "#                                                           ((AE>2) & (AE<=6)).mean()*100))\n",
    "\n",
    "        except EnvironmentError: # parent of IOError, OSError *and* WindowsError where available\n",
    "            print ('error when reading', sub_file)"
   ]
  },
  {
   "cell_type": "code",
   "execution_count": null,
   "metadata": {},
   "outputs": [],
   "source": [
    "\n"
   ]
  },
  {
   "cell_type": "code",
   "execution_count": null,
   "metadata": {},
   "outputs": [],
   "source": []
  },
  {
   "cell_type": "code",
   "execution_count": null,
   "metadata": {},
   "outputs": [],
   "source": []
  },
  {
   "cell_type": "code",
   "execution_count": null,
   "metadata": {},
   "outputs": [],
   "source": []
  },
  {
   "cell_type": "code",
   "execution_count": null,
   "metadata": {},
   "outputs": [],
   "source": []
  },
  {
   "cell_type": "code",
   "execution_count": null,
   "metadata": {},
   "outputs": [],
   "source": [
    "input_names = df_aggregated['sig_name'].values\n",
    "input_names"
   ]
  },
  {
   "cell_type": "code",
   "execution_count": null,
   "metadata": {},
   "outputs": [],
   "source": [
    "MAE_coarse, MAE_std_coarse"
   ]
  },
  {
   "cell_type": "code",
   "execution_count": null,
   "metadata": {},
   "outputs": [],
   "source": [
    "MAE_model.shape, MAE_std_model.shape"
   ]
  },
  {
   "cell_type": "code",
   "execution_count": null,
   "metadata": {},
   "outputs": [],
   "source": []
  },
  {
   "cell_type": "code",
   "execution_count": null,
   "metadata": {},
   "outputs": [],
   "source": []
  },
  {
   "cell_type": "code",
   "execution_count": null,
   "metadata": {},
   "outputs": [],
   "source": []
  },
  {
   "cell_type": "code",
   "execution_count": null,
   "metadata": {},
   "outputs": [],
   "source": [
    "def plot_figure7_ranking(sig_names, MAE, bar_name, names_dict, color='firebrick', outputdir=None, show_plot=False):\n",
    "    sig_single = []\n",
    "    i_single = []\n",
    "\n",
    "    for i, sig_name in enumerate(sig_names):\n",
    "        if sig_name not in list(names_dict.keys()):\n",
    "            continue\n",
    "#         if '+' in sig_name:\n",
    "#             continue\n",
    "#             sig_single.append(sig_name)\n",
    "        sig_single.append(names_dict[sig_name])\n",
    "\n",
    "        i_single.append(i)\n",
    "\n",
    "    sig_names_single = np.asarray(sig_single)\n",
    "    MAE_single = np.asarray(MAE[i_single])\n",
    "\n",
    "\n",
    "    fig = plt.figure(figsize=(12,10),dpi=100)\n",
    "#     ax = fig.add_axes([0,0,1,1])\n",
    "    ax = fig.add_subplot(1, 1, 1)\n",
    "\n",
    "    fontsize = 25\n",
    "\n",
    "\n",
    "    # Position of bars on x-axis\n",
    "    ind = np.arange(sig_names_single.shape[0])\n",
    "\n",
    "    # Width of a bar \n",
    "    width = 0.7   \n",
    "\n",
    "    ax.barh(ind, MAE_single , width, label=bar_name, color=color)\n",
    "\n",
    "#     ax.axvline(x=6.5, color='gray', ls='--')\n",
    "\n",
    "    \n",
    "    ax.set_yticks(ind )\n",
    "    ax.set_yticklabels(sig_names_single)\n",
    "\n",
    "\n",
    "    ax.tick_params(axis='both', which='major', labelsize=fontsize)\n",
    "    ax.set_xlabel('MAE (bpm)', fontsize=fontsize)\n",
    "\n",
    "    ax.legend(loc='best', fontsize=fontsize, frameon=True)\n",
    "\n",
    "    ax.xaxis.grid(True, which='major')\n",
    "\n",
    "    fig.tight_layout()\n",
    "\n",
    "    if outputdir is not None:\n",
    "        if not os.path.exists(outputdir):\n",
    "            os.makedirs(outputdir)\n",
    "        fig.savefig(outputdir + 'figure7_rank_sig_{}.png'.format(bar_name), facecolor=fig.get_facecolor())\n",
    "    if show_plot == False:\n",
    "        plt.close(fig)\n",
    "        pyplot.close(fig)\n",
    "        plt.close('all')\n",
    "    plt.show()"
   ]
  },
  {
   "cell_type": "code",
   "execution_count": null,
   "metadata": {},
   "outputs": [],
   "source": [
    "df_aggregated = df_aggregated.sort_values(by=['MAE_mean_input_val'], inplace=False, ascending=False)\n",
    "# df_aggregated[['MAE_mean_model_val', 'sig_name']]\n",
    "\n",
    "input_names = df_aggregated['sig_name'].values\n",
    "MAE_model = df_aggregated['MAE_mean_model_val'].values\n",
    "MAE_input = df_aggregated['MAE_mean_input_val'].values\n",
    "\n",
    "MAE = MAE_input\n",
    "bar_name = 'DSP'\n",
    "color='firebrick'\n",
    "plot_figure7_ranking(input_names, MAE, bar_name, names_dict, color=color, outputdir=outputdir, show_plot=True)\n"
   ]
  },
  {
   "cell_type": "code",
   "execution_count": null,
   "metadata": {},
   "outputs": [],
   "source": [
    "df_aggregated = df_aggregated.sort_values(by=['MAE_mean_model_val'], inplace=False, ascending=False)\n",
    "\n",
    "input_names = df_aggregated['sig_name'].values\n",
    "MAE_model = df_aggregated['MAE_mean_model_val'].values\n",
    "MAE_input = df_aggregated['MAE_mean_input_val'].values\n",
    "\n",
    "MAE = MAE_model\n",
    "bar_name = 'DSP + DL'\n",
    "color='steelblue'\n",
    "plot_figure7_ranking(input_names, MAE, bar_name, names_dict, color=color, outputdir=outputdir, show_plot=True)\n"
   ]
  },
  {
   "cell_type": "code",
   "execution_count": null,
   "metadata": {},
   "outputs": [],
   "source": []
  },
  {
   "cell_type": "code",
   "execution_count": null,
   "metadata": {},
   "outputs": [],
   "source": []
  }
 ],
 "metadata": {
  "kernelspec": {
   "display_name": "mienv",
   "language": "python",
   "name": "mienv"
  },
  "language_info": {
   "codemirror_mode": {
    "name": "ipython",
    "version": 3
   },
   "file_extension": ".py",
   "mimetype": "text/x-python",
   "name": "python",
   "nbconvert_exporter": "python",
   "pygments_lexer": "ipython3",
   "version": "3.7.16"
  }
 },
 "nbformat": 4,
 "nbformat_minor": 4
}
