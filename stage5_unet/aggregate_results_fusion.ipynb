{
 "cells": [
  {
   "cell_type": "code",
   "execution_count": null,
   "metadata": {},
   "outputs": [],
   "source": [
    "import numpy as np\n",
    "import random\n",
    "\n",
    "from sklearn.datasets import fetch_openml\n",
    "from sklearn.utils import shuffle\n",
    "from sklearn.preprocessing import StandardScaler\n",
    "from sklearn.decomposition import PCA\n",
    "from sklearn.metrics import r2_score\n",
    "\n",
    "from tqdm import tqdm\n",
    "from tqdm import trange\n",
    "import time\n",
    "\n",
    "import os\n",
    "import math\n",
    "from math import sin\n",
    "from icecream import ic\n",
    "import json\n",
    "import argparse\n",
    "\n",
    "# checklist 1: uncomment matplotlib.use('Agg')\n",
    "import matplotlib\n",
    "# matplotlib.use('Agg')\n",
    "import matplotlib.pyplot as plt\n",
    "plt.style.use('seaborn-white')\n",
    "matplotlib.rc( 'savefig', facecolor = 'white' )\n",
    "from matplotlib import pyplot\n",
    "from matplotlib.colors import LinearSegmentedColormap\n",
    "from mpl_toolkits.axes_grid1.axes_divider import make_axes_locatable\n",
    "from matplotlib.ticker import (MultipleLocator, AutoMinorLocator)\n",
    "import matplotlib.gridspec as gridspec\n",
    "# plt.rcParams[\"font.family\"] = \"Times New Roman\"\n",
    "%matplotlib inline  \n",
    "\n",
    "# plt.style.use('dark_background')\n",
    "\n",
    "from scipy.io import loadmat\n",
    "import scipy\n",
    "from scipy import signal\n",
    "from scipy.fftpack import fft, ifft\n",
    "from scipy.signal import hilbert, chirp\n",
    "from scipy.signal import find_peaks\n",
    "from scipy.interpolate import interp1d\n",
    "\n",
    "i_seed = 0\n",
    "\n",
    "import torch\n",
    "from torch.utils.data import Dataset, DataLoader\n",
    "import torch.nn as nn\n",
    "import torch.nn.functional as F\n",
    "import torchvision\n",
    "from torchvision import transforms, datasets, models\n",
    "from torchsummary import summary\n",
    "\n",
    "import PIL\n",
    "\n",
    "import sys\n",
    "\n",
    "sys.path.append('../') # add this line so Data and data are visible in this file\n",
    "sys.path.append('../../') # add this line so Data and data are visible in this file\n",
    "sys.path.append('../PatchWand/') # add this line so Data and data are visible in this file\n",
    "\n",
    "from plotting_tools import *\n",
    "from preprocessing import *\n",
    "from setting import *\n",
    "from surrogate_extraction import *\n",
    "from dataIO import *\n",
    "from filters import *\n",
    "from spectral_module import *\n",
    "from stage4_regression import *\n",
    "# from unet_extension.dataset_util import *\n",
    "# from unet_extension.evaluation_util import *\n",
    "# from unet_extension.models import *\n",
    "# from unet_extension.training_util import *\n",
    "\n",
    "\n",
    "import datetime\n",
    "import time\n",
    "\n",
    "# checklist 2: comment out all magic command\n",
    "from importlib import reload\n",
    "%load_ext autoreload\n",
    "%autoreload 2\n"
   ]
  },
  {
   "cell_type": "code",
   "execution_count": null,
   "metadata": {},
   "outputs": [],
   "source": []
  },
  {
   "cell_type": "code",
   "execution_count": null,
   "metadata": {},
   "outputs": [],
   "source": []
  },
  {
   "cell_type": "code",
   "execution_count": null,
   "metadata": {},
   "outputs": [],
   "source": []
  },
  {
   "cell_type": "code",
   "execution_count": null,
   "metadata": {},
   "outputs": [],
   "source": []
  },
  {
   "cell_type": "code",
   "execution_count": null,
   "metadata": {},
   "outputs": [],
   "source": [
    "# Fs = FS_RESAMPLE\n",
    "\n",
    "# label_names = ['br', 'heart_rate_cosmed', 'rer', 'vco2_ml_min', 've', 'vo2_ml_min', 'vt']\n",
    "# sig_names = ['ECG', 'accelX', 'accelY', 'accelZ']"
   ]
  },
  {
   "cell_type": "code",
   "execution_count": null,
   "metadata": {},
   "outputs": [],
   "source": [
    "parser = argparse.ArgumentParser(description='RR_estimate')\n",
    "parser.add_argument('--input_folder', metavar='input_folder', help='input_folder',\n",
    "                    default='../')\n",
    "parser.add_argument('--output_folder', metavar='output_folder', help='output_folder',\n",
    "                    default='../')\n",
    "parser.add_argument('--training_params_file', metavar='training_params_file', help='training_params_file',\n",
    "                    default='training_params_list.json')\n",
    "\n",
    "\n",
    "# checklist 3: comment first line, uncomment second line\n",
    "# args = parser.parse_args(['--input_folder', '../../../covid/results/stage3/win60_overlap95_seq20_ECG_AMpt_norm_script1/', \n",
    "# args = parser.parse_args(['--input_folder', '../../data/stage4_UNet/', \n",
    "args = parser.parse_args(['--input_folder', '../../data/stage4_UNet/', \n",
    "                          '--output_folder', '../../data/stage5_UNet/'])\n",
    "                          \n",
    "# args = parser.parse_args()\n",
    "print(args)"
   ]
  },
  {
   "cell_type": "code",
   "execution_count": null,
   "metadata": {},
   "outputs": [],
   "source": [
    "inputdir = args.input_folder\n",
    "outputdir = args.output_folder\n",
    "# outputdir = outputdir+inputdir.split('/')[-2]+'/'\n",
    "\n",
    "# training_params_file = args.training_params_file"
   ]
  },
  {
   "cell_type": "code",
   "execution_count": null,
   "metadata": {},
   "outputs": [],
   "source": [
    "steps_thre = 50\n",
    "# list_modalitites = ['PPG-select', 'ppg-g-1', 'ppg-g-2', 'ppg-ir-1', 'ppg-ir-2', 'SCG-select', 'SCG', 'SCGx-AMpt', 'SCGy-AMpt', 'SCGxyz-AMpt']\n",
    "# list_modalitites = ['test']\n",
    "# list_modalitites = ['PPG']\n",
    "# list_modalitites = ['ECG-SR+PPG']\n",
    "list_modalitites = ['ECG-SR+PPG-select']\n",
    "\n",
    "list_method = ['U-Net']\n",
    "\n",
    "list_TF_types = ['target']\n",
    "\n",
    "domain_name = 'CDC_dataset'\n",
    "\n",
    "act_type = 'run'\n",
    "# act_type = 'rest'\n",
    "# act_type = '6MWT'\n",
    "# act_type = 'ER'\n",
    "\n",
    "act_type = 'stationary'\n",
    "act_type = 'walk'\n",
    "\n",
    "\n",
    "if act_type=='rest':\n",
    "    task_ids = [0]\n",
    "#     reject_act = [1, 2, 3, 4, 5, 6] # keep 0\n",
    "#     reject_act = [1, 2, 3, 4, 5, 6, 10] # keep 0\n",
    "elif act_type=='6MWT':\n",
    "    task_ids = [6]\n",
    "#     reject_act = [0 ,1, 2, 3, 4, 5] # keep 6\n",
    "#     reject_act = [0 ,1, 2, 3, 4, 5, 10] # keep 6\n",
    "elif act_type=='ER':\n",
    "    task_ids = [1,2,3,4,5]\n",
    "elif act_type=='sedentary':\n",
    "    task_ids = [0, 1, 2, 3, 4, 5]\n",
    "#     reject_act = [0, 6, 10] # keep 1, 2, 3, 4\n",
    "elif act_type=='run':\n",
    "    task_ids = [10]\n",
    "    \n",
    "elif act_type=='stationary':\n",
    "    task_ids = [0,1,2,3,4,5]\n",
    "elif act_type=='walk':\n",
    "    task_ids = [6,7,9]\n"
   ]
  },
  {
   "cell_type": "code",
   "execution_count": null,
   "metadata": {},
   "outputs": [],
   "source": [
    "act_type"
   ]
  },
  {
   "cell_type": "code",
   "execution_count": null,
   "metadata": {},
   "outputs": [],
   "source": [
    "# variant = 'baseline'\n",
    "# list_variants = ['baseline', 'SE_block']\n",
    "# list_variants = ['baseline']\n",
    "# list_variants = ['AT_block']\n",
    "list_variants = ['baseline', 'AT_block', 'Late_UNet', 'Attention_UNet', 'ST', 'estimates_average']\n",
    "# list_variants = ['baseline', 'Late_UNet', 'Attention_UNet']\n",
    "\n",
    "# list_variants = ['baseline', 'AT_block']\n",
    "\n",
    "# variant = 'SE_block'"
   ]
  },
  {
   "cell_type": "code",
   "execution_count": null,
   "metadata": {},
   "outputs": [],
   "source": []
  },
  {
   "cell_type": "code",
   "execution_count": null,
   "metadata": {},
   "outputs": [],
   "source": [
    "if domain_name=='GT_dataset':\n",
    "\n",
    "    home = expanduser(\"~\")\n",
    "\n",
    "    filename_subinfo = home+'/'+ 'Estimation_RR/covid/Mobashir_CosmedWearable/Cosmed Wearable Subject Information.xlsx'\n",
    "    df_subinfo = pd.read_excel(filename_subinfo) \n",
    "    df_subinfo\n",
    "\n",
    "    df_subinfo = df_subinfo.rename(columns={'Height in cm': 'Height', 'Weight in Kg': 'Weight', 'Subject ID':'Subject_ID'})\n",
    "\n",
    "    df_subinfo['Subject_ID'] = df_subinfo['Subject_ID'].apply(lambda x: int(x.split('M')[0].split('F')[0].split('CW')[1]))\n",
    "    df_subinfo = df_subinfo[['Subject_ID', 'Age', 'Height', 'Weight', 'Gender']].drop_duplicates().reset_index(drop=True)\n",
    "    df_subinfo['BMI'] = df_subinfo['Weight'].values / (df_subinfo['Height'].values/100)**2\n",
    "    df_subinfo['Fitzpatrick'] = -1\n",
    "    \n",
    "elif domain_name=='CDC_dataset':\n",
    "\n",
    "    filename_subinfo = '../../data/raw/FS Subject Information.xlsx'\n",
    "    df_subinfo = pd.read_excel(filename_subinfo, sheet_name='Subject info') \n",
    "\n",
    "    i_sub_last = np.where(df_subinfo['Subject_ID'].isnull()==True)[0][0]\n",
    "    df_subinfo = df_subinfo[:i_sub_last]\n",
    "\n",
    "#     sys.exit()\n",
    "    df_subinfo = df_subinfo[['Subject_ID', 'Age', 'Height(cm)', 'Weight(Kg)', 'Gender(0=Male,1=Female)', 'Fitzpatrick', '6MWT distance (m)', '6MWT-R distance (m)', '(corrected) 6MWT distance (m)', '(corrected) 6MWT-R distance (m)', 'Fitzpatrick']]\n",
    "    df_subinfo = df_subinfo.rename(columns={'Height(cm)': 'Height', 'Weight(Kg)': 'Weight', 'Gender(0=Male,1=Female)': 'Gender'})\n",
    "    df_subinfo['BMI'] = df_subinfo['Weight'].values / (df_subinfo['Height'].values/100)**2\n",
    "    df_subinfo['Subject_ID'] = df_subinfo['Subject_ID'].astype(int)\n",
    "    "
   ]
  },
  {
   "cell_type": "code",
   "execution_count": null,
   "metadata": {},
   "outputs": [],
   "source": []
  },
  {
   "cell_type": "code",
   "execution_count": null,
   "metadata": {},
   "outputs": [],
   "source": [
    "inputdir"
   ]
  },
  {
   "cell_type": "code",
   "execution_count": null,
   "metadata": {},
   "outputs": [],
   "source": [
    "# variant"
   ]
  },
  {
   "cell_type": "markdown",
   "metadata": {},
   "source": [
    "# get val data"
   ]
  },
  {
   "cell_type": "code",
   "execution_count": null,
   "metadata": {},
   "outputs": [],
   "source": [
    "df_outputlabel_ALL = pd.DataFrame()\n",
    "   \n",
    "for modality in list_modalitites:\n",
    "        \n",
    "    for TF_type in list_TF_types:\n",
    "        \n",
    "        for variant in list_variants:\n",
    "            \n",
    "            if variant=='ST':\n",
    "                continue\n",
    "            if variant=='estimates_average':\n",
    "                continue\n",
    "\n",
    "\n",
    "    #         csv_dir = inputdir + sub_file + '/win60_overlap95_seq20_norm/numeric_results/df_outputlabel_val_RR_cosmed.csv'\n",
    "            csv_dir = inputdir + domain_name + '/' +  modality + '/{}/{}/numeric_results/df_outputlabel_val_RR_cosmed.csv'.format(variant, TF_type)\n",
    "            print(\"last modified: %s\" % time.ctime(os.path.getmtime(csv_dir)))\n",
    "\n",
    "            try:\n",
    "                df_outputlabel_val_RR_cosmed = pd.read_csv(csv_dir)  \n",
    "            except:\n",
    "                print(modality, 'directory does not exist')\n",
    "                continue\n",
    "    #         df_outputlabel_val_RR_cosmed = pd.read_csv(csv_dir)  \n",
    "            df_outputlabel_val_RR_cosmed['RQI_ideal'] = -np.abs(df_outputlabel_val_RR_cosmed['label_est'] - df_outputlabel_val_RR_cosmed['label'])\n",
    "\n",
    "#     #         csv_dir = inputdir + sub_file + '/win60_overlap95_seq20_norm/numeric_results/df_outputlabel_val_input_RR_cosmed.csv'\n",
    "#             csv_dir = inputdir + domain_name + '/' + modality + '/{}/{}/numeric_results/df_outputlabel_val_input_RR_cosmed.csv'.format(variant, TF_type)\n",
    "\n",
    "#             try:\n",
    "#                 df_outputlabel_val_input_RR_cosmed = pd.read_csv(csv_dir)  \n",
    "#             except:\n",
    "#                 print(modalitity, 'directory does not exist')\n",
    "#                 continue\n",
    "\n",
    "#             df_outputlabel_val_input_RR_cosmed['RQI_ideal'] = -np.abs(df_outputlabel_val_input_RR_cosmed['label_est'] - df_outputlabel_val_input_RR_cosmed['label'])\n",
    "\n",
    "            \n",
    "            \n",
    "            \n",
    "#             df_outputlabel_val_input_RR_cosmed['modality'] = modality\n",
    "#             df_outputlabel_val_input_RR_cosmed['est_method'] = 'ST'\n",
    "#             df_outputlabel_val_input_RR_cosmed['TF_type'] = TF_type\n",
    "#             df_outputlabel_val_input_RR_cosmed['variant'] = variant\n",
    "#             df_outputlabel_val_RR_cosmed['est_method'] = 'U-Net'\n",
    "\n",
    "\n",
    "            df_outputlabel_val_RR_cosmed['modality'] = modality\n",
    "            \n",
    "            df_outputlabel_val_RR_cosmed['est_method'] = variant\n",
    "\n",
    "#             if variant=='SE_block':\n",
    "#             if 'block' in variant:\n",
    "#                 df_outputlabel_val_RR_cosmed['est_method'] = 'U-Net-' + variant\n",
    "#             else:\n",
    "#                 df_outputlabel_val_RR_cosmed['est_method'] = 'U-Net'\n",
    "#             df_outputlabel_val_RR_cosmed['est_method'] = 'U-Net'\n",
    "            df_outputlabel_val_RR_cosmed['TF_type'] = TF_type\n",
    "\n",
    "#             df_outputlabel_ALL = df_outputlabel_ALL.append(df_outputlabel_val_input_RR_cosmed)\n",
    "            df_outputlabel_ALL = df_outputlabel_ALL.append(df_outputlabel_val_RR_cosmed)\n",
    "            \n",
    "            print('data for **{} {} {}** loaded'.format(modality, TF_type, variant))\n"
   ]
  },
  {
   "cell_type": "markdown",
   "metadata": {},
   "source": [
    "# get ST estimates"
   ]
  },
  {
   "cell_type": "code",
   "execution_count": null,
   "metadata": {},
   "outputs": [],
   "source": [
    "# 'ST' in list_variants"
   ]
  },
  {
   "cell_type": "code",
   "execution_count": null,
   "metadata": {},
   "outputs": [],
   "source": [
    "if 'ST' in list_variants:\n",
    "    variant = 'baseline'\n",
    "    \n",
    "    csv_dir = inputdir + domain_name + '/' +  modality + '/{}/{}/numeric_results/df_outputlabel_val_input_RR_cosmed.csv'.format(variant, TF_type)\n",
    "    print(\"last modified: %s\" % time.ctime(os.path.getmtime(csv_dir)))\n",
    "\n",
    "    try:\n",
    "        df_outputlabel_val = pd.read_csv(csv_dir)  \n",
    "    except:\n",
    "        print(modality, 'directory does not exist')\n",
    "\n",
    "    df_outputlabel_val['RQI_ideal'] = -np.abs(df_outputlabel_val['label_est'] - df_outputlabel_val['label'])\n",
    "\n",
    "    df_outputlabel_val['modality'] = modality\n",
    "\n",
    "    variant = 'ST'\n",
    "    df_outputlabel_val['est_method'] = variant\n",
    "\n",
    "    df_outputlabel_val['TF_type'] = TF_type\n",
    "\n",
    "    df_outputlabel_ALL = df_outputlabel_ALL.append(df_outputlabel_val)\n",
    "\n",
    "    print('data for **{} {} {}** loaded'.format(modality, TF_type, variant))\n"
   ]
  },
  {
   "cell_type": "code",
   "execution_count": null,
   "metadata": {},
   "outputs": [],
   "source": []
  },
  {
   "cell_type": "markdown",
   "metadata": {},
   "source": [
    "# get RR estimates average (baseline single modality + U-Net, then average their estimates)"
   ]
  },
  {
   "cell_type": "code",
   "execution_count": null,
   "metadata": {},
   "outputs": [],
   "source": [
    "if 'estimates_average' in list_variants:\n",
    "    if len(modality.split('+'))==2:\n",
    "\n",
    "\n",
    "#         variant = 'baseline'\n",
    "        variant = 'AT_block'\n",
    "\n",
    "        mod0 = modality.split('+')[0]\n",
    "\n",
    "        csv_dir = inputdir + domain_name + '/' +  mod0 + '/{}/{}/numeric_results/df_outputlabel_val_RR_cosmed.csv'.format(variant, TF_type)\n",
    "        print(\"last modified: %s\" % time.ctime(os.path.getmtime(csv_dir)))\n",
    "\n",
    "        try:\n",
    "            df_outputlabel_val0 = pd.read_csv(csv_dir)  \n",
    "        except:\n",
    "            print(mod0, 'directory does not exist')\n",
    "\n",
    "        df_outputlabel_val0['modality'] = mod0\n",
    "\n",
    "\n",
    "        mod1 = modality.split('+')[1]\n",
    "        csv_dir = inputdir + domain_name + '/' +  mod1 + '/{}/{}/numeric_results/df_outputlabel_val_RR_cosmed.csv'.format(variant, TF_type)\n",
    "        print(\"last modified: %s\" % time.ctime(os.path.getmtime(csv_dir)))\n",
    "\n",
    "        try:\n",
    "            df_outputlabel_val1 = pd.read_csv(csv_dir)  \n",
    "        except:\n",
    "            print(mod1, 'directory does not exist')\n",
    "        df_outputlabel_val1['modality'] = mod1\n",
    "\n",
    "\n",
    "        MAE_mean, MAE_std = get_MAE(df_outputlabel_val0['label_est'].values,df_outputlabel_val0['label'].values)\n",
    "        # MAE_mean\n",
    "        MAE_mean, MAE_std = get_MAE(df_outputlabel_val1['label_est'].values,df_outputlabel_val1['label'].values)\n",
    "        # MAE_mean\n",
    "        MAE_mean, MAE_std = get_MAE( (df_outputlabel_val0['label_est'].values + df_outputlabel_val1['label_est'].values)/2, df_outputlabel_val1['label'].values)\n",
    "        # MAE_mean\n",
    "\n",
    "        df_est_avg = df_outputlabel_val0.copy()\n",
    "        df_est_avg['label_est'] = (df_outputlabel_val0['label_est'].values + df_outputlabel_val1['label_est'].values) / 2\n",
    "        df_est_avg['RQI_ideal'] = -np.abs(df_est_avg['label_est'] - df_est_avg['label'])\n",
    "\n",
    "        df_est_avg['RQI_fft'] = (df_outputlabel_val0['RQI_fft'].values + df_outputlabel_val1['RQI_fft'].values) / 2\n",
    "        df_est_avg['RQI_kurtosis'] = (df_outputlabel_val0['RQI_kurtosis'].values + df_outputlabel_val1['RQI_kurtosis'].values) / 2\n",
    "        df_est_avg['modality'] = modality\n",
    "\n",
    "        est_method = 'estimates_average'\n",
    "        df_est_avg['est_method'] = 'estimates_average'\n",
    "        df_est_avg['TF_type'] = TF_type\n",
    "        df_outputlabel_ALL = df_outputlabel_ALL.append(df_est_avg)\n",
    "\n",
    "        print('data for **{} {} {}** loaded'.format(modality, TF_type, est_method))\n",
    "        # df_est_avg['RQI_fft'] = (df_outputlabel_val0['RQI_fft'].values + df_outputlabel_val1['RQI_fft'].values) / 2\n",
    "        # \n",
    "        # ['RQI_fft']"
   ]
  },
  {
   "cell_type": "code",
   "execution_count": null,
   "metadata": {},
   "outputs": [],
   "source": []
  },
  {
   "cell_type": "code",
   "execution_count": null,
   "metadata": {},
   "outputs": [],
   "source": [
    "# modality"
   ]
  },
  {
   "cell_type": "code",
   "execution_count": null,
   "metadata": {},
   "outputs": [],
   "source": []
  },
  {
   "cell_type": "code",
   "execution_count": null,
   "metadata": {},
   "outputs": [],
   "source": [
    "# df_outputlabel_val0"
   ]
  },
  {
   "cell_type": "code",
   "execution_count": null,
   "metadata": {},
   "outputs": [],
   "source": [
    "# variant = 'AT_block'\n",
    "\n",
    "# for mod in modality.split('+'):\n",
    "\n",
    "#     csv_dir = inputdir + domain_name + '/' +  mod + '/{}/{}/numeric_results/df_outputlabel_val_RR_cosmed.csv'.format(variant, TF_type)\n",
    "#     try:\n",
    "#         df_outputlabel_val = pd.read_csv(csv_dir)  \n",
    "#     except:\n",
    "#         print(modality, 'directory does not exist')\n",
    "\n",
    "\n",
    "#     df_outputlabel_val['modality'] = mod\n",
    "\n",
    "# #     variant = 'ST'\n",
    "#     df_outputlabel_val['est_method'] = variant\n",
    "\n",
    "#     df_outputlabel_val['TF_type'] = TF_type\n",
    "\n",
    "# #     df_outputlabel_ALL = df_outputlabel_ALL.append(df_outputlabel_val_RR_cosmed)\n",
    "\n",
    "#     print('data for **{} {} {}** loaded'.format(modality, TF_type, variant))\n"
   ]
  },
  {
   "cell_type": "code",
   "execution_count": null,
   "metadata": {},
   "outputs": [],
   "source": []
  },
  {
   "cell_type": "code",
   "execution_count": null,
   "metadata": {},
   "outputs": [],
   "source": []
  },
  {
   "cell_type": "code",
   "execution_count": null,
   "metadata": {},
   "outputs": [],
   "source": [
    "# df_outputlabel_val_RR_cosmed"
   ]
  },
  {
   "cell_type": "markdown",
   "metadata": {},
   "source": [
    "# get meta data"
   ]
  },
  {
   "cell_type": "code",
   "execution_count": null,
   "metadata": {},
   "outputs": [],
   "source": [
    "list_CV = df_outputlabel_ALL['CV'].unique()\n",
    "\n",
    "df_subinfo_4paper = pd.DataFrame()\n",
    "\n",
    "for Subject_ID in df_subinfo['Subject_ID'].unique():\n",
    "    if Subject_ID in list_CV:\n",
    "        df_subinfo_4paper = df_subinfo_4paper.append(df_subinfo[df_subinfo['Subject_ID']==Subject_ID])\n",
    "\n",
    "df_subinfo_4paper = df_subinfo_4paper.reset_index(drop=True)"
   ]
  },
  {
   "cell_type": "code",
   "execution_count": null,
   "metadata": {},
   "outputs": [],
   "source": [
    "# df_subinfo_4paper.describe()\n",
    "(df_subinfo_4paper['Gender']==1).sum()\n",
    "# df_subinfo\n",
    "# df_subinfo[df_subinfo['Subject_ID']==Subject_ID]"
   ]
  },
  {
   "cell_type": "code",
   "execution_count": null,
   "metadata": {},
   "outputs": [],
   "source": [
    "(df_subinfo_4paper['Gender']==2).sum()\n"
   ]
  },
  {
   "cell_type": "code",
   "execution_count": null,
   "metadata": {},
   "outputs": [],
   "source": [
    "df_outputlabel_ALL['activity'].unique()"
   ]
  },
  {
   "cell_type": "code",
   "execution_count": null,
   "metadata": {},
   "outputs": [],
   "source": [
    "df_outputlabel_ALL['CV'].unique()"
   ]
  },
  {
   "cell_type": "markdown",
   "metadata": {},
   "source": [
    "# select only the activities I am interested in"
   ]
  },
  {
   "cell_type": "code",
   "execution_count": null,
   "metadata": {},
   "outputs": [],
   "source": [
    "mask_task = np.in1d(df_outputlabel_ALL['activity'].values, np.asarray(task_ids))\n",
    "df_outputlabel_ALL = df_outputlabel_ALL[mask_task]\n",
    "df_outputlabel_ALL['activity'].unique()\n"
   ]
  },
  {
   "cell_type": "code",
   "execution_count": null,
   "metadata": {},
   "outputs": [],
   "source": [
    "# df_outputlabel_ALL = df_outputlabel_ALL[df_outputlabel_ALL['est_method']=='Attention_UNet']"
   ]
  },
  {
   "cell_type": "code",
   "execution_count": null,
   "metadata": {},
   "outputs": [],
   "source": [
    "df_outputlabel_ALL"
   ]
  },
  {
   "cell_type": "code",
   "execution_count": null,
   "metadata": {},
   "outputs": [],
   "source": [
    "# mask_set = ~np.isin(df_outputlabel_ALL['activity'].values, reject_act)\n",
    "# df_outputlabel_ALL = df_outputlabel_ALL[mask_set]\n",
    "# df_outputlabel_ALL['activity'].unique()"
   ]
  },
  {
   "cell_type": "code",
   "execution_count": null,
   "metadata": {},
   "outputs": [],
   "source": []
  },
  {
   "cell_type": "code",
   "execution_count": null,
   "metadata": {},
   "outputs": [],
   "source": []
  },
  {
   "cell_type": "code",
   "execution_count": null,
   "metadata": {},
   "outputs": [],
   "source": [
    "# df_outputlabel_ALL"
   ]
  },
  {
   "cell_type": "code",
   "execution_count": null,
   "metadata": {},
   "outputs": [],
   "source": []
  },
  {
   "cell_type": "code",
   "execution_count": null,
   "metadata": {},
   "outputs": [],
   "source": []
  },
  {
   "cell_type": "code",
   "execution_count": null,
   "metadata": {},
   "outputs": [],
   "source": [
    "# def get_best_estimates(matrix_modality):\n",
    "\n",
    "#     df_matrix = []\n",
    "#     for i, key in enumerate(matrix_modality):\n",
    "#         df_matrix.append(matrix_modality[key].values)\n",
    "\n",
    "#     df_matrix = np.stack(df_matrix).transpose(1,0,2) # number of samples x number of modalities x number of columns\n",
    "# #     print(df_matrix.shape)\n",
    "\n",
    "#     i_RQI = list(df_outputlabel.columns).index('RQI_kurtosis')\n",
    "# #     i_RQI = list(df_outputlabel.columns).index('RQI_fft')\n",
    "#     i_best_modalities = np.argmax(df_matrix[:,:,i_RQI], axis=1)\n",
    "# #     print(i_best_modalities)\n",
    "#     df_matrix = df_matrix[np.arange(i_best_modalities.shape[0]), i_best_modalities, :]\n",
    "\n",
    "#     df_matrix = pd.DataFrame(df_matrix, columns=list(df_outputlabel.columns))\n",
    "# #     print(df_matrix)\n",
    "# #     df_matrix['RQI_fft'] = -1\n",
    "# #     df_matrix['RQI_ideal'] = -np.abs(df_matrix['label_est'] - df_matrix['label'])\n",
    "# #     df_matrix['modality'] = 'select_' + df_matrix['modality'].astype(str)\n",
    "#     df_matrix['modality'] = 'selected'\n",
    "# #     print(df_matrix)\n",
    "\n",
    "#     return df_matrix"
   ]
  },
  {
   "cell_type": "code",
   "execution_count": null,
   "metadata": {},
   "outputs": [],
   "source": []
  },
  {
   "cell_type": "markdown",
   "metadata": {},
   "source": [
    "# add an additional moadility: ``selected``\n",
    "# this may be better than using all (not true)"
   ]
  },
  {
   "cell_type": "code",
   "execution_count": null,
   "metadata": {},
   "outputs": [],
   "source": [
    "# df_outputlabel_ALL['est_method'].unique()"
   ]
  },
  {
   "cell_type": "code",
   "execution_count": null,
   "metadata": {},
   "outputs": [],
   "source": [
    "\n",
    "# if 'U-Net-AT_block' not in df_outputlabel_ALL['est_method'].unique():\n",
    "    \n",
    "#     if 'U-Net-SE_block' not in df_outputlabel_ALL['est_method'].unique():\n",
    "\n",
    "#         df_outputlabel_selected = []\n",
    "\n",
    "#         matrix_modality = {}\n",
    "#         for modality in df_outputlabel_ALL['modality'].unique():\n",
    "#         #     for modality in ['ECG', 'PPG', 'SCG']:\n",
    "#         #         for TF_type in df_outputlabel_ALL_train['TF_type'].unique():\n",
    "#         #     df_outputlabel = df_outputlabel_ALL[(df_outputlabel_ALL['modality']==modality) & (df_outputlabel_ALL['est_method']==est_method) & (df_outputlabel_ALL['TF_type']==TF_type) & (df_outputlabel_ALL['CV']==subject_id)]\n",
    "#             df_outputlabel = df_outputlabel_ALL[(df_outputlabel_ALL['modality']==modality)]\n",
    "#         #     print(df_outputlabel.shape)\n",
    "#             matrix_modality[modality] = df_outputlabel\n",
    "#         df_matrix = get_best_estimates(matrix_modality)\n",
    "#         # sys.exit()\n",
    "#         df_outputlabel_selected.append(df_matrix)\n",
    "#         df_outputlabel_selected = pd.concat(df_outputlabel_selected)\n"
   ]
  },
  {
   "cell_type": "code",
   "execution_count": null,
   "metadata": {},
   "outputs": [],
   "source": [
    "# include_selected = False\n",
    "# if include_selected:\n",
    "#     df_outputlabel_ALL_selected = pd.concat([df_outputlabel_ALL, df_outputlabel_selected])\n",
    "#     print(df_outputlabel_selected.shape, df_outputlabel_ALL.shape, df_outputlabel_ALL_selected.shape)\n",
    "# else:\n",
    "#     df_outputlabel_ALL_selected = df_outputlabel_ALL\n",
    "#     print(df_outputlabel_ALL.shape, df_outputlabel_ALL_selected.shape)\n",
    "\n"
   ]
  },
  {
   "cell_type": "code",
   "execution_count": null,
   "metadata": {},
   "outputs": [],
   "source": [
    "# df_outputlabel_ALL_selected['CV'].unique().shape"
   ]
  },
  {
   "cell_type": "code",
   "execution_count": null,
   "metadata": {},
   "outputs": [],
   "source": [
    "# df_outputlabel_ALL_selected['est_method'].unique()"
   ]
  },
  {
   "cell_type": "code",
   "execution_count": null,
   "metadata": {},
   "outputs": [],
   "source": [
    "df_outputlabel_ALL['est_method'].unique(), list_method"
   ]
  },
  {
   "cell_type": "code",
   "execution_count": null,
   "metadata": {},
   "outputs": [],
   "source": []
  },
  {
   "cell_type": "code",
   "execution_count": null,
   "metadata": {},
   "outputs": [],
   "source": [
    "df_outputlabel_ALL['modality'].unique()"
   ]
  },
  {
   "cell_type": "code",
   "execution_count": null,
   "metadata": {},
   "outputs": [],
   "source": [
    "df_outputlabel_ALL['CV'].unique()"
   ]
  },
  {
   "cell_type": "code",
   "execution_count": null,
   "metadata": {},
   "outputs": [],
   "source": [
    "# aggregate estimated to get performance for each modality, TF_type, est_method, subject_id"
   ]
  },
  {
   "cell_type": "code",
   "execution_count": null,
   "metadata": {},
   "outputs": [],
   "source": [
    "def get_df_performance_agg(df_outputlabel_ALL):\n",
    "    # agg information across modality (ECG, SCG, ...), TF_type (pretrain, source, target), subject_id\n",
    "    \n",
    "    df_performance_agg = pd.DataFrame()\n",
    "\n",
    "    for modality in df_outputlabel_ALL['modality'].unique():\n",
    "        for TF_type in df_outputlabel_ALL['TF_type'].unique():\n",
    "            for est_method in df_outputlabel_ALL['est_method'].unique():\n",
    "\n",
    "#             for est_method in list_method:\n",
    "                \n",
    "#                 for task_id in df_outputlabel_ALL['activity'].unique():\n",
    "        \n",
    "                task_id = 0\n",
    "        \n",
    "                for subject_id in df_outputlabel_ALL['CV'].unique():\n",
    "\n",
    "                    # this condition is for est_method=ST or est_method=U-Net\n",
    "                    if 'RQI' not in est_method:\n",
    "#                         mask_df = (df_outputlabel_ALL['modality']==modality) & (df_outputlabel_ALL['est_method']==est_method) & (df_outputlabel_ALL['TF_type']==TF_type) & (df_outputlabel_ALL['activity']==task_id) & (df_outputlabel_ALL['CV']==subject_id)\n",
    "                        mask_df = (df_outputlabel_ALL['modality']==modality) & (df_outputlabel_ALL['est_method']==est_method) & (df_outputlabel_ALL['TF_type']==TF_type) & (df_outputlabel_ALL['CV']==subject_id)\n",
    "                        if mask_df.sum()==0:\n",
    "#                                 print('mask_df is empty')\n",
    "#                                 print(modality, TF_type, est_method, task_id, subject_id, coverage)\n",
    "                            continue\n",
    "                        df_outputlabel = df_outputlabel_ALL[mask_df]\n",
    "            #             MAE_mean, MAE_std = get_MAE(df_outputlabel['label'], df_outputlabel['label_est'])\n",
    "                        coverage = 100\n",
    "\n",
    "\n",
    "                    # consider RQI, reject samples accordingly\n",
    "                    else:\n",
    "#                         mask_df = (df_outputlabel_ALL['modality']==modality) & (df_outputlabel_ALL['est_method']==est_method.split(' ')[0]) & (df_outputlabel_ALL['TF_type']==TF_type) & (df_outputlabel_ALL['activity']==task_id) & (df_outputlabel_ALL['CV']==subject_id)\n",
    "                        mask_df = (df_outputlabel_ALL['modality']==modality) & (df_outputlabel_ALL['est_method']==est_method.split(' ')[0]) & (df_outputlabel_ALL['TF_type']==TF_type) & (df_outputlabel_ALL['CV']==subject_id)\n",
    "                        if mask_df.sum()==0:\n",
    "#                                 print('mask_df is empty')\n",
    "#                                 print(modality, TF_type, est_method, task_id, subject_id, coverage)\n",
    "                            continue\n",
    "                        df_outputlabel = df_outputlabel_ALL[mask_df]\n",
    "        #                 sys.exit()\n",
    "\n",
    "                        mask_RQI = (df_RQI_threshold['modality']==modality) & (df_RQI_threshold['TF_type']==TF_type)\n",
    "\n",
    "                        # df_RQI_threshold may not contain modality ``selected``, skip it\n",
    "                        if mask_RQI.sum()==0:\n",
    "                            continue\n",
    "                        df_outputlabel= df_outputlabel.merge(df_RQI_threshold[mask_RQI], on=['CV'])\n",
    "        #                 df_outputlabel= df_outputlabel.merge(df_RQI_threshold, on=['CV'])\n",
    "\n",
    "\n",
    "                        RQI_name = est_method.split(' ')[1]\n",
    "                        RQI_mask = df_outputlabel[RQI_name] > df_outputlabel[RQI_name+'_threshold']\n",
    "        #                 sys.exit()\n",
    "                        df_outputlabel = df_outputlabel[RQI_mask]\n",
    "                        coverage = RQI_mask.mean()*100\n",
    "\n",
    "#                             if coverage==0:\n",
    "#                                 print(modality, TF_type, est_method, task_id, subject_id, coverage)\n",
    "\n",
    "                    if coverage==0:\n",
    "                        \n",
    "                        print('{}: coverage=0'.format(subject_id))\n",
    "                        continue\n",
    "\n",
    "\n",
    "#                         if df_outputlabel.shape[0]==0:\n",
    "#                             print( mask_df.sum() )\n",
    "#                             print(modality, TF_type, est_method, task_id, subject_id, coverage)\n",
    "#                             print(RQI_mask.sum())\n",
    "#                             print(df_outputlabel)\n",
    "#                             print( get_RMSE(df_outputlabel['label'], df_outputlabel['label_est']))\n",
    "\n",
    "\n",
    "                    MAE_mean, MAE_std = get_MAE(df_outputlabel['label'], df_outputlabel['label_est'])\n",
    "#                     PCC = get_PCC(df_outputlabel['label'], df_outputlabel['label_est'])\n",
    "#                     CoeffDeterm = get_CoeffDeterm(df_outputlabel['label'], df_outputlabel['label_est'])\n",
    "                    MAPE, _ = get_MAPE(df_outputlabel['label'], df_outputlabel['label_est'])\n",
    "                    RMSE = get_RMSE(df_outputlabel['label'], df_outputlabel['label_est'])\n",
    "\n",
    "                    one_dict = {\n",
    "                        'MAE_mean': MAE_mean,\n",
    "                        'MAE_std': MAE_std,\n",
    "#                         'PCC': PCC,\n",
    "#                         'CoeffDeterm': CoeffDeterm,\n",
    "                        'MAPE': MAPE*100,\n",
    "                        'RMSE': RMSE,\n",
    "                        'method': est_method,\n",
    "                        'modality': modality,\n",
    "                        'TF_type': TF_type,\n",
    "                        'coverage': coverage,\n",
    "                        'task': tasks_dict_reversed[task_id],\n",
    "                        'subject_id': subject_id\n",
    "                    }\n",
    "\n",
    "                    df_performance_agg = df_performance_agg.append(one_dict, ignore_index=True)\n",
    "\n",
    "    return df_performance_agg"
   ]
  },
  {
   "cell_type": "code",
   "execution_count": null,
   "metadata": {},
   "outputs": [],
   "source": [
    "# get_RMSE"
   ]
  },
  {
   "cell_type": "code",
   "execution_count": null,
   "metadata": {},
   "outputs": [],
   "source": []
  },
  {
   "cell_type": "code",
   "execution_count": null,
   "metadata": {},
   "outputs": [],
   "source": [
    "df_outputlabel_ALL['activity'].unique()"
   ]
  },
  {
   "cell_type": "code",
   "execution_count": null,
   "metadata": {},
   "outputs": [],
   "source": [
    "df_performance_agg_joint = get_df_performance_agg(df_outputlabel_ALL)"
   ]
  },
  {
   "cell_type": "code",
   "execution_count": null,
   "metadata": {},
   "outputs": [],
   "source": [
    "# df_performance_agg_joint"
   ]
  },
  {
   "cell_type": "code",
   "execution_count": null,
   "metadata": {},
   "outputs": [],
   "source": [
    "list_variants, df_performance_agg_joint['method'].unique()"
   ]
  },
  {
   "cell_type": "code",
   "execution_count": null,
   "metadata": {},
   "outputs": [],
   "source": [
    "plt_scale = 1.5\n",
    "\n",
    "fig, ax = plt.subplots(1,1, figsize=(5*plt_scale,5),dpi=250)\n",
    "fontsize=7\n",
    "\n",
    "#     sns.violinplot(x=\"modality\", y=metric_name, hue=\"TF_type\", data=df, ax=ax, palette=TF_color_dict)\n",
    "sns.boxplot(x='method', y='MAE_mean', hue=None, data=df_performance_agg_joint, ax=ax, palette=None, hue_order=None,\n",
    "            showmeans=True,\n",
    "            meanprops={\"marker\":\"o\",\n",
    "                       \"markerfacecolor\":\"white\", \n",
    "                       \"markeredgecolor\":\"black\",\n",
    "                      \"markersize\":\"5\"},\n",
    "         order = list_variants\n",
    "           )\n",
    "ax.tick_params(labelsize=fontsize)\n"
   ]
  },
  {
   "cell_type": "code",
   "execution_count": null,
   "metadata": {},
   "outputs": [],
   "source": [
    "variable_name = 'method'\n",
    "df_table_agg = df_performance_agg_joint[['MAE_mean', variable_name]].copy()\n",
    "df_table_agg = df_table_agg.groupby(variable_name)[\"MAE_mean\"].agg([np.mean, np.std]).T\n",
    "df_table_agg = df_table_agg[['ST', 'estimates_average', 'baseline', 'Late_UNet', 'Attention_UNet', 'AT_block']]\n",
    "df_table_agg"
   ]
  },
  {
   "cell_type": "code",
   "execution_count": null,
   "metadata": {},
   "outputs": [],
   "source": [
    "# variable_name = 'method'\n",
    "# df_table_agg = df_performance_agg_joint[['RMSE', variable_name]].copy()\n",
    "# df_table_agg = df_table_agg.groupby(variable_name)[\"RMSE\"].agg([np.mean, np.std]).T\n",
    "# df_table_agg = df_table_agg[['ST', 'estimates_average', 'baseline', 'Late_UNet', 'Attention_UNet', 'AT_block']]\n",
    "# df_table_agg"
   ]
  },
  {
   "cell_type": "code",
   "execution_count": null,
   "metadata": {},
   "outputs": [],
   "source": [
    "act_type"
   ]
  },
  {
   "cell_type": "code",
   "execution_count": null,
   "metadata": {},
   "outputs": [],
   "source": []
  },
  {
   "cell_type": "code",
   "execution_count": null,
   "metadata": {},
   "outputs": [],
   "source": [
    "sys.exit()"
   ]
  },
  {
   "cell_type": "code",
   "execution_count": null,
   "metadata": {},
   "outputs": [],
   "source": [
    "act_type"
   ]
  },
  {
   "cell_type": "code",
   "execution_count": null,
   "metadata": {},
   "outputs": [],
   "source": [
    "# df_performance_agg_joint\n"
   ]
  },
  {
   "cell_type": "code",
   "execution_count": null,
   "metadata": {},
   "outputs": [],
   "source": []
  },
  {
   "cell_type": "code",
   "execution_count": null,
   "metadata": {},
   "outputs": [],
   "source": []
  },
  {
   "cell_type": "code",
   "execution_count": null,
   "metadata": {},
   "outputs": [],
   "source": [
    "# modality = 'ECG'\n",
    "# est_method = 'U-Net'\n",
    "# TF_type = 'target'\n",
    "# # task_id = 0\n",
    "# subject_id = 106\n",
    "\n",
    "# mask_df = (df_outputlabel_ALL['modality']==modality) & (df_outputlabel_ALL['est_method']==est_method) & (df_outputlabel_ALL['TF_type']==TF_type) & (df_outputlabel_ALL['CV']==subject_id)\n",
    "# plt.scatter(df_outputlabel_ALL[mask_df]['label'].values, df_outputlabel_ALL[mask_df]['label_est'].values)"
   ]
  },
  {
   "cell_type": "code",
   "execution_count": null,
   "metadata": {},
   "outputs": [],
   "source": [
    "# df_outputlabel_ALL['CV'].unique()\n"
   ]
  },
  {
   "cell_type": "code",
   "execution_count": null,
   "metadata": {},
   "outputs": [],
   "source": [
    "# df_performance_agg_joint['method'].unique()"
   ]
  },
  {
   "cell_type": "code",
   "execution_count": null,
   "metadata": {},
   "outputs": [],
   "source": []
  },
  {
   "cell_type": "code",
   "execution_count": null,
   "metadata": {},
   "outputs": [],
   "source": []
  },
  {
   "cell_type": "code",
   "execution_count": null,
   "metadata": {},
   "outputs": [],
   "source": []
  },
  {
   "cell_type": "code",
   "execution_count": null,
   "metadata": {},
   "outputs": [],
   "source": [
    "hue_color_dict = {\n",
    "    'ST': '#F5F4E0',\n",
    "    'ST RQI_fft': '#928462',\n",
    "\n",
    "    'source': '#D8D7C5',\n",
    "    'target': '#B8B7A9',\n",
    "\n",
    "    \n",
    "    \n",
    "    'U-Net': '#B8B7A9',\n",
    "    'U-Net RQI_fft': '#6A7E7B',\n",
    "    \n",
    "    'U-Net source': '#D8D7C5',\n",
    "    'U-Net target': '#B8B7A9',\n",
    "    \n",
    "\n",
    "\n",
    "    'U-Net-AT_block':'#F696A6' ,\n",
    "    'U-Net-AT_block RQI_fft':'#C4580C' ,\n",
    "    \n",
    "    'U-Net-AT_block source': '#E2C3BC',\n",
    "    'U-Net-AT_block target': '#F696A6',\n",
    "\n",
    "#     'source': '#F5F4E0',\n",
    "#     'target': '#D8D7C5',\n",
    "#     'pretrain': '#B8B7A9',\n",
    "}\n"
   ]
  },
  {
   "cell_type": "code",
   "execution_count": null,
   "metadata": {},
   "outputs": [],
   "source": []
  },
  {
   "cell_type": "code",
   "execution_count": null,
   "metadata": {},
   "outputs": [],
   "source": [
    "def plot_hue_compare(df, plt_scale=1.5,  x_name='modality', y_name='MAE_mean', hue_name='hue_name', metric_name='MAE_mean', ylims=None, order_list=None, hue_order=None, fig_name=None, show_plot=False, outputdir=None, log_wandb=False, verbose=False):\n",
    "#     metric_name = 'MAE_mean'\n",
    "    \n",
    "    if hue_order is None:\n",
    "         hue_order=list(hue_color_dict.keys())\n",
    "\n",
    "    fig, ax = plt.subplots(1,1, figsize=(5*plt_scale,5),dpi=250)\n",
    "    fontsize=7\n",
    "    \n",
    "#     sns.violinplot(x=\"modality\", y=metric_name, hue=\"TF_type\", data=df, ax=ax, palette=TF_color_dict)\n",
    "    sns.boxplot(x=x_name, y=y_name, hue=hue_name, data=df, ax=ax, palette=hue_color_dict, hue_order=hue_order,\n",
    "                showmeans=True,\n",
    "                meanprops={\"marker\":\"o\",\n",
    "                           \"markerfacecolor\":\"white\", \n",
    "                           \"markeredgecolor\":\"black\",\n",
    "                          \"markersize\":\"5\"},\n",
    "             order = order_list\n",
    "               )\n",
    "    ax.tick_params(labelsize=fontsize)\n",
    "\n",
    "\n",
    "#     sns.swarmplot(x=\"modality\", y=metric_name, hue=\"TF_type\", data=df, ax=ax, color='black', hue_order=list(TF_color_dict.keys()), dodge=True, size=3, alpha=0.8)\n",
    "\n",
    "    # get the lowest MAE\n",
    "#     MAE_lowest = []\n",
    "    df_MAEs = []\n",
    "    for hue_name in df['hue_name'].unique():\n",
    "        for modality in df['modality'].unique():\n",
    "            mean_MAE = df[(df['modality']==modality) & (df['hue_name']==hue_name)][metric_name].mean() \n",
    "            if math.isnan(mean_MAE):\n",
    "                continue\n",
    "            mae_dict ={\n",
    "                'hue_name': hue_name,\n",
    "                'modality': modality,\n",
    "                'mean_MAE': mean_MAE,\n",
    "            }\n",
    "            \n",
    "            df_MAEs.append( mae_dict )\n",
    "            \n",
    "    df_MAEs = pd.DataFrame(df_MAEs)\n",
    "#     print(df_MAEs)\n",
    "#     print(df[['mean_MAE']].idxmin())\n",
    "#     sys.exit()\n",
    "    i_min = df_MAEs[['mean_MAE']].idxmin().values[0]\n",
    "\n",
    "    hue_name, modality, MAE_lowest =  df_MAEs.iloc[i_min,:].values\n",
    "#     hue_name, modality, MAE_lowest\n",
    "    \n",
    "#     MAE_lowest = min(MAE_lowest)\n",
    "    \n",
    "    \n",
    "    \n",
    "    # xmin and xmax \n",
    "    xmin = -.8\n",
    "    xmax = df['modality'].unique().shape[0]-1+0.8\n",
    "    ax.hlines(y=MAE_lowest, xmin=xmin, xmax=xmax, linewidth=3, color='#627565', alpha=0.5)\n",
    "\n",
    "    ax.annotate('{:.2f}\\n{}\\n{}'.format(MAE_lowest, hue_name, modality), xy=(1,MAE_lowest), xytext=(6,0), color='black', \n",
    "                xycoords = ax.get_yaxis_transform(), textcoords=\"offset points\",\n",
    "                size=8, va=\"center\")\n",
    "    \n",
    "    ax.set_xlim(xmin,xmax)\n",
    "\n",
    "    ax.yaxis.grid(True, which='major', color='gray',alpha=0.8)\n",
    "    ax.yaxis.grid(True, which='minor', color='gray', alpha=0.2)\n",
    "    ax.minorticks_on()\n",
    "    \n",
    "#     ax.legend(frameon=True, bbox_to_anchor=(1.05,1))\n",
    "#     ax.legend(frameon=True, loc='upper right',  bbox_to_anchor=(2,1), fontsize=fontsize)\n",
    "    ax.get_legend().remove()\n",
    "\n",
    "    \n",
    "    if ylims is not None:\n",
    "        ax.set_ylim(ylims)\n",
    "\n",
    "#     ax.set_ylim(0,MAE_lowest*5)\n",
    "    ax_no_top_right(ax)\n",
    "   \n",
    "    \n",
    "    fig.tight_layout()\n",
    "    print('fig_name is', fig_name)\n",
    "    \n",
    "    if fig_name is None:\n",
    "        fig_name = 'hueXmod'\n",
    "\n",
    "    if log_wandb:\n",
    "        wandb.log({fig_name: wandb.Image(fig)})\n",
    "\n",
    "    if outputdir is not None:\n",
    "        if not os.path.exists(outputdir):\n",
    "            os.makedirs(outputdir)\n",
    "\n",
    "        fig.savefig(outputdir + fig_name + '.png', facecolor=fig.get_facecolor())\n",
    "\n",
    "    if show_plot == False:\n",
    "        plt.close(fig)\n",
    "        pyplot.close(fig)\n",
    "        plt.close('all')\n",
    "\n",
    "    plt.show()\n",
    "    \n",
    "    "
   ]
  },
  {
   "cell_type": "code",
   "execution_count": null,
   "metadata": {},
   "outputs": [],
   "source": [
    "# metric_name = 'MAE_mean'\n",
    "\n",
    "# df_MAEs = []\n",
    "# for hue_name in df['hue_name'].unique():\n",
    "#     for modality in df['modality'].unique():\n",
    "#         mean_MAE = df[(df['modality']==modality) & (df['hue_name']==hue_name)][metric_name].mean() \n",
    "#         if math.isnan(mean_MAE):\n",
    "#             continue\n",
    "#         mae_dict ={\n",
    "#             'hue_name': hue_name,\n",
    "#             'modality': modality,\n",
    "#             'mean_MAE': mean_MAE,\n",
    "#         }\n",
    "\n",
    "#         df_MAEs.append( mae_dict )\n",
    "\n",
    "# df_MAEs = pd.DataFrame(df_MAEs)\n",
    "# df_MAEs"
   ]
  },
  {
   "cell_type": "code",
   "execution_count": null,
   "metadata": {},
   "outputs": [],
   "source": []
  },
  {
   "cell_type": "code",
   "execution_count": null,
   "metadata": {},
   "outputs": [],
   "source": [
    "# method_name = 'U-Net'"
   ]
  },
  {
   "cell_type": "markdown",
   "metadata": {},
   "source": [
    "# check method_name2 = 'U-Net-AT_block' only"
   ]
  },
  {
   "cell_type": "code",
   "execution_count": null,
   "metadata": {},
   "outputs": [],
   "source": [
    "# df_performance_agg_joint"
   ]
  },
  {
   "cell_type": "code",
   "execution_count": null,
   "metadata": {},
   "outputs": [],
   "source": [
    "# df_performance_agg_joint"
   ]
  },
  {
   "cell_type": "code",
   "execution_count": null,
   "metadata": {},
   "outputs": [],
   "source": [
    "method_name1 = 'U-Net'\n",
    "\n",
    "# modaliy_mask = df_performance_agg_joint['modality']=='ECGPPG'\n",
    "# modality_mask = (df_performance_agg_joint['modality']!='SCGPPG') & (df_performance_agg_joint['modality']!='ECGSCG') & (df_performance_agg_joint['modality']!='ECGPPG') & (df_performance_agg_joint['modality']!='All')\n",
    "\n",
    "# mask =(df_performance_agg_joint['method']=='{}'.format(method_name1)) & (df_performance_agg_joint['TF_type']=='target')\n",
    "# df = df_performance_agg_joint[mask].copy()\n",
    "df = df_performance_agg_joint.copy()\n",
    "df['hue_name'] = 'U-Net'\n",
    "\n",
    "\n",
    "\n",
    "\n",
    "# method_name2 = 'U-Net-AT_block'\n",
    "# # method_name2 = 'U-Net'\n",
    "\n",
    "# # df4 = df_performance_agg_joint[(df_performance_agg_joint['method']=='{}'.format(method_name2))&(df_performance_agg_joint['TF_type']=='source')].copy()\n",
    "# # df4['hue_name'] = '{} source'.format(method_name2)\n",
    "# df2 = df_performance_agg_joint[(df_performance_agg_joint['method']=='{}'.format(method_name2))&(df_performance_agg_joint['TF_type']=='target')].copy()\n",
    "\n",
    "\n",
    "# df2['hue_name'] = '{} target'.format(method_name2)\n",
    "\n",
    "\n",
    "# # df3 = df_performance_agg_joint[(df_performance_agg_joint['method']=='U-Net RQI_fft') & (df_performance_agg_joint['TF_type']=='target')].copy()\n",
    "# # df3['TF_type'] = 'U-Net RQI_fft'\n",
    "\n",
    "# df = pd.concat([df1, df2])\n",
    "# df = pd.concat([df1, df2, df3, df4, df5])\n",
    "# plot_hue_compare(df, hue_order=['ST', '{} source'.format(method_name), '{} target'.format(method_name)], fig_name='Fig6Xmod_{}'.format(act_type), show_plot=True, outputdir=outputdir)\n",
    "# hue_order=['ST', '{} source'.format(method_name1), '{} target'.format(method_name1), '{} source'.format(method_name2), '{} target'.format(method_name2)]\n",
    "# hue_order=['{} target'.format(method_name1)]\n",
    "fig_name='Table1_{}_fusion'.format(act_type)\n",
    "plot_hue_compare(df, x_name='method',plt_scale=1.5, hue_order=None, order_list=None, fig_name=fig_name, show_plot=True, outputdir=outputdir)"
   ]
  },
  {
   "cell_type": "code",
   "execution_count": null,
   "metadata": {},
   "outputs": [],
   "source": []
  },
  {
   "cell_type": "code",
   "execution_count": null,
   "metadata": {},
   "outputs": [],
   "source": []
  },
  {
   "cell_type": "code",
   "execution_count": null,
   "metadata": {},
   "outputs": [],
   "source": []
  },
  {
   "cell_type": "code",
   "execution_count": null,
   "metadata": {},
   "outputs": [],
   "source": [
    "df"
   ]
  },
  {
   "cell_type": "code",
   "execution_count": null,
   "metadata": {},
   "outputs": [],
   "source": [
    "aaa = df[df['modality']=='ppg-g-1']['MAE_mean'].values\n",
    "bbb = df[df['modality']=='ppg-g-2']['MAE_mean'].values"
   ]
  },
  {
   "cell_type": "code",
   "execution_count": null,
   "metadata": {},
   "outputs": [],
   "source": [
    "plt.plot(aaa)\n",
    "plt.plot(bbb)\n",
    "plt.show()"
   ]
  },
  {
   "cell_type": "code",
   "execution_count": null,
   "metadata": {},
   "outputs": [],
   "source": []
  },
  {
   "cell_type": "code",
   "execution_count": null,
   "metadata": {},
   "outputs": [],
   "source": [
    "# df"
   ]
  },
  {
   "cell_type": "code",
   "execution_count": null,
   "metadata": {},
   "outputs": [],
   "source": [
    "variable_name = 'modality'\n",
    "df_table_agg = df[['MAE_mean', variable_name, 'subject_id']].copy()\n",
    "df_table_agg = df_table_agg.groupby(variable_name)[\"MAE_mean\"].agg([np.mean, np.std]).T\n",
    "df_table_agg"
   ]
  },
  {
   "cell_type": "code",
   "execution_count": null,
   "metadata": {},
   "outputs": [],
   "source": []
  },
  {
   "cell_type": "code",
   "execution_count": null,
   "metadata": {},
   "outputs": [],
   "source": []
  },
  {
   "cell_type": "code",
   "execution_count": null,
   "metadata": {},
   "outputs": [],
   "source": []
  },
  {
   "cell_type": "code",
   "execution_count": null,
   "metadata": {},
   "outputs": [],
   "source": []
  },
  {
   "cell_type": "code",
   "execution_count": null,
   "metadata": {},
   "outputs": [],
   "source": []
  },
  {
   "cell_type": "code",
   "execution_count": null,
   "metadata": {},
   "outputs": [],
   "source": []
  },
  {
   "cell_type": "code",
   "execution_count": null,
   "metadata": {},
   "outputs": [],
   "source": []
  },
  {
   "cell_type": "code",
   "execution_count": null,
   "metadata": {},
   "outputs": [],
   "source": [
    "sys.exit()"
   ]
  },
  {
   "cell_type": "code",
   "execution_count": null,
   "metadata": {},
   "outputs": [],
   "source": []
  }
 ],
 "metadata": {
  "kernelspec": {
   "display_name": "mienv",
   "language": "python",
   "name": "mienv"
  },
  "language_info": {
   "codemirror_mode": {
    "name": "ipython",
    "version": 3
   },
   "file_extension": ".py",
   "mimetype": "text/x-python",
   "name": "python",
   "nbconvert_exporter": "python",
   "pygments_lexer": "ipython3",
   "version": "3.7.16"
  }
 },
 "nbformat": 4,
 "nbformat_minor": 4
}
