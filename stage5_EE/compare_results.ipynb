{
 "cells": [
  {
   "cell_type": "markdown",
   "metadata": {},
   "source": [
    "# regression ultimate code"
   ]
  },
  {
   "cell_type": "code",
   "execution_count": 1,
   "metadata": {},
   "outputs": [],
   "source": [
    "import numpy as np\n",
    "import argparse\n",
    "\n",
    "import os\n",
    "import math\n",
    "from math import sin\n",
    "\n",
    "import json\n",
    "\n",
    "import pandas as pd\n",
    "from sklearn.linear_model import LinearRegression\n",
    "from sklearn.metrics import mean_squared_error\n",
    "\n",
    "import seaborn as sns\n",
    "\n",
    "import matplotlib\n",
    "import matplotlib.pyplot as plt\n",
    "plt.style.use('seaborn-white')\n",
    "matplotlib.rc( 'savefig', facecolor = 'white' )\n",
    "from matplotlib import pyplot\n",
    "%matplotlib inline\n",
    "\n",
    "import torch\n",
    "from torch.utils.data import Dataset, DataLoader\n",
    "import torch.nn as nn\n",
    "import torch.nn.functional as F\n",
    "import torchvision\n",
    "from torchvision import transforms, datasets, models\n",
    "from torchsummary import summary\n",
    "torch.manual_seed(0)\n",
    "\n",
    "i_seed = 0\n",
    "\n",
    "import sys\n",
    "sys.path.append('../') # add this line so Data and data are visible in this file\n",
    "sys.path.append('../../') # add this line so Data and data are visible in this file\n",
    "sys.path.append('../PatchWand/') # add this line so Data and data are visible in this file\n",
    "\n",
    "# from PatchWand import *\n",
    "from plotting_tools import *\n",
    "from setting import *\n",
    "# from models import *\n",
    "# from models_CNN import *\n",
    "from evaluate import *\n",
    "\n",
    "from stage3_preprocess import *\n",
    "# from training_util import *\n",
    "# from dataset_util import *\n",
    "from dataIO import *\n",
    "from stage4_regression import *\n",
    "\n",
    "from importlib import reload\n",
    "%load_ext autoreload\n",
    "%autoreload 2"
   ]
  },
  {
   "cell_type": "code",
   "execution_count": null,
   "metadata": {},
   "outputs": [],
   "source": []
  },
  {
   "cell_type": "code",
   "execution_count": 2,
   "metadata": {},
   "outputs": [
    {
     "name": "stdout",
     "output_type": "stream",
     "text": [
      "Namespace(input_folder='../../data/stage4_EE/', output_folder='../../data/stage5_EE/', training_params_file='training_params_list.json')\n"
     ]
    }
   ],
   "source": [
    "parser = argparse.ArgumentParser(description='SpO2_estimate')\n",
    "parser.add_argument('--input_folder', metavar='input_folder', help='input_folder',\n",
    "                    default='../')\n",
    "parser.add_argument('--output_folder', metavar='output_folder', help='output_folder',\n",
    "                    default='../')\n",
    "parser.add_argument('--training_params_file', metavar='training_params_file', help='training_params_file',\n",
    "                    default='training_params_list.json')\n",
    "\n",
    "\n",
    "# checklist 3: comment first line, uncomment second line\n",
    "args = parser.parse_args(['--input_folder', '../../data/stage4_EE/', \n",
    "                          '--output_folder', '../../data/stage5_EE/',\n",
    "#                           '--training_params_file', 'training_params_ML.json',\n",
    "#                           '--training_params_file', 'training_params_baseline.json',\n",
    "                         ])\n",
    "# args = parser.parse_args()\n",
    "print(args)"
   ]
  },
  {
   "cell_type": "code",
   "execution_count": null,
   "metadata": {},
   "outputs": [],
   "source": []
  },
  {
   "cell_type": "code",
   "execution_count": 3,
   "metadata": {},
   "outputs": [],
   "source": [
    "inputdir = args.input_folder\n",
    "outputdir = args.output_folder\n",
    "\n",
    "if not os.path.exists(outputdir):\n",
    "    os.makedirs(outputdir)\n",
    "\n",
    "    "
   ]
  },
  {
   "cell_type": "markdown",
   "metadata": {},
   "source": [
    "# get training params and dataloaders"
   ]
  },
  {
   "cell_type": "code",
   "execution_count": 4,
   "metadata": {},
   "outputs": [],
   "source": [
    "i_rep = 0"
   ]
  },
  {
   "cell_type": "code",
   "execution_count": 326,
   "metadata": {},
   "outputs": [],
   "source": [
    "\n",
    "# results_dir_dict = {\n",
    "#     'weight=0': '../../data/stage4/DFR_DL777/ECG+SCG+PPG-auxweight0-fixed-3feat-HR_patch+RR_cosmed/numeric_results/',    \n",
    "#     'weight=1000': '../../data/stage4/DFR_DL777/ECG+SCG+PPG-auxweight1000-fixed-3feat-HR_patch+RR_cosmed/numeric_results/',\n",
    "#     'weight=5000': '../../data/stage4/DFR_DL777/ECG+SCG+PPG-auxweight5000-fixed-3feat-HR_patch+RR_cosmed/numeric_results/',\n",
    "#     'weight=10000': '../../data/stage4/DFR_DL777/ECG+SCG+PPG-auxweight10000-fixed-3feat-HR_patch+RR_cosmed/numeric_results/',\n",
    "#     'weight=5000(awl)': '../../data/stage4/DFR_DL777/ECG+SCG+PPG-auxweight5000-awl-3feat-HR_patch+RR_cosmed/numeric_results/',\n",
    "# }\n",
    "\n",
    "# results_dir_dict = {\n",
    "#     'w=0|HR_patch': '../../data/stage4/DFR_DL888/ECG+SCG+PPG-auxweight0-fixed-3feat-HR_patch/numeric_results/',\n",
    "#     'w=0|RR_cosmed': '../../data/stage4/DFR_DL888/ECG+SCG+PPG-auxweight0-fixed-3feat-RR_cosmed/numeric_results/',\n",
    "\n",
    "#     'w=1000|HR_patch': '../../data/stage4/DFR_DL888/ECG+SCG+PPG-auxweight1000-fixed-3feat-HR_patch/numeric_results/',\n",
    "#     'w=1000|RR_cosmed': '../../data/stage4/DFR_DL888/ECG+SCG+PPG-auxweight1000-fixed-3feat-RR_cosmed/numeric_results/',\n",
    "\n",
    "#     'w=5000|HR_patch': '../../data/stage4/DFR_DL888/ECG+SCG+PPG-auxweight5000-fixed-3feat-HR_patch/numeric_results/',\n",
    "#     'w=5000|RR_cosmed': '../../data/stage4/DFR_DL888/ECG+SCG+PPG-auxweight5000-fixed-3feat-RR_cosmed/numeric_results/',\n",
    "\n",
    "#     'w=10000|HR_patch': '../../data/stage4/DFR_DL888/ECG+SCG+PPG-auxweight10000-fixed-3feat-HR_patch/numeric_results/',\n",
    "#     'w=10000|RR_cosmed': '../../data/stage4/DFR_DL888/ECG+SCG+PPG-auxweight10000-fixed-3feat-RR_cosmed/numeric_results/',\n",
    "# }\n",
    "\n",
    "\n",
    "# results_dir_dict = {\n",
    "#     'weight=0(awl)': '../../data/stage4/DFR_DL777/ECG+SCG+PPG-auxweight0-awl-3feat-HR_patch+RR_cosmed/numeric_results/',    \n",
    "#     'weight=1000(awl)': '../../data/stage4/DFR_DL777/ECG+SCG+PPG-auxweight1000-awl-3feat-HR_patch+RR_cosmed/numeric_results/',\n",
    "#     'weight=5000(awl)': '../../data/stage4/DFR_DL777/ECG+SCG+PPG-auxweight5000-awl-3feat-HR_patch+RR_cosmed/numeric_results/',\n",
    "#     'weight=10000(awl)': '../../data/stage4/DFR_DL777/ECG+SCG+PPG-auxweight10000-awl-3feat-HR_patch+RR_cosmed/numeric_results/',\n",
    "# }\n",
    "\n",
    "# '../../'\n",
    "\n",
    "\n",
    "# results_dir_dict = {\n",
    "#     'XGBoost': '../../data/stage4/ML_regression/XGBRegressor/numeric_results/',\n",
    "#     'MLP': '../../data/stage4/ML_regression/MLPRegressor/numeric_results/',\n",
    "# }\n",
    "\n",
    "# results_dir_dict = {\n",
    "#     'Linear-3feat': '../../data/stage4/ML_regression/LinearRegression-3feat/numeric_results/',\n",
    "#     'MLP-3feat': '../../data/stage4/ML_regression/MLPRegressor-3feat/numeric_results/',\n",
    "#     'XGBoost-3feat': '../../data/stage4/ML_regression/XGBRegressor-3feat/numeric_results/',\n",
    "#     'Linear-17feat': '../../data/stage4/ML_regression/LinearRegression-17feat/numeric_results/',\n",
    "#     'MLP-17feat': '../../data/stage4/ML_regression/MLPRegressor-17feat/numeric_results/',\n",
    "#     'XGBoost-17feat': '../../data/stage4/ML_regression/XGBRegressor-17feat/numeric_results/',\n",
    "# }\n",
    "\n",
    "# results_dir_dict = {\n",
    "#     'deep-3feat': '../../data/stage4/DFR_DL777/ECG+SCG+PPG-auxweight5000-fixed-3feat-HR_patch+RR_cosmed-CardioRespXGBRegression/numeric_results/',\n",
    "#     'deep-17feat': '../../data/stage4/DFR_DL777/ECG+SCG+PPG-auxweight5000-fixed-17feat-HR_patch+RR_cosmed-CardioRespXGBRegression/numeric_results/',\n",
    "#     'XGBoost-17feat': '../../data/stage4/ML_regression/XGBRegressor-17feat/numeric_results/',\n",
    "# }\n",
    "\n",
    "\n",
    "\n",
    "# results_dir_dict = {\n",
    "#      'CardioRespRegression-3feat': '../../data/stage4/DFR_DL777/ECG+SCG+PPG-auxweight5000-fixed-3feat-HR_patch+RR_cosmed-CardioRespRegression/numeric_results/',\n",
    "#      'CardioRespXGBRegression-3feat': '../../data/stage4/DFR_DL777/ECG+SCG+PPG-auxweight5000-fixed-3feat-HR_patch+RR_cosmed-CardioRespXGBRegression/numeric_results/',\n",
    "#      'CardioRespRegression-17feat': '../../data/stage4/DFR_DL777/ECG+SCG+PPG-auxweight5000-fixed-17feat-HR_patch+RR_cosmed-CardioRespRegression/numeric_results/',\n",
    "#      'CardioRespXGBRegression-17feat': '../../data/stage4/DFR_DL777/ECG+SCG+PPG-auxweight5000-fixed-17feat-HR_patch+RR_cosmed-CardioRespXGBRegression/numeric_results/',\n",
    "# }\n",
    "\n",
    "\n",
    "\n",
    "\n",
    "\n",
    "# experiment 1\n",
    "# results_dir_dict = {\n",
    "#     'w=1000|HR_patch': '../../data/stage4/DFR_DL999/rep0/auxweight1000-fixed-3feat-HR_patch-CardioRespXGBRegression/numeric_results/',\n",
    "#     'w=1000|RR_cosmed': '../../data/stage4/DFR_DL999/rep0/auxweight1000-fixed-3feat-RR_cosmed-CardioRespXGBRegression/numeric_results/',\n",
    "#     'w=1000|both': '../../data/stage4/DFR_DL999/rep0/auxweight1000-fixed-3feat-HR_patch+RR_cosmed-CardioRespXGBRegression/numeric_results/',\n",
    "\n",
    "#     'w=5000|HR_patch': '../../data/stage4/DFR_DL999/rep0/auxweight5000-fixed-3feat-HR_patch-CardioRespXGBRegression/numeric_results/',\n",
    "#     'w=5000|RR_cosmed': '../../data/stage4/DFR_DL999/rep0/auxweight5000-fixed-3feat-RR_cosmed-CardioRespXGBRegression/numeric_results/',\n",
    "#     'w=5000|both': '../../data/stage4/DFR_DL999/rep0/auxweight5000-fixed-3feat-HR_patch+RR_cosmed-CardioRespXGBRegression/numeric_results/',\n",
    "\n",
    "#     'w=10000|HR_patch': '../../data/stage4/DFR_DL999/rep0/auxweight10000-fixed-3feat-HR_patch-CardioRespXGBRegression/numeric_results/',\n",
    "#     'w=10000|RR_cosmed': '../../data/stage4/DFR_DL999/rep0/auxweight10000-fixed-3feat-RR_cosmed-CardioRespXGBRegression/numeric_results/',\n",
    "#     'w=10000|both': '../../data/stage4/DFR_DL999/rep0/auxweight10000-fixed-3feat-HR_patch+RR_cosmed-CardioRespXGBRegression/numeric_results/',\n",
    "# }\n",
    "\n",
    "\n",
    "\n",
    "\n",
    "# experiment 2 (Table 2)\n",
    "results_dir_dict = {\n",
    "    # '2feat_XGB': '../../data/stage4/ML_regression/rep0/XGBRegressor-2feat/numeric_results/',\n",
    "    '3feat_XGB': '../../data/stage4/ML_regression/rep0/XGBRegressor-3feat/numeric_results/',\n",
    "    '24feat_XGB': '../../data/stage4/ML_regression/rep0/XGBRegressor-24feat/numeric_results/',\n",
    "    \n",
    "    '3feat_CR_XGB': '../../data/stage4/DFR_DL999/rep0/auxweight5000-fixed-3feat-HR_patch+RR_cosmed-CardioRespXGBRegression/numeric_results/',\n",
    "    '24feat_CR_XGB': '../../data/stage4/DFR_DL999/rep0/auxweight5000-fixed-24feat-HR_patch+RR_cosmed-CardioRespXGBRegression/numeric_results/',   \n",
    "    \n",
    "    '3feat_CR_MLP': '../../data/stage4/DFR_DL999/rep0/auxweight5000-fixed-3feat-HR_patch+RR_cosmed-CardioRespRegression-ch=1|spec=1/numeric_results/',\n",
    "    '24feat_CR_MLP': '../../data/stage4/DFR_DL999/rep0/auxweight5000-fixed-24feat-HR_patch+RR_cosmed-CardioRespXGBRegression/numeric_results/',\n",
    "}\n",
    "# experiment 3 (Table 3)\n",
    "# results_dir_dict = {\n",
    "#     'ch=0|spec=0': '../../data/stage4/DFR_DL999/rep0/auxweight1000-fixed-3feat-HR_patch+RR_cosmed-CardioRespXGBRegression-ch=0|spec=False/numeric_results/',\n",
    "#     'ch=0|spec=1': '../../data/stage4/DFR_DL999/rep0/auxweight1000-fixed-3feat-HR_patch+RR_cosmed-CardioRespXGBRegression-ch=0|spec=True/numeric_results/',\n",
    "#     'ch=1|spec=0': '../../data/stage4/DFR_DL999/rep0/auxweight1000-fixed-3feat-HR_patch+RR_cosmed-CardioRespXGBRegression-ch=1|spec=False/numeric_results/',\n",
    "#     'ch=1|spec=1': '../../data/stage4/DFR_DL999/rep0/auxweight1000-fixed-3feat-HR_patch+RR_cosmed-CardioRespXGBRegression-ch=1|spec=True/numeric_results/',\n",
    "# }\n",
    "\n",
    "# experiment 4 (figure 8)\n",
    "results_dir_dict = {\n",
    "    'weight=0': '../../data/stage4/DFR_DL999/rep1/auxweight0-fixed-3feat-HR_patch+RR_cosmed-CardioRespXGBRegression/numeric_results/',\n",
    "    'weight=100': '../../data/stage4/DFR_DL999/rep1/auxweight100-fixed-3feat-HR_patch+RR_cosmed-CardioRespXGBRegression/numeric_results/',\n",
    "    'weight=200': '../../data/stage4/DFR_DL999/rep1/auxweight200-fixed-3feat-HR_patch+RR_cosmed-CardioRespXGBRegression/numeric_results/',\n",
    "    'weight=500': '../../data/stage4/DFR_DL999/rep1/auxweight500-fixed-3feat-HR_patch+RR_cosmed-CardioRespXGBRegression/numeric_results/',\n",
    "    'weight=1000': '../../data/stage4/DFR_DL999/rep1/auxweight1000-fixed-3feat-HR_patch+RR_cosmed-CardioRespXGBRegression/numeric_results/',\n",
    "    'weight=2000': '../../data/stage4/DFR_DL999/rep1/auxweight2000-fixed-3feat-HR_patch+RR_cosmed-CardioRespXGBRegression/numeric_results/',\n",
    "    'weight=5000': '../../data/stage4/DFR_DL999/rep1/auxweight5000-fixed-3feat-HR_patch+RR_cosmed-CardioRespXGBRegression/numeric_results/',\n",
    "    'weight=10000': '../../data/stage4/DFR_DL999/rep1/auxweight10000-fixed-3feat-HR_patch+RR_cosmed-CardioRespXGBRegression/numeric_results/',\n",
    "    'weight=20000': '../../data/stage4/DFR_DL999/rep1/auxweight20000-fixed-3feat-HR_patch+RR_cosmed-CardioRespXGBRegression/numeric_results/',\n",
    "    'weight=50000': '../../data/stage4/DFR_DL999/rep1/auxweight50000-fixed-3feat-HR_patch+RR_cosmed-CardioRespXGBRegression/numeric_results/',\n",
    "}\n",
    "\n",
    "\n",
    "\n",
    "\n",
    "\n",
    "\n",
    "sorter = list(results_dir_dict.keys())"
   ]
  },
  {
   "cell_type": "code",
   "execution_count": 327,
   "metadata": {},
   "outputs": [],
   "source": [
    "task_name = 'merged-HR_patch'\n",
    "task_name = 'merged-RR_cosmed'\n",
    "\n",
    "task_name = 'VO2_cosmedweighted'"
   ]
  },
  {
   "cell_type": "code",
   "execution_count": 328,
   "metadata": {},
   "outputs": [],
   "source": [
    "df_outputlabel = pd.DataFrame()\n",
    "\n",
    "for key in results_dir_dict:\n",
    "    folder = results_dir_dict[key]    \n",
    "    \n",
    "    if 'ML_regression' in folder:\n",
    "        df = pd.read_csv(folder+'df_outputlabel_val.csv')\n",
    "    elif 'DFR_DL' in folder:\n",
    "        df = pd.read_csv(folder+'df_outputlabel_val_{}.csv'.format(task_name))\n",
    "    \n",
    "    df['method'] = key\n",
    "    # df['label_est'] = df['label_est']/df['weight']\n",
    "    # df['label'] = df['label']/df['weight']\n",
    "    \n",
    "    df_outputlabel = df_outputlabel.append(df)"
   ]
  },
  {
   "cell_type": "code",
   "execution_count": 329,
   "metadata": {},
   "outputs": [],
   "source": [
    "# df"
   ]
  },
  {
   "cell_type": "code",
   "execution_count": 330,
   "metadata": {},
   "outputs": [],
   "source": [
    "# df"
   ]
  },
  {
   "cell_type": "code",
   "execution_count": null,
   "metadata": {},
   "outputs": [],
   "source": []
  },
  {
   "cell_type": "code",
   "execution_count": 331,
   "metadata": {},
   "outputs": [],
   "source": [
    "df_performance = pd.DataFrame()\n",
    "\n",
    "\n",
    "for method in df_outputlabel['method'].unique():\n",
    "    for subject_id in  df_outputlabel['CV'].unique():\n",
    "        # print(method, subject_id)\n",
    "        mask = (df_outputlabel['method']==method) & (df_outputlabel['CV']==subject_id)\n",
    "\n",
    "        df = df_outputlabel[mask]\n",
    "\n",
    "        # print(df.shape, method)\n",
    "        df = get_df_performance(df['label'].values, df['label_est'].values, subject_id, df['task'].values[0])\n",
    "        df['method'] = method\n",
    "        df['subject_id'] = subject_id\n",
    "        df_performance = df_performance.append(df)\n"
   ]
  },
  {
   "cell_type": "code",
   "execution_count": 332,
   "metadata": {},
   "outputs": [],
   "source": [
    "# df_performance = pd.DataFrame()\n",
    "\n",
    "\n",
    "# for method in df_outputlabel['method'].unique():\n",
    "#     # for subject_id in  df_outputlabel['CV'].unique():\n",
    "#         # print(method, subject_id)\n",
    "#     mask = (df_outputlabel['method']==method)\n",
    "\n",
    "#     df = df_outputlabel[mask]\n",
    "\n",
    "#     df = get_df_performance(df['label'].values, df['label_est'].values, subject_id, df['task'].values[0])\n",
    "#     df['method'] = method\n",
    "#     df_performance = df_performance.append(df)\n"
   ]
  },
  {
   "cell_type": "code",
   "execution_count": 333,
   "metadata": {},
   "outputs": [],
   "source": [
    "# df_performance"
   ]
  },
  {
   "cell_type": "code",
   "execution_count": 334,
   "metadata": {},
   "outputs": [],
   "source": [
    "metric_name = 'PCC'\n",
    "# metric_name = 'Rsquared'\n",
    "metric_name = 'rmse'\n"
   ]
  },
  {
   "cell_type": "code",
   "execution_count": 335,
   "metadata": {},
   "outputs": [],
   "source": [
    "# fig, ax = plt.subplots(1,1,figsize=(20,4), dpi=80)\n",
    "\n",
    "# # df_performance\n",
    "# sns.barplot(x = 'subject_id',\n",
    "#             y = metric_name,\n",
    "#             hue = 'method',\n",
    "#             data = df_performance,\n",
    "#             palette = \"Blues\",\n",
    "#            ax=ax)\n",
    " \n",
    "# # Show the plot\n",
    "# plt.show()"
   ]
  },
  {
   "cell_type": "code",
   "execution_count": 360,
   "metadata": {},
   "outputs": [],
   "source": [
    "# df_performance.groupby(['method']).mean().astype(str)[['rmse']]\n",
    "pd.options.display.float_format = '{:.2f}'.format\n",
    "df_table = df_performance.groupby(['method']).mean()[[metric_name]]\n",
    "# df_table = df_performance.groupby(['method']).std()[['rmse']]\n",
    "df_table = df_table.loc[sorter]"
   ]
  },
  {
   "cell_type": "code",
   "execution_count": 362,
   "metadata": {},
   "outputs": [
    {
     "data": {
      "text/html": [
       "<div>\n",
       "<style scoped>\n",
       "    .dataframe tbody tr th:only-of-type {\n",
       "        vertical-align: middle;\n",
       "    }\n",
       "\n",
       "    .dataframe tbody tr th {\n",
       "        vertical-align: top;\n",
       "    }\n",
       "\n",
       "    .dataframe thead th {\n",
       "        text-align: right;\n",
       "    }\n",
       "</style>\n",
       "<table border=\"1\" class=\"dataframe\">\n",
       "  <thead>\n",
       "    <tr style=\"text-align: right;\">\n",
       "      <th></th>\n",
       "      <th>rmse</th>\n",
       "      <th>method_name</th>\n",
       "      <th>weight</th>\n",
       "    </tr>\n",
       "    <tr>\n",
       "      <th>method</th>\n",
       "      <th></th>\n",
       "      <th></th>\n",
       "      <th></th>\n",
       "    </tr>\n",
       "  </thead>\n",
       "  <tbody>\n",
       "    <tr>\n",
       "      <th>weight=0</th>\n",
       "      <td>2.70</td>\n",
       "      <td>weight</td>\n",
       "      <td>0</td>\n",
       "    </tr>\n",
       "    <tr>\n",
       "      <th>weight=100</th>\n",
       "      <td>2.52</td>\n",
       "      <td>weight</td>\n",
       "      <td>100</td>\n",
       "    </tr>\n",
       "    <tr>\n",
       "      <th>weight=200</th>\n",
       "      <td>2.53</td>\n",
       "      <td>weight</td>\n",
       "      <td>200</td>\n",
       "    </tr>\n",
       "    <tr>\n",
       "      <th>weight=500</th>\n",
       "      <td>2.57</td>\n",
       "      <td>weight</td>\n",
       "      <td>500</td>\n",
       "    </tr>\n",
       "    <tr>\n",
       "      <th>weight=1000</th>\n",
       "      <td>2.60</td>\n",
       "      <td>weight</td>\n",
       "      <td>1000</td>\n",
       "    </tr>\n",
       "    <tr>\n",
       "      <th>weight=2000</th>\n",
       "      <td>2.58</td>\n",
       "      <td>weight</td>\n",
       "      <td>2000</td>\n",
       "    </tr>\n",
       "    <tr>\n",
       "      <th>weight=5000</th>\n",
       "      <td>2.40</td>\n",
       "      <td>weight</td>\n",
       "      <td>5000</td>\n",
       "    </tr>\n",
       "    <tr>\n",
       "      <th>weight=10000</th>\n",
       "      <td>2.41</td>\n",
       "      <td>weight</td>\n",
       "      <td>10000</td>\n",
       "    </tr>\n",
       "    <tr>\n",
       "      <th>weight=20000</th>\n",
       "      <td>2.47</td>\n",
       "      <td>weight</td>\n",
       "      <td>20000</td>\n",
       "    </tr>\n",
       "    <tr>\n",
       "      <th>weight=50000</th>\n",
       "      <td>2.40</td>\n",
       "      <td>weight</td>\n",
       "      <td>50000</td>\n",
       "    </tr>\n",
       "  </tbody>\n",
       "</table>\n",
       "</div>"
      ],
      "text/plain": [
       "              rmse method_name weight\n",
       "method                               \n",
       "weight=0      2.70      weight      0\n",
       "weight=100    2.52      weight    100\n",
       "weight=200    2.53      weight    200\n",
       "weight=500    2.57      weight    500\n",
       "weight=1000   2.60      weight   1000\n",
       "weight=2000   2.58      weight   2000\n",
       "weight=5000   2.40      weight   5000\n",
       "weight=10000  2.41      weight  10000\n",
       "weight=20000  2.47      weight  20000\n",
       "weight=50000  2.40      weight  50000"
      ]
     },
     "execution_count": 362,
     "metadata": {},
     "output_type": "execute_result"
    }
   ],
   "source": []
  },
  {
   "cell_type": "code",
   "execution_count": null,
   "metadata": {},
   "outputs": [],
   "source": []
  },
  {
   "cell_type": "code",
   "execution_count": 376,
   "metadata": {},
   "outputs": [
    {
     "data": {
      "image/png": "[encoded data removed]",
      "text/plain": [
       "<Figure size 720x360 with 1 Axes>"
      ]
     },
     "metadata": {},
     "output_type": "display_data"
    }
   ],
   "source": [
    "# df_table['weight'] = df_table.index.str.split('=', n = 2, expand = True)\n",
    "# df_table\n",
    "df_table[['method_name', 'weight']] = df_table.index.str.split('=', n = 2, expand = True).tolist()\n",
    "df_table\n",
    "\n",
    "fig, ax = plt.subplots(1,1,figsize=(6,3), dpi=120)\n",
    "\n",
    "# df_performance\n",
    "sns.lineplot(x='weight', y=metric_name, data=df_table, ax=ax, marker='o', linewidth=3, color='slategray')\n",
    "ax_no_top_right(ax)\n",
    "# sns.lineplot(data=may_flights, x=\"year\", y=\"passengers\")\n",
    "\n",
    " \n",
    "# Show the plot\n",
    "plt.show()"
   ]
  },
  {
   "cell_type": "code",
   "execution_count": null,
   "metadata": {},
   "outputs": [],
   "source": []
  },
  {
   "cell_type": "code",
   "execution_count": 337,
   "metadata": {},
   "outputs": [
    {
     "data": {
      "image/png": "[encoded data removed]",
      "text/plain": [
       "<Figure size 400x320 with 1 Axes>"
      ]
     },
     "metadata": {},
     "output_type": "display_data"
    }
   ],
   "source": [
    "fig, ax = plt.subplots(1,1,figsize=(5,4), dpi=80)\n",
    "\n",
    "# df_performance\n",
    "sns.barplot(x = df_table.index,\n",
    "            y = metric_name,\n",
    "            data = df_table.loc[sorter],\n",
    "            palette = \"Blues\",\n",
    "           ax=ax)\n",
    " \n",
    "# Show the plot\n",
    "plt.show()"
   ]
  },
  {
   "cell_type": "code",
   "execution_count": null,
   "metadata": {},
   "outputs": [],
   "source": []
  },
  {
   "cell_type": "code",
   "execution_count": null,
   "metadata": {},
   "outputs": [],
   "source": []
  },
  {
   "cell_type": "code",
   "execution_count": 10,
   "metadata": {},
   "outputs": [],
   "source": [
    "# df = df_outputlabel[df_outputlabel['method']=='MTL1000']\n",
    "# df_performance = get_df_performance(df['label'].values, df['label_est'].values, -1, df['task'].values[0])\n",
    "# print(df_performance)\n",
    "# sns.scatterplot(x='label', y='label_est', data=df_outputlabel, color='steelblue', alpha=0.5, linewidth=0)"
   ]
  },
  {
   "cell_type": "code",
   "execution_count": null,
   "metadata": {},
   "outputs": [],
   "source": []
  },
  {
   "cell_type": "code",
   "execution_count": 11,
   "metadata": {},
   "outputs": [],
   "source": [
    "# df = df_outputlabel[df_outputlabel['method']=='no_MTL']\n",
    "# df_performance = get_df_performance(df['label'].values, df['label_est'].values, -1, df['task'].values[0])\n",
    "# print(df_performance)\n",
    "# sns.scatterplot(x='label', y='label_est', data=df_outputlabel, color='steelblue', alpha=0.1, linewidth=0)"
   ]
  },
  {
   "cell_type": "code",
   "execution_count": null,
   "metadata": {},
   "outputs": [],
   "source": []
  },
  {
   "cell_type": "code",
   "execution_count": null,
   "metadata": {},
   "outputs": [],
   "source": [
    "# df_performance"
   ]
  },
  {
   "cell_type": "code",
   "execution_count": null,
   "metadata": {},
   "outputs": [],
   "source": [
    "fig, ax = plt.subplots(1,1, figsize=(5, 3), dpi=120, facecolor='white')\n",
    "fontsize = 15\n",
    "\n",
    "sns.barplot(x=\"method\", y=\"mae\", data=df_performance, ax=ax, alpha=0.5)\n",
    "\n",
    "title_str = 'Compare methods'\n",
    "ax.set_title(title_str, fontsize=fontsize)\n",
    "ax.set_ylabel('MAE [{}]'.format(unit_dict['VO2']), fontsize=fontsize)\n",
    "ax.set_xlabel('Subject ID', fontsize=fontsize)\n",
    "ax_no_top_right(ax)\n"
   ]
  },
  {
   "cell_type": "code",
   "execution_count": null,
   "metadata": {},
   "outputs": [],
   "source": []
  },
  {
   "cell_type": "code",
   "execution_count": null,
   "metadata": {},
   "outputs": [],
   "source": []
  },
  {
   "cell_type": "code",
   "execution_count": null,
   "metadata": {},
   "outputs": [],
   "source": []
  },
  {
   "cell_type": "code",
   "execution_count": null,
   "metadata": {},
   "outputs": [],
   "source": []
  },
  {
   "cell_type": "code",
   "execution_count": null,
   "metadata": {},
   "outputs": [],
   "source": []
  },
  {
   "cell_type": "code",
   "execution_count": null,
   "metadata": {},
   "outputs": [],
   "source": []
  },
  {
   "cell_type": "code",
   "execution_count": null,
   "metadata": {},
   "outputs": [],
   "source": []
  },
  {
   "cell_type": "code",
   "execution_count": null,
   "metadata": {},
   "outputs": [],
   "source": []
  },
  {
   "cell_type": "code",
   "execution_count": null,
   "metadata": {},
   "outputs": [],
   "source": []
  },
  {
   "cell_type": "code",
   "execution_count": null,
   "metadata": {},
   "outputs": [],
   "source": []
  },
  {
   "cell_type": "code",
   "execution_count": null,
   "metadata": {},
   "outputs": [],
   "source": []
  },
  {
   "cell_type": "code",
   "execution_count": null,
   "metadata": {},
   "outputs": [],
   "source": []
  },
  {
   "cell_type": "code",
   "execution_count": null,
   "metadata": {},
   "outputs": [],
   "source": [
    "df_DL = pd.read_csv(inputdir_DL)  \n",
    "df_DL_MTL = pd.read_csv(inputdir_DL_MTL)  \n",
    "df_ML = pd.read_csv(inputdir_ML)  \n",
    "\n",
    "df_DL['method'] = 'signals'\n",
    "df_DL_MTL['method'] = 'signals_MTL'\n",
    "df_ML['method'] = 'features'"
   ]
  },
  {
   "cell_type": "code",
   "execution_count": null,
   "metadata": {},
   "outputs": [],
   "source": [
    "df_all = pd.concat([df_DL,df_DL_MTL])\n",
    "df_all"
   ]
  },
  {
   "cell_type": "code",
   "execution_count": null,
   "metadata": {},
   "outputs": [],
   "source": []
  },
  {
   "cell_type": "code",
   "execution_count": null,
   "metadata": {},
   "outputs": [],
   "source": [
    "fig, ax = plt.subplots(1,1, figsize=(10, 3), dpi=120, facecolor='white')\n",
    "fontsize = 15\n",
    "\n",
    "sns.barplot(x=\"CV\", y=\"mae\", hue=\"method\", data=df_all, ax=ax, alpha=0.5)\n",
    "\n",
    "title_str = 'Compare 2 methods'\n",
    "ax.set_title(title_str, fontsize=fontsize)\n",
    "ax.set_ylabel('MAE [{}]'.format(unit_dict['EE']), fontsize=fontsize)\n",
    "ax.set_xlabel('Subject ID', fontsize=fontsize)\n",
    "ax_no_top_right(ax)\n"
   ]
  },
  {
   "cell_type": "code",
   "execution_count": null,
   "metadata": {},
   "outputs": [],
   "source": [
    "sns.boxplot(x=\"method\", y=\"mae\",\n",
    "                data=df_all, palette=\"Set2\",\n",
    "                dodge=True)"
   ]
  },
  {
   "cell_type": "code",
   "execution_count": null,
   "metadata": {},
   "outputs": [],
   "source": []
  },
  {
   "cell_type": "code",
   "execution_count": null,
   "metadata": {},
   "outputs": [],
   "source": []
  },
  {
   "cell_type": "code",
   "execution_count": null,
   "metadata": {},
   "outputs": [],
   "source": [
    "ax_no_top_right(ax)\n",
    "\n",
    "fig.tight_layout()\n",
    "\n",
    "\n",
    "if fig_name is None:\n",
    "    fig_name = 'regression_analysis'\n",
    "\n",
    "if outputdir is not None:\n",
    "    if not os.path.exists(outputdir):\n",
    "        os.makedirs(outputdir)\n",
    "    fig.savefig(outputdir + fig_name + '.png', facecolor=fig.get_facecolor())\n",
    "\n",
    "if show_plot == False:\n",
    "    plt.close(fig)\n",
    "    pyplot.close(fig)\n",
    "    plt.close('all')\n"
   ]
  },
  {
   "cell_type": "code",
   "execution_count": null,
   "metadata": {},
   "outputs": [],
   "source": []
  }
 ],
 "metadata": {
  "kernelspec": {
   "display_name": "mienv",
   "language": "python",
   "name": "mienv"
  },
  "language_info": {
   "codemirror_mode": {
    "name": "ipython",
    "version": 3
   },
   "file_extension": ".py",
   "mimetype": "text/x-python",
   "name": "python",
   "nbconvert_exporter": "python",
   "pygments_lexer": "ipython3",
   "version": "3.7.16"
  }
 },
 "nbformat": 4,
 "nbformat_minor": 4
}
