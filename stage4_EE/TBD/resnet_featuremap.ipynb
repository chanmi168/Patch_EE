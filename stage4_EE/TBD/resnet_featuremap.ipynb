{
 "cells": [
  {
   "cell_type": "markdown",
   "metadata": {},
   "source": [
    "# this notebook parse patch data\n",
    "# TODO: meet with Venu to confirm the changes I made\n",
    "# TODO: figure out the units in COSMED"
   ]
  },
  {
   "cell_type": "code",
   "execution_count": 1,
   "metadata": {},
   "outputs": [],
   "source": [
    "import numpy as np\n",
    "import argparse\n",
    "\n",
    "import os\n",
    "import math\n",
    "from math import sin\n",
    "\n",
    "import json\n",
    "\n",
    "import pandas as pd\n",
    "from sklearn.linear_model import LinearRegression\n",
    "from sklearn.metrics import mean_squared_error\n",
    "\n",
    "import seaborn as sns\n",
    "\n",
    "import matplotlib\n",
    "import matplotlib.pyplot as plt\n",
    "plt.style.use('seaborn-white')\n",
    "matplotlib.rc( 'savefig', facecolor = 'white' )\n",
    "from matplotlib import pyplot\n",
    "%matplotlib inline\n",
    "\n",
    "import torch\n",
    "from torch.utils.data import Dataset, DataLoader\n",
    "import torch.nn as nn\n",
    "import torch.nn.functional as F\n",
    "import torchvision\n",
    "from torchvision import transforms, datasets, models\n",
    "from torchsummary import summary\n",
    "torch.manual_seed(0)\n",
    "\n",
    "i_seed = 0\n",
    "\n",
    "import sys\n",
    "sys.path.append('../') # add this line so Data and data are visible in this file\n",
    "sys.path.append('../../') # add this line so Data and data are visible in this file\n",
    "sys.path.append('../PatchWand/') # add this line so Data and data are visible in this file\n",
    "\n",
    "# from PatchWand import *\n",
    "from plotting_tools import *\n",
    "from setting import *\n",
    "from models import *\n",
    "from models_CNN import *\n",
    "from evaluate import *\n",
    "\n",
    "from stage3_preprocess import *\n",
    "from training_util import *\n",
    "from dataset_util import *\n",
    "from dataIO import *\n",
    "\n",
    "from importlib import reload\n",
    "%load_ext autoreload\n",
    "%autoreload 2"
   ]
  },
  {
   "cell_type": "code",
   "execution_count": null,
   "metadata": {},
   "outputs": [],
   "source": []
  },
  {
   "cell_type": "code",
   "execution_count": null,
   "metadata": {},
   "outputs": [],
   "source": []
  },
  {
   "cell_type": "code",
   "execution_count": 2,
   "metadata": {},
   "outputs": [
    {
     "name": "stdout",
     "output_type": "stream",
     "text": [
      "11.3\n"
     ]
    }
   ],
   "source": [
    "print(torch.version.cuda)"
   ]
  },
  {
   "cell_type": "code",
   "execution_count": 3,
   "metadata": {},
   "outputs": [
    {
     "name": "stdout",
     "output_type": "stream",
     "text": [
      "Namespace(input_folder='../../data/stage3/', output_folder='../../data/stage4/', subject_id='sub106', training_params_file='training_params_baseline.json')\n"
     ]
    }
   ],
   "source": [
    "parser = argparse.ArgumentParser(description='SpO2_estimate')\n",
    "parser.add_argument('--input_folder', metavar='input_folder', help='input_folder',\n",
    "                    default='../')\n",
    "parser.add_argument('--output_folder', metavar='output_folder', help='output_folder',\n",
    "                    default='../')\n",
    "parser.add_argument('--subject_id', metavar='subject_id', help='subject_id',\n",
    "                    default='101')\n",
    "parser.add_argument('--training_params_file', metavar='training_params_file', help='training_params_file',\n",
    "                    default='training_params_list.json')\n",
    "\n",
    "\n",
    "# checklist 3: comment first line, uncomment second line\n",
    "args = parser.parse_args(['--input_folder', '../../data/stage3/', \n",
    "                          '--output_folder', '../../data/stage4/',\n",
    "                          '--subject_id', 'sub106',\n",
    "                          '--training_params_file', 'training_params_baseline.json',\n",
    "                         ])\n",
    "# args = parser.parse_args()\n",
    "print(args)"
   ]
  },
  {
   "cell_type": "code",
   "execution_count": null,
   "metadata": {},
   "outputs": [],
   "source": []
  },
  {
   "cell_type": "code",
   "execution_count": 4,
   "metadata": {},
   "outputs": [],
   "source": [
    "inputdir = args.input_folder\n",
    "outputdir = args.output_folder\n",
    "subject_id = args.subject_id\n",
    "training_params_file = args.training_params_file\n",
    "\n",
    "if not os.path.exists(outputdir):\n",
    "    os.makedirs(outputdir)\n",
    "    \n",
    "outputdir_sub = outputdir+subject_id+'/'\n",
    "if not os.path.exists(outputdir_sub):\n",
    "    os.makedirs(outputdir_sub)\n",
    "    "
   ]
  },
  {
   "cell_type": "markdown",
   "metadata": {},
   "source": [
    "# get training params and dataloaders"
   ]
  },
  {
   "cell_type": "code",
   "execution_count": 5,
   "metadata": {},
   "outputs": [
    {
     "data": {
      "text/plain": [
       "True"
      ]
     },
     "execution_count": 5,
     "metadata": {},
     "output_type": "execute_result"
    }
   ],
   "source": [
    "torch.cuda.is_available()"
   ]
  },
  {
   "cell_type": "code",
   "execution_count": 6,
   "metadata": {},
   "outputs": [
    {
     "name": "stdout",
     "output_type": "stream",
     "text": [
      "data dimensions are: (2236, 3, 6000)\n"
     ]
    }
   ],
   "source": [
    "with open(training_params_file) as json_file:\n",
    "    training_params_list = json.load(json_file)\n",
    "\n",
    "for training_params in [training_params_list[0]]:\n",
    "    # include device in training_params\n",
    "    device = torch.device('cuda:{}'.format(int(training_params['cuda_i'])) if torch.cuda.is_available() else 'cpu')\n",
    "    training_params['device'] = device\n",
    "\n",
    "\n",
    "    training_params['CV_config'] = {\n",
    "        'subject_id': 113,\n",
    "        'task_id': 1,\n",
    "    }\n",
    "    stage3_dict = data_loader('stage3_dict', inputdir).item()\n",
    "    training_params['list_signal'] = stage3_dict['list_signal']\n",
    "    training_params['list_feature'] = stage3_dict['list_feature']\n",
    "    training_params['list_output'] = stage3_dict['list_output']\n",
    "    training_params['list_meta'] = stage3_dict['list_meta']\n",
    "    training_params['FS_RESAMPLE_DL'] = stage3_dict['FS_RESAMPLE_DL']\n",
    "    training_params['subject_ids'] = stage3_dict['subject_ids']\n",
    "    training_params['task_ids'] = stage3_dict['task_ids']\n",
    "    \n",
    "#     input_CV = '../../data/stage3/113/CV2/'\n",
    "#     dataloaders, dataset_sizes = get_loaders(input_CV, training_params)\n",
    "    dataloaders, dataset_sizes = get_loaders(inputdir, training_params)\n",
    "    print('data dimensions are:', dataloaders['train'].dataset.data.shape)\n",
    "\n",
    "    data_dimensions = dataloaders['train'].dataset.__getitem__(0)[0].size()\n",
    "    training_params['data_dimensions'] = list(data_dimensions)\n",
    "    \n",
    "    sweep_name = training_params['sweep_name'] \n",
    "    \n",
    "\n",
    "# training_params = training_params_list[0]"
   ]
  },
  {
   "cell_type": "code",
   "execution_count": null,
   "metadata": {},
   "outputs": [],
   "source": []
  },
  {
   "cell_type": "code",
   "execution_count": null,
   "metadata": {},
   "outputs": [],
   "source": []
  },
  {
   "cell_type": "code",
   "execution_count": null,
   "metadata": {},
   "outputs": [],
   "source": []
  },
  {
   "cell_type": "code",
   "execution_count": null,
   "metadata": {},
   "outputs": [],
   "source": []
  },
  {
   "cell_type": "code",
   "execution_count": null,
   "metadata": {},
   "outputs": [],
   "source": []
  },
  {
   "cell_type": "markdown",
   "metadata": {},
   "source": [
    "# define multi-task loss"
   ]
  },
  {
   "cell_type": "code",
   "execution_count": 7,
   "metadata": {},
   "outputs": [],
   "source": [
    "class MultiTaskLoss(nn.Module):\n",
    "    def __init__(self, training_params):\n",
    "        super(MultiTaskLoss, self).__init__()\n",
    "        assert(set(training_params['tasks']) == set(training_params['criterions'].keys()))\n",
    "        assert(set(training_params['tasks']) == set(training_params['loss_weights'].keys()))\n",
    "        self.tasks = training_params['tasks']\n",
    "        self.criterions = training_params['criterions']\n",
    "        self.loss_weights = training_params['loss_weights']\n",
    "        self.device = training_params['device']\n",
    "\n",
    "    \n",
    "    def forward(self, output, label):\n",
    "        label = {task: label[:, [training_params['tasks'].index(task)]] for task in self.tasks}\n",
    "#         print(label.keys())\n",
    "#         print(output.keys())\n",
    "\n",
    "        losses = {task: self.criterions[task](output[task].squeeze(), label[task].to(device=device, dtype=torch.float).squeeze()) for task in self.tasks}\n",
    "#         print(losses)\n",
    "        losses['total'] = torch.sum(torch.stack([self.loss_weights[task] * losses[task] for task in self.tasks]))\n",
    "#         print(out)\n",
    "        return losses\n",
    "    \n",
    "    \n",
    "training_params['tasks'] = training_params['output_names']\n",
    "\n",
    "training_params['criterions'] = {}\n",
    "training_params['loss_weights'] = {}\n",
    "\n",
    "for task in training_params['tasks']:\n",
    "    training_params['criterions'][task] =  torch.nn.MSELoss()\n",
    "    training_params['loss_weights'][task] =  0.5\n",
    "\n",
    "criterion = MultiTaskLoss(training_params)"
   ]
  },
  {
   "cell_type": "code",
   "execution_count": null,
   "metadata": {},
   "outputs": [],
   "source": []
  },
  {
   "cell_type": "markdown",
   "metadata": {},
   "source": [
    "# some random param\n",
    "## kernel_size = 5 ~ 16*100/300 (16 for 300 Hz sampling rate, 5 for 100 sampling rate)\n"
   ]
  },
  {
   "cell_type": "code",
   "execution_count": 8,
   "metadata": {},
   "outputs": [
    {
     "data": {
      "text/plain": [
       "{'model_name': 'cnn',\n",
       " 'sweep_name': 'baseline',\n",
       " 'kernel_size': [5],\n",
       " 'channel_n': 16,\n",
       " 'num_epochs': 30,\n",
       " 'batch_size': 64,\n",
       " 'learning_rate': 0.001,\n",
       " 'cuda_i': 0,\n",
       " 'use_sc': True,\n",
       " 'wandb': True,\n",
       " 'input_names': ['ECG', 'accelZ', 'ppg_r_1'],\n",
       " 'feature_names': ['HR_patch', 'weight'],\n",
       " 'output_names': ['EE_cosmed'],\n",
       " 'meta_names': ['subject_id', 'task'],\n",
       " 'device': device(type='cuda', index=0),\n",
       " 'CV_config': {'subject_id': 113, 'task_id': 1},\n",
       " 'list_signal': ['ECG', 'accelZ', 'ppg_r_1'],\n",
       " 'list_feature': ['VE_cosmed', 'HR_patch', 'weight'],\n",
       " 'list_output': ['RR_cosmed',\n",
       "  'VT_cosmed',\n",
       "  'EE_cosmed',\n",
       "  'SPO2_cosmed',\n",
       "  'HR_cosmed',\n",
       "  'VO2_cosmed',\n",
       "  'resp_cosmed'],\n",
       " 'list_meta': ['subject_id', 'task'],\n",
       " 'FS_RESAMPLE_DL': 100,\n",
       " 'subject_ids': array([101, 102, 103, 104, 105, 106, 107, 108, 109, 110, 111, 113, 114,\n",
       "        115, 116, 117, 118, 119, 120]),\n",
       " 'task_ids': array([0, 1, 2, 3, 4, 5]),\n",
       " 'data_dimensions': [3, 6000],\n",
       " 'tasks': ['EE_cosmed'],\n",
       " 'criterions': {'EE_cosmed': MSELoss()},\n",
       " 'loss_weights': {'EE_cosmed': 0.5}}"
      ]
     },
     "execution_count": 8,
     "metadata": {},
     "output_type": "execute_result"
    }
   ],
   "source": [
    "training_params"
   ]
  },
  {
   "cell_type": "code",
   "execution_count": 9,
   "metadata": {},
   "outputs": [],
   "source": [
    "# training_params['downsample_gap']\n",
    "\n",
    "# # n_block = training_params['n_block_macro'][0] * training_params['downsample_gap'][0]\n",
    "# # downsample_gap = training_params['downsample_gap'][0]\n",
    "# # base_filters = training_params['base_filters'][0]\n",
    "# # use_sc =  training_params['use_sc']\n",
    "# # increasefilter_gap = downsample_gap * 2\n",
    "# # kernel_size = training_params['kernel_size']\n",
    "# # groups = training_params['base_filters'][0]"
   ]
  },
  {
   "cell_type": "code",
   "execution_count": null,
   "metadata": {},
   "outputs": [],
   "source": []
  },
  {
   "cell_type": "code",
   "execution_count": null,
   "metadata": {},
   "outputs": [],
   "source": []
  },
  {
   "cell_type": "code",
   "execution_count": 10,
   "metadata": {},
   "outputs": [],
   "source": [
    "if training_params['model_name'] == 'resnet':\n",
    "    training_params['stride'] = [2]\n",
    "    training_params['n_classes'] = [1]\n",
    "#     training_params['groups'] = [32]\n",
    "    training_params['groups'] = [4]\n",
    "    training_params['downsample_gap'] = [3]\n",
    "    training_params['n_block_macro'] = [4]\n",
    "    training_params['n_block'] = [training_params['n_block_macro'][0] * training_params['downsample_gap'][0]]\n",
    "    training_params['base_filters'] = [8]\n",
    "    training_params['in_channels'] = training_params['data_dimensions'][0]\n",
    "    training_params['increasefilter_gap'] = [training_params['downsample_gap'][0] * 2]\n",
    "    "
   ]
  },
  {
   "cell_type": "code",
   "execution_count": 11,
   "metadata": {},
   "outputs": [],
   "source": [
    "# # kernel_size = 10 # ~ 16*100/300 (16 for 300 Hz sampling rate, 5 for 100 sampling rate)\n",
    "\n",
    "# training_params['stride'] = 2\n",
    "# # stride = 2\n",
    "# # increasefilter_gap = 12\n",
    "# # base_filters = 32\n",
    "# training_params['n_classes'] = 1\n",
    "# # n_classes = 1 # regression\n",
    "# training_params['groups'] = 32\n",
    "# # groups = 32\n"
   ]
  },
  {
   "cell_type": "code",
   "execution_count": 12,
   "metadata": {},
   "outputs": [
    {
     "data": {
      "text/plain": [
       "[3, 6000]"
      ]
     },
     "execution_count": 12,
     "metadata": {},
     "output_type": "execute_result"
    }
   ],
   "source": [
    "training_params['data_dimensions']"
   ]
  },
  {
   "cell_type": "code",
   "execution_count": 13,
   "metadata": {},
   "outputs": [],
   "source": [
    "# if training_params['model_name']=='resnet':\n",
    "#     #     model = model_def(input_size=1,num_classes=2).apply(reset_weights)\n",
    "#     n_block = training_params['n_block_macro'][0] * training_params['downsample_gap'][0]\n",
    "#     downsample_gap = training_params['downsample_gap'][0]\n",
    "#     base_filters = training_params['base_filters'][0]\n",
    "#     use_sc =  training_params['use_sc']\n",
    "#     increasefilter_gap = downsample_gap * 2\n",
    "#     in_channels = training_params['data_dimensions'][0]\n",
    "\n",
    "\n",
    "#     groups = training_params['base_filters'][0]\n",
    "\n",
    "#     model = ResNet1D(\n",
    "#         in_channels=in_channels, \n",
    "#         base_filters=base_filters, # 64 for ResNet1D, 352 for ResNeXt1D\n",
    "#         kernel_size=kernel_size, \n",
    "#         stride=stride, \n",
    "#         groups=groups, \n",
    "#         n_block=n_block, \n",
    "#         n_classes=n_classes, \n",
    "#         downsample_gap=downsample_gap, \n",
    "#         increasefilter_gap=increasefilter_gap, \n",
    "#         use_do=True,\n",
    "#         use_sc=use_sc\n",
    "#     )\n",
    "# elif training_params['model_name']=='cnn':\n",
    "    \n",
    "#     print('using model ', training_params['model_name'])\n",
    "#     model = cnnnet(training_params=training_params)\n",
    "#     summary(model, input_size=tuple(training_params['data_dimensions']), batch_size=16, device='cpu')\n",
    "#     del model"
   ]
  },
  {
   "cell_type": "code",
   "execution_count": null,
   "metadata": {},
   "outputs": [],
   "source": []
  },
  {
   "cell_type": "code",
   "execution_count": 14,
   "metadata": {},
   "outputs": [],
   "source": [
    "# import torch\n",
    "# import torch.nn as nn\n",
    "# from torchsummary import summary\n",
    "\n",
    "# class SimpleConv(nn.Module):\n",
    "#     def __init__(self):\n",
    "#         super(SimpleConv, self).__init__()\n",
    "#         self.features = nn.Sequential(\n",
    "#             nn.Conv2d(1, 1, kernel_size=3, stride=1, padding=1),\n",
    "#             nn.ReLU(),\n",
    "#         )\n",
    "\n",
    "#     def forward(self, x, y):\n",
    "#         x1 = self.features(x)\n",
    "#         x2 = self.features(y)\n",
    "#         return x1, x2\n",
    "    \n",
    "# device = torch.device(\"cuda\" if torch.cuda.is_available() else \"cpu\")\n",
    "# model = SimpleConv().to(device)\n",
    "\n",
    "# summary(model, [(1, 16, 16), (1, 28, 28)])\n",
    "\n",
    "# # [tuple(training_params['data_dimensions']), tuple([2])]"
   ]
  },
  {
   "cell_type": "markdown",
   "metadata": {},
   "source": [
    "# test the model"
   ]
  },
  {
   "cell_type": "markdown",
   "metadata": {},
   "source": [
    "# TODO: need to fix summary()"
   ]
  },
  {
   "cell_type": "code",
   "execution_count": null,
   "metadata": {},
   "outputs": [],
   "source": [
    "\n"
   ]
  },
  {
   "cell_type": "code",
   "execution_count": null,
   "metadata": {},
   "outputs": [],
   "source": []
  },
  {
   "cell_type": "code",
   "execution_count": 15,
   "metadata": {},
   "outputs": [
    {
     "data": {
      "text/plain": [
       "{'model_name': 'cnn',\n",
       " 'sweep_name': 'baseline',\n",
       " 'kernel_size': [5],\n",
       " 'channel_n': 16,\n",
       " 'num_epochs': 30,\n",
       " 'batch_size': 64,\n",
       " 'learning_rate': 0.001,\n",
       " 'cuda_i': 0,\n",
       " 'use_sc': True,\n",
       " 'wandb': True,\n",
       " 'input_names': ['ECG', 'accelZ', 'ppg_r_1'],\n",
       " 'feature_names': ['HR_patch', 'weight'],\n",
       " 'output_names': ['EE_cosmed'],\n",
       " 'meta_names': ['subject_id', 'task'],\n",
       " 'device': device(type='cuda', index=0),\n",
       " 'CV_config': {'subject_id': 113, 'task_id': 1},\n",
       " 'list_signal': ['ECG', 'accelZ', 'ppg_r_1'],\n",
       " 'list_feature': ['VE_cosmed', 'HR_patch', 'weight'],\n",
       " 'list_output': ['RR_cosmed',\n",
       "  'VT_cosmed',\n",
       "  'EE_cosmed',\n",
       "  'SPO2_cosmed',\n",
       "  'HR_cosmed',\n",
       "  'VO2_cosmed',\n",
       "  'resp_cosmed'],\n",
       " 'list_meta': ['subject_id', 'task'],\n",
       " 'FS_RESAMPLE_DL': 100,\n",
       " 'subject_ids': array([101, 102, 103, 104, 105, 106, 107, 108, 109, 110, 111, 113, 114,\n",
       "        115, 116, 117, 118, 119, 120]),\n",
       " 'task_ids': array([0, 1, 2, 3, 4, 5]),\n",
       " 'data_dimensions': [3, 6000],\n",
       " 'tasks': ['EE_cosmed'],\n",
       " 'criterions': {'EE_cosmed': MSELoss()},\n",
       " 'loss_weights': {'EE_cosmed': 0.5}}"
      ]
     },
     "execution_count": 15,
     "metadata": {},
     "output_type": "execute_result"
    }
   ],
   "source": [
    "training_params"
   ]
  },
  {
   "cell_type": "code",
   "execution_count": 16,
   "metadata": {},
   "outputs": [
    {
     "name": "stdout",
     "output_type": "stream",
     "text": [
      "using model  cnn\n",
      "feature_out_dim: 83536\n",
      "feature_out_dim: 83536\n",
      "feature_out_dim: 83536\n",
      "----------------------------------------------------------------\n",
      "        Layer (type)               Output Shape         Param #\n",
      "================================================================\n",
      "            Conv1d-1             [-1, 16, 6000]              96\n",
      "       BatchNorm1d-2             [-1, 16, 6000]              32\n",
      "              ReLU-3             [-1, 16, 6000]               0\n",
      "            Conv1d-4             [-1, 16, 5993]           3,088\n",
      "       BatchNorm1d-5             [-1, 16, 5993]              32\n",
      "              ReLU-6             [-1, 16, 5993]               0\n",
      "            Conv1d-7             [-1, 16, 5967]           7,952\n",
      "       BatchNorm1d-8             [-1, 16, 5967]              32\n",
      "              ReLU-9             [-1, 16, 5967]               0\n",
      "           Conv1d-10             [-1, 16, 5894]          19,984\n",
      "      BatchNorm1d-11             [-1, 16, 5894]              32\n",
      "             ReLU-12             [-1, 16, 5894]               0\n",
      "           Conv1d-13             [-1, 16, 5704]          49,936\n",
      "      BatchNorm1d-14             [-1, 16, 5704]              32\n",
      "             ReLU-15             [-1, 16, 5704]               0\n",
      "           Conv1d-16             [-1, 16, 5221]         124,944\n",
      "      BatchNorm1d-17             [-1, 16, 5221]              32\n",
      "             ReLU-18             [-1, 16, 5221]               0\n",
      "FeatureExtractor_CNN-19                [-1, 83536]               0\n",
      "           Conv1d-20             [-1, 16, 6000]              96\n",
      "      BatchNorm1d-21             [-1, 16, 6000]              32\n",
      "             ReLU-22             [-1, 16, 6000]               0\n",
      "           Conv1d-23             [-1, 16, 5993]           3,088\n",
      "      BatchNorm1d-24             [-1, 16, 5993]              32\n",
      "             ReLU-25             [-1, 16, 5993]               0\n",
      "           Conv1d-26             [-1, 16, 5967]           7,952\n",
      "      BatchNorm1d-27             [-1, 16, 5967]              32\n",
      "             ReLU-28             [-1, 16, 5967]               0\n",
      "           Conv1d-29             [-1, 16, 5894]          19,984\n",
      "      BatchNorm1d-30             [-1, 16, 5894]              32\n",
      "             ReLU-31             [-1, 16, 5894]               0\n",
      "           Conv1d-32             [-1, 16, 5704]          49,936\n",
      "      BatchNorm1d-33             [-1, 16, 5704]              32\n",
      "             ReLU-34             [-1, 16, 5704]               0\n",
      "           Conv1d-35             [-1, 16, 5221]         124,944\n",
      "      BatchNorm1d-36             [-1, 16, 5221]              32\n",
      "             ReLU-37             [-1, 16, 5221]               0\n",
      "FeatureExtractor_CNN-38                [-1, 83536]               0\n",
      "           Conv1d-39             [-1, 16, 6000]              96\n",
      "      BatchNorm1d-40             [-1, 16, 6000]              32\n",
      "             ReLU-41             [-1, 16, 6000]               0\n",
      "           Conv1d-42             [-1, 16, 5993]           3,088\n",
      "      BatchNorm1d-43             [-1, 16, 5993]              32\n",
      "             ReLU-44             [-1, 16, 5993]               0\n",
      "           Conv1d-45             [-1, 16, 5967]           7,952\n",
      "      BatchNorm1d-46             [-1, 16, 5967]              32\n",
      "             ReLU-47             [-1, 16, 5967]               0\n",
      "           Conv1d-48             [-1, 16, 5894]          19,984\n",
      "      BatchNorm1d-49             [-1, 16, 5894]              32\n",
      "             ReLU-50             [-1, 16, 5894]               0\n",
      "           Conv1d-51             [-1, 16, 5704]          49,936\n",
      "      BatchNorm1d-52             [-1, 16, 5704]              32\n",
      "             ReLU-53             [-1, 16, 5704]               0\n",
      "           Conv1d-54             [-1, 16, 5221]         124,944\n",
      "      BatchNorm1d-55             [-1, 16, 5221]              32\n",
      "             ReLU-56             [-1, 16, 5221]               0\n",
      "FeatureExtractor_CNN-57                [-1, 83536]               0\n",
      "           Linear-58                   [-1, 50]      12,530,550\n",
      "           Linear-59                    [-1, 1]              51\n",
      "RespiratoryRegression-60                    [-1, 1]               0\n",
      "================================================================\n",
      "Total params: 13,149,177\n",
      "Trainable params: 13,149,177\n",
      "Non-trainable params: 0\n",
      "----------------------------------------------------------------\n",
      "Input size (MB): 0.14\n",
      "Forward/backward pass size (MB): 40.12\n",
      "Params size (MB): 50.16\n",
      "Estimated Total Size (MB): 90.42\n",
      "----------------------------------------------------------------\n"
     ]
    }
   ],
   "source": [
    "def test_model(training_params):\n",
    "    \n",
    "    if training_params['model_name']=='resnet':\n",
    "        print('using model ', training_params['model_name'])\n",
    "    #     device = training_params['device']\n",
    "        device = torch.device('cuda:{}'.format(int(training_params['cuda_i'])) if torch.cuda.is_available() else 'cpu')\n",
    "\n",
    "    #     model = model_def(input_size=1,num_classes=2).apply(reset_weights)\n",
    "\n",
    "#         n_block = training_params['n_block_macro'][0] * training_params['downsample_gap'][0]\n",
    "#         downsample_gap = training_params['downsample_gap'][0]\n",
    "#         base_filters = training_params['base_filters'][0]\n",
    "#         use_sc =  training_params['use_sc']\n",
    "#         increasefilter_gap = downsample_gap * 2\n",
    "#         kernel_size = training_params['kernel_size']\n",
    "#         groups = training_params['base_filters'][0]\n",
    "\n",
    "#         model = ResNet1D(\n",
    "#             in_channels=training_params['data_dimensions'][0], \n",
    "#             base_filters=base_filters, # 64 for ResNet1D, 352 for ResNeXt1D\n",
    "#             kernel_size=kernel_size, \n",
    "#             stride=stride, \n",
    "#             groups=groups, \n",
    "#             n_block=n_block, \n",
    "#             n_classes=n_classes, \n",
    "#             downsample_gap=downsample_gap, \n",
    "#             increasefilter_gap=increasefilter_gap, \n",
    "#             use_do=True,\n",
    "#             use_sc=use_sc\n",
    "#         )\n",
    "        model = resnet_multiverse(\n",
    "            training_params=training_params\n",
    "        )\n",
    "\n",
    "    #     model= model_def(in_ch=training_params['data_dimensions'][0], out_ch=2, n1=training_params['N_channels'])\n",
    "#         summary(model, input_size=tuple(training_params['data_dimensions']), batch_size=16, device='cpu')\n",
    "        summary(model, input_size=[tuple(training_params['data_dimensions']), tuple([2,1])], device='cpu')\n",
    "        del model\n",
    "    \n",
    "\n",
    "    elif training_params['model_name']=='cnn':\n",
    "\n",
    "        print('using model ', training_params['model_name'])\n",
    "\n",
    "        model = cnnnet(training_params=training_params)\n",
    "#         print(model)\n",
    "# #         summary(model, input_size=tuple(training_params['data_dimensions']), batch_size=16, device='cpu')\n",
    "# #         summary(model, input_size=[tuple(training_params['data_dimensions']), tuple([2])], batch_size=16, device='cpu')\n",
    "# #         summary(model, input_size=[tuple(training_params['data_dimensions']), tuple([2])], device='cpu')\n",
    "        summary(model, input_size=[tuple(training_params['data_dimensions']), (model.N_features,1)], device='cpu')\n",
    "\n",
    "\n",
    "\n",
    "debug_model = True\n",
    "if debug_model==True:\n",
    "#     test_model(ResNet1D, training_params)\n",
    "    test_model(training_params)"
   ]
  },
  {
   "cell_type": "code",
   "execution_count": null,
   "metadata": {},
   "outputs": [],
   "source": []
  },
  {
   "cell_type": "code",
   "execution_count": null,
   "metadata": {},
   "outputs": [],
   "source": []
  },
  {
   "cell_type": "code",
   "execution_count": null,
   "metadata": {},
   "outputs": [],
   "source": []
  },
  {
   "cell_type": "markdown",
   "metadata": {},
   "source": [
    "# define training, validating, and evaluating funcitons "
   ]
  },
  {
   "cell_type": "code",
   "execution_count": 17,
   "metadata": {},
   "outputs": [],
   "source": [
    "trainer = train_resnet\n",
    "evaler = eval_resnet\n",
    "preder = pred_resnet"
   ]
  },
  {
   "cell_type": "markdown",
   "metadata": {},
   "source": [
    "# training and eval block\n",
    "# TODO: modularize it"
   ]
  },
  {
   "cell_type": "markdown",
   "metadata": {},
   "source": [
    "# init the model"
   ]
  },
  {
   "cell_type": "code",
   "execution_count": 18,
   "metadata": {},
   "outputs": [
    {
     "name": "stdout",
     "output_type": "stream",
     "text": [
      "using model  cnn\n",
      "feature_out_dim: 83536\n",
      "feature_out_dim: 83536\n",
      "feature_out_dim: 83536\n"
     ]
    }
   ],
   "source": [
    "# if training_params['model_name']=='resnet':\n",
    "#     print('using model ', training_params['model_name'])\n",
    "# #     device = training_params['device']\n",
    "#     device = torch.device('cuda:{}'.format(int(training_params['cuda_i'])) if torch.cuda.is_available() else 'cpu')\n",
    "\n",
    "# #     model = model_def(input_size=1,num_classes=2).apply(reset_weights)\n",
    "\n",
    "#     n_block = training_params['n_block_macro'][0] * training_params['downsample_gap'][0]\n",
    "#     downsample_gap = training_params['downsample_gap'][0]\n",
    "#     base_filters = training_params['base_filters'][0]\n",
    "#     use_sc =  training_params['use_sc']\n",
    "#     increasefilter_gap = downsample_gap * 2\n",
    "#     kernel_size = training_params['kernel_size']\n",
    "\n",
    "#     groups = training_params['base_filters'][0]\n",
    "\n",
    "#     model = ResNet1D(\n",
    "#         in_channels=training_params['data_dimensions'][0], \n",
    "#         base_filters=base_filters, # 64 for ResNet1D, 352 for ResNeXt1D\n",
    "#         kernel_size=kernel_size, \n",
    "#         stride=stride, \n",
    "#         groups=groups, \n",
    "#         n_block=n_block, \n",
    "#         n_classes=n_classes, \n",
    "#         downsample_gap=downsample_gap, \n",
    "#         increasefilter_gap=increasefilter_gap, \n",
    "#         use_do=True,\n",
    "#         use_sc=use_sc\n",
    "#     )\n",
    "\n",
    "# #     model= model_def(in_ch=training_params['data_dimensions'][0], out_ch=2, n1=training_params['N_channels'])\n",
    "# #     summary(model, input_size=tuple(training_params['data_dimensions']), batch_size=16, device='cpu')\n",
    "# #     del model\n",
    "\n",
    "if training_params['model_name']=='resnet':\n",
    "    print('using model ', training_params['model_name'])\n",
    "    model = resnet_multiverse(\n",
    "        training_params=training_params\n",
    "    )\n",
    "    \n",
    "elif training_params['model_name']=='cnn':\n",
    "\n",
    "    print('using model ', training_params['model_name'])\n",
    "    model = cnnnet(training_params=training_params)\n",
    "#     summary(model, input_size=tuple(training_params['data_dimensions']), batch_size=16, device='cpu')\n"
   ]
  },
  {
   "cell_type": "code",
   "execution_count": 19,
   "metadata": {},
   "outputs": [
    {
     "data": {
      "text/plain": [
       "[<matplotlib.lines.Line2D at 0x7f0a1c123850>]"
      ]
     },
     "execution_count": 19,
     "metadata": {},
     "output_type": "execute_result"
    },
    {
     "data": {
      "image/png": "[encoded data removed]",
      "text/plain": [
       "<Figure size 432x288 with 1 Axes>"
      ]
     },
     "metadata": {},
     "output_type": "display_data"
    }
   ],
   "source": [
    "k = 100\n",
    "\n",
    "plt.plot(dataloaders['train'].dataset.data[k,0,:])"
   ]
  },
  {
   "cell_type": "code",
   "execution_count": 20,
   "metadata": {},
   "outputs": [
    {
     "data": {
      "text/plain": [
       "[<matplotlib.lines.Line2D at 0x7f0a16ef7a10>]"
      ]
     },
     "execution_count": 20,
     "metadata": {},
     "output_type": "execute_result"
    },
    {
     "data": {
      "image/png": "[encoded data removed]",
      "text/plain": [
       "<Figure size 432x288 with 1 Axes>"
      ]
     },
     "metadata": {},
     "output_type": "display_data"
    }
   ],
   "source": [
    "plt.plot(dataloaders['train'].dataset.data[k,1,:])"
   ]
  },
  {
   "cell_type": "code",
   "execution_count": 21,
   "metadata": {},
   "outputs": [
    {
     "data": {
      "text/plain": [
       "[<matplotlib.lines.Line2D at 0x7f0a16e6bd90>]"
      ]
     },
     "execution_count": 21,
     "metadata": {},
     "output_type": "execute_result"
    },
    {
     "data": {
      "image/png": "[encoded data removed]",
      "text/plain": [
       "<Figure size 432x288 with 1 Axes>"
      ]
     },
     "metadata": {},
     "output_type": "display_data"
    }
   ],
   "source": [
    "plt.plot(dataloaders['train'].dataset.data[k,2,:])"
   ]
  },
  {
   "cell_type": "code",
   "execution_count": 22,
   "metadata": {},
   "outputs": [
    {
     "data": {
      "text/plain": [
       "array([[101,   0],\n",
       "       [101,   0],\n",
       "       [101,   0],\n",
       "       ...,\n",
       "       [120,   5],\n",
       "       [120,   5],\n",
       "       [120,   5]])"
      ]
     },
     "execution_count": 22,
     "metadata": {},
     "output_type": "execute_result"
    }
   ],
   "source": [
    "dataloaders['train'].dataset.meta"
   ]
  },
  {
   "cell_type": "code",
   "execution_count": 23,
   "metadata": {},
   "outputs": [
    {
     "data": {
      "text/plain": [
       "array([-5.11723763e-03,  9.00000000e+01])"
      ]
     },
     "execution_count": 23,
     "metadata": {},
     "output_type": "execute_result"
    }
   ],
   "source": [
    "dataloaders['train'].dataset.feature[0,:]"
   ]
  },
  {
   "cell_type": "code",
   "execution_count": 24,
   "metadata": {},
   "outputs": [
    {
     "data": {
      "text/plain": [
       "array([[2.41541989],\n",
       "       [2.36579274],\n",
       "       [2.30260067],\n",
       "       ...,\n",
       "       [1.90960189],\n",
       "       [1.86916633],\n",
       "       [1.83768278]])"
      ]
     },
     "execution_count": 24,
     "metadata": {},
     "output_type": "execute_result"
    }
   ],
   "source": [
    "dataloaders['train'].dataset.label"
   ]
  },
  {
   "cell_type": "code",
   "execution_count": 25,
   "metadata": {},
   "outputs": [],
   "source": [
    "\n",
    "# input_CV = '../../data/stage3/113/CV2/'\n",
    "# dataloaders, dataset_sizes = get_loaders(input_CV, training_params)"
   ]
  },
  {
   "cell_type": "code",
   "execution_count": null,
   "metadata": {},
   "outputs": [],
   "source": []
  },
  {
   "cell_type": "code",
   "execution_count": 26,
   "metadata": {},
   "outputs": [
    {
     "data": {
      "text/plain": [
       "{'model_name': 'cnn',\n",
       " 'sweep_name': 'baseline',\n",
       " 'kernel_size': [5],\n",
       " 'channel_n': 16,\n",
       " 'num_epochs': 30,\n",
       " 'batch_size': 64,\n",
       " 'learning_rate': 0.001,\n",
       " 'cuda_i': 0,\n",
       " 'use_sc': True,\n",
       " 'wandb': True,\n",
       " 'input_names': ['ECG', 'accelZ', 'ppg_r_1'],\n",
       " 'feature_names': ['HR_patch', 'weight'],\n",
       " 'output_names': ['EE_cosmed'],\n",
       " 'meta_names': ['subject_id', 'task'],\n",
       " 'device': device(type='cuda', index=0),\n",
       " 'CV_config': {'subject_id': 113, 'task_id': 1},\n",
       " 'list_signal': ['ECG', 'accelZ', 'ppg_r_1'],\n",
       " 'list_feature': ['VE_cosmed', 'HR_patch', 'weight'],\n",
       " 'list_output': ['RR_cosmed',\n",
       "  'VT_cosmed',\n",
       "  'EE_cosmed',\n",
       "  'SPO2_cosmed',\n",
       "  'HR_cosmed',\n",
       "  'VO2_cosmed',\n",
       "  'resp_cosmed'],\n",
       " 'list_meta': ['subject_id', 'task'],\n",
       " 'FS_RESAMPLE_DL': 100,\n",
       " 'subject_ids': array([101, 102, 103, 104, 105, 106, 107, 108, 109, 110, 111, 113, 114,\n",
       "        115, 116, 117, 118, 119, 120]),\n",
       " 'task_ids': array([0, 1, 2, 3, 4, 5]),\n",
       " 'data_dimensions': [3, 6000],\n",
       " 'tasks': ['EE_cosmed'],\n",
       " 'criterions': {'EE_cosmed': MSELoss()},\n",
       " 'loss_weights': {'EE_cosmed': 0.5}}"
      ]
     },
     "execution_count": 26,
     "metadata": {},
     "output_type": "execute_result"
    }
   ],
   "source": [
    "training_params"
   ]
  },
  {
   "cell_type": "code",
   "execution_count": 27,
   "metadata": {},
   "outputs": [],
   "source": [
    "def train_model(model, training_params, trainer, evaler, preder):\n",
    "\n",
    "    #     print('train_model.....')\n",
    "\n",
    "\n",
    "    inputdir = training_params['inputdir']\n",
    "    \n",
    "    dataloaders, dataset_sizes = get_loaders(inputdir, training_params)\n",
    "\n",
    "\n",
    "    total_loss_train = np.zeros(training_params['num_epochs'])\n",
    "    total_loss_val = np.zeros(training_params['num_epochs'])\n",
    "\n",
    "\n",
    "\n",
    "#     print(training_params)\n",
    "    print('\\t start training.....')\n",
    "\n",
    "    for epoch in range(training_params['num_epochs']):\n",
    "        if epoch%10==1:\n",
    "            print(epoch)\n",
    "        training_params['epoch'] = epoch\n",
    "\n",
    "        ##### model training mode ####\n",
    "        performance_dict_train = trainer(model, dataloaders['train'], training_params)\n",
    "    #         performance_dict_train = train_resnet(model, dataloaders['train'], optimizer, criterion, epoch, training_params)\n",
    "        total_loss_train[epoch] = performance_dict_train['total_loss']\n",
    "\n",
    "        performance_dict_val = evaler(model, dataloaders['val'], training_params)\n",
    "    #         performance_dict_val = eval_resnet(model, dataloaders['val'], optimizer, criterion, epoch, training_params)\n",
    "        total_loss_val[epoch] = performance_dict_val['total_loss']\n",
    "\n",
    "\n",
    "    print('\\t done with training.....')\n",
    "\n",
    "    performance_dict_train = preder(model, dataloaders['train'], training_params)\n",
    "    performance_dict_val = preder(model, dataloaders['val'], training_params)\n",
    "\n",
    "    \n",
    "    CV_dict = {\n",
    "        'performance_dict_train': performance_dict_train,\n",
    "        'total_loss_train': total_loss_train,\n",
    "        'performance_dict_val': performance_dict_val,\n",
    "        'total_loss_val': total_loss_val,\n",
    "        'model': model,\n",
    "        'subject_id_val': training_params['CV_config']['subject_id'], \n",
    "    }\n",
    "    \n",
    "\n",
    "#     for task in training_params['tasks']:\n",
    "#         print('evaluating task:', task)\n",
    "#         MAE, std_AE = get_MAE(performance_dict_train['out_dict'][task], performance_dict_train['label_dict'][task])\n",
    "#         print('\\ttrainin: {:.2f}, {:.2f}'.format(MAE, std_AE))\n",
    "\n",
    "#         MAE, std_AE = get_MAE(performance_dict_val['out_dict'][task], performance_dict_val['label_dict'][task])\n",
    "#         print('\\tval: {:.2f}, {:.2f}'.format(MAE, std_AE))\n",
    "\n",
    "#         CV_dict[task+'_RMSE']\n",
    "    \n",
    "    return CV_dict\n",
    "\n",
    "\n",
    "\n",
    "\n"
   ]
  },
  {
   "cell_type": "code",
   "execution_count": 28,
   "metadata": {},
   "outputs": [],
   "source": [
    "\n",
    "def get_df_performance(df_performance, label, label_est, task, subject_id):\n",
    "    rmse = np.sqrt(mean_squared_error(label, label_est))\n",
    "\n",
    "    mae, _ = get_MAE(label, label_est)\n",
    "    mape, _ = get_MAPE(label, label_est)\n",
    "\n",
    "    Rsquared = get_CoeffDeterm(label=label, predictions=label_est)\n",
    "\n",
    "    df_performance.append(pd.DataFrame({\n",
    "        'CV': [subject_id],\n",
    "        'task': [task],\n",
    "        'Rsquared': [Rsquared],\n",
    "        'rmse': [rmse],\n",
    "        'mae': [mae],\n",
    "        'mape': [mape],\n",
    "    }))\n",
    "    \n",
    "    return df_performance"
   ]
  },
  {
   "cell_type": "code",
   "execution_count": 29,
   "metadata": {},
   "outputs": [],
   "source": [
    "# CV_dict.keys()\n",
    "# subject_id = subject_id_val\n"
   ]
  },
  {
   "cell_type": "code",
   "execution_count": 30,
   "metadata": {},
   "outputs": [],
   "source": [
    "def plot_losses(CV_dict, show_plot=False, outputdir=None):\n",
    "    \n",
    "    total_loss_train = CV_dict['total_loss_train']\n",
    "    total_loss_val = CV_dict['total_loss_val']\n",
    "    \n",
    "    fig, ax = plt.subplots(1,1, figsize=(10,3), dpi=80)\n",
    "    fontsize = 15\n",
    "\n",
    "    ax.plot(total_loss_train, 'r', label='train')\n",
    "    ax.plot(total_loss_val,'b', label='val')\n",
    "    ax.legend(loc='upper right', frameon=True, fontsize=fontsize*0.8)\n",
    "\n",
    "    ax.set_xlabel('epoch', fontsize=fontsize)\n",
    "    ax.set_ylabel('MSE', fontsize=fontsize)\n",
    "\n",
    "    fig.tight_layout()\n",
    "\n",
    "    subject_id = CV_dict['subject_id_val']\n",
    "    #     fig_name = '{}_signl_{}'.format(title_str,subject_id)\n",
    "    fig_name = 'loss_CV{}'.format(subject_id)\n",
    "#     show_plot=True\n",
    "    if outputdir is not None:\n",
    "        if not os.path.exists(outputdir):\n",
    "            os.makedirs(outputdir)\n",
    "        fig.savefig(outputdir + fig_name + '.png', facecolor=fig.get_facecolor())\n",
    "\n",
    "    if show_plot == False:\n",
    "        plt.close(fig)\n",
    "        pyplot.close(fig)\n",
    "        plt.close('all')\n",
    "\n"
   ]
  },
  {
   "cell_type": "code",
   "execution_count": 31,
   "metadata": {},
   "outputs": [],
   "source": [
    "\n",
    "def get_df_performance2(label, label_est, subject_id, task):\n",
    "    \n",
    "#     df_performance = pd.DataFrame()\n",
    "\n",
    "    \n",
    "#     for subject_id in df_outputlabel['subject_id'].unique():\n",
    "#         df_sub = df_outputlabel[df_outputlabel['subject_id']==subject_id]\n",
    "#         task = df_sub['task'][0]\n",
    "        \n",
    "        \n",
    "#         label = df_sub['label']\n",
    "#         label_est = df_sub['label_est']\n",
    "\n",
    "\n",
    "    rmse = np.sqrt(mean_squared_error(label, label_est))\n",
    "\n",
    "    mae, _ = get_MAE(label, label_est)\n",
    "    mape, _ = get_MAPE(label, label_est)\n",
    "\n",
    "    Rsquared = get_CoeffDeterm(label=label, predictions=label_est)\n",
    "\n",
    "    df_performance = pd.DataFrame({\n",
    "        'CV': [subject_id],\n",
    "        'task': [task],\n",
    "        'Rsquared': [Rsquared],\n",
    "        'rmse': [rmse],\n",
    "        'mae': [mae],\n",
    "        'mape': [mape],\n",
    "    })\n",
    "\n",
    "    return df_performance"
   ]
  },
  {
   "cell_type": "code",
   "execution_count": null,
   "metadata": {},
   "outputs": [],
   "source": []
  },
  {
   "cell_type": "code",
   "execution_count": null,
   "metadata": {},
   "outputs": [
    {
     "name": "stdout",
     "output_type": "stream",
     "text": [
      "using device cuda:0\n",
      "\t start training.....\n",
      "1\n",
      "11\n",
      "21\n",
      "\t done with training.....\n",
      "using device cuda:0\n",
      "\t start training.....\n",
      "1\n"
     ]
    }
   ],
   "source": [
    "# df_performance_train = []\n",
    "# df_performance_val = []\n",
    "df_performance_train = pd.DataFrame()\n",
    "df_performance_val = pd.DataFrame()\n",
    "\n",
    "# df_outputlabel_train = []\n",
    "# df_outputlabel_val = []\n",
    "df_outputlabel_train = pd.DataFrame()\n",
    "df_outputlabel_val = pd.DataFrame()\n",
    "\n",
    "\n",
    "for subject_id in training_params['subject_ids']:\n",
    "# for subject_id in training_params['subject_ids'][::-1]:\n",
    "#     if subject_id != 113:\n",
    "#         continue\n",
    "\n",
    "    training_params['CV_config']['subject_id'] = subject_id\n",
    "\n",
    "\n",
    "    device = torch.device('cuda:{}'.format(int(training_params['cuda_i'])) if torch.cuda.is_available() else 'cpu')\n",
    "    print('using device', device)\n",
    "\n",
    "    model = model.to(device).float()\n",
    "\n",
    "    optimizer = torch.optim.Adam(model.parameters(), lr=training_params['learning_rate'], weight_decay=0.01)\n",
    "\n",
    "    training_params['criterion'] = criterion\n",
    "    training_params['optimizer'] = optimizer\n",
    "    training_params['inputdir'] = inputdir\n",
    "\n",
    "    CV_dict = train_model(model, training_params, trainer, evaler, preder)\n",
    "    plot_losses(CV_dict, outputdir=outputdir, show_plot=False)\n",
    "\n",
    "    for task in training_params['tasks']:\n",
    "        label_est_val = CV_dict['performance_dict_val']['out_dict'][task]\n",
    "        label_val = CV_dict['performance_dict_val']['label_dict'][task]\n",
    "\n",
    "        label_est_train = CV_dict['performance_dict_train']['out_dict'][task]\n",
    "        label_train = CV_dict['performance_dict_train']['label_dict'][task]\n",
    "\n",
    "#         df_performance_train = get_df_performance(df_performance_train, label_train, label_est_train, task, subject_id)\n",
    "#         df_performance_val = get_df_performance(df_performance_val, label_val, label_est_val, task, subject_id)\n",
    "\n",
    "\n",
    "        \n",
    "        df_performance_train = df_performance_train.append( get_df_performance2(label_train, label_est_train, subject_id, task), ignore_index=True )\n",
    "        df_performance_train.to_csv(outputdir+'df_performance_train.csv', index=False)\n",
    "\n",
    "        df_performance_val = df_performance_val.append( get_df_performance2(label_val, label_est_val, subject_id, task), ignore_index=True )\n",
    "        df_performance_val.to_csv(outputdir+'df_performance_val.csv', index=False)\n",
    "\n",
    "#         df_outputlabel_val.append(\n",
    "#             pd.DataFrame( {\n",
    "#             'label_est': label_est_val,\n",
    "#             'label': label_val,\n",
    "#             'CV': [subject_id]*label_val.shape[0],\n",
    "#             'task': [task]*label_val.shape[0]\n",
    "#             }) )\n",
    "#         df_outputlabel_train.append(\n",
    "#             pd.DataFrame( {\n",
    "#             'label_est': label_est_train,\n",
    "#             'label': label_train,\n",
    "#             'CV': [subject_id]*label_train.shape[0],\n",
    "#             'task': [task]*label_train.shape[0]\n",
    "#             }) )\n",
    "        \n",
    "        \n",
    "        df_outputlabel_val = df_outputlabel_val.append(\n",
    "            pd.DataFrame( {\n",
    "            'label_est': label_est_val,\n",
    "            'label': label_val,\n",
    "            'CV': [subject_id]*label_val.shape[0],\n",
    "            'task': [task]*label_val.shape[0]\n",
    "            }), ignore_index=True )\n",
    "        \n",
    "        df_outputlabel_val.to_csv(outputdir+'df_outputlabel_val.csv', index=False)\n",
    "\n",
    "        df_outputlabel_train = df_outputlabel_train.append(\n",
    "            pd.DataFrame( {\n",
    "            'label_est': label_est_train,\n",
    "            'label': label_train,\n",
    "            'CV': [subject_id]*label_train.shape[0],\n",
    "            'task': [task]*label_train.shape[0]\n",
    "            }), ignore_index=True )\n",
    "        \n",
    "        df_outputlabel_train.to_csv(outputdir+'df_outputlabel_train.csv', index=False)\n",
    "\n"
   ]
  },
  {
   "cell_type": "code",
   "execution_count": null,
   "metadata": {},
   "outputs": [],
   "source": [
    "# df_outputlabel_val =  pd.DataFrame()\n",
    "# df_outputlabel_val.append(\n",
    "#     pd.DataFrame( {\n",
    "#     'label_est': label_est_val,\n",
    "#     'label': label_val,\n",
    "#     'CV': [subject_id]*label_val.shape[0],\n",
    "#     'task': [task]*label_val.shape[0]\n",
    "#     }), ignore_index=True )\n",
    "# df_outputlabel_val.append(\n",
    "#     pd.DataFrame( {\n",
    "#     'label_est': label_est_val,\n",
    "#     'label': label_val,\n",
    "#     'CV': [subject_id]*label_val.shape[0],\n",
    "#     'task': [task]*label_val.shape[0]\n",
    "#     }), ignore_index=True )\n",
    "# df_outputlabel_val.append(\n",
    "#     pd.DataFrame( {\n",
    "#     'label_est': label_est_val,\n",
    "#     'label': label_val,\n",
    "#     'CV': [subject_id]*label_val.shape[0],\n",
    "#     'task': [task]*label_val.shape[0]\n",
    "#     }), ignore_index=True )\n",
    "\n",
    "# # df_outputlabel_val.append(\n",
    "# # pd.DataFrame({\n",
    "# #             'label_est': label_est_val,\n",
    "# #             'label': label_val,\n",
    "# #             'CV': [subject_id]*label_val.shape[0],\n",
    "# #             'task': [task]*label_val.shape[0]\n",
    "# #             })\n",
    "# #            , ignore_index=True)"
   ]
  },
  {
   "cell_type": "code",
   "execution_count": null,
   "metadata": {},
   "outputs": [],
   "source": [
    "# df_performance_train = pd.concat(df_performance_train)\n",
    "# df_performance_val = pd.concat(df_performance_val)\n",
    "\n",
    "# # df_outputlabel_train = pd.concat(df_outputlabel_train)\n",
    "# # df_outputlabel_val = pd.concat(df_outputlabel_val)"
   ]
  },
  {
   "cell_type": "code",
   "execution_count": null,
   "metadata": {},
   "outputs": [],
   "source": [
    "df_performance_val['rmse'].mean(), df_performance_val['mae'].mean(), df_performance_val['mape'].mean()"
   ]
  },
  {
   "cell_type": "code",
   "execution_count": null,
   "metadata": {},
   "outputs": [],
   "source": []
  },
  {
   "cell_type": "code",
   "execution_count": null,
   "metadata": {},
   "outputs": [],
   "source": []
  },
  {
   "cell_type": "code",
   "execution_count": null,
   "metadata": {},
   "outputs": [],
   "source": []
  },
  {
   "cell_type": "code",
   "execution_count": null,
   "metadata": {},
   "outputs": [],
   "source": []
  },
  {
   "cell_type": "code",
   "execution_count": null,
   "metadata": {},
   "outputs": [],
   "source": [
    "    \n",
    "# def plot_regression_partial(ax, subjects_performance_dict, subject_id_plt, training_params,outputdir=None, show_plot=False, log_wandb=False):\n",
    "\n",
    "#     agg_performance_dict = aggregate_performance_dict(subjects_performance_dict)\n",
    "\n",
    "#     props = dict(boxstyle='round,pad=0.7', facecolor='white', edgecolor='black', alpha=0.7)\n",
    "#     fontsize = 16\n",
    "\n",
    "#     subject_ids = list(subjects_performance_dict.keys())\n",
    "#     N_beats_val = 0\n",
    "\n",
    "\n",
    "#     for subject_id in subject_ids:\n",
    "#         if int(subject_id)//100 == 0:\n",
    "#             marker = marker_dict['x']\n",
    "#         elif int(subject_id)//100 == 1:\n",
    "#             marker = marker_dict['circle']\n",
    "\n",
    "#         performance_dict = subjects_performance_dict[subject_id]\n",
    "\n",
    "#         SpO2_val = performance_dict['SpO2_val']\n",
    "#         SpO2_est_val = performance_dict['SpO2_est_val']\n",
    "\n",
    "\n",
    "#         color = color_dict[color_names[int(subject_id)%100]]\n",
    "\n",
    "#         if subject_id == subject_id_plt:\n",
    "#             alpha=0.6\n",
    "#             ax.set_title('{}'.format(subject_id), fontsize=fontsize+5)\n",
    "#             rmse_val = performance_dict['rmse_val']\n",
    "#         else:\n",
    "#             alpha=0.03\n",
    "\n",
    "#         ax.scatter(SpO2_val, SpO2_est_val, alpha=alpha, color=color, marker=marker)\n",
    "\n",
    "#         N_beats_val += SpO2_val.shape[0]\n",
    "        \n",
    "    \n",
    "#     performance_dict = subjects_performance_dict[subject_id_plt]\n",
    "# #     print(training_params['use_calibration'], subjects_performance_dict.keys())\n",
    "#     if training_params['use_calibration']:\n",
    "#         if 'SpO2_cal_range' in performance_dict:\n",
    "#             SpO2_cal_range = performance_dict['SpO2_cal_range']\n",
    "#             subject_id_plt = str(subject_id_plt) + '\\n[' + r'$SpO_{2}$' + ' range: {:.1f}-{:.1f}%]'.format(SpO2_cal_range[0], SpO2_cal_range[1])\n",
    "#     ax_conditioning2(ax, subject_id_plt, fontsize, props, 'RMSE={:.2f}%'.format(rmse_val))\n",
    "    \n",
    "    "
   ]
  },
  {
   "cell_type": "code",
   "execution_count": null,
   "metadata": {},
   "outputs": [],
   "source": [
    "        \n",
    "# def ax_conditioning(ax, title_str, fontsize, props, textstr):\n",
    "#     ax.set_title(title_str, fontsize=fontsize+5)\n",
    "\n",
    "#     ax.set_ylabel(r'$SpO_{2}$'+' estimated (%)', fontsize=fontsize)\n",
    "#     ax.set_xlabel(r'$SpO_{2}$'+' label (%)', fontsize=fontsize)\n",
    "\n",
    "#     major_ticks = np.arange(label_range_dict['SpO2'][0],label_range_dict['SpO2'][1]+1,5)\n",
    "#     minor_ticks = np.arange(label_range_dict['SpO2'][0],label_range_dict['SpO2'][1]+1)\n",
    "\n",
    "#     ax.set_xticks(major_ticks)\n",
    "#     ax.set_xticks(minor_ticks, minor=True)\n",
    "#     ax.set_yticks(major_ticks)\n",
    "#     ax.set_yticks(minor_ticks, minor=True)\n",
    "#     # Or if you want different settings for the grids:\n",
    "#     ax.grid(which='minor', alpha=0.3)\n",
    "#     ax.grid(which='major', alpha=0.8)\n",
    "\n",
    "\n",
    "#     ax.plot( label_range_dict['SpO2'],label_range_dict['SpO2'] , color='gray', alpha=0.5)\n",
    "# #     ax.legend(loc='upper left', frameon=True, fontsize=fontsize-7)\n",
    "\n",
    "\n",
    "#     # place a text box in bottom right in axes coords\n",
    "# #     ax.text(0.5, 0.08, textstr, transform=ax.transAxes, fontsize=fontsize-5,\n",
    "# #     verticalalignment='bottom', horizontalalignment='left', bbox=props)\n",
    "#     ax.set_ylim(label_range_dict['SpO2'])\n",
    "#     ax.set_xlim(label_range_dict['SpO2'])\n",
    "    \n",
    "    "
   ]
  },
  {
   "cell_type": "code",
   "execution_count": null,
   "metadata": {},
   "outputs": [],
   "source": [
    "# sns.scatterplot(data=df_outputlabel_train, x='label', y='label_est', hue='CV', palette=subject_palette)"
   ]
  },
  {
   "cell_type": "code",
   "execution_count": null,
   "metadata": {},
   "outputs": [],
   "source": []
  },
  {
   "cell_type": "code",
   "execution_count": null,
   "metadata": {},
   "outputs": [],
   "source": []
  },
  {
   "cell_type": "code",
   "execution_count": null,
   "metadata": {},
   "outputs": [],
   "source": [
    "def ax_no_top_right(ax):\n",
    "    ax.spines['right'].set_visible(False)\n",
    "    ax.spines['top'].set_visible(False)\n",
    "\n"
   ]
  },
  {
   "cell_type": "code",
   "execution_count": null,
   "metadata": {},
   "outputs": [],
   "source": []
  },
  {
   "cell_type": "code",
   "execution_count": null,
   "metadata": {},
   "outputs": [],
   "source": [
    "df_performance_val['rmse'].mean(), df_performance_val['mae'].mean(), df_performance_val['mape'].mean()"
   ]
  },
  {
   "cell_type": "code",
   "execution_count": null,
   "metadata": {},
   "outputs": [],
   "source": []
  },
  {
   "cell_type": "code",
   "execution_count": null,
   "metadata": {},
   "outputs": [],
   "source": [
    "def plot_regression(df_outputlabel_val, df_performance_val, task, show_plot=False, outputdir=None):\n",
    "\n",
    "    fig, ax = plt.subplots(1,1, figsize=(5, 5), dpi=150, facecolor='white')\n",
    "    props = dict(boxstyle='round,pad=0.7', facecolor='white', edgecolor='black', alpha=0.7)\n",
    "    fontsize = 16\n",
    "    alpha=0.1\n",
    "\n",
    "    task_name = task.split('_')[0]\n",
    "    sc = sns.scatterplot(data=df_outputlabel_val, x='label', y='label_est', hue='CV',  ec=\"None\", palette=subject_palette, alpha=alpha, s=50, marker='o', ax=ax)\n",
    "    # sc.set_edgecolor(\"none\")\n",
    "\n",
    "    # ax.scatter(bbb['label_est'], bbb['label'], alpha=0.1)\n",
    "\n",
    "    label_range = [my_floor(df_outputlabel_val[['label', 'label_est']].min().min()), my_ceil(df_outputlabel_val[['label', 'label_est']].max().max())]\n",
    "\n",
    "    N_sub = len(df_outputlabel_val['CV'].unique())\n",
    "    N_samples = df_outputlabel_val.shape[0]\n",
    "    t_dur = N_samples*3/60\n",
    "    PCC = get_PCC(df_outputlabel_val['label'], df_outputlabel_val['label_est'])\n",
    "    Rsquared = get_CoeffDeterm(df_outputlabel_val['label'], df_outputlabel_val['label_est'])\n",
    "\n",
    "\n",
    "\n",
    "    title_str = '{} range: {:.1f}-{:.1f} {}'.format(task.split('_')[0], label_range[0], label_range[1], unit_dict[task_name])\n",
    "    textstr = 'RMSE={:.2f} {}\\nMAE={:.2f} {}\\nMAPE={:.2f} {}\\nPCC={:.2f}\\nR2={:.2f}\\nN_sub={}\\nN_samples={}\\nduration={:.2f} min'.format(\n",
    "        df_performance_val['rmse'].mean(), unit_dict[task_name], df_performance_val['mae'].mean(), unit_dict[task_name], df_performance_val['mape'].mean()*100, '%',\n",
    "        PCC, Rsquared,\n",
    "        N_sub, N_samples, t_dur)\n",
    "\n",
    "    # ax_conditioning(ax, plt_title, fontsize, props, 'RMSE={:.2f}%'.format(df_performance_val['rmse'].mean()))\n",
    "\n",
    "    ax.set_title(title_str, fontsize=fontsize+5)\n",
    "\n",
    "    ax.set_ylabel('{} estimated ({})'.format(task.split('_')[0], unit_dict[task_name]), fontsize=fontsize)\n",
    "    ax.set_xlabel('{} label ({})'.format(task.split('_')[0], unit_dict[task_name]), fontsize=fontsize)\n",
    "\n",
    "\n",
    "    # major_ticks = np.arange( my_floor(label_range[0]), my_ceil(label_range[1]),5)\n",
    "    # minor_ticks = np.arange( my_floor(label_range[0]), my_ceil(label_range[1]))\n",
    "    major_ticks = np.arange(label_range[0],label_range[1]+1,5)\n",
    "    minor_ticks = np.arange(label_range[0],label_range[1]+1)\n",
    "\n",
    "    ax.set_xticks(major_ticks)\n",
    "    ax.set_xticks(minor_ticks, minor=True)\n",
    "    ax.set_yticks(major_ticks)\n",
    "    ax.set_yticks(minor_ticks, minor=True)\n",
    "    # Or if you want different settings for the grids:\n",
    "    ax.grid(which='minor', alpha=0.3)\n",
    "    ax.grid(which='major', alpha=0.8)\n",
    "\n",
    "\n",
    "    ax.plot( label_range,label_range , color='gray', alpha=0.5, linestyle='--')\n",
    "    ax.legend(frameon=True, fontsize=fontsize-7, bbox_to_anchor=(1.01, 1))\n",
    "\n",
    "\n",
    "    # # place a text box in bottom right in axes coords\n",
    "    ax.text(0.05, 0.65, textstr, transform=ax.transAxes, fontsize=fontsize-7,\n",
    "            verticalalignment='bottom', horizontalalignment='left', bbox=props)\n",
    "\n",
    "    ax.set_ylim(label_range)\n",
    "    ax.set_xlim(label_range)\n",
    "\n",
    "    ax_no_top_right(ax)\n",
    "\n",
    "    fig.tight_layout()\n",
    "    fig_name = 'regression_analysis'\n",
    "\n",
    "    if outputdir is not None:\n",
    "        if not os.path.exists(outputdir):\n",
    "            os.makedirs(outputdir)\n",
    "        fig.savefig(outputdir + fig_name + '.png', facecolor=fig.get_facecolor())\n",
    "\n",
    "    if show_plot == False:\n",
    "        plt.close(fig)\n",
    "        pyplot.close(fig)\n",
    "        plt.close('all')\n"
   ]
  },
  {
   "cell_type": "code",
   "execution_count": null,
   "metadata": {},
   "outputs": [],
   "source": [
    "plot_regression(df_outputlabel_val, df_performance_val, task, show_plot=True, outputdir=outputdir)\n"
   ]
  },
  {
   "cell_type": "code",
   "execution_count": null,
   "metadata": {},
   "outputs": [],
   "source": []
  },
  {
   "cell_type": "code",
   "execution_count": null,
   "metadata": {},
   "outputs": [],
   "source": [
    "import matplotlib.ticker as plticker\n",
    "\n",
    "# def BA_plotter(ax, df, mode):\n",
    "def plot_BA(df_outputlabel_val, task, show_plot=False, outputdir=None):\n",
    "    fig, ax = plt.subplots(1,1, figsize=(6, 5), dpi=150, facecolor='white')\n",
    "    task_name = task.split('_')[0]\n",
    "\n",
    "    label = df_outputlabel_val['label']\n",
    "    label_est =  df_outputlabel_val['label_est']\n",
    "\n",
    "    fontsize = 16\n",
    "    alpha=0.1\n",
    "        # plot Bland-Altman plot\n",
    "\n",
    "    data1     = label\n",
    "    data2     = label_est\n",
    "    mean      = np.mean([data1, data2], axis=0)\n",
    "    diff      = data1 - data2                   # Difference between data1 and data2\n",
    "    md        = np.mean(diff)                   # Mean of the difference\n",
    "    sd        = np.std(diff, axis=0)            # Standard deviation of the difference\n",
    "\n",
    "    diff_max = np.abs(diff).max()\n",
    "    #     # plot running average of the error along x-axis (TBD)\n",
    "    #     plot_smooth_err(ax, mean, diff)\n",
    "\n",
    "\n",
    "    ax.axhline(md,           color='gray', linestyle='--')\n",
    "    ax.axhline(md + 1.96*sd, color='gray', linestyle='--')\n",
    "    ax.axhline(md - 1.96*sd, color='gray', linestyle='--')\n",
    "\n",
    "\n",
    "    task_name = task.split('_')[0]\n",
    "\n",
    "    for subject_id in df_outputlabel_val['CV'].unique():\n",
    "\n",
    "        df_sub = df_outputlabel_val[df_outputlabel_val['CV']==subject_id]\n",
    "        label = df_sub['label']\n",
    "        label_est =  df_sub['label_est']\n",
    "\n",
    "        mean = np.mean([label_est, label], axis=0)\n",
    "        diff = label_est - label\n",
    "\n",
    "        ax.scatter(x=mean,y=diff, alpha=alpha, color=subject_palette[subject_id])\n",
    "\n",
    "\n",
    "    ax.set_ylim(-diff_max,diff_max)\n",
    "\n",
    "\n",
    "    ax.set_ylabel('Estimated {} - Reference {}\\n[{}]'.format(task_name, task_name, unit_dict[task_name]), fontsize=fontsize)\n",
    "    ax.set_xlabel('Average of Estimated and Reference {} [{}]'.format(task_name, unit_dict[task_name]), fontsize=fontsize)\n",
    "\n",
    "    #     ax.xaxis.grid(True, which='major')\n",
    "    #     ax.xaxis.grid(True, which='minor', alpha=0.4)\n",
    "    #     ax.yaxis.grid(True, which='major')\n",
    "    #     ax.yaxis.grid(True, which='minor', alpha=0.4)\n",
    "    ax.tick_params(axis='both', which='major', labelsize=fontsize)\n",
    "\n",
    "\n",
    "    #     ax.figure.set_size_inches(14, 7)\n",
    "    # ax.set_aspect(1.0/ax.get_data_ratio(), adjustable='box')\n",
    "    ax_no_top_right(ax)\n",
    "\n",
    "\n",
    "    fig.tight_layout()\n",
    "\n",
    "    fig_name = 'BA_analysis'\n",
    "\n",
    "    if outputdir is not None:\n",
    "        if not os.path.exists(outputdir):\n",
    "            os.makedirs(outputdir)\n",
    "        fig.savefig(outputdir + fig_name + '.png', facecolor=fig.get_facecolor())\n",
    "\n",
    "    if show_plot == False:\n",
    "        plt.close(fig)\n",
    "        pyplot.close(fig)\n",
    "        plt.close('all')\n"
   ]
  },
  {
   "cell_type": "code",
   "execution_count": null,
   "metadata": {},
   "outputs": [],
   "source": [
    "plot_BA(df_outputlabel_val, task, show_plot=True, outputdir=outputdir)\n"
   ]
  },
  {
   "cell_type": "code",
   "execution_count": null,
   "metadata": {},
   "outputs": [],
   "source": [
    "# plt.plot(df_outputlabel_val['label_est'])\n",
    "# plt.plot(df_outputlabel_val['label'])"
   ]
  },
  {
   "cell_type": "code",
   "execution_count": null,
   "metadata": {},
   "outputs": [],
   "source": []
  },
  {
   "cell_type": "code",
   "execution_count": null,
   "metadata": {},
   "outputs": [],
   "source": []
  },
  {
   "cell_type": "code",
   "execution_count": null,
   "metadata": {},
   "outputs": [],
   "source": [
    "sys.exit()"
   ]
  },
  {
   "cell_type": "code",
   "execution_count": null,
   "metadata": {},
   "outputs": [],
   "source": []
  },
  {
   "cell_type": "markdown",
   "metadata": {},
   "source": [
    "# 2/21 3:00pm"
   ]
  },
  {
   "cell_type": "code",
   "execution_count": null,
   "metadata": {},
   "outputs": [],
   "source": [
    "df_performance_val['rmse'].mean(), df_performance_val['mae'].mean(), df_performance_val['mape'].mean()"
   ]
  },
  {
   "cell_type": "code",
   "execution_count": null,
   "metadata": {},
   "outputs": [],
   "source": [
    "\n",
    "    \n",
    "    \n",
    "#     print('evaluating task:', task)\n",
    "#     MAE, std_AE = get_MAE(performance_dict_train['out_dict'][task], performance_dict_train['label_dict'][task])\n",
    "#     print('\\ttrainin: {:.2f}, {:.2f}'.format(MAE, std_AE))\n",
    "\n",
    "#     MAE, std_AE = get_MAE(performance_dict_val['out_dict'][task], performance_dict_val['label_dict'][task])\n",
    "#     print('\\tval: {:.2f}, {:.2f}'.format(MAE, std_AE))\n",
    "\n",
    "#     CV_dict[task+'_RMSE']"
   ]
  },
  {
   "cell_type": "code",
   "execution_count": null,
   "metadata": {},
   "outputs": [],
   "source": []
  },
  {
   "cell_type": "code",
   "execution_count": null,
   "metadata": {},
   "outputs": [],
   "source": []
  },
  {
   "cell_type": "code",
   "execution_count": null,
   "metadata": {},
   "outputs": [],
   "source": [
    "\n",
    "\n",
    "# rmse_train = np.sqrt(mean_squared_error(label_train, label_est_train))\n",
    "# rmse_val = np.sqrt(mean_squared_error(label_val, label_est_val))\n",
    "\n",
    "# mae_train, _ = get_MAE(label_train, label_est_train)\n",
    "# mape_train, _ = get_MAPE(label_train, label_est_train)\n",
    "\n",
    "# mae_val, _ = get_MAE(label_val, label_est_val)\n",
    "# mape_val, _ = get_MAPE(label_val, label_est_val)\n",
    "\n",
    "# Rsquared_train = get_CoeffDeterm(label=label_train, predictions=label_est_train)\n",
    "# Rsquared_val = get_CoeffDeterm(label=label_val, predictions=label_est_val)\n",
    "\n",
    "# df_performance_val.append(pd.DataFrame({\n",
    "#     'CV': subject_id,\n",
    "#     'Rsquared_val': Rsquared_val,\n",
    "#     'rmse_val': rmse_val,\n",
    "#     'mae_val': mae_val,\n",
    "#     'mape_val': mape_val,\n",
    "# }))\n",
    "\n",
    "# df_performance_train.append(pd.DataFrame({\n",
    "#     'CV': subject_id,\n",
    "#     'Rsquared_val': Rsquared_train,\n",
    "#     'rmse_val': rmse_train,\n",
    "#     'mae_val': mae_train,\n",
    "#     'mape_val': mape_train,\n",
    "# }))"
   ]
  },
  {
   "cell_type": "code",
   "execution_count": null,
   "metadata": {},
   "outputs": [],
   "source": [
    "# # label_val = CV_dict['performance_dict_val']['label_dict'][task]\n",
    "# df_performance = []\n",
    "# label_est = CV_dict['performance_dict_train']['out_dict'][task]\n",
    "# label = CV_dict['performance_dict_train']['label_dict'][task]\n",
    "\n",
    "\n",
    "\n",
    "# rmse = np.sqrt(mean_squared_error(label, label_est))\n",
    "\n",
    "# mae, _ = get_MAE(label, label_est)\n",
    "# mape, _ = get_MAPE(label, label_est)\n",
    "\n",
    "# Rsquared = get_CoeffDeterm(label=label, predictions=label_est)\n",
    "\n",
    "# df_performance.append(pd.DataFrame({\n",
    "#     'CV': [subject_id],\n",
    "#     'Rsquared': [Rsquared],\n",
    "#     'rmse': [rmse],\n",
    "#     'mae': [mae],\n",
    "#     'mape': [mape],\n",
    "# }))"
   ]
  },
  {
   "cell_type": "code",
   "execution_count": null,
   "metadata": {},
   "outputs": [],
   "source": [
    "# rmse, mae, mape, Rsquared"
   ]
  },
  {
   "cell_type": "code",
   "execution_count": null,
   "metadata": {},
   "outputs": [],
   "source": []
  },
  {
   "cell_type": "code",
   "execution_count": null,
   "metadata": {},
   "outputs": [],
   "source": []
  },
  {
   "cell_type": "code",
   "execution_count": null,
   "metadata": {},
   "outputs": [],
   "source": []
  },
  {
   "cell_type": "code",
   "execution_count": null,
   "metadata": {},
   "outputs": [],
   "source": []
  },
  {
   "cell_type": "code",
   "execution_count": null,
   "metadata": {},
   "outputs": [],
   "source": []
  },
  {
   "cell_type": "code",
   "execution_count": null,
   "metadata": {},
   "outputs": [],
   "source": []
  },
  {
   "cell_type": "code",
   "execution_count": null,
   "metadata": {},
   "outputs": [],
   "source": []
  },
  {
   "cell_type": "code",
   "execution_count": null,
   "metadata": {},
   "outputs": [],
   "source": []
  },
  {
   "cell_type": "code",
   "execution_count": null,
   "metadata": {},
   "outputs": [],
   "source": [
    "performance_dict_train = preder(model, dataloaders['train'], training_params)\n",
    "performance_dict_val = preder(model, dataloaders['val'], training_params)\n",
    "\n",
    "for task in training_params['tasks']:\n",
    "    print('evaluating task:', task)\n",
    "    MAE, std_AE = get_MAE(performance_dict_train['out_dict'][task], performance_dict_train['label_dict'][task])\n",
    "    print('\\ttrainin: {:.2f}, {:.2f}'.format(MAE, std_AE))\n",
    "\n",
    "    MAE, std_AE = get_MAE(performance_dict_val['out_dict'][task], performance_dict_val['label_dict'][task])\n",
    "    print('\\tval: {:.2f}, {:.2f}'.format(MAE, std_AE))\n",
    "\n"
   ]
  },
  {
   "cell_type": "code",
   "execution_count": null,
   "metadata": {},
   "outputs": [],
   "source": []
  },
  {
   "cell_type": "code",
   "execution_count": null,
   "metadata": {},
   "outputs": [],
   "source": []
  },
  {
   "cell_type": "markdown",
   "metadata": {},
   "source": [
    "# get faeture maps"
   ]
  },
  {
   "cell_type": "code",
   "execution_count": null,
   "metadata": {},
   "outputs": [],
   "source": []
  },
  {
   "cell_type": "code",
   "execution_count": null,
   "metadata": {},
   "outputs": [],
   "source": [
    "activation = {}\n",
    "def get_activation(name):\n",
    "    def hook(model, input, output):\n",
    "        activation[name] = output.detach()\n",
    "    return hook\n",
    "\n",
    "\n",
    "data = torch.from_numpy(dataloaders['val'].dataset.data)\n",
    "feature = torch.from_numpy(dataloaders['val'].dataset.feature)\n",
    "data = data.to(device).float()\n",
    "feature = feature.to(device).float()\n",
    "# model = MyModel()\n",
    "model.feature_extractor.layer1.register_forward_hook(get_activation('layer1'))\n",
    "model.feature_extractor.layer2.register_forward_hook(get_activation('layer2'))\n",
    "model.feature_extractor.layer3.register_forward_hook(get_activation('layer3'))\n",
    "model.feature_extractor.layer4.register_forward_hook(get_activation('layer4'))\n",
    "model.feature_extractor.layer5.register_forward_hook(get_activation('layer5'))\n",
    "model.feature_extractor.layer6.register_forward_hook(get_activation('layer6'))\n",
    "# model.feature_extractor.layer7.register_forward_hook(get_activation('layer7'))\n",
    "# model.regressors.RR_cosmed.fc1.register_forward_hook(get_activation('RR_fc1'))\n",
    "# x = torch.randn(1, 25)\n",
    "output = model(data, feature)\n",
    "print(activation['layer1'].size())\n",
    "print(activation['layer2'].size())\n",
    "print(activation['layer3'].size())\n",
    "print(activation['layer4'].size())\n",
    "print(activation['layer5'].size())\n",
    "print(activation['layer6'].size())\n",
    "# print(activation['layer7'].size())\n",
    "# print(activation['RR_fc1'].size())"
   ]
  },
  {
   "cell_type": "code",
   "execution_count": null,
   "metadata": {},
   "outputs": [],
   "source": [
    "data = data.cpu().detach().numpy()\n",
    "\n",
    "data_layer1 = activation['layer1'].cpu().detach().numpy()\n",
    "data_layer2 = activation['layer2'].cpu().detach().numpy()\n",
    "data_layer3 = activation['layer3'].cpu().detach().numpy()\n",
    "data_layer4 = activation['layer4'].cpu().detach().numpy()\n",
    "data_layer5 = activation['layer5'].cpu().detach().numpy()\n",
    "data_layer6 = activation['layer6'].cpu().detach().numpy()\n",
    "# data_layer7 = activation['layer7'].cpu().detach().numpy()"
   ]
  },
  {
   "cell_type": "code",
   "execution_count": null,
   "metadata": {},
   "outputs": [],
   "source": [
    "dataloaders['train'].dataset.label[0,:]"
   ]
  },
  {
   "cell_type": "code",
   "execution_count": null,
   "metadata": {},
   "outputs": [],
   "source": [
    "dataloaders['train'].dataset.label.shape"
   ]
  },
  {
   "cell_type": "code",
   "execution_count": null,
   "metadata": {},
   "outputs": [],
   "source": [
    "\n",
    "i = 10\n",
    "# i = 20\n",
    "\n",
    "data_layer = data_layer5\n",
    "\n",
    "fig, axes = plt.subplots(data_layer.shape[1]+1,1, figsize=(20,data_layer.shape[1]), dpi=80, gridspec_kw = {'wspace':0, 'hspace':0})\n",
    "fontsize = 15\n",
    "\n",
    "FS_RESAMPLE_DL = training_params['FS_RESAMPLE_DL']\n",
    "\n",
    "t_arr = np.arange(data.shape[-1])/FS_RESAMPLE_DL\n",
    "# fig, ax = plt.subplots(1,1, figsize=(20,1), dpi=80, gridspec_kw = {'wspace':0, 'hspace':0})\n",
    "ax = axes[0]\n",
    "ax.plot(t_arr, data[i,0,:])\n",
    "ax.set_xlim(t_arr.min(), t_arr.max()) # remove the weird white space at the beg and end of the plot\n",
    "ax.set_ylabel('ECG [mV]', fontsize=fontsize,rotation = 0,  va='center', ha='center',  labelpad=100)\n",
    "\n",
    "# RR = dataloaders['train'].dataset.label[i,:][1]\n",
    "# ax.set_title('ECG and CNN intermediate output\\nRR={:.3f}bpm ({:.3f} breaths)'.format(RR, RR/2), fontsize=fontsize*1.5)\n",
    "\n",
    "\n",
    "t_arr = np.arange(data_layer.shape[-1])/FS_RESAMPLE_DL\n",
    "for j, ax in enumerate(axes[1:]):\n",
    "\n",
    "    if j<len(axes)-2:\n",
    "        ax.set_xticklabels([])\n",
    "        \n",
    "        \n",
    "    ax.plot(t_arr, data_layer[i, j, :].T, alpha=1)\n",
    "#     ax.plot(t_arr, data_layer.mean(axis=1).T[:,j], alpha=1)\n",
    "    \n",
    "    ax.set_xlim(t_arr.min(), t_arr.max()) # remove the weird white space at the beg and end of the plot\n",
    "    # remove some borders (top and right)\n",
    "    ax.spines['right'].set_visible(False)\n",
    "    if j==0:\n",
    "        ax.spines['top'].set_visible(False)\n",
    "        \n",
    "    ax.set_ylabel('channel {}'.format(j), fontsize=fontsize,rotation = 0,  va='center', ha='center',  labelpad=100)\n",
    "    # set tick font size\n",
    "    ax.tick_params(axis='both', which='major', labelsize=fontsize*0.8)\n",
    "\n",
    "    ax.set_xlabel('time (sec)', fontsize=fontsize)\n",
    "    fig.subplots_adjust(wspace=0, hspace=0)\n",
    "\n"
   ]
  },
  {
   "cell_type": "code",
   "execution_count": null,
   "metadata": {},
   "outputs": [],
   "source": []
  },
  {
   "cell_type": "code",
   "execution_count": null,
   "metadata": {},
   "outputs": [],
   "source": [
    "\n",
    "i = 0\n",
    "\n",
    "\n",
    "# data_layer7 = activation['layer7'].numpy()\n",
    "data_input = aaa.numpy()\n",
    "\n",
    "\n",
    "fig, (ax1, ax2, ax3, ax4, ax5,ax6, ax7) = plt.subplots(7,1, figsize=(20,10), dpi=80)\n",
    "ax1.plot(data_input[i,:,:].T, alpha=0.3)\n",
    "ax2.plot(data_layer1[i, 1, :].T, alpha=0.3)\n",
    "ax3.plot(data_layer2[i, 1, :].T, alpha=0.3)\n",
    "ax4.plot(data_layer3[i, 1, :].T, alpha=0.3)\n",
    "ax5.plot(data_layer4[i, 1, :].T, alpha=0.3)\n",
    "ax6.plot(data_layer5[i, 1, :].T, alpha=0.3)\n",
    "ax7.plot(data_layer6[i, 0, :].T, alpha=0.3)\n",
    "# ax.plot(data_layer1[i, 1, :])\n",
    "fig.tight_layout()\n",
    "plt.show()"
   ]
  },
  {
   "cell_type": "code",
   "execution_count": null,
   "metadata": {},
   "outputs": [],
   "source": []
  },
  {
   "cell_type": "code",
   "execution_count": null,
   "metadata": {},
   "outputs": [],
   "source": []
  },
  {
   "cell_type": "code",
   "execution_count": null,
   "metadata": {},
   "outputs": [],
   "source": [
    "aaa = torch.from_numpy(dataloaders['train'].dataset.data)\n",
    "aaa = aaa.to(device).float()\n",
    "output = model(aaa)\n",
    "\n",
    "out = model.feature_extractor.layer1[0](aaa)\n",
    "out2 = model.feature_extractor.layer2[0](out)\n",
    "out3 = model.feature_extractor.layer3[0](out2)\n",
    "\n",
    "# featuremaps = [extractor.CNN_layers[0](img)]\n",
    "# for x in range(1, len(extractor.CNN_layers)):\n",
    "#     featuremaps.append(extractor.CNN_layers[x](featuremaps[-1]))\n"
   ]
  },
  {
   "cell_type": "code",
   "execution_count": null,
   "metadata": {},
   "outputs": [],
   "source": [
    "aaa.data.numpy().shape\n",
    "\n",
    "out.shape, out2.shape, out3.shape"
   ]
  },
  {
   "cell_type": "code",
   "execution_count": null,
   "metadata": {},
   "outputs": [],
   "source": []
  },
  {
   "cell_type": "code",
   "execution_count": null,
   "metadata": {},
   "outputs": [],
   "source": [
    "model.layer1[0]"
   ]
  },
  {
   "cell_type": "code",
   "execution_count": null,
   "metadata": {},
   "outputs": [],
   "source": []
  },
  {
   "cell_type": "markdown",
   "metadata": {},
   "source": [
    "# produce output figures\n",
    "# TODO: implement the plotting functions below"
   ]
  },
  {
   "cell_type": "markdown",
   "metadata": {},
   "source": [
    "# TODO!!!!\n",
    "\n",
    "# for task in tasks\n",
    "#     plot_loss vs epoch (train and val)\n",
    "#     plot_MAE, RMSE, vs epoch (train and val)\n",
    "#     plot scatter plots (show PCC, BD, std, ect.) (just val)\n",
    "#     plot output vs. label (just val)"
   ]
  },
  {
   "cell_type": "code",
   "execution_count": null,
   "metadata": {},
   "outputs": [],
   "source": []
  },
  {
   "cell_type": "code",
   "execution_count": null,
   "metadata": {},
   "outputs": [],
   "source": [
    "output_name = training_params['output_names'][0].split('_')[0]\n",
    "unit_dict[output_name]"
   ]
  },
  {
   "cell_type": "code",
   "execution_count": null,
   "metadata": {},
   "outputs": [],
   "source": [
    "# kcalpmin2watt = 69.7333333\n",
    "\n",
    "# sub_weight = 76"
   ]
  },
  {
   "cell_type": "code",
   "execution_count": null,
   "metadata": {},
   "outputs": [],
   "source": [
    "# performance_dict_train['label_dict']"
   ]
  },
  {
   "cell_type": "code",
   "execution_count": null,
   "metadata": {},
   "outputs": [],
   "source": [
    "training_params['tasks']"
   ]
  },
  {
   "cell_type": "code",
   "execution_count": null,
   "metadata": {},
   "outputs": [],
   "source": [
    "for task in training_params['tasks']:\n",
    "    fig, (ax1, ax2) = plt.subplots(1,2, figsize=(10,5), dpi=100)\n",
    "    fontsize = 15\n",
    "    data_min = np.min(np.r_[performance_dict_train['out_dict'][task], performance_dict_train['label_dict'][task]])\n",
    "    data_max = np.max(np.r_[performance_dict_train['out_dict'][task], performance_dict_train['label_dict'][task]])\n",
    "    ax1.scatter(performance_dict_train['out_dict'][task], performance_dict_train['label_dict'][task], alpha=0.3)\n",
    "    ax1.set_xlim(data_min, data_max)\n",
    "    ax1.set_ylim(data_min, data_max)\n",
    "    ax1.plot( [data_min, data_max],[data_min, data_max], '--', color='gray', alpha=0.8)\n",
    "\n",
    "    ax1.set_xlabel('estimated {} ({})'.format(task.split('_')[0], unit_dict[task.split('_')[0]]), fontsize=fontsize)\n",
    "    ax1.set_ylabel('true {} ({})'.format(task.split('_')[0], unit_dict[task.split('_')[0]]), fontsize=fontsize)\n",
    "#     ax.set_xlabel('estimated {} ({})'.format(output_name, 'W'), fontsize=fontsize)\n",
    "#     ax.set_ylabel('true {} ({})'.format(output_name, 'W'), fontsize=fontsize)\n",
    "\n",
    "\n",
    "\n",
    "#     fig, ax = plt.subplots(figsize=(5,5))\n",
    "#     fontsize = 15\n",
    "    data_min = np.min(np.r_[performance_dict_val['out_dict'][task], performance_dict_val['label_dict'][task]])\n",
    "    data_max = np.max(np.r_[performance_dict_val['out_dict'][task], performance_dict_val['label_dict'][task]])\n",
    "    ax2.scatter(performance_dict_val['out_dict'][task], performance_dict_val['label_dict'][task], alpha=0.3)\n",
    "    ax2.set_xlim(data_min, data_max)\n",
    "    ax2.set_ylim(data_min, data_max)\n",
    "    ax2.plot( [data_min, data_max],[data_min, data_max], '--', color='gray', alpha=0.8)\n",
    "\n",
    "    ax2.set_xlabel('estimated {} ({})'.format(task.split('_')[0], unit_dict[task.split('_')[0]]), fontsize=fontsize)\n",
    "    ax2.set_ylabel('true {} ({})'.format(task.split('_')[0], unit_dict[task.split('_')[0]]), fontsize=fontsize)\n",
    "#     ax.set_xlabel('estimated {} ({})'.format(output_name, 'W'), fontsize=fontsize)\n",
    "#     ax.set_ylabel('true {} ({})'.format(output_name, 'W'), fontsize=fontsize)\n",
    "    plt.show()\n",
    "\n"
   ]
  },
  {
   "cell_type": "code",
   "execution_count": null,
   "metadata": {},
   "outputs": [],
   "source": []
  },
  {
   "cell_type": "code",
   "execution_count": null,
   "metadata": {},
   "outputs": [],
   "source": []
  },
  {
   "cell_type": "code",
   "execution_count": null,
   "metadata": {},
   "outputs": [],
   "source": []
  },
  {
   "cell_type": "code",
   "execution_count": null,
   "metadata": {},
   "outputs": [],
   "source": []
  },
  {
   "cell_type": "code",
   "execution_count": null,
   "metadata": {},
   "outputs": [],
   "source": [
    "sys.exit()"
   ]
  },
  {
   "cell_type": "code",
   "execution_count": null,
   "metadata": {},
   "outputs": [],
   "source": []
  },
  {
   "cell_type": "code",
   "execution_count": null,
   "metadata": {},
   "outputs": [],
   "source": [
    "# for task in training_params['tasks']:\n",
    "#     fig, ax = plt.subplots(figsize=(5,5))\n",
    "#     fontsize = 15\n",
    "#     data_min = np.min(np.r_[performance_dict_val['out_dict'][task], performance_dict_val['label_dict'][task]])\n",
    "#     data_max = np.max(np.r_[performance_dict_val['out_dict'][task], performance_dict_val['label_dict'][task]])\n",
    "#     ax.scatter(performance_dict_val['out_dict'][task], performance_dict_val['label_dict'][task])\n",
    "#     ax.set_xlim(data_min, data_max)\n",
    "#     ax.set_ylim(data_min, data_max)\n",
    "#     ax.plot( [data_min, data_max],[data_min, data_max], '--', color='gray', alpha=0.8)\n",
    "\n",
    "#     ax.set_xlabel('estimated {} ({})'.format(task.split('_')[0], unit_dict[task.split('_')[0]]), fontsize=fontsize)\n",
    "#     ax.set_ylabel('true {} ({})'.format(task.split('_')[0], unit_dict[task.split('_')[0]]), fontsize=fontsize)\n",
    "# #     ax.set_xlabel('estimated {} ({})'.format(output_name, 'W'), fontsize=fontsize)\n",
    "# #     ax.set_ylabel('true {} ({})'.format(output_name, 'W'), fontsize=fontsize)\n",
    "#     plt.show()\n"
   ]
  },
  {
   "cell_type": "code",
   "execution_count": null,
   "metadata": {},
   "outputs": [],
   "source": [
    "# fig, ax = plt.subplots(figsize=(5,5))\n",
    "# fontsize = 15\n",
    "# data_min = np.min(np.r_[performance_dict_val['out_arr']*kcalpmin2watt*sub_weight, performance_dict_val['label_arr']*kcalpmin2watt*sub_weight])\n",
    "# data_max = np.max(np.r_[performance_dict_val['out_arr']*kcalpmin2watt*sub_weight, performance_dict_val['label_arr']*kcalpmin2watt*sub_weight])\n",
    "# ax.scatter(performance_dict_val['out_arr']*kcalpmin2watt*sub_weight, performance_dict_val['label_arr']*kcalpmin2watt*sub_weight)\n",
    "# # plt.plot(performance_dict_train['label_arr'])\n",
    "# ax.set_xlim(data_min, data_max)\n",
    "# ax.set_ylim(data_min, data_max)\n",
    "# ax.plot( [data_min, data_max],[data_min, data_max], '--', color='gray', alpha=0.8)\n",
    "\n",
    "# ax.set_xlabel('estimated {} ({})'.format(output_name, 'W'), fontsize=fontsize)\n",
    "# ax.set_ylabel('true {} ({})'.format(output_name, 'W'), fontsize=fontsize)\n",
    "# plt.show()"
   ]
  },
  {
   "cell_type": "code",
   "execution_count": null,
   "metadata": {},
   "outputs": [],
   "source": [
    "plt.figure(figsize=(100,3))\n",
    "plt.plot(performance_dict_train['out_arr'])\n",
    "plt.plot(performance_dict_train['label_arr'])\n",
    "plt.show()"
   ]
  },
  {
   "cell_type": "code",
   "execution_count": null,
   "metadata": {},
   "outputs": [],
   "source": [
    "fig, (ax1, ax2) = plt.subplots(2,1, figsize=(20,8))\n",
    "ax1.plot(performance_dict_val['out_arr'], '.r')\n",
    "ax1.plot(performance_dict_val['label_arr'], '.b')\n",
    "ax1.plot(performance_dict_val['meta_arr'][:,1]/30, '.g')\n",
    "plt.show()"
   ]
  },
  {
   "cell_type": "code",
   "execution_count": null,
   "metadata": {},
   "outputs": [],
   "source": []
  },
  {
   "cell_type": "code",
   "execution_count": null,
   "metadata": {},
   "outputs": [],
   "source": []
  },
  {
   "cell_type": "code",
   "execution_count": null,
   "metadata": {},
   "outputs": [],
   "source": []
  },
  {
   "cell_type": "code",
   "execution_count": null,
   "metadata": {},
   "outputs": [],
   "source": []
  },
  {
   "cell_type": "code",
   "execution_count": null,
   "metadata": {},
   "outputs": [],
   "source": []
  },
  {
   "cell_type": "code",
   "execution_count": null,
   "metadata": {},
   "outputs": [],
   "source": []
  }
 ],
 "metadata": {
  "kernelspec": {
   "display_name": "mienv",
   "language": "python",
   "name": "mienv"
  },
  "language_info": {
   "codemirror_mode": {
    "name": "ipython",
    "version": 3
   },
   "file_extension": ".py",
   "mimetype": "text/x-python",
   "name": "python",
   "nbconvert_exporter": "python",
   "pygments_lexer": "ipython3",
   "version": "3.7.16"
  }
 },
 "nbformat": 4,
 "nbformat_minor": 4
}
