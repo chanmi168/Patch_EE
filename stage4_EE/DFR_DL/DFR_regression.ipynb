{
 "cells": [
  {
   "cell_type": "code",
   "execution_count": 1,
   "metadata": {},
   "outputs": [],
   "source": [
    "import numpy as np\n",
    "np.random.seed(0) \n",
    "\n",
    "import argparse\n",
    "\n",
    "import os\n",
    "import math\n",
    "from math import sin\n",
    "\n",
    "import json\n",
    "\n",
    "import pandas as pd\n",
    "from sklearn.linear_model import LinearRegression\n",
    "from sklearn.metrics import mean_squared_error\n",
    "from xgboost import XGBRegressor\n",
    "\n",
    "import seaborn as sns\n",
    "\n",
    "import wandb\n",
    "\n",
    "import matplotlib\n",
    "import matplotlib.pyplot as plt\n",
    "plt.style.use('seaborn-white')\n",
    "matplotlib.rc( 'savefig', facecolor = 'white' )\n",
    "from matplotlib import pyplot\n",
    "%matplotlib inline\n",
    "\n",
    "import torch\n",
    "from torch.utils.data import Dataset, DataLoader\n",
    "import torch.nn as nn\n",
    "import torch.nn.functional as F\n",
    "import torchvision\n",
    "from torchvision import transforms, datasets, models\n",
    "from torchsummary import summary\n",
    "from torch.optim import LBFGS\n",
    "\n",
    "torch.manual_seed(0)\n",
    "\n",
    "i_seed = 0\n",
    "\n",
    "from datetime import datetime\n",
    "import pytz\n",
    "import pprint\n",
    "\n",
    "import sys\n",
    "sys.path.append('../') # add this line so Data and data are visible in this file\n",
    "sys.path.append('../../') # add this line so Data and data are visible in this file\n",
    "sys.path.append('../../PatchWand/') # add this line so Data and data are visible in this file\n",
    "\n",
    "# from PatchWand import *\n",
    "from plotting_tools import *\n",
    "from setting import *\n",
    "\n",
    "# from EE_extension.dataset_util import *\n",
    "\n",
    "from VO2_extension.models import *\n",
    "from VO2_extension.models_CNNlight import *\n",
    "from VO2_extension.SDT import *\n",
    "# from models_CNN import *\n",
    "# from models_CNN2 import *\n",
    "# from VO2_extension.models_resnet import *\n",
    "from VO2_extension.dataset_util import *\n",
    "from VO2_extension.training_util import *\n",
    "from VO2_extension.evaluation_util import *\n",
    "\n",
    "from evaluate import *\n",
    "\n",
    "from stage3_preprocess import *\n",
    "from stage4_regression import *\n",
    "from dataIO import *\n",
    "\n",
    "from importlib import reload\n",
    "%load_ext autoreload\n",
    "%autoreload 2"
   ]
  },
  {
   "cell_type": "code",
   "execution_count": null,
   "metadata": {},
   "outputs": [],
   "source": []
  },
  {
   "cell_type": "code",
   "execution_count": 12,
   "metadata": {},
   "outputs": [],
   "source": []
  },
  {
   "cell_type": "code",
   "execution_count": null,
   "metadata": {},
   "outputs": [],
   "source": []
  },
  {
   "cell_type": "code",
   "execution_count": null,
   "metadata": {},
   "outputs": [],
   "source": []
  },
  {
   "cell_type": "code",
   "execution_count": null,
   "metadata": {},
   "outputs": [],
   "source": []
  },
  {
   "cell_type": "code",
   "execution_count": null,
   "metadata": {},
   "outputs": [],
   "source": []
  },
  {
   "cell_type": "code",
   "execution_count": null,
   "metadata": {},
   "outputs": [],
   "source": [
    "# # # import torch\n",
    "# # import torch.fft\n",
    "# # # torch.fft.\n",
    "# # # torch.__version__\n",
    "# # # _\n",
    "# torch.fft.fft"
   ]
  },
  {
   "cell_type": "code",
   "execution_count": 33,
   "metadata": {},
   "outputs": [
    {
     "name": "stdout",
     "output_type": "stream",
     "text": [
      "Namespace(input_folder='../../../data/stage3/win60_overlap90/', output_folder='../../../data/stage4/DFR_DL/TEST/', subject_id='101', training_params_file='training_params_baseline.json')\n"
     ]
    }
   ],
   "source": [
    "parser = argparse.ArgumentParser(description='SpO2_estimate')\n",
    "parser.add_argument('--input_folder', metavar='input_folder', help='input_folder',\n",
    "                    default='../')\n",
    "parser.add_argument('--output_folder', metavar='output_folder', help='output_folder',\n",
    "                    default='../')\n",
    "parser.add_argument('--subject_id', metavar='subject_id', help='subject_id',\n",
    "                    default='101')\n",
    "parser.add_argument('--training_params_file', metavar='training_params_file', help='training_params_file',\n",
    "                    default='training_params_list.json')\n",
    "\n",
    "\n",
    "# checklist 3: comment first line, uncomment second line\n",
    "args = parser.parse_args(['--input_folder', '../../../data/stage3/win60_overlap90/', \n",
    "                          '--output_folder', '../../../data/stage4/DFR_DL/TEST/',\n",
    "                          '--training_params_file', 'training_params_baseline.json',\n",
    "                          # '--training_params_file', 'training_params_dummy.json',\n",
    "                         ])\n",
    "# args = parser.parse_args()\n",
    "print(args)"
   ]
  },
  {
   "cell_type": "markdown",
   "metadata": {},
   "source": [
    "# start timing"
   ]
  },
  {
   "cell_type": "code",
   "execution_count": 34,
   "metadata": {},
   "outputs": [
    {
     "name": "stdout",
     "output_type": "stream",
     "text": [
      "start time: 2023-Mar-15 14:57:58\n"
     ]
    }
   ],
   "source": [
    "\n",
    "tz_NY = pytz.timezone('America/New_York') \n",
    "datetime_start = datetime.now(tz_NY)\n",
    "print(\"start time:\", datetime_start.strftime(\"%Y-%b-%d %H:%M:%S\"))\n",
    "\n"
   ]
  },
  {
   "cell_type": "code",
   "execution_count": null,
   "metadata": {},
   "outputs": [],
   "source": []
  },
  {
   "cell_type": "code",
   "execution_count": 35,
   "metadata": {},
   "outputs": [],
   "source": [
    "# get_regressor_names"
   ]
  },
  {
   "cell_type": "code",
   "execution_count": 36,
   "metadata": {},
   "outputs": [],
   "source": [
    "inputdir = args.input_folder\n",
    "outputdir = args.output_folder\n",
    "training_params_file = args.training_params_file\n",
    "\n",
    "if not os.path.exists(outputdir):\n",
    "    os.makedirs(outputdir)\n"
   ]
  },
  {
   "cell_type": "markdown",
   "metadata": {},
   "source": [
    "# get training params and dataloaders"
   ]
  },
  {
   "cell_type": "code",
   "execution_count": 37,
   "metadata": {},
   "outputs": [
    {
     "data": {
      "text/plain": [
       "True"
      ]
     },
     "execution_count": 37,
     "metadata": {},
     "output_type": "execute_result"
    }
   ],
   "source": [
    "torch.cuda.is_available()"
   ]
  },
  {
   "cell_type": "code",
   "execution_count": 38,
   "metadata": {},
   "outputs": [
    {
     "data": {
      "text/plain": [
       "'../../../data/stage4/DFR_DL/TEST/'"
      ]
     },
     "execution_count": 38,
     "metadata": {},
     "output_type": "execute_result"
    }
   ],
   "source": [
    "outputdir"
   ]
  },
  {
   "cell_type": "code",
   "execution_count": null,
   "metadata": {},
   "outputs": [],
   "source": []
  },
  {
   "cell_type": "code",
   "execution_count": 39,
   "metadata": {},
   "outputs": [],
   "source": [
    "label_range_dict['HR_DL'] = [40, 190]\n",
    "\n",
    "def update_freq_meta(training_params):\n",
    "    # change the FS_Extracted at the last layer of conv net based on n_block\n",
    "    FS_Extracted = training_params['FS_RESAMPLE_DL'] / (training_params['stride']**training_params['n_block'])\n",
    "    training_params['FS_Extracted'] = FS_Extracted\n",
    "    \n",
    "    # compute last layer dimension based on n_block\n",
    "    last_layer_dim = training_params['data_dimensions'][-1]\n",
    "    for n in range(training_params['n_block']):\n",
    "        last_layer_dim = round(last_layer_dim/training_params['stride'])\n",
    "\n",
    "    # training_params['last_layer_dim'] = last_layer_dim\n",
    "\n",
    "    # compute xf based on FS_Extracted and a mask + xf_masked using xf and label_range_dict['HR_DL']\n",
    "    xf = np.linspace(0.0, 1.0/2.0*FS_Extracted , last_layer_dim//2)*60    \n",
    "    \n",
    "    \n",
    "    if 'HR' in training_params['auxillary_tasks'][0]:\n",
    "        freq_range = label_range_dict['HR_DL']\n",
    "    elif 'RR' in training_params['auxillary_tasks'][0]:\n",
    "        freq_range = label_range_dict['RR']\n",
    "\n",
    "    mask = (xf>=freq_range[0]) & (xf<=freq_range[1])\n",
    "\n",
    "    \n",
    "\n",
    "    xf_raw = np.linspace(0.0, 1.0/2.0*training_params['FS_RESAMPLE_DL'] , training_params['data_dimensions'][-1]//2)*60    \n",
    "    raw_mask = (xf_raw>=freq_range[0]) & (xf_raw<=freq_range[1])\n",
    "\n",
    "    xf_dict = {\n",
    "        'xf': xf,\n",
    "        'xf_masked': xf[mask],\n",
    "        'mask': mask,\n",
    "        'raw_mask': raw_mask,\n",
    "        'FS_Extracted': FS_Extracted,\n",
    "        'last_layer_dim': last_layer_dim,\n",
    "        'freq_range': freq_range\n",
    "    }\n",
    "    # training_params['xf'] = xf\n",
    "    # training_params['xf_masked'] = xf[mask]\n",
    "    # training_params['mask'] = mask\n",
    "    \n",
    "    return xf_dict\n"
   ]
  },
  {
   "cell_type": "code",
   "execution_count": null,
   "metadata": {},
   "outputs": [],
   "source": []
  },
  {
   "cell_type": "code",
   "execution_count": null,
   "metadata": {},
   "outputs": [],
   "source": [
    "# training_params['xf_dict']['xf_masked'].shape, training_params['xf_dict']['xf'].shape"
   ]
  },
  {
   "cell_type": "code",
   "execution_count": 40,
   "metadata": {},
   "outputs": [],
   "source": [
    "def inspect_signals(training_params, dataloaders):\n",
    "    fig, axes = plt.subplots(training_params['data_dimensions'][0],1, figsize=(50,3), dpi=80)\n",
    "    for i, ax in enumerate(axes):\n",
    "        ax.plot(dataloaders['train'].dataset.data[0,i,:])\n",
    "\n",
    "    for ax in axes:\n",
    "        ax_no_top_right(ax)"
   ]
  },
  {
   "cell_type": "code",
   "execution_count": 41,
   "metadata": {},
   "outputs": [],
   "source": [
    "# torch.device('cuda:{}'.format(int(1)) if torch.cuda.is_available() else 'cpu')\n",
    "# training_params['output_names']"
   ]
  },
  {
   "cell_type": "code",
   "execution_count": 42,
   "metadata": {},
   "outputs": [
    {
     "name": "stdout",
     "output_type": "stream",
     "text": [
      "data dimensions are: (1748, 2, 6000)\n",
      "feature dimensions are: (1748, 2)\n",
      "label dimensions are: (1748, 3)\n",
      "meta dimensions are: (1748, 2)\n"
     ]
    },
    {
     "data": {
      "image/png": "[encoded data removed]",
      "text/plain": [
       "<Figure size 4000x240 with 2 Axes>"
      ]
     },
     "metadata": {},
     "output_type": "display_data"
    }
   ],
   "source": [
    "with open(training_params_file) as json_file:\n",
    "    training_params_list = json.load(json_file)\n",
    "\n",
    "for training_params in [training_params_list[0]]:\n",
    "    # include device in training_params\n",
    "    \n",
    "    if training_params['cuda_i']==-1:\n",
    "        device = torch.device('cpu')\n",
    "    else:\n",
    "        device = torch.device('cuda:{}'.format(int(training_params['cuda_i'])) if torch.cuda.is_available() else 'cpu')\n",
    "    training_params['device'] = device\n",
    "    \n",
    "    if 'training_mode' in training_params:\n",
    "        training_mode = training_params['training_mode']\n",
    "    else:\n",
    "        training_params = 'subject_ind'\n",
    "\n",
    "    task_id = [0, 1, 2, 3, 4, 5]\n",
    "    # task_id = [0]\n",
    "    # task_id = [1, 2]\n",
    "\n",
    "    training_params['CV_config'] = {\n",
    "        'subject_id': 113,\n",
    "        'task_ids': task_id,\n",
    "        # 'reject_subject_id': [101, 102, 103, 104, 105, 109]\n",
    "        'reject_subject_id': [101, 102, 103, 105, 109, 115]\n",
    "\n",
    "        # 'task_id': 5,\n",
    "    }\n",
    "    \n",
    "    training_params['output_names'] = training_params['main_task'] + training_params['auxillary_tasks']\n",
    "    \n",
    "    \n",
    "    # sys.exit()\n",
    "    \n",
    "    training_params['regression_names'] = get_regression_names(training_params)\n",
    "\n",
    "    stage3_dict = data_loader('stage3_dict', inputdir).item()\n",
    "    training_params['list_signal'] = stage3_dict['list_signal']\n",
    "    training_params['list_feature'] = stage3_dict['list_feature']\n",
    "    training_params['list_output'] = stage3_dict['list_output']\n",
    "    training_params['list_meta'] = stage3_dict['list_meta']\n",
    "    training_params['FS_RESAMPLE_DL'] = stage3_dict['FS_RESAMPLE_DL']\n",
    "    training_params['subject_ids'] = stage3_dict['subject_ids']\n",
    "    training_params['task_ids'] = stage3_dict['task_ids']\n",
    "    training_params['sequence'] = stage3_dict['sequence']\n",
    "    \n",
    "    dataloaders, dataset_sizes = get_loaders(inputdir, training_params)\n",
    "    print('data dimensions are:', dataloaders['train'].dataset.data.shape)\n",
    "    print('feature dimensions are:', dataloaders['train'].dataset.feature.shape)\n",
    "    print('label dimensions are:', dataloaders['train'].dataset.label.shape)\n",
    "    print('meta dimensions are:', dataloaders['train'].dataset.meta.shape)\n",
    "\n",
    "    data_dimensions = dataloaders['train'].dataset.__getitem__(0)[0].size()\n",
    "    training_params['data_dimensions'] = list(data_dimensions)\n",
    "    \n",
    "    inspect_signals(training_params, dataloaders)\n",
    "\n",
    "    \n",
    "    sweep_name = training_params['sweep_name'] \n",
    "    \n",
    "    if training_params['model_name'] == 'FeatureExtractor_CNN':\n",
    "        training_params['featrue_extractor'] = FeatureExtractor_CNN\n",
    "    elif training_params['model_name'] == 'ResNet1D':\n",
    "        training_params['featrue_extractor'] = ResNet1D\n",
    "    elif training_params['model_name'] == 'FeatureExtractor_CNN2':\n",
    "        training_params['featrue_extractor'] = FeatureExtractor_CNN2\n",
    "    elif 'CNNlight' in training_params['model_name']: # designed for HR estimation\n",
    "        training_params['feature_extractor'] = FeatureExtractor_CNNlight\n",
    "\n",
    "\n",
    "    # get the right regressor\n",
    "    if training_params['regressor_type'] == 'DominantFreqRegression':\n",
    "        training_params['regressor'] = DominantFreqRegression\n",
    "    elif training_params['regressor_type'] == 'FFTRegression':\n",
    "        training_params['regressor'] = FFTRegression\n",
    "    elif training_params['regressor_type'] == 'CardioRespRegression':\n",
    "        training_params['regressor'] = CardioRespRegression       \n",
    "    elif training_params['regressor_type'] == 'vanilla_regression':\n",
    "        training_params['regressor'] = vanilla_regression\n",
    "    elif training_params['regressor_type'] == 'CardioRespXGBRegression':\n",
    "        training_params['regressor'] = CardioRespRegression   \n",
    "    \n",
    "\n",
    "\n",
    "    if training_params['auxillary_regressor_type'] == 'DominantFreqRegression':\n",
    "        training_params['auxillary_regressor'] = DominantFreqRegression\n",
    "\n",
    "    # order subject so we can see the worst subjects first\n",
    "    if 'ordered_subject_ids' in training_params:\n",
    "        training_params['ordered_subject_ids'] = np.asarray(training_params['ordered_subject_ids'])\n",
    "    else:\n",
    "        training_params['ordered_subject_ids'] = training_params['subject_ids']\n",
    "    \n",
    "    training_params['inputdir'] = inputdir\n",
    "    training_params['outputdir'] = outputdir\n",
    "    \n",
    "    # training_params['regression_names'] = get_regression_names(training_params)\n",
    "\n",
    "    if 'LSTM' in training_params['model_name']:\n",
    "        training_params = change_output_dim(training_params)\n",
    "\n",
    "    \n",
    "    training_params['xf_dict'] = update_freq_meta(training_params)\n",
    "\n",
    "\n",
    "    \n",
    "    del dataloaders\n",
    "# training_params = training_params_list[0]"
   ]
  },
  {
   "cell_type": "code",
   "execution_count": 87,
   "metadata": {},
   "outputs": [],
   "source": [
    "# dataloaders, dataset_sizes = get_loaders(inputdir, training_params)\n"
   ]
  },
  {
   "cell_type": "code",
   "execution_count": 119,
   "metadata": {},
   "outputs": [],
   "source": [
    "# sig = dataloaders['train'].dataset.data[0,0,:]\n",
    "# sig1 = dataloaders['train'].dataset.data[100,0,:]\n",
    "\n",
    "# # plt.plot(sig)"
   ]
  },
  {
   "cell_type": "code",
   "execution_count": 118,
   "metadata": {},
   "outputs": [],
   "source": [
    "# xf, yf = get_psd(sig, Fs=training_params['FS_RESAMPLE_DL'])\n",
    "# mask = (xf>=FILT_RESP[0]) & (xf<=FILT_RESP[1])\n",
    "# xf, yf = xf[mask], yf[mask]"
   ]
  },
  {
   "cell_type": "code",
   "execution_count": 88,
   "metadata": {},
   "outputs": [],
   "source": [
    "xf, yf = get_psd(sig1, Fs=training_params['FS_RESAMPLE_DL'])\n",
    "mask = (xf>=FILT_RESP[0]) & (xf<=FILT_RESP[1])\n",
    "xf, yf = xf[mask], yf[mask]"
   ]
  },
  {
   "cell_type": "code",
   "execution_count": 148,
   "metadata": {},
   "outputs": [],
   "source": [
    "class SNR_attention_module(nn.Module):\n",
    "    \"\"\"\n",
    "    This function comptues the SNR (0~1) for each channel of deep spectral feature\n",
    "    \n",
    "    Reference | \n",
    "    [1] G. de Haan and V. Jeanne, “Robust Pulse Rate From Chrominance-Based rPPG,” IEEE Transactions on Biomedical Engineering, vol. 60, no. 10, pp. 2878–2886, Oct. 2013, doi: 10.1109/TBME.2013.2266196.\n",
    "    \"\"\"\n",
    "\n",
    "    def __init__(self,):\n",
    "        super(SNR_attention_module, self).__init__()\n",
    "\n",
    "#         if xf_dict is None:\n",
    "#             self.xf_dict = training_params['xf_dict']\n",
    "#         else:\n",
    "#             self.xf_dict = xf_dict\n",
    "            \n",
    "#         self.xf_masked = torch.from_numpy(self.xf_dict['xf_masked']).float()\n",
    "        # self.mask = torch.from_numpy(self.xf_dict['mask'])\n",
    "\n",
    "        # self.avg_pool = nn.AdaptiveAvgPool1d((self.xf_masked.shape[0]))\n",
    "        self.avg_pool = MyAvgPool1dPadSame(kernel_size=2, stride=1)\n",
    "        self.max_pool = nn.AdaptiveMaxPool1d((1))\n",
    "        self.softmax = nn.Softmax(dim=1)\n",
    "        \n",
    "    def forward(self, sig_fft):\n",
    "        # print('SNR attention_module')\n",
    "        # sig_fft dim: (N_batch, 1, N_spectral)\n",
    "        sig_fft = self.avg_pool( sig_fft )\n",
    "        # SNR dim: (N_batch, N_ch, 1)\n",
    "        SNR = self.max_pool(sig_fft) / torch.sum(sig_fft, axis=-1, keepdim=True)\n",
    "        SNR = torch.log(SNR)/ torch.log(torch.tensor(10))\n",
    "\n",
    "        # SNR_attention dim: (N_batch, N_ch, 1)\n",
    "        SNR_attention = soft_max(SNR)\n",
    "\n",
    "        return SNR_attention"
   ]
  },
  {
   "cell_type": "code",
   "execution_count": 185,
   "metadata": {},
   "outputs": [],
   "source": [
    "get_SNR_attention = SNR_attention_module()"
   ]
  },
  {
   "cell_type": "code",
   "execution_count": 301,
   "metadata": {},
   "outputs": [
    {
     "data": {
      "text/plain": [
       "torch.Size([1, 10, 30])"
      ]
     },
     "execution_count": 301,
     "metadata": {},
     "output_type": "execute_result"
    }
   ],
   "source": [
    "s1 = torch.rand(1, 1, 30)\n",
    "m = nn.Conv1d(1, 10, kernel_size=1, stride=1)\n",
    "m(s1).size()\n"
   ]
  },
  {
   "cell_type": "code",
   "execution_count": 186,
   "metadata": {},
   "outputs": [
    {
     "data": {
      "text/plain": [
       "torch.Size([3, 2, 55])"
      ]
     },
     "execution_count": 186,
     "metadata": {},
     "output_type": "execute_result"
    }
   ],
   "source": [
    "t1.size()"
   ]
  },
  {
   "cell_type": "code",
   "execution_count": null,
   "metadata": {},
   "outputs": [],
   "source": []
  },
  {
   "cell_type": "code",
   "execution_count": 244,
   "metadata": {},
   "outputs": [
    {
     "name": "stdout",
     "output_type": "stream",
     "text": [
      "tensor([[[0.6871],\n",
      "         [0.3129]],\n",
      "\n",
      "        [[0.6871],\n",
      "         [0.3129]],\n",
      "\n",
      "        [[0.6871],\n",
      "         [0.3129]]], dtype=torch.float64) torch.Size([3, 2, 1])\n"
     ]
    },
    {
     "data": {
      "image/png": "[encoded data removed]",
      "text/plain": [
       "<Figure size 640x480 with 1 Axes>"
      ]
     },
     "metadata": {},
     "output_type": "display_data"
    }
   ],
   "source": [
    "avg_pool = MyAvgPool1dPadSame(kernel_size=2, stride=1)\n",
    "max_pool = nn.AdaptiveMaxPool1d((1))\n",
    "soft_max = nn.Softmax(dim=1)\n",
    "\n",
    "# def forward(self, sig):\n",
    "# print('SNR attention_module')\n",
    "# sig dim: (N_batch, 1, N_spectral)\n",
    "t1 = torch.tensor(yf[None,None,:])\n",
    "t1 = t1 / t1.sum(axis=-1)\n",
    "\n",
    "# t2 = (1-t1)+1\n",
    "\n",
    "t2 = torch.log(t1)/ torch.log(torch.tensor(10))\n",
    "t2 = t2 / t2.sum(axis=-1)\n",
    "\n",
    "\n",
    "t1 = torch.cat([t1, t1, t1] , axis=0)\n",
    "t2 = torch.cat([t2, t2, t2] , axis=0)\n",
    "t3 = torch.cat([t1, t2] , axis=1)\n",
    "\n",
    "t3 = avg_pool( t3 )\n",
    "# SNR dim: (N_batch, N_ch, 1)\n",
    "SNR = max_pool(t3) / torch.sum(t3, axis=-1, keepdim=True)\n",
    "SNR = torch.log(SNR)/ torch.log(torch.tensor(10))\n",
    "\n",
    "atn = soft_max(SNR)\n",
    "plt.plot(t3[0,0,:])\n",
    "plt.plot(t3[0,1,:])\n",
    "# print(SNR, SNR.size())\n",
    "print(atn, atn.size())\n",
    "# m = nn.Softmax(dim=1)\n"
   ]
  },
  {
   "cell_type": "code",
   "execution_count": 258,
   "metadata": {},
   "outputs": [],
   "source": [
    "def sigmoid(x, scale=1):\n",
    "    return torch.exp(scale*x)/(1+torch.exp(scale*x)) \n",
    "\n",
    "# t1 = torch.tensor(yf[None,None,:])\n",
    "# t1 = t1 / t1.sum()\n",
    "\n",
    "\n",
    "\n",
    "# t3_pool = avg_pool(t3)\n",
    "# t3_mask = sigmoid(t3_pool-torch.mean(t3_pool, axis=-1)*5, scale=100)\n",
    "# # t1 = torch.arange(1, 13)\n",
    "# t1 = t1 / t1.max()\n",
    "  \n",
    "# display\n",
    "# plt.plot(t3.squeeze(), 'r')\n",
    "# plt.plot(t3_pool.squeeze(), 'g')\n",
    "  \n",
    "# Compute the logistic sigmoid \n",
    "# function of elements in the\n",
    "# above tensor\n",
    "# plt.plot(t1_mask.squeeze())"
   ]
  },
  {
   "cell_type": "code",
   "execution_count": 246,
   "metadata": {},
   "outputs": [
    {
     "data": {
      "image/png": "[encoded data removed]",
      "text/plain": [
       "<Figure size 640x480 with 1 Axes>"
      ]
     },
     "metadata": {},
     "output_type": "display_data"
    }
   ],
   "source": [
    "plt.plot(t3[0,:,:].T)\n",
    "plt.show()"
   ]
  },
  {
   "cell_type": "code",
   "execution_count": 290,
   "metadata": {},
   "outputs": [],
   "source": []
  },
  {
   "cell_type": "code",
   "execution_count": null,
   "metadata": {},
   "outputs": [],
   "source": []
  },
  {
   "cell_type": "code",
   "execution_count": null,
   "metadata": {},
   "outputs": [],
   "source": []
  },
  {
   "cell_type": "code",
   "execution_count": 252,
   "metadata": {},
   "outputs": [],
   "source": [
    "\n",
    "class spectral_attention_module(nn.Module):\n",
    "    \"\"\"\n",
    "    This function create a mask in the spectral domain (spectral hard attention)\n",
    "    \"\"\"\n",
    "    def __init__(self, training_params, xf_dict=None):\n",
    "        super(spectral_attention_module, self).__init__()\n",
    "#         self.fft_layer = FFT_layer()\n",
    "        \n",
    "        if xf_dict is None:\n",
    "            self.xf_dict = training_params['xf_dict']\n",
    "        else:\n",
    "            self.xf_dict = xf_dict\n",
    "\n",
    "        self.xf_masked = torch.from_numpy(self.xf_dict['xf_masked']).float()\n",
    "        self.mask = torch.from_numpy(self.xf_dict['mask'])\n",
    "        \n",
    "        \n",
    "        freq_smooth_dur = 5 # bpm\n",
    "        freq_smooth_win = round(freq_smooth_dur / np.mean(np.diff(self.xf_masked.data.numpy())))\n",
    "        self.avg_pool = MyAvgPool1dPadSame(kernel_size=2, stride=1)\n",
    "        \n",
    "    def forward(self, sig_fft):\n",
    "        # print('attention_module')\n",
    "        # attention dim: (N_batch, 1, N_spectral)\n",
    "        # attention = self.fft_layer(sig)\n",
    "        # attention = attention[:,:,self.mask]\n",
    "        \n",
    "        attention = self.avg_pool(sig_fft)\n",
    "        \n",
    "        # attention dim: (N_batch, 1, N_spectral)\n",
    "        attention = attention / torch.sum(attention, axis=-1)\n",
    "        \n",
    "        # attention = torch.log(attention)/ torch.log(torch.tensor(10))\n",
    "\n",
    "        # create the mask\n",
    "        attention = attention > torch.mean(attention, axis=-1, keepdim=True)\n",
    "        \n",
    "        # sys.exit()\n",
    "        return attention"
   ]
  },
  {
   "cell_type": "code",
   "execution_count": null,
   "metadata": {},
   "outputs": [],
   "source": [
    "# AdapTrimm\n",
    "\n",
    "\n",
    "fc1 = nn.Linear(55, 10)\n",
    "\n",
    "fc2 = nn.Linear(10, 1)\n",
    "\n",
    "out = relu(fc1(bn1(x)))\n",
    "out = fc2(bn2(out))\n",
    "c = sm(out) # c is between 0 to 1\n",
    "\n",
    "\n",
    "out = relu(fc1(bn1(x)))\n",
    "out = fc2(bn2(out))\n",
    "w = torch.exp(out) # w is > 0 \n",
    "\n",
    "s = T * sm(c-w/2)\n",
    "e = T * sm(c+w/2)\n",
    "\n",
    "Fsampler(Fgrid_gen(x), s, e),\n"
   ]
  },
  {
   "cell_type": "code",
   "execution_count": 259,
   "metadata": {},
   "outputs": [
    {
     "ename": "NameError",
     "evalue": "name 'x' is not defined",
     "output_type": "error",
     "traceback": [
      "\u001b[0;31m---------------------------------------------------------------------------\u001b[0m",
      "\u001b[0;31mNameError\u001b[0m                                 Traceback (most recent call last)",
      "\u001b[0;32m/tmp/ipykernel_31523/4114265776.py\u001b[0m in \u001b[0;36m<module>\u001b[0;34m\u001b[0m\n\u001b[0;32m----> 1\u001b[0;31m \u001b[0msm\u001b[0m \u001b[0;34m=\u001b[0m \u001b[0msigmoid\u001b[0m\u001b[0;34m(\u001b[0m\u001b[0mx\u001b[0m\u001b[0;34m,\u001b[0m \u001b[0mscale\u001b[0m\u001b[0;34m=\u001b[0m\u001b[0;36m1\u001b[0m\u001b[0;34m)\u001b[0m\u001b[0;34m\u001b[0m\u001b[0;34m\u001b[0m\u001b[0m\n\u001b[0m",
      "\u001b[0;31mNameError\u001b[0m: name 'x' is not defined"
     ]
    }
   ],
   "source": [
    "sm = sigmoid(x, scale=1)"
   ]
  },
  {
   "cell_type": "code",
   "execution_count": null,
   "metadata": {},
   "outputs": [],
   "source": []
  },
  {
   "cell_type": "code",
   "execution_count": 253,
   "metadata": {},
   "outputs": [],
   "source": [
    "get_spectral_attention = spectral_attention_module(training_params)"
   ]
  },
  {
   "cell_type": "code",
   "execution_count": 254,
   "metadata": {},
   "outputs": [],
   "source": [
    "spectral_attention = get_spectral_attention(aaa)"
   ]
  },
  {
   "cell_type": "code",
   "execution_count": 255,
   "metadata": {},
   "outputs": [
    {
     "data": {
      "text/plain": [
       "[<matplotlib.lines.Line2D at 0x7eff95be5b10>]"
      ]
     },
     "execution_count": 255,
     "metadata": {},
     "output_type": "execute_result"
    },
    {
     "data": {
      "image/png": "[encoded data removed]",
      "text/plain": [
       "<Figure size 640x480 with 1 Axes>"
      ]
     },
     "metadata": {},
     "output_type": "display_data"
    }
   ],
   "source": [
    "plt.plot(spectral_attention[0,0,:])\n",
    "plt.plot(aaa[0,0,:])"
   ]
  },
  {
   "cell_type": "code",
   "execution_count": null,
   "metadata": {},
   "outputs": [],
   "source": []
  },
  {
   "cell_type": "code",
   "execution_count": null,
   "metadata": {},
   "outputs": [],
   "source": []
  },
  {
   "cell_type": "code",
   "execution_count": null,
   "metadata": {},
   "outputs": [],
   "source": [
    "# stage3_dict['list_signal']"
   ]
  },
  {
   "cell_type": "code",
   "execution_count": null,
   "metadata": {},
   "outputs": [],
   "source": [
    "# dataloaders, dataset_sizes = get_loaders(inputdir, training_params)\n",
    "# print(dataloaders['train'].dataset.feature[50,:])"
   ]
  },
  {
   "cell_type": "code",
   "execution_count": null,
   "metadata": {},
   "outputs": [],
   "source": []
  },
  {
   "cell_type": "code",
   "execution_count": null,
   "metadata": {},
   "outputs": [],
   "source": [
    "# # data = dataloaders['train'].dataset.data[:100,:,:]\n",
    "# plt.plot(dataloaders['train'].dataset.feature[:,0])\n"
   ]
  },
  {
   "cell_type": "code",
   "execution_count": null,
   "metadata": {},
   "outputs": [],
   "source": [
    "# get_feature_condensed"
   ]
  },
  {
   "cell_type": "code",
   "execution_count": null,
   "metadata": {},
   "outputs": [],
   "source": [
    "# xf, y_matrix_scaled = get_psd(data[:, 0, :], 100)           \n",
    "# print(xf.shape, y_matrix_scaled.shape)\n",
    "# plt.plot(xf, y_matrix_scaled[0,:])\n",
    "\n",
    "# # dim: (N_instance, N_spectral) -> (N_instance, N_spectral_masked)\n",
    "\n",
    "# # ax_STFT.imshow( y_matrix_scaled[mask, :].T, interpolation='nearest', aspect='auto' ,extent=[t_arr.min(), t_arr.max(), xf[mask].min()*60, xf[mask].max()*60], cmap='viridis')\n"
   ]
  },
  {
   "cell_type": "code",
   "execution_count": null,
   "metadata": {},
   "outputs": [],
   "source": [
    "# xf, y_matrix_scaled = get_psd(data[0, 0, :], 100)           \n",
    "# print(y_matrix_scaled.shape)\n",
    "# plt.plot(y_matrix_scaled)\n",
    "\n",
    "# # dim: (N_instance, N_spectral) -> (N_instance, N_spectral_masked)\n",
    "\n",
    "# # ax_STFT.imshow( y_matrix_scaled[mask, :].T, interpolation='nearest', aspect='auto' ,extent=[t_arr.min(), t_arr.max(), xf[mask].min()*60, xf[mask].max()*60], cmap='viridis')\n"
   ]
  },
  {
   "cell_type": "code",
   "execution_count": null,
   "metadata": {},
   "outputs": [],
   "source": []
  },
  {
   "cell_type": "code",
   "execution_count": null,
   "metadata": {},
   "outputs": [],
   "source": []
  },
  {
   "cell_type": "code",
   "execution_count": null,
   "metadata": {},
   "outputs": [],
   "source": []
  },
  {
   "cell_type": "code",
   "execution_count": null,
   "metadata": {},
   "outputs": [],
   "source": []
  },
  {
   "cell_type": "code",
   "execution_count": null,
   "metadata": {},
   "outputs": [],
   "source": [
    "# data_train, feature_train, label_train, meta_train = get_samples(inputdir, 'train/', training_params)\n",
    "# data_train.shape, feature_train.shape, label_train.shape, meta_train.shape"
   ]
  },
  {
   "cell_type": "code",
   "execution_count": null,
   "metadata": {},
   "outputs": [],
   "source": [
    "# outputdir = outputdir+training_params['model_name']+'/'\n",
    "# if not os.path.exists(outputdir):\n",
    "#     os.makedirs(outputdir)\n",
    "    "
   ]
  },
  {
   "cell_type": "markdown",
   "metadata": {},
   "source": [
    "# define trainer, evaler, preder functions"
   ]
  },
  {
   "cell_type": "code",
   "execution_count": null,
   "metadata": {},
   "outputs": [],
   "source": [
    "trainer = train_resnet\n",
    "evaler = eval_resnet\n",
    "preder = pred_resnet"
   ]
  },
  {
   "cell_type": "code",
   "execution_count": null,
   "metadata": {},
   "outputs": [],
   "source": []
  },
  {
   "cell_type": "code",
   "execution_count": null,
   "metadata": {},
   "outputs": [],
   "source": []
  },
  {
   "cell_type": "markdown",
   "metadata": {},
   "source": [
    "# some random param\n",
    "## kernel_size = 5 ~ 16*100/300 (16 for 300 Hz sampling rate, 5 for 100 sampling rate)\n"
   ]
  },
  {
   "cell_type": "code",
   "execution_count": null,
   "metadata": {},
   "outputs": [],
   "source": []
  },
  {
   "cell_type": "code",
   "execution_count": null,
   "metadata": {},
   "outputs": [],
   "source": [
    "# training_params['downsample_gap']\n",
    "\n",
    "# # n_block = training_params['n_block_macro'][0] * training_params['downsample_gap'][0]\n",
    "# # downsample_gap = training_params['downsample_gap'][0]\n",
    "# # base_filters = training_params['base_filters'][0]\n",
    "# # use_sc =  training_params['use_sc']\n",
    "# # increasefilter_gap = downsample_gap * 2\n",
    "# # kernel_size = training_params['kernel_size']\n",
    "# # groups = training_params['base_filters'][0]"
   ]
  },
  {
   "cell_type": "code",
   "execution_count": null,
   "metadata": {},
   "outputs": [],
   "source": []
  },
  {
   "cell_type": "code",
   "execution_count": null,
   "metadata": {},
   "outputs": [],
   "source": []
  },
  {
   "cell_type": "code",
   "execution_count": null,
   "metadata": {},
   "outputs": [],
   "source": [
    "if training_params['model_name'] == 'ResNet1D':\n",
    "# reference: https://github.com/hsd1503/resnet1d/blob/master/test_physionet.py\n",
    "    training_params['base_filters'] = training_params['channel_n'] # [64] \n",
    "    training_params['in_channels'] = training_params['data_dimensions']\n",
    "#     training_params['increasefilter_gap'] = [training_params['downsample_gap'][0] * 2]\n",
    "    training_params['n_block'] = training_params['n_block_macro'] * training_params['downsample_gap']\n",
    "    training_params['increasefilter_gap'] = training_params['downsample_gap']\n",
    "    "
   ]
  },
  {
   "cell_type": "code",
   "execution_count": null,
   "metadata": {},
   "outputs": [],
   "source": []
  },
  {
   "cell_type": "code",
   "execution_count": null,
   "metadata": {},
   "outputs": [],
   "source": [
    "# # kernel_size = 10 # ~ 16*100/300 (16 for 300 Hz sampling rate, 5 for 100 sampling rate)\n",
    "\n",
    "# training_params['stride'] = 2\n",
    "# # stride = 2\n",
    "# # increasefilter_gap = 12\n",
    "# # base_filters = 32\n",
    "# training_params['n_classes'] = 1\n",
    "# # n_classes = 1 # regression\n",
    "# training_params['groups'] = 32\n",
    "# # groups = 32\n"
   ]
  },
  {
   "cell_type": "code",
   "execution_count": null,
   "metadata": {},
   "outputs": [],
   "source": [
    "# aaa = np.random.rand(5,10)\n",
    "\n",
    "# i= 7\n",
    "# aaa[:, i-2:i+5]"
   ]
  },
  {
   "cell_type": "code",
   "execution_count": null,
   "metadata": {},
   "outputs": [],
   "source": [
    "# aaa"
   ]
  },
  {
   "cell_type": "markdown",
   "metadata": {},
   "source": [
    "# test the model"
   ]
  },
  {
   "cell_type": "markdown",
   "metadata": {},
   "source": [
    "# TODO: need to fix summary()"
   ]
  },
  {
   "cell_type": "code",
   "execution_count": null,
   "metadata": {},
   "outputs": [],
   "source": [
    "# model = resp_multiverse(training_params=training_params)\n",
    "# model"
   ]
  },
  {
   "cell_type": "code",
   "execution_count": null,
   "metadata": {},
   "outputs": [],
   "source": [
    "# training_params['data_dimensions']"
   ]
  },
  {
   "cell_type": "code",
   "execution_count": null,
   "metadata": {},
   "outputs": [],
   "source": [
    "# # model\n",
    "# # print([n for n, _ in model.named_children()])\n",
    "# try:\n",
    "# #     model.regressors['EErq_cosmed'].ch_pooling.register_forward_hook(get_activation('aaa'+'_layer_pooling'))\n",
    "#     print(model.feature_extractors['ppg_ir_1_cardiac'].final_ch_pooling)\n",
    "# #     model.feature_extractors['ppg_ir_1_cardiac'].final_ch_pooling.register_forward_hook(get_activation('j'+'_layer_pool'))\n",
    "\n",
    "# except:\n",
    "#     print('hi')"
   ]
  },
  {
   "cell_type": "code",
   "execution_count": null,
   "metadata": {},
   "outputs": [],
   "source": []
  },
  {
   "cell_type": "code",
   "execution_count": null,
   "metadata": {},
   "outputs": [],
   "source": [
    "def ma_test(training_params):\n",
    "    print('using model ', training_params['model_name'])\n",
    "\n",
    "    # prepare model\n",
    "    model = cardioresp_multiverse(training_params=training_params)\n",
    "    model = model.to(device).float()\n",
    "\n",
    "    # prepare data\n",
    "    dataloaders, dataset_sizes = get_loaders(inputdir, training_params)\n",
    "\n",
    "    data = dataloaders['val'].dataset.data[:5,:,:]\n",
    "    data = torch.from_numpy(data)\n",
    "\n",
    "    feature = dataloaders['val'].dataset.feature[:5,:]\n",
    "    feature = torch.from_numpy(feature)\n",
    "\n",
    "    label = dataloaders['val'].dataset.label[:5,:]\n",
    "    label = torch.from_numpy(label)\n",
    "\n",
    "    data = data.to(device=device, dtype=torch.float)\n",
    "    feature = feature.to(device=device, dtype=torch.float)\n",
    "    label = label.to(device=device, dtype=torch.float)\n",
    "\n",
    "    # model inference\n",
    "    out = model(data, feature)\n",
    "\n",
    "    # compute loss\n",
    "    criterion = MultiTaskLoss(training_params)\n",
    "    losses = criterion(out, label)\n",
    "\n",
    "    # check losses\n",
    "    print(losses)"
   ]
  },
  {
   "cell_type": "code",
   "execution_count": null,
   "metadata": {},
   "outputs": [],
   "source": []
  },
  {
   "cell_type": "code",
   "execution_count": null,
   "metadata": {},
   "outputs": [],
   "source": [
    "def test_model(training_params):\n",
    "\n",
    "    print('using model ', training_params['model_name'])\n",
    "    training_params_copy = copy.deepcopy(training_params)\n",
    "    training_params_copy['device'] = torch.device('cpu')\n",
    "\n",
    "    model = cardioresp_multiverse(training_params=training_params_copy)\n",
    "    summary(model, input_size=[tuple(training_params['data_dimensions']), (model.N_features,1)], device='cpu')\n",
    "    print(model)\n",
    "    del model\n",
    "\n",
    "\n",
    "debug_model = True\n",
    "if debug_model==True:\n",
    "    if 'LSTM' not in training_params['model_name']:\n",
    "        test_model(training_params)\n",
    "    else:\n",
    "        ma_test(training_params)\n"
   ]
  },
  {
   "cell_type": "code",
   "execution_count": null,
   "metadata": {},
   "outputs": [],
   "source": [
    "# training_params['']\n",
    "# model = cardioresp_multiverse(training_params=training_params)\n",
    "# model"
   ]
  },
  {
   "cell_type": "code",
   "execution_count": null,
   "metadata": {},
   "outputs": [],
   "source": [
    "# np.asarray([[3.5443, 0.6302, 0.8890, 0.2282, 0.0872, 0.5049, 0.7489, 0.6576, 0.3341,\n",
    "#          0.0189, 0.0549, 0.8110, 0.8436, 0.2467],\n",
    "#         [2.1010, 0.9481, 0.0459, 0.9481, 0.2327, 0.2986, 0.0566, 0.8680, 0.0354,\n",
    "#          0.6140, 0.2542, 0.1724, 0.8074, 0.8249]]).shape"
   ]
  },
  {
   "cell_type": "code",
   "execution_count": null,
   "metadata": {},
   "outputs": [],
   "source": []
  },
  {
   "cell_type": "code",
   "execution_count": null,
   "metadata": {},
   "outputs": [],
   "source": []
  },
  {
   "cell_type": "code",
   "execution_count": null,
   "metadata": {},
   "outputs": [],
   "source": [
    "# aaa = np.asarray([2.1401e-02, 5.2948e-02, 4.8660e-02, 2.3125e-02, 1.8792e-02, 4.4786e-02,\n",
    "#          4.0505e-02, 9.2022e-02, 2.3366e-02, 3.6727e-02, 3.7593e-02, 1.9227e-02,\n",
    "#          8.0175e-02, 1.1751e-02, 3.3308e-02, 9.9694e-04, 5.6652e-02, 2.9502e-02,\n",
    "#          6.2231e-02, 2.9936e-02, 2.9115e-01, 2.9982e-02, 6.1280e-02, 1.0757e-02,\n",
    "#          9.0258e-02, 8.5373e-02, 7.6418e-02, 8.9441e-02, 6.2453e-02, 4.2693e-02,\n",
    "#          1.5407e-02, 4.7319e-02, 2.5810e-02, 3.5634e-02, 5.3523e-02, 2.9331e-02,\n",
    "#          3.7448e-02, 1.6395e-03, 4.5737e-02, 9.3887e-03, 3.2670e-04, 1.0972e-01,\n",
    "#          1.7465e-01, 1.5314e-03, 1.9195e-02, 6.7398e-03, 5.8138e-02, 8.0607e-02,\n",
    "#          1.2636e-02, 3.3586e-02, 3.7032e-02, 4.9149e-03, 2.2533e-02, 1.2068e-02,\n",
    "#          1.3842e-02, 3.8260e-02, 4.2759e-02, 3.3205e-02, 6.1934e-03, 1.8395e-02,\n",
    "#          1.2402e-03, 6.3478e-03, 2.7459e-03, 5.5447e-02, 2.7626e-02, 1.5574e-02,\n",
    "#          6.3464e-03, 4.4044e-03, 5.1936e-03, 1.9746e-03, 1.3221e-02, 7.7879e-02,\n",
    "#          7.1552e-02, 4.1376e-02, 2.8416e-02, 9.7569e-04, 1.6641e-02, 2.6640e-02,\n",
    "#          6.4612e-03, 3.8234e-02, 2.3350e-02, 2.4832e-03, 5.9804e-02, 3.7242e-02,\n",
    "#          8.2675e-03, 1.1702e-02, 8.3360e-03, 6.0277e-03, 1.4620e-02, 9.3395e-02,\n",
    "#          8.7535e-03, 1.3427e-02, 8.1653e-03, 1.3704e-03, 1.5250e-02, 2.1366e-02,\n",
    "#          2.2589e-02, 1.5303e-03, 2.8091e-02, 1.3629e-02, 4.6785e-03, 9.4788e-03,\n",
    "#          1.9621e-02, 3.3250e-02, 2.3812e-02, 2.9386e-03, 5.2316e-03, 4.3363e-03,\n",
    "#          2.0358e-02, 8.4607e-03, 3.1620e-03, 1.3839e-02, 1.0665e-02, 1.8921e-02,\n",
    "#          1.0277e-03, 5.1848e-03, 3.9836e-03, 4.6698e-03, 3.1213e-02, 7.6926e-04,\n",
    "#          2.9481e-04, 4.6821e-02, 5.5914e-03, 2.1895e-04, 3.9770e-02, 7.8995e-03,\n",
    "#          1.3295e-02, 6.5317e-03, 1.7513e-02, 3.3253e-02, 1.1863e-02, 1.9118e-02,\n",
    "#          1.8587e-03, 1.7318e-02, 1.1878e-02, 7.5513e-04, 6.9692e-03, 1.7484e-03,\n",
    "#          6.6013e-03, 2.0463e-02, 2.8306e-03, 3.3742e-03, 4.0343e-03, 2.6108e-03,\n",
    "#          5.5981e-03, 1.9416e-02, 5.9020e-03, 3.3385e-03, 4.6520e-03, 2.1423e-03])\n",
    "\n",
    "# plt.plot(aaa)\n",
    "# aaa.sum()"
   ]
  },
  {
   "cell_type": "code",
   "execution_count": null,
   "metadata": {
    "tags": []
   },
   "outputs": [],
   "source": [
    "# aaa = np.asarray([1.3937e-01, 1.7408e-02, 8.7188e-03, 3.6859e-03, 2.8539e-02, 3.3135e-03,\n",
    "#          2.3546e-03, 1.8415e-02, 7.7323e-04, 8.9279e-02, 2.7628e-02, 1.1624e-03,\n",
    "#          1.4091e-03, 7.6076e-03, 5.5106e-03, 9.0067e-03, 3.3295e-02, 1.8626e-02,\n",
    "#          5.7293e-03, 1.0103e-02, 1.2345e-02, 1.5024e-02, 7.3515e-03, 5.8552e-03,\n",
    "#          8.9973e-03, 3.5095e-06, 5.8788e-03, 1.1690e-03, 1.2718e-02, 1.3568e-02,\n",
    "#          1.1772e-02, 7.0488e-03, 2.4958e-02, 1.1070e-03, 3.5098e-03, 1.5204e-03,\n",
    "#          3.8619e-03, 1.0562e-02, 9.8544e-04, 1.3186e-03, 1.3311e-02, 4.6455e-03,\n",
    "#          1.1633e-02, 3.2777e-03, 7.8052e-03, 7.7763e-03, 2.8001e-03, 8.7417e-03,\n",
    "#          1.5549e-02, 2.5041e-03, 5.5233e-03, 5.4884e-04, 3.4072e-03, 1.9839e-02,\n",
    "#          9.8067e-04, 4.9376e-03, 1.5395e-02, 8.3741e-03, 2.1704e-02, 3.1926e-04,\n",
    "#          2.8057e-03, 4.7085e-03, 1.2575e-02, 7.0261e-03, 9.7258e-04, 1.1450e-02,\n",
    "#          8.3632e-03, 1.8954e-03, 8.3838e-03, 4.7709e-03, 5.0147e-03, 3.7506e-03,\n",
    "#          8.4175e-04, 5.5039e-03, 1.1216e-02, 1.0396e-02, 2.8943e-03, 7.0636e-03,\n",
    "#          4.8932e-03, 6.2329e-03, 1.6251e-03, 1.2382e-03, 9.2144e-03, 6.4909e-03,\n",
    "#          3.8737e-03, 2.6443e-03, 1.0003e-03, 1.8192e-03, 4.7446e-03, 3.7229e-03,\n",
    "#          1.5805e-03, 6.0741e-04, 3.2795e-03, 8.3908e-04, 2.5659e-03, 1.3761e-04,\n",
    "#          2.1440e-03, 1.3425e-04, 1.4076e-03, 2.6527e-03, 1.9744e-03, 2.5963e-03,\n",
    "#          8.8028e-03, 5.9597e-03, 4.2153e-03, 2.0148e-03, 3.2592e-03, 1.6996e-03,\n",
    "#          2.1871e-04, 7.9804e-04, 1.3802e-03, 1.9110e-03, 4.4874e-03, 7.2803e-03,\n",
    "#          1.2748e-03, 2.1787e-03, 2.4773e-03, 9.1380e-04, 1.0685e-03, 1.5550e-03,\n",
    "#          1.6759e-04, 2.1316e-04, 4.3124e-04, 1.3491e-04, 1.4630e-04, 7.0535e-04,\n",
    "#          8.4301e-05, 1.7137e-03, 8.8226e-04, 5.4867e-04, 1.6905e-03, 3.0111e-03,\n",
    "#          8.8613e-04, 1.6220e-03, 1.6844e-04, 6.1124e-05, 4.5513e-03, 4.8490e-04,\n",
    "#          4.7349e-04, 2.8361e-05, 7.4476e-04, 1.4798e-03, 1.4628e-03, 1.2396e-03,\n",
    "#          2.2785e-03, 1.1905e-03, 3.6243e-03, 1.3961e-04, 2.8770e-04, 4.3434e-04])\n",
    "\n",
    "# plt.plot(aaa)\n",
    "# aaa.sum()"
   ]
  },
  {
   "cell_type": "code",
   "execution_count": null,
   "metadata": {},
   "outputs": [],
   "source": []
  },
  {
   "cell_type": "code",
   "execution_count": null,
   "metadata": {},
   "outputs": [],
   "source": []
  },
  {
   "cell_type": "code",
   "execution_count": null,
   "metadata": {},
   "outputs": [],
   "source": []
  },
  {
   "cell_type": "code",
   "execution_count": null,
   "metadata": {},
   "outputs": [],
   "source": []
  },
  {
   "cell_type": "code",
   "execution_count": null,
   "metadata": {},
   "outputs": [],
   "source": []
  },
  {
   "cell_type": "code",
   "execution_count": null,
   "metadata": {},
   "outputs": [],
   "source": []
  },
  {
   "cell_type": "code",
   "execution_count": null,
   "metadata": {},
   "outputs": [],
   "source": []
  },
  {
   "cell_type": "code",
   "execution_count": null,
   "metadata": {},
   "outputs": [],
   "source": [
    "# training_params['FS_Extracted']"
   ]
  },
  {
   "cell_type": "code",
   "execution_count": null,
   "metadata": {},
   "outputs": [],
   "source": [
    "# criterion.loss_weights"
   ]
  },
  {
   "cell_type": "code",
   "execution_count": null,
   "metadata": {},
   "outputs": [],
   "source": [
    "criterion = MultiTaskLoss(training_params)\n",
    "# criterion"
   ]
  },
  {
   "cell_type": "code",
   "execution_count": null,
   "metadata": {},
   "outputs": [],
   "source": [
    "# training_params['regression_names']"
   ]
  },
  {
   "cell_type": "code",
   "execution_count": null,
   "metadata": {},
   "outputs": [],
   "source": []
  },
  {
   "cell_type": "code",
   "execution_count": null,
   "metadata": {},
   "outputs": [],
   "source": []
  },
  {
   "cell_type": "code",
   "execution_count": null,
   "metadata": {},
   "outputs": [],
   "source": []
  },
  {
   "cell_type": "code",
   "execution_count": null,
   "metadata": {},
   "outputs": [],
   "source": [
    "# training_params['xf_dict']['xf_masked'].shape\n",
    "# training_params['xf_dict']['last_layer_dim']"
   ]
  },
  {
   "cell_type": "code",
   "execution_count": null,
   "metadata": {},
   "outputs": [],
   "source": []
  },
  {
   "cell_type": "code",
   "execution_count": null,
   "metadata": {},
   "outputs": [],
   "source": [
    "# dataloaders"
   ]
  },
  {
   "cell_type": "code",
   "execution_count": null,
   "metadata": {},
   "outputs": [],
   "source": []
  },
  {
   "cell_type": "code",
   "execution_count": null,
   "metadata": {},
   "outputs": [],
   "source": [
    "# dataloaders, dataset_sizes = get_loaders(inputdir, training_params)\n",
    "\n",
    "# # data = dataloaders['val'].dataset.data[:5,:,:]\n",
    "# # data = torch.from_numpy(data)\n",
    "\n",
    "# # feature = dataloaders['val'].dataset.feature[:5,:]\n",
    "# # feature = torch.from_numpy(feature)\n",
    "\n",
    "# label = dataloaders['val'].dataset.label"
   ]
  },
  {
   "cell_type": "code",
   "execution_count": null,
   "metadata": {},
   "outputs": [],
   "source": [
    "# label[:,0,:].mean(axis=-1).shape"
   ]
  },
  {
   "cell_type": "code",
   "execution_count": null,
   "metadata": {},
   "outputs": [],
   "source": []
  },
  {
   "cell_type": "code",
   "execution_count": null,
   "metadata": {},
   "outputs": [],
   "source": []
  },
  {
   "cell_type": "code",
   "execution_count": null,
   "metadata": {},
   "outputs": [],
   "source": [
    "# /6000//4//4//4//4//4"
   ]
  },
  {
   "cell_type": "code",
   "execution_count": null,
   "metadata": {},
   "outputs": [],
   "source": []
  },
  {
   "cell_type": "code",
   "execution_count": null,
   "metadata": {},
   "outputs": [],
   "source": [
    "# out['EErq_cosmedperc'].size(), label.size()"
   ]
  },
  {
   "cell_type": "code",
   "execution_count": null,
   "metadata": {},
   "outputs": [],
   "source": [
    "# a = torch.rand(10,1)\n",
    "# aaa = []\n",
    "# aaa.append(a)\n",
    "# aaa\n",
    "# # print(a.transpose(0,3).size())\n",
    "# # print(a.permute(3,2,1,0).size())"
   ]
  },
  {
   "cell_type": "code",
   "execution_count": null,
   "metadata": {},
   "outputs": [],
   "source": [
    "# torch.concat(aaa, -1).size()"
   ]
  },
  {
   "cell_type": "code",
   "execution_count": null,
   "metadata": {},
   "outputs": [],
   "source": [
    "# pytorch_total_params/(10**6)"
   ]
  },
  {
   "cell_type": "code",
   "execution_count": null,
   "metadata": {},
   "outputs": [],
   "source": [
    "# pytorch_total_params = sum(p.numel() for p in model.parameters() if p.requires_grad)\n"
   ]
  },
  {
   "cell_type": "code",
   "execution_count": null,
   "metadata": {},
   "outputs": [],
   "source": [
    "# del model"
   ]
  },
  {
   "cell_type": "code",
   "execution_count": null,
   "metadata": {},
   "outputs": [],
   "source": []
  },
  {
   "cell_type": "code",
   "execution_count": null,
   "metadata": {},
   "outputs": [],
   "source": []
  },
  {
   "cell_type": "markdown",
   "metadata": {},
   "source": [
    "# define training, validating, and evaluating funcitons "
   ]
  },
  {
   "cell_type": "code",
   "execution_count": null,
   "metadata": {},
   "outputs": [],
   "source": []
  },
  {
   "cell_type": "code",
   "execution_count": null,
   "metadata": {},
   "outputs": [],
   "source": []
  },
  {
   "cell_type": "code",
   "execution_count": null,
   "metadata": {},
   "outputs": [],
   "source": []
  },
  {
   "cell_type": "code",
   "execution_count": null,
   "metadata": {},
   "outputs": [],
   "source": [
    "outputdir"
   ]
  },
  {
   "cell_type": "markdown",
   "metadata": {},
   "source": [
    "## train, val, eval model"
   ]
  },
  {
   "cell_type": "code",
   "execution_count": null,
   "metadata": {},
   "outputs": [],
   "source": [
    "if training_params['wandb']:\n",
    "    os.environ[\"WANDB_DIR\"] = os.path.abspath(outputdir)\n",
    "    os.environ[\"WANDB_NOTEBOOK_NAME\"] = 'DL_regression'\n",
    "    wandb.login()\n"
   ]
  },
  {
   "cell_type": "code",
   "execution_count": null,
   "metadata": {},
   "outputs": [],
   "source": []
  },
  {
   "cell_type": "code",
   "execution_count": null,
   "metadata": {},
   "outputs": [],
   "source": [
    "# outputdir_numeric = outputdir + 'numeric_results/'\n",
    "# if outputdir_numeric is not None:\n",
    "#     if not os.path.exists(outputdir_numeric):\n",
    "#         os.makedirs(outputdir_numeric)\n",
    "        \n",
    "    \n",
    "# outputdir_modelout = outputdir + 'model_output/'\n",
    "# if outputdir_modelout is not None:\n",
    "#     if not os.path.exists(outputdir_modelout):\n",
    "#         os.makedirs(outputdir_modelout)\n",
    "        \n",
    "        "
   ]
  },
  {
   "cell_type": "code",
   "execution_count": null,
   "metadata": {},
   "outputs": [],
   "source": [
    "def get_sweep_folder(training_params):\n",
    "    n_block = training_params['n_block']\n",
    "    inputs_combined = '+'.join([ i_name.split('_')[0] for i_name in training_params['input_names']])\n",
    "    main_weight = training_params['loss_weights']['main_task']\n",
    "    auxillary_weight = training_params['loss_weights']['auxillary_task']\n",
    "    channel_n = training_params['channel_n']\n",
    "    \n",
    "    auxillary_task = training_params['auxillary_tasks'][0]\n",
    "\n",
    "    # sweep_folder = '{}blocks-{}-weight{}+{}-{}ch-act{}-{}'.format(n_block, inputs_combined, auxillary_weight, adversarial_weight, channel_n, list_act, training_params['regressor_type'])\n",
    "    sweep_folder = '{}blocks-{}-weight{}+{}-{}'.format(n_block, inputs_combined, main_weight, auxillary_weight, auxillary_task)\n",
    "\n",
    "    return sweep_folder\n"
   ]
  },
  {
   "cell_type": "code",
   "execution_count": null,
   "metadata": {},
   "outputs": [],
   "source": []
  },
  {
   "cell_type": "code",
   "execution_count": null,
   "metadata": {},
   "outputs": [],
   "source": []
  },
  {
   "cell_type": "code",
   "execution_count": null,
   "metadata": {},
   "outputs": [],
   "source": []
  },
  {
   "cell_type": "code",
   "execution_count": null,
   "metadata": {},
   "outputs": [],
   "source": [
    "def get_outputdirs(training_params):\n",
    "\n",
    "    outputdir = training_params['outputdir']\n",
    "    sweep_folder = get_sweep_folder(training_params)\n",
    "    outputdir_sweep = outputdir+'{}/'.format(sweep_folder)\n",
    "\n",
    "    outputdir_numeric = outputdir_sweep + 'numeric_results/'\n",
    "    if outputdir_numeric is not None:\n",
    "        if not os.path.exists(outputdir_numeric):\n",
    "            os.makedirs(outputdir_numeric)\n",
    "\n",
    "    outputdir_modelout = outputdir_sweep + 'model_output/'\n",
    "    if outputdir_modelout is not None:\n",
    "        if not os.path.exists(outputdir_modelout):\n",
    "            os.makedirs(outputdir_modelout)\n",
    "\n",
    "    outputdir_activation = outputdir_sweep + 'activation_layers/'\n",
    "    if outputdir_activation is not None:\n",
    "        if not os.path.exists(outputdir_activation):\n",
    "            os.makedirs(outputdir_activation)\n",
    "\n",
    "    outputdir_feature = outputdir_sweep + 'feature_visualization/'\n",
    "    if outputdir_feature is not None:\n",
    "        if not os.path.exists(outputdir_feature):\n",
    "            os.makedirs(outputdir_feature)\n",
    "\n",
    "    training_params['outputdir_sweep'] = outputdir_sweep\n",
    "    training_params['outputdir_numeric'] = outputdir_numeric\n",
    "    training_params['outputdir_modelout'] = outputdir_modelout\n",
    "    training_params['outputdir_activation'] = outputdir_activation\n",
    "    training_params['outputdir_feature'] = outputdir_feature\n",
    "\n",
    "    return training_params"
   ]
  },
  {
   "cell_type": "code",
   "execution_count": null,
   "metadata": {},
   "outputs": [],
   "source": [
    "# training_params['CV_config']['subject_id'] = 108"
   ]
  },
  {
   "cell_type": "code",
   "execution_count": null,
   "metadata": {},
   "outputs": [],
   "source": [
    "# training_params['xgb_regressor'] = XGBRegressor(learning_rate=0.05, max_depth=50, subsample=0.6, colsample_bytree=0.7, n_estimators=100, min_child_weight=2, gamma=0.001, verbosity=0)\n",
    "\n",
    "# dataloaders, dataset_sizes = get_loaders(inputdir, training_params)\n",
    "\n",
    "# feature_train = dataloaders['train'].dataset.feature\n",
    "# feature_val = dataloaders['val'].dataset.feature\n",
    "\n",
    "# label_train = dataloaders['train'].dataset.label[:,[-1]]\n",
    "# label_val = dataloaders['val'].dataset.label[:,[-1]]\n",
    "\n",
    "# training_params['xgb_regressor'] = training_params['xgb_regressor'].fit(feature_train, label_train)\n",
    "# label_est_train = training_params['xgb_regressor'].predict(feature_train)\n",
    "# label_est_val = training_params['xgb_regressor'].predict(feature_val)\n",
    "\n",
    "\n",
    "# print(get_df_performance(label_train, label_est_train, 501, 'VO2_cosmed-scg'))\n",
    "# print(get_df_performance(label_val, label_est_val, 501, 'VO2_cosmed-scg'))\n",
    "\n",
    "# sys.exit()\n",
    "\n"
   ]
  },
  {
   "cell_type": "code",
   "execution_count": null,
   "metadata": {},
   "outputs": [],
   "source": [
    "debug_auxillary = False\n",
    "\n",
    "def train_master(training_params):\n",
    "    \n",
    "    training_params['regression_names'] = get_regression_names(training_params)\n",
    "    training_params = get_outputdirs(training_params) # could be tricky since it changes several keys\n",
    "    training_params['xf_dict'] = update_freq_meta(training_params)\n",
    "\n",
    "    pprint.pprint(training_params)\n",
    "    \n",
    "    df_performance_train = {}\n",
    "    df_performance_val = {}\n",
    "\n",
    "    df_outputlabel_train = {}\n",
    "    df_outputlabel_val = {}\n",
    "\n",
    "#     for task in training_params['tasks']:\n",
    "    for task in training_params['regression_names']:\n",
    "\n",
    "        df_performance_train[task] = pd.DataFrame()\n",
    "        df_performance_val[task] = pd.DataFrame()\n",
    "\n",
    "        df_outputlabel_train[task] = pd.DataFrame()\n",
    "        df_outputlabel_val[task] = pd.DataFrame()\n",
    "\n",
    "#     ordered_subject_ids = np.asarray([115, 107, 113, 110, 101, 104, 106, 121, 212, 102, 103, 111, 114, 116, 118, 119, 120])\n",
    "#     ordered_subject_ids = np.asarray([107, 113, 110, 101, 104, 115, 106, 121, 212, 102, 103, 111, 114, 116, 118, 119, 120])\n",
    "#         ordered_subject_ids = np.asarray([101, 110, 113, 119, 115, 107, 104, 106, 121, 212, 102, 103, 111, 114, 116, 118, 120])\n",
    "#     ordered_subject_ids = np.asarray([101, 110, 113, 119, 115])\n",
    "\n",
    "    ordered_subject_ids = training_params['ordered_subject_ids']\n",
    "    # main_task = training_params['output_names'][0].split('-')[0]\n",
    "    main_task = training_params['main_task'][0] # VO2_cosmed\n",
    "\n",
    "    # for subject_id in training_params['subject_ids']:\n",
    "    for i_CV, subject_id in enumerate(ordered_subject_ids):\n",
    "        \n",
    "        if 'CV_max' in training_params:\n",
    "            if i_CV >= training_params['CV_max']:\n",
    "                continue\n",
    "                \n",
    "        if subject_id in training_params['CV_config']['reject_subject_id']:\n",
    "            continue\n",
    "\n",
    "        training_params['CV_config']['subject_id'] = subject_id\n",
    "\n",
    "        # device = torch.device('cuda:{}'.format(int(training_params['cuda_i'])) if torch.cuda.is_available() else 'cpu')\n",
    "        print('using device', training_params['device'])\n",
    "\n",
    "\n",
    "        print('using model ', training_params['model_name'])\n",
    "\n",
    "#         training_params = get_regressor_names(training_params)\n",
    "        model = cardioresp_multiverse(training_params=training_params)\n",
    "#         print(model)\n",
    "        \n",
    "        model = model.to(device).float()\n",
    "        \n",
    "        \n",
    "\n",
    "        \n",
    "\n",
    "        if training_params['regressor_type']=='CardioRespXGBRegression':\n",
    "            training_params['xgb_regressor'] = XGBRegressor(learning_rate=0.05, max_depth=50, subsample=0.6, colsample_bytree=0.7, n_estimators=100, min_child_weight=2, gamma=0.001, verbosity=0)\n",
    "\n",
    "#             dataloaders, dataset_sizes = get_loaders(inputdir, training_params)\n",
    "\n",
    "#             feature_train = dataloaders['train'].dataset.feature\n",
    "#             feature_val = dataloaders['val'].dataset.feature\n",
    "\n",
    "#             label_train = dataloaders['train'].dataset.label\n",
    "#             label_val = dataloaders['val'].dataset.label\n",
    "\n",
    "#             training_params['xgb_regressor'] = training_params['xgb_regressor'].fit(feature_train, label_train)\n",
    "#             label_est_train = training_params['xgb_regressor'].predict(feature_train)\n",
    "#             label_est_val = training_params['xgb_regressor'].predict(feature_val)\n",
    "\n",
    "\n",
    "#             print(get_df_performance(label_train, label_est_train, 501, 'VO2_cosmed-scg'))\n",
    "#             print(get_df_performance(label_val, label_est_val, 501, 'VO2_cosmed-scg'))\n",
    "        \n",
    "#             sys.exit()\n",
    "            \n",
    "            \n",
    "            \n",
    "            \n",
    "            \n",
    "            \n",
    "            \n",
    "        \n",
    "\n",
    "        \n",
    "        if training_params['optimizer_name'] == 'Adam':\n",
    "            optimizer = torch.optim.Adam(model.parameters(), lr=training_params['learning_rate'], weight_decay=0.1)\n",
    "        # optimizer = torch.optim.Adam(model.parameters(), lr=training_params['learning_rate'], weight_decay=0.9)\n",
    "        elif training_params['optimizer_name'] == 'LBFGS':\n",
    "            optimizer =  torch.optim.LBFGS(model.parameters(), history_size=10, max_iter=4)\n",
    "\n",
    "        criterion = MultiTaskLoss(training_params)\n",
    "        \n",
    "        training_params['criterion'] = criterion\n",
    "        training_params['optimizer'] = optimizer\n",
    "        training_params['inputdir'] = inputdir\n",
    "        \n",
    "\n",
    "        \n",
    "#         print( training_params['regressor_names'])\n",
    "        CV_dict = train_model(model, training_params, trainer, evaler, preder)\n",
    "\n",
    "        # print(CV_dict.keys())\n",
    "        \n",
    "        # print(CV_dict['total_losses_train'])\n",
    "        # sys.exit()\n",
    "\n",
    "        plot_losses(CV_dict, outputdir=training_params['outputdir_sweep'], show_plot=False, fig_name='loss_{}'.format(subject_id))\n",
    "\n",
    "        \n",
    "        ############### IMPLEMENT Deep Learning Logger ###############\n",
    "        # print(CV_dict.keys())\n",
    "        # sys.exit()\n",
    "\n",
    "#         TODO: fix this code\n",
    "#         print(training_params['regressor_names'])\n",
    "        \n",
    "#         for task in CV_dict['performance_dict_train']['out_dict'].keys():\n",
    "        for task in training_params['regression_names']:\n",
    "            # if main_task in task:\n",
    "            #     continue\n",
    "#             print(task, df_performance_train)\n",
    "\n",
    "#         for task in training_params['tasks']:\n",
    "\n",
    "#             print( CV_dict['performance_dict_val']['out_dict'].keys(), CV_dict['performance_dict_val']['label_dict'].keys(), task)\n",
    "            label_est_val = CV_dict['performance_dict_val']['out_dict'][task]\n",
    "            label_val = CV_dict['performance_dict_val']['label_dict'][task]\n",
    "\n",
    "            label_est_train = CV_dict['performance_dict_train']['out_dict'][task]\n",
    "            label_train = CV_dict['performance_dict_train']['label_dict'][task]\n",
    "            \n",
    "            # print(label_train, label_est_train)\n",
    "            # print(len(label_train), len(label_est_train))\n",
    "            # print(task, CV_dict['performance_dict_train']['out_dict'].keys(), CV_dict['performance_dict_train']['label_dict'].keys(), label_train.shape, label_est_train.shape)\n",
    "            \n",
    "            # rescale the label after making estimations\n",
    "            if 'perc' in training_params['output_names'][0]:\n",
    "                i_meta = training_params['meta_names'].index('EEavg_est')\n",
    "#                 print(CV_dict['performance_dict_train']['meta_arr'], CV_dict['performance_dict_train']['meta_arr'].shape)\n",
    "                meta_train = CV_dict['performance_dict_train']['meta_arr'][:, i_meta]\n",
    "                meta_val = CV_dict['performance_dict_val']['meta_arr'][:, i_meta]\n",
    "\n",
    "                label_train = label_train*meta_train\n",
    "                label_val = label_val*meta_val\n",
    "                label_est_train = label_est_train*meta_train\n",
    "                label_est_val = label_est_val*meta_val\n",
    "            elif '_weighted' in training_params['output_names'][0]:\n",
    "                i_meta = training_params['meta_names'].index('weight')\n",
    "                meta_train = CV_dict['performance_dict_train']['meta_arr'][:, i_meta]\n",
    "                meta_val = CV_dict['performance_dict_val']['meta_arr'][:, i_meta]\n",
    "\n",
    "                label_train = label_train*meta_train\n",
    "                label_val = label_val*meta_val\n",
    "                label_est_train = label_est_train*meta_train\n",
    "                label_est_val = label_est_val*meta_val\n",
    "\n",
    "            \n",
    "            # get performance df for training and testing dataset\n",
    "            df_performance_train[task] = df_performance_train[task].append( get_df_performance(label_train, label_est_train, subject_id, task), ignore_index=True )\n",
    "\n",
    "            df_performance_train[task].to_csv(training_params['outputdir_numeric'] + 'df_performance_train_{}.csv'.format(task), index=False)\n",
    "\n",
    "            df_outputlabel_train[task] = df_outputlabel_train[task].append(\n",
    "                pd.DataFrame( {\n",
    "                'label_est': label_est_train,\n",
    "                'label': label_train,\n",
    "                'CV': [subject_id]*label_train.shape[0],\n",
    "                'task': [task]*label_train.shape[0]\n",
    "                }), ignore_index=True )\n",
    "\n",
    "            df_outputlabel_train[task].to_csv(training_params['outputdir_numeric'] + 'df_outputlabel_train_{}.csv'.format(task), index=False)\n",
    "\n",
    "            df_performance_val[task] = df_performance_val[task].append( get_df_performance(label_val, label_est_val, subject_id, task), ignore_index=True )\n",
    "            df_performance_val[task].to_csv(training_params['outputdir_numeric'] + 'df_performance_val_{}.csv'.format(task), index=False)\n",
    "\n",
    "            df_outputlabel_val[task] = df_outputlabel_val[task].append(\n",
    "                pd.DataFrame( {\n",
    "                'label_est': label_est_val,\n",
    "                'label': label_val,\n",
    "                'CV': [subject_id]*label_val.shape[0],\n",
    "                'task': [task]*label_val.shape[0]\n",
    "                }), ignore_index=True )\n",
    "\n",
    "            df_outputlabel_val[task].to_csv(training_params['outputdir_numeric'] + 'df_outputlabel_val_{}.csv'.format(task), index=False)\n",
    "\n",
    "            # plot performance training and testing dataset\n",
    "            # if (main_task not in task) and (debug_auxillary==False):\n",
    "            #     continue\n",
    "            \n",
    "            plot_regression(df_outputlabel_train[task], task, training_params, fig_name='regression_train_{}'.format(task), show_plot=False, outputdir=training_params['outputdir_modelout'], log_wandb=training_params['wandb'])\n",
    "            plot_regression(df_outputlabel_val[task], task, training_params, fig_name='regression_val_{}'.format(task), show_plot=False, outputdir=training_params['outputdir_modelout'], log_wandb=training_params['wandb'])\n",
    "            # plot_regression(df_outputlabel_train[task], df_performance_train[task], task, fig_name='regression_train_{}'.format(task), show_plot=False, outputdir=outputdir+'model_output/')\n",
    "#             plot_BA(df_outputlabel_train[task], task, fig_name='BA_train_{}'.format(task), show_plot=False, outputdir=outputdir+'model_output/')\n",
    "\n",
    "            # plot_regression(df_outputlabel_val[task], task, training_params, fig_name='regression_val_{}'.format(task), show_plot=False, outputdir=outputdir_modelout, log_wandb=training_params['wandb'])\n",
    "#             plot_BA(df_outputlabel_val[task], task, fig_name='BA_val_{}'.format(task), show_plot=False, outputdir=outputdir+'model_output/')\n",
    "\n",
    "            # plot_output(df_outputlabel_train[task], task, fig_name = 'outputINtime_train_{}'.format(task), show_plot=False, outputdir=outputdir_modelout)\n",
    "            plot_output(df_outputlabel_val[task], task, fig_name = 'outputINtime_val_{}'.format(task), show_plot=False, outputdir=training_params['outputdir_modelout'])\n",
    "        \n",
    "        \n",
    "            # TODO: add feature importance\n",
    "            # if 'XGB' in training_params['model_name']:\n",
    "            #     plot_feature_importances(training_params['feature_names'], model.feature_importances_, fig_name='feature_importance_'+str(subject_id), outputdir=training_params['outputdir_featureimportance'], show_plot=False, log_wandb=training_params['wandb'])\n",
    "\n",
    "\n",
    "        # check_featuremap(model, training_params, mode='worst', fig_name = 'DL_activation_{}_'.format(subject_id), outputdir=outputdir+'activation_layers_worst/{}/'.format(subject_id), show_plot=False)\n",
    "        # check_featuremap(model, training_params, mode='best', fig_name = 'DL_activation_{}_'.format(subject_id), outputdir=outputdir+'activation_layers_best/{}/'.format(subject_id), show_plot=False)\n",
    "\n",
    "        if 'CNNlight' in training_params['model_name']:\n",
    "            check_featuremap(model, training_params, mode='worst', fig_name = 'DL_activation_{}_'.format(subject_id), outputdir=training_params['outputdir_activation']+'worst/{}/'.format(subject_id), show_plot=False)\n",
    "            check_featuremap(model, training_params, mode='best', fig_name = 'DL_activation_{}_'.format(subject_id), outputdir=training_params['outputdir_activation']+'best/{}/'.format(subject_id), show_plot=False)\n",
    "        \n",
    "        del model\n",
    "        torch.cuda.empty_cache()\n",
    "\n",
    "\n",
    "    for task in training_params['regression_names']:\n",
    "        # if task!=main_task:\n",
    "        # if main_task in task:\n",
    "        #     continue\n",
    "        plot_regression_all_agg(df_outputlabel_train[task], training_params, fig_name='LinearR_agg_train_{}'.format(task), show_plot=False, outputdir=training_params['outputdir_modelout'], log_wandb=training_params['wandb'])\n",
    "        plot_BA(df_outputlabel_train[task], task, training_params, fig_name='BA_train_{}'.format(task), show_plot=False, outputdir=training_params['outputdir_modelout'], log_wandb=training_params['wandb'])\n",
    "\n",
    "        plot_regression_all_agg(df_outputlabel_val[task], training_params, fig_name='LinearR_agg_val_{}'.format(task), show_plot=False, outputdir=training_params['outputdir_modelout'], log_wandb=training_params['wandb'])\n",
    "        plot_BA(df_outputlabel_val[task], task, training_params, fig_name='BA_val_{}'.format(task), show_plot=False, outputdir=training_params['outputdir_modelout'], log_wandb=training_params['wandb'])\n",
    "\n",
    "        plot_output(df_outputlabel_val[task], task, fig_name = 'outputINtime_val_{}'.format(task),  show_plot=False, outputdir=training_params['outputdir_modelout'])\n",
    "\n",
    "#     plot_BA(df_outputlabel_val[main_task], main_task, fig_name='BA_val_{}'.format(main_task), show_plot=False, outputdir=outputdir+'model_output/', log_wandb=training_params['wandb'])\n",
    "#     plot_regression_all_agg(df_outputlabel_val[main_task], df_performance_val[main_task], outputdir=outputdir+'model_output/', show_plot=False, log_wandb=training_params['wandb'])\n",
    "\n",
    "    # log metrices on wnadb\n",
    "    if training_params['wandb']==True:\n",
    "        \n",
    "        task = training_params['regression_names'][-1]\n",
    "        # W&B\n",
    "        label = df_outputlabel_val[task]['label'].values\n",
    "        label_est = df_outputlabel_val[task]['label_est'].values\n",
    "    \n",
    "        PCC = get_PCC(label, label_est)\n",
    "        Rsquared = get_CoeffDeterm(label, label_est)\n",
    "        MAE, _ = get_MAE(label, label_est)\n",
    "        RMSE = get_RMSE(label, label_est)\n",
    "        MAPE, _ = get_MAPE(label, label_est)\n",
    "        \n",
    "        # print()\n",
    "\n",
    "        wandb.log(\n",
    "            {\n",
    "                'val_MAE': MAE,\n",
    "                'val_RMSE': RMSE,\n",
    "                'val_MAPE': MAPE,\n",
    "                'val_PCC': PCC,\n",
    "                'val_Rsquared': Rsquared,\n",
    "            })"
   ]
  },
  {
   "cell_type": "code",
   "execution_count": null,
   "metadata": {},
   "outputs": [],
   "source": []
  },
  {
   "cell_type": "code",
   "execution_count": null,
   "metadata": {},
   "outputs": [],
   "source": []
  },
  {
   "cell_type": "code",
   "execution_count": null,
   "metadata": {},
   "outputs": [],
   "source": []
  },
  {
   "cell_type": "code",
   "execution_count": null,
   "metadata": {},
   "outputs": [],
   "source": [
    "# plot_output"
   ]
  },
  {
   "cell_type": "code",
   "execution_count": null,
   "metadata": {},
   "outputs": [],
   "source": [
    "# check_featuremap"
   ]
  },
  {
   "cell_type": "code",
   "execution_count": null,
   "metadata": {},
   "outputs": [],
   "source": [
    "def train_sweep(config=None):\n",
    "\n",
    "#     with wandb.init(config=config, entity='inanlab', project=\"[TL] stage2_cnn\", reinit=True, dir=outputdir):\n",
    "    with wandb.init(config=config, reinit=True, dir=outputdir):\n",
    "\n",
    "        # If called by wandb.agent, as below,\n",
    "        # this config will be set by Sweep Controller\n",
    "        config = wandb.config\n",
    "        \n",
    "        print(config)\n",
    "        \n",
    "        # init the model\n",
    "        \n",
    "        for key in config.keys():\n",
    "            if key=='loss_weights':\n",
    "#                 training_params[key]['RR_cosmed'] = config[key]\n",
    "                training_params[key]['auxillary_task'] = config[key]\n",
    "            else:\n",
    "                training_params[key] = config[key]\n",
    "\n",
    "\n",
    "        train_master(training_params)\n"
   ]
  },
  {
   "cell_type": "code",
   "execution_count": null,
   "metadata": {},
   "outputs": [],
   "source": [
    "# outputdir"
   ]
  },
  {
   "cell_type": "code",
   "execution_count": null,
   "metadata": {},
   "outputs": [],
   "source": []
  },
  {
   "cell_type": "markdown",
   "metadata": {},
   "source": [
    "# TODO: use training_params['regressor_names'] for looping"
   ]
  },
  {
   "cell_type": "code",
   "execution_count": null,
   "metadata": {},
   "outputs": [],
   "source": []
  },
  {
   "cell_type": "code",
   "execution_count": null,
   "metadata": {
    "tags": []
   },
   "outputs": [],
   "source": [
    "if training_params['wandb']:\n",
    "    print('sweeping for:', sweep_name)\n",
    "    sweep_config = training_params['sweep_config']    \n",
    "#     with wandb.init(config=config, entity='inanlab', project=\"[TL] stage2_cnn\", reinit=True, dir=outputdir):\n",
    "    sweep_id = wandb.sweep(sweep_config, entity='inanlab', project='[VO2] stage4_'+training_params['sweep_name'])\n",
    "\n",
    "#     sweep_id = wandb.sweep(sweep_config, project=sweep_name)\n",
    "    wandb.agent(sweep_id, train_sweep)\n",
    "    \n",
    "else:\n",
    "    train_master(training_params)\n"
   ]
  },
  {
   "cell_type": "code",
   "execution_count": null,
   "metadata": {},
   "outputs": [],
   "source": []
  },
  {
   "cell_type": "code",
   "execution_count": null,
   "metadata": {},
   "outputs": [],
   "source": []
  },
  {
   "cell_type": "code",
   "execution_count": null,
   "metadata": {},
   "outputs": [],
   "source": [
    "# aaa = np.random.rand(10,2, 5)\n",
    "# aaa[:,[-1],:] - aaa[:,[1],:]\n",
    "# # bbb = [aaa,aaa,aaa]\n",
    "\n",
    "# # # np.concatenate(bbb, axis=0).shape"
   ]
  },
  {
   "cell_type": "code",
   "execution_count": null,
   "metadata": {},
   "outputs": [],
   "source": [
    "sys.exit()"
   ]
  },
  {
   "cell_type": "code",
   "execution_count": null,
   "metadata": {},
   "outputs": [],
   "source": [
    "# training_params['regression_names']"
   ]
  },
  {
   "cell_type": "code",
   "execution_count": null,
   "metadata": {},
   "outputs": [],
   "source": []
  },
  {
   "cell_type": "code",
   "execution_count": null,
   "metadata": {},
   "outputs": [],
   "source": []
  },
  {
   "cell_type": "code",
   "execution_count": null,
   "metadata": {},
   "outputs": [],
   "source": [
    "# xf, yf = get_psd(aaa, training_params['FS_Extracted'])\n",
    "# mask = training_params['xf_dict']['mask']\n",
    "# xf, yf = xf[mask], yf[mask]\n",
    "\n",
    "# yf = yf / np.sum(yf)\n",
    "\n",
    "# plt.plot(xf, yf, color='r')\n",
    "\n",
    "\n",
    "# yf = get_smooth(yf, N=5)\n",
    "# yf = yf / np.sum(yf)\n",
    "\n",
    "# plt.plot(xf, yf, color='g')\n",
    "# thre = np.mean(yf)\n",
    "# yf = yf > thre\n",
    "\n",
    "# plt.axhline(y=thre, color = 'black', linestyle = '-')\n",
    "\n",
    "\n",
    "\n",
    "# #         # attention dim: (N_batch, 1, N_spectral)\n",
    "# #         attention = attention / torch.sum(attention, axis=-1)[:,None]\n",
    "        \n",
    "# #         attention = attention > torch.mean(attention, axis=-1, keepdim=True)\n",
    "        \n",
    "# plt.plot(xf, yf*0.1, color='b')\n"
   ]
  },
  {
   "cell_type": "code",
   "execution_count": null,
   "metadata": {},
   "outputs": [],
   "source": []
  },
  {
   "cell_type": "code",
   "execution_count": null,
   "metadata": {},
   "outputs": [],
   "source": []
  },
  {
   "cell_type": "code",
   "execution_count": null,
   "metadata": {},
   "outputs": [],
   "source": [
    "xf, yf = get_psd(aaa, training_params['FS_Extracted'])\n",
    "mask = training_params['xf_dict']['mask']\n",
    "xf, yf = xf[mask], yf[mask]\n",
    "\n",
    "yf = yf / np.sum(yf)\n",
    "\n",
    "plt.plot(xf, yf, color='r')\n",
    "\n",
    "\n",
    "freq_smooth_dur = 5/60 # Hz\n",
    "freq_smooth_win = round(freq_smooth_dur / np.mean(np.diff(xf)))\n",
    "m = MyAvgPool1dPadSame(kernel_size=freq_smooth_win, stride=1)\n",
    "yf = m(torch.tensor(yf)[None,None,:]).data.numpy().squeeze()\n",
    "yf = yf / np.sum(yf)\n",
    "\n",
    "plt.plot(xf, yf, color='g')\n",
    "\n",
    "thre = np.mean(yf)\n",
    "yf = yf > thre\n",
    "\n",
    "plt.axhline(y=thre, color = 'black', linestyle = '-')\n",
    "\n",
    "\n",
    "\n",
    "#         # attention dim: (N_batch, 1, N_spectral)\n",
    "#         attention = attention / torch.sum(attention, axis=-1)[:,None]\n",
    "        \n",
    "#         attention = attention > torch.mean(attention, axis=-1, keepdim=True)\n",
    "        \n",
    "plt.plot(xf, yf*0.1, color='b')\n"
   ]
  },
  {
   "cell_type": "code",
   "execution_count": null,
   "metadata": {},
   "outputs": [],
   "source": [
    "# np.diff(xf).mean()*5*60"
   ]
  },
  {
   "cell_type": "code",
   "execution_count": null,
   "metadata": {
    "tags": []
   },
   "outputs": [],
   "source": [
    "#  # pool with window of size=3, stride=2\n",
    "# # m = nn.AvgPool1d(3, stride=2)\n",
    "# m = MyAvgPool1dPadSame(kernel_size=5, stride=1)\n",
    "\n",
    "# m(torch.tensor([[[1.,2,3,4,5,6,7]]]))\n",
    "# # tensor([[[2., 4., 6.]]])"
   ]
  },
  {
   "cell_type": "code",
   "execution_count": null,
   "metadata": {},
   "outputs": [],
   "source": []
  },
  {
   "cell_type": "code",
   "execution_count": null,
   "metadata": {},
   "outputs": [],
   "source": []
  },
  {
   "cell_type": "code",
   "execution_count": null,
   "metadata": {},
   "outputs": [],
   "source": []
  },
  {
   "cell_type": "code",
   "execution_count": null,
   "metadata": {},
   "outputs": [],
   "source": [
    "# output[0,0,:].data"
   ]
  },
  {
   "cell_type": "code",
   "execution_count": null,
   "metadata": {},
   "outputs": [],
   "source": [
    "# aaa = np.asarray([4.9318e-03, 1.8592e-03, 9.5891e-05, 2.1410e-03, 1.3981e-03, 2.1862e-03,\n",
    "#          9.1652e-04, 1.1898e-03, 4.2834e-03, 2.0347e-03, 9.0313e-04, 7.2308e-04,\n",
    "#          2.5379e-05, 2.9226e-06, 1.1659e-04, 4.1590e-04, 5.3798e-04, 3.3394e-03,\n",
    "#          7.4029e-04, 4.8722e-04, 1.3113e-04, 1.4025e-04, 4.9307e-04, 2.5466e-03,\n",
    "#          2.2407e-05, 5.1205e-04, 8.6850e-04, 8.9891e-04, 8.3321e-04, 9.3217e-03,\n",
    "#          1.6669e-02, 6.1397e-03, 2.1338e-03, 9.4983e-03, 8.8742e-04, 4.5685e-03,\n",
    "#          3.4168e-03, 5.2777e-02, 6.9013e-02, 3.2854e-02, 9.5061e-03, 1.2595e-02,\n",
    "#          2.3820e-02, 4.1812e-02, 1.6963e-03, 3.4776e-03, 1.6782e-02, 6.8160e-02,\n",
    "#          6.1125e-02, 3.9940e-02, 6.6870e-02, 2.9888e-02, 2.9963e-03, 8.2860e-03,\n",
    "#          1.4142e-02, 2.4290e-02, 4.2113e-02, 1.2658e-02, 2.2494e-03, 8.6111e-03,\n",
    "#          1.2756e-02, 4.9209e-03, 1.1262e-02, 1.0279e-02, 7.5581e-03, 6.8916e-03,\n",
    "#          1.1477e-02, 1.2462e-03, 6.6909e-04, 2.1137e-03, 4.9572e-03, 1.2304e-03,\n",
    "#          3.3512e-03, 2.2216e-03, 1.6912e-03, 3.0258e-05, 1.7783e-03, 1.8671e-03,\n",
    "#          8.5413e-04, 1.3006e-03, 1.4560e-03, 9.2660e-04, 3.8354e-04, 2.7420e-03,\n",
    "#          1.0710e-03, 8.0289e-04, 9.4691e-04, 1.2004e-03, 6.8786e-06, 2.0108e-03,\n",
    "#          1.3057e-03, 1.6074e-03, 1.4333e-03, 1.4365e-03, 1.2830e-03, 1.2402e-03,\n",
    "#          2.6816e-04, 1.2215e-03, 1.4014e-03, 7.7748e-04, 1.9362e-03, 2.5233e-03,\n",
    "#          1.0370e-03, 6.8396e-03, 8.8858e-04, 2.3557e-04, 3.7620e-03, 8.8876e-04,\n",
    "#          2.5983e-03, 1.1598e-02, 5.9735e-04, 2.3998e-03, 2.5019e-03, 8.6332e-04,\n",
    "#          6.4410e-03, 3.0878e-03, 2.5139e-03, 7.8923e-03, 4.8320e-03, 5.8025e-03,\n",
    "#          2.7127e-03, 5.7349e-03, 2.3905e-03, 2.9149e-03, 3.0401e-03, 4.7084e-03,\n",
    "#          2.8913e-03, 5.0407e-03, 3.8702e-04, 3.3179e-03, 3.7352e-03, 4.4817e-03,\n",
    "#          4.9848e-03, 7.9694e-04, 6.2886e-04, 3.0062e-03, 2.8625e-04, 1.4691e-03,\n",
    "#          2.1919e-03, 2.1231e-04, 4.7940e-03, 2.1574e-03, 3.7265e-03, 6.2052e-03,\n",
    "#          1.3208e-03, 2.4067e-03, 3.1266e-03, 1.0073e-03, 3.6399e-03, 2.3950e-03])"
   ]
  },
  {
   "cell_type": "code",
   "execution_count": null,
   "metadata": {},
   "outputs": [],
   "source": [
    "# aaa.sum()"
   ]
  },
  {
   "cell_type": "code",
   "execution_count": null,
   "metadata": {},
   "outputs": [],
   "source": [
    "# plt.plot(aaa)"
   ]
  },
  {
   "cell_type": "code",
   "execution_count": null,
   "metadata": {},
   "outputs": [],
   "source": [
    "# bbb.shape"
   ]
  },
  {
   "cell_type": "code",
   "execution_count": null,
   "metadata": {},
   "outputs": [],
   "source": [
    "# bbb = np.asarray([0.1041, 0.0074, 0.0374, 0.0076, 0.0482, 0.0377, 0.0207, 0.1453, 0.1050,\n",
    "#          0.1209, 0.0587, 0.0647, 0.0111, 0.1239, 0.0383, 0.0144, 0.0241, 0.0828,\n",
    "#          0.0018, 0.0268, 0.0022, 0.0836, 0.0165, 0.0495, 0.0170, 0.0058, 0.0117,\n",
    "#          0.0048, 0.0274, 0.0045, 0.0633, 0.0111, 0.0390, 0.0012, 0.0069, 0.0315,\n",
    "#          0.0065, 0.0252, 0.0373, 0.0097, 0.0329, 0.0336, 0.0518, 0.0139, 0.0031,\n",
    "#          0.0547, 0.0107, 0.0314, 0.0170, 0.0238, 0.0115, 0.0631, 0.0032, 0.0279,\n",
    "#          0.0112, 0.0039, 0.0006, 0.0113, 0.0108, 0.0096, 0.0151, 0.0213, 0.0392,\n",
    "#          0.0326, 0.0035, 0.0064, 0.0054, 0.0086, 0.0079, 0.0159, 0.0194, 0.0065,\n",
    "#          0.0024, 0.0211, 0.0131, 0.0023, 0.0029, 0.0211, 0.0026, 0.0071, 0.0050,\n",
    "#          0.0042, 0.0020, 0.0033, 0.0057, 0.0059, 0.0202, 0.0031, 0.0108, 0.0013,\n",
    "#          0.0050, 0.0006, 0.0046, 0.0086, 0.0022, 0.0007, 0.0010, 0.0021, 0.0110,\n",
    "#          0.0068, 0.0056, 0.0009, 0.0017, 0.0003, 0.0025, 0.0063, 0.0036, 0.0041,\n",
    "#          0.0016, 0.0026, 0.0088, 0.0052, 0.0105, 0.0019, 0.0039, 0.0020, 0.0056,\n",
    "#          0.0042, 0.0020, 0.0087, 0.0048, 0.0077, 0.0088, 0.0034, 0.0003, 0.0022,\n",
    "#          0.0118, 0.0080, 0.0257, 0.0154, 0.0098, 0.0046, 0.0044, 0.0005, 0.0100,\n",
    "#          0.0025, 0.0006, 0.0080, 0.0015, 0.0142, 0.0057, 0.0002, 0.0098, 0.0035,\n",
    "#          0.0022, 0.0015, 0.0015, 0.0014, 0.0025, 0.0039])\n",
    "\n",
    "# plt.plot(bbb)"
   ]
  },
  {
   "cell_type": "code",
   "execution_count": null,
   "metadata": {},
   "outputs": [],
   "source": []
  },
  {
   "cell_type": "code",
   "execution_count": null,
   "metadata": {},
   "outputs": [],
   "source": []
  },
  {
   "cell_type": "code",
   "execution_count": null,
   "metadata": {},
   "outputs": [],
   "source": []
  },
  {
   "cell_type": "code",
   "execution_count": null,
   "metadata": {},
   "outputs": [],
   "source": []
  },
  {
   "cell_type": "code",
   "execution_count": null,
   "metadata": {},
   "outputs": [],
   "source": [
    "# m = nn.Conv1d(1, 1, 3, stride=2)\n",
    "# input = torch.randn(20, 50)\n",
    "# output = m(input)\n",
    "\n",
    "\n",
    "# input.size(), output.size()"
   ]
  },
  {
   "cell_type": "code",
   "execution_count": null,
   "metadata": {},
   "outputs": [],
   "source": []
  },
  {
   "cell_type": "code",
   "execution_count": null,
   "metadata": {},
   "outputs": [],
   "source": [
    "aaa = np.asarray([5.3437e-03, 3.6864e-03, 1.5292e-04, 3.7428e-03, 2.6902e-03, 1.5494e-02,\n",
    "        1.3207e-03, 9.2764e-03, 4.2300e-03, 1.5911e-04, 1.7298e-03, 3.7749e-03,\n",
    "        1.5546e-03, 4.1842e-03, 1.4296e-02, 1.5041e-02, 2.0562e-03, 4.5357e-03,\n",
    "        7.9420e-03, 7.9889e-03, 4.0036e-03, 4.1210e-03, 1.1345e-03, 3.0050e-03,\n",
    "        6.4833e-03, 1.1382e-02, 1.1144e-03, 6.3085e-03, 3.5701e-03, 2.1206e-04,\n",
    "        4.2701e-03, 1.2318e-02, 2.2914e-04, 7.7528e-04, 1.0026e-02, 9.3665e-03,\n",
    "        6.3418e-03, 4.4856e-03, 2.2846e-02, 1.2376e-03, 1.4948e-04, 1.1605e-03,\n",
    "        7.3457e-03, 2.5778e-03, 2.5736e-03, 6.4193e-03, 9.0101e-05, 2.6893e-03,\n",
    "        4.9503e-04, 5.2108e-03, 1.5219e-03, 6.4911e-04, 6.9016e-03, 1.8700e-03,\n",
    "        1.4943e-03, 5.0318e-03, 5.3181e-03, 6.2182e-03, 3.3400e-03, 7.6717e-03,\n",
    "        6.8074e-03, 1.5398e-04, 1.1451e-02, 4.0713e-03, 1.1958e-04, 1.2139e-03,\n",
    "        1.9655e-03, 5.3921e-04, 5.0288e-04, 2.8994e-03, 1.5928e-03, 3.5208e-03,\n",
    "        4.3517e-04, 7.9188e-03, 2.4276e-02, 3.4877e-02, 7.9202e-03, 1.0764e-02,\n",
    "        2.7668e-02, 3.5894e-04, 9.3397e-03, 1.0740e-02, 9.4329e-04, 1.3412e-02,\n",
    "        1.2535e-02, 7.3750e-03, 2.1291e-02, 2.2505e-02, 3.3350e-02, 2.6492e-02,\n",
    "        4.9210e-02, 4.6921e-03, 1.8403e-02, 2.0003e-02, 1.0038e-02, 2.5028e-02,\n",
    "        7.9771e-03, 3.4629e-02, 2.1029e-02, 1.0655e-02, 1.4322e-02, 1.4417e-02,\n",
    "        6.0756e-03, 5.8774e-03, 1.9156e-03, 1.1861e-02, 1.7499e-03, 1.3629e-02,\n",
    "        3.9087e-03, 1.1734e-02, 1.3291e-02, 2.8977e-03, 1.0334e-02, 4.0272e-03,\n",
    "        1.3923e-02, 1.1590e-02, 3.9119e-03, 1.5331e-02, 2.3961e-03, 5.9866e-04,\n",
    "        4.4034e-03, 3.0225e-03, 8.0228e-04, 2.1584e-03, 3.4088e-03, 3.0489e-03,\n",
    "        6.4845e-04, 2.4841e-04, 6.8686e-04, 1.1738e-03, 3.8620e-03, 1.3162e-03,\n",
    "        2.7241e-03, 1.9421e-03, 1.3692e-03, 5.5525e-04, 1.1072e-03, 3.6162e-04,\n",
    "        3.3007e-04, 1.7437e-04, 8.3627e-04, 5.1627e-04, 1.7131e-04, 1.6989e-04,\n",
    "        1.8390e-04, 7.0175e-04, 3.2733e-05, 7.7581e-05, 1.1002e-04, 2.0829e-04])"
   ]
  },
  {
   "cell_type": "code",
   "execution_count": null,
   "metadata": {},
   "outputs": [],
   "source": []
  },
  {
   "cell_type": "code",
   "execution_count": null,
   "metadata": {},
   "outputs": [],
   "source": [
    "plt.plot(training_params['xf_dict']['xf_masked'], aaa)"
   ]
  },
  {
   "cell_type": "code",
   "execution_count": null,
   "metadata": {},
   "outputs": [],
   "source": [
    "wandb.finish()"
   ]
  },
  {
   "cell_type": "code",
   "execution_count": null,
   "metadata": {},
   "outputs": [],
   "source": []
  },
  {
   "cell_type": "code",
   "execution_count": null,
   "metadata": {},
   "outputs": [],
   "source": []
  },
  {
   "cell_type": "code",
   "execution_count": null,
   "metadata": {},
   "outputs": [],
   "source": []
  },
  {
   "cell_type": "code",
   "execution_count": null,
   "metadata": {},
   "outputs": [],
   "source": []
  },
  {
   "cell_type": "code",
   "execution_count": null,
   "metadata": {},
   "outputs": [],
   "source": [
    "\n",
    "datetime_end = datetime.now(tz_NY)\n",
    "print(\"end time:\", datetime_end.strftime(\"%Y-%b-%d %H:%M:%S\"))\n",
    "\n",
    "duration = datetime_end-datetime_start\n",
    "duration_in_s = duration.total_seconds()\n",
    "days    = divmod(duration_in_s, 86400)        # Get days (without [0]!)\n",
    "hours   = divmod(days[1], 3600)               # Use remainder of days to calc hours\n",
    "minutes = divmod(hours[1], 60)                # Use remainder of hours to calc minutes\n",
    "seconds = divmod(minutes[1], 1)               # Use remainder of minutes to calc seconds\n",
    "print(\"Time between dates: %d days, %d hours, %d minutes and %d seconds\" % (days[0], hours[0], minutes[0], seconds[0]))"
   ]
  },
  {
   "cell_type": "code",
   "execution_count": null,
   "metadata": {},
   "outputs": [],
   "source": [
    "sys.exit()"
   ]
  },
  {
   "cell_type": "code",
   "execution_count": null,
   "metadata": {},
   "outputs": [],
   "source": []
  },
  {
   "cell_type": "code",
   "execution_count": null,
   "metadata": {},
   "outputs": [],
   "source": [
    "training_params['model_name']"
   ]
  },
  {
   "cell_type": "code",
   "execution_count": null,
   "metadata": {},
   "outputs": [],
   "source": [
    "# # def get_activation(name):\n",
    "# #     activation = {}\n",
    "# #     def hook(model, input, output):\n",
    "# #         activation[name] = output.detach()\n",
    "# #     return hook\n",
    "    \n",
    "# def model_hooking(model, training_params, get_activation):\n",
    "\n",
    "#     model_name = training_params['model_name']\n",
    "    \n",
    "#     if model_name=='FeatureExtractor_CNN2':\n",
    "#         key = list(model.feature_extractors.keys())[0]\n",
    "#         model.feature_extractors[key].layer1.register_forward_hook(get_activation('layer1'))\n",
    "#         model.feature_extractors[key].layer2.register_forward_hook(get_activation('layer2'))\n",
    "#         model.feature_extractors[key].layer3.register_forward_hook(get_activation('layer3'))\n",
    "#         model.feature_extractors[key].layer4.register_forward_hook(get_activation('layer4'))\n",
    "#         model.regressors.EE_cosmed.fc1.register_forward_hook(get_activation('fc1'))\n",
    "#         model.regressors.EE_cosmed.fc2.register_forward_hook(get_activation('fc2'))\n",
    "        \n",
    "# #         layer_names = ['layer1', ]\n",
    "        \n",
    "#     elif model_name=='FeatureExtractor_CNN':\n",
    "#         key = list(model.feature_extractors.keys())[0]\n",
    "#         model.feature_extractors[key].layer1.register_forward_hook(get_activation('layer1'))\n",
    "#         model.feature_extractors[key].layer2.register_forward_hook(get_activation('layer2'))\n",
    "#         model.feature_extractors[key].layer3.register_forward_hook(get_activation('layer3'))\n",
    "#         model.feature_extractors[key].layer4.register_forward_hook(get_activation('layer4'))\n",
    "#         model.regressors.EE_cosmed.fc1.register_forward_hook(get_activation('fc1'))\n",
    "#         model.regressors.EE_cosmed.fc2.register_forward_hook(get_activation('fc2'))\n",
    "#     if model_name=='ResNet1D':\n",
    "#         pass\n",
    "# #         key = list(model.feature_extractors.keys())[0]\n",
    "# #         model.feature_extractors[key].layer1.register_forward_hook(get_activation('layer1'))\n",
    "# #         model.feature_extractors[key].layer2.register_forward_hook(get_activation('layer2'))\n",
    "# #         model.feature_extractors[key].layer3.register_forward_hook(get_activation('layer3'))\n",
    "# #         model.feature_extractors[key].layer4.register_forward_hook(get_activation('layer4'))\n",
    "# #         model.regressors.EE_cosmed.fc1.register_forward_hook(get_activation('fc1'))\n",
    "# #         model.regressors.EE_cosmed.fc2.register_forward_hook(get_activation('fc2'))\n"
   ]
  },
  {
   "cell_type": "code",
   "execution_count": null,
   "metadata": {},
   "outputs": [],
   "source": [
    "# training_params['model_name']"
   ]
  },
  {
   "cell_type": "code",
   "execution_count": null,
   "metadata": {},
   "outputs": [],
   "source": []
  },
  {
   "cell_type": "code",
   "execution_count": null,
   "metadata": {},
   "outputs": [],
   "source": []
  },
  {
   "cell_type": "markdown",
   "metadata": {},
   "source": [
    "# TODO: improve this block"
   ]
  },
  {
   "cell_type": "code",
   "execution_count": null,
   "metadata": {},
   "outputs": [],
   "source": []
  },
  {
   "cell_type": "code",
   "execution_count": null,
   "metadata": {},
   "outputs": [],
   "source": []
  },
  {
   "cell_type": "code",
   "execution_count": null,
   "metadata": {},
   "outputs": [],
   "source": []
  },
  {
   "cell_type": "code",
   "execution_count": null,
   "metadata": {},
   "outputs": [],
   "source": []
  },
  {
   "cell_type": "code",
   "execution_count": null,
   "metadata": {},
   "outputs": [],
   "source": []
  },
  {
   "cell_type": "code",
   "execution_count": null,
   "metadata": {},
   "outputs": [],
   "source": [
    "performance_dict_train = preder(model, dataloaders['train'], training_params)\n",
    "performance_dict_val = preder(model, dataloaders['val'], training_params)\n",
    "\n",
    "unit = unit_dict[task.split('_')[0]]\n",
    "\n",
    "for task in training_params['tasks']:\n",
    "    \n",
    "    \n",
    "    print('evaluating task:', task)\n",
    "    MAE, std_AE = get_MAE(performance_dict_train['out_dict'][task], performance_dict_train['label_dict'][task])\n",
    "    print('\\ttrainin: {:.2f}±{:.2f} {}'.format(MAE, std_AE, unit))\n",
    "\n",
    "    MAE, std_AE = get_MAE(performance_dict_val['out_dict'][task], performance_dict_val['label_dict'][task])\n",
    "    print('\\tval: {:.2f}±{:.2f} {}'.format(MAE, std_AE, unit))\n",
    "\n"
   ]
  },
  {
   "cell_type": "code",
   "execution_count": null,
   "metadata": {},
   "outputs": [],
   "source": []
  },
  {
   "cell_type": "code",
   "execution_count": null,
   "metadata": {},
   "outputs": [],
   "source": []
  },
  {
   "cell_type": "code",
   "execution_count": null,
   "metadata": {},
   "outputs": [],
   "source": []
  },
  {
   "cell_type": "markdown",
   "metadata": {},
   "source": [
    "# produce output figures\n",
    "# TODO: implement the plotting functions below"
   ]
  },
  {
   "cell_type": "markdown",
   "metadata": {},
   "source": [
    "# TODO!!!!\n",
    "\n",
    "# for task in tasks\n",
    "#     plot_loss vs epoch (train and val)\n",
    "#     plot_MAE, RMSE, vs epoch (train and val)\n",
    "#     plot scatter plots (show PCC, BD, std, ect.) (just val)\n",
    "#     plot output vs. label (just val)"
   ]
  },
  {
   "cell_type": "code",
   "execution_count": null,
   "metadata": {},
   "outputs": [],
   "source": []
  },
  {
   "cell_type": "code",
   "execution_count": null,
   "metadata": {},
   "outputs": [],
   "source": [
    "output_name = training_params['output_names'][0].split('_')[0]\n",
    "unit_dict[output_name]"
   ]
  },
  {
   "cell_type": "code",
   "execution_count": null,
   "metadata": {},
   "outputs": [],
   "source": [
    "# kcalpmin2watt = 69.7333333\n",
    "\n",
    "# sub_weight = 76"
   ]
  },
  {
   "cell_type": "code",
   "execution_count": null,
   "metadata": {},
   "outputs": [],
   "source": [
    "# performance_dict_train['label_dict']"
   ]
  },
  {
   "cell_type": "code",
   "execution_count": null,
   "metadata": {},
   "outputs": [],
   "source": [
    "training_params['tasks']"
   ]
  },
  {
   "cell_type": "code",
   "execution_count": null,
   "metadata": {},
   "outputs": [],
   "source": [
    "for task in training_params['tasks']:\n",
    "    fig, (ax1, ax2) = plt.subplots(1,2, figsize=(10,5), dpi=100)\n",
    "    fontsize = 15\n",
    "    data_min = np.min(np.r_[performance_dict_train['out_dict'][task], performance_dict_train['label_dict'][task]])\n",
    "    data_max = np.max(np.r_[performance_dict_train['out_dict'][task], performance_dict_train['label_dict'][task]])\n",
    "    ax1.scatter(performance_dict_train['out_dict'][task], performance_dict_train['label_dict'][task], alpha=0.3)\n",
    "    ax1.set_xlim(data_min, data_max)\n",
    "    ax1.set_ylim(data_min, data_max)\n",
    "    ax1.plot( [data_min, data_max],[data_min, data_max], '--', color='gray', alpha=0.8)\n",
    "\n",
    "    ax1.set_xlabel('estimated {} ({})'.format(task.split('_')[0], unit_dict[task.split('_')[0]]), fontsize=fontsize)\n",
    "    ax1.set_ylabel('true {} ({})'.format(task.split('_')[0], unit_dict[task.split('_')[0]]), fontsize=fontsize)\n",
    "#     ax.set_xlabel('estimated {} ({})'.format(output_name, 'W'), fontsize=fontsize)\n",
    "#     ax.set_ylabel('true {} ({})'.format(output_name, 'W'), fontsize=fontsize)\n",
    "\n",
    "    ax1.set_title('training', fontsize=fontsize)\n",
    "\n",
    "\n",
    "#     fig, ax = plt.subplots(figsize=(5,5))\n",
    "#     fontsize = 15\n",
    "    data_min = np.min(np.r_[performance_dict_val['out_dict'][task], performance_dict_val['label_dict'][task]])\n",
    "    data_max = np.max(np.r_[performance_dict_val['out_dict'][task], performance_dict_val['label_dict'][task]])\n",
    "    ax2.scatter(performance_dict_val['out_dict'][task], performance_dict_val['label_dict'][task], alpha=0.3)\n",
    "    ax2.set_xlim(data_min, data_max)\n",
    "    ax2.set_ylim(data_min, data_max)\n",
    "    ax2.plot( [data_min, data_max],[data_min, data_max], '--', color='gray', alpha=0.8)\n",
    "\n",
    "    ax2.set_xlabel('estimated {} ({})'.format(task.split('_')[0], unit_dict[task.split('_')[0]]), fontsize=fontsize)\n",
    "    ax2.set_ylabel('true {} ({})'.format(task.split('_')[0], unit_dict[task.split('_')[0]]), fontsize=fontsize)\n",
    "    \n",
    "    ax2.set_title('testing', fontsize=fontsize)\n",
    "\n",
    "#     ax.set_xlabel('estimated {} ({})'.format(output_name, 'W'), fontsize=fontsize)\n",
    "#     ax.set_ylabel('true {} ({})'.format(output_name, 'W'), fontsize=fontsize)\n",
    "    plt.show()\n",
    "\n"
   ]
  },
  {
   "cell_type": "code",
   "execution_count": null,
   "metadata": {},
   "outputs": [],
   "source": []
  },
  {
   "cell_type": "code",
   "execution_count": null,
   "metadata": {},
   "outputs": [],
   "source": []
  }
 ],
 "metadata": {
  "kernelspec": {
   "display_name": "mienv",
   "language": "python",
   "name": "mienv"
  },
  "language_info": {
   "codemirror_mode": {
    "name": "ipython",
    "version": 3
   },
   "file_extension": ".py",
   "mimetype": "text/x-python",
   "name": "python",
   "nbconvert_exporter": "python",
   "pygments_lexer": "ipython3",
   "version": "3.7.16"
  }
 },
 "nbformat": 4,
 "nbformat_minor": 4
}
